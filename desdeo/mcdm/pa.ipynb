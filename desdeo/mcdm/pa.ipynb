{
 "cells": [
  {
   "cell_type": "code",
   "execution_count": 1,
   "metadata": {
    "metadata": {}
   },
   "outputs": [],
   "source": [
    "import warnings\n",
    "warnings.filterwarnings('ignore')\n",
    "#warnings.filterwarnings(action='once')"
   ]
  },
  {
   "cell_type": "code",
   "execution_count": 5,
   "metadata": {
    "metadata": {}
   },
   "outputs": [
    {
     "name": "stdout",
     "output_type": "stream",
     "text": [
      "maxmin_cones\n",
      "number of Objs:3, number of DMs:4\n",
      "`gtol` termination condition is satisfied.\n",
      "Number of iterations: 32, function evaluations: 162, CG iterations: 50, optimality: 8.82e-13, constraint violation: 2.22e-16, execution time: 0.062 s.\n",
      "[0.45317009 0.63881718 0.6724232 ]\n",
      "{'DM1': {'f_1': 0.5, 'f_2': 0.8, 'f_3': 0.7}, 'DM2': {'f_1': 0.5, 'f_2': 0.7, 'f_3': 0.8}, 'DM3': {'f_1': 0.5, 'f_2': 0.3, 'f_3': 0.5}, 'DM4': {'f_1': 0.2, 'f_2': 0.5, 'f_3': 0.5}}\n",
      "None\n",
      "{'f_1': 0.4851436639748217, 'f_2': 0.6672148372697848, 'f_3': 0.7005276426385306}\n",
      "reachable solution: {'f_1': 0.4851436639748217, 'f_2': 0.6672148372697848, 'f_3': 0.7005276426385306}\n"
     ]
    }
   ],
   "source": [
    "import numpy as np\n",
    "import numpy.testing as npt\n",
    "#from fixtures import dtlz2_5x_3f_data_based  # noqa: F401\n",
    "\n",
    "\n",
    "import polars as pl\n",
    "\n",
    "import pandas as pd\n",
    "\n",
    "\n",
    "from desdeo.mcdm.nautili import (\n",
    "    calculate_distance_to_front,\n",
    "    calculate_navigation_point,\n",
    "    solve_reachable_bounds,\n",
    "    solve_reachable_solution,\n",
    "    agg_maxmin, \n",
    "    agg_maxmin_cones,\n",
    "    nautili_all_steps,\n",
    "    NAUTILI_Response, \n",
    "    aggregate,\n",
    "    nautili_all_steps,\n",
    "    nautili_init\n",
    ")\n",
    "\n",
    "from desdeo.problem import (\n",
    "    binh_and_korn,\n",
    "    momip_ti7,\n",
    "    objective_dict_to_numpy_array,\n",
    "    river_pollution_problem,\n",
    "    get_nadir_dict,\n",
    "    get_ideal_dict,\n",
    "    dtlz2,\n",
    "    #variable_dict_to_numpy_array,\n",
    "    objective_dict_to_numpy_array\n",
    ")\n",
    "from desdeo.tools import (\n",
    "    BonminOptions,\n",
    "    NevergradGenericOptions,\n",
    "    NevergradGenericSolver,\n",
    "    PyomoBonminSolver,\n",
    "    ScipyMinimizeSolver,\n",
    ")\n",
    "\n",
    "\n",
    "#def test_dtzl2(pref_agg_method):\n",
    "    #problem = river_pollution_problem\n",
    "problem = dtlz2(10,3)\n",
    "nadir = get_nadir_dict(problem)\n",
    "ideal = get_ideal_dict(problem)\n",
    "total_steps = 5\n",
    "pref_agg_method=\"maxmin_cones\"\n",
    "DMs = 4\n",
    "\n",
    "initial_response = nautili_init(problem)\n",
    "rps = {\n",
    "    \"DM1\": {\"f_1\": 0.5, \"f_2\": 0.8, \"f_3\": 0.7}, # dm1 and dm2 prefer f1\n",
    "    \"DM2\": {\"f_1\": 0.5, \"f_2\": 0.7, \"f_3\": 0.8},\n",
    "    \"DM3\": {\"f_1\": 0.5, \"f_2\": 0.3, \"f_3\": 0.5},\n",
    "    \"DM4\": {\"f_1\": 0.2, \"f_2\": 0.5, \"f_3\": 0.5},\n",
    "\n",
    "}\n",
    "all_resp = nautili_all_steps(\n",
    "    problem,\n",
    "    total_steps,\n",
    "    rps,\n",
    "    [initial_response], # Note that this is a list of NAUTILUS_Response objects\n",
    "    pref_agg_method=pref_agg_method, # used pref agg method\n",
    ")\n",
    "#print(all_resp)\n",
    "print(all_resp[-1].reference_points)\n",
    "print(all_resp[-1].group_improvement_direction)\n",
    "print(all_resp[-1].navigation_point)\n",
    "print(\"reachable solution:\", all_resp[-1].reachable_solution)\n",
    "\n",
    "#return all_resp"
   ]
  },
  {
   "cell_type": "code",
   "execution_count": 8,
   "metadata": {
    "metadata": {}
   },
   "outputs": [
    {
     "name": "stdout",
     "output_type": "stream",
     "text": [
      "{'f_1': 3.0, 'f_2': -3.0, 'f_3': 3.0}\n",
      "{'f_1': -3.0, 'f_2': 3.0, 'f_3': -3.0}\n"
     ]
    }
   ],
   "source": [
    "problem2 = momip_ti7() # does not work for some reason\n",
    "nadir = get_nadir_dict(problem2)\n",
    "ideal = get_ideal_dict(problem2)\n",
    "print(nadir)\n",
    "print(ideal)\n",
    "# f1 min, f2 max, f3 min"
   ]
  },
  {
   "cell_type": "code",
   "execution_count": 14,
   "metadata": {
    "metadata": {}
   },
   "outputs": [
    {
     "name": "stdout",
     "output_type": "stream",
     "text": [
      "{'f_1': 140.0, 'f_2': 50.0}\n",
      "{'f_1': 0.0, 'f_2': 0.0}\n"
     ]
    }
   ],
   "source": [
    "problem2 = binh_and_korn() # does not work for some reason\n",
    "nadir = get_nadir_dict(problem2)\n",
    "ideal = get_ideal_dict(problem2)\n",
    "print(nadir)\n",
    "print(ideal)"
   ]
  },
  {
   "cell_type": "code",
   "execution_count": 3,
   "metadata": {
    "metadata": {}
   },
   "outputs": [
    {
     "name": "stdout",
     "output_type": "stream",
     "text": [
      "maxmin_cones\n",
      "number of Objs:3, number of DMs:5\n",
      "`gtol` termination condition is satisfied.\n",
      "Number of iterations: 37, function evaluations: 210, CG iterations: 68, optimality: 2.31e-13, constraint violation: 4.44e-16, execution time: 0.095 s.\n",
      "[0.58870359 0.55494609 0.47245054]\n",
      "{'DM1': {'f_1': 0.8, 'f_2': 0.5, 'f_3': 0.5}, 'DM2': {'f_1': 0.62, 'f_2': 0.62, 'f_3': 0.58}, 'DM3': {'f_1': 0.5, 'f_2': 0.7, 'f_3': 0.53}, 'DM4': {'f_1': 0.3, 'f_2': 0.3, 'f_3': 0.15}, 'DM5': {'f_1': 0.2, 'f_2': 0.5, 'f_3': 0.25}}\n",
      "{'f_1': 0.4279911095404503, 'f_2': 0.4444579683260891, 'f_3': 0.13038740812972682}\n",
      "{'f_1': 3.657132581846952e-29, 'f_2': -1.04744440165294e-14, 'f_3': 3.0}\n",
      "reachable solution: {'f_1': 3.657132581846952e-29, 'f_2': -1.04744440165294e-14, 'f_3': 3.0}\n"
     ]
    }
   ],
   "source": [
    "total_steps = 5\n",
    "steps_remaining = 1\n",
    "## take a step back\n",
    "pref_agg_method=\"maxmin_cones\"\n",
    "\n",
    "all_resp_one = all_resp[:4]\n",
    "# Navigation point: {'f_1': 1.0166947028186726, 'f_2': 0.9994040585920181, 'f_3': 0.6028379478090141}\n",
    "rps = {\n",
    "    \"DM1\": {\"f_1\": 0.8, \"f_2\": 0.5, \"f_3\": 0.5}, # dm1 and dm2 prefer f1\n",
    "    \"DM2\": {\"f_1\": 0.62, \"f_2\": 0.62, \"f_3\": 0.58},\n",
    "    \"DM3\": {\"f_1\": 0.5, \"f_2\": 0.7, \"f_3\": 0.53},\n",
    "    \"DM4\": {\"f_1\": 0.3, \"f_2\": 0.3, \"f_3\": 0.15},\n",
    "    \"DM5\": {\"f_1\": 0.2, \"f_2\": 0.5, \"f_3\": 0.25},\n",
    "    #\"DM4\": {\"f_1\": 0.5, \"f_2\": 0.6, \"f_3\": 0.8},\n",
    "}\n",
    "all_resp_new = nautili_all_steps(\n",
    "    problem,\n",
    "    steps_remaining,\n",
    "    rps,\n",
    "    all_resp_one, # Note that this is a list of NAUTILUS_Response objects\n",
    "    pref_agg_method=pref_agg_method, # used pref agg method\n",
    ")\n",
    "#print(all_resp)\n",
    "print(all_resp_new[-1].reference_points)\n",
    "print(all_resp_new[-1].group_improvement_direction)\n",
    "print(all_resp_new[-1].navigation_point)\n",
    "print(\"reachable solution:\", all_resp_new[-1].reachable_solution)"
   ]
  },
  {
   "cell_type": "code",
   "execution_count": 4,
   "metadata": {
    "metadata": {}
   },
   "outputs": [
    {
     "data": {
      "text/plain": [
       "[NAUTILI_Response(step_number=5, distance_to_front=100.0, reference_points={'DM1': {'f_1': 0.8, 'f_2': 0.5, 'f_3': 0.5}, 'DM2': {'f_1': 0.62, 'f_2': 0.62, 'f_3': 0.58}, 'DM3': {'f_1': 0.5, 'f_2': 0.7, 'f_3': 0.53}, 'DM4': {'f_1': 0.3, 'f_2': 0.3, 'f_3': 0.15}, 'DM5': {'f_1': 0.2, 'f_2': 0.5, 'f_3': 0.25}}, improvement_directions={'DM1': array([0.2166947 , 0.49940406, 0.10283795]), 'DM2': array([0.3966947 , 0.37940406, 0.02283795]), 'DM3': array([0.5166947 , 0.29940406, 0.07283795]), 'DM4': array([0.7166947 , 0.69940406, 0.45283795]), 'DM5': array([0.8166947 , 0.49940406, 0.35283795])}, group_improvement_direction={'f_1': 0.4279911095404503, 'f_2': 0.4444579683260891, 'f_3': 0.13038740812972682}, group_reference_point={'f_1': 0.5887035932782223, 'f_2': 0.554946090265929, 'f_3': 0.4724505396792873}, navigation_point={'f_1': 3.657132581846952e-29, 'f_2': -1.04744440165294e-14, 'f_3': 3.0}, reachable_solution={'f_1': 3.657132581846952e-29, 'f_2': -1.04744440165294e-14, 'f_3': 3.0}, reachable_bounds={'lower_bounds': {'f_1': 3.657132581846952e-29, 'f_2': -1.0471387119458414e-14, 'f_3': 2.125}, 'upper_bounds': {'f_1': 3.657132581846952e-29, 'f_2': -1.04744440165294e-14, 'f_3': 3.0}})]"
      ]
     },
     "execution_count": 4,
     "metadata": {},
     "output_type": "execute_result"
    }
   ],
   "source": [
    "all_resp_new"
   ]
  },
  {
   "cell_type": "code",
   "execution_count": 7,
   "metadata": {
    "metadata": {}
   },
   "outputs": [
    {
     "data": {
      "text/plain": [
       "[NAUTILI_Response(step_number=1, distance_to_front=20.0, reference_points={'DM1': {'f_1': 0.8, 'f_2': 0.4, 'f_3': 0.7}, 'DM2': {'f_1': 0.62, 'f_2': 0.62, 'f_3': 0.8}, 'DM3': {'f_1': 0.5, 'f_2': 0.7, 'f_3': 0.53}, 'DM4': {'f_1': 0.3, 'f_2': 0.3, 'f_3': 0.15}, 'DM5': {'f_1': 0.2, 'f_2': 0.5, 'f_3': 0.25}}, improvement_directions={'DM1': array([1.2, 1.6, 1.3]), 'DM2': array([1.38, 1.38, 1.2 ]), 'DM3': array([1.5 , 1.3 , 1.47]), 'DM4': array([1.7 , 1.7 , 1.85]), 'DM5': array([1.8 , 1.5 , 1.75])}, group_improvement_direction={'f_1': 1.4538189625976647, 'f_2': 1.480553318429934, 'f_3': 1.4444960861412373}, group_reference_point={'f_1': 0.5461810374023354, 'f_2': 0.519446681570066, 'f_3': 0.5555039138587626}, navigation_point={'f_1': 1.7541736757046682, 'f_2': 1.7498510146480046, 'f_3': 1.6507094869522536}, reachable_solution={'f_1': 0.7708683785233409, 'f_2': 0.7492550732400227, 'f_3': 0.2535474347612677}, reachable_bounds={'lower_bounds': {'f_1': 4.6347885317295557e-05, 'f_2': 0.0, 'f_3': 5.3147505970199763e-05}, 'upper_bounds': {'f_1': 1.7541736757046682, 'f_2': 1.7498510146480046, 'f_3': 1.6507094869522536}}),\n",
       " NAUTILI_Response(step_number=2, distance_to_front=40.0, reference_points={'DM1': {'f_1': 0.8, 'f_2': 0.4, 'f_3': 0.7}, 'DM2': {'f_1': 0.62, 'f_2': 0.62, 'f_3': 0.8}, 'DM3': {'f_1': 0.5, 'f_2': 0.7, 'f_3': 0.53}, 'DM4': {'f_1': 0.3, 'f_2': 0.3, 'f_3': 0.15}, 'DM5': {'f_1': 0.2, 'f_2': 0.5, 'f_3': 0.25}}, improvement_directions={'DM1': array([1.2, 1.6, 1.3]), 'DM2': array([1.38, 1.38, 1.2 ]), 'DM3': array([1.5 , 1.3 , 1.47]), 'DM4': array([1.7 , 1.7 , 1.85]), 'DM5': array([1.8 , 1.5 , 1.75])}, group_improvement_direction=None, group_reference_point=None, navigation_point={'f_1': 1.5083473514093364, 'f_2': 1.499702029296009, 'f_3': 1.3014189739045072}, reachable_solution={'f_1': 0.7708683785233409, 'f_2': 0.7492550732400227, 'f_3': 0.2535474347612677}, reachable_bounds={'lower_bounds': {'f_1': 8.640292442056252e-09, 'f_2': 0.0, 'f_3': 3.7031159271377627e-05}, 'upper_bounds': {'f_1': 1.5083473514093364, 'f_2': 1.499702029296009, 'f_3': 1.3014189739045072}}),\n",
       " NAUTILI_Response(step_number=3, distance_to_front=60.00000000000001, reference_points={'DM1': {'f_1': 0.8, 'f_2': 0.4, 'f_3': 0.7}, 'DM2': {'f_1': 0.62, 'f_2': 0.62, 'f_3': 0.8}, 'DM3': {'f_1': 0.5, 'f_2': 0.7, 'f_3': 0.53}, 'DM4': {'f_1': 0.3, 'f_2': 0.3, 'f_3': 0.15}, 'DM5': {'f_1': 0.2, 'f_2': 0.5, 'f_3': 0.25}}, improvement_directions={'DM1': array([1.2, 1.6, 1.3]), 'DM2': array([1.38, 1.38, 1.2 ]), 'DM3': array([1.5 , 1.3 , 1.47]), 'DM4': array([1.7 , 1.7 , 1.85]), 'DM5': array([1.8 , 1.5 , 1.75])}, group_improvement_direction=None, group_reference_point=None, navigation_point={'f_1': 1.2625210271140044, 'f_2': 1.2495530439440135, 'f_3': 0.9521284608567606}, reachable_solution={'f_1': 0.7708683785233409, 'f_2': 0.7492550732400227, 'f_3': 0.2535474347612677}, reachable_bounds={'lower_bounds': {'f_1': 3.657132581846952e-29, 'f_2': 0.0, 'f_3': 2.519967546436983e-06}, 'upper_bounds': {'f_1': 1.2625210271140044, 'f_2': 1.2495530439440135, 'f_3': 0.9521284608567606}}),\n",
       " NAUTILI_Response(step_number=4, distance_to_front=80.0, reference_points={'DM1': {'f_1': 0.8, 'f_2': 0.4, 'f_3': 0.7}, 'DM2': {'f_1': 0.62, 'f_2': 0.62, 'f_3': 0.8}, 'DM3': {'f_1': 0.5, 'f_2': 0.7, 'f_3': 0.53}, 'DM4': {'f_1': 0.3, 'f_2': 0.3, 'f_3': 0.15}, 'DM5': {'f_1': 0.2, 'f_2': 0.5, 'f_3': 0.25}}, improvement_directions={'DM1': array([1.2, 1.6, 1.3]), 'DM2': array([1.38, 1.38, 1.2 ]), 'DM3': array([1.5 , 1.3 , 1.47]), 'DM4': array([1.7 , 1.7 , 1.85]), 'DM5': array([1.8 , 1.5 , 1.75])}, group_improvement_direction=None, group_reference_point=None, navigation_point={'f_1': 1.0166947028186726, 'f_2': 0.9994040585920181, 'f_3': 0.6028379478090141}, reachable_solution={'f_1': 0.7708683785233409, 'f_2': 0.7492550732400227, 'f_3': 0.2535474347612677}, reachable_bounds={'lower_bounds': {'f_1': 3.657132581846952e-29, 'f_2': 1.257896740670473, 'f_3': 1.511114303594952}, 'upper_bounds': {'f_1': 1.0166947028186726, 'f_2': 0.9994040585920181, 'f_3': 0.6028379478090141}}),\n",
       " NAUTILI_Response(step_number=5, distance_to_front=100.0, reference_points={'DM1': {'f_1': 0.8, 'f_2': 0.4, 'f_3': 0.7}, 'DM2': {'f_1': 0.62, 'f_2': 0.62, 'f_3': 0.8}, 'DM3': {'f_1': 0.5, 'f_2': 0.7, 'f_3': 0.53}, 'DM4': {'f_1': 0.3, 'f_2': 0.3, 'f_3': 0.15}, 'DM5': {'f_1': 0.2, 'f_2': 0.5, 'f_3': 0.25}}, improvement_directions={'DM1': array([1.2, 1.6, 1.3]), 'DM2': array([1.38, 1.38, 1.2 ]), 'DM3': array([1.5 , 1.3 , 1.47]), 'DM4': array([1.7 , 1.7 , 1.85]), 'DM5': array([1.8 , 1.5 , 1.75])}, group_improvement_direction=None, group_reference_point=None, navigation_point={'f_1': 0.7708683785233409, 'f_2': 0.7492550732400227, 'f_3': 0.2535474347612677}, reachable_solution={'f_1': 0.7708683785233409, 'f_2': 0.7492550732400227, 'f_3': 0.2535474347612677}, reachable_bounds={'lower_bounds': {'f_1': 3.657132581846952e-29, 'f_2': 1.0925991456614486, 'f_3': 0.7108770828085772}, 'upper_bounds': {'f_1': 0.7708683785233409, 'f_2': 0.7492550732400227, 'f_3': 0.2535474347612677}}),\n",
       " [NAUTILI_Response(step_number=5, distance_to_front=100.0, reference_points={'DM1': {'f_1': 0.8, 'f_2': 0.5, 'f_3': 0.5}, 'DM2': {'f_1': 0.62, 'f_2': 0.62, 'f_3': 0.58}, 'DM3': {'f_1': 0.5, 'f_2': 0.7, 'f_3': 0.53}, 'DM4': {'f_1': 0.3, 'f_2': 0.3, 'f_3': 0.15}, 'DM5': {'f_1': 0.2, 'f_2': 0.5, 'f_3': 0.25}}, improvement_directions={'DM1': array([0.2166947 , 0.49940406, 0.10283795]), 'DM2': array([0.3966947 , 0.37940406, 0.02283795]), 'DM3': array([0.5166947 , 0.29940406, 0.07283795]), 'DM4': array([0.7166947 , 0.69940406, 0.45283795]), 'DM5': array([0.8166947 , 0.49940406, 0.35283795])}, group_improvement_direction={'f_1': 0.4279911095404503, 'f_2': 0.4444579683260891, 'f_3': 0.13038740812972682}, group_reference_point={'f_1': 0.5887035932782223, 'f_2': 0.554946090265929, 'f_3': 0.4724505396792873}, navigation_point={'f_1': 3.657132581846952e-29, 'f_2': -1.04744440165294e-14, 'f_3': 3.0}, reachable_solution={'f_1': 3.657132581846952e-29, 'f_2': -1.04744440165294e-14, 'f_3': 3.0}, reachable_bounds={'lower_bounds': {'f_1': 3.657132581846952e-29, 'f_2': -1.0471387119458414e-14, 'f_3': 2.125}, 'upper_bounds': {'f_1': 3.657132581846952e-29, 'f_2': -1.04744440165294e-14, 'f_3': 3.0}})]]"
      ]
     },
     "execution_count": 7,
     "metadata": {},
     "output_type": "execute_result"
    }
   ],
   "source": [
    "all_resp"
   ]
  },
  {
   "cell_type": "code",
   "execution_count": 5,
   "metadata": {
    "metadata": {}
   },
   "outputs": [],
   "source": []
  },
  {
   "cell_type": "code",
   "execution_count": 3,
   "metadata": {
    "metadata": {}
   },
   "outputs": [
    {
     "ename": "SyntaxError",
     "evalue": "unmatched ')' (3398968460.py, line 10)",
     "output_type": "error",
     "traceback": [
      "\u001b[0;36m  Cell \u001b[0;32mIn[3], line 10\u001b[0;36m\u001b[0m\n\u001b[0;31m    }print(\"boiunds\",b)rps, [initial_response], pref_agg_method)\u001b[0m\n\u001b[0m                                                               ^\u001b[0m\n\u001b[0;31mSyntaxError\u001b[0m\u001b[0;31m:\u001b[0m unmatched ')'\n"
     ]
    }
   ],
   "source": [
    "## take a step back\n",
    "\n",
    "#nadir = get_nadir_dict(problem)\n",
    "#ideal = get_ideal_dict(problem)\n",
    "\n",
    "# S1 prefs\n",
    "rps = {\n",
    "    \"DM1\": {\"f_1\": 0.5, \"f_2\": 0.9, \"f_3\": 0.9},\n",
    "    \"DM2\": {\"f_1\": 0.9, \"f_2\": 0.5, \"f_3\": 0.9},\n",
    "    \"DM3\": {\"f_1\": 0.9, \"f_2\": 0.9, \"f_3\": 0.5},\n",
    "    #\"DM4\": {\"f_1\": 0.5, \"f_2\": 0.6, \"f_3\": 0.8},\n",
    "}\n",
    "\n",
    "rps = {\n",
    "    \"DM1\": {\"f_1\": 0.8, \"f_2\": 0.7, \"f_3\": 0.6},\n",
    "    \"DM2\": {\"f_1\": 0.7, \"f_2\": 0.8, \"f_3\": 0.5},\n",
    "    \"DM3\": {\"f_1\": 0.5, \"f_2\": 0.6, \"f_3\": 0.8},\n",
    "    #\"DM4\": {\"f_1\": 0.5, \"f_2\": 0.6, \"f_3\": 0.8},\n",
    "}\n",
    "#print(\"boiunds\",b)rps, [initial_response], pref_agg_method)"
   ]
  },
  {
   "cell_type": "code",
   "execution_count": null,
   "metadata": {},
   "outputs": [],
   "source": []
  },
  {
   "cell_type": "code",
   "execution_count": 32,
   "metadata": {
    "metadata": {}
   },
   "outputs": [
    {
     "data": {
      "text/plain": [
       "[NAUTILI_Response(step_number=1, distance_to_front=20.0, reference_points={'DM1': {'f_1': 0.8, 'f_2': 0.4, 'f_3': 0.7}, 'DM2': {'f_1': 0.62, 'f_2': 0.62, 'f_3': 0.8}, 'DM3': {'f_1': 0.5, 'f_2': 0.7, 'f_3': 0.53}, 'DM4': {'f_1': 0.3, 'f_2': 0.3, 'f_3': 0.15}, 'DM5': {'f_1': 0.2, 'f_2': 0.5, 'f_3': 0.25}}, improvement_directions={'DM1': array([1.2, 1.6, 1.3]), 'DM2': array([1.38, 1.38, 1.2 ]), 'DM3': array([1.5 , 1.3 , 1.47]), 'DM4': array([1.7 , 1.7 , 1.85]), 'DM5': array([1.8 , 1.5 , 1.75])}, group_improvement_direction={'f_1': 1.4538189625976647, 'f_2': 1.480553318429934, 'f_3': 1.4444960861412373}, group_reference_point={'f_1': 0.5461810374023354, 'f_2': 0.519446681570066, 'f_3': 0.5555039138587626}, navigation_point={'f_1': 1.7541736757046682, 'f_2': 1.7498510146480046, 'f_3': 1.6507094869522536}, reachable_solution={'f_1': 0.7708683785233409, 'f_2': 0.7492550732400227, 'f_3': 0.2535474347612677}, reachable_bounds={'lower_bounds': {'f_1': 4.6347885317295557e-05, 'f_2': 0.0, 'f_3': 5.3147505970199763e-05}, 'upper_bounds': {'f_1': 1.7541736757046682, 'f_2': 1.7498510146480046, 'f_3': 1.6507094869522536}}),\n",
       " NAUTILI_Response(step_number=2, distance_to_front=40.0, reference_points={'DM1': {'f_1': 0.8, 'f_2': 0.4, 'f_3': 0.7}, 'DM2': {'f_1': 0.62, 'f_2': 0.62, 'f_3': 0.8}, 'DM3': {'f_1': 0.5, 'f_2': 0.7, 'f_3': 0.53}, 'DM4': {'f_1': 0.3, 'f_2': 0.3, 'f_3': 0.15}, 'DM5': {'f_1': 0.2, 'f_2': 0.5, 'f_3': 0.25}}, improvement_directions={'DM1': array([1.2, 1.6, 1.3]), 'DM2': array([1.38, 1.38, 1.2 ]), 'DM3': array([1.5 , 1.3 , 1.47]), 'DM4': array([1.7 , 1.7 , 1.85]), 'DM5': array([1.8 , 1.5 , 1.75])}, group_improvement_direction=None, group_reference_point=None, navigation_point={'f_1': 1.5083473514093364, 'f_2': 1.499702029296009, 'f_3': 1.3014189739045072}, reachable_solution={'f_1': 0.7708683785233409, 'f_2': 0.7492550732400227, 'f_3': 0.2535474347612677}, reachable_bounds={'lower_bounds': {'f_1': 8.640292442056252e-09, 'f_2': 0.0, 'f_3': 3.7031159271377627e-05}, 'upper_bounds': {'f_1': 1.5083473514093364, 'f_2': 1.499702029296009, 'f_3': 1.3014189739045072}}),\n",
       " NAUTILI_Response(step_number=3, distance_to_front=60.00000000000001, reference_points={'DM1': {'f_1': 0.8, 'f_2': 0.4, 'f_3': 0.7}, 'DM2': {'f_1': 0.62, 'f_2': 0.62, 'f_3': 0.8}, 'DM3': {'f_1': 0.5, 'f_2': 0.7, 'f_3': 0.53}, 'DM4': {'f_1': 0.3, 'f_2': 0.3, 'f_3': 0.15}, 'DM5': {'f_1': 0.2, 'f_2': 0.5, 'f_3': 0.25}}, improvement_directions={'DM1': array([1.2, 1.6, 1.3]), 'DM2': array([1.38, 1.38, 1.2 ]), 'DM3': array([1.5 , 1.3 , 1.47]), 'DM4': array([1.7 , 1.7 , 1.85]), 'DM5': array([1.8 , 1.5 , 1.75])}, group_improvement_direction=None, group_reference_point=None, navigation_point={'f_1': 1.2625210271140044, 'f_2': 1.2495530439440135, 'f_3': 0.9521284608567606}, reachable_solution={'f_1': 0.7708683785233409, 'f_2': 0.7492550732400227, 'f_3': 0.2535474347612677}, reachable_bounds={'lower_bounds': {'f_1': 3.657132581846952e-29, 'f_2': 0.0, 'f_3': 2.519967546436983e-06}, 'upper_bounds': {'f_1': 1.2625210271140044, 'f_2': 1.2495530439440135, 'f_3': 0.9521284608567606}}),\n",
       " NAUTILI_Response(step_number=4, distance_to_front=80.0, reference_points={'DM1': {'f_1': 0.8, 'f_2': 0.4, 'f_3': 0.7}, 'DM2': {'f_1': 0.62, 'f_2': 0.62, 'f_3': 0.8}, 'DM3': {'f_1': 0.5, 'f_2': 0.7, 'f_3': 0.53}, 'DM4': {'f_1': 0.3, 'f_2': 0.3, 'f_3': 0.15}, 'DM5': {'f_1': 0.2, 'f_2': 0.5, 'f_3': 0.25}}, improvement_directions={'DM1': array([1.2, 1.6, 1.3]), 'DM2': array([1.38, 1.38, 1.2 ]), 'DM3': array([1.5 , 1.3 , 1.47]), 'DM4': array([1.7 , 1.7 , 1.85]), 'DM5': array([1.8 , 1.5 , 1.75])}, group_improvement_direction=None, group_reference_point=None, navigation_point={'f_1': 1.0166947028186726, 'f_2': 0.9994040585920181, 'f_3': 0.6028379478090141}, reachable_solution={'f_1': 0.7708683785233409, 'f_2': 0.7492550732400227, 'f_3': 0.2535474347612677}, reachable_bounds={'lower_bounds': {'f_1': 3.657132581846952e-29, 'f_2': 1.257896740670473, 'f_3': 1.511114303594952}, 'upper_bounds': {'f_1': 1.0166947028186726, 'f_2': 0.9994040585920181, 'f_3': 0.6028379478090141}}),\n",
       " NAUTILI_Response(step_number=5, distance_to_front=100.0, reference_points={'DM1': {'f_1': 0.8, 'f_2': 0.4, 'f_3': 0.7}, 'DM2': {'f_1': 0.62, 'f_2': 0.62, 'f_3': 0.8}, 'DM3': {'f_1': 0.5, 'f_2': 0.7, 'f_3': 0.53}, 'DM4': {'f_1': 0.3, 'f_2': 0.3, 'f_3': 0.15}, 'DM5': {'f_1': 0.2, 'f_2': 0.5, 'f_3': 0.25}}, improvement_directions={'DM1': array([1.2, 1.6, 1.3]), 'DM2': array([1.38, 1.38, 1.2 ]), 'DM3': array([1.5 , 1.3 , 1.47]), 'DM4': array([1.7 , 1.7 , 1.85]), 'DM5': array([1.8 , 1.5 , 1.75])}, group_improvement_direction=None, group_reference_point=None, navigation_point={'f_1': 0.7708683785233409, 'f_2': 0.7492550732400227, 'f_3': 0.2535474347612677}, reachable_solution={'f_1': 0.7708683785233409, 'f_2': 0.7492550732400227, 'f_3': 0.2535474347612677}, reachable_bounds={'lower_bounds': {'f_1': 3.657132581846952e-29, 'f_2': 1.0925991456614486, 'f_3': 0.7108770828085772}, 'upper_bounds': {'f_1': 0.7708683785233409, 'f_2': 0.7492550732400227, 'f_3': 0.2535474347612677}})]"
      ]
     },
     "execution_count": 32,
     "metadata": {},
     "output_type": "execute_result"
    }
   ],
   "source": [
    "all_resp"
   ]
  },
  {
   "cell_type": "code",
   "execution_count": 5,
   "metadata": {
    "metadata": {}
   },
   "outputs": [
    {
     "data": {
      "text/plain": [
       "{'f_1': 0.6062778747202097,\n",
       " 'f_2': 0.6066241719195791,\n",
       " 'f_3': 0.6087682451937068}"
      ]
     },
     "execution_count": 5,
     "metadata": {},
     "output_type": "execute_result"
    }
   ],
   "source": [
    "all_resp[-1].reachable_solution"
   ]
  },
  {
   "cell_type": "code",
   "execution_count": 6,
   "metadata": {
    "metadata": {}
   },
   "outputs": [
    {
     "data": {
      "text/plain": [
       "{'f_1': 1.9999999902200227,\n",
       " 'f_2': 1.9999999902200103,\n",
       " 'f_3': 1.9999999902199885}"
      ]
     },
     "execution_count": 6,
     "metadata": {},
     "output_type": "execute_result"
    }
   ],
   "source": [
    "all_resp[0].group_improvement_direction"
   ]
  },
  {
   "cell_type": "code",
   "execution_count": 3,
   "metadata": {
    "metadata": {}
   },
   "outputs": [],
   "source": [
    "def df_from_responses(all_resp, k):\n",
    "    # TODO: make the f_1's come from the k\n",
    "    dd = {\"step_n\":[], \"Type\":[], \"f_1\":[], \"f_2\":[], \"f_3\":[]}\n",
    "    for resp in all_resp:\n",
    "        first_iter_gid = all_resp[0].group_improvement_direction\n",
    "        first_iter_grp = all_resp[0].group_reference_point\n",
    "        for q in range(1,DMs+1): # DM määrä on q\n",
    "            dd[\"step_n\"].append(resp.step_number)\n",
    "            dd[\"Type\"].append(f\"DM{q}\")\n",
    "            dd[\"f_1\"].append(resp.reference_points[f\"DM{q}\"][\"f_1\"])\n",
    "            dd[\"f_2\"].append(resp.reference_points[f\"DM{q}\"][\"f_2\"])\n",
    "            dd[\"f_3\"].append(resp.reference_points[f\"DM{q}\"][\"f_3\"])\n",
    "        # add navigation point\n",
    "        dd[\"step_n\"].append(resp.step_number)\n",
    "        dd[\"Type\"].append(f\"NAVPOINT\")\n",
    "        dd[\"f_1\"].append(resp.navigation_point[\"f_1\"])\n",
    "        dd[\"f_2\"].append(resp.navigation_point[\"f_2\"])\n",
    "        dd[\"f_3\"].append(resp.navigation_point[\"f_3\"])\n",
    "        # add reachable solution\n",
    "        dd[\"step_n\"].append(resp.step_number)\n",
    "        dd[\"Type\"].append(f\"REACHSOL\")\n",
    "        dd[\"f_1\"].append(resp.reachable_solution[\"f_1\"])\n",
    "        dd[\"f_2\"].append(resp.reachable_solution[\"f_2\"])\n",
    "        dd[\"f_3\"].append(resp.reachable_solution[\"f_3\"])\n",
    "        # add group improvement direction\n",
    "        if resp.group_improvement_direction == None:\n",
    "            dd[\"step_n\"].append(resp.step_number)\n",
    "            dd[\"Type\"].append(f\"GID\")\n",
    "            dd[\"f_1\"].append(first_iter_gid[\"f_1\"])\n",
    "            dd[\"f_2\"].append(first_iter_gid[\"f_2\"])\n",
    "            dd[\"f_3\"].append(first_iter_gid[\"f_3\"])\n",
    "        else:\n",
    "            dd[\"step_n\"].append(resp.step_number)\n",
    "            dd[\"Type\"].append(f\"GID\")\n",
    "            dd[\"f_1\"].append(resp.group_improvement_direction[\"f_1\"])\n",
    "            dd[\"f_2\"].append(resp.group_improvement_direction[\"f_2\"])\n",
    "            dd[\"f_3\"].append(resp.group_improvement_direction[\"f_3\"])\n",
    "        if resp.group_reference_point == None:\n",
    "            dd[\"step_n\"].append(resp.step_number)\n",
    "            dd[\"Type\"].append(f\"GRP\")\n",
    "            dd[\"f_1\"].append(first_iter_grp[\"f_1\"])\n",
    "            dd[\"f_2\"].append(first_iter_grp[\"f_2\"])\n",
    "            dd[\"f_3\"].append(first_iter_grp[\"f_3\"])\n",
    "        else:\n",
    "            dd[\"step_n\"].append(resp.step_number)\n",
    "            dd[\"Type\"].append(f\"GRP\")\n",
    "            dd[\"f_1\"].append(resp.group_reference_point[\"f_1\"])\n",
    "            dd[\"f_2\"].append(resp.group_reference_point[\"f_2\"])\n",
    "            dd[\"f_3\"].append(resp.group_reference_point[\"f_3\"])\n",
    "\n",
    "    ttt = pd.DataFrame(dd)\n",
    "    return ttt"
   ]
  },
  {
   "cell_type": "code",
   "execution_count": 21,
   "metadata": {
    "metadata": {}
   },
   "outputs": [],
   "source": [
    "dd = {\"step_n\":[], \"Type\":[], \"f_1\":[], \"f_2\":[], \"f_3\":[]}\n",
    "for resp in all_resp:\n",
    "    first_iter_gid = all_resp[0].group_improvement_direction\n",
    "    first_iter_grp = all_resp[0].group_reference_point\n",
    "    for q in range(1,4): # DM määrä on q\n",
    "        dd[\"step_n\"].append(resp.step_number)\n",
    "        dd[\"Type\"].append(f\"DM{q}\")\n",
    "        dd[\"f_1\"].append(resp.reference_points[f\"DM{q}\"][\"f_1\"])\n",
    "        dd[\"f_2\"].append(resp.reference_points[f\"DM{q}\"][\"f_2\"])\n",
    "        dd[\"f_3\"].append(resp.reference_points[f\"DM{q}\"][\"f_3\"])\n",
    "    # add navigation point\n",
    "    dd[\"step_n\"].append(resp.step_number)\n",
    "    dd[\"Type\"].append(f\"NAVPOINT\")\n",
    "    dd[\"f_1\"].append(resp.navigation_point[\"f_1\"])\n",
    "    dd[\"f_2\"].append(resp.navigation_point[\"f_2\"])\n",
    "    dd[\"f_3\"].append(resp.navigation_point[\"f_3\"])\n",
    "    # add reachable solution\n",
    "    dd[\"step_n\"].append(resp.step_number)\n",
    "    dd[\"Type\"].append(f\"REACHSOL\")\n",
    "    dd[\"f_1\"].append(resp.reachable_solution[\"f_1\"])\n",
    "    dd[\"f_2\"].append(resp.reachable_solution[\"f_2\"])\n",
    "    dd[\"f_3\"].append(resp.reachable_solution[\"f_3\"])\n",
    "    # add group improvement direction\n",
    "    if resp.group_improvement_direction == None:\n",
    "        dd[\"step_n\"].append(resp.step_number)\n",
    "        dd[\"Type\"].append(f\"GID\")\n",
    "        dd[\"f_1\"].append(first_iter_gid[\"f_1\"])\n",
    "        dd[\"f_2\"].append(first_iter_gid[\"f_2\"])\n",
    "        dd[\"f_3\"].append(first_iter_gid[\"f_3\"])\n",
    "    else:\n",
    "        dd[\"step_n\"].append(resp.step_number)\n",
    "        dd[\"Type\"].append(f\"GID\")\n",
    "        dd[\"f_1\"].append(resp.group_improvement_direction[\"f_1\"])\n",
    "        dd[\"f_2\"].append(resp.group_improvement_direction[\"f_2\"])\n",
    "        dd[\"f_3\"].append(resp.group_improvement_direction[\"f_3\"])\n",
    "    if resp.group_reference_point == None:\n",
    "        dd[\"step_n\"].append(resp.step_number)\n",
    "        dd[\"Type\"].append(f\"GRP\")\n",
    "        dd[\"f_1\"].append(first_iter_grp[\"f_1\"])\n",
    "        dd[\"f_2\"].append(first_iter_grp[\"f_2\"])\n",
    "        dd[\"f_3\"].append(first_iter_grp[\"f_3\"])\n",
    "    else:\n",
    "        dd[\"step_n\"].append(resp.step_number)\n",
    "        dd[\"Type\"].append(f\"GRP\")\n",
    "        dd[\"f_1\"].append(resp.group_reference_point[\"f_1\"])\n",
    "        dd[\"f_2\"].append(resp.group_reference_point[\"f_2\"])\n",
    "        dd[\"f_3\"].append(resp.group_reference_point[\"f_3\"])\n",
    "       # resp.reference_points[\"DM1\"][\"f_1\"]\n",
    "    #dd[]    , resp.navigation_point[\"f_1\"])\n",
    "    #break\n",
    "#dd"
   ]
  },
  {
   "cell_type": "code",
   "execution_count": 19,
   "metadata": {
    "metadata": {}
   },
   "outputs": [
    {
     "data": {
      "text/html": [
       "<div>\n",
       "<style scoped>\n",
       "    .dataframe tbody tr th:only-of-type {\n",
       "        vertical-align: middle;\n",
       "    }\n",
       "\n",
       "    .dataframe tbody tr th {\n",
       "        vertical-align: top;\n",
       "    }\n",
       "\n",
       "    .dataframe thead th {\n",
       "        text-align: right;\n",
       "    }\n",
       "</style>\n",
       "<table border=\"1\" class=\"dataframe\">\n",
       "  <thead>\n",
       "    <tr style=\"text-align: right;\">\n",
       "      <th></th>\n",
       "      <th>step_n</th>\n",
       "      <th>Type</th>\n",
       "      <th>f_1</th>\n",
       "      <th>f_2</th>\n",
       "      <th>f_3</th>\n",
       "    </tr>\n",
       "  </thead>\n",
       "  <tbody>\n",
       "    <tr>\n",
       "      <th>0</th>\n",
       "      <td>1</td>\n",
       "      <td>DM1</td>\n",
       "      <td>0.500000</td>\n",
       "      <td>0.800000</td>\n",
       "      <td>0.800000</td>\n",
       "    </tr>\n",
       "    <tr>\n",
       "      <th>1</th>\n",
       "      <td>1</td>\n",
       "      <td>DM2</td>\n",
       "      <td>0.500000</td>\n",
       "      <td>0.800000</td>\n",
       "      <td>0.800000</td>\n",
       "    </tr>\n",
       "    <tr>\n",
       "      <th>2</th>\n",
       "      <td>1</td>\n",
       "      <td>DM3</td>\n",
       "      <td>0.800000</td>\n",
       "      <td>0.800000</td>\n",
       "      <td>0.500000</td>\n",
       "    </tr>\n",
       "    <tr>\n",
       "      <th>3</th>\n",
       "      <td>1</td>\n",
       "      <td>NAVPOINT</td>\n",
       "      <td>1.700653</td>\n",
       "      <td>1.741099</td>\n",
       "      <td>1.721087</td>\n",
       "    </tr>\n",
       "    <tr>\n",
       "      <th>4</th>\n",
       "      <td>1</td>\n",
       "      <td>REACHSOL</td>\n",
       "      <td>0.503264</td>\n",
       "      <td>0.705494</td>\n",
       "      <td>0.605437</td>\n",
       "    </tr>\n",
       "    <tr>\n",
       "      <th>5</th>\n",
       "      <td>1</td>\n",
       "      <td>GID</td>\n",
       "      <td>1.397134</td>\n",
       "      <td>1.200000</td>\n",
       "      <td>1.302866</td>\n",
       "    </tr>\n",
       "    <tr>\n",
       "      <th>6</th>\n",
       "      <td>1</td>\n",
       "      <td>GRP</td>\n",
       "      <td>0.602866</td>\n",
       "      <td>0.800000</td>\n",
       "      <td>0.697134</td>\n",
       "    </tr>\n",
       "    <tr>\n",
       "      <th>7</th>\n",
       "      <td>2</td>\n",
       "      <td>DM1</td>\n",
       "      <td>0.500000</td>\n",
       "      <td>0.800000</td>\n",
       "      <td>0.800000</td>\n",
       "    </tr>\n",
       "    <tr>\n",
       "      <th>8</th>\n",
       "      <td>2</td>\n",
       "      <td>DM2</td>\n",
       "      <td>0.500000</td>\n",
       "      <td>0.800000</td>\n",
       "      <td>0.800000</td>\n",
       "    </tr>\n",
       "    <tr>\n",
       "      <th>9</th>\n",
       "      <td>2</td>\n",
       "      <td>DM3</td>\n",
       "      <td>0.800000</td>\n",
       "      <td>0.800000</td>\n",
       "      <td>0.500000</td>\n",
       "    </tr>\n",
       "    <tr>\n",
       "      <th>10</th>\n",
       "      <td>2</td>\n",
       "      <td>NAVPOINT</td>\n",
       "      <td>1.401306</td>\n",
       "      <td>1.482197</td>\n",
       "      <td>1.442175</td>\n",
       "    </tr>\n",
       "    <tr>\n",
       "      <th>11</th>\n",
       "      <td>2</td>\n",
       "      <td>REACHSOL</td>\n",
       "      <td>0.503264</td>\n",
       "      <td>0.705494</td>\n",
       "      <td>0.605437</td>\n",
       "    </tr>\n",
       "    <tr>\n",
       "      <th>12</th>\n",
       "      <td>2</td>\n",
       "      <td>GID</td>\n",
       "      <td>1.397134</td>\n",
       "      <td>1.200000</td>\n",
       "      <td>1.302866</td>\n",
       "    </tr>\n",
       "    <tr>\n",
       "      <th>13</th>\n",
       "      <td>2</td>\n",
       "      <td>GRP</td>\n",
       "      <td>0.602866</td>\n",
       "      <td>0.800000</td>\n",
       "      <td>0.697134</td>\n",
       "    </tr>\n",
       "    <tr>\n",
       "      <th>14</th>\n",
       "      <td>3</td>\n",
       "      <td>DM1</td>\n",
       "      <td>0.500000</td>\n",
       "      <td>0.800000</td>\n",
       "      <td>0.800000</td>\n",
       "    </tr>\n",
       "    <tr>\n",
       "      <th>15</th>\n",
       "      <td>3</td>\n",
       "      <td>DM2</td>\n",
       "      <td>0.500000</td>\n",
       "      <td>0.800000</td>\n",
       "      <td>0.800000</td>\n",
       "    </tr>\n",
       "    <tr>\n",
       "      <th>16</th>\n",
       "      <td>3</td>\n",
       "      <td>DM3</td>\n",
       "      <td>0.800000</td>\n",
       "      <td>0.800000</td>\n",
       "      <td>0.500000</td>\n",
       "    </tr>\n",
       "    <tr>\n",
       "      <th>17</th>\n",
       "      <td>3</td>\n",
       "      <td>NAVPOINT</td>\n",
       "      <td>1.101959</td>\n",
       "      <td>1.223296</td>\n",
       "      <td>1.163262</td>\n",
       "    </tr>\n",
       "    <tr>\n",
       "      <th>18</th>\n",
       "      <td>3</td>\n",
       "      <td>REACHSOL</td>\n",
       "      <td>0.503264</td>\n",
       "      <td>0.705494</td>\n",
       "      <td>0.605437</td>\n",
       "    </tr>\n",
       "    <tr>\n",
       "      <th>19</th>\n",
       "      <td>3</td>\n",
       "      <td>GID</td>\n",
       "      <td>1.397134</td>\n",
       "      <td>1.200000</td>\n",
       "      <td>1.302866</td>\n",
       "    </tr>\n",
       "    <tr>\n",
       "      <th>20</th>\n",
       "      <td>3</td>\n",
       "      <td>GRP</td>\n",
       "      <td>0.602866</td>\n",
       "      <td>0.800000</td>\n",
       "      <td>0.697134</td>\n",
       "    </tr>\n",
       "    <tr>\n",
       "      <th>21</th>\n",
       "      <td>4</td>\n",
       "      <td>DM1</td>\n",
       "      <td>0.500000</td>\n",
       "      <td>0.800000</td>\n",
       "      <td>0.800000</td>\n",
       "    </tr>\n",
       "    <tr>\n",
       "      <th>22</th>\n",
       "      <td>4</td>\n",
       "      <td>DM2</td>\n",
       "      <td>0.500000</td>\n",
       "      <td>0.800000</td>\n",
       "      <td>0.800000</td>\n",
       "    </tr>\n",
       "    <tr>\n",
       "      <th>23</th>\n",
       "      <td>4</td>\n",
       "      <td>DM3</td>\n",
       "      <td>0.800000</td>\n",
       "      <td>0.800000</td>\n",
       "      <td>0.500000</td>\n",
       "    </tr>\n",
       "    <tr>\n",
       "      <th>24</th>\n",
       "      <td>4</td>\n",
       "      <td>NAVPOINT</td>\n",
       "      <td>0.802611</td>\n",
       "      <td>0.964395</td>\n",
       "      <td>0.884349</td>\n",
       "    </tr>\n",
       "    <tr>\n",
       "      <th>25</th>\n",
       "      <td>4</td>\n",
       "      <td>REACHSOL</td>\n",
       "      <td>0.503264</td>\n",
       "      <td>0.705494</td>\n",
       "      <td>0.605437</td>\n",
       "    </tr>\n",
       "    <tr>\n",
       "      <th>26</th>\n",
       "      <td>4</td>\n",
       "      <td>GID</td>\n",
       "      <td>1.397134</td>\n",
       "      <td>1.200000</td>\n",
       "      <td>1.302866</td>\n",
       "    </tr>\n",
       "    <tr>\n",
       "      <th>27</th>\n",
       "      <td>4</td>\n",
       "      <td>GRP</td>\n",
       "      <td>0.602866</td>\n",
       "      <td>0.800000</td>\n",
       "      <td>0.697134</td>\n",
       "    </tr>\n",
       "    <tr>\n",
       "      <th>28</th>\n",
       "      <td>5</td>\n",
       "      <td>DM1</td>\n",
       "      <td>0.500000</td>\n",
       "      <td>0.800000</td>\n",
       "      <td>0.800000</td>\n",
       "    </tr>\n",
       "    <tr>\n",
       "      <th>29</th>\n",
       "      <td>5</td>\n",
       "      <td>DM2</td>\n",
       "      <td>0.500000</td>\n",
       "      <td>0.800000</td>\n",
       "      <td>0.800000</td>\n",
       "    </tr>\n",
       "    <tr>\n",
       "      <th>30</th>\n",
       "      <td>5</td>\n",
       "      <td>DM3</td>\n",
       "      <td>0.800000</td>\n",
       "      <td>0.800000</td>\n",
       "      <td>0.500000</td>\n",
       "    </tr>\n",
       "    <tr>\n",
       "      <th>31</th>\n",
       "      <td>5</td>\n",
       "      <td>NAVPOINT</td>\n",
       "      <td>0.503264</td>\n",
       "      <td>0.705494</td>\n",
       "      <td>0.605437</td>\n",
       "    </tr>\n",
       "    <tr>\n",
       "      <th>32</th>\n",
       "      <td>5</td>\n",
       "      <td>REACHSOL</td>\n",
       "      <td>0.503264</td>\n",
       "      <td>0.705494</td>\n",
       "      <td>0.605437</td>\n",
       "    </tr>\n",
       "    <tr>\n",
       "      <th>33</th>\n",
       "      <td>5</td>\n",
       "      <td>GID</td>\n",
       "      <td>1.397134</td>\n",
       "      <td>1.200000</td>\n",
       "      <td>1.302866</td>\n",
       "    </tr>\n",
       "    <tr>\n",
       "      <th>34</th>\n",
       "      <td>5</td>\n",
       "      <td>GRP</td>\n",
       "      <td>0.602866</td>\n",
       "      <td>0.800000</td>\n",
       "      <td>0.697134</td>\n",
       "    </tr>\n",
       "  </tbody>\n",
       "</table>\n",
       "</div>"
      ],
      "text/plain": [
       "    step_n      Type       f_1       f_2       f_3\n",
       "0        1       DM1  0.500000  0.800000  0.800000\n",
       "1        1       DM2  0.500000  0.800000  0.800000\n",
       "2        1       DM3  0.800000  0.800000  0.500000\n",
       "3        1  NAVPOINT  1.700653  1.741099  1.721087\n",
       "4        1  REACHSOL  0.503264  0.705494  0.605437\n",
       "5        1       GID  1.397134  1.200000  1.302866\n",
       "6        1       GRP  0.602866  0.800000  0.697134\n",
       "7        2       DM1  0.500000  0.800000  0.800000\n",
       "8        2       DM2  0.500000  0.800000  0.800000\n",
       "9        2       DM3  0.800000  0.800000  0.500000\n",
       "10       2  NAVPOINT  1.401306  1.482197  1.442175\n",
       "11       2  REACHSOL  0.503264  0.705494  0.605437\n",
       "12       2       GID  1.397134  1.200000  1.302866\n",
       "13       2       GRP  0.602866  0.800000  0.697134\n",
       "14       3       DM1  0.500000  0.800000  0.800000\n",
       "15       3       DM2  0.500000  0.800000  0.800000\n",
       "16       3       DM3  0.800000  0.800000  0.500000\n",
       "17       3  NAVPOINT  1.101959  1.223296  1.163262\n",
       "18       3  REACHSOL  0.503264  0.705494  0.605437\n",
       "19       3       GID  1.397134  1.200000  1.302866\n",
       "20       3       GRP  0.602866  0.800000  0.697134\n",
       "21       4       DM1  0.500000  0.800000  0.800000\n",
       "22       4       DM2  0.500000  0.800000  0.800000\n",
       "23       4       DM3  0.800000  0.800000  0.500000\n",
       "24       4  NAVPOINT  0.802611  0.964395  0.884349\n",
       "25       4  REACHSOL  0.503264  0.705494  0.605437\n",
       "26       4       GID  1.397134  1.200000  1.302866\n",
       "27       4       GRP  0.602866  0.800000  0.697134\n",
       "28       5       DM1  0.500000  0.800000  0.800000\n",
       "29       5       DM2  0.500000  0.800000  0.800000\n",
       "30       5       DM3  0.800000  0.800000  0.500000\n",
       "31       5  NAVPOINT  0.503264  0.705494  0.605437\n",
       "32       5  REACHSOL  0.503264  0.705494  0.605437\n",
       "33       5       GID  1.397134  1.200000  1.302866\n",
       "34       5       GRP  0.602866  0.800000  0.697134"
      ]
     },
     "execution_count": 19,
     "metadata": {},
     "output_type": "execute_result"
    }
   ],
   "source": [
    "ttt = pd.DataFrame(dd)\n",
    "##ttt"
   ]
  },
  {
   "cell_type": "code",
   "execution_count": 6,
   "metadata": {
    "metadata": {}
   },
   "outputs": [
    {
     "data": {
      "application/vnd.plotly.v1+json": {
       "config": {
        "plotlyServerURL": "https://plot.ly"
       },
       "data": [
        {
         "hovertemplate": "Type=DM1<br>step_n=1<br>f_1=%{x}<br>f_2=%{y}<br>f_3=%{z}<extra></extra>",
         "legendgroup": "DM1",
         "marker": {
          "color": "#636efa",
          "symbol": "circle"
         },
         "mode": "markers",
         "name": "DM1",
         "scene": "scene",
         "showlegend": true,
         "type": "scatter3d",
         "x": [
          0.5
         ],
         "y": [
          0.8
         ],
         "z": [
          0.7
         ]
        },
        {
         "hovertemplate": "Type=DM2<br>step_n=1<br>f_1=%{x}<br>f_2=%{y}<br>f_3=%{z}<extra></extra>",
         "legendgroup": "DM2",
         "marker": {
          "color": "#EF553B",
          "symbol": "circle"
         },
         "mode": "markers",
         "name": "DM2",
         "scene": "scene",
         "showlegend": true,
         "type": "scatter3d",
         "x": [
          0.5
         ],
         "y": [
          0.7
         ],
         "z": [
          0.8
         ]
        },
        {
         "hovertemplate": "Type=DM3<br>step_n=1<br>f_1=%{x}<br>f_2=%{y}<br>f_3=%{z}<extra></extra>",
         "legendgroup": "DM3",
         "marker": {
          "color": "#00cc96",
          "symbol": "circle"
         },
         "mode": "markers",
         "name": "DM3",
         "scene": "scene",
         "showlegend": true,
         "type": "scatter3d",
         "x": [
          0.5
         ],
         "y": [
          0.3
         ],
         "z": [
          0.5
         ]
        },
        {
         "hovertemplate": "Type=DM4<br>step_n=1<br>f_1=%{x}<br>f_2=%{y}<br>f_3=%{z}<extra></extra>",
         "legendgroup": "DM4",
         "marker": {
          "color": "#ab63fa",
          "symbol": "circle"
         },
         "mode": "markers",
         "name": "DM4",
         "scene": "scene",
         "showlegend": true,
         "type": "scatter3d",
         "x": [
          0.2
         ],
         "y": [
          0.5
         ],
         "z": [
          0.5
         ]
        },
        {
         "hovertemplate": "Type=NAVPOINT<br>step_n=1<br>f_1=%{x}<br>f_2=%{y}<br>f_3=%{z}<extra></extra>",
         "legendgroup": "NAVPOINT",
         "marker": {
          "color": "#FFA15A",
          "symbol": "circle"
         },
         "mode": "markers",
         "name": "NAVPOINT",
         "scene": "scene",
         "showlegend": true,
         "type": "scatter3d",
         "x": [
          1.6970287327949645
         ],
         "y": [
          1.733442967453957
         ],
         "z": [
          1.7401055285277063
         ]
        },
        {
         "hovertemplate": "Type=REACHSOL<br>step_n=1<br>f_1=%{x}<br>f_2=%{y}<br>f_3=%{z}<extra></extra>",
         "legendgroup": "REACHSOL",
         "marker": {
          "color": "#19d3f3",
          "symbol": "circle"
         },
         "mode": "markers",
         "name": "REACHSOL",
         "scene": "scene",
         "showlegend": true,
         "type": "scatter3d",
         "x": [
          0.4851436639748217
         ],
         "y": [
          0.6672148372697848
         ],
         "z": [
          0.7005276426385306
         ]
        },
        {
         "hovertemplate": "Type=GID<br>step_n=1<br>f_1=%{x}<br>f_2=%{y}<br>f_3=%{z}<extra></extra>",
         "legendgroup": "GID",
         "marker": {
          "color": "#FF6692",
          "symbol": "circle"
         },
         "mode": "markers",
         "name": "GID",
         "scene": "scene",
         "showlegend": true,
         "type": "scatter3d",
         "x": [
          1.54682991332221
         ],
         "y": [
          1.3611828236261028
         ],
         "z": [
          1.3275768036851194
         ]
        },
        {
         "hovertemplate": "Type=GRP<br>step_n=1<br>f_1=%{x}<br>f_2=%{y}<br>f_3=%{z}<extra></extra>",
         "legendgroup": "GRP",
         "marker": {
          "color": "#B6E880",
          "symbol": "circle"
         },
         "mode": "markers",
         "name": "GRP",
         "scene": "scene",
         "showlegend": true,
         "type": "scatter3d",
         "x": [
          0.4531700866777898
         ],
         "y": [
          0.6388171763738973
         ],
         "z": [
          0.6724231963148806
         ]
        }
       ],
       "frames": [
        {
         "data": [
          {
           "hovertemplate": "Type=DM1<br>step_n=1<br>f_1=%{x}<br>f_2=%{y}<br>f_3=%{z}<extra></extra>",
           "legendgroup": "DM1",
           "marker": {
            "color": "#636efa",
            "symbol": "circle"
           },
           "mode": "markers",
           "name": "DM1",
           "scene": "scene",
           "showlegend": true,
           "type": "scatter3d",
           "x": [
            0.5
           ],
           "y": [
            0.8
           ],
           "z": [
            0.7
           ]
          },
          {
           "hovertemplate": "Type=DM2<br>step_n=1<br>f_1=%{x}<br>f_2=%{y}<br>f_3=%{z}<extra></extra>",
           "legendgroup": "DM2",
           "marker": {
            "color": "#EF553B",
            "symbol": "circle"
           },
           "mode": "markers",
           "name": "DM2",
           "scene": "scene",
           "showlegend": true,
           "type": "scatter3d",
           "x": [
            0.5
           ],
           "y": [
            0.7
           ],
           "z": [
            0.8
           ]
          },
          {
           "hovertemplate": "Type=DM3<br>step_n=1<br>f_1=%{x}<br>f_2=%{y}<br>f_3=%{z}<extra></extra>",
           "legendgroup": "DM3",
           "marker": {
            "color": "#00cc96",
            "symbol": "circle"
           },
           "mode": "markers",
           "name": "DM3",
           "scene": "scene",
           "showlegend": true,
           "type": "scatter3d",
           "x": [
            0.5
           ],
           "y": [
            0.3
           ],
           "z": [
            0.5
           ]
          },
          {
           "hovertemplate": "Type=DM4<br>step_n=1<br>f_1=%{x}<br>f_2=%{y}<br>f_3=%{z}<extra></extra>",
           "legendgroup": "DM4",
           "marker": {
            "color": "#ab63fa",
            "symbol": "circle"
           },
           "mode": "markers",
           "name": "DM4",
           "scene": "scene",
           "showlegend": true,
           "type": "scatter3d",
           "x": [
            0.2
           ],
           "y": [
            0.5
           ],
           "z": [
            0.5
           ]
          },
          {
           "hovertemplate": "Type=NAVPOINT<br>step_n=1<br>f_1=%{x}<br>f_2=%{y}<br>f_3=%{z}<extra></extra>",
           "legendgroup": "NAVPOINT",
           "marker": {
            "color": "#FFA15A",
            "symbol": "circle"
           },
           "mode": "markers",
           "name": "NAVPOINT",
           "scene": "scene",
           "showlegend": true,
           "type": "scatter3d",
           "x": [
            1.6970287327949645
           ],
           "y": [
            1.733442967453957
           ],
           "z": [
            1.7401055285277063
           ]
          },
          {
           "hovertemplate": "Type=REACHSOL<br>step_n=1<br>f_1=%{x}<br>f_2=%{y}<br>f_3=%{z}<extra></extra>",
           "legendgroup": "REACHSOL",
           "marker": {
            "color": "#19d3f3",
            "symbol": "circle"
           },
           "mode": "markers",
           "name": "REACHSOL",
           "scene": "scene",
           "showlegend": true,
           "type": "scatter3d",
           "x": [
            0.4851436639748217
           ],
           "y": [
            0.6672148372697848
           ],
           "z": [
            0.7005276426385306
           ]
          },
          {
           "hovertemplate": "Type=GID<br>step_n=1<br>f_1=%{x}<br>f_2=%{y}<br>f_3=%{z}<extra></extra>",
           "legendgroup": "GID",
           "marker": {
            "color": "#FF6692",
            "symbol": "circle"
           },
           "mode": "markers",
           "name": "GID",
           "scene": "scene",
           "showlegend": true,
           "type": "scatter3d",
           "x": [
            1.54682991332221
           ],
           "y": [
            1.3611828236261028
           ],
           "z": [
            1.3275768036851194
           ]
          },
          {
           "hovertemplate": "Type=GRP<br>step_n=1<br>f_1=%{x}<br>f_2=%{y}<br>f_3=%{z}<extra></extra>",
           "legendgroup": "GRP",
           "marker": {
            "color": "#B6E880",
            "symbol": "circle"
           },
           "mode": "markers",
           "name": "GRP",
           "scene": "scene",
           "showlegend": true,
           "type": "scatter3d",
           "x": [
            0.4531700866777898
           ],
           "y": [
            0.6388171763738973
           ],
           "z": [
            0.6724231963148806
           ]
          }
         ],
         "name": "1"
        },
        {
         "data": [
          {
           "hovertemplate": "Type=DM1<br>step_n=2<br>f_1=%{x}<br>f_2=%{y}<br>f_3=%{z}<extra></extra>",
           "legendgroup": "DM1",
           "marker": {
            "color": "#636efa",
            "symbol": "circle"
           },
           "mode": "markers",
           "name": "DM1",
           "scene": "scene",
           "showlegend": true,
           "type": "scatter3d",
           "x": [
            0.5
           ],
           "y": [
            0.8
           ],
           "z": [
            0.7
           ]
          },
          {
           "hovertemplate": "Type=DM2<br>step_n=2<br>f_1=%{x}<br>f_2=%{y}<br>f_3=%{z}<extra></extra>",
           "legendgroup": "DM2",
           "marker": {
            "color": "#EF553B",
            "symbol": "circle"
           },
           "mode": "markers",
           "name": "DM2",
           "scene": "scene",
           "showlegend": true,
           "type": "scatter3d",
           "x": [
            0.5
           ],
           "y": [
            0.7
           ],
           "z": [
            0.8
           ]
          },
          {
           "hovertemplate": "Type=DM3<br>step_n=2<br>f_1=%{x}<br>f_2=%{y}<br>f_3=%{z}<extra></extra>",
           "legendgroup": "DM3",
           "marker": {
            "color": "#00cc96",
            "symbol": "circle"
           },
           "mode": "markers",
           "name": "DM3",
           "scene": "scene",
           "showlegend": true,
           "type": "scatter3d",
           "x": [
            0.5
           ],
           "y": [
            0.3
           ],
           "z": [
            0.5
           ]
          },
          {
           "hovertemplate": "Type=DM4<br>step_n=2<br>f_1=%{x}<br>f_2=%{y}<br>f_3=%{z}<extra></extra>",
           "legendgroup": "DM4",
           "marker": {
            "color": "#ab63fa",
            "symbol": "circle"
           },
           "mode": "markers",
           "name": "DM4",
           "scene": "scene",
           "showlegend": true,
           "type": "scatter3d",
           "x": [
            0.2
           ],
           "y": [
            0.5
           ],
           "z": [
            0.5
           ]
          },
          {
           "hovertemplate": "Type=NAVPOINT<br>step_n=2<br>f_1=%{x}<br>f_2=%{y}<br>f_3=%{z}<extra></extra>",
           "legendgroup": "NAVPOINT",
           "marker": {
            "color": "#FFA15A",
            "symbol": "circle"
           },
           "mode": "markers",
           "name": "NAVPOINT",
           "scene": "scene",
           "showlegend": true,
           "type": "scatter3d",
           "x": [
            1.3940574655899287
           ],
           "y": [
            1.466885934907914
           ],
           "z": [
            1.4802110570554123
           ]
          },
          {
           "hovertemplate": "Type=REACHSOL<br>step_n=2<br>f_1=%{x}<br>f_2=%{y}<br>f_3=%{z}<extra></extra>",
           "legendgroup": "REACHSOL",
           "marker": {
            "color": "#19d3f3",
            "symbol": "circle"
           },
           "mode": "markers",
           "name": "REACHSOL",
           "scene": "scene",
           "showlegend": true,
           "type": "scatter3d",
           "x": [
            0.4851436639748217
           ],
           "y": [
            0.6672148372697848
           ],
           "z": [
            0.7005276426385306
           ]
          },
          {
           "hovertemplate": "Type=GID<br>step_n=2<br>f_1=%{x}<br>f_2=%{y}<br>f_3=%{z}<extra></extra>",
           "legendgroup": "GID",
           "marker": {
            "color": "#FF6692",
            "symbol": "circle"
           },
           "mode": "markers",
           "name": "GID",
           "scene": "scene",
           "showlegend": true,
           "type": "scatter3d",
           "x": [
            1.54682991332221
           ],
           "y": [
            1.3611828236261028
           ],
           "z": [
            1.3275768036851194
           ]
          },
          {
           "hovertemplate": "Type=GRP<br>step_n=2<br>f_1=%{x}<br>f_2=%{y}<br>f_3=%{z}<extra></extra>",
           "legendgroup": "GRP",
           "marker": {
            "color": "#B6E880",
            "symbol": "circle"
           },
           "mode": "markers",
           "name": "GRP",
           "scene": "scene",
           "showlegend": true,
           "type": "scatter3d",
           "x": [
            0.4531700866777898
           ],
           "y": [
            0.6388171763738973
           ],
           "z": [
            0.6724231963148806
           ]
          }
         ],
         "name": "2"
        },
        {
         "data": [
          {
           "hovertemplate": "Type=DM1<br>step_n=3<br>f_1=%{x}<br>f_2=%{y}<br>f_3=%{z}<extra></extra>",
           "legendgroup": "DM1",
           "marker": {
            "color": "#636efa",
            "symbol": "circle"
           },
           "mode": "markers",
           "name": "DM1",
           "scene": "scene",
           "showlegend": true,
           "type": "scatter3d",
           "x": [
            0.5
           ],
           "y": [
            0.8
           ],
           "z": [
            0.7
           ]
          },
          {
           "hovertemplate": "Type=DM2<br>step_n=3<br>f_1=%{x}<br>f_2=%{y}<br>f_3=%{z}<extra></extra>",
           "legendgroup": "DM2",
           "marker": {
            "color": "#EF553B",
            "symbol": "circle"
           },
           "mode": "markers",
           "name": "DM2",
           "scene": "scene",
           "showlegend": true,
           "type": "scatter3d",
           "x": [
            0.5
           ],
           "y": [
            0.7
           ],
           "z": [
            0.8
           ]
          },
          {
           "hovertemplate": "Type=DM3<br>step_n=3<br>f_1=%{x}<br>f_2=%{y}<br>f_3=%{z}<extra></extra>",
           "legendgroup": "DM3",
           "marker": {
            "color": "#00cc96",
            "symbol": "circle"
           },
           "mode": "markers",
           "name": "DM3",
           "scene": "scene",
           "showlegend": true,
           "type": "scatter3d",
           "x": [
            0.5
           ],
           "y": [
            0.3
           ],
           "z": [
            0.5
           ]
          },
          {
           "hovertemplate": "Type=DM4<br>step_n=3<br>f_1=%{x}<br>f_2=%{y}<br>f_3=%{z}<extra></extra>",
           "legendgroup": "DM4",
           "marker": {
            "color": "#ab63fa",
            "symbol": "circle"
           },
           "mode": "markers",
           "name": "DM4",
           "scene": "scene",
           "showlegend": true,
           "type": "scatter3d",
           "x": [
            0.2
           ],
           "y": [
            0.5
           ],
           "z": [
            0.5
           ]
          },
          {
           "hovertemplate": "Type=NAVPOINT<br>step_n=3<br>f_1=%{x}<br>f_2=%{y}<br>f_3=%{z}<extra></extra>",
           "legendgroup": "NAVPOINT",
           "marker": {
            "color": "#FFA15A",
            "symbol": "circle"
           },
           "mode": "markers",
           "name": "NAVPOINT",
           "scene": "scene",
           "showlegend": true,
           "type": "scatter3d",
           "x": [
            1.091086198384893
           ],
           "y": [
            1.2003289023618708
           ],
           "z": [
            1.2203165855831184
           ]
          },
          {
           "hovertemplate": "Type=REACHSOL<br>step_n=3<br>f_1=%{x}<br>f_2=%{y}<br>f_3=%{z}<extra></extra>",
           "legendgroup": "REACHSOL",
           "marker": {
            "color": "#19d3f3",
            "symbol": "circle"
           },
           "mode": "markers",
           "name": "REACHSOL",
           "scene": "scene",
           "showlegend": true,
           "type": "scatter3d",
           "x": [
            0.4851436639748217
           ],
           "y": [
            0.6672148372697848
           ],
           "z": [
            0.7005276426385306
           ]
          },
          {
           "hovertemplate": "Type=GID<br>step_n=3<br>f_1=%{x}<br>f_2=%{y}<br>f_3=%{z}<extra></extra>",
           "legendgroup": "GID",
           "marker": {
            "color": "#FF6692",
            "symbol": "circle"
           },
           "mode": "markers",
           "name": "GID",
           "scene": "scene",
           "showlegend": true,
           "type": "scatter3d",
           "x": [
            1.54682991332221
           ],
           "y": [
            1.3611828236261028
           ],
           "z": [
            1.3275768036851194
           ]
          },
          {
           "hovertemplate": "Type=GRP<br>step_n=3<br>f_1=%{x}<br>f_2=%{y}<br>f_3=%{z}<extra></extra>",
           "legendgroup": "GRP",
           "marker": {
            "color": "#B6E880",
            "symbol": "circle"
           },
           "mode": "markers",
           "name": "GRP",
           "scene": "scene",
           "showlegend": true,
           "type": "scatter3d",
           "x": [
            0.4531700866777898
           ],
           "y": [
            0.6388171763738973
           ],
           "z": [
            0.6724231963148806
           ]
          }
         ],
         "name": "3"
        },
        {
         "data": [
          {
           "hovertemplate": "Type=DM1<br>step_n=4<br>f_1=%{x}<br>f_2=%{y}<br>f_3=%{z}<extra></extra>",
           "legendgroup": "DM1",
           "marker": {
            "color": "#636efa",
            "symbol": "circle"
           },
           "mode": "markers",
           "name": "DM1",
           "scene": "scene",
           "showlegend": true,
           "type": "scatter3d",
           "x": [
            0.5
           ],
           "y": [
            0.8
           ],
           "z": [
            0.7
           ]
          },
          {
           "hovertemplate": "Type=DM2<br>step_n=4<br>f_1=%{x}<br>f_2=%{y}<br>f_3=%{z}<extra></extra>",
           "legendgroup": "DM2",
           "marker": {
            "color": "#EF553B",
            "symbol": "circle"
           },
           "mode": "markers",
           "name": "DM2",
           "scene": "scene",
           "showlegend": true,
           "type": "scatter3d",
           "x": [
            0.5
           ],
           "y": [
            0.7
           ],
           "z": [
            0.8
           ]
          },
          {
           "hovertemplate": "Type=DM3<br>step_n=4<br>f_1=%{x}<br>f_2=%{y}<br>f_3=%{z}<extra></extra>",
           "legendgroup": "DM3",
           "marker": {
            "color": "#00cc96",
            "symbol": "circle"
           },
           "mode": "markers",
           "name": "DM3",
           "scene": "scene",
           "showlegend": true,
           "type": "scatter3d",
           "x": [
            0.5
           ],
           "y": [
            0.3
           ],
           "z": [
            0.5
           ]
          },
          {
           "hovertemplate": "Type=DM4<br>step_n=4<br>f_1=%{x}<br>f_2=%{y}<br>f_3=%{z}<extra></extra>",
           "legendgroup": "DM4",
           "marker": {
            "color": "#ab63fa",
            "symbol": "circle"
           },
           "mode": "markers",
           "name": "DM4",
           "scene": "scene",
           "showlegend": true,
           "type": "scatter3d",
           "x": [
            0.2
           ],
           "y": [
            0.5
           ],
           "z": [
            0.5
           ]
          },
          {
           "hovertemplate": "Type=NAVPOINT<br>step_n=4<br>f_1=%{x}<br>f_2=%{y}<br>f_3=%{z}<extra></extra>",
           "legendgroup": "NAVPOINT",
           "marker": {
            "color": "#FFA15A",
            "symbol": "circle"
           },
           "mode": "markers",
           "name": "NAVPOINT",
           "scene": "scene",
           "showlegend": true,
           "type": "scatter3d",
           "x": [
            0.7881149311798573
           ],
           "y": [
            0.9337718698158278
           ],
           "z": [
            0.9604221141108245
           ]
          },
          {
           "hovertemplate": "Type=REACHSOL<br>step_n=4<br>f_1=%{x}<br>f_2=%{y}<br>f_3=%{z}<extra></extra>",
           "legendgroup": "REACHSOL",
           "marker": {
            "color": "#19d3f3",
            "symbol": "circle"
           },
           "mode": "markers",
           "name": "REACHSOL",
           "scene": "scene",
           "showlegend": true,
           "type": "scatter3d",
           "x": [
            0.4851436639748217
           ],
           "y": [
            0.6672148372697848
           ],
           "z": [
            0.7005276426385306
           ]
          },
          {
           "hovertemplate": "Type=GID<br>step_n=4<br>f_1=%{x}<br>f_2=%{y}<br>f_3=%{z}<extra></extra>",
           "legendgroup": "GID",
           "marker": {
            "color": "#FF6692",
            "symbol": "circle"
           },
           "mode": "markers",
           "name": "GID",
           "scene": "scene",
           "showlegend": true,
           "type": "scatter3d",
           "x": [
            1.54682991332221
           ],
           "y": [
            1.3611828236261028
           ],
           "z": [
            1.3275768036851194
           ]
          },
          {
           "hovertemplate": "Type=GRP<br>step_n=4<br>f_1=%{x}<br>f_2=%{y}<br>f_3=%{z}<extra></extra>",
           "legendgroup": "GRP",
           "marker": {
            "color": "#B6E880",
            "symbol": "circle"
           },
           "mode": "markers",
           "name": "GRP",
           "scene": "scene",
           "showlegend": true,
           "type": "scatter3d",
           "x": [
            0.4531700866777898
           ],
           "y": [
            0.6388171763738973
           ],
           "z": [
            0.6724231963148806
           ]
          }
         ],
         "name": "4"
        },
        {
         "data": [
          {
           "hovertemplate": "Type=DM1<br>step_n=5<br>f_1=%{x}<br>f_2=%{y}<br>f_3=%{z}<extra></extra>",
           "legendgroup": "DM1",
           "marker": {
            "color": "#636efa",
            "symbol": "circle"
           },
           "mode": "markers",
           "name": "DM1",
           "scene": "scene",
           "showlegend": true,
           "type": "scatter3d",
           "x": [
            0.5
           ],
           "y": [
            0.8
           ],
           "z": [
            0.7
           ]
          },
          {
           "hovertemplate": "Type=DM2<br>step_n=5<br>f_1=%{x}<br>f_2=%{y}<br>f_3=%{z}<extra></extra>",
           "legendgroup": "DM2",
           "marker": {
            "color": "#EF553B",
            "symbol": "circle"
           },
           "mode": "markers",
           "name": "DM2",
           "scene": "scene",
           "showlegend": true,
           "type": "scatter3d",
           "x": [
            0.5
           ],
           "y": [
            0.7
           ],
           "z": [
            0.8
           ]
          },
          {
           "hovertemplate": "Type=DM3<br>step_n=5<br>f_1=%{x}<br>f_2=%{y}<br>f_3=%{z}<extra></extra>",
           "legendgroup": "DM3",
           "marker": {
            "color": "#00cc96",
            "symbol": "circle"
           },
           "mode": "markers",
           "name": "DM3",
           "scene": "scene",
           "showlegend": true,
           "type": "scatter3d",
           "x": [
            0.5
           ],
           "y": [
            0.3
           ],
           "z": [
            0.5
           ]
          },
          {
           "hovertemplate": "Type=DM4<br>step_n=5<br>f_1=%{x}<br>f_2=%{y}<br>f_3=%{z}<extra></extra>",
           "legendgroup": "DM4",
           "marker": {
            "color": "#ab63fa",
            "symbol": "circle"
           },
           "mode": "markers",
           "name": "DM4",
           "scene": "scene",
           "showlegend": true,
           "type": "scatter3d",
           "x": [
            0.2
           ],
           "y": [
            0.5
           ],
           "z": [
            0.5
           ]
          },
          {
           "hovertemplate": "Type=NAVPOINT<br>step_n=5<br>f_1=%{x}<br>f_2=%{y}<br>f_3=%{z}<extra></extra>",
           "legendgroup": "NAVPOINT",
           "marker": {
            "color": "#FFA15A",
            "symbol": "circle"
           },
           "mode": "markers",
           "name": "NAVPOINT",
           "scene": "scene",
           "showlegend": true,
           "type": "scatter3d",
           "x": [
            0.4851436639748217
           ],
           "y": [
            0.6672148372697848
           ],
           "z": [
            0.7005276426385306
           ]
          },
          {
           "hovertemplate": "Type=REACHSOL<br>step_n=5<br>f_1=%{x}<br>f_2=%{y}<br>f_3=%{z}<extra></extra>",
           "legendgroup": "REACHSOL",
           "marker": {
            "color": "#19d3f3",
            "symbol": "circle"
           },
           "mode": "markers",
           "name": "REACHSOL",
           "scene": "scene",
           "showlegend": true,
           "type": "scatter3d",
           "x": [
            0.4851436639748217
           ],
           "y": [
            0.6672148372697848
           ],
           "z": [
            0.7005276426385306
           ]
          },
          {
           "hovertemplate": "Type=GID<br>step_n=5<br>f_1=%{x}<br>f_2=%{y}<br>f_3=%{z}<extra></extra>",
           "legendgroup": "GID",
           "marker": {
            "color": "#FF6692",
            "symbol": "circle"
           },
           "mode": "markers",
           "name": "GID",
           "scene": "scene",
           "showlegend": true,
           "type": "scatter3d",
           "x": [
            1.54682991332221
           ],
           "y": [
            1.3611828236261028
           ],
           "z": [
            1.3275768036851194
           ]
          },
          {
           "hovertemplate": "Type=GRP<br>step_n=5<br>f_1=%{x}<br>f_2=%{y}<br>f_3=%{z}<extra></extra>",
           "legendgroup": "GRP",
           "marker": {
            "color": "#B6E880",
            "symbol": "circle"
           },
           "mode": "markers",
           "name": "GRP",
           "scene": "scene",
           "showlegend": true,
           "type": "scatter3d",
           "x": [
            0.4531700866777898
           ],
           "y": [
            0.6388171763738973
           ],
           "z": [
            0.6724231963148806
           ]
          }
         ],
         "name": "5"
        }
       ],
       "layout": {
        "height": 1000,
        "legend": {
         "title": {
          "text": "Type"
         },
         "tracegroupgap": 0
        },
        "margin": {
         "t": 60
        },
        "scene": {
         "domain": {
          "x": [
           0,
           1
          ],
          "y": [
           0,
           1
          ]
         },
         "xaxis": {
          "range": [
           0,
           2
          ],
          "title": {
           "text": "f_1"
          }
         },
         "yaxis": {
          "range": [
           0,
           2
          ],
          "title": {
           "text": "f_2"
          }
         },
         "zaxis": {
          "range": [
           0,
           2
          ],
          "title": {
           "text": "f_3"
          }
         }
        },
        "sliders": [
         {
          "active": 0,
          "currentvalue": {
           "prefix": "step_n="
          },
          "len": 0.9,
          "pad": {
           "b": 10,
           "t": 60
          },
          "steps": [
           {
            "args": [
             [
              "1"
             ],
             {
              "frame": {
               "duration": 0,
               "redraw": true
              },
              "fromcurrent": true,
              "mode": "immediate",
              "transition": {
               "duration": 0,
               "easing": "linear"
              }
             }
            ],
            "label": "1",
            "method": "animate"
           },
           {
            "args": [
             [
              "2"
             ],
             {
              "frame": {
               "duration": 0,
               "redraw": true
              },
              "fromcurrent": true,
              "mode": "immediate",
              "transition": {
               "duration": 0,
               "easing": "linear"
              }
             }
            ],
            "label": "2",
            "method": "animate"
           },
           {
            "args": [
             [
              "3"
             ],
             {
              "frame": {
               "duration": 0,
               "redraw": true
              },
              "fromcurrent": true,
              "mode": "immediate",
              "transition": {
               "duration": 0,
               "easing": "linear"
              }
             }
            ],
            "label": "3",
            "method": "animate"
           },
           {
            "args": [
             [
              "4"
             ],
             {
              "frame": {
               "duration": 0,
               "redraw": true
              },
              "fromcurrent": true,
              "mode": "immediate",
              "transition": {
               "duration": 0,
               "easing": "linear"
              }
             }
            ],
            "label": "4",
            "method": "animate"
           },
           {
            "args": [
             [
              "5"
             ],
             {
              "frame": {
               "duration": 0,
               "redraw": true
              },
              "fromcurrent": true,
              "mode": "immediate",
              "transition": {
               "duration": 0,
               "easing": "linear"
              }
             }
            ],
            "label": "5",
            "method": "animate"
           }
          ],
          "x": 0.1,
          "xanchor": "left",
          "y": 0,
          "yanchor": "top"
         }
        ],
        "template": {
         "data": {
          "bar": [
           {
            "error_x": {
             "color": "#2a3f5f"
            },
            "error_y": {
             "color": "#2a3f5f"
            },
            "marker": {
             "line": {
              "color": "#E5ECF6",
              "width": 0.5
             },
             "pattern": {
              "fillmode": "overlay",
              "size": 10,
              "solidity": 0.2
             }
            },
            "type": "bar"
           }
          ],
          "barpolar": [
           {
            "marker": {
             "line": {
              "color": "#E5ECF6",
              "width": 0.5
             },
             "pattern": {
              "fillmode": "overlay",
              "size": 10,
              "solidity": 0.2
             }
            },
            "type": "barpolar"
           }
          ],
          "carpet": [
           {
            "aaxis": {
             "endlinecolor": "#2a3f5f",
             "gridcolor": "white",
             "linecolor": "white",
             "minorgridcolor": "white",
             "startlinecolor": "#2a3f5f"
            },
            "baxis": {
             "endlinecolor": "#2a3f5f",
             "gridcolor": "white",
             "linecolor": "white",
             "minorgridcolor": "white",
             "startlinecolor": "#2a3f5f"
            },
            "type": "carpet"
           }
          ],
          "choropleth": [
           {
            "colorbar": {
             "outlinewidth": 0,
             "ticks": ""
            },
            "type": "choropleth"
           }
          ],
          "contour": [
           {
            "colorbar": {
             "outlinewidth": 0,
             "ticks": ""
            },
            "colorscale": [
             [
              0,
              "#0d0887"
             ],
             [
              0.1111111111111111,
              "#46039f"
             ],
             [
              0.2222222222222222,
              "#7201a8"
             ],
             [
              0.3333333333333333,
              "#9c179e"
             ],
             [
              0.4444444444444444,
              "#bd3786"
             ],
             [
              0.5555555555555556,
              "#d8576b"
             ],
             [
              0.6666666666666666,
              "#ed7953"
             ],
             [
              0.7777777777777778,
              "#fb9f3a"
             ],
             [
              0.8888888888888888,
              "#fdca26"
             ],
             [
              1,
              "#f0f921"
             ]
            ],
            "type": "contour"
           }
          ],
          "contourcarpet": [
           {
            "colorbar": {
             "outlinewidth": 0,
             "ticks": ""
            },
            "type": "contourcarpet"
           }
          ],
          "heatmap": [
           {
            "colorbar": {
             "outlinewidth": 0,
             "ticks": ""
            },
            "colorscale": [
             [
              0,
              "#0d0887"
             ],
             [
              0.1111111111111111,
              "#46039f"
             ],
             [
              0.2222222222222222,
              "#7201a8"
             ],
             [
              0.3333333333333333,
              "#9c179e"
             ],
             [
              0.4444444444444444,
              "#bd3786"
             ],
             [
              0.5555555555555556,
              "#d8576b"
             ],
             [
              0.6666666666666666,
              "#ed7953"
             ],
             [
              0.7777777777777778,
              "#fb9f3a"
             ],
             [
              0.8888888888888888,
              "#fdca26"
             ],
             [
              1,
              "#f0f921"
             ]
            ],
            "type": "heatmap"
           }
          ],
          "heatmapgl": [
           {
            "colorbar": {
             "outlinewidth": 0,
             "ticks": ""
            },
            "colorscale": [
             [
              0,
              "#0d0887"
             ],
             [
              0.1111111111111111,
              "#46039f"
             ],
             [
              0.2222222222222222,
              "#7201a8"
             ],
             [
              0.3333333333333333,
              "#9c179e"
             ],
             [
              0.4444444444444444,
              "#bd3786"
             ],
             [
              0.5555555555555556,
              "#d8576b"
             ],
             [
              0.6666666666666666,
              "#ed7953"
             ],
             [
              0.7777777777777778,
              "#fb9f3a"
             ],
             [
              0.8888888888888888,
              "#fdca26"
             ],
             [
              1,
              "#f0f921"
             ]
            ],
            "type": "heatmapgl"
           }
          ],
          "histogram": [
           {
            "marker": {
             "pattern": {
              "fillmode": "overlay",
              "size": 10,
              "solidity": 0.2
             }
            },
            "type": "histogram"
           }
          ],
          "histogram2d": [
           {
            "colorbar": {
             "outlinewidth": 0,
             "ticks": ""
            },
            "colorscale": [
             [
              0,
              "#0d0887"
             ],
             [
              0.1111111111111111,
              "#46039f"
             ],
             [
              0.2222222222222222,
              "#7201a8"
             ],
             [
              0.3333333333333333,
              "#9c179e"
             ],
             [
              0.4444444444444444,
              "#bd3786"
             ],
             [
              0.5555555555555556,
              "#d8576b"
             ],
             [
              0.6666666666666666,
              "#ed7953"
             ],
             [
              0.7777777777777778,
              "#fb9f3a"
             ],
             [
              0.8888888888888888,
              "#fdca26"
             ],
             [
              1,
              "#f0f921"
             ]
            ],
            "type": "histogram2d"
           }
          ],
          "histogram2dcontour": [
           {
            "colorbar": {
             "outlinewidth": 0,
             "ticks": ""
            },
            "colorscale": [
             [
              0,
              "#0d0887"
             ],
             [
              0.1111111111111111,
              "#46039f"
             ],
             [
              0.2222222222222222,
              "#7201a8"
             ],
             [
              0.3333333333333333,
              "#9c179e"
             ],
             [
              0.4444444444444444,
              "#bd3786"
             ],
             [
              0.5555555555555556,
              "#d8576b"
             ],
             [
              0.6666666666666666,
              "#ed7953"
             ],
             [
              0.7777777777777778,
              "#fb9f3a"
             ],
             [
              0.8888888888888888,
              "#fdca26"
             ],
             [
              1,
              "#f0f921"
             ]
            ],
            "type": "histogram2dcontour"
           }
          ],
          "mesh3d": [
           {
            "colorbar": {
             "outlinewidth": 0,
             "ticks": ""
            },
            "type": "mesh3d"
           }
          ],
          "parcoords": [
           {
            "line": {
             "colorbar": {
              "outlinewidth": 0,
              "ticks": ""
             }
            },
            "type": "parcoords"
           }
          ],
          "pie": [
           {
            "automargin": true,
            "type": "pie"
           }
          ],
          "scatter": [
           {
            "fillpattern": {
             "fillmode": "overlay",
             "size": 10,
             "solidity": 0.2
            },
            "type": "scatter"
           }
          ],
          "scatter3d": [
           {
            "line": {
             "colorbar": {
              "outlinewidth": 0,
              "ticks": ""
             }
            },
            "marker": {
             "colorbar": {
              "outlinewidth": 0,
              "ticks": ""
             }
            },
            "type": "scatter3d"
           }
          ],
          "scattercarpet": [
           {
            "marker": {
             "colorbar": {
              "outlinewidth": 0,
              "ticks": ""
             }
            },
            "type": "scattercarpet"
           }
          ],
          "scattergeo": [
           {
            "marker": {
             "colorbar": {
              "outlinewidth": 0,
              "ticks": ""
             }
            },
            "type": "scattergeo"
           }
          ],
          "scattergl": [
           {
            "marker": {
             "colorbar": {
              "outlinewidth": 0,
              "ticks": ""
             }
            },
            "type": "scattergl"
           }
          ],
          "scattermapbox": [
           {
            "marker": {
             "colorbar": {
              "outlinewidth": 0,
              "ticks": ""
             }
            },
            "type": "scattermapbox"
           }
          ],
          "scatterpolar": [
           {
            "marker": {
             "colorbar": {
              "outlinewidth": 0,
              "ticks": ""
             }
            },
            "type": "scatterpolar"
           }
          ],
          "scatterpolargl": [
           {
            "marker": {
             "colorbar": {
              "outlinewidth": 0,
              "ticks": ""
             }
            },
            "type": "scatterpolargl"
           }
          ],
          "scatterternary": [
           {
            "marker": {
             "colorbar": {
              "outlinewidth": 0,
              "ticks": ""
             }
            },
            "type": "scatterternary"
           }
          ],
          "surface": [
           {
            "colorbar": {
             "outlinewidth": 0,
             "ticks": ""
            },
            "colorscale": [
             [
              0,
              "#0d0887"
             ],
             [
              0.1111111111111111,
              "#46039f"
             ],
             [
              0.2222222222222222,
              "#7201a8"
             ],
             [
              0.3333333333333333,
              "#9c179e"
             ],
             [
              0.4444444444444444,
              "#bd3786"
             ],
             [
              0.5555555555555556,
              "#d8576b"
             ],
             [
              0.6666666666666666,
              "#ed7953"
             ],
             [
              0.7777777777777778,
              "#fb9f3a"
             ],
             [
              0.8888888888888888,
              "#fdca26"
             ],
             [
              1,
              "#f0f921"
             ]
            ],
            "type": "surface"
           }
          ],
          "table": [
           {
            "cells": {
             "fill": {
              "color": "#EBF0F8"
             },
             "line": {
              "color": "white"
             }
            },
            "header": {
             "fill": {
              "color": "#C8D4E3"
             },
             "line": {
              "color": "white"
             }
            },
            "type": "table"
           }
          ]
         },
         "layout": {
          "annotationdefaults": {
           "arrowcolor": "#2a3f5f",
           "arrowhead": 0,
           "arrowwidth": 1
          },
          "autotypenumbers": "strict",
          "coloraxis": {
           "colorbar": {
            "outlinewidth": 0,
            "ticks": ""
           }
          },
          "colorscale": {
           "diverging": [
            [
             0,
             "#8e0152"
            ],
            [
             0.1,
             "#c51b7d"
            ],
            [
             0.2,
             "#de77ae"
            ],
            [
             0.3,
             "#f1b6da"
            ],
            [
             0.4,
             "#fde0ef"
            ],
            [
             0.5,
             "#f7f7f7"
            ],
            [
             0.6,
             "#e6f5d0"
            ],
            [
             0.7,
             "#b8e186"
            ],
            [
             0.8,
             "#7fbc41"
            ],
            [
             0.9,
             "#4d9221"
            ],
            [
             1,
             "#276419"
            ]
           ],
           "sequential": [
            [
             0,
             "#0d0887"
            ],
            [
             0.1111111111111111,
             "#46039f"
            ],
            [
             0.2222222222222222,
             "#7201a8"
            ],
            [
             0.3333333333333333,
             "#9c179e"
            ],
            [
             0.4444444444444444,
             "#bd3786"
            ],
            [
             0.5555555555555556,
             "#d8576b"
            ],
            [
             0.6666666666666666,
             "#ed7953"
            ],
            [
             0.7777777777777778,
             "#fb9f3a"
            ],
            [
             0.8888888888888888,
             "#fdca26"
            ],
            [
             1,
             "#f0f921"
            ]
           ],
           "sequentialminus": [
            [
             0,
             "#0d0887"
            ],
            [
             0.1111111111111111,
             "#46039f"
            ],
            [
             0.2222222222222222,
             "#7201a8"
            ],
            [
             0.3333333333333333,
             "#9c179e"
            ],
            [
             0.4444444444444444,
             "#bd3786"
            ],
            [
             0.5555555555555556,
             "#d8576b"
            ],
            [
             0.6666666666666666,
             "#ed7953"
            ],
            [
             0.7777777777777778,
             "#fb9f3a"
            ],
            [
             0.8888888888888888,
             "#fdca26"
            ],
            [
             1,
             "#f0f921"
            ]
           ]
          },
          "colorway": [
           "#636efa",
           "#EF553B",
           "#00cc96",
           "#ab63fa",
           "#FFA15A",
           "#19d3f3",
           "#FF6692",
           "#B6E880",
           "#FF97FF",
           "#FECB52"
          ],
          "font": {
           "color": "#2a3f5f"
          },
          "geo": {
           "bgcolor": "white",
           "lakecolor": "white",
           "landcolor": "#E5ECF6",
           "showlakes": true,
           "showland": true,
           "subunitcolor": "white"
          },
          "hoverlabel": {
           "align": "left"
          },
          "hovermode": "closest",
          "mapbox": {
           "style": "light"
          },
          "paper_bgcolor": "white",
          "plot_bgcolor": "#E5ECF6",
          "polar": {
           "angularaxis": {
            "gridcolor": "white",
            "linecolor": "white",
            "ticks": ""
           },
           "bgcolor": "#E5ECF6",
           "radialaxis": {
            "gridcolor": "white",
            "linecolor": "white",
            "ticks": ""
           }
          },
          "scene": {
           "xaxis": {
            "backgroundcolor": "#E5ECF6",
            "gridcolor": "white",
            "gridwidth": 2,
            "linecolor": "white",
            "showbackground": true,
            "ticks": "",
            "zerolinecolor": "white"
           },
           "yaxis": {
            "backgroundcolor": "#E5ECF6",
            "gridcolor": "white",
            "gridwidth": 2,
            "linecolor": "white",
            "showbackground": true,
            "ticks": "",
            "zerolinecolor": "white"
           },
           "zaxis": {
            "backgroundcolor": "#E5ECF6",
            "gridcolor": "white",
            "gridwidth": 2,
            "linecolor": "white",
            "showbackground": true,
            "ticks": "",
            "zerolinecolor": "white"
           }
          },
          "shapedefaults": {
           "line": {
            "color": "#2a3f5f"
           }
          },
          "ternary": {
           "aaxis": {
            "gridcolor": "white",
            "linecolor": "white",
            "ticks": ""
           },
           "baxis": {
            "gridcolor": "white",
            "linecolor": "white",
            "ticks": ""
           },
           "bgcolor": "#E5ECF6",
           "caxis": {
            "gridcolor": "white",
            "linecolor": "white",
            "ticks": ""
           }
          },
          "title": {
           "x": 0.05
          },
          "xaxis": {
           "automargin": true,
           "gridcolor": "white",
           "linecolor": "white",
           "ticks": "",
           "title": {
            "standoff": 15
           },
           "zerolinecolor": "white",
           "zerolinewidth": 2
          },
          "yaxis": {
           "automargin": true,
           "gridcolor": "white",
           "linecolor": "white",
           "ticks": "",
           "title": {
            "standoff": 15
           },
           "zerolinecolor": "white",
           "zerolinewidth": 2
          }
         }
        },
        "updatemenus": [
         {
          "buttons": [
           {
            "args": [
             null,
             {
              "frame": {
               "duration": 500,
               "redraw": true
              },
              "fromcurrent": true,
              "mode": "immediate",
              "transition": {
               "duration": 500,
               "easing": "linear"
              }
             }
            ],
            "label": "&#9654;",
            "method": "animate"
           },
           {
            "args": [
             [
              null
             ],
             {
              "frame": {
               "duration": 0,
               "redraw": true
              },
              "fromcurrent": true,
              "mode": "immediate",
              "transition": {
               "duration": 0,
               "easing": "linear"
              }
             }
            ],
            "label": "&#9724;",
            "method": "animate"
           }
          ],
          "direction": "left",
          "pad": {
           "r": 10,
           "t": 70
          },
          "showactive": false,
          "type": "buttons",
          "x": 0.1,
          "xanchor": "right",
          "y": 0,
          "yanchor": "top"
         }
        ],
        "width": 1000
       }
      }
     },
     "metadata": {},
     "output_type": "display_data"
    }
   ],
   "source": [
    "import plotly.express as ex\n",
    "\n",
    "df = df_from_responses(all_resp, 3)\n",
    "\n",
    "visu_ideal = [0,0,0]\n",
    "visu_nadir = [2,2,2]\n",
    "\n",
    "# näin helppoa se on kun sen vaan saa oikein !!!\n",
    "fig3 = ex.scatter_3d(df.sort_values(\"step_n\"),\n",
    "x=\"f_1\", y=\"f_2\", z=\"f_3\",\n",
    "color=\"Type\",\n",
    "#range_x=[visu_ideal[0] - 0.5, visu_nadir[0] + 0.5],\n",
    "#range_y=[visu_ideal[1] - 0.5, visu_nadir[1] + 0.5],\n",
    "#range_z=[visu_ideal[2] - 0.5, visu_nadir[2] + 0.5],\n",
    "range_x=[visu_ideal[0] - 0, visu_nadir[0]],\n",
    "range_y=[visu_ideal[1] - 0, visu_nadir[1]],\n",
    "range_z=[visu_ideal[2] - 0, visu_nadir[2]],\n",
    "width= 1000,\n",
    "height= 1000,\n",
    "animation_frame=f\"step_n\",\n",
    ")\n",
    "\n",
    "fig3"
   ]
  },
  {
   "cell_type": "code",
   "execution_count": 8,
   "metadata": {
    "metadata": {}
   },
   "outputs": [],
   "source": [
    "fig3.write_html(\"results/S7maxmincones.html\")"
   ]
  },
  {
   "cell_type": "code",
   "execution_count": 17,
   "metadata": {
    "metadata": {}
   },
   "outputs": [],
   "source": [
    "def df_from_responses2d(all_resp, k):\n",
    "    # TODO: make the f_1's come from the k\n",
    "    dd = {\"step_n\":[], \"Type\":[], \"f_1\":[], \"f_2\":[]}\n",
    "    for resp in all_resp:\n",
    "        first_iter_gid = all_resp[0].group_improvement_direction\n",
    "        first_iter_grp = all_resp[0].group_reference_point\n",
    "        for q in range(1,4): # DM määrä on q\n",
    "            dd[\"step_n\"].append(resp.step_number)\n",
    "            dd[\"Type\"].append(f\"DM{q}\")\n",
    "            dd[\"f_1\"].append(resp.reference_points[f\"DM{q}\"][\"f_1\"])\n",
    "            dd[\"f_2\"].append(resp.reference_points[f\"DM{q}\"][\"f_2\"])\n",
    "            #dd[\"f_3\"].append(resp.reference_points[f\"DM{q}\"][\"f_3\"])\n",
    "        # add navigation point\n",
    "        dd[\"step_n\"].append(resp.step_number)\n",
    "        dd[\"Type\"].append(f\"NAVPOINT\")\n",
    "        dd[\"f_1\"].append(resp.navigation_point[\"f_1\"])\n",
    "        dd[\"f_2\"].append(resp.navigation_point[\"f_2\"])\n",
    "        #dd[\"f_3\"].append(resp.navigation_point[\"f_3\"])\n",
    "        # add reachable solution\n",
    "        dd[\"step_n\"].append(resp.step_number)\n",
    "        dd[\"Type\"].append(f\"REACHSOL\")\n",
    "        dd[\"f_1\"].append(resp.reachable_solution[\"f_1\"])\n",
    "        dd[\"f_2\"].append(resp.reachable_solution[\"f_2\"])\n",
    "        #dd[\"f_3\"].append(resp.reachable_solution[\"f_3\"])\n",
    "        # add group improvement direction\n",
    "        if resp.group_improvement_direction == None:\n",
    "            dd[\"step_n\"].append(resp.step_number)\n",
    "            dd[\"Type\"].append(f\"GID\")\n",
    "            dd[\"f_1\"].append(first_iter_gid[\"f_1\"])\n",
    "            dd[\"f_2\"].append(first_iter_gid[\"f_2\"])\n",
    "            #dd[\"f_3\"].append(first_iter_gid[\"f_3\"])\n",
    "        else:\n",
    "            dd[\"step_n\"].append(resp.step_number)\n",
    "            dd[\"Type\"].append(f\"GID\")\n",
    "            dd[\"f_1\"].append(resp.group_improvement_direction[\"f_1\"])\n",
    "            dd[\"f_2\"].append(resp.group_improvement_direction[\"f_2\"])\n",
    "            #dd[\"f_3\"].append(resp.group_improvement_direction[\"f_3\"])\n",
    "        if resp.group_reference_point == None:\n",
    "            dd[\"step_n\"].append(resp.step_number)\n",
    "            dd[\"Type\"].append(f\"GRP\")\n",
    "            dd[\"f_1\"].append(first_iter_grp[\"f_1\"])\n",
    "            dd[\"f_2\"].append(first_iter_grp[\"f_2\"])\n",
    "            #dd[\"f_3\"].append(first_iter_grp[\"f_3\"])\n",
    "        else:\n",
    "            dd[\"step_n\"].append(resp.step_number)\n",
    "            dd[\"Type\"].append(f\"GRP\")\n",
    "            dd[\"f_1\"].append(resp.group_reference_point[\"f_1\"])\n",
    "            dd[\"f_2\"].append(resp.group_reference_point[\"f_2\"])\n",
    "            #dd[\"f_3\"].append(resp.group_reference_point[\"f_3\"])\n",
    "\n",
    "    ttt = pd.DataFrame(dd)\n",
    "    return ttt"
   ]
  },
  {
   "cell_type": "code",
   "execution_count": 18,
   "metadata": {
    "metadata": {}
   },
   "outputs": [
    {
     "data": {
      "application/vnd.plotly.v1+json": {
       "config": {
        "plotlyServerURL": "https://plot.ly"
       },
       "data": [
        {
         "hovertemplate": "Type=DM1<br>step_n=1<br>f_1=%{x}<br>f_2=%{y}<extra></extra>",
         "legendgroup": "DM1",
         "marker": {
          "color": "#636efa",
          "symbol": "circle"
         },
         "mode": "markers",
         "name": "DM1",
         "orientation": "v",
         "showlegend": true,
         "type": "scatter",
         "x": [
          80
         ],
         "xaxis": "x",
         "y": [
          10
         ],
         "yaxis": "y"
        },
        {
         "hovertemplate": "Type=DM2<br>step_n=1<br>f_1=%{x}<br>f_2=%{y}<extra></extra>",
         "legendgroup": "DM2",
         "marker": {
          "color": "#EF553B",
          "symbol": "circle"
         },
         "mode": "markers",
         "name": "DM2",
         "orientation": "v",
         "showlegend": true,
         "type": "scatter",
         "x": [
          40
         ],
         "xaxis": "x",
         "y": [
          15
         ],
         "yaxis": "y"
        },
        {
         "hovertemplate": "Type=DM3<br>step_n=1<br>f_1=%{x}<br>f_2=%{y}<extra></extra>",
         "legendgroup": "DM3",
         "marker": {
          "color": "#00cc96",
          "symbol": "circle"
         },
         "mode": "markers",
         "name": "DM3",
         "orientation": "v",
         "showlegend": true,
         "type": "scatter",
         "x": [
          10
         ],
         "xaxis": "x",
         "y": [
          40
         ],
         "yaxis": "y"
        },
        {
         "hovertemplate": "Type=NAVPOINT<br>step_n=1<br>f_1=%{x}<br>f_2=%{y}<extra></extra>",
         "legendgroup": "NAVPOINT",
         "marker": {
          "color": "#ab63fa",
          "symbol": "circle"
         },
         "mode": "markers",
         "name": "NAVPOINT",
         "orientation": "v",
         "showlegend": true,
         "type": "scatter",
         "x": [
          124.86549585597679
         ],
         "xaxis": "x",
         "y": [
          42.479662653012504
         ],
         "yaxis": "y"
        },
        {
         "hovertemplate": "Type=REACHSOL<br>step_n=1<br>f_1=%{x}<br>f_2=%{y}<extra></extra>",
         "legendgroup": "REACHSOL",
         "marker": {
          "color": "#FFA15A",
          "symbol": "circle"
         },
         "mode": "markers",
         "name": "REACHSOL",
         "orientation": "v",
         "showlegend": true,
         "type": "scatter",
         "x": [
          64.32747927988396
         ],
         "xaxis": "x",
         "y": [
          12.398313265062507
         ],
         "yaxis": "y"
        },
        {
         "hovertemplate": "Type=GID<br>step_n=1<br>f_1=%{x}<br>f_2=%{y}<extra></extra>",
         "legendgroup": "GID",
         "marker": {
          "color": "#19d3f3",
          "symbol": "circle"
         },
         "mode": "markers",
         "name": "GID",
         "orientation": "v",
         "showlegend": true,
         "type": "scatter",
         "x": [
          72.81342799762702
         ],
         "xaxis": "x",
         "y": [
          36.18100313838119
         ],
         "yaxis": "y"
        },
        {
         "hovertemplate": "Type=GRP<br>step_n=1<br>f_1=%{x}<br>f_2=%{y}<extra></extra>",
         "legendgroup": "GRP",
         "marker": {
          "color": "#FF6692",
          "symbol": "circle"
         },
         "mode": "markers",
         "name": "GRP",
         "orientation": "v",
         "showlegend": true,
         "type": "scatter",
         "x": [
          67.18657200237298
         ],
         "xaxis": "x",
         "y": [
          13.818996861618805
         ],
         "yaxis": "y"
        }
       ],
       "frames": [
        {
         "data": [
          {
           "hovertemplate": "Type=DM1<br>step_n=1<br>f_1=%{x}<br>f_2=%{y}<extra></extra>",
           "legendgroup": "DM1",
           "marker": {
            "color": "#636efa",
            "symbol": "circle"
           },
           "mode": "markers",
           "name": "DM1",
           "orientation": "v",
           "showlegend": true,
           "type": "scatter",
           "x": [
            80
           ],
           "xaxis": "x",
           "y": [
            10
           ],
           "yaxis": "y"
          },
          {
           "hovertemplate": "Type=DM2<br>step_n=1<br>f_1=%{x}<br>f_2=%{y}<extra></extra>",
           "legendgroup": "DM2",
           "marker": {
            "color": "#EF553B",
            "symbol": "circle"
           },
           "mode": "markers",
           "name": "DM2",
           "orientation": "v",
           "showlegend": true,
           "type": "scatter",
           "x": [
            40
           ],
           "xaxis": "x",
           "y": [
            15
           ],
           "yaxis": "y"
          },
          {
           "hovertemplate": "Type=DM3<br>step_n=1<br>f_1=%{x}<br>f_2=%{y}<extra></extra>",
           "legendgroup": "DM3",
           "marker": {
            "color": "#00cc96",
            "symbol": "circle"
           },
           "mode": "markers",
           "name": "DM3",
           "orientation": "v",
           "showlegend": true,
           "type": "scatter",
           "x": [
            10
           ],
           "xaxis": "x",
           "y": [
            40
           ],
           "yaxis": "y"
          },
          {
           "hovertemplate": "Type=NAVPOINT<br>step_n=1<br>f_1=%{x}<br>f_2=%{y}<extra></extra>",
           "legendgroup": "NAVPOINT",
           "marker": {
            "color": "#ab63fa",
            "symbol": "circle"
           },
           "mode": "markers",
           "name": "NAVPOINT",
           "orientation": "v",
           "showlegend": true,
           "type": "scatter",
           "x": [
            124.86549585597679
           ],
           "xaxis": "x",
           "y": [
            42.479662653012504
           ],
           "yaxis": "y"
          },
          {
           "hovertemplate": "Type=REACHSOL<br>step_n=1<br>f_1=%{x}<br>f_2=%{y}<extra></extra>",
           "legendgroup": "REACHSOL",
           "marker": {
            "color": "#FFA15A",
            "symbol": "circle"
           },
           "mode": "markers",
           "name": "REACHSOL",
           "orientation": "v",
           "showlegend": true,
           "type": "scatter",
           "x": [
            64.32747927988396
           ],
           "xaxis": "x",
           "y": [
            12.398313265062507
           ],
           "yaxis": "y"
          },
          {
           "hovertemplate": "Type=GID<br>step_n=1<br>f_1=%{x}<br>f_2=%{y}<extra></extra>",
           "legendgroup": "GID",
           "marker": {
            "color": "#19d3f3",
            "symbol": "circle"
           },
           "mode": "markers",
           "name": "GID",
           "orientation": "v",
           "showlegend": true,
           "type": "scatter",
           "x": [
            72.81342799762702
           ],
           "xaxis": "x",
           "y": [
            36.18100313838119
           ],
           "yaxis": "y"
          },
          {
           "hovertemplate": "Type=GRP<br>step_n=1<br>f_1=%{x}<br>f_2=%{y}<extra></extra>",
           "legendgroup": "GRP",
           "marker": {
            "color": "#FF6692",
            "symbol": "circle"
           },
           "mode": "markers",
           "name": "GRP",
           "orientation": "v",
           "showlegend": true,
           "type": "scatter",
           "x": [
            67.18657200237298
           ],
           "xaxis": "x",
           "y": [
            13.818996861618805
           ],
           "yaxis": "y"
          }
         ],
         "name": "1"
        },
        {
         "data": [
          {
           "hovertemplate": "Type=DM1<br>step_n=2<br>f_1=%{x}<br>f_2=%{y}<extra></extra>",
           "legendgroup": "DM1",
           "marker": {
            "color": "#636efa",
            "symbol": "circle"
           },
           "mode": "markers",
           "name": "DM1",
           "orientation": "v",
           "showlegend": true,
           "type": "scatter",
           "x": [
            80
           ],
           "xaxis": "x",
           "y": [
            10
           ],
           "yaxis": "y"
          },
          {
           "hovertemplate": "Type=DM2<br>step_n=2<br>f_1=%{x}<br>f_2=%{y}<extra></extra>",
           "legendgroup": "DM2",
           "marker": {
            "color": "#EF553B",
            "symbol": "circle"
           },
           "mode": "markers",
           "name": "DM2",
           "orientation": "v",
           "showlegend": true,
           "type": "scatter",
           "x": [
            40
           ],
           "xaxis": "x",
           "y": [
            15
           ],
           "yaxis": "y"
          },
          {
           "hovertemplate": "Type=DM3<br>step_n=2<br>f_1=%{x}<br>f_2=%{y}<extra></extra>",
           "legendgroup": "DM3",
           "marker": {
            "color": "#00cc96",
            "symbol": "circle"
           },
           "mode": "markers",
           "name": "DM3",
           "orientation": "v",
           "showlegend": true,
           "type": "scatter",
           "x": [
            10
           ],
           "xaxis": "x",
           "y": [
            40
           ],
           "yaxis": "y"
          },
          {
           "hovertemplate": "Type=NAVPOINT<br>step_n=2<br>f_1=%{x}<br>f_2=%{y}<extra></extra>",
           "legendgroup": "NAVPOINT",
           "marker": {
            "color": "#ab63fa",
            "symbol": "circle"
           },
           "mode": "markers",
           "name": "NAVPOINT",
           "orientation": "v",
           "showlegend": true,
           "type": "scatter",
           "x": [
            109.73099171195358
           ],
           "xaxis": "x",
           "y": [
            34.95932530602501
           ],
           "yaxis": "y"
          },
          {
           "hovertemplate": "Type=REACHSOL<br>step_n=2<br>f_1=%{x}<br>f_2=%{y}<extra></extra>",
           "legendgroup": "REACHSOL",
           "marker": {
            "color": "#FFA15A",
            "symbol": "circle"
           },
           "mode": "markers",
           "name": "REACHSOL",
           "orientation": "v",
           "showlegend": true,
           "type": "scatter",
           "x": [
            64.32747927988396
           ],
           "xaxis": "x",
           "y": [
            12.398313265062507
           ],
           "yaxis": "y"
          },
          {
           "hovertemplate": "Type=GID<br>step_n=2<br>f_1=%{x}<br>f_2=%{y}<extra></extra>",
           "legendgroup": "GID",
           "marker": {
            "color": "#19d3f3",
            "symbol": "circle"
           },
           "mode": "markers",
           "name": "GID",
           "orientation": "v",
           "showlegend": true,
           "type": "scatter",
           "x": [
            72.81342799762702
           ],
           "xaxis": "x",
           "y": [
            36.18100313838119
           ],
           "yaxis": "y"
          },
          {
           "hovertemplate": "Type=GRP<br>step_n=2<br>f_1=%{x}<br>f_2=%{y}<extra></extra>",
           "legendgroup": "GRP",
           "marker": {
            "color": "#FF6692",
            "symbol": "circle"
           },
           "mode": "markers",
           "name": "GRP",
           "orientation": "v",
           "showlegend": true,
           "type": "scatter",
           "x": [
            67.18657200237298
           ],
           "xaxis": "x",
           "y": [
            13.818996861618805
           ],
           "yaxis": "y"
          }
         ],
         "name": "2"
        },
        {
         "data": [
          {
           "hovertemplate": "Type=DM1<br>step_n=3<br>f_1=%{x}<br>f_2=%{y}<extra></extra>",
           "legendgroup": "DM1",
           "marker": {
            "color": "#636efa",
            "symbol": "circle"
           },
           "mode": "markers",
           "name": "DM1",
           "orientation": "v",
           "showlegend": true,
           "type": "scatter",
           "x": [
            80
           ],
           "xaxis": "x",
           "y": [
            10
           ],
           "yaxis": "y"
          },
          {
           "hovertemplate": "Type=DM2<br>step_n=3<br>f_1=%{x}<br>f_2=%{y}<extra></extra>",
           "legendgroup": "DM2",
           "marker": {
            "color": "#EF553B",
            "symbol": "circle"
           },
           "mode": "markers",
           "name": "DM2",
           "orientation": "v",
           "showlegend": true,
           "type": "scatter",
           "x": [
            40
           ],
           "xaxis": "x",
           "y": [
            15
           ],
           "yaxis": "y"
          },
          {
           "hovertemplate": "Type=DM3<br>step_n=3<br>f_1=%{x}<br>f_2=%{y}<extra></extra>",
           "legendgroup": "DM3",
           "marker": {
            "color": "#00cc96",
            "symbol": "circle"
           },
           "mode": "markers",
           "name": "DM3",
           "orientation": "v",
           "showlegend": true,
           "type": "scatter",
           "x": [
            10
           ],
           "xaxis": "x",
           "y": [
            40
           ],
           "yaxis": "y"
          },
          {
           "hovertemplate": "Type=NAVPOINT<br>step_n=3<br>f_1=%{x}<br>f_2=%{y}<extra></extra>",
           "legendgroup": "NAVPOINT",
           "marker": {
            "color": "#ab63fa",
            "symbol": "circle"
           },
           "mode": "markers",
           "name": "NAVPOINT",
           "orientation": "v",
           "showlegend": true,
           "type": "scatter",
           "x": [
            94.59648756793037
           ],
           "xaxis": "x",
           "y": [
            27.438987959037505
           ],
           "yaxis": "y"
          },
          {
           "hovertemplate": "Type=REACHSOL<br>step_n=3<br>f_1=%{x}<br>f_2=%{y}<extra></extra>",
           "legendgroup": "REACHSOL",
           "marker": {
            "color": "#FFA15A",
            "symbol": "circle"
           },
           "mode": "markers",
           "name": "REACHSOL",
           "orientation": "v",
           "showlegend": true,
           "type": "scatter",
           "x": [
            64.32747927988396
           ],
           "xaxis": "x",
           "y": [
            12.398313265062507
           ],
           "yaxis": "y"
          },
          {
           "hovertemplate": "Type=GID<br>step_n=3<br>f_1=%{x}<br>f_2=%{y}<extra></extra>",
           "legendgroup": "GID",
           "marker": {
            "color": "#19d3f3",
            "symbol": "circle"
           },
           "mode": "markers",
           "name": "GID",
           "orientation": "v",
           "showlegend": true,
           "type": "scatter",
           "x": [
            72.81342799762702
           ],
           "xaxis": "x",
           "y": [
            36.18100313838119
           ],
           "yaxis": "y"
          },
          {
           "hovertemplate": "Type=GRP<br>step_n=3<br>f_1=%{x}<br>f_2=%{y}<extra></extra>",
           "legendgroup": "GRP",
           "marker": {
            "color": "#FF6692",
            "symbol": "circle"
           },
           "mode": "markers",
           "name": "GRP",
           "orientation": "v",
           "showlegend": true,
           "type": "scatter",
           "x": [
            67.18657200237298
           ],
           "xaxis": "x",
           "y": [
            13.818996861618805
           ],
           "yaxis": "y"
          }
         ],
         "name": "3"
        },
        {
         "data": [
          {
           "hovertemplate": "Type=DM1<br>step_n=4<br>f_1=%{x}<br>f_2=%{y}<extra></extra>",
           "legendgroup": "DM1",
           "marker": {
            "color": "#636efa",
            "symbol": "circle"
           },
           "mode": "markers",
           "name": "DM1",
           "orientation": "v",
           "showlegend": true,
           "type": "scatter",
           "x": [
            80
           ],
           "xaxis": "x",
           "y": [
            10
           ],
           "yaxis": "y"
          },
          {
           "hovertemplate": "Type=DM2<br>step_n=4<br>f_1=%{x}<br>f_2=%{y}<extra></extra>",
           "legendgroup": "DM2",
           "marker": {
            "color": "#EF553B",
            "symbol": "circle"
           },
           "mode": "markers",
           "name": "DM2",
           "orientation": "v",
           "showlegend": true,
           "type": "scatter",
           "x": [
            40
           ],
           "xaxis": "x",
           "y": [
            15
           ],
           "yaxis": "y"
          },
          {
           "hovertemplate": "Type=DM3<br>step_n=4<br>f_1=%{x}<br>f_2=%{y}<extra></extra>",
           "legendgroup": "DM3",
           "marker": {
            "color": "#00cc96",
            "symbol": "circle"
           },
           "mode": "markers",
           "name": "DM3",
           "orientation": "v",
           "showlegend": true,
           "type": "scatter",
           "x": [
            10
           ],
           "xaxis": "x",
           "y": [
            40
           ],
           "yaxis": "y"
          },
          {
           "hovertemplate": "Type=NAVPOINT<br>step_n=4<br>f_1=%{x}<br>f_2=%{y}<extra></extra>",
           "legendgroup": "NAVPOINT",
           "marker": {
            "color": "#ab63fa",
            "symbol": "circle"
           },
           "mode": "markers",
           "name": "NAVPOINT",
           "orientation": "v",
           "showlegend": true,
           "type": "scatter",
           "x": [
            79.46198342390716
           ],
           "xaxis": "x",
           "y": [
            19.918650612050005
           ],
           "yaxis": "y"
          },
          {
           "hovertemplate": "Type=REACHSOL<br>step_n=4<br>f_1=%{x}<br>f_2=%{y}<extra></extra>",
           "legendgroup": "REACHSOL",
           "marker": {
            "color": "#FFA15A",
            "symbol": "circle"
           },
           "mode": "markers",
           "name": "REACHSOL",
           "orientation": "v",
           "showlegend": true,
           "type": "scatter",
           "x": [
            64.32747927988396
           ],
           "xaxis": "x",
           "y": [
            12.398313265062507
           ],
           "yaxis": "y"
          },
          {
           "hovertemplate": "Type=GID<br>step_n=4<br>f_1=%{x}<br>f_2=%{y}<extra></extra>",
           "legendgroup": "GID",
           "marker": {
            "color": "#19d3f3",
            "symbol": "circle"
           },
           "mode": "markers",
           "name": "GID",
           "orientation": "v",
           "showlegend": true,
           "type": "scatter",
           "x": [
            72.81342799762702
           ],
           "xaxis": "x",
           "y": [
            36.18100313838119
           ],
           "yaxis": "y"
          },
          {
           "hovertemplate": "Type=GRP<br>step_n=4<br>f_1=%{x}<br>f_2=%{y}<extra></extra>",
           "legendgroup": "GRP",
           "marker": {
            "color": "#FF6692",
            "symbol": "circle"
           },
           "mode": "markers",
           "name": "GRP",
           "orientation": "v",
           "showlegend": true,
           "type": "scatter",
           "x": [
            67.18657200237298
           ],
           "xaxis": "x",
           "y": [
            13.818996861618805
           ],
           "yaxis": "y"
          }
         ],
         "name": "4"
        },
        {
         "data": [
          {
           "hovertemplate": "Type=DM1<br>step_n=5<br>f_1=%{x}<br>f_2=%{y}<extra></extra>",
           "legendgroup": "DM1",
           "marker": {
            "color": "#636efa",
            "symbol": "circle"
           },
           "mode": "markers",
           "name": "DM1",
           "orientation": "v",
           "showlegend": true,
           "type": "scatter",
           "x": [
            80
           ],
           "xaxis": "x",
           "y": [
            10
           ],
           "yaxis": "y"
          },
          {
           "hovertemplate": "Type=DM2<br>step_n=5<br>f_1=%{x}<br>f_2=%{y}<extra></extra>",
           "legendgroup": "DM2",
           "marker": {
            "color": "#EF553B",
            "symbol": "circle"
           },
           "mode": "markers",
           "name": "DM2",
           "orientation": "v",
           "showlegend": true,
           "type": "scatter",
           "x": [
            40
           ],
           "xaxis": "x",
           "y": [
            15
           ],
           "yaxis": "y"
          },
          {
           "hovertemplate": "Type=DM3<br>step_n=5<br>f_1=%{x}<br>f_2=%{y}<extra></extra>",
           "legendgroup": "DM3",
           "marker": {
            "color": "#00cc96",
            "symbol": "circle"
           },
           "mode": "markers",
           "name": "DM3",
           "orientation": "v",
           "showlegend": true,
           "type": "scatter",
           "x": [
            10
           ],
           "xaxis": "x",
           "y": [
            40
           ],
           "yaxis": "y"
          },
          {
           "hovertemplate": "Type=NAVPOINT<br>step_n=5<br>f_1=%{x}<br>f_2=%{y}<extra></extra>",
           "legendgroup": "NAVPOINT",
           "marker": {
            "color": "#ab63fa",
            "symbol": "circle"
           },
           "mode": "markers",
           "name": "NAVPOINT",
           "orientation": "v",
           "showlegend": true,
           "type": "scatter",
           "x": [
            64.32747927988396
           ],
           "xaxis": "x",
           "y": [
            12.398313265062507
           ],
           "yaxis": "y"
          },
          {
           "hovertemplate": "Type=REACHSOL<br>step_n=5<br>f_1=%{x}<br>f_2=%{y}<extra></extra>",
           "legendgroup": "REACHSOL",
           "marker": {
            "color": "#FFA15A",
            "symbol": "circle"
           },
           "mode": "markers",
           "name": "REACHSOL",
           "orientation": "v",
           "showlegend": true,
           "type": "scatter",
           "x": [
            64.32747927988396
           ],
           "xaxis": "x",
           "y": [
            12.398313265062507
           ],
           "yaxis": "y"
          },
          {
           "hovertemplate": "Type=GID<br>step_n=5<br>f_1=%{x}<br>f_2=%{y}<extra></extra>",
           "legendgroup": "GID",
           "marker": {
            "color": "#19d3f3",
            "symbol": "circle"
           },
           "mode": "markers",
           "name": "GID",
           "orientation": "v",
           "showlegend": true,
           "type": "scatter",
           "x": [
            72.81342799762702
           ],
           "xaxis": "x",
           "y": [
            36.18100313838119
           ],
           "yaxis": "y"
          },
          {
           "hovertemplate": "Type=GRP<br>step_n=5<br>f_1=%{x}<br>f_2=%{y}<extra></extra>",
           "legendgroup": "GRP",
           "marker": {
            "color": "#FF6692",
            "symbol": "circle"
           },
           "mode": "markers",
           "name": "GRP",
           "orientation": "v",
           "showlegend": true,
           "type": "scatter",
           "x": [
            67.18657200237298
           ],
           "xaxis": "x",
           "y": [
            13.818996861618805
           ],
           "yaxis": "y"
          }
         ],
         "name": "5"
        }
       ],
       "layout": {
        "height": 1000,
        "legend": {
         "title": {
          "text": "Type"
         },
         "tracegroupgap": 0
        },
        "margin": {
         "t": 60
        },
        "sliders": [
         {
          "active": 0,
          "currentvalue": {
           "prefix": "step_n="
          },
          "len": 0.9,
          "pad": {
           "b": 10,
           "t": 60
          },
          "steps": [
           {
            "args": [
             [
              "1"
             ],
             {
              "frame": {
               "duration": 0,
               "redraw": false
              },
              "fromcurrent": true,
              "mode": "immediate",
              "transition": {
               "duration": 0,
               "easing": "linear"
              }
             }
            ],
            "label": "1",
            "method": "animate"
           },
           {
            "args": [
             [
              "2"
             ],
             {
              "frame": {
               "duration": 0,
               "redraw": false
              },
              "fromcurrent": true,
              "mode": "immediate",
              "transition": {
               "duration": 0,
               "easing": "linear"
              }
             }
            ],
            "label": "2",
            "method": "animate"
           },
           {
            "args": [
             [
              "3"
             ],
             {
              "frame": {
               "duration": 0,
               "redraw": false
              },
              "fromcurrent": true,
              "mode": "immediate",
              "transition": {
               "duration": 0,
               "easing": "linear"
              }
             }
            ],
            "label": "3",
            "method": "animate"
           },
           {
            "args": [
             [
              "4"
             ],
             {
              "frame": {
               "duration": 0,
               "redraw": false
              },
              "fromcurrent": true,
              "mode": "immediate",
              "transition": {
               "duration": 0,
               "easing": "linear"
              }
             }
            ],
            "label": "4",
            "method": "animate"
           },
           {
            "args": [
             [
              "5"
             ],
             {
              "frame": {
               "duration": 0,
               "redraw": false
              },
              "fromcurrent": true,
              "mode": "immediate",
              "transition": {
               "duration": 0,
               "easing": "linear"
              }
             }
            ],
            "label": "5",
            "method": "animate"
           }
          ],
          "x": 0.1,
          "xanchor": "left",
          "y": 0,
          "yanchor": "top"
         }
        ],
        "template": {
         "data": {
          "bar": [
           {
            "error_x": {
             "color": "#2a3f5f"
            },
            "error_y": {
             "color": "#2a3f5f"
            },
            "marker": {
             "line": {
              "color": "#E5ECF6",
              "width": 0.5
             },
             "pattern": {
              "fillmode": "overlay",
              "size": 10,
              "solidity": 0.2
             }
            },
            "type": "bar"
           }
          ],
          "barpolar": [
           {
            "marker": {
             "line": {
              "color": "#E5ECF6",
              "width": 0.5
             },
             "pattern": {
              "fillmode": "overlay",
              "size": 10,
              "solidity": 0.2
             }
            },
            "type": "barpolar"
           }
          ],
          "carpet": [
           {
            "aaxis": {
             "endlinecolor": "#2a3f5f",
             "gridcolor": "white",
             "linecolor": "white",
             "minorgridcolor": "white",
             "startlinecolor": "#2a3f5f"
            },
            "baxis": {
             "endlinecolor": "#2a3f5f",
             "gridcolor": "white",
             "linecolor": "white",
             "minorgridcolor": "white",
             "startlinecolor": "#2a3f5f"
            },
            "type": "carpet"
           }
          ],
          "choropleth": [
           {
            "colorbar": {
             "outlinewidth": 0,
             "ticks": ""
            },
            "type": "choropleth"
           }
          ],
          "contour": [
           {
            "colorbar": {
             "outlinewidth": 0,
             "ticks": ""
            },
            "colorscale": [
             [
              0,
              "#0d0887"
             ],
             [
              0.1111111111111111,
              "#46039f"
             ],
             [
              0.2222222222222222,
              "#7201a8"
             ],
             [
              0.3333333333333333,
              "#9c179e"
             ],
             [
              0.4444444444444444,
              "#bd3786"
             ],
             [
              0.5555555555555556,
              "#d8576b"
             ],
             [
              0.6666666666666666,
              "#ed7953"
             ],
             [
              0.7777777777777778,
              "#fb9f3a"
             ],
             [
              0.8888888888888888,
              "#fdca26"
             ],
             [
              1,
              "#f0f921"
             ]
            ],
            "type": "contour"
           }
          ],
          "contourcarpet": [
           {
            "colorbar": {
             "outlinewidth": 0,
             "ticks": ""
            },
            "type": "contourcarpet"
           }
          ],
          "heatmap": [
           {
            "colorbar": {
             "outlinewidth": 0,
             "ticks": ""
            },
            "colorscale": [
             [
              0,
              "#0d0887"
             ],
             [
              0.1111111111111111,
              "#46039f"
             ],
             [
              0.2222222222222222,
              "#7201a8"
             ],
             [
              0.3333333333333333,
              "#9c179e"
             ],
             [
              0.4444444444444444,
              "#bd3786"
             ],
             [
              0.5555555555555556,
              "#d8576b"
             ],
             [
              0.6666666666666666,
              "#ed7953"
             ],
             [
              0.7777777777777778,
              "#fb9f3a"
             ],
             [
              0.8888888888888888,
              "#fdca26"
             ],
             [
              1,
              "#f0f921"
             ]
            ],
            "type": "heatmap"
           }
          ],
          "heatmapgl": [
           {
            "colorbar": {
             "outlinewidth": 0,
             "ticks": ""
            },
            "colorscale": [
             [
              0,
              "#0d0887"
             ],
             [
              0.1111111111111111,
              "#46039f"
             ],
             [
              0.2222222222222222,
              "#7201a8"
             ],
             [
              0.3333333333333333,
              "#9c179e"
             ],
             [
              0.4444444444444444,
              "#bd3786"
             ],
             [
              0.5555555555555556,
              "#d8576b"
             ],
             [
              0.6666666666666666,
              "#ed7953"
             ],
             [
              0.7777777777777778,
              "#fb9f3a"
             ],
             [
              0.8888888888888888,
              "#fdca26"
             ],
             [
              1,
              "#f0f921"
             ]
            ],
            "type": "heatmapgl"
           }
          ],
          "histogram": [
           {
            "marker": {
             "pattern": {
              "fillmode": "overlay",
              "size": 10,
              "solidity": 0.2
             }
            },
            "type": "histogram"
           }
          ],
          "histogram2d": [
           {
            "colorbar": {
             "outlinewidth": 0,
             "ticks": ""
            },
            "colorscale": [
             [
              0,
              "#0d0887"
             ],
             [
              0.1111111111111111,
              "#46039f"
             ],
             [
              0.2222222222222222,
              "#7201a8"
             ],
             [
              0.3333333333333333,
              "#9c179e"
             ],
             [
              0.4444444444444444,
              "#bd3786"
             ],
             [
              0.5555555555555556,
              "#d8576b"
             ],
             [
              0.6666666666666666,
              "#ed7953"
             ],
             [
              0.7777777777777778,
              "#fb9f3a"
             ],
             [
              0.8888888888888888,
              "#fdca26"
             ],
             [
              1,
              "#f0f921"
             ]
            ],
            "type": "histogram2d"
           }
          ],
          "histogram2dcontour": [
           {
            "colorbar": {
             "outlinewidth": 0,
             "ticks": ""
            },
            "colorscale": [
             [
              0,
              "#0d0887"
             ],
             [
              0.1111111111111111,
              "#46039f"
             ],
             [
              0.2222222222222222,
              "#7201a8"
             ],
             [
              0.3333333333333333,
              "#9c179e"
             ],
             [
              0.4444444444444444,
              "#bd3786"
             ],
             [
              0.5555555555555556,
              "#d8576b"
             ],
             [
              0.6666666666666666,
              "#ed7953"
             ],
             [
              0.7777777777777778,
              "#fb9f3a"
             ],
             [
              0.8888888888888888,
              "#fdca26"
             ],
             [
              1,
              "#f0f921"
             ]
            ],
            "type": "histogram2dcontour"
           }
          ],
          "mesh3d": [
           {
            "colorbar": {
             "outlinewidth": 0,
             "ticks": ""
            },
            "type": "mesh3d"
           }
          ],
          "parcoords": [
           {
            "line": {
             "colorbar": {
              "outlinewidth": 0,
              "ticks": ""
             }
            },
            "type": "parcoords"
           }
          ],
          "pie": [
           {
            "automargin": true,
            "type": "pie"
           }
          ],
          "scatter": [
           {
            "fillpattern": {
             "fillmode": "overlay",
             "size": 10,
             "solidity": 0.2
            },
            "type": "scatter"
           }
          ],
          "scatter3d": [
           {
            "line": {
             "colorbar": {
              "outlinewidth": 0,
              "ticks": ""
             }
            },
            "marker": {
             "colorbar": {
              "outlinewidth": 0,
              "ticks": ""
             }
            },
            "type": "scatter3d"
           }
          ],
          "scattercarpet": [
           {
            "marker": {
             "colorbar": {
              "outlinewidth": 0,
              "ticks": ""
             }
            },
            "type": "scattercarpet"
           }
          ],
          "scattergeo": [
           {
            "marker": {
             "colorbar": {
              "outlinewidth": 0,
              "ticks": ""
             }
            },
            "type": "scattergeo"
           }
          ],
          "scattergl": [
           {
            "marker": {
             "colorbar": {
              "outlinewidth": 0,
              "ticks": ""
             }
            },
            "type": "scattergl"
           }
          ],
          "scattermapbox": [
           {
            "marker": {
             "colorbar": {
              "outlinewidth": 0,
              "ticks": ""
             }
            },
            "type": "scattermapbox"
           }
          ],
          "scatterpolar": [
           {
            "marker": {
             "colorbar": {
              "outlinewidth": 0,
              "ticks": ""
             }
            },
            "type": "scatterpolar"
           }
          ],
          "scatterpolargl": [
           {
            "marker": {
             "colorbar": {
              "outlinewidth": 0,
              "ticks": ""
             }
            },
            "type": "scatterpolargl"
           }
          ],
          "scatterternary": [
           {
            "marker": {
             "colorbar": {
              "outlinewidth": 0,
              "ticks": ""
             }
            },
            "type": "scatterternary"
           }
          ],
          "surface": [
           {
            "colorbar": {
             "outlinewidth": 0,
             "ticks": ""
            },
            "colorscale": [
             [
              0,
              "#0d0887"
             ],
             [
              0.1111111111111111,
              "#46039f"
             ],
             [
              0.2222222222222222,
              "#7201a8"
             ],
             [
              0.3333333333333333,
              "#9c179e"
             ],
             [
              0.4444444444444444,
              "#bd3786"
             ],
             [
              0.5555555555555556,
              "#d8576b"
             ],
             [
              0.6666666666666666,
              "#ed7953"
             ],
             [
              0.7777777777777778,
              "#fb9f3a"
             ],
             [
              0.8888888888888888,
              "#fdca26"
             ],
             [
              1,
              "#f0f921"
             ]
            ],
            "type": "surface"
           }
          ],
          "table": [
           {
            "cells": {
             "fill": {
              "color": "#EBF0F8"
             },
             "line": {
              "color": "white"
             }
            },
            "header": {
             "fill": {
              "color": "#C8D4E3"
             },
             "line": {
              "color": "white"
             }
            },
            "type": "table"
           }
          ]
         },
         "layout": {
          "annotationdefaults": {
           "arrowcolor": "#2a3f5f",
           "arrowhead": 0,
           "arrowwidth": 1
          },
          "autotypenumbers": "strict",
          "coloraxis": {
           "colorbar": {
            "outlinewidth": 0,
            "ticks": ""
           }
          },
          "colorscale": {
           "diverging": [
            [
             0,
             "#8e0152"
            ],
            [
             0.1,
             "#c51b7d"
            ],
            [
             0.2,
             "#de77ae"
            ],
            [
             0.3,
             "#f1b6da"
            ],
            [
             0.4,
             "#fde0ef"
            ],
            [
             0.5,
             "#f7f7f7"
            ],
            [
             0.6,
             "#e6f5d0"
            ],
            [
             0.7,
             "#b8e186"
            ],
            [
             0.8,
             "#7fbc41"
            ],
            [
             0.9,
             "#4d9221"
            ],
            [
             1,
             "#276419"
            ]
           ],
           "sequential": [
            [
             0,
             "#0d0887"
            ],
            [
             0.1111111111111111,
             "#46039f"
            ],
            [
             0.2222222222222222,
             "#7201a8"
            ],
            [
             0.3333333333333333,
             "#9c179e"
            ],
            [
             0.4444444444444444,
             "#bd3786"
            ],
            [
             0.5555555555555556,
             "#d8576b"
            ],
            [
             0.6666666666666666,
             "#ed7953"
            ],
            [
             0.7777777777777778,
             "#fb9f3a"
            ],
            [
             0.8888888888888888,
             "#fdca26"
            ],
            [
             1,
             "#f0f921"
            ]
           ],
           "sequentialminus": [
            [
             0,
             "#0d0887"
            ],
            [
             0.1111111111111111,
             "#46039f"
            ],
            [
             0.2222222222222222,
             "#7201a8"
            ],
            [
             0.3333333333333333,
             "#9c179e"
            ],
            [
             0.4444444444444444,
             "#bd3786"
            ],
            [
             0.5555555555555556,
             "#d8576b"
            ],
            [
             0.6666666666666666,
             "#ed7953"
            ],
            [
             0.7777777777777778,
             "#fb9f3a"
            ],
            [
             0.8888888888888888,
             "#fdca26"
            ],
            [
             1,
             "#f0f921"
            ]
           ]
          },
          "colorway": [
           "#636efa",
           "#EF553B",
           "#00cc96",
           "#ab63fa",
           "#FFA15A",
           "#19d3f3",
           "#FF6692",
           "#B6E880",
           "#FF97FF",
           "#FECB52"
          ],
          "font": {
           "color": "#2a3f5f"
          },
          "geo": {
           "bgcolor": "white",
           "lakecolor": "white",
           "landcolor": "#E5ECF6",
           "showlakes": true,
           "showland": true,
           "subunitcolor": "white"
          },
          "hoverlabel": {
           "align": "left"
          },
          "hovermode": "closest",
          "mapbox": {
           "style": "light"
          },
          "paper_bgcolor": "white",
          "plot_bgcolor": "#E5ECF6",
          "polar": {
           "angularaxis": {
            "gridcolor": "white",
            "linecolor": "white",
            "ticks": ""
           },
           "bgcolor": "#E5ECF6",
           "radialaxis": {
            "gridcolor": "white",
            "linecolor": "white",
            "ticks": ""
           }
          },
          "scene": {
           "xaxis": {
            "backgroundcolor": "#E5ECF6",
            "gridcolor": "white",
            "gridwidth": 2,
            "linecolor": "white",
            "showbackground": true,
            "ticks": "",
            "zerolinecolor": "white"
           },
           "yaxis": {
            "backgroundcolor": "#E5ECF6",
            "gridcolor": "white",
            "gridwidth": 2,
            "linecolor": "white",
            "showbackground": true,
            "ticks": "",
            "zerolinecolor": "white"
           },
           "zaxis": {
            "backgroundcolor": "#E5ECF6",
            "gridcolor": "white",
            "gridwidth": 2,
            "linecolor": "white",
            "showbackground": true,
            "ticks": "",
            "zerolinecolor": "white"
           }
          },
          "shapedefaults": {
           "line": {
            "color": "#2a3f5f"
           }
          },
          "ternary": {
           "aaxis": {
            "gridcolor": "white",
            "linecolor": "white",
            "ticks": ""
           },
           "baxis": {
            "gridcolor": "white",
            "linecolor": "white",
            "ticks": ""
           },
           "bgcolor": "#E5ECF6",
           "caxis": {
            "gridcolor": "white",
            "linecolor": "white",
            "ticks": ""
           }
          },
          "title": {
           "x": 0.05
          },
          "xaxis": {
           "automargin": true,
           "gridcolor": "white",
           "linecolor": "white",
           "ticks": "",
           "title": {
            "standoff": 15
           },
           "zerolinecolor": "white",
           "zerolinewidth": 2
          },
          "yaxis": {
           "automargin": true,
           "gridcolor": "white",
           "linecolor": "white",
           "ticks": "",
           "title": {
            "standoff": 15
           },
           "zerolinecolor": "white",
           "zerolinewidth": 2
          }
         }
        },
        "updatemenus": [
         {
          "buttons": [
           {
            "args": [
             null,
             {
              "frame": {
               "duration": 500,
               "redraw": false
              },
              "fromcurrent": true,
              "mode": "immediate",
              "transition": {
               "duration": 500,
               "easing": "linear"
              }
             }
            ],
            "label": "&#9654;",
            "method": "animate"
           },
           {
            "args": [
             [
              null
             ],
             {
              "frame": {
               "duration": 0,
               "redraw": false
              },
              "fromcurrent": true,
              "mode": "immediate",
              "transition": {
               "duration": 0,
               "easing": "linear"
              }
             }
            ],
            "label": "&#9724;",
            "method": "animate"
           }
          ],
          "direction": "left",
          "pad": {
           "r": 10,
           "t": 70
          },
          "showactive": false,
          "type": "buttons",
          "x": 0.1,
          "xanchor": "right",
          "y": 0,
          "yanchor": "top"
         }
        ],
        "width": 1000,
        "xaxis": {
         "anchor": "y",
         "domain": [
          0,
          1
         ],
         "range": [
          0,
          140
         ],
         "title": {
          "text": "f_1"
         }
        },
        "yaxis": {
         "anchor": "x",
         "domain": [
          0,
          1
         ],
         "range": [
          0,
          50
         ],
         "title": {
          "text": "f_2"
         }
        }
       }
      }
     },
     "metadata": {},
     "output_type": "display_data"
    }
   ],
   "source": [
    "import plotly.express as ex\n",
    "\n",
    "df = df_from_responses2d(all_resp, 3)\n",
    "\n",
    "visu_ideal = [0,0]\n",
    "visu_nadir = [140,50]\n",
    "\n",
    "# näin helppoa se on kun sen vaan saa oikein !!!\n",
    "fig2d = ex.scatter(df.sort_values(\"step_n\"),\n",
    "x=\"f_1\", y=\"f_2\", #z=\"f_3\",\n",
    "color=\"Type\",\n",
    "#range_x=[visu_ideal[0] - 0.5, visu_nadir[0] + 0.5],\n",
    "#range_y=[visu_ideal[1] - 0.5, visu_nadir[1] + 0.5],\n",
    "#range_z=[visu_ideal[2] - 0.5, visu_nadir[2] + 0.5],\n",
    "range_x=[visu_ideal[0] - 0, visu_nadir[0]],\n",
    "range_y=[visu_ideal[1] - 0, visu_nadir[1]],\n",
    "#range_z=[visu_ideal[2] - 0, visu_nadir[2]],\n",
    "width= 1000,\n",
    "height= 1000,\n",
    "animation_frame=f\"step_n\",\n",
    ")\n",
    "\n",
    "fig2d"
   ]
  },
  {
   "cell_type": "code",
   "execution_count": 19,
   "metadata": {
    "metadata": {}
   },
   "outputs": [],
   "source": [
    "fig2d.write_html(\"results/B1cones.html\")"
   ]
  },
  {
   "cell_type": "code",
   "execution_count": null,
   "metadata": {},
   "outputs": [],
   "source": [
    "# does not work but it is fine\n",
    "fig4 = ex.parallel_coordinates(ttt, color=\"Type\", \n",
    "dimensions=[\"step_n\", \"f_1\", \"f_2\", \"f_3\"],\n",
    "#labels={\"step_n\": \"step\", \"f_1\":\"f_1\", \"f_2\":\"f_2\", \"f_3\":\"f_3\", \"Type\": \"type\" },\n",
    "  color_continuous_scale=ex.colors.diverging.Tealrose,\n",
    "                             color_continuous_midpoint=2)\n",
    "fig4"
   ]
  },
  {
   "cell_type": "code",
   "execution_count": null,
   "metadata": {},
   "outputs": [],
   "source": [
    "def visu(problem, all_resp):\n",
    "    lower_bounds = pl.DataFrame(\n",
    "        [response.reachable_bounds[\"lower_bounds\"] for response in all_resp]\n",
    "    )\n",
    "    upper_bounds = pl.DataFrame(\n",
    "        [response.reachable_bounds[\"upper_bounds\"] for response in all_resp]\n",
    "    )\n",
    "    reference_points = pl.DataFrame(\n",
    "        [response.reference_points for response in all_resp[1:]]\n",
    "    )\n",
    "    navigation_points = pl.DataFrame(\n",
    "        [response.navigation_point for response in all_resp]\n",
    "    )\n",
    "    reachable_sols = pl.DataFrame(\n",
    "        [response.reachable_solution for response in all_resp]\n",
    "    )\n",
    "    group_dirs = pl.DataFrame(\n",
    "        [all_resp[0].group_improvement_direction]\n",
    "    )\n",
    "\n",
    "    \"\"\"\n",
    "    rps = [] \n",
    "    for dm in reference_points:\n",
    "        max_multiplier = [-1 if obj.maximize else 1 for obj in problem.objectives]\n",
    "        rp = (\n",
    "            np.array([reference_points[dm][obj.symbol] for obj in problem.objectives]) * max_multiplier\n",
    "        )\n",
    "        rps.append(rp)\n",
    "    #rps\n",
    "    \"\"\"\n",
    "\n",
    "    import plotly.express as ex\n",
    "\n",
    "    #iteration_points = pd.DataFrame(\n",
    "    #    navigation_points,\n",
    "    #    columns=[\"f1\", \"f2\", \"f3\"]\n",
    "    #)\n",
    "    fig2 = ex.scatter_3d(\n",
    "        x=navigation_points[navigation_points.columns[0]],\n",
    "        y=navigation_points[navigation_points.columns[1]],\n",
    "        z=navigation_points[navigation_points.columns[2]],\n",
    "    )\n",
    "    # TODO: use brain to do this\n",
    "    # TODO: add RPs\n",
    "    # TODO: add PF?\n",
    "    # TODO: add the reachable solutions solution\n",
    "\n",
    "    #prefs = np.array(\n",
    "    #    [pref[1] for pref in rps.items()]\n",
    "    #)\n",
    "    #prefs = np.vstack((prefs, prefs[0]))\n",
    "    fig2.add_scatter3d(\n",
    "        x=[0.8, 0.7, 0.6], \n",
    "        y= [0.7, 0.8, 0.5],\n",
    "        z =[0.5, 0.6, 0.8],)\n",
    "    #prefs = [\n",
    "    #    [0.8, 0.7, 0.6],\n",
    "    #    [0.7, 0.8, 0.5],\n",
    "    #    [0.5, 0.6, 0.8],\n",
    "    #]\n",
    "\n",
    "    #fig2.add_scatter3d(\n",
    "    #    x=prefs[:, 0],\n",
    "    #    y=prefs[:, 1],\n",
    "    #    z=prefs[:, 2],\n",
    "    #)\n",
    "\n",
    "    fig2.add_scatter3d(\n",
    "        x=[group_dirs[0]],\n",
    "        y=[group_dirs[1]],\n",
    "        z=[group_dirs[2]],\n",
    "    )\n",
    "    fig2.show()\n",
    "\n"
   ]
  },
  {
   "cell_type": "code",
   "execution_count": null,
   "metadata": {},
   "outputs": [],
   "source": [
    "    \"DM1\": {\"f_1\": 0.1, \"f_2\": 0.4, \"f_3\": 0.7}, # dm1 and dm2 prefer f1\n",
    "    \"DM2\": {\"f_1\": 0.2, \"f_2\": 0.2, \"f_3\": 0.8},\n",
    "    \"DM3\": {\"f_1\": 0.5, \"f_2\": 0.7, \"f_3\": 0.3},\n",
    "    \"DM4\": {\"f_1\": 0.3, \"f_2\": 0.3, \"f_3\": 0.5},\n",
    "    \"DM5\": {\"f_1\": 0.2, \"f_2\": 0.5, \"f_3\": 0.5},"
   ]
  },
  {
   "cell_type": "code",
   "execution_count": 20,
   "metadata": {
    "metadata": {}
   },
   "outputs": [
    {
     "data": {
      "text/plain": [
       "[1.3, 2.1, 2.8]"
      ]
     },
     "execution_count": 20,
     "metadata": {},
     "output_type": "execute_result"
    }
   ],
   "source": [
    "ll = [0.1+0.2+0.5+0.3+0.2,\n",
    "0.4 +\n",
    "0.2+\n",
    "0.7+\n",
    "0.3+\n",
    "0.5, \n",
    "0.7 +\n",
    "0.8 +\n",
    "0.3 +\n",
    "0.5 +\n",
    "0.5\n",
    " ]\n",
    "ll"
   ]
  },
  {
   "cell_type": "code",
   "execution_count": 22,
   "metadata": {
    "metadata": {}
   },
   "outputs": [
    {
     "data": {
      "text/plain": [
       "[0.26, 0.42000000000000004, 0.5599999999999999]"
      ]
     },
     "execution_count": 22,
     "metadata": {},
     "output_type": "execute_result"
    }
   ],
   "source": [
    "[ll[0]/5, ll[1]/5, ll[2]/5]"
   ]
  },
  {
   "cell_type": "code",
   "execution_count": 6,
   "metadata": {},
   "outputs": [
    {
     "name": "stdout",
     "output_type": "stream",
     "text": [
      "maxmin_cones\n",
      "`xtol` termination condition is satisfied.\n",
      "Number of iterations: 336, function evaluations: 1680, CG iterations: 0, optimality: 1.96e-01, constraint violation: 1.00e+00, execution time: 0.27 s.\n",
      "[8.00700745e-09 8.00738320e-09 8.00745991e-09]\n"
     ]
    },
    {
     "data": {
      "application/vnd.plotly.v1+json": {
       "config": {
        "plotlyServerURL": "https://plot.ly"
       },
       "data": [
        {
         "hovertemplate": "x=%{x}<br>y=%{y}<br>z=%{z}<extra></extra>",
         "legendgroup": "",
         "marker": {
          "color": "#636efa",
          "symbol": "circle"
         },
         "mode": "markers",
         "name": "",
         "scene": "scene",
         "showlegend": false,
         "type": "scatter3d",
         "x": [
          1.7218825866390794,
          1.4437651732781587,
          1.165647759917238,
          0.8875303465563171,
          0.6094129331953962
         ],
         "y": [
          1.721898432791792,
          1.443796865583584,
          1.1656952983753759,
          0.8875937311671678,
          0.6094921639589597
         ],
         "z": [
          1.721276218648851,
          1.4425524372977019,
          1.1638286559465527,
          0.8851048745954035,
          0.6063810932442545
         ]
        },
        {
         "type": "scatter3d",
         "x": [
          0.8,
          0.7,
          0.6
         ],
         "y": [
          0.7,
          0.8,
          0.5
         ],
         "z": [
          0.5,
          0.6,
          0.8
         ]
        },
        {
         "type": "scatter3d",
         "x": [
          [
           [
            1.9999999919929925,
            1.9999999919926168,
            1.9999999919925402
           ]
          ]
         ],
         "y": [
          []
         ],
         "z": [
          []
         ]
        }
       ],
       "layout": {
        "legend": {
         "tracegroupgap": 0
        },
        "margin": {
         "t": 60
        },
        "scene": {
         "domain": {
          "x": [
           0,
           1
          ],
          "y": [
           0,
           1
          ]
         },
         "xaxis": {
          "title": {
           "text": "x"
          }
         },
         "yaxis": {
          "title": {
           "text": "y"
          }
         },
         "zaxis": {
          "title": {
           "text": "z"
          }
         }
        },
        "template": {
         "data": {
          "bar": [
           {
            "error_x": {
             "color": "#2a3f5f"
            },
            "error_y": {
             "color": "#2a3f5f"
            },
            "marker": {
             "line": {
              "color": "#E5ECF6",
              "width": 0.5
             },
             "pattern": {
              "fillmode": "overlay",
              "size": 10,
              "solidity": 0.2
             }
            },
            "type": "bar"
           }
          ],
          "barpolar": [
           {
            "marker": {
             "line": {
              "color": "#E5ECF6",
              "width": 0.5
             },
             "pattern": {
              "fillmode": "overlay",
              "size": 10,
              "solidity": 0.2
             }
            },
            "type": "barpolar"
           }
          ],
          "carpet": [
           {
            "aaxis": {
             "endlinecolor": "#2a3f5f",
             "gridcolor": "white",
             "linecolor": "white",
             "minorgridcolor": "white",
             "startlinecolor": "#2a3f5f"
            },
            "baxis": {
             "endlinecolor": "#2a3f5f",
             "gridcolor": "white",
             "linecolor": "white",
             "minorgridcolor": "white",
             "startlinecolor": "#2a3f5f"
            },
            "type": "carpet"
           }
          ],
          "choropleth": [
           {
            "colorbar": {
             "outlinewidth": 0,
             "ticks": ""
            },
            "type": "choropleth"
           }
          ],
          "contour": [
           {
            "colorbar": {
             "outlinewidth": 0,
             "ticks": ""
            },
            "colorscale": [
             [
              0,
              "#0d0887"
             ],
             [
              0.1111111111111111,
              "#46039f"
             ],
             [
              0.2222222222222222,
              "#7201a8"
             ],
             [
              0.3333333333333333,
              "#9c179e"
             ],
             [
              0.4444444444444444,
              "#bd3786"
             ],
             [
              0.5555555555555556,
              "#d8576b"
             ],
             [
              0.6666666666666666,
              "#ed7953"
             ],
             [
              0.7777777777777778,
              "#fb9f3a"
             ],
             [
              0.8888888888888888,
              "#fdca26"
             ],
             [
              1,
              "#f0f921"
             ]
            ],
            "type": "contour"
           }
          ],
          "contourcarpet": [
           {
            "colorbar": {
             "outlinewidth": 0,
             "ticks": ""
            },
            "type": "contourcarpet"
           }
          ],
          "heatmap": [
           {
            "colorbar": {
             "outlinewidth": 0,
             "ticks": ""
            },
            "colorscale": [
             [
              0,
              "#0d0887"
             ],
             [
              0.1111111111111111,
              "#46039f"
             ],
             [
              0.2222222222222222,
              "#7201a8"
             ],
             [
              0.3333333333333333,
              "#9c179e"
             ],
             [
              0.4444444444444444,
              "#bd3786"
             ],
             [
              0.5555555555555556,
              "#d8576b"
             ],
             [
              0.6666666666666666,
              "#ed7953"
             ],
             [
              0.7777777777777778,
              "#fb9f3a"
             ],
             [
              0.8888888888888888,
              "#fdca26"
             ],
             [
              1,
              "#f0f921"
             ]
            ],
            "type": "heatmap"
           }
          ],
          "heatmapgl": [
           {
            "colorbar": {
             "outlinewidth": 0,
             "ticks": ""
            },
            "colorscale": [
             [
              0,
              "#0d0887"
             ],
             [
              0.1111111111111111,
              "#46039f"
             ],
             [
              0.2222222222222222,
              "#7201a8"
             ],
             [
              0.3333333333333333,
              "#9c179e"
             ],
             [
              0.4444444444444444,
              "#bd3786"
             ],
             [
              0.5555555555555556,
              "#d8576b"
             ],
             [
              0.6666666666666666,
              "#ed7953"
             ],
             [
              0.7777777777777778,
              "#fb9f3a"
             ],
             [
              0.8888888888888888,
              "#fdca26"
             ],
             [
              1,
              "#f0f921"
             ]
            ],
            "type": "heatmapgl"
           }
          ],
          "histogram": [
           {
            "marker": {
             "pattern": {
              "fillmode": "overlay",
              "size": 10,
              "solidity": 0.2
             }
            },
            "type": "histogram"
           }
          ],
          "histogram2d": [
           {
            "colorbar": {
             "outlinewidth": 0,
             "ticks": ""
            },
            "colorscale": [
             [
              0,
              "#0d0887"
             ],
             [
              0.1111111111111111,
              "#46039f"
             ],
             [
              0.2222222222222222,
              "#7201a8"
             ],
             [
              0.3333333333333333,
              "#9c179e"
             ],
             [
              0.4444444444444444,
              "#bd3786"
             ],
             [
              0.5555555555555556,
              "#d8576b"
             ],
             [
              0.6666666666666666,
              "#ed7953"
             ],
             [
              0.7777777777777778,
              "#fb9f3a"
             ],
             [
              0.8888888888888888,
              "#fdca26"
             ],
             [
              1,
              "#f0f921"
             ]
            ],
            "type": "histogram2d"
           }
          ],
          "histogram2dcontour": [
           {
            "colorbar": {
             "outlinewidth": 0,
             "ticks": ""
            },
            "colorscale": [
             [
              0,
              "#0d0887"
             ],
             [
              0.1111111111111111,
              "#46039f"
             ],
             [
              0.2222222222222222,
              "#7201a8"
             ],
             [
              0.3333333333333333,
              "#9c179e"
             ],
             [
              0.4444444444444444,
              "#bd3786"
             ],
             [
              0.5555555555555556,
              "#d8576b"
             ],
             [
              0.6666666666666666,
              "#ed7953"
             ],
             [
              0.7777777777777778,
              "#fb9f3a"
             ],
             [
              0.8888888888888888,
              "#fdca26"
             ],
             [
              1,
              "#f0f921"
             ]
            ],
            "type": "histogram2dcontour"
           }
          ],
          "mesh3d": [
           {
            "colorbar": {
             "outlinewidth": 0,
             "ticks": ""
            },
            "type": "mesh3d"
           }
          ],
          "parcoords": [
           {
            "line": {
             "colorbar": {
              "outlinewidth": 0,
              "ticks": ""
             }
            },
            "type": "parcoords"
           }
          ],
          "pie": [
           {
            "automargin": true,
            "type": "pie"
           }
          ],
          "scatter": [
           {
            "fillpattern": {
             "fillmode": "overlay",
             "size": 10,
             "solidity": 0.2
            },
            "type": "scatter"
           }
          ],
          "scatter3d": [
           {
            "line": {
             "colorbar": {
              "outlinewidth": 0,
              "ticks": ""
             }
            },
            "marker": {
             "colorbar": {
              "outlinewidth": 0,
              "ticks": ""
             }
            },
            "type": "scatter3d"
           }
          ],
          "scattercarpet": [
           {
            "marker": {
             "colorbar": {
              "outlinewidth": 0,
              "ticks": ""
             }
            },
            "type": "scattercarpet"
           }
          ],
          "scattergeo": [
           {
            "marker": {
             "colorbar": {
              "outlinewidth": 0,
              "ticks": ""
             }
            },
            "type": "scattergeo"
           }
          ],
          "scattergl": [
           {
            "marker": {
             "colorbar": {
              "outlinewidth": 0,
              "ticks": ""
             }
            },
            "type": "scattergl"
           }
          ],
          "scattermapbox": [
           {
            "marker": {
             "colorbar": {
              "outlinewidth": 0,
              "ticks": ""
             }
            },
            "type": "scattermapbox"
           }
          ],
          "scatterpolar": [
           {
            "marker": {
             "colorbar": {
              "outlinewidth": 0,
              "ticks": ""
             }
            },
            "type": "scatterpolar"
           }
          ],
          "scatterpolargl": [
           {
            "marker": {
             "colorbar": {
              "outlinewidth": 0,
              "ticks": ""
             }
            },
            "type": "scatterpolargl"
           }
          ],
          "scatterternary": [
           {
            "marker": {
             "colorbar": {
              "outlinewidth": 0,
              "ticks": ""
             }
            },
            "type": "scatterternary"
           }
          ],
          "surface": [
           {
            "colorbar": {
             "outlinewidth": 0,
             "ticks": ""
            },
            "colorscale": [
             [
              0,
              "#0d0887"
             ],
             [
              0.1111111111111111,
              "#46039f"
             ],
             [
              0.2222222222222222,
              "#7201a8"
             ],
             [
              0.3333333333333333,
              "#9c179e"
             ],
             [
              0.4444444444444444,
              "#bd3786"
             ],
             [
              0.5555555555555556,
              "#d8576b"
             ],
             [
              0.6666666666666666,
              "#ed7953"
             ],
             [
              0.7777777777777778,
              "#fb9f3a"
             ],
             [
              0.8888888888888888,
              "#fdca26"
             ],
             [
              1,
              "#f0f921"
             ]
            ],
            "type": "surface"
           }
          ],
          "table": [
           {
            "cells": {
             "fill": {
              "color": "#EBF0F8"
             },
             "line": {
              "color": "white"
             }
            },
            "header": {
             "fill": {
              "color": "#C8D4E3"
             },
             "line": {
              "color": "white"
             }
            },
            "type": "table"
           }
          ]
         },
         "layout": {
          "annotationdefaults": {
           "arrowcolor": "#2a3f5f",
           "arrowhead": 0,
           "arrowwidth": 1
          },
          "autotypenumbers": "strict",
          "coloraxis": {
           "colorbar": {
            "outlinewidth": 0,
            "ticks": ""
           }
          },
          "colorscale": {
           "diverging": [
            [
             0,
             "#8e0152"
            ],
            [
             0.1,
             "#c51b7d"
            ],
            [
             0.2,
             "#de77ae"
            ],
            [
             0.3,
             "#f1b6da"
            ],
            [
             0.4,
             "#fde0ef"
            ],
            [
             0.5,
             "#f7f7f7"
            ],
            [
             0.6,
             "#e6f5d0"
            ],
            [
             0.7,
             "#b8e186"
            ],
            [
             0.8,
             "#7fbc41"
            ],
            [
             0.9,
             "#4d9221"
            ],
            [
             1,
             "#276419"
            ]
           ],
           "sequential": [
            [
             0,
             "#0d0887"
            ],
            [
             0.1111111111111111,
             "#46039f"
            ],
            [
             0.2222222222222222,
             "#7201a8"
            ],
            [
             0.3333333333333333,
             "#9c179e"
            ],
            [
             0.4444444444444444,
             "#bd3786"
            ],
            [
             0.5555555555555556,
             "#d8576b"
            ],
            [
             0.6666666666666666,
             "#ed7953"
            ],
            [
             0.7777777777777778,
             "#fb9f3a"
            ],
            [
             0.8888888888888888,
             "#fdca26"
            ],
            [
             1,
             "#f0f921"
            ]
           ],
           "sequentialminus": [
            [
             0,
             "#0d0887"
            ],
            [
             0.1111111111111111,
             "#46039f"
            ],
            [
             0.2222222222222222,
             "#7201a8"
            ],
            [
             0.3333333333333333,
             "#9c179e"
            ],
            [
             0.4444444444444444,
             "#bd3786"
            ],
            [
             0.5555555555555556,
             "#d8576b"
            ],
            [
             0.6666666666666666,
             "#ed7953"
            ],
            [
             0.7777777777777778,
             "#fb9f3a"
            ],
            [
             0.8888888888888888,
             "#fdca26"
            ],
            [
             1,
             "#f0f921"
            ]
           ]
          },
          "colorway": [
           "#636efa",
           "#EF553B",
           "#00cc96",
           "#ab63fa",
           "#FFA15A",
           "#19d3f3",
           "#FF6692",
           "#B6E880",
           "#FF97FF",
           "#FECB52"
          ],
          "font": {
           "color": "#2a3f5f"
          },
          "geo": {
           "bgcolor": "white",
           "lakecolor": "white",
           "landcolor": "#E5ECF6",
           "showlakes": true,
           "showland": true,
           "subunitcolor": "white"
          },
          "hoverlabel": {
           "align": "left"
          },
          "hovermode": "closest",
          "mapbox": {
           "style": "light"
          },
          "paper_bgcolor": "white",
          "plot_bgcolor": "#E5ECF6",
          "polar": {
           "angularaxis": {
            "gridcolor": "white",
            "linecolor": "white",
            "ticks": ""
           },
           "bgcolor": "#E5ECF6",
           "radialaxis": {
            "gridcolor": "white",
            "linecolor": "white",
            "ticks": ""
           }
          },
          "scene": {
           "xaxis": {
            "backgroundcolor": "#E5ECF6",
            "gridcolor": "white",
            "gridwidth": 2,
            "linecolor": "white",
            "showbackground": true,
            "ticks": "",
            "zerolinecolor": "white"
           },
           "yaxis": {
            "backgroundcolor": "#E5ECF6",
            "gridcolor": "white",
            "gridwidth": 2,
            "linecolor": "white",
            "showbackground": true,
            "ticks": "",
            "zerolinecolor": "white"
           },
           "zaxis": {
            "backgroundcolor": "#E5ECF6",
            "gridcolor": "white",
            "gridwidth": 2,
            "linecolor": "white",
            "showbackground": true,
            "ticks": "",
            "zerolinecolor": "white"
           }
          },
          "shapedefaults": {
           "line": {
            "color": "#2a3f5f"
           }
          },
          "ternary": {
           "aaxis": {
            "gridcolor": "white",
            "linecolor": "white",
            "ticks": ""
           },
           "baxis": {
            "gridcolor": "white",
            "linecolor": "white",
            "ticks": ""
           },
           "bgcolor": "#E5ECF6",
           "caxis": {
            "gridcolor": "white",
            "linecolor": "white",
            "ticks": ""
           }
          },
          "title": {
           "x": 0.05
          },
          "xaxis": {
           "automargin": true,
           "gridcolor": "white",
           "linecolor": "white",
           "ticks": "",
           "title": {
            "standoff": 15
           },
           "zerolinecolor": "white",
           "zerolinewidth": 2
          },
          "yaxis": {
           "automargin": true,
           "gridcolor": "white",
           "linecolor": "white",
           "ticks": "",
           "title": {
            "standoff": 15
           },
           "zerolinecolor": "white",
           "zerolinewidth": 2
          }
         }
        }
       }
      }
     },
     "metadata": {},
     "output_type": "display_data"
    }
   ],
   "source": [
    "#test_dtzl2(\"mean\")\n",
    "#test_dtzl2(\"maxmin\")\n",
    "#test_dtzl2(\"maxmin_cones\")\n",
    "problem = dtlz2(10,3)\n",
    "all_resp = solve_prob(problem, \"maxmin\")\n",
    "visu(problem, all_resp)"
   ]
  },
  {
   "cell_type": "code",
   "execution_count": 4,
   "metadata": {},
   "outputs": [
    {
     "data": {
      "text/plain": [
       "3"
      ]
     },
     "execution_count": 4,
     "metadata": {},
     "output_type": "execute_result"
    }
   ],
   "source": [
    "ideal = get_ideal_dict(problem)\n",
    "len(ideal)"
   ]
  },
  {
   "cell_type": "code",
   "execution_count": null,
   "metadata": {},
   "outputs": [],
   "source": []
  },
  {
   "cell_type": "code",
   "execution_count": null,
   "metadata": {},
   "outputs": [],
   "source": []
  }
 ],
 "metadata": {
  "kernelspec": {
   "display_name": ".venv",
   "language": "python",
   "name": "python3"
  },
  "language_info": {
   "codemirror_mode": {
    "name": "ipython",
    "version": 3
   },
   "file_extension": ".py",
   "mimetype": "text/x-python",
   "name": "python",
   "nbconvert_exporter": "python",
   "pygments_lexer": "ipython3",
   "version": "3.12.3"
  }
 },
 "nbformat": 4,
 "nbformat_minor": 2
}
