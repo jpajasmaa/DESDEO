{
 "cells": [
  {
   "cell_type": "code",
   "execution_count": 1,
   "metadata": {},
   "outputs": [],
   "source": [
    "import warnings\n",
    "warnings.filterwarnings('ignore')\n",
    "#warnings.filterwarnings(action='once')"
   ]
  },
  {
   "cell_type": "code",
   "execution_count": 2,
   "metadata": {},
   "outputs": [
    {
     "name": "stdout",
     "output_type": "stream",
     "text": [
      "maxmin\n",
      "boiunds (0.0, 2.0)\n",
      "boiunds (0.0, 2.0)\n",
      "boiunds (0.0, 2.0)\n",
      "boiunds (0.0, 2.0)\n",
      "`xtol` termination condition is satisfied.\n",
      "Number of iterations: 336, function evaluations: 1680, CG iterations: 0, optimality: 1.96e-01, constraint violation: 1.00e+00, execution time: 0.26 s.\n",
      "[8.00700745e-09 8.00738320e-09 8.00745991e-09]\n",
      "[NAUTILI_Response(step_number=1, distance_to_front=33.33333333333335, reference_points={'DM1': {'f_1': 0.8, 'f_2': 0.7, 'f_3': 0.6}, 'DM2': {'f_1': 0.7, 'f_2': 0.8, 'f_3': 0.5}, 'DM3': {'f_1': 0.5, 'f_2': 0.6, 'f_3': 0.8}}, improvement_directions={'DM1': array([1.2, 1.3, 1.4]), 'DM2': array([1.3, 1.2, 1.5]), 'DM3': array([1.5, 1.4, 1.2])}, group_improvement_direction={'f_1': 1.9999999919929925, 'f_2': 1.9999999919926168, 'f_3': 1.9999999919925402}, navigation_point={'f_1': 1.5364709777317986, 'f_2': 1.5364973879863197, 'f_3': 1.5354603644147513}, reachable_solution={'f_1': 0.6094129331953962, 'f_2': 0.6094921639589597, 'f_3': 0.6063810932442545}, reachable_bounds={'lower_bounds': {'f_1': 3.90654895990358e-10, 'f_2': 0.0, 'f_3': 1.3470386024085117e-05}, 'upper_bounds': {'f_1': 1.5364709777317986, 'f_2': 1.5364973879863197, 'f_3': 1.5354603644147513}}), NAUTILI_Response(step_number=2, distance_to_front=66.66666666666667, reference_points={'DM1': {'f_1': 0.8, 'f_2': 0.7, 'f_3': 0.6}, 'DM2': {'f_1': 0.7, 'f_2': 0.8, 'f_3': 0.5}, 'DM3': {'f_1': 0.5, 'f_2': 0.6, 'f_3': 0.8}}, improvement_directions={'DM1': array([1.2, 1.3, 1.4]), 'DM2': array([1.3, 1.2, 1.5]), 'DM3': array([1.5, 1.4, 1.2])}, group_improvement_direction=None, navigation_point={'f_1': 1.0729419554635975, 'f_2': 1.0729947759726397, 'f_3': 1.0709207288295028}, reachable_solution={'f_1': 0.6094129331953962, 'f_2': 0.6094921639589597, 'f_3': 0.6063810932442545}, reachable_bounds={'lower_bounds': {'f_1': 3.657132581846952e-29, 'f_2': 0.0, 'f_3': 0.6192902205624752}, 'upper_bounds': {'f_1': 1.0729419554635975, 'f_2': 1.0729947759726397, 'f_3': 1.0709207288295028}}), NAUTILI_Response(step_number=3, distance_to_front=100.0, reference_points={'DM1': {'f_1': 0.8, 'f_2': 0.7, 'f_3': 0.6}, 'DM2': {'f_1': 0.7, 'f_2': 0.8, 'f_3': 0.5}, 'DM3': {'f_1': 0.5, 'f_2': 0.6, 'f_3': 0.8}}, improvement_directions={'DM1': array([1.2, 1.3, 1.4]), 'DM2': array([1.3, 1.2, 1.5]), 'DM3': array([1.5, 1.4, 1.2])}, group_improvement_direction=None, navigation_point={'f_1': 0.6094129331953962, 'f_2': 0.6094921639589597, 'f_3': 0.6063810932442545}, reachable_solution={'f_1': 0.6094129331953962, 'f_2': 0.6094921639589597, 'f_3': 0.6063810932442545}, reachable_bounds={'lower_bounds': {'f_1': 3.657132581846952e-29, 'f_2': 0.7514191451458998, 'f_3': 0.8925181311226399}, 'upper_bounds': {'f_1': 0.6094129331953962, 'f_2': 0.6094921639589597, 'f_3': 0.6063810932442545}})]\n",
      "{'DM1': {'f_1': 0.8, 'f_2': 0.7, 'f_3': 0.6}, 'DM2': {'f_1': 0.7, 'f_2': 0.8, 'f_3': 0.5}, 'DM3': {'f_1': 0.5, 'f_2': 0.6, 'f_3': 0.8}}\n",
      "None\n",
      "{'f_1': 0.6094129331953962, 'f_2': 0.6094921639589597, 'f_3': 0.6063810932442545}\n",
      "maxmin\n",
      "boiunds (0.0, 2.0)\n",
      "boiunds (0.0, 2.0)\n",
      "boiunds (0.0, 2.0)\n",
      "boiunds (0.0, 2.0)\n",
      "`xtol` termination condition is satisfied.\n",
      "Number of iterations: 336, function evaluations: 1680, CG iterations: 0, optimality: 1.96e-01, constraint violation: 1.00e+00, execution time: 0.26 s.\n",
      "[8.00700745e-09 8.00738320e-09 8.00745991e-09]\n"
     ]
    }
   ],
   "source": [
    "import numpy as np\n",
    "import numpy.testing as npt\n",
    "#from fixtures import dtlz2_5x_3f_data_based  # noqa: F401\n",
    "\n",
    "\n",
    "import polars as pl\n",
    "\n",
    "import pandas as pd\n",
    "\n",
    "\n",
    "from desdeo.mcdm.nautili import (\n",
    "    calculate_distance_to_front,\n",
    "    calculate_navigation_point,\n",
    "    solve_reachable_bounds,\n",
    "    solve_reachable_solution,\n",
    "    agg_maxmin, \n",
    "    agg_maxmin_cones,\n",
    "    nautili_all_steps,\n",
    "    NAUTILI_Response, \n",
    "    aggregate,\n",
    "    nautili_all_steps,\n",
    "    nautili_init\n",
    ")\n",
    "\n",
    "from desdeo.problem import (\n",
    "    binh_and_korn,\n",
    "    objective_dict_to_numpy_array,\n",
    "    river_pollution_problem,\n",
    "    get_nadir_dict,\n",
    "    get_ideal_dict,\n",
    "    dtlz2,\n",
    "    #variable_dict_to_numpy_array,\n",
    "    objective_dict_to_numpy_array\n",
    ")\n",
    "from desdeo.tools import (\n",
    "    BonminOptions,\n",
    "    NevergradGenericOptions,\n",
    "    NevergradGenericSolver,\n",
    "    PyomoBonminSolver,\n",
    "    ScipyMinimizeSolver,\n",
    ")\n",
    "\n",
    "\n",
    "#def test_dtzl2(pref_agg_method):\n",
    "    #problem = river_pollution_problem\n",
    "problem = dtlz2(10,3)\n",
    "nadir = get_nadir_dict(problem)\n",
    "ideal = get_ideal_dict(problem)\n",
    "total_steps = 3\n",
    "pref_agg_method=\"maxmin\"\n",
    "\n",
    "initial_response = nautili_init(problem)\n",
    "rps = {\n",
    "    \"DM1\": {\"f_1\": 0.8, \"f_2\": 0.7, \"f_3\": 0.6},\n",
    "    \"DM2\": {\"f_1\": 0.7, \"f_2\": 0.8, \"f_3\": 0.5},\n",
    "    \"DM3\": {\"f_1\": 0.5, \"f_2\": 0.6, \"f_3\": 0.8},\n",
    "    #\"DM4\": {\"f_1\": 0.5, \"f_2\": 0.6, \"f_3\": 0.8},\n",
    "}\n",
    "all_resp = nautili_all_steps(\n",
    "    problem,\n",
    "    total_steps,\n",
    "    rps,\n",
    "    [initial_response], # Note that this is a list of NAUTILUS_Response objects\n",
    "    pref_agg_method=pref_agg_method, # used pref agg method\n",
    ")\n",
    "print(all_resp)\n",
    "print(all_resp[-1].reference_points)\n",
    "print(all_resp[-1].group_improvement_direction)\n",
    "print(all_resp[-1].navigation_point)\n",
    "\n",
    "#def solve_prob(problem, pref_agg_method):\n",
    "\n",
    "nadir = get_nadir_dict(problem)\n",
    "ideal = get_ideal_dict(problem)\n",
    "rps = {\n",
    "    \"DM1\": {\"f_1\": 0.8, \"f_2\": 0.7, \"f_3\": 0.6},\n",
    "    \"DM2\": {\"f_1\": 0.7, \"f_2\": 0.8, \"f_3\": 0.5},\n",
    "    \"DM3\": {\"f_1\": 0.5, \"f_2\": 0.6, \"f_3\": 0.8},\n",
    "    #\"DM4\": {\"f_1\": 0.5, \"f_2\": 0.6, \"f_3\": 0.8},\n",
    "}\n",
    "initial_response = nautili_init(problem)\n",
    "all_resp = nautili_all_steps(problem, 3, rps, [initial_response], pref_agg_method)\n",
    "#return all_resp\n",
    "\n",
    "\n"
   ]
  },
  {
   "cell_type": "code",
   "execution_count": 4,
   "metadata": {},
   "outputs": [
    {
     "name": "stdout",
     "output_type": "stream",
     "text": [
      "Collecting odfpy\n",
      "  Downloading odfpy-1.4.1.tar.gz (717 kB)\n",
      "\u001b[2K     \u001b[90m━━━━━━━━━━━━━━━━━━━━━━━━━━━━━━━━━━━━━━━\u001b[0m \u001b[32m717.0/717.0 kB\u001b[0m \u001b[31m4.9 MB/s\u001b[0m eta \u001b[36m0:00:00\u001b[0m00:01\u001b[0m00:01\u001b[0m\n",
      "\u001b[?25h  Installing build dependencies ... \u001b[?25ldone\n",
      "\u001b[?25h  Getting requirements to build wheel ... \u001b[?25ldone\n",
      "\u001b[?25h  Installing backend dependencies ... \u001b[?25ldone\n",
      "\u001b[?25h  Preparing metadata (pyproject.toml) ... \u001b[?25ldone\n",
      "\u001b[?25hRequirement already satisfied: defusedxml in /home/jp/tyot/mop/desdeo/DESDEO/.venv/lib/python3.12/site-packages (from odfpy) (0.7.1)\n",
      "Building wheels for collected packages: odfpy\n",
      "  Building wheel for odfpy (pyproject.toml) ... \u001b[?25ldone\n",
      "\u001b[?25h  Created wheel for odfpy: filename=odfpy-1.4.1-py2.py3-none-any.whl size=160672 sha256=cf111875043c6b6d4498173a574554de7f81e6b204847929d88e84bba5c283d8\n",
      "  Stored in directory: /home/jp/.cache/pip/wheels/36/5d/63/8243a7ee78fff0f944d638fd0e66d7278888f5e2285d7346b6\n",
      "Successfully built odfpy\n",
      "Installing collected packages: odfpy\n",
      "Successfully installed odfpy-1.4.1\n"
     ]
    }
   ],
   "source": [
    "#!pip install odfpy"
   ]
  },
  {
   "cell_type": "code",
   "execution_count": 5,
   "metadata": {},
   "outputs": [
    {
     "data": {
      "text/html": [
       "<div>\n",
       "<style scoped>\n",
       "    .dataframe tbody tr th:only-of-type {\n",
       "        vertical-align: middle;\n",
       "    }\n",
       "\n",
       "    .dataframe tbody tr th {\n",
       "        vertical-align: top;\n",
       "    }\n",
       "\n",
       "    .dataframe thead th {\n",
       "        text-align: right;\n",
       "    }\n",
       "</style>\n",
       "<table border=\"1\" class=\"dataframe\">\n",
       "  <thead>\n",
       "    <tr style=\"text-align: right;\">\n",
       "      <th></th>\n",
       "      <th>Type</th>\n",
       "      <th>f_1</th>\n",
       "      <th>f_2</th>\n",
       "      <th>f_3</th>\n",
       "      <th>Iteration</th>\n",
       "    </tr>\n",
       "  </thead>\n",
       "  <tbody>\n",
       "    <tr>\n",
       "      <th>0</th>\n",
       "      <td>DM1</td>\n",
       "      <td>0.7</td>\n",
       "      <td>0.5</td>\n",
       "      <td>0.7</td>\n",
       "      <td>0</td>\n",
       "    </tr>\n",
       "    <tr>\n",
       "      <th>1</th>\n",
       "      <td>DM2</td>\n",
       "      <td>0.6</td>\n",
       "      <td>0.5</td>\n",
       "      <td>0.6</td>\n",
       "      <td>0</td>\n",
       "    </tr>\n",
       "    <tr>\n",
       "      <th>2</th>\n",
       "      <td>DM3</td>\n",
       "      <td>0.5</td>\n",
       "      <td>0.8</td>\n",
       "      <td>0.5</td>\n",
       "      <td>0</td>\n",
       "    </tr>\n",
       "    <tr>\n",
       "      <th>3</th>\n",
       "      <td>NAVPOINT</td>\n",
       "      <td>1.0</td>\n",
       "      <td>1.0</td>\n",
       "      <td>1.0</td>\n",
       "      <td>0</td>\n",
       "    </tr>\n",
       "    <tr>\n",
       "      <th>4</th>\n",
       "      <td>GID</td>\n",
       "      <td>0.5</td>\n",
       "      <td>0.5</td>\n",
       "      <td>0.5</td>\n",
       "      <td>0</td>\n",
       "    </tr>\n",
       "    <tr>\n",
       "      <th>5</th>\n",
       "      <td>DM1</td>\n",
       "      <td>0.7</td>\n",
       "      <td>0.5</td>\n",
       "      <td>0.7</td>\n",
       "      <td>1</td>\n",
       "    </tr>\n",
       "    <tr>\n",
       "      <th>6</th>\n",
       "      <td>DM2</td>\n",
       "      <td>0.6</td>\n",
       "      <td>0.5</td>\n",
       "      <td>0.6</td>\n",
       "      <td>1</td>\n",
       "    </tr>\n",
       "    <tr>\n",
       "      <th>7</th>\n",
       "      <td>DM3</td>\n",
       "      <td>0.5</td>\n",
       "      <td>0.8</td>\n",
       "      <td>0.5</td>\n",
       "      <td>1</td>\n",
       "    </tr>\n",
       "    <tr>\n",
       "      <th>8</th>\n",
       "      <td>NAVPOINT</td>\n",
       "      <td>0.8</td>\n",
       "      <td>0.8</td>\n",
       "      <td>0.8</td>\n",
       "      <td>1</td>\n",
       "    </tr>\n",
       "    <tr>\n",
       "      <th>9</th>\n",
       "      <td>GID</td>\n",
       "      <td>0.5</td>\n",
       "      <td>0.5</td>\n",
       "      <td>0.5</td>\n",
       "      <td>1</td>\n",
       "    </tr>\n",
       "  </tbody>\n",
       "</table>\n",
       "</div>"
      ],
      "text/plain": [
       "       Type  f_1  f_2  f_3  Iteration\n",
       "0       DM1  0.7  0.5  0.7          0\n",
       "1       DM2  0.6  0.5  0.6          0\n",
       "2       DM3  0.5  0.8  0.5          0\n",
       "3  NAVPOINT  1.0  1.0  1.0          0\n",
       "4       GID  0.5  0.5  0.5          0\n",
       "5       DM1  0.7  0.5  0.7          1\n",
       "6       DM2  0.6  0.5  0.6          1\n",
       "7       DM3  0.5  0.8  0.5          1\n",
       "8  NAVPOINT  0.8  0.8  0.8          1\n",
       "9       GID  0.5  0.5  0.5          1"
      ]
     },
     "execution_count": 5,
     "metadata": {},
     "output_type": "execute_result"
    }
   ],
   "source": [
    "# THIs is what I want!\n",
    "ff = pd.read_excel(\"results/test.ods\")\n",
    "ff"
   ]
  },
  {
   "cell_type": "code",
   "execution_count": 41,
   "metadata": {},
   "outputs": [],
   "source": [
    "cols = [\"DM1\", \"DM2\", \"DM3\"]"
   ]
  },
  {
   "cell_type": "code",
   "execution_count": 42,
   "metadata": {},
   "outputs": [],
   "source": [
    "lower_bounds = pd.DataFrame(\n",
    "    [response.reachable_bounds[\"lower_bounds\"] for response in all_resp]\n",
    ")\n",
    "upper_bounds = pd.DataFrame(\n",
    "    [response.reachable_bounds[\"upper_bounds\"] for response in all_resp]\n",
    ")\n",
    "reference_points = pd.DataFrame(\n",
    "    [response.reference_points for response in all_resp[1:]]\n",
    ")\n",
    "navigation_points = pd.DataFrame(\n",
    "    [response.navigation_point for response in all_resp]\n",
    ")\n",
    "reachable_sols = pd.DataFrame(\n",
    "    [response.reachable_solution for response in all_resp]\n",
    ")\n",
    "group_dirs = pd.DataFrame(\n",
    "    [all_resp[0].group_improvement_direction]\n",
    ")\n",
    "steps = pd.DataFrame([response.step_number for response in all_resp])"
   ]
  },
  {
   "cell_type": "code",
   "execution_count": 50,
   "metadata": {},
   "outputs": [
    {
     "data": {
      "text/plain": [
       "{'step_n': [1, 2, 3],\n",
       " 'DM1': [{'f_1': 0.8, 'f_2': 0.7, 'f_3': 0.6},\n",
       "  {'f_1': 0.8, 'f_2': 0.7, 'f_3': 0.6},\n",
       "  {'f_1': 0.8, 'f_2': 0.7, 'f_3': 0.6}],\n",
       " 'DM2': [{'f_1': 0.7, 'f_2': 0.8, 'f_3': 0.5},\n",
       "  {'f_1': 0.7, 'f_2': 0.8, 'f_3': 0.5},\n",
       "  {'f_1': 0.7, 'f_2': 0.8, 'f_3': 0.5}]}"
      ]
     },
     "execution_count": 50,
     "metadata": {},
     "output_type": "execute_result"
    }
   ],
   "source": [
    "id_dict = {\n",
    "    \"step_n\": [response.step_number for response in all_resp],\n",
    "    \"DM1\": [response.reference_points[\"DM1\"] for response in all_resp],\n",
    "    \"DM2\": [response.reference_points[\"DM2\"] for response in all_resp],\n",
    "}\n",
    "id_dict"
   ]
  },
  {
   "cell_type": "code",
   "execution_count": 65,
   "metadata": {},
   "outputs": [
    {
     "data": {
      "text/plain": [
       "[NAUTILI_Response(step_number=1, distance_to_front=33.33333333333335, reference_points={'DM1': {'f_1': 0.8, 'f_2': 0.7, 'f_3': 0.6}, 'DM2': {'f_1': 0.7, 'f_2': 0.8, 'f_3': 0.5}, 'DM3': {'f_1': 0.5, 'f_2': 0.6, 'f_3': 0.8}}, improvement_directions={'DM1': array([1.2, 1.3, 1.4]), 'DM2': array([1.3, 1.2, 1.5]), 'DM3': array([1.5, 1.4, 1.2])}, group_improvement_direction={'f_1': 1.9999999919929925, 'f_2': 1.9999999919926168, 'f_3': 1.9999999919925402}, navigation_point={'f_1': 1.5364709777317986, 'f_2': 1.5364973879863197, 'f_3': 1.5354603644147513}, reachable_solution={'f_1': 0.6094129331953962, 'f_2': 0.6094921639589597, 'f_3': 0.6063810932442545}, reachable_bounds={'lower_bounds': {'f_1': 3.90654895990358e-10, 'f_2': 0.0, 'f_3': 1.3470386024085117e-05}, 'upper_bounds': {'f_1': 1.5364709777317986, 'f_2': 1.5364973879863197, 'f_3': 1.5354603644147513}}),\n",
       " NAUTILI_Response(step_number=2, distance_to_front=66.66666666666667, reference_points={'DM1': {'f_1': 0.8, 'f_2': 0.7, 'f_3': 0.6}, 'DM2': {'f_1': 0.7, 'f_2': 0.8, 'f_3': 0.5}, 'DM3': {'f_1': 0.5, 'f_2': 0.6, 'f_3': 0.8}}, improvement_directions={'DM1': array([1.2, 1.3, 1.4]), 'DM2': array([1.3, 1.2, 1.5]), 'DM3': array([1.5, 1.4, 1.2])}, group_improvement_direction=None, navigation_point={'f_1': 1.0729419554635975, 'f_2': 1.0729947759726397, 'f_3': 1.0709207288295028}, reachable_solution={'f_1': 0.6094129331953962, 'f_2': 0.6094921639589597, 'f_3': 0.6063810932442545}, reachable_bounds={'lower_bounds': {'f_1': 3.657132581846952e-29, 'f_2': 0.0, 'f_3': 0.6192902205624752}, 'upper_bounds': {'f_1': 1.0729419554635975, 'f_2': 1.0729947759726397, 'f_3': 1.0709207288295028}}),\n",
       " NAUTILI_Response(step_number=3, distance_to_front=100.0, reference_points={'DM1': {'f_1': 0.8, 'f_2': 0.7, 'f_3': 0.6}, 'DM2': {'f_1': 0.7, 'f_2': 0.8, 'f_3': 0.5}, 'DM3': {'f_1': 0.5, 'f_2': 0.6, 'f_3': 0.8}}, improvement_directions={'DM1': array([1.2, 1.3, 1.4]), 'DM2': array([1.3, 1.2, 1.5]), 'DM3': array([1.5, 1.4, 1.2])}, group_improvement_direction=None, navigation_point={'f_1': 0.6094129331953962, 'f_2': 0.6094921639589597, 'f_3': 0.6063810932442545}, reachable_solution={'f_1': 0.6094129331953962, 'f_2': 0.6094921639589597, 'f_3': 0.6063810932442545}, reachable_bounds={'lower_bounds': {'f_1': 3.657132581846952e-29, 'f_2': 0.7514191451458998, 'f_3': 0.8925181311226399}, 'upper_bounds': {'f_1': 0.6094129331953962, 'f_2': 0.6094921639589597, 'f_3': 0.6063810932442545}})]"
      ]
     },
     "execution_count": 65,
     "metadata": {},
     "output_type": "execute_result"
    }
   ],
   "source": [
    "all_resp"
   ]
  },
  {
   "cell_type": "code",
   "execution_count": 120,
   "metadata": {},
   "outputs": [
    {
     "data": {
      "text/plain": [
       "NAUTILI_Response(step_number=1, distance_to_front=33.33333333333335, reference_points={'DM1': {'f_1': 0.8, 'f_2': 0.7, 'f_3': 0.6}, 'DM2': {'f_1': 0.7, 'f_2': 0.8, 'f_3': 0.5}, 'DM3': {'f_1': 0.5, 'f_2': 0.6, 'f_3': 0.8}}, improvement_directions={'DM1': array([1.2, 1.3, 1.4]), 'DM2': array([1.3, 1.2, 1.5]), 'DM3': array([1.5, 1.4, 1.2])}, group_improvement_direction={'f_1': 1.9999999919929925, 'f_2': 1.9999999919926168, 'f_3': 1.9999999919925402}, navigation_point={'f_1': 1.5364709777317986, 'f_2': 1.5364973879863197, 'f_3': 1.5354603644147513}, reachable_solution={'f_1': 0.6094129331953962, 'f_2': 0.6094921639589597, 'f_3': 0.6063810932442545}, reachable_bounds={'lower_bounds': {'f_1': 3.90654895990358e-10, 'f_2': 0.0, 'f_3': 1.3470386024085117e-05}, 'upper_bounds': {'f_1': 1.5364709777317986, 'f_2': 1.5364973879863197, 'f_3': 1.5354603644147513}})"
      ]
     },
     "execution_count": 120,
     "metadata": {},
     "output_type": "execute_result"
    }
   ],
   "source": [
    "resp0 = all_resp[0]\n",
    "resp0"
   ]
  },
  {
   "cell_type": "code",
   "execution_count": 130,
   "metadata": {},
   "outputs": [
    {
     "data": {
      "text/html": [
       "<div>\n",
       "<style scoped>\n",
       "    .dataframe tbody tr th:only-of-type {\n",
       "        vertical-align: middle;\n",
       "    }\n",
       "\n",
       "    .dataframe tbody tr th {\n",
       "        vertical-align: top;\n",
       "    }\n",
       "\n",
       "    .dataframe thead th {\n",
       "        text-align: right;\n",
       "    }\n",
       "</style>\n",
       "<table border=\"1\" class=\"dataframe\">\n",
       "  <thead>\n",
       "    <tr style=\"text-align: right;\">\n",
       "      <th></th>\n",
       "      <th>0</th>\n",
       "      <th>1</th>\n",
       "    </tr>\n",
       "  </thead>\n",
       "  <tbody>\n",
       "    <tr>\n",
       "      <th>0</th>\n",
       "      <td>step_number</td>\n",
       "      <td>1</td>\n",
       "    </tr>\n",
       "    <tr>\n",
       "      <th>1</th>\n",
       "      <td>distance_to_front</td>\n",
       "      <td>33.333333</td>\n",
       "    </tr>\n",
       "    <tr>\n",
       "      <th>2</th>\n",
       "      <td>reference_points</td>\n",
       "      <td>{'DM1': {'f_1': 0.8, 'f_2': 0.7, 'f_3': 0.6}, ...</td>\n",
       "    </tr>\n",
       "    <tr>\n",
       "      <th>3</th>\n",
       "      <td>improvement_directions</td>\n",
       "      <td>{'DM1': [1.2, 1.3, 1.4], 'DM2': [1.3, 1.2, 1.5...</td>\n",
       "    </tr>\n",
       "    <tr>\n",
       "      <th>4</th>\n",
       "      <td>group_improvement_direction</td>\n",
       "      <td>{'f_1': 1.9999999919929925, 'f_2': 1.999999991...</td>\n",
       "    </tr>\n",
       "    <tr>\n",
       "      <th>5</th>\n",
       "      <td>navigation_point</td>\n",
       "      <td>{'f_1': 1.5364709777317986, 'f_2': 1.536497387...</td>\n",
       "    </tr>\n",
       "    <tr>\n",
       "      <th>6</th>\n",
       "      <td>reachable_solution</td>\n",
       "      <td>{'f_1': 0.6094129331953962, 'f_2': 0.609492163...</td>\n",
       "    </tr>\n",
       "    <tr>\n",
       "      <th>7</th>\n",
       "      <td>reachable_bounds</td>\n",
       "      <td>{'lower_bounds': {'f_1': 3.90654895990358e-10,...</td>\n",
       "    </tr>\n",
       "  </tbody>\n",
       "</table>\n",
       "</div>"
      ],
      "text/plain": [
       "                             0  \\\n",
       "0                  step_number   \n",
       "1            distance_to_front   \n",
       "2             reference_points   \n",
       "3       improvement_directions   \n",
       "4  group_improvement_direction   \n",
       "5             navigation_point   \n",
       "6           reachable_solution   \n",
       "7             reachable_bounds   \n",
       "\n",
       "                                                   1  \n",
       "0                                                  1  \n",
       "1                                          33.333333  \n",
       "2  {'DM1': {'f_1': 0.8, 'f_2': 0.7, 'f_3': 0.6}, ...  \n",
       "3  {'DM1': [1.2, 1.3, 1.4], 'DM2': [1.3, 1.2, 1.5...  \n",
       "4  {'f_1': 1.9999999919929925, 'f_2': 1.999999991...  \n",
       "5  {'f_1': 1.5364709777317986, 'f_2': 1.536497387...  \n",
       "6  {'f_1': 0.6094129331953962, 'f_2': 0.609492163...  \n",
       "7  {'lower_bounds': {'f_1': 3.90654895990358e-10,...  "
      ]
     },
     "execution_count": 130,
     "metadata": {},
     "output_type": "execute_result"
    }
   ],
   "source": [
    "df_resp0 = pd.DataFrame(resp0)\n",
    "df_resp0"
   ]
  },
  {
   "cell_type": "code",
   "execution_count": 131,
   "metadata": {},
   "outputs": [
    {
     "data": {
      "text/html": [
       "<div>\n",
       "<style scoped>\n",
       "    .dataframe tbody tr th:only-of-type {\n",
       "        vertical-align: middle;\n",
       "    }\n",
       "\n",
       "    .dataframe tbody tr th {\n",
       "        vertical-align: top;\n",
       "    }\n",
       "\n",
       "    .dataframe thead th {\n",
       "        text-align: right;\n",
       "    }\n",
       "</style>\n",
       "<table border=\"1\" class=\"dataframe\">\n",
       "  <thead>\n",
       "    <tr style=\"text-align: right;\">\n",
       "      <th></th>\n",
       "      <th>0</th>\n",
       "      <th>1</th>\n",
       "    </tr>\n",
       "  </thead>\n",
       "  <tbody>\n",
       "    <tr>\n",
       "      <th>0</th>\n",
       "      <td>step_number</td>\n",
       "      <td>1</td>\n",
       "    </tr>\n",
       "    <tr>\n",
       "      <th>2</th>\n",
       "      <td>reference_points</td>\n",
       "      <td>{'DM1': {'f_1': 0.8, 'f_2': 0.7, 'f_3': 0.6}, ...</td>\n",
       "    </tr>\n",
       "    <tr>\n",
       "      <th>4</th>\n",
       "      <td>group_improvement_direction</td>\n",
       "      <td>{'f_1': 1.9999999919929925, 'f_2': 1.999999991...</td>\n",
       "    </tr>\n",
       "    <tr>\n",
       "      <th>5</th>\n",
       "      <td>navigation_point</td>\n",
       "      <td>{'f_1': 1.5364709777317986, 'f_2': 1.536497387...</td>\n",
       "    </tr>\n",
       "    <tr>\n",
       "      <th>6</th>\n",
       "      <td>reachable_solution</td>\n",
       "      <td>{'f_1': 0.6094129331953962, 'f_2': 0.609492163...</td>\n",
       "    </tr>\n",
       "  </tbody>\n",
       "</table>\n",
       "</div>"
      ],
      "text/plain": [
       "                             0  \\\n",
       "0                  step_number   \n",
       "2             reference_points   \n",
       "4  group_improvement_direction   \n",
       "5             navigation_point   \n",
       "6           reachable_solution   \n",
       "\n",
       "                                                   1  \n",
       "0                                                  1  \n",
       "2  {'DM1': {'f_1': 0.8, 'f_2': 0.7, 'f_3': 0.6}, ...  \n",
       "4  {'f_1': 1.9999999919929925, 'f_2': 1.999999991...  \n",
       "5  {'f_1': 1.5364709777317986, 'f_2': 1.536497387...  \n",
       "6  {'f_1': 0.6094129331953962, 'f_2': 0.609492163...  "
      ]
     },
     "execution_count": 131,
     "metadata": {},
     "output_type": "execute_result"
    }
   ],
   "source": [
    "# cleaned resp0\n",
    "df_resp0 = df_resp0.drop(index=[1,3,7])\n",
    "df_resp0"
   ]
  },
  {
   "cell_type": "code",
   "execution_count": 139,
   "metadata": {},
   "outputs": [
    {
     "data": {
      "text/plain": [
       "{'step_number': 1,\n",
       " 'gid': {'f_1': 1.9999999919929925,\n",
       "  'f_2': 1.9999999919926168,\n",
       "  'f_3': 1.9999999919925402},\n",
       " 'navpoint': {'f_1': 1.5364709777317986,\n",
       "  'f_2': 1.5364973879863197,\n",
       "  'f_3': 1.5354603644147513},\n",
       " 'reachable_sol': {'f_1': 0.6094129331953962,\n",
       "  'f_2': 0.6094921639589597,\n",
       "  'f_3': 0.6063810932442545}}"
      ]
     },
     "execution_count": 139,
     "metadata": {},
     "output_type": "execute_result"
    }
   ],
   "source": [
    "resp_dict = {\n",
    "    \"step_number\": resp0.step_number,\n",
    "    #\"rps\": resp0.reference_points,\n",
    "    \"gid\": resp0.group_improvement_direction,\n",
    "    \"navpoint\": resp0.navigation_point,\n",
    "    \"reachable_sol\": resp0.reachable_solution\n",
    "}\n",
    "resp_dict"
   ]
  },
  {
   "cell_type": "code",
   "execution_count": 140,
   "metadata": {},
   "outputs": [
    {
     "data": {
      "text/plain": [
       "{'DM1': {'f_1': 0.8, 'f_2': 0.7, 'f_3': 0.6},\n",
       " 'DM2': {'f_1': 0.7, 'f_2': 0.8, 'f_3': 0.5},\n",
       " 'DM3': {'f_1': 0.5, 'f_2': 0.6, 'f_3': 0.8}}"
      ]
     },
     "execution_count": 140,
     "metadata": {},
     "output_type": "execute_result"
    }
   ],
   "source": [
    "resp0.reference_points"
   ]
  },
  {
   "cell_type": "code",
   "execution_count": 170,
   "metadata": {},
   "outputs": [
    {
     "ename": "SyntaxError",
     "evalue": "invalid syntax (1355953853.py, line 3)",
     "output_type": "error",
     "traceback": [
      "\u001b[0;36m  Cell \u001b[0;32mIn[170], line 3\u001b[0;36m\u001b[0m\n\u001b[0;31m    \"DM1\": {resp0.reference_points[\"DM1\"],\"step_number\": resp0.step_number, },\u001b[0m\n\u001b[0m                                                       ^\u001b[0m\n\u001b[0;31mSyntaxError\u001b[0m\u001b[0;31m:\u001b[0m invalid syntax\n"
     ]
    }
   ],
   "source": [
    "resp_prefs = {\n",
    "    #\"step_number\": resp0.step_number,\n",
    "    \"DM1\": {resp0.reference_points[\"DM1\"],\"step_number\": resp0.step_number, },\n",
    "    #\"DM2\":resp0.reference_points[\"DM2\"],\n",
    "    #\"DM3\":resp0.reference_points[\"DM3\"],\n",
    "    #\"DM1\": [resp0.reference_points[dm][\"f_1\"] for dm in resp0.reference_points if \"DM1\" in cols ],\n",
    "    #\"DM2\": [resp0.reference_points[dm] for dm in resp0.reference_points if \"DM2\" in cols ],\n",
    "    #\"DM3\": [resp0.reference_points[dm] for dm in resp0.reference_points if \"DM3\" in cols ],\n",
    "}\n",
    "resp_prefs "
   ]
  },
  {
   "cell_type": "code",
   "execution_count": 162,
   "metadata": {},
   "outputs": [
    {
     "data": {
      "text/html": [
       "<div>\n",
       "<style scoped>\n",
       "    .dataframe tbody tr th:only-of-type {\n",
       "        vertical-align: middle;\n",
       "    }\n",
       "\n",
       "    .dataframe tbody tr th {\n",
       "        vertical-align: top;\n",
       "    }\n",
       "\n",
       "    .dataframe thead th {\n",
       "        text-align: right;\n",
       "    }\n",
       "</style>\n",
       "<table border=\"1\" class=\"dataframe\">\n",
       "  <thead>\n",
       "    <tr style=\"text-align: right;\">\n",
       "      <th></th>\n",
       "      <th>step_number</th>\n",
       "      <th>DM1</th>\n",
       "      <th>DM2</th>\n",
       "      <th>DM3</th>\n",
       "    </tr>\n",
       "  </thead>\n",
       "  <tbody>\n",
       "    <tr>\n",
       "      <th>f_1</th>\n",
       "      <td>1</td>\n",
       "      <td>0.8</td>\n",
       "      <td>0.7</td>\n",
       "      <td>0.5</td>\n",
       "    </tr>\n",
       "    <tr>\n",
       "      <th>f_2</th>\n",
       "      <td>1</td>\n",
       "      <td>0.7</td>\n",
       "      <td>0.8</td>\n",
       "      <td>0.6</td>\n",
       "    </tr>\n",
       "    <tr>\n",
       "      <th>f_3</th>\n",
       "      <td>1</td>\n",
       "      <td>0.6</td>\n",
       "      <td>0.5</td>\n",
       "      <td>0.8</td>\n",
       "    </tr>\n",
       "  </tbody>\n",
       "</table>\n",
       "</div>"
      ],
      "text/plain": [
       "     step_number  DM1  DM2  DM3\n",
       "f_1            1  0.8  0.7  0.5\n",
       "f_2            1  0.7  0.8  0.6\n",
       "f_3            1  0.6  0.5  0.8"
      ]
     },
     "execution_count": 162,
     "metadata": {},
     "output_type": "execute_result"
    }
   ],
   "source": [
    "idf = pd.DataFrame(resp_prefs,\n",
    "                #index=[1,2,3],\n",
    "                #columns=[\"f_1\",\"f_2\", \"f_3\"]\n",
    "                )\n",
    "idf"
   ]
  },
  {
   "cell_type": "code",
   "execution_count": 169,
   "metadata": {},
   "outputs": [
    {
     "data": {
      "text/html": [
       "<div>\n",
       "<style scoped>\n",
       "    .dataframe tbody tr th:only-of-type {\n",
       "        vertical-align: middle;\n",
       "    }\n",
       "\n",
       "    .dataframe tbody tr th {\n",
       "        vertical-align: top;\n",
       "    }\n",
       "\n",
       "    .dataframe thead th {\n",
       "        text-align: right;\n",
       "    }\n",
       "</style>\n",
       "<table border=\"1\" class=\"dataframe\">\n",
       "  <thead>\n",
       "    <tr style=\"text-align: right;\">\n",
       "      <th></th>\n",
       "      <th>f_1</th>\n",
       "      <th>f_2</th>\n",
       "      <th>f_3</th>\n",
       "    </tr>\n",
       "  </thead>\n",
       "  <tbody>\n",
       "    <tr>\n",
       "      <th>step_number</th>\n",
       "      <td>1.0</td>\n",
       "      <td>1.0</td>\n",
       "      <td>1.0</td>\n",
       "    </tr>\n",
       "    <tr>\n",
       "      <th>DM1</th>\n",
       "      <td>0.8</td>\n",
       "      <td>0.7</td>\n",
       "      <td>0.6</td>\n",
       "    </tr>\n",
       "    <tr>\n",
       "      <th>DM2</th>\n",
       "      <td>0.7</td>\n",
       "      <td>0.8</td>\n",
       "      <td>0.5</td>\n",
       "    </tr>\n",
       "    <tr>\n",
       "      <th>DM3</th>\n",
       "      <td>0.5</td>\n",
       "      <td>0.6</td>\n",
       "      <td>0.8</td>\n",
       "    </tr>\n",
       "  </tbody>\n",
       "</table>\n",
       "</div>"
      ],
      "text/plain": [
       "             f_1  f_2  f_3\n",
       "step_number  1.0  1.0  1.0\n",
       "DM1          0.8  0.7  0.6\n",
       "DM2          0.7  0.8  0.5\n",
       "DM3          0.5  0.6  0.8"
      ]
     },
     "execution_count": 169,
     "metadata": {},
     "output_type": "execute_result"
    }
   ],
   "source": [
    "idf2 = idf.transpose()#.set_index(\"f_1\")\n",
    "#idf2.columns.name(\"objs\")\n",
    "idf2"
   ]
  },
  {
   "cell_type": "code",
   "execution_count": 163,
   "metadata": {},
   "outputs": [
    {
     "data": {
      "text/html": [
       "<div>\n",
       "<style scoped>\n",
       "    .dataframe tbody tr th:only-of-type {\n",
       "        vertical-align: middle;\n",
       "    }\n",
       "\n",
       "    .dataframe tbody tr th {\n",
       "        vertical-align: top;\n",
       "    }\n",
       "\n",
       "    .dataframe thead th {\n",
       "        text-align: right;\n",
       "    }\n",
       "</style>\n",
       "<table border=\"1\" class=\"dataframe\">\n",
       "  <thead>\n",
       "    <tr style=\"text-align: right;\">\n",
       "      <th></th>\n",
       "      <th>f_1</th>\n",
       "      <th>f_2</th>\n",
       "      <th>f_3</th>\n",
       "    </tr>\n",
       "  </thead>\n",
       "  <tbody>\n",
       "    <tr>\n",
       "      <th>step_number</th>\n",
       "      <td>1.0</td>\n",
       "      <td>1.0</td>\n",
       "      <td>1.0</td>\n",
       "    </tr>\n",
       "    <tr>\n",
       "      <th>DM1</th>\n",
       "      <td>0.8</td>\n",
       "      <td>0.7</td>\n",
       "      <td>0.6</td>\n",
       "    </tr>\n",
       "    <tr>\n",
       "      <th>DM2</th>\n",
       "      <td>0.7</td>\n",
       "      <td>0.8</td>\n",
       "      <td>0.5</td>\n",
       "    </tr>\n",
       "    <tr>\n",
       "      <th>DM3</th>\n",
       "      <td>0.5</td>\n",
       "      <td>0.6</td>\n",
       "      <td>0.8</td>\n",
       "    </tr>\n",
       "  </tbody>\n",
       "</table>\n",
       "</div>"
      ],
      "text/plain": [
       "             f_1  f_2  f_3\n",
       "step_number  1.0  1.0  1.0\n",
       "DM1          0.8  0.7  0.6\n",
       "DM2          0.7  0.8  0.5\n",
       "DM3          0.5  0.6  0.8"
      ]
     },
     "execution_count": 163,
     "metadata": {},
     "output_type": "execute_result"
    }
   ],
   "source": [
    "idf.transpose()"
   ]
  },
  {
   "cell_type": "code",
   "execution_count": 132,
   "metadata": {},
   "outputs": [
    {
     "ename": "ValueError",
     "evalue": "too many values to unpack (expected 2)",
     "output_type": "error",
     "traceback": [
      "\u001b[0;31m---------------------------------------------------------------------------\u001b[0m",
      "\u001b[0;31mValueError\u001b[0m                                Traceback (most recent call last)",
      "Cell \u001b[0;32mIn[132], line 3\u001b[0m\n\u001b[1;32m      1\u001b[0m id_dict \u001b[38;5;241m=\u001b[39m {\n\u001b[1;32m      2\u001b[0m     \u001b[38;5;124m\"\u001b[39m\u001b[38;5;124mstep_n\u001b[39m\u001b[38;5;124m\"\u001b[39m: [response\u001b[38;5;241m.\u001b[39mstep_number \u001b[38;5;28;01mfor\u001b[39;00m response \u001b[38;5;129;01min\u001b[39;00m all_resp],\n\u001b[0;32m----> 3\u001b[0m     \u001b[38;5;124m\"\u001b[39m\u001b[38;5;124mf_1\u001b[39m\u001b[38;5;124m\"\u001b[39m: [response\u001b[38;5;241m.\u001b[39mreference_points[dm][\u001b[38;5;124m\"\u001b[39m\u001b[38;5;124mf_1\u001b[39m\u001b[38;5;124m\"\u001b[39m] \u001b[38;5;28;01mfor\u001b[39;00m response, dm \u001b[38;5;129;01min\u001b[39;00m all_resp],\n\u001b[1;32m      4\u001b[0m     \u001b[38;5;66;03m#\"f_2\": [response.reference_points[][\"f_2\"] for response in all_resp] ,\u001b[39;00m\n\u001b[1;32m      5\u001b[0m     \u001b[38;5;66;03m#\"f_3\": [response.reference_points[\"DM\"][\"f_3\"] for response in all_resp] ,\u001b[39;00m\n\u001b[1;32m      6\u001b[0m         \u001b[38;5;66;03m#\"DM1\": [response.reference_points[\"DM1\"] for response in all_resp],\u001b[39;00m\n\u001b[1;32m      7\u001b[0m     \u001b[38;5;66;03m#\"DM2\": [response.reference_points[\"DM2\"] for response in all_resp],\u001b[39;00m\n\u001b[1;32m      8\u001b[0m }\n\u001b[1;32m      9\u001b[0m id_dict\n",
      "\u001b[0;31mValueError\u001b[0m: too many values to unpack (expected 2)"
     ]
    }
   ],
   "source": [
    "id_dict = {\n",
    "    \"step_n\": [response.step_number for response in all_resp],\n",
    "    \"f_1\": [response.reference_points[dm][\"f_1\"] for response in all_resp],\n",
    "    #\"f_2\": [response.reference_points[][\"f_2\"] for response in all_resp] ,\n",
    "    #\"f_3\": [response.reference_points[\"DM\"][\"f_3\"] for response in all_resp] ,\n",
    "        #\"DM1\": [response.reference_points[\"DM1\"] for response in all_resp],\n",
    "    #\"DM2\": [response.reference_points[\"DM2\"] for response in all_resp],\n",
    "}\n",
    "id_dict"
   ]
  },
  {
   "cell_type": "code",
   "execution_count": 56,
   "metadata": {},
   "outputs": [
    {
     "data": {
      "text/html": [
       "<div>\n",
       "<style scoped>\n",
       "    .dataframe tbody tr th:only-of-type {\n",
       "        vertical-align: middle;\n",
       "    }\n",
       "\n",
       "    .dataframe tbody tr th {\n",
       "        vertical-align: top;\n",
       "    }\n",
       "\n",
       "    .dataframe thead th {\n",
       "        text-align: right;\n",
       "    }\n",
       "</style>\n",
       "<table border=\"1\" class=\"dataframe\">\n",
       "  <thead>\n",
       "    <tr style=\"text-align: right;\">\n",
       "      <th></th>\n",
       "      <th>f_1</th>\n",
       "      <th>f_2</th>\n",
       "      <th>f_3</th>\n",
       "      <th>DM</th>\n",
       "    </tr>\n",
       "  </thead>\n",
       "  <tbody>\n",
       "    <tr>\n",
       "      <th>1</th>\n",
       "      <td>NaN</td>\n",
       "      <td>NaN</td>\n",
       "      <td>NaN</td>\n",
       "      <td>NaN</td>\n",
       "    </tr>\n",
       "    <tr>\n",
       "      <th>2</th>\n",
       "      <td>NaN</td>\n",
       "      <td>NaN</td>\n",
       "      <td>NaN</td>\n",
       "      <td>NaN</td>\n",
       "    </tr>\n",
       "    <tr>\n",
       "      <th>3</th>\n",
       "      <td>NaN</td>\n",
       "      <td>NaN</td>\n",
       "      <td>NaN</td>\n",
       "      <td>NaN</td>\n",
       "    </tr>\n",
       "  </tbody>\n",
       "</table>\n",
       "</div>"
      ],
      "text/plain": [
       "   f_1  f_2  f_3   DM\n",
       "1  NaN  NaN  NaN  NaN\n",
       "2  NaN  NaN  NaN  NaN\n",
       "3  NaN  NaN  NaN  NaN"
      ]
     },
     "execution_count": 56,
     "metadata": {},
     "output_type": "execute_result"
    }
   ],
   "source": [
    "idf = pd.DataFrame(id_dict,\n",
    "                index=[1,2,3],\n",
    "                columns=[\"f_1\",\"f_2\", \"f_3\", \"DM\"]\n",
    "                )\n",
    "idf"
   ]
  },
  {
   "cell_type": "code",
   "execution_count": 43,
   "metadata": {},
   "outputs": [
    {
     "data": {
      "text/plain": [
       "[{'DM1': {'f_1': 0.8, 'f_2': 0.7, 'f_3': 0.6},\n",
       "  'DM2': {'f_1': 0.7, 'f_2': 0.8, 'f_3': 0.5},\n",
       "  'DM3': {'f_1': 0.5, 'f_2': 0.6, 'f_3': 0.8}},\n",
       " {'DM1': {'f_1': 0.8, 'f_2': 0.7, 'f_3': 0.6},\n",
       "  'DM2': {'f_1': 0.7, 'f_2': 0.8, 'f_3': 0.5},\n",
       "  'DM3': {'f_1': 0.5, 'f_2': 0.6, 'f_3': 0.8}}]"
      ]
     },
     "execution_count": 43,
     "metadata": {},
     "output_type": "execute_result"
    }
   ],
   "source": [
    "\n",
    "rpdict = [response.reference_points for response in all_resp[1:]]\n",
    "\n",
    "rpdict"
   ]
  },
  {
   "cell_type": "code",
   "execution_count": 39,
   "metadata": {},
   "outputs": [
    {
     "data": {
      "text/plain": [
       "[1, 2, 3, 4, 5]"
      ]
     },
     "execution_count": 39,
     "metadata": {},
     "output_type": "execute_result"
    }
   ],
   "source": [
    "[response.step_number for response in all_resp]"
   ]
  },
  {
   "cell_type": "code",
   "execution_count": 28,
   "metadata": {},
   "outputs": [
    {
     "data": {
      "text/plain": [
       "[RangeIndex(start=0, stop=4, step=1),\n",
       " Index(['DM1', 'DM2', 'DM3'], dtype='object')]"
      ]
     },
     "execution_count": 28,
     "metadata": {},
     "output_type": "execute_result"
    }
   ],
   "source": [
    "reference_points.axes"
   ]
  },
  {
   "cell_type": "code",
   "execution_count": 26,
   "metadata": {},
   "outputs": [
    {
     "data": {
      "text/plain": [
       "[{'f_1': 0.7, 'f_2': 0.8, 'f_3': 0.5},\n",
       " {'f_1': 0.7, 'f_2': 0.8, 'f_3': 0.5},\n",
       " {'f_1': 0.7, 'f_2': 0.8, 'f_3': 0.5},\n",
       " {'f_1': 0.7, 'f_2': 0.8, 'f_3': 0.5}]"
      ]
     },
     "execution_count": 26,
     "metadata": {},
     "output_type": "execute_result"
    }
   ],
   "source": [
    "[response.reference_points[\"DM1\"] for response in all_resp[1:]]"
   ]
  },
  {
   "cell_type": "code",
   "execution_count": 38,
   "metadata": {},
   "outputs": [
    {
     "ename": "ValueError",
     "evalue": "Shape of passed values is (5, 1), indices imply (4, 1)",
     "output_type": "error",
     "traceback": [
      "\u001b[0;31m---------------------------------------------------------------------------\u001b[0m",
      "\u001b[0;31mValueError\u001b[0m                                Traceback (most recent call last)",
      "Cell \u001b[0;32mIn[38], line 1\u001b[0m\n\u001b[0;32m----> 1\u001b[0m bigDF \u001b[38;5;241m=\u001b[39m \u001b[43mpd\u001b[49m\u001b[38;5;241;43m.\u001b[39;49m\u001b[43mDataFrame\u001b[49m\u001b[43m(\u001b[49m\n\u001b[1;32m      2\u001b[0m \u001b[43m    \u001b[49m\u001b[43m[\u001b[49m\u001b[43mresponse\u001b[49m\u001b[38;5;241;43m.\u001b[39;49m\u001b[43mstep_number\u001b[49m\u001b[43m \u001b[49m\u001b[38;5;28;43;01mfor\u001b[39;49;00m\u001b[43m \u001b[49m\u001b[43mresponse\u001b[49m\u001b[43m \u001b[49m\u001b[38;5;129;43;01min\u001b[39;49;00m\u001b[43m \u001b[49m\u001b[43mall_resp\u001b[49m\u001b[43m]\u001b[49m\u001b[43m,\u001b[49m\u001b[43m \u001b[49m\n\u001b[1;32m      3\u001b[0m \u001b[43m    \u001b[49m\u001b[38;5;66;43;03m#[response.step_number for response in all_resp],\u001b[39;49;00m\n\u001b[1;32m      4\u001b[0m \u001b[43m    \u001b[49m\u001b[38;5;66;43;03m#[response.step_number for response in all_resp],\u001b[39;49;00m\n\u001b[1;32m      5\u001b[0m \u001b[43m    \u001b[49m\u001b[38;5;66;43;03m#[response.navigation_point for response in all_resp],\u001b[39;49;00m\n\u001b[1;32m      6\u001b[0m \u001b[43m    \u001b[49m\u001b[43mrpdict\u001b[49m\u001b[43m,\u001b[49m\n\u001b[1;32m      7\u001b[0m \u001b[43m    \u001b[49m\u001b[38;5;66;43;03m#[response.reference_points[\"DM1\"] for response in all_resp[1:]],\u001b[39;49;00m\n\u001b[1;32m      8\u001b[0m \u001b[43m    \u001b[49m\u001b[38;5;66;43;03m#index=cols,\u001b[39;49;00m\n\u001b[1;32m      9\u001b[0m \u001b[43m    \u001b[49m\u001b[38;5;66;43;03m#columns=cols\u001b[39;49;00m\n\u001b[1;32m     10\u001b[0m \u001b[43m    \u001b[49m\u001b[43m)\u001b[49m\n\u001b[1;32m     11\u001b[0m bigDF\n",
      "File \u001b[0;32m~/tyot/mop/desdeo/DESDEO/.venv/lib/python3.12/site-packages/pandas/core/frame.py:867\u001b[0m, in \u001b[0;36mDataFrame.__init__\u001b[0;34m(self, data, index, columns, dtype, copy)\u001b[0m\n\u001b[1;32m    859\u001b[0m         mgr \u001b[38;5;241m=\u001b[39m arrays_to_mgr(\n\u001b[1;32m    860\u001b[0m             arrays,\n\u001b[1;32m    861\u001b[0m             columns,\n\u001b[0;32m   (...)\u001b[0m\n\u001b[1;32m    864\u001b[0m             typ\u001b[38;5;241m=\u001b[39mmanager,\n\u001b[1;32m    865\u001b[0m         )\n\u001b[1;32m    866\u001b[0m     \u001b[38;5;28;01melse\u001b[39;00m:\n\u001b[0;32m--> 867\u001b[0m         mgr \u001b[38;5;241m=\u001b[39m \u001b[43mndarray_to_mgr\u001b[49m\u001b[43m(\u001b[49m\n\u001b[1;32m    868\u001b[0m \u001b[43m            \u001b[49m\u001b[43mdata\u001b[49m\u001b[43m,\u001b[49m\n\u001b[1;32m    869\u001b[0m \u001b[43m            \u001b[49m\u001b[43mindex\u001b[49m\u001b[43m,\u001b[49m\n\u001b[1;32m    870\u001b[0m \u001b[43m            \u001b[49m\u001b[43mcolumns\u001b[49m\u001b[43m,\u001b[49m\n\u001b[1;32m    871\u001b[0m \u001b[43m            \u001b[49m\u001b[43mdtype\u001b[49m\u001b[38;5;241;43m=\u001b[39;49m\u001b[43mdtype\u001b[49m\u001b[43m,\u001b[49m\n\u001b[1;32m    872\u001b[0m \u001b[43m            \u001b[49m\u001b[43mcopy\u001b[49m\u001b[38;5;241;43m=\u001b[39;49m\u001b[43mcopy\u001b[49m\u001b[43m,\u001b[49m\n\u001b[1;32m    873\u001b[0m \u001b[43m            \u001b[49m\u001b[43mtyp\u001b[49m\u001b[38;5;241;43m=\u001b[39;49m\u001b[43mmanager\u001b[49m\u001b[43m,\u001b[49m\n\u001b[1;32m    874\u001b[0m \u001b[43m        \u001b[49m\u001b[43m)\u001b[49m\n\u001b[1;32m    875\u001b[0m \u001b[38;5;28;01melse\u001b[39;00m:\n\u001b[1;32m    876\u001b[0m     mgr \u001b[38;5;241m=\u001b[39m dict_to_mgr(\n\u001b[1;32m    877\u001b[0m         {},\n\u001b[1;32m    878\u001b[0m         index,\n\u001b[0;32m   (...)\u001b[0m\n\u001b[1;32m    881\u001b[0m         typ\u001b[38;5;241m=\u001b[39mmanager,\n\u001b[1;32m    882\u001b[0m     )\n",
      "File \u001b[0;32m~/tyot/mop/desdeo/DESDEO/.venv/lib/python3.12/site-packages/pandas/core/internals/construction.py:336\u001b[0m, in \u001b[0;36mndarray_to_mgr\u001b[0;34m(values, index, columns, dtype, copy, typ)\u001b[0m\n\u001b[1;32m    331\u001b[0m \u001b[38;5;66;03m# _prep_ndarraylike ensures that values.ndim == 2 at this point\u001b[39;00m\n\u001b[1;32m    332\u001b[0m index, columns \u001b[38;5;241m=\u001b[39m _get_axes(\n\u001b[1;32m    333\u001b[0m     values\u001b[38;5;241m.\u001b[39mshape[\u001b[38;5;241m0\u001b[39m], values\u001b[38;5;241m.\u001b[39mshape[\u001b[38;5;241m1\u001b[39m], index\u001b[38;5;241m=\u001b[39mindex, columns\u001b[38;5;241m=\u001b[39mcolumns\n\u001b[1;32m    334\u001b[0m )\n\u001b[0;32m--> 336\u001b[0m \u001b[43m_check_values_indices_shape_match\u001b[49m\u001b[43m(\u001b[49m\u001b[43mvalues\u001b[49m\u001b[43m,\u001b[49m\u001b[43m \u001b[49m\u001b[43mindex\u001b[49m\u001b[43m,\u001b[49m\u001b[43m \u001b[49m\u001b[43mcolumns\u001b[49m\u001b[43m)\u001b[49m\n\u001b[1;32m    338\u001b[0m \u001b[38;5;28;01mif\u001b[39;00m typ \u001b[38;5;241m==\u001b[39m \u001b[38;5;124m\"\u001b[39m\u001b[38;5;124marray\u001b[39m\u001b[38;5;124m\"\u001b[39m:\n\u001b[1;32m    339\u001b[0m     \u001b[38;5;28;01mif\u001b[39;00m \u001b[38;5;28missubclass\u001b[39m(values\u001b[38;5;241m.\u001b[39mdtype\u001b[38;5;241m.\u001b[39mtype, \u001b[38;5;28mstr\u001b[39m):\n",
      "File \u001b[0;32m~/tyot/mop/desdeo/DESDEO/.venv/lib/python3.12/site-packages/pandas/core/internals/construction.py:420\u001b[0m, in \u001b[0;36m_check_values_indices_shape_match\u001b[0;34m(values, index, columns)\u001b[0m\n\u001b[1;32m    418\u001b[0m passed \u001b[38;5;241m=\u001b[39m values\u001b[38;5;241m.\u001b[39mshape\n\u001b[1;32m    419\u001b[0m implied \u001b[38;5;241m=\u001b[39m (\u001b[38;5;28mlen\u001b[39m(index), \u001b[38;5;28mlen\u001b[39m(columns))\n\u001b[0;32m--> 420\u001b[0m \u001b[38;5;28;01mraise\u001b[39;00m \u001b[38;5;167;01mValueError\u001b[39;00m(\u001b[38;5;124mf\u001b[39m\u001b[38;5;124m\"\u001b[39m\u001b[38;5;124mShape of passed values is \u001b[39m\u001b[38;5;132;01m{\u001b[39;00mpassed\u001b[38;5;132;01m}\u001b[39;00m\u001b[38;5;124m, indices imply \u001b[39m\u001b[38;5;132;01m{\u001b[39;00mimplied\u001b[38;5;132;01m}\u001b[39;00m\u001b[38;5;124m\"\u001b[39m)\n",
      "\u001b[0;31mValueError\u001b[0m: Shape of passed values is (5, 1), indices imply (4, 1)"
     ]
    }
   ],
   "source": [
    "bigDF = pd.DataFrame(\n",
    "    [response.step_number for response in all_resp], \n",
    "    #[response.step_number for response in all_resp],\n",
    "    #[response.step_number for response in all_resp],\n",
    "    #[response.navigation_point for response in all_resp],\n",
    "    rpdict,\n",
    "    #[response.reference_points[\"DM1\"] for response in all_resp[1:]],\n",
    "    #index=cols,\n",
    "    #columns=cols\n",
    "    )\n",
    "bigDF"
   ]
  },
  {
   "cell_type": "code",
   "execution_count": 14,
   "metadata": {},
   "outputs": [
    {
     "data": {
      "text/html": [
       "<div>\n",
       "<style scoped>\n",
       "    .dataframe tbody tr th:only-of-type {\n",
       "        vertical-align: middle;\n",
       "    }\n",
       "\n",
       "    .dataframe tbody tr th {\n",
       "        vertical-align: top;\n",
       "    }\n",
       "\n",
       "    .dataframe thead th {\n",
       "        text-align: right;\n",
       "    }\n",
       "</style>\n",
       "<table border=\"1\" class=\"dataframe\">\n",
       "  <thead>\n",
       "    <tr style=\"text-align: right;\">\n",
       "      <th></th>\n",
       "      <th>DM1</th>\n",
       "      <th>DM2</th>\n",
       "      <th>DM3</th>\n",
       "    </tr>\n",
       "  </thead>\n",
       "  <tbody>\n",
       "    <tr>\n",
       "      <th>0</th>\n",
       "      <td>{'f_1': 0.8, 'f_2': 0.7, 'f_3': 0.6}</td>\n",
       "      <td>{'f_1': 0.7, 'f_2': 0.8, 'f_3': 0.5}</td>\n",
       "      <td>{'f_1': 0.5, 'f_2': 0.6, 'f_3': 0.8}</td>\n",
       "    </tr>\n",
       "    <tr>\n",
       "      <th>1</th>\n",
       "      <td>{'f_1': 0.8, 'f_2': 0.7, 'f_3': 0.6}</td>\n",
       "      <td>{'f_1': 0.7, 'f_2': 0.8, 'f_3': 0.5}</td>\n",
       "      <td>{'f_1': 0.5, 'f_2': 0.6, 'f_3': 0.8}</td>\n",
       "    </tr>\n",
       "    <tr>\n",
       "      <th>2</th>\n",
       "      <td>{'f_1': 0.8, 'f_2': 0.7, 'f_3': 0.6}</td>\n",
       "      <td>{'f_1': 0.7, 'f_2': 0.8, 'f_3': 0.5}</td>\n",
       "      <td>{'f_1': 0.5, 'f_2': 0.6, 'f_3': 0.8}</td>\n",
       "    </tr>\n",
       "    <tr>\n",
       "      <th>3</th>\n",
       "      <td>{'f_1': 0.8, 'f_2': 0.7, 'f_3': 0.6}</td>\n",
       "      <td>{'f_1': 0.7, 'f_2': 0.8, 'f_3': 0.5}</td>\n",
       "      <td>{'f_1': 0.5, 'f_2': 0.6, 'f_3': 0.8}</td>\n",
       "    </tr>\n",
       "  </tbody>\n",
       "</table>\n",
       "</div>"
      ],
      "text/plain": [
       "                                    DM1                                   DM2  \\\n",
       "0  {'f_1': 0.8, 'f_2': 0.7, 'f_3': 0.6}  {'f_1': 0.7, 'f_2': 0.8, 'f_3': 0.5}   \n",
       "1  {'f_1': 0.8, 'f_2': 0.7, 'f_3': 0.6}  {'f_1': 0.7, 'f_2': 0.8, 'f_3': 0.5}   \n",
       "2  {'f_1': 0.8, 'f_2': 0.7, 'f_3': 0.6}  {'f_1': 0.7, 'f_2': 0.8, 'f_3': 0.5}   \n",
       "3  {'f_1': 0.8, 'f_2': 0.7, 'f_3': 0.6}  {'f_1': 0.7, 'f_2': 0.8, 'f_3': 0.5}   \n",
       "\n",
       "                                    DM3  \n",
       "0  {'f_1': 0.5, 'f_2': 0.6, 'f_3': 0.8}  \n",
       "1  {'f_1': 0.5, 'f_2': 0.6, 'f_3': 0.8}  \n",
       "2  {'f_1': 0.5, 'f_2': 0.6, 'f_3': 0.8}  \n",
       "3  {'f_1': 0.5, 'f_2': 0.6, 'f_3': 0.8}  "
      ]
     },
     "execution_count": 14,
     "metadata": {},
     "output_type": "execute_result"
    }
   ],
   "source": [
    "reference_points"
   ]
  },
  {
   "cell_type": "code",
   "execution_count": 13,
   "metadata": {},
   "outputs": [
    {
     "data": {
      "text/html": [
       "<div>\n",
       "<style scoped>\n",
       "    .dataframe tbody tr th:only-of-type {\n",
       "        vertical-align: middle;\n",
       "    }\n",
       "\n",
       "    .dataframe tbody tr th {\n",
       "        vertical-align: top;\n",
       "    }\n",
       "\n",
       "    .dataframe thead th {\n",
       "        text-align: right;\n",
       "    }\n",
       "</style>\n",
       "<table border=\"1\" class=\"dataframe\">\n",
       "  <thead>\n",
       "    <tr style=\"text-align: right;\">\n",
       "      <th></th>\n",
       "      <th>0</th>\n",
       "    </tr>\n",
       "  </thead>\n",
       "  <tbody>\n",
       "    <tr>\n",
       "      <th>0</th>\n",
       "      <td>1</td>\n",
       "    </tr>\n",
       "    <tr>\n",
       "      <th>1</th>\n",
       "      <td>2</td>\n",
       "    </tr>\n",
       "    <tr>\n",
       "      <th>2</th>\n",
       "      <td>3</td>\n",
       "    </tr>\n",
       "    <tr>\n",
       "      <th>3</th>\n",
       "      <td>4</td>\n",
       "    </tr>\n",
       "    <tr>\n",
       "      <th>4</th>\n",
       "      <td>5</td>\n",
       "    </tr>\n",
       "  </tbody>\n",
       "</table>\n",
       "</div>"
      ],
      "text/plain": [
       "   0\n",
       "0  1\n",
       "1  2\n",
       "2  3\n",
       "3  4\n",
       "4  5"
      ]
     },
     "execution_count": 13,
     "metadata": {},
     "output_type": "execute_result"
    }
   ],
   "source": [
    "steps"
   ]
  },
  {
   "cell_type": "code",
   "execution_count": 15,
   "metadata": {},
   "outputs": [
    {
     "ename": "MergeError",
     "evalue": "No common columns to perform merge on. Merge options: left_on=None, right_on=None, left_index=False, right_index=False",
     "output_type": "error",
     "traceback": [
      "\u001b[0;31m---------------------------------------------------------------------------\u001b[0m",
      "\u001b[0;31mMergeError\u001b[0m                                Traceback (most recent call last)",
      "Cell \u001b[0;32mIn[15], line 1\u001b[0m\n\u001b[0;32m----> 1\u001b[0m fs \u001b[38;5;241m=\u001b[39m \u001b[43msteps\u001b[49m\u001b[38;5;241;43m.\u001b[39;49m\u001b[43mmerge\u001b[49m\u001b[43m(\u001b[49m\u001b[43mreference_points\u001b[49m\u001b[43m)\u001b[49m\n\u001b[1;32m      2\u001b[0m fs\n",
      "File \u001b[0;32m~/tyot/mop/desdeo/DESDEO/.venv/lib/python3.12/site-packages/pandas/core/frame.py:10832\u001b[0m, in \u001b[0;36mDataFrame.merge\u001b[0;34m(self, right, how, on, left_on, right_on, left_index, right_index, sort, suffixes, copy, indicator, validate)\u001b[0m\n\u001b[1;32m  10813\u001b[0m \u001b[38;5;129m@Substitution\u001b[39m(\u001b[38;5;124m\"\u001b[39m\u001b[38;5;124m\"\u001b[39m)\n\u001b[1;32m  10814\u001b[0m \u001b[38;5;129m@Appender\u001b[39m(_merge_doc, indents\u001b[38;5;241m=\u001b[39m\u001b[38;5;241m2\u001b[39m)\n\u001b[1;32m  10815\u001b[0m \u001b[38;5;28;01mdef\u001b[39;00m \u001b[38;5;21mmerge\u001b[39m(\n\u001b[0;32m   (...)\u001b[0m\n\u001b[1;32m  10828\u001b[0m     validate: MergeValidate \u001b[38;5;241m|\u001b[39m \u001b[38;5;28;01mNone\u001b[39;00m \u001b[38;5;241m=\u001b[39m \u001b[38;5;28;01mNone\u001b[39;00m,\n\u001b[1;32m  10829\u001b[0m ) \u001b[38;5;241m-\u001b[39m\u001b[38;5;241m>\u001b[39m DataFrame:\n\u001b[1;32m  10830\u001b[0m     \u001b[38;5;28;01mfrom\u001b[39;00m \u001b[38;5;21;01mpandas\u001b[39;00m\u001b[38;5;21;01m.\u001b[39;00m\u001b[38;5;21;01mcore\u001b[39;00m\u001b[38;5;21;01m.\u001b[39;00m\u001b[38;5;21;01mreshape\u001b[39;00m\u001b[38;5;21;01m.\u001b[39;00m\u001b[38;5;21;01mmerge\u001b[39;00m \u001b[38;5;28;01mimport\u001b[39;00m merge\n\u001b[0;32m> 10832\u001b[0m     \u001b[38;5;28;01mreturn\u001b[39;00m \u001b[43mmerge\u001b[49m\u001b[43m(\u001b[49m\n\u001b[1;32m  10833\u001b[0m \u001b[43m        \u001b[49m\u001b[38;5;28;43mself\u001b[39;49m\u001b[43m,\u001b[49m\n\u001b[1;32m  10834\u001b[0m \u001b[43m        \u001b[49m\u001b[43mright\u001b[49m\u001b[43m,\u001b[49m\n\u001b[1;32m  10835\u001b[0m \u001b[43m        \u001b[49m\u001b[43mhow\u001b[49m\u001b[38;5;241;43m=\u001b[39;49m\u001b[43mhow\u001b[49m\u001b[43m,\u001b[49m\n\u001b[1;32m  10836\u001b[0m \u001b[43m        \u001b[49m\u001b[43mon\u001b[49m\u001b[38;5;241;43m=\u001b[39;49m\u001b[43mon\u001b[49m\u001b[43m,\u001b[49m\n\u001b[1;32m  10837\u001b[0m \u001b[43m        \u001b[49m\u001b[43mleft_on\u001b[49m\u001b[38;5;241;43m=\u001b[39;49m\u001b[43mleft_on\u001b[49m\u001b[43m,\u001b[49m\n\u001b[1;32m  10838\u001b[0m \u001b[43m        \u001b[49m\u001b[43mright_on\u001b[49m\u001b[38;5;241;43m=\u001b[39;49m\u001b[43mright_on\u001b[49m\u001b[43m,\u001b[49m\n\u001b[1;32m  10839\u001b[0m \u001b[43m        \u001b[49m\u001b[43mleft_index\u001b[49m\u001b[38;5;241;43m=\u001b[39;49m\u001b[43mleft_index\u001b[49m\u001b[43m,\u001b[49m\n\u001b[1;32m  10840\u001b[0m \u001b[43m        \u001b[49m\u001b[43mright_index\u001b[49m\u001b[38;5;241;43m=\u001b[39;49m\u001b[43mright_index\u001b[49m\u001b[43m,\u001b[49m\n\u001b[1;32m  10841\u001b[0m \u001b[43m        \u001b[49m\u001b[43msort\u001b[49m\u001b[38;5;241;43m=\u001b[39;49m\u001b[43msort\u001b[49m\u001b[43m,\u001b[49m\n\u001b[1;32m  10842\u001b[0m \u001b[43m        \u001b[49m\u001b[43msuffixes\u001b[49m\u001b[38;5;241;43m=\u001b[39;49m\u001b[43msuffixes\u001b[49m\u001b[43m,\u001b[49m\n\u001b[1;32m  10843\u001b[0m \u001b[43m        \u001b[49m\u001b[43mcopy\u001b[49m\u001b[38;5;241;43m=\u001b[39;49m\u001b[43mcopy\u001b[49m\u001b[43m,\u001b[49m\n\u001b[1;32m  10844\u001b[0m \u001b[43m        \u001b[49m\u001b[43mindicator\u001b[49m\u001b[38;5;241;43m=\u001b[39;49m\u001b[43mindicator\u001b[49m\u001b[43m,\u001b[49m\n\u001b[1;32m  10845\u001b[0m \u001b[43m        \u001b[49m\u001b[43mvalidate\u001b[49m\u001b[38;5;241;43m=\u001b[39;49m\u001b[43mvalidate\u001b[49m\u001b[43m,\u001b[49m\n\u001b[1;32m  10846\u001b[0m \u001b[43m    \u001b[49m\u001b[43m)\u001b[49m\n",
      "File \u001b[0;32m~/tyot/mop/desdeo/DESDEO/.venv/lib/python3.12/site-packages/pandas/core/reshape/merge.py:170\u001b[0m, in \u001b[0;36mmerge\u001b[0;34m(left, right, how, on, left_on, right_on, left_index, right_index, sort, suffixes, copy, indicator, validate)\u001b[0m\n\u001b[1;32m    155\u001b[0m     \u001b[38;5;28;01mreturn\u001b[39;00m _cross_merge(\n\u001b[1;32m    156\u001b[0m         left_df,\n\u001b[1;32m    157\u001b[0m         right_df,\n\u001b[0;32m   (...)\u001b[0m\n\u001b[1;32m    167\u001b[0m         copy\u001b[38;5;241m=\u001b[39mcopy,\n\u001b[1;32m    168\u001b[0m     )\n\u001b[1;32m    169\u001b[0m \u001b[38;5;28;01melse\u001b[39;00m:\n\u001b[0;32m--> 170\u001b[0m     op \u001b[38;5;241m=\u001b[39m \u001b[43m_MergeOperation\u001b[49m\u001b[43m(\u001b[49m\n\u001b[1;32m    171\u001b[0m \u001b[43m        \u001b[49m\u001b[43mleft_df\u001b[49m\u001b[43m,\u001b[49m\n\u001b[1;32m    172\u001b[0m \u001b[43m        \u001b[49m\u001b[43mright_df\u001b[49m\u001b[43m,\u001b[49m\n\u001b[1;32m    173\u001b[0m \u001b[43m        \u001b[49m\u001b[43mhow\u001b[49m\u001b[38;5;241;43m=\u001b[39;49m\u001b[43mhow\u001b[49m\u001b[43m,\u001b[49m\n\u001b[1;32m    174\u001b[0m \u001b[43m        \u001b[49m\u001b[43mon\u001b[49m\u001b[38;5;241;43m=\u001b[39;49m\u001b[43mon\u001b[49m\u001b[43m,\u001b[49m\n\u001b[1;32m    175\u001b[0m \u001b[43m        \u001b[49m\u001b[43mleft_on\u001b[49m\u001b[38;5;241;43m=\u001b[39;49m\u001b[43mleft_on\u001b[49m\u001b[43m,\u001b[49m\n\u001b[1;32m    176\u001b[0m \u001b[43m        \u001b[49m\u001b[43mright_on\u001b[49m\u001b[38;5;241;43m=\u001b[39;49m\u001b[43mright_on\u001b[49m\u001b[43m,\u001b[49m\n\u001b[1;32m    177\u001b[0m \u001b[43m        \u001b[49m\u001b[43mleft_index\u001b[49m\u001b[38;5;241;43m=\u001b[39;49m\u001b[43mleft_index\u001b[49m\u001b[43m,\u001b[49m\n\u001b[1;32m    178\u001b[0m \u001b[43m        \u001b[49m\u001b[43mright_index\u001b[49m\u001b[38;5;241;43m=\u001b[39;49m\u001b[43mright_index\u001b[49m\u001b[43m,\u001b[49m\n\u001b[1;32m    179\u001b[0m \u001b[43m        \u001b[49m\u001b[43msort\u001b[49m\u001b[38;5;241;43m=\u001b[39;49m\u001b[43msort\u001b[49m\u001b[43m,\u001b[49m\n\u001b[1;32m    180\u001b[0m \u001b[43m        \u001b[49m\u001b[43msuffixes\u001b[49m\u001b[38;5;241;43m=\u001b[39;49m\u001b[43msuffixes\u001b[49m\u001b[43m,\u001b[49m\n\u001b[1;32m    181\u001b[0m \u001b[43m        \u001b[49m\u001b[43mindicator\u001b[49m\u001b[38;5;241;43m=\u001b[39;49m\u001b[43mindicator\u001b[49m\u001b[43m,\u001b[49m\n\u001b[1;32m    182\u001b[0m \u001b[43m        \u001b[49m\u001b[43mvalidate\u001b[49m\u001b[38;5;241;43m=\u001b[39;49m\u001b[43mvalidate\u001b[49m\u001b[43m,\u001b[49m\n\u001b[1;32m    183\u001b[0m \u001b[43m    \u001b[49m\u001b[43m)\u001b[49m\n\u001b[1;32m    184\u001b[0m     \u001b[38;5;28;01mreturn\u001b[39;00m op\u001b[38;5;241m.\u001b[39mget_result(copy\u001b[38;5;241m=\u001b[39mcopy)\n",
      "File \u001b[0;32m~/tyot/mop/desdeo/DESDEO/.venv/lib/python3.12/site-packages/pandas/core/reshape/merge.py:786\u001b[0m, in \u001b[0;36m_MergeOperation.__init__\u001b[0;34m(self, left, right, how, on, left_on, right_on, left_index, right_index, sort, suffixes, indicator, validate)\u001b[0m\n\u001b[1;32m    779\u001b[0m     msg \u001b[38;5;241m=\u001b[39m (\n\u001b[1;32m    780\u001b[0m         \u001b[38;5;124m\"\u001b[39m\u001b[38;5;124mNot allowed to merge between different levels. \u001b[39m\u001b[38;5;124m\"\u001b[39m\n\u001b[1;32m    781\u001b[0m         \u001b[38;5;124mf\u001b[39m\u001b[38;5;124m\"\u001b[39m\u001b[38;5;124m(\u001b[39m\u001b[38;5;132;01m{\u001b[39;00m_left\u001b[38;5;241m.\u001b[39mcolumns\u001b[38;5;241m.\u001b[39mnlevels\u001b[38;5;132;01m}\u001b[39;00m\u001b[38;5;124m levels on the left, \u001b[39m\u001b[38;5;124m\"\u001b[39m\n\u001b[1;32m    782\u001b[0m         \u001b[38;5;124mf\u001b[39m\u001b[38;5;124m\"\u001b[39m\u001b[38;5;132;01m{\u001b[39;00m_right\u001b[38;5;241m.\u001b[39mcolumns\u001b[38;5;241m.\u001b[39mnlevels\u001b[38;5;132;01m}\u001b[39;00m\u001b[38;5;124m on the right)\u001b[39m\u001b[38;5;124m\"\u001b[39m\n\u001b[1;32m    783\u001b[0m     )\n\u001b[1;32m    784\u001b[0m     \u001b[38;5;28;01mraise\u001b[39;00m MergeError(msg)\n\u001b[0;32m--> 786\u001b[0m \u001b[38;5;28mself\u001b[39m\u001b[38;5;241m.\u001b[39mleft_on, \u001b[38;5;28mself\u001b[39m\u001b[38;5;241m.\u001b[39mright_on \u001b[38;5;241m=\u001b[39m \u001b[38;5;28;43mself\u001b[39;49m\u001b[38;5;241;43m.\u001b[39;49m\u001b[43m_validate_left_right_on\u001b[49m\u001b[43m(\u001b[49m\u001b[43mleft_on\u001b[49m\u001b[43m,\u001b[49m\u001b[43m \u001b[49m\u001b[43mright_on\u001b[49m\u001b[43m)\u001b[49m\n\u001b[1;32m    788\u001b[0m (\n\u001b[1;32m    789\u001b[0m     \u001b[38;5;28mself\u001b[39m\u001b[38;5;241m.\u001b[39mleft_join_keys,\n\u001b[1;32m    790\u001b[0m     \u001b[38;5;28mself\u001b[39m\u001b[38;5;241m.\u001b[39mright_join_keys,\n\u001b[0;32m   (...)\u001b[0m\n\u001b[1;32m    793\u001b[0m     right_drop,\n\u001b[1;32m    794\u001b[0m ) \u001b[38;5;241m=\u001b[39m \u001b[38;5;28mself\u001b[39m\u001b[38;5;241m.\u001b[39m_get_merge_keys()\n\u001b[1;32m    796\u001b[0m \u001b[38;5;28;01mif\u001b[39;00m left_drop:\n",
      "File \u001b[0;32m~/tyot/mop/desdeo/DESDEO/.venv/lib/python3.12/site-packages/pandas/core/reshape/merge.py:1572\u001b[0m, in \u001b[0;36m_MergeOperation._validate_left_right_on\u001b[0;34m(self, left_on, right_on)\u001b[0m\n\u001b[1;32m   1570\u001b[0m common_cols \u001b[38;5;241m=\u001b[39m left_cols\u001b[38;5;241m.\u001b[39mintersection(right_cols)\n\u001b[1;32m   1571\u001b[0m \u001b[38;5;28;01mif\u001b[39;00m \u001b[38;5;28mlen\u001b[39m(common_cols) \u001b[38;5;241m==\u001b[39m \u001b[38;5;241m0\u001b[39m:\n\u001b[0;32m-> 1572\u001b[0m     \u001b[38;5;28;01mraise\u001b[39;00m MergeError(\n\u001b[1;32m   1573\u001b[0m         \u001b[38;5;124m\"\u001b[39m\u001b[38;5;124mNo common columns to perform merge on. \u001b[39m\u001b[38;5;124m\"\u001b[39m\n\u001b[1;32m   1574\u001b[0m         \u001b[38;5;124mf\u001b[39m\u001b[38;5;124m\"\u001b[39m\u001b[38;5;124mMerge options: left_on=\u001b[39m\u001b[38;5;132;01m{\u001b[39;00mleft_on\u001b[38;5;132;01m}\u001b[39;00m\u001b[38;5;124m, \u001b[39m\u001b[38;5;124m\"\u001b[39m\n\u001b[1;32m   1575\u001b[0m         \u001b[38;5;124mf\u001b[39m\u001b[38;5;124m\"\u001b[39m\u001b[38;5;124mright_on=\u001b[39m\u001b[38;5;132;01m{\u001b[39;00mright_on\u001b[38;5;132;01m}\u001b[39;00m\u001b[38;5;124m, \u001b[39m\u001b[38;5;124m\"\u001b[39m\n\u001b[1;32m   1576\u001b[0m         \u001b[38;5;124mf\u001b[39m\u001b[38;5;124m\"\u001b[39m\u001b[38;5;124mleft_index=\u001b[39m\u001b[38;5;132;01m{\u001b[39;00m\u001b[38;5;28mself\u001b[39m\u001b[38;5;241m.\u001b[39mleft_index\u001b[38;5;132;01m}\u001b[39;00m\u001b[38;5;124m, \u001b[39m\u001b[38;5;124m\"\u001b[39m\n\u001b[1;32m   1577\u001b[0m         \u001b[38;5;124mf\u001b[39m\u001b[38;5;124m\"\u001b[39m\u001b[38;5;124mright_index=\u001b[39m\u001b[38;5;132;01m{\u001b[39;00m\u001b[38;5;28mself\u001b[39m\u001b[38;5;241m.\u001b[39mright_index\u001b[38;5;132;01m}\u001b[39;00m\u001b[38;5;124m\"\u001b[39m\n\u001b[1;32m   1578\u001b[0m     )\n\u001b[1;32m   1579\u001b[0m \u001b[38;5;28;01mif\u001b[39;00m (\n\u001b[1;32m   1580\u001b[0m     \u001b[38;5;129;01mnot\u001b[39;00m left_cols\u001b[38;5;241m.\u001b[39mjoin(common_cols, how\u001b[38;5;241m=\u001b[39m\u001b[38;5;124m\"\u001b[39m\u001b[38;5;124minner\u001b[39m\u001b[38;5;124m\"\u001b[39m)\u001b[38;5;241m.\u001b[39mis_unique\n\u001b[1;32m   1581\u001b[0m     \u001b[38;5;129;01mor\u001b[39;00m \u001b[38;5;129;01mnot\u001b[39;00m right_cols\u001b[38;5;241m.\u001b[39mjoin(common_cols, how\u001b[38;5;241m=\u001b[39m\u001b[38;5;124m\"\u001b[39m\u001b[38;5;124minner\u001b[39m\u001b[38;5;124m\"\u001b[39m)\u001b[38;5;241m.\u001b[39mis_unique\n\u001b[1;32m   1582\u001b[0m ):\n\u001b[1;32m   1583\u001b[0m     \u001b[38;5;28;01mraise\u001b[39;00m MergeError(\u001b[38;5;124mf\u001b[39m\u001b[38;5;124m\"\u001b[39m\u001b[38;5;124mData columns not unique: \u001b[39m\u001b[38;5;132;01m{\u001b[39;00m\u001b[38;5;28mrepr\u001b[39m(common_cols)\u001b[38;5;132;01m}\u001b[39;00m\u001b[38;5;124m\"\u001b[39m)\n",
      "\u001b[0;31mMergeError\u001b[0m: No common columns to perform merge on. Merge options: left_on=None, right_on=None, left_index=False, right_index=False"
     ]
    }
   ],
   "source": [
    "fs = steps.merge(reference_points)\n",
    "fs"
   ]
  },
  {
   "cell_type": "code",
   "execution_count": 102,
   "metadata": {},
   "outputs": [
    {
     "data": {
      "text/plain": [
       "{'DM': {'DM1': {'f_1': [0.8, 0.8, 0.8],\n",
       "   'f_2': [0.7, 0.7, 0.7],\n",
       "   'f_3': [0.6, 0.6, 0.6]}}}"
      ]
     },
     "execution_count": 102,
     "metadata": {},
     "output_type": "execute_result"
    }
   ],
   "source": [
    "# what I would like the dataframe to be:\n",
    "objs = [\"f_1\", \"f_2\", \"f_3\", \"DM\"]\n",
    "ideal_dataframe = {\n",
    "        #\"iter\": {\n",
    "        \"DM\": {\"DM1\": {\n",
    "        \"f_1\": [0.8, 0.8, 0.8],\n",
    "        \"f_2\": [0.7,0.7, 0.7],\n",
    "        \"f_3\": [0.6,0.6,0.6],\n",
    "        #\"DM\": \"DM1\"\n",
    "        },\n",
    "        }\n",
    "        #\"it\": { \n",
    "        #\"DM1\": {\"f_1\": 0.8, \"f_2\": 0.7, \"f_3\": 0.6},\n",
    "        #\"DM2\": {\"f_1\": 0.7, \"f_2\": 0.8, \"f_3\": 0.5},\n",
    "        #\"DM3\": {\"f_1\": 0.5, \"f_2\": 0.6, \"f_3\": 0.8}, \n",
    "        #}\n",
    "        }\n",
    "ideal_dataframe\n"
   ]
  },
  {
   "cell_type": "code",
   "execution_count": null,
   "metadata": {},
   "outputs": [],
   "source": [
    "\"one\": pd.Series([1.0, 2.0, 3.0], index=[\"a\", \"b\", \"c\"]),"
   ]
  },
  {
   "cell_type": "code",
   "execution_count": 109,
   "metadata": {},
   "outputs": [
    {
     "data": {
      "text/plain": [
       "{'f_1': 1    0.8\n",
       " 2    0.8\n",
       " 3    0.8\n",
       " Name: DM1, dtype: float64,\n",
       " 'f_2': 1    0.7\n",
       " 2    0.7\n",
       " 3    0.7\n",
       " Name: DM1, dtype: float64,\n",
       " 'f_3': 1    0.6\n",
       " 2    0.6\n",
       " 3    0.6\n",
       " Name: DM1, dtype: float64}"
      ]
     },
     "execution_count": 109,
     "metadata": {},
     "output_type": "execute_result"
    }
   ],
   "source": [
    "idealdff = {\n",
    "        #\"iter\": {\n",
    "        #\"DM\": {\"DM1\": {\n",
    "        \"f_1\": pd.Series([0.8, 0.8, 0.8], index=[1,2,3], name=\"DM1\"), # index on nyt step number..\n",
    "        \"f_2\": pd.Series([0.7,0.7, 0.7], index=[1,2,3],name=\"DM1\"),\n",
    "        \"f_3\": pd.Series([0.6,0.6,0.6], index=[1,2,3],name=\"DM1\"),\n",
    "}\n",
    "idealdff"
   ]
  },
  {
   "cell_type": "code",
   "execution_count": 119,
   "metadata": {},
   "outputs": [
    {
     "data": {
      "text/html": [
       "<div>\n",
       "<style scoped>\n",
       "    .dataframe tbody tr th:only-of-type {\n",
       "        vertical-align: middle;\n",
       "    }\n",
       "\n",
       "    .dataframe tbody tr th {\n",
       "        vertical-align: top;\n",
       "    }\n",
       "\n",
       "    .dataframe thead th {\n",
       "        text-align: right;\n",
       "    }\n",
       "</style>\n",
       "<table border=\"1\" class=\"dataframe\">\n",
       "  <thead>\n",
       "    <tr style=\"text-align: right;\">\n",
       "      <th></th>\n",
       "      <th>DM1</th>\n",
       "      <th>DM2</th>\n",
       "      <th>DM3</th>\n",
       "    </tr>\n",
       "  </thead>\n",
       "  <tbody>\n",
       "    <tr>\n",
       "      <th>0</th>\n",
       "      <td>0.8</td>\n",
       "      <td>0.8</td>\n",
       "      <td>0.8</td>\n",
       "    </tr>\n",
       "    <tr>\n",
       "      <th>1</th>\n",
       "      <td>0.7</td>\n",
       "      <td>0.7</td>\n",
       "      <td>0.7</td>\n",
       "    </tr>\n",
       "    <tr>\n",
       "      <th>2</th>\n",
       "      <td>0.6</td>\n",
       "      <td>0.6</td>\n",
       "      <td>0.6</td>\n",
       "    </tr>\n",
       "  </tbody>\n",
       "</table>\n",
       "</div>"
      ],
      "text/plain": [
       "   DM1  DM2  DM3\n",
       "0  0.8  0.8  0.8\n",
       "1  0.7  0.7  0.7\n",
       "2  0.6  0.6  0.6"
      ]
     },
     "execution_count": 119,
     "metadata": {},
     "output_type": "execute_result"
    }
   ],
   "source": [
    "idealdff2 = pd.DataFrame(\n",
    "        #\"iter\": {\n",
    "        #\"DM\": {\"DM1\": {\n",
    "        [[0.8, 0.8, 0.8], # index on nyt step number..\n",
    "        [0.7,0.7, 0.7],\n",
    "        [0.6,0.6,0.6]], columns=[\"DM1\", \"DM2\", \"DM3\"],\n",
    ")\n",
    "idealdff2"
   ]
  },
  {
   "cell_type": "code",
   "execution_count": 117,
   "metadata": {},
   "outputs": [
    {
     "data": {
      "text/html": [
       "<div>\n",
       "<style scoped>\n",
       "    .dataframe tbody tr th:only-of-type {\n",
       "        vertical-align: middle;\n",
       "    }\n",
       "\n",
       "    .dataframe tbody tr th {\n",
       "        vertical-align: top;\n",
       "    }\n",
       "\n",
       "    .dataframe thead th {\n",
       "        text-align: right;\n",
       "    }\n",
       "</style>\n",
       "<table border=\"1\" class=\"dataframe\">\n",
       "  <thead>\n",
       "    <tr style=\"text-align: right;\">\n",
       "      <th></th>\n",
       "      <th>f_1</th>\n",
       "      <th>f_2</th>\n",
       "      <th>f_3</th>\n",
       "    </tr>\n",
       "  </thead>\n",
       "  <tbody>\n",
       "    <tr>\n",
       "      <th>1</th>\n",
       "      <td>0.8</td>\n",
       "      <td>0.7</td>\n",
       "      <td>0.6</td>\n",
       "    </tr>\n",
       "    <tr>\n",
       "      <th>2</th>\n",
       "      <td>0.8</td>\n",
       "      <td>0.7</td>\n",
       "      <td>0.6</td>\n",
       "    </tr>\n",
       "    <tr>\n",
       "      <th>3</th>\n",
       "      <td>0.8</td>\n",
       "      <td>0.7</td>\n",
       "      <td>0.6</td>\n",
       "    </tr>\n",
       "  </tbody>\n",
       "</table>\n",
       "</div>"
      ],
      "text/plain": [
       "   f_1  f_2  f_3\n",
       "1  0.8  0.7  0.6\n",
       "2  0.8  0.7  0.6\n",
       "3  0.8  0.7  0.6"
      ]
     },
     "execution_count": 117,
     "metadata": {},
     "output_type": "execute_result"
    }
   ],
   "source": [
    "pd.DataFrame(idealdff2)"
   ]
  },
  {
   "cell_type": "code",
   "execution_count": 104,
   "metadata": {},
   "outputs": [
    {
     "data": {
      "text/html": [
       "<div>\n",
       "<style scoped>\n",
       "    .dataframe tbody tr th:only-of-type {\n",
       "        vertical-align: middle;\n",
       "    }\n",
       "\n",
       "    .dataframe tbody tr th {\n",
       "        vertical-align: top;\n",
       "    }\n",
       "\n",
       "    .dataframe thead th {\n",
       "        text-align: right;\n",
       "    }\n",
       "</style>\n",
       "<table border=\"1\" class=\"dataframe\">\n",
       "  <thead>\n",
       "    <tr style=\"text-align: right;\">\n",
       "      <th></th>\n",
       "      <th>DM</th>\n",
       "    </tr>\n",
       "  </thead>\n",
       "  <tbody>\n",
       "    <tr>\n",
       "      <th>DM1</th>\n",
       "      <td>{'f_1': [0.8, 0.8, 0.8], 'f_2': [0.7, 0.7, 0.7...</td>\n",
       "    </tr>\n",
       "  </tbody>\n",
       "</table>\n",
       "</div>"
      ],
      "text/plain": [
       "                                                    DM\n",
       "DM1  {'f_1': [0.8, 0.8, 0.8], 'f_2': [0.7, 0.7, 0.7..."
      ]
     },
     "execution_count": 104,
     "metadata": {},
     "output_type": "execute_result"
    }
   ],
   "source": [
    "pd.DataFrame(ideal_dataframe,\n",
    "    #index=[1,2,3], \n",
    "    #columns=cols\n",
    "    )"
   ]
  },
  {
   "cell_type": "code",
   "execution_count": 15,
   "metadata": {},
   "outputs": [
    {
     "data": {
      "text/plain": [
       "[NAUTILI_Response(step_number=1, distance_to_front=33.33333333333335, reference_points={'DM1': {'f_1': 0.8, 'f_2': 0.7, 'f_3': 0.6}, 'DM2': {'f_1': 0.7, 'f_2': 0.8, 'f_3': 0.5}, 'DM3': {'f_1': 0.5, 'f_2': 0.6, 'f_3': 0.8}}, improvement_directions={'DM1': array([1.2, 1.3, 1.4]), 'DM2': array([1.3, 1.2, 1.5]), 'DM3': array([1.5, 1.4, 1.2])}, group_improvement_direction={'f_1': 1.9999999919929925, 'f_2': 1.9999999919926168, 'f_3': 1.9999999919925402}, navigation_point={'f_1': 1.5364709777317986, 'f_2': 1.5364973879863197, 'f_3': 1.5354603644147513}, reachable_solution={'f_1': 0.6094129331953962, 'f_2': 0.6094921639589597, 'f_3': 0.6063810932442545}, reachable_bounds={'lower_bounds': {'f_1': 3.90654895990358e-10, 'f_2': 0.0, 'f_3': 1.3470386024085117e-05}, 'upper_bounds': {'f_1': 1.5364709777317986, 'f_2': 1.5364973879863197, 'f_3': 1.5354603644147513}}),\n",
       " NAUTILI_Response(step_number=2, distance_to_front=66.66666666666667, reference_points={'DM1': {'f_1': 0.8, 'f_2': 0.7, 'f_3': 0.6}, 'DM2': {'f_1': 0.7, 'f_2': 0.8, 'f_3': 0.5}, 'DM3': {'f_1': 0.5, 'f_2': 0.6, 'f_3': 0.8}}, improvement_directions={'DM1': array([1.2, 1.3, 1.4]), 'DM2': array([1.3, 1.2, 1.5]), 'DM3': array([1.5, 1.4, 1.2])}, group_improvement_direction=None, navigation_point={'f_1': 1.0729419554635975, 'f_2': 1.0729947759726397, 'f_3': 1.0709207288295028}, reachable_solution={'f_1': 0.6094129331953962, 'f_2': 0.6094921639589597, 'f_3': 0.6063810932442545}, reachable_bounds={'lower_bounds': {'f_1': 3.657132581846952e-29, 'f_2': 0.0, 'f_3': 0.6192902205624752}, 'upper_bounds': {'f_1': 1.0729419554635975, 'f_2': 1.0729947759726397, 'f_3': 1.0709207288295028}}),\n",
       " NAUTILI_Response(step_number=3, distance_to_front=100.0, reference_points={'DM1': {'f_1': 0.8, 'f_2': 0.7, 'f_3': 0.6}, 'DM2': {'f_1': 0.7, 'f_2': 0.8, 'f_3': 0.5}, 'DM3': {'f_1': 0.5, 'f_2': 0.6, 'f_3': 0.8}}, improvement_directions={'DM1': array([1.2, 1.3, 1.4]), 'DM2': array([1.3, 1.2, 1.5]), 'DM3': array([1.5, 1.4, 1.2])}, group_improvement_direction=None, navigation_point={'f_1': 0.6094129331953962, 'f_2': 0.6094921639589597, 'f_3': 0.6063810932442545}, reachable_solution={'f_1': 0.6094129331953962, 'f_2': 0.6094921639589597, 'f_3': 0.6063810932442545}, reachable_bounds={'lower_bounds': {'f_1': 3.657132581846952e-29, 'f_2': 0.7514191451458998, 'f_3': 0.8925181311226399}, 'upper_bounds': {'f_1': 0.6094129331953962, 'f_2': 0.6094921639589597, 'f_3': 0.6063810932442545}})]"
      ]
     },
     "execution_count": 15,
     "metadata": {},
     "output_type": "execute_result"
    }
   ],
   "source": [
    "all_resp"
   ]
  },
  {
   "cell_type": "code",
   "execution_count": 42,
   "metadata": {},
   "outputs": [
    {
     "data": {
      "text/plain": [
       "{'f_1': 1.9999999919929925,\n",
       " 'f_2': 1.9999999919926168,\n",
       " 'f_3': 1.9999999919925402}"
      ]
     },
     "execution_count": 42,
     "metadata": {},
     "output_type": "execute_result"
    }
   ],
   "source": [
    "all_resp[0].group_improvement_direction"
   ]
  },
  {
   "cell_type": "code",
   "execution_count": 50,
   "metadata": {},
   "outputs": [
    {
     "data": {
      "text/plain": [
       "{'step_n': [1, 1, 1, 1, 1, 1, 2, 2, 2, 2, 2, 2, 3, 3, 3, 3, 3, 3],\n",
       " 'Type': ['DM1',\n",
       "  'DM2',\n",
       "  'DM3',\n",
       "  'NAVPOINT',\n",
       "  'REACHSOL',\n",
       "  'GID',\n",
       "  'DM1',\n",
       "  'DM2',\n",
       "  'DM3',\n",
       "  'NAVPOINT',\n",
       "  'REACHSOL',\n",
       "  'GID',\n",
       "  'DM1',\n",
       "  'DM2',\n",
       "  'DM3',\n",
       "  'NAVPOINT',\n",
       "  'REACHSOL',\n",
       "  'GID'],\n",
       " 'f_1': [0.8,\n",
       "  0.7,\n",
       "  0.5,\n",
       "  1.5364709777317986,\n",
       "  0.6094129331953962,\n",
       "  1.9999999919929925,\n",
       "  0.8,\n",
       "  0.7,\n",
       "  0.5,\n",
       "  1.0729419554635975,\n",
       "  0.6094129331953962,\n",
       "  1.9999999919929925,\n",
       "  0.8,\n",
       "  0.7,\n",
       "  0.5,\n",
       "  0.6094129331953962,\n",
       "  0.6094129331953962,\n",
       "  1.9999999919929925],\n",
       " 'f_2': [0.7,\n",
       "  0.8,\n",
       "  0.6,\n",
       "  1.5364973879863197,\n",
       "  0.6094921639589597,\n",
       "  1.9999999919926168,\n",
       "  0.7,\n",
       "  0.8,\n",
       "  0.6,\n",
       "  1.0729947759726397,\n",
       "  0.6094921639589597,\n",
       "  1.9999999919926168,\n",
       "  0.7,\n",
       "  0.8,\n",
       "  0.6,\n",
       "  0.6094921639589597,\n",
       "  0.6094921639589597,\n",
       "  1.9999999919926168],\n",
       " 'f_3': [0.6,\n",
       "  0.5,\n",
       "  0.8,\n",
       "  1.5354603644147513,\n",
       "  0.6063810932442545,\n",
       "  1.9999999919925402,\n",
       "  0.6,\n",
       "  0.5,\n",
       "  0.8,\n",
       "  1.0709207288295028,\n",
       "  0.6063810932442545,\n",
       "  1.9999999919925402,\n",
       "  0.6,\n",
       "  0.5,\n",
       "  0.8,\n",
       "  0.6063810932442545,\n",
       "  0.6063810932442545,\n",
       "  1.9999999919925402]}"
      ]
     },
     "execution_count": 50,
     "metadata": {},
     "output_type": "execute_result"
    }
   ],
   "source": [
    "dd = {\"step_n\":[], \"Type\":[], \"f_1\":[], \"f_2\":[], \"f_3\":[]}\n",
    "for resp in all_resp:\n",
    "    first_iter_gid = all_resp[0].group_improvement_direction\n",
    "    for q in range(1,4): # DM määrä on q\n",
    "        dd[\"step_n\"].append(resp.step_number)\n",
    "        dd[\"Type\"].append(f\"DM{q}\")\n",
    "        dd[\"f_1\"].append(resp.reference_points[f\"DM{q}\"][\"f_1\"])\n",
    "        dd[\"f_2\"].append(resp.reference_points[f\"DM{q}\"][\"f_2\"])\n",
    "        dd[\"f_3\"].append(resp.reference_points[f\"DM{q}\"][\"f_3\"])\n",
    "    # add navigation point\n",
    "    dd[\"step_n\"].append(resp.step_number)\n",
    "    dd[\"Type\"].append(f\"NAVPOINT\")\n",
    "    dd[\"f_1\"].append(resp.navigation_point[\"f_1\"])\n",
    "    dd[\"f_2\"].append(resp.navigation_point[\"f_2\"])\n",
    "    dd[\"f_3\"].append(resp.navigation_point[\"f_3\"])\n",
    "    # add reachable solution\n",
    "    dd[\"step_n\"].append(resp.step_number)\n",
    "    dd[\"Type\"].append(f\"REACHSOL\")\n",
    "    dd[\"f_1\"].append(resp.reachable_solution[\"f_1\"])\n",
    "    dd[\"f_2\"].append(resp.reachable_solution[\"f_2\"])\n",
    "    dd[\"f_3\"].append(resp.reachable_solution[\"f_3\"])\n",
    "    # add group improvement direction\n",
    "    if resp.group_improvement_direction == None:\n",
    "        dd[\"step_n\"].append(resp.step_number)\n",
    "        dd[\"Type\"].append(f\"GID\")\n",
    "        dd[\"f_1\"].append(first_iter_gid[\"f_1\"])\n",
    "        dd[\"f_2\"].append(first_iter_gid[\"f_2\"])\n",
    "        dd[\"f_3\"].append(first_iter_gid[\"f_3\"])\n",
    "    else:\n",
    "        dd[\"step_n\"].append(resp.step_number)\n",
    "        dd[\"Type\"].append(f\"GID\")\n",
    "        dd[\"f_1\"].append(resp.group_improvement_direction[\"f_1\"])\n",
    "        dd[\"f_2\"].append(resp.group_improvement_direction[\"f_2\"])\n",
    "        dd[\"f_3\"].append(resp.group_improvement_direction[\"f_3\"])\n",
    "       # resp.reference_points[\"DM1\"][\"f_1\"]\n",
    "    #dd[]    , resp.navigation_point[\"f_1\"])\n",
    "    #break\n",
    "dd"
   ]
  },
  {
   "cell_type": "code",
   "execution_count": 51,
   "metadata": {},
   "outputs": [
    {
     "data": {
      "text/html": [
       "<div>\n",
       "<style scoped>\n",
       "    .dataframe tbody tr th:only-of-type {\n",
       "        vertical-align: middle;\n",
       "    }\n",
       "\n",
       "    .dataframe tbody tr th {\n",
       "        vertical-align: top;\n",
       "    }\n",
       "\n",
       "    .dataframe thead th {\n",
       "        text-align: right;\n",
       "    }\n",
       "</style>\n",
       "<table border=\"1\" class=\"dataframe\">\n",
       "  <thead>\n",
       "    <tr style=\"text-align: right;\">\n",
       "      <th></th>\n",
       "      <th>step_n</th>\n",
       "      <th>Type</th>\n",
       "      <th>f_1</th>\n",
       "      <th>f_2</th>\n",
       "      <th>f_3</th>\n",
       "    </tr>\n",
       "  </thead>\n",
       "  <tbody>\n",
       "    <tr>\n",
       "      <th>0</th>\n",
       "      <td>1</td>\n",
       "      <td>DM1</td>\n",
       "      <td>0.800000</td>\n",
       "      <td>0.700000</td>\n",
       "      <td>0.600000</td>\n",
       "    </tr>\n",
       "    <tr>\n",
       "      <th>1</th>\n",
       "      <td>1</td>\n",
       "      <td>DM2</td>\n",
       "      <td>0.700000</td>\n",
       "      <td>0.800000</td>\n",
       "      <td>0.500000</td>\n",
       "    </tr>\n",
       "    <tr>\n",
       "      <th>2</th>\n",
       "      <td>1</td>\n",
       "      <td>DM3</td>\n",
       "      <td>0.500000</td>\n",
       "      <td>0.600000</td>\n",
       "      <td>0.800000</td>\n",
       "    </tr>\n",
       "    <tr>\n",
       "      <th>3</th>\n",
       "      <td>1</td>\n",
       "      <td>NAVPOINT</td>\n",
       "      <td>1.536471</td>\n",
       "      <td>1.536497</td>\n",
       "      <td>1.535460</td>\n",
       "    </tr>\n",
       "    <tr>\n",
       "      <th>4</th>\n",
       "      <td>1</td>\n",
       "      <td>REACHSOL</td>\n",
       "      <td>0.609413</td>\n",
       "      <td>0.609492</td>\n",
       "      <td>0.606381</td>\n",
       "    </tr>\n",
       "    <tr>\n",
       "      <th>5</th>\n",
       "      <td>1</td>\n",
       "      <td>GID</td>\n",
       "      <td>2.000000</td>\n",
       "      <td>2.000000</td>\n",
       "      <td>2.000000</td>\n",
       "    </tr>\n",
       "    <tr>\n",
       "      <th>6</th>\n",
       "      <td>2</td>\n",
       "      <td>DM1</td>\n",
       "      <td>0.800000</td>\n",
       "      <td>0.700000</td>\n",
       "      <td>0.600000</td>\n",
       "    </tr>\n",
       "    <tr>\n",
       "      <th>7</th>\n",
       "      <td>2</td>\n",
       "      <td>DM2</td>\n",
       "      <td>0.700000</td>\n",
       "      <td>0.800000</td>\n",
       "      <td>0.500000</td>\n",
       "    </tr>\n",
       "    <tr>\n",
       "      <th>8</th>\n",
       "      <td>2</td>\n",
       "      <td>DM3</td>\n",
       "      <td>0.500000</td>\n",
       "      <td>0.600000</td>\n",
       "      <td>0.800000</td>\n",
       "    </tr>\n",
       "    <tr>\n",
       "      <th>9</th>\n",
       "      <td>2</td>\n",
       "      <td>NAVPOINT</td>\n",
       "      <td>1.072942</td>\n",
       "      <td>1.072995</td>\n",
       "      <td>1.070921</td>\n",
       "    </tr>\n",
       "    <tr>\n",
       "      <th>10</th>\n",
       "      <td>2</td>\n",
       "      <td>REACHSOL</td>\n",
       "      <td>0.609413</td>\n",
       "      <td>0.609492</td>\n",
       "      <td>0.606381</td>\n",
       "    </tr>\n",
       "    <tr>\n",
       "      <th>11</th>\n",
       "      <td>2</td>\n",
       "      <td>GID</td>\n",
       "      <td>2.000000</td>\n",
       "      <td>2.000000</td>\n",
       "      <td>2.000000</td>\n",
       "    </tr>\n",
       "    <tr>\n",
       "      <th>12</th>\n",
       "      <td>3</td>\n",
       "      <td>DM1</td>\n",
       "      <td>0.800000</td>\n",
       "      <td>0.700000</td>\n",
       "      <td>0.600000</td>\n",
       "    </tr>\n",
       "    <tr>\n",
       "      <th>13</th>\n",
       "      <td>3</td>\n",
       "      <td>DM2</td>\n",
       "      <td>0.700000</td>\n",
       "      <td>0.800000</td>\n",
       "      <td>0.500000</td>\n",
       "    </tr>\n",
       "    <tr>\n",
       "      <th>14</th>\n",
       "      <td>3</td>\n",
       "      <td>DM3</td>\n",
       "      <td>0.500000</td>\n",
       "      <td>0.600000</td>\n",
       "      <td>0.800000</td>\n",
       "    </tr>\n",
       "    <tr>\n",
       "      <th>15</th>\n",
       "      <td>3</td>\n",
       "      <td>NAVPOINT</td>\n",
       "      <td>0.609413</td>\n",
       "      <td>0.609492</td>\n",
       "      <td>0.606381</td>\n",
       "    </tr>\n",
       "    <tr>\n",
       "      <th>16</th>\n",
       "      <td>3</td>\n",
       "      <td>REACHSOL</td>\n",
       "      <td>0.609413</td>\n",
       "      <td>0.609492</td>\n",
       "      <td>0.606381</td>\n",
       "    </tr>\n",
       "    <tr>\n",
       "      <th>17</th>\n",
       "      <td>3</td>\n",
       "      <td>GID</td>\n",
       "      <td>2.000000</td>\n",
       "      <td>2.000000</td>\n",
       "      <td>2.000000</td>\n",
       "    </tr>\n",
       "  </tbody>\n",
       "</table>\n",
       "</div>"
      ],
      "text/plain": [
       "    step_n      Type       f_1       f_2       f_3\n",
       "0        1       DM1  0.800000  0.700000  0.600000\n",
       "1        1       DM2  0.700000  0.800000  0.500000\n",
       "2        1       DM3  0.500000  0.600000  0.800000\n",
       "3        1  NAVPOINT  1.536471  1.536497  1.535460\n",
       "4        1  REACHSOL  0.609413  0.609492  0.606381\n",
       "5        1       GID  2.000000  2.000000  2.000000\n",
       "6        2       DM1  0.800000  0.700000  0.600000\n",
       "7        2       DM2  0.700000  0.800000  0.500000\n",
       "8        2       DM3  0.500000  0.600000  0.800000\n",
       "9        2  NAVPOINT  1.072942  1.072995  1.070921\n",
       "10       2  REACHSOL  0.609413  0.609492  0.606381\n",
       "11       2       GID  2.000000  2.000000  2.000000\n",
       "12       3       DM1  0.800000  0.700000  0.600000\n",
       "13       3       DM2  0.700000  0.800000  0.500000\n",
       "14       3       DM3  0.500000  0.600000  0.800000\n",
       "15       3  NAVPOINT  0.609413  0.609492  0.606381\n",
       "16       3  REACHSOL  0.609413  0.609492  0.606381\n",
       "17       3       GID  2.000000  2.000000  2.000000"
      ]
     },
     "execution_count": 51,
     "metadata": {},
     "output_type": "execute_result"
    }
   ],
   "source": [
    "ttt = pd.DataFrame(dd)\n",
    "ttt"
   ]
  },
  {
   "cell_type": "code",
   "execution_count": 20,
   "metadata": {},
   "outputs": [
    {
     "data": {
      "text/plain": [
       "array([0.8, 0.7, 0.6])"
      ]
     },
     "execution_count": 20,
     "metadata": {},
     "output_type": "execute_result"
    }
   ],
   "source": [
    "objective_dict_to_numpy_array(problem, all_resp[0].reference_points[\"DM1\"])\n"
   ]
  },
  {
   "cell_type": "code",
   "execution_count": 8,
   "metadata": {},
   "outputs": [
    {
     "data": {
      "text/html": [
       "<div>\n",
       "<style scoped>\n",
       "    .dataframe tbody tr th:only-of-type {\n",
       "        vertical-align: middle;\n",
       "    }\n",
       "\n",
       "    .dataframe tbody tr th {\n",
       "        vertical-align: top;\n",
       "    }\n",
       "\n",
       "    .dataframe thead th {\n",
       "        text-align: right;\n",
       "    }\n",
       "</style>\n",
       "<table border=\"1\" class=\"dataframe\">\n",
       "  <thead>\n",
       "    <tr style=\"text-align: right;\">\n",
       "      <th></th>\n",
       "      <th>Type</th>\n",
       "      <th>f_1</th>\n",
       "      <th>f_2</th>\n",
       "      <th>f_3</th>\n",
       "      <th>Iteration</th>\n",
       "    </tr>\n",
       "  </thead>\n",
       "  <tbody>\n",
       "    <tr>\n",
       "      <th>0</th>\n",
       "      <td>DM1</td>\n",
       "      <td>0.7</td>\n",
       "      <td>0.5</td>\n",
       "      <td>0.7</td>\n",
       "      <td>0</td>\n",
       "    </tr>\n",
       "    <tr>\n",
       "      <th>1</th>\n",
       "      <td>DM2</td>\n",
       "      <td>0.6</td>\n",
       "      <td>0.5</td>\n",
       "      <td>0.6</td>\n",
       "      <td>0</td>\n",
       "    </tr>\n",
       "    <tr>\n",
       "      <th>2</th>\n",
       "      <td>DM3</td>\n",
       "      <td>0.5</td>\n",
       "      <td>0.8</td>\n",
       "      <td>0.5</td>\n",
       "      <td>0</td>\n",
       "    </tr>\n",
       "    <tr>\n",
       "      <th>3</th>\n",
       "      <td>NAVPOINT</td>\n",
       "      <td>1.0</td>\n",
       "      <td>1.0</td>\n",
       "      <td>1.0</td>\n",
       "      <td>0</td>\n",
       "    </tr>\n",
       "    <tr>\n",
       "      <th>4</th>\n",
       "      <td>GID</td>\n",
       "      <td>0.5</td>\n",
       "      <td>0.5</td>\n",
       "      <td>0.5</td>\n",
       "      <td>0</td>\n",
       "    </tr>\n",
       "    <tr>\n",
       "      <th>5</th>\n",
       "      <td>DM1</td>\n",
       "      <td>0.7</td>\n",
       "      <td>0.5</td>\n",
       "      <td>0.7</td>\n",
       "      <td>1</td>\n",
       "    </tr>\n",
       "    <tr>\n",
       "      <th>6</th>\n",
       "      <td>DM2</td>\n",
       "      <td>0.6</td>\n",
       "      <td>0.5</td>\n",
       "      <td>0.6</td>\n",
       "      <td>1</td>\n",
       "    </tr>\n",
       "    <tr>\n",
       "      <th>7</th>\n",
       "      <td>DM3</td>\n",
       "      <td>0.5</td>\n",
       "      <td>0.8</td>\n",
       "      <td>0.5</td>\n",
       "      <td>1</td>\n",
       "    </tr>\n",
       "    <tr>\n",
       "      <th>8</th>\n",
       "      <td>NAVPOINT</td>\n",
       "      <td>0.8</td>\n",
       "      <td>0.8</td>\n",
       "      <td>0.8</td>\n",
       "      <td>1</td>\n",
       "    </tr>\n",
       "    <tr>\n",
       "      <th>9</th>\n",
       "      <td>GID</td>\n",
       "      <td>0.5</td>\n",
       "      <td>0.5</td>\n",
       "      <td>0.5</td>\n",
       "      <td>1</td>\n",
       "    </tr>\n",
       "  </tbody>\n",
       "</table>\n",
       "</div>"
      ],
      "text/plain": [
       "       Type  f_1  f_2  f_3  Iteration\n",
       "0       DM1  0.7  0.5  0.7          0\n",
       "1       DM2  0.6  0.5  0.6          0\n",
       "2       DM3  0.5  0.8  0.5          0\n",
       "3  NAVPOINT  1.0  1.0  1.0          0\n",
       "4       GID  0.5  0.5  0.5          0\n",
       "5       DM1  0.7  0.5  0.7          1\n",
       "6       DM2  0.6  0.5  0.6          1\n",
       "7       DM3  0.5  0.8  0.5          1\n",
       "8  NAVPOINT  0.8  0.8  0.8          1\n",
       "9       GID  0.5  0.5  0.5          1"
      ]
     },
     "execution_count": 8,
     "metadata": {},
     "output_type": "execute_result"
    }
   ],
   "source": [
    "ff"
   ]
  },
  {
   "cell_type": "code",
   "execution_count": 55,
   "metadata": {},
   "outputs": [
    {
     "ename": "ValueError",
     "evalue": "\n    Invalid element(s) received for the 'color' property of parcoords.line\n        Invalid elements include: ['DM1', 'DM2', 'DM3', 'NAVPOINT', 'REACHSOL', 'GID', 'DM1', 'DM2', 'DM3', 'NAVPOINT']\n\n    The 'color' property is a color and may be specified as:\n      - A hex string (e.g. '#ff0000')\n      - An rgb/rgba string (e.g. 'rgb(255,0,0)')\n      - An hsl/hsla string (e.g. 'hsl(0,100%,50%)')\n      - An hsv/hsva string (e.g. 'hsv(0,100%,100%)')\n      - A named CSS color:\n            aliceblue, antiquewhite, aqua, aquamarine, azure,\n            beige, bisque, black, blanchedalmond, blue,\n            blueviolet, brown, burlywood, cadetblue,\n            chartreuse, chocolate, coral, cornflowerblue,\n            cornsilk, crimson, cyan, darkblue, darkcyan,\n            darkgoldenrod, darkgray, darkgrey, darkgreen,\n            darkkhaki, darkmagenta, darkolivegreen, darkorange,\n            darkorchid, darkred, darksalmon, darkseagreen,\n            darkslateblue, darkslategray, darkslategrey,\n            darkturquoise, darkviolet, deeppink, deepskyblue,\n            dimgray, dimgrey, dodgerblue, firebrick,\n            floralwhite, forestgreen, fuchsia, gainsboro,\n            ghostwhite, gold, goldenrod, gray, grey, green,\n            greenyellow, honeydew, hotpink, indianred, indigo,\n            ivory, khaki, lavender, lavenderblush, lawngreen,\n            lemonchiffon, lightblue, lightcoral, lightcyan,\n            lightgoldenrodyellow, lightgray, lightgrey,\n            lightgreen, lightpink, lightsalmon, lightseagreen,\n            lightskyblue, lightslategray, lightslategrey,\n            lightsteelblue, lightyellow, lime, limegreen,\n            linen, magenta, maroon, mediumaquamarine,\n            mediumblue, mediumorchid, mediumpurple,\n            mediumseagreen, mediumslateblue, mediumspringgreen,\n            mediumturquoise, mediumvioletred, midnightblue,\n            mintcream, mistyrose, moccasin, navajowhite, navy,\n            oldlace, olive, olivedrab, orange, orangered,\n            orchid, palegoldenrod, palegreen, paleturquoise,\n            palevioletred, papayawhip, peachpuff, peru, pink,\n            plum, powderblue, purple, red, rosybrown,\n            royalblue, rebeccapurple, saddlebrown, salmon,\n            sandybrown, seagreen, seashell, sienna, silver,\n            skyblue, slateblue, slategray, slategrey, snow,\n            springgreen, steelblue, tan, teal, thistle, tomato,\n            turquoise, violet, wheat, white, whitesmoke,\n            yellow, yellowgreen\n      - A number that will be interpreted as a color\n        according to parcoords.line.colorscale\n      - A list or array of any of the above",
     "output_type": "error",
     "traceback": [
      "\u001b[0;31m---------------------------------------------------------------------------\u001b[0m",
      "\u001b[0;31mValueError\u001b[0m                                Traceback (most recent call last)",
      "Cell \u001b[0;32mIn[55], line 1\u001b[0m\n\u001b[0;32m----> 1\u001b[0m fig4 \u001b[38;5;241m=\u001b[39m \u001b[43mex\u001b[49m\u001b[38;5;241;43m.\u001b[39;49m\u001b[43mparallel_coordinates\u001b[49m\u001b[43m(\u001b[49m\u001b[43mttt\u001b[49m\u001b[43m,\u001b[49m\u001b[43m \u001b[49m\u001b[43mcolor\u001b[49m\u001b[38;5;241;43m=\u001b[39;49m\u001b[38;5;124;43m\"\u001b[39;49m\u001b[38;5;124;43mType\u001b[39;49m\u001b[38;5;124;43m\"\u001b[39;49m\u001b[43m)\u001b[49m\n",
      "File \u001b[0;32m~/tyot/mop/desdeo/DESDEO/.venv/lib/python3.12/site-packages/plotly/express/_chart_types.py:1418\u001b[0m, in \u001b[0;36mparallel_coordinates\u001b[0;34m(data_frame, dimensions, color, labels, color_continuous_scale, range_color, color_continuous_midpoint, title, template, width, height)\u001b[0m\n\u001b[1;32m   1400\u001b[0m \u001b[38;5;28;01mdef\u001b[39;00m \u001b[38;5;21mparallel_coordinates\u001b[39m(\n\u001b[1;32m   1401\u001b[0m     data_frame\u001b[38;5;241m=\u001b[39m\u001b[38;5;28;01mNone\u001b[39;00m,\n\u001b[1;32m   1402\u001b[0m     dimensions\u001b[38;5;241m=\u001b[39m\u001b[38;5;28;01mNone\u001b[39;00m,\n\u001b[0;32m   (...)\u001b[0m\n\u001b[1;32m   1411\u001b[0m     height\u001b[38;5;241m=\u001b[39m\u001b[38;5;28;01mNone\u001b[39;00m,\n\u001b[1;32m   1412\u001b[0m ) \u001b[38;5;241m-\u001b[39m\u001b[38;5;241m>\u001b[39m go\u001b[38;5;241m.\u001b[39mFigure:\n\u001b[1;32m   1413\u001b[0m \u001b[38;5;250m    \u001b[39m\u001b[38;5;124;03m\"\"\"\u001b[39;00m\n\u001b[1;32m   1414\u001b[0m \u001b[38;5;124;03m    In a parallel coordinates plot, each row of `data_frame` is represented\u001b[39;00m\n\u001b[1;32m   1415\u001b[0m \u001b[38;5;124;03m    by a polyline mark which traverses a set of parallel axes, one for each\u001b[39;00m\n\u001b[1;32m   1416\u001b[0m \u001b[38;5;124;03m    of the `dimensions`.\u001b[39;00m\n\u001b[1;32m   1417\u001b[0m \u001b[38;5;124;03m    \"\"\"\u001b[39;00m\n\u001b[0;32m-> 1418\u001b[0m     \u001b[38;5;28;01mreturn\u001b[39;00m \u001b[43mmake_figure\u001b[49m\u001b[43m(\u001b[49m\u001b[43margs\u001b[49m\u001b[38;5;241;43m=\u001b[39;49m\u001b[38;5;28;43mlocals\u001b[39;49m\u001b[43m(\u001b[49m\u001b[43m)\u001b[49m\u001b[43m,\u001b[49m\u001b[43m \u001b[49m\u001b[43mconstructor\u001b[49m\u001b[38;5;241;43m=\u001b[39;49m\u001b[43mgo\u001b[49m\u001b[38;5;241;43m.\u001b[39;49m\u001b[43mParcoords\u001b[49m\u001b[43m)\u001b[49m\n",
      "File \u001b[0;32m~/tyot/mop/desdeo/DESDEO/.venv/lib/python3.12/site-packages/plotly/express/_core.py:2270\u001b[0m, in \u001b[0;36mmake_figure\u001b[0;34m(args, constructor, trace_patch, layout_patch)\u001b[0m\n\u001b[1;32m   2265\u001b[0m         group[var] \u001b[38;5;241m=\u001b[39m \u001b[38;5;241m100.0\u001b[39m \u001b[38;5;241m*\u001b[39m group[var] \u001b[38;5;241m/\u001b[39m group_sum\n\u001b[1;32m   2267\u001b[0m patch, fit_results \u001b[38;5;241m=\u001b[39m make_trace_kwargs(\n\u001b[1;32m   2268\u001b[0m     args, trace_spec, group, mapping_labels\u001b[38;5;241m.\u001b[39mcopy(), sizeref\n\u001b[1;32m   2269\u001b[0m )\n\u001b[0;32m-> 2270\u001b[0m \u001b[43mtrace\u001b[49m\u001b[38;5;241;43m.\u001b[39;49m\u001b[43mupdate\u001b[49m\u001b[43m(\u001b[49m\u001b[43mpatch\u001b[49m\u001b[43m)\u001b[49m\n\u001b[1;32m   2271\u001b[0m \u001b[38;5;28;01mif\u001b[39;00m fit_results \u001b[38;5;129;01mis\u001b[39;00m \u001b[38;5;129;01mnot\u001b[39;00m \u001b[38;5;28;01mNone\u001b[39;00m:\n\u001b[1;32m   2272\u001b[0m     trendline_rows\u001b[38;5;241m.\u001b[39mappend(mapping_labels\u001b[38;5;241m.\u001b[39mcopy())\n",
      "File \u001b[0;32m~/tyot/mop/desdeo/DESDEO/.venv/lib/python3.12/site-packages/plotly/basedatatypes.py:5139\u001b[0m, in \u001b[0;36mBasePlotlyType.update\u001b[0;34m(self, dict1, overwrite, **kwargs)\u001b[0m\n\u001b[1;32m   5137\u001b[0m         BaseFigure\u001b[38;5;241m.\u001b[39m_perform_update(\u001b[38;5;28mself\u001b[39m, kwargs, overwrite\u001b[38;5;241m=\u001b[39moverwrite)\n\u001b[1;32m   5138\u001b[0m \u001b[38;5;28;01melse\u001b[39;00m:\n\u001b[0;32m-> 5139\u001b[0m     \u001b[43mBaseFigure\u001b[49m\u001b[38;5;241;43m.\u001b[39;49m\u001b[43m_perform_update\u001b[49m\u001b[43m(\u001b[49m\u001b[38;5;28;43mself\u001b[39;49m\u001b[43m,\u001b[49m\u001b[43m \u001b[49m\u001b[43mdict1\u001b[49m\u001b[43m,\u001b[49m\u001b[43m \u001b[49m\u001b[43moverwrite\u001b[49m\u001b[38;5;241;43m=\u001b[39;49m\u001b[43moverwrite\u001b[49m\u001b[43m)\u001b[49m\n\u001b[1;32m   5140\u001b[0m     BaseFigure\u001b[38;5;241m.\u001b[39m_perform_update(\u001b[38;5;28mself\u001b[39m, kwargs, overwrite\u001b[38;5;241m=\u001b[39moverwrite)\n\u001b[1;32m   5142\u001b[0m \u001b[38;5;28;01mreturn\u001b[39;00m \u001b[38;5;28mself\u001b[39m\n",
      "File \u001b[0;32m~/tyot/mop/desdeo/DESDEO/.venv/lib/python3.12/site-packages/plotly/basedatatypes.py:3919\u001b[0m, in \u001b[0;36mBaseFigure._perform_update\u001b[0;34m(plotly_obj, update_obj, overwrite)\u001b[0m\n\u001b[1;32m   3913\u001b[0m validator \u001b[38;5;241m=\u001b[39m plotly_obj\u001b[38;5;241m.\u001b[39m_get_prop_validator(key)\n\u001b[1;32m   3915\u001b[0m \u001b[38;5;28;01mif\u001b[39;00m \u001b[38;5;28misinstance\u001b[39m(validator, CompoundValidator) \u001b[38;5;129;01mand\u001b[39;00m \u001b[38;5;28misinstance\u001b[39m(val, \u001b[38;5;28mdict\u001b[39m):\n\u001b[1;32m   3916\u001b[0m \n\u001b[1;32m   3917\u001b[0m     \u001b[38;5;66;03m# Update compound objects recursively\u001b[39;00m\n\u001b[1;32m   3918\u001b[0m     \u001b[38;5;66;03m# plotly_obj[key].update(val)\u001b[39;00m\n\u001b[0;32m-> 3919\u001b[0m     \u001b[43mBaseFigure\u001b[49m\u001b[38;5;241;43m.\u001b[39;49m\u001b[43m_perform_update\u001b[49m\u001b[43m(\u001b[49m\u001b[43mplotly_obj\u001b[49m\u001b[43m[\u001b[49m\u001b[43mkey\u001b[49m\u001b[43m]\u001b[49m\u001b[43m,\u001b[49m\u001b[43m \u001b[49m\u001b[43mval\u001b[49m\u001b[43m)\u001b[49m\n\u001b[1;32m   3920\u001b[0m \u001b[38;5;28;01melif\u001b[39;00m \u001b[38;5;28misinstance\u001b[39m(validator, CompoundArrayValidator):\n\u001b[1;32m   3921\u001b[0m     \u001b[38;5;28;01mif\u001b[39;00m plotly_obj[key]:\n\u001b[1;32m   3922\u001b[0m         \u001b[38;5;66;03m# plotly_obj has an existing non-empty array for key\u001b[39;00m\n\u001b[1;32m   3923\u001b[0m         \u001b[38;5;66;03m# In this case we merge val into the existing elements\u001b[39;00m\n",
      "File \u001b[0;32m~/tyot/mop/desdeo/DESDEO/.venv/lib/python3.12/site-packages/plotly/basedatatypes.py:3940\u001b[0m, in \u001b[0;36mBaseFigure._perform_update\u001b[0;34m(plotly_obj, update_obj, overwrite)\u001b[0m\n\u001b[1;32m   3937\u001b[0m                 plotly_obj[key] \u001b[38;5;241m=\u001b[39m val\n\u001b[1;32m   3938\u001b[0m         \u001b[38;5;28;01melse\u001b[39;00m:\n\u001b[1;32m   3939\u001b[0m             \u001b[38;5;66;03m# Assign non-compound value\u001b[39;00m\n\u001b[0;32m-> 3940\u001b[0m             \u001b[43mplotly_obj\u001b[49m\u001b[43m[\u001b[49m\u001b[43mkey\u001b[49m\u001b[43m]\u001b[49m \u001b[38;5;241m=\u001b[39m val\n\u001b[1;32m   3942\u001b[0m \u001b[38;5;28;01melif\u001b[39;00m \u001b[38;5;28misinstance\u001b[39m(plotly_obj, \u001b[38;5;28mtuple\u001b[39m):\n\u001b[1;32m   3944\u001b[0m     \u001b[38;5;28;01mif\u001b[39;00m \u001b[38;5;28mlen\u001b[39m(update_obj) \u001b[38;5;241m==\u001b[39m \u001b[38;5;241m0\u001b[39m:\n\u001b[1;32m   3945\u001b[0m         \u001b[38;5;66;03m# Nothing to do\u001b[39;00m\n",
      "File \u001b[0;32m~/tyot/mop/desdeo/DESDEO/.venv/lib/python3.12/site-packages/plotly/basedatatypes.py:4874\u001b[0m, in \u001b[0;36mBasePlotlyType.__setitem__\u001b[0;34m(self, prop, value)\u001b[0m\n\u001b[1;32m   4870\u001b[0m         \u001b[38;5;28mself\u001b[39m\u001b[38;5;241m.\u001b[39m_set_array_prop(prop, value)\n\u001b[1;32m   4872\u001b[0m     \u001b[38;5;66;03m# ### Handle simple property ###\u001b[39;00m\n\u001b[1;32m   4873\u001b[0m     \u001b[38;5;28;01melse\u001b[39;00m:\n\u001b[0;32m-> 4874\u001b[0m         \u001b[38;5;28;43mself\u001b[39;49m\u001b[38;5;241;43m.\u001b[39;49m\u001b[43m_set_prop\u001b[49m\u001b[43m(\u001b[49m\u001b[43mprop\u001b[49m\u001b[43m,\u001b[49m\u001b[43m \u001b[49m\u001b[43mvalue\u001b[49m\u001b[43m)\u001b[49m\n\u001b[1;32m   4875\u001b[0m \u001b[38;5;28;01melse\u001b[39;00m:\n\u001b[1;32m   4876\u001b[0m     \u001b[38;5;66;03m# Make sure properties dict is initialized\u001b[39;00m\n\u001b[1;32m   4877\u001b[0m     \u001b[38;5;28mself\u001b[39m\u001b[38;5;241m.\u001b[39m_init_props()\n",
      "File \u001b[0;32m~/tyot/mop/desdeo/DESDEO/.venv/lib/python3.12/site-packages/plotly/basedatatypes.py:5218\u001b[0m, in \u001b[0;36mBasePlotlyType._set_prop\u001b[0;34m(self, prop, val)\u001b[0m\n\u001b[1;32m   5216\u001b[0m         \u001b[38;5;28;01mreturn\u001b[39;00m\n\u001b[1;32m   5217\u001b[0m     \u001b[38;5;28;01melse\u001b[39;00m:\n\u001b[0;32m-> 5218\u001b[0m         \u001b[38;5;28;01mraise\u001b[39;00m err\n\u001b[1;32m   5220\u001b[0m \u001b[38;5;66;03m# val is None\u001b[39;00m\n\u001b[1;32m   5221\u001b[0m \u001b[38;5;66;03m# -----------\u001b[39;00m\n\u001b[1;32m   5222\u001b[0m \u001b[38;5;28;01mif\u001b[39;00m val \u001b[38;5;129;01mis\u001b[39;00m \u001b[38;5;28;01mNone\u001b[39;00m:\n\u001b[1;32m   5223\u001b[0m     \u001b[38;5;66;03m# Check if we should send null update\u001b[39;00m\n",
      "File \u001b[0;32m~/tyot/mop/desdeo/DESDEO/.venv/lib/python3.12/site-packages/plotly/basedatatypes.py:5213\u001b[0m, in \u001b[0;36mBasePlotlyType._set_prop\u001b[0;34m(self, prop, val)\u001b[0m\n\u001b[1;32m   5210\u001b[0m validator \u001b[38;5;241m=\u001b[39m \u001b[38;5;28mself\u001b[39m\u001b[38;5;241m.\u001b[39m_get_validator(prop)\n\u001b[1;32m   5212\u001b[0m \u001b[38;5;28;01mtry\u001b[39;00m:\n\u001b[0;32m-> 5213\u001b[0m     val \u001b[38;5;241m=\u001b[39m \u001b[43mvalidator\u001b[49m\u001b[38;5;241;43m.\u001b[39;49m\u001b[43mvalidate_coerce\u001b[49m\u001b[43m(\u001b[49m\u001b[43mval\u001b[49m\u001b[43m)\u001b[49m\n\u001b[1;32m   5214\u001b[0m \u001b[38;5;28;01mexcept\u001b[39;00m \u001b[38;5;167;01mValueError\u001b[39;00m \u001b[38;5;28;01mas\u001b[39;00m err:\n\u001b[1;32m   5215\u001b[0m     \u001b[38;5;28;01mif\u001b[39;00m \u001b[38;5;28mself\u001b[39m\u001b[38;5;241m.\u001b[39m_skip_invalid:\n",
      "File \u001b[0;32m~/tyot/mop/desdeo/DESDEO/.venv/lib/python3.12/site-packages/_plotly_utils/basevalidators.py:1363\u001b[0m, in \u001b[0;36mColorValidator.validate_coerce\u001b[0;34m(self, v, should_raise)\u001b[0m\n\u001b[1;32m   1360\u001b[0m invalid_els \u001b[38;5;241m=\u001b[39m \u001b[38;5;28mself\u001b[39m\u001b[38;5;241m.\u001b[39mfind_invalid_els(v, validated_v)\n\u001b[1;32m   1362\u001b[0m \u001b[38;5;28;01mif\u001b[39;00m invalid_els \u001b[38;5;129;01mand\u001b[39;00m should_raise:\n\u001b[0;32m-> 1363\u001b[0m     \u001b[38;5;28;43mself\u001b[39;49m\u001b[38;5;241;43m.\u001b[39;49m\u001b[43mraise_invalid_elements\u001b[49m\u001b[43m(\u001b[49m\u001b[43minvalid_els\u001b[49m\u001b[43m)\u001b[49m\n\u001b[1;32m   1365\u001b[0m \u001b[38;5;66;03m# ### Check that elements have valid colors types ###\u001b[39;00m\n\u001b[1;32m   1366\u001b[0m \u001b[38;5;28;01melif\u001b[39;00m \u001b[38;5;28mself\u001b[39m\u001b[38;5;241m.\u001b[39mnumbers_allowed() \u001b[38;5;129;01mor\u001b[39;00m invalid_els:\n",
      "File \u001b[0;32m~/tyot/mop/desdeo/DESDEO/.venv/lib/python3.12/site-packages/_plotly_utils/basevalidators.py:312\u001b[0m, in \u001b[0;36mBaseValidator.raise_invalid_elements\u001b[0;34m(self, invalid_els)\u001b[0m\n\u001b[1;32m    310\u001b[0m     \u001b[38;5;28;01mdef\u001b[39;00m \u001b[38;5;21mraise_invalid_elements\u001b[39m(\u001b[38;5;28mself\u001b[39m, invalid_els):\n\u001b[1;32m    311\u001b[0m         \u001b[38;5;28;01mif\u001b[39;00m invalid_els:\n\u001b[0;32m--> 312\u001b[0m             \u001b[38;5;28;01mraise\u001b[39;00m \u001b[38;5;167;01mValueError\u001b[39;00m(\n\u001b[1;32m    313\u001b[0m \u001b[38;5;250m                \u001b[39m\u001b[38;5;124;03m\"\"\"\u001b[39;00m\n\u001b[1;32m    314\u001b[0m \u001b[38;5;124;03m    Invalid element(s) received for the '{name}' property of {pname}\u001b[39;00m\n\u001b[1;32m    315\u001b[0m \u001b[38;5;124;03m        Invalid elements include: {invalid}\u001b[39;00m\n\u001b[1;32m    316\u001b[0m \n\u001b[1;32m    317\u001b[0m \u001b[38;5;124;03m{valid_clr_desc}\"\"\"\u001b[39;00m\u001b[38;5;241m.\u001b[39mformat(\n\u001b[1;32m    318\u001b[0m                     name\u001b[38;5;241m=\u001b[39m\u001b[38;5;28mself\u001b[39m\u001b[38;5;241m.\u001b[39mplotly_name,\n\u001b[1;32m    319\u001b[0m                     pname\u001b[38;5;241m=\u001b[39m\u001b[38;5;28mself\u001b[39m\u001b[38;5;241m.\u001b[39mparent_name,\n\u001b[1;32m    320\u001b[0m                     invalid\u001b[38;5;241m=\u001b[39minvalid_els[:\u001b[38;5;241m10\u001b[39m],\n\u001b[1;32m    321\u001b[0m                     valid_clr_desc\u001b[38;5;241m=\u001b[39m\u001b[38;5;28mself\u001b[39m\u001b[38;5;241m.\u001b[39mdescription(),\n\u001b[1;32m    322\u001b[0m                 )\n\u001b[1;32m    323\u001b[0m             )\n",
      "\u001b[0;31mValueError\u001b[0m: \n    Invalid element(s) received for the 'color' property of parcoords.line\n        Invalid elements include: ['DM1', 'DM2', 'DM3', 'NAVPOINT', 'REACHSOL', 'GID', 'DM1', 'DM2', 'DM3', 'NAVPOINT']\n\n    The 'color' property is a color and may be specified as:\n      - A hex string (e.g. '#ff0000')\n      - An rgb/rgba string (e.g. 'rgb(255,0,0)')\n      - An hsl/hsla string (e.g. 'hsl(0,100%,50%)')\n      - An hsv/hsva string (e.g. 'hsv(0,100%,100%)')\n      - A named CSS color:\n            aliceblue, antiquewhite, aqua, aquamarine, azure,\n            beige, bisque, black, blanchedalmond, blue,\n            blueviolet, brown, burlywood, cadetblue,\n            chartreuse, chocolate, coral, cornflowerblue,\n            cornsilk, crimson, cyan, darkblue, darkcyan,\n            darkgoldenrod, darkgray, darkgrey, darkgreen,\n            darkkhaki, darkmagenta, darkolivegreen, darkorange,\n            darkorchid, darkred, darksalmon, darkseagreen,\n            darkslateblue, darkslategray, darkslategrey,\n            darkturquoise, darkviolet, deeppink, deepskyblue,\n            dimgray, dimgrey, dodgerblue, firebrick,\n            floralwhite, forestgreen, fuchsia, gainsboro,\n            ghostwhite, gold, goldenrod, gray, grey, green,\n            greenyellow, honeydew, hotpink, indianred, indigo,\n            ivory, khaki, lavender, lavenderblush, lawngreen,\n            lemonchiffon, lightblue, lightcoral, lightcyan,\n            lightgoldenrodyellow, lightgray, lightgrey,\n            lightgreen, lightpink, lightsalmon, lightseagreen,\n            lightskyblue, lightslategray, lightslategrey,\n            lightsteelblue, lightyellow, lime, limegreen,\n            linen, magenta, maroon, mediumaquamarine,\n            mediumblue, mediumorchid, mediumpurple,\n            mediumseagreen, mediumslateblue, mediumspringgreen,\n            mediumturquoise, mediumvioletred, midnightblue,\n            mintcream, mistyrose, moccasin, navajowhite, navy,\n            oldlace, olive, olivedrab, orange, orangered,\n            orchid, palegoldenrod, palegreen, paleturquoise,\n            palevioletred, papayawhip, peachpuff, peru, pink,\n            plum, powderblue, purple, red, rosybrown,\n            royalblue, rebeccapurple, saddlebrown, salmon,\n            sandybrown, seagreen, seashell, sienna, silver,\n            skyblue, slateblue, slategray, slategrey, snow,\n            springgreen, steelblue, tan, teal, thistle, tomato,\n            turquoise, violet, wheat, white, whitesmoke,\n            yellow, yellowgreen\n      - A number that will be interpreted as a color\n        according to parcoords.line.colorscale\n      - A list or array of any of the above"
     ]
    }
   ],
   "source": [
    "fig4 = ex.parallel_coordinates(ttt, color=\"Type\", labels={})\n",
    "fig4"
   ]
  },
  {
   "cell_type": "code",
   "execution_count": 53,
   "metadata": {},
   "outputs": [
    {
     "data": {
      "application/vnd.plotly.v1+json": {
       "config": {
        "plotlyServerURL": "https://plot.ly"
       },
       "data": [
        {
         "hovertemplate": "Type=DM1<br>step_n=1<br>f_1=%{x}<br>f_2=%{y}<br>f_3=%{z}<extra></extra>",
         "legendgroup": "DM1",
         "marker": {
          "color": "#636efa",
          "symbol": "circle"
         },
         "mode": "markers",
         "name": "DM1",
         "scene": "scene",
         "showlegend": true,
         "type": "scatter3d",
         "x": [
          0.8
         ],
         "y": [
          0.7
         ],
         "z": [
          0.6
         ]
        },
        {
         "hovertemplate": "Type=DM2<br>step_n=1<br>f_1=%{x}<br>f_2=%{y}<br>f_3=%{z}<extra></extra>",
         "legendgroup": "DM2",
         "marker": {
          "color": "#EF553B",
          "symbol": "circle"
         },
         "mode": "markers",
         "name": "DM2",
         "scene": "scene",
         "showlegend": true,
         "type": "scatter3d",
         "x": [
          0.7
         ],
         "y": [
          0.8
         ],
         "z": [
          0.5
         ]
        },
        {
         "hovertemplate": "Type=DM3<br>step_n=1<br>f_1=%{x}<br>f_2=%{y}<br>f_3=%{z}<extra></extra>",
         "legendgroup": "DM3",
         "marker": {
          "color": "#00cc96",
          "symbol": "circle"
         },
         "mode": "markers",
         "name": "DM3",
         "scene": "scene",
         "showlegend": true,
         "type": "scatter3d",
         "x": [
          0.5
         ],
         "y": [
          0.6
         ],
         "z": [
          0.8
         ]
        },
        {
         "hovertemplate": "Type=NAVPOINT<br>step_n=1<br>f_1=%{x}<br>f_2=%{y}<br>f_3=%{z}<extra></extra>",
         "legendgroup": "NAVPOINT",
         "marker": {
          "color": "#ab63fa",
          "symbol": "circle"
         },
         "mode": "markers",
         "name": "NAVPOINT",
         "scene": "scene",
         "showlegend": true,
         "type": "scatter3d",
         "x": [
          1.5364709777317986
         ],
         "y": [
          1.5364973879863197
         ],
         "z": [
          1.5354603644147513
         ]
        },
        {
         "hovertemplate": "Type=REACHSOL<br>step_n=1<br>f_1=%{x}<br>f_2=%{y}<br>f_3=%{z}<extra></extra>",
         "legendgroup": "REACHSOL",
         "marker": {
          "color": "#FFA15A",
          "symbol": "circle"
         },
         "mode": "markers",
         "name": "REACHSOL",
         "scene": "scene",
         "showlegend": true,
         "type": "scatter3d",
         "x": [
          0.6094129331953962
         ],
         "y": [
          0.6094921639589597
         ],
         "z": [
          0.6063810932442545
         ]
        },
        {
         "hovertemplate": "Type=GID<br>step_n=1<br>f_1=%{x}<br>f_2=%{y}<br>f_3=%{z}<extra></extra>",
         "legendgroup": "GID",
         "marker": {
          "color": "#19d3f3",
          "symbol": "circle"
         },
         "mode": "markers",
         "name": "GID",
         "scene": "scene",
         "showlegend": true,
         "type": "scatter3d",
         "x": [
          1.9999999919929925
         ],
         "y": [
          1.9999999919926168
         ],
         "z": [
          1.9999999919925402
         ]
        }
       ],
       "frames": [
        {
         "data": [
          {
           "hovertemplate": "Type=DM1<br>step_n=1<br>f_1=%{x}<br>f_2=%{y}<br>f_3=%{z}<extra></extra>",
           "legendgroup": "DM1",
           "marker": {
            "color": "#636efa",
            "symbol": "circle"
           },
           "mode": "markers",
           "name": "DM1",
           "scene": "scene",
           "showlegend": true,
           "type": "scatter3d",
           "x": [
            0.8
           ],
           "y": [
            0.7
           ],
           "z": [
            0.6
           ]
          },
          {
           "hovertemplate": "Type=DM2<br>step_n=1<br>f_1=%{x}<br>f_2=%{y}<br>f_3=%{z}<extra></extra>",
           "legendgroup": "DM2",
           "marker": {
            "color": "#EF553B",
            "symbol": "circle"
           },
           "mode": "markers",
           "name": "DM2",
           "scene": "scene",
           "showlegend": true,
           "type": "scatter3d",
           "x": [
            0.7
           ],
           "y": [
            0.8
           ],
           "z": [
            0.5
           ]
          },
          {
           "hovertemplate": "Type=DM3<br>step_n=1<br>f_1=%{x}<br>f_2=%{y}<br>f_3=%{z}<extra></extra>",
           "legendgroup": "DM3",
           "marker": {
            "color": "#00cc96",
            "symbol": "circle"
           },
           "mode": "markers",
           "name": "DM3",
           "scene": "scene",
           "showlegend": true,
           "type": "scatter3d",
           "x": [
            0.5
           ],
           "y": [
            0.6
           ],
           "z": [
            0.8
           ]
          },
          {
           "hovertemplate": "Type=NAVPOINT<br>step_n=1<br>f_1=%{x}<br>f_2=%{y}<br>f_3=%{z}<extra></extra>",
           "legendgroup": "NAVPOINT",
           "marker": {
            "color": "#ab63fa",
            "symbol": "circle"
           },
           "mode": "markers",
           "name": "NAVPOINT",
           "scene": "scene",
           "showlegend": true,
           "type": "scatter3d",
           "x": [
            1.5364709777317986
           ],
           "y": [
            1.5364973879863197
           ],
           "z": [
            1.5354603644147513
           ]
          },
          {
           "hovertemplate": "Type=REACHSOL<br>step_n=1<br>f_1=%{x}<br>f_2=%{y}<br>f_3=%{z}<extra></extra>",
           "legendgroup": "REACHSOL",
           "marker": {
            "color": "#FFA15A",
            "symbol": "circle"
           },
           "mode": "markers",
           "name": "REACHSOL",
           "scene": "scene",
           "showlegend": true,
           "type": "scatter3d",
           "x": [
            0.6094129331953962
           ],
           "y": [
            0.6094921639589597
           ],
           "z": [
            0.6063810932442545
           ]
          },
          {
           "hovertemplate": "Type=GID<br>step_n=1<br>f_1=%{x}<br>f_2=%{y}<br>f_3=%{z}<extra></extra>",
           "legendgroup": "GID",
           "marker": {
            "color": "#19d3f3",
            "symbol": "circle"
           },
           "mode": "markers",
           "name": "GID",
           "scene": "scene",
           "showlegend": true,
           "type": "scatter3d",
           "x": [
            1.9999999919929925
           ],
           "y": [
            1.9999999919926168
           ],
           "z": [
            1.9999999919925402
           ]
          }
         ],
         "name": "1"
        },
        {
         "data": [
          {
           "hovertemplate": "Type=DM1<br>step_n=2<br>f_1=%{x}<br>f_2=%{y}<br>f_3=%{z}<extra></extra>",
           "legendgroup": "DM1",
           "marker": {
            "color": "#636efa",
            "symbol": "circle"
           },
           "mode": "markers",
           "name": "DM1",
           "scene": "scene",
           "showlegend": true,
           "type": "scatter3d",
           "x": [
            0.8
           ],
           "y": [
            0.7
           ],
           "z": [
            0.6
           ]
          },
          {
           "hovertemplate": "Type=DM2<br>step_n=2<br>f_1=%{x}<br>f_2=%{y}<br>f_3=%{z}<extra></extra>",
           "legendgroup": "DM2",
           "marker": {
            "color": "#EF553B",
            "symbol": "circle"
           },
           "mode": "markers",
           "name": "DM2",
           "scene": "scene",
           "showlegend": true,
           "type": "scatter3d",
           "x": [
            0.7
           ],
           "y": [
            0.8
           ],
           "z": [
            0.5
           ]
          },
          {
           "hovertemplate": "Type=DM3<br>step_n=2<br>f_1=%{x}<br>f_2=%{y}<br>f_3=%{z}<extra></extra>",
           "legendgroup": "DM3",
           "marker": {
            "color": "#00cc96",
            "symbol": "circle"
           },
           "mode": "markers",
           "name": "DM3",
           "scene": "scene",
           "showlegend": true,
           "type": "scatter3d",
           "x": [
            0.5
           ],
           "y": [
            0.6
           ],
           "z": [
            0.8
           ]
          },
          {
           "hovertemplate": "Type=NAVPOINT<br>step_n=2<br>f_1=%{x}<br>f_2=%{y}<br>f_3=%{z}<extra></extra>",
           "legendgroup": "NAVPOINT",
           "marker": {
            "color": "#ab63fa",
            "symbol": "circle"
           },
           "mode": "markers",
           "name": "NAVPOINT",
           "scene": "scene",
           "showlegend": true,
           "type": "scatter3d",
           "x": [
            1.0729419554635975
           ],
           "y": [
            1.0729947759726397
           ],
           "z": [
            1.0709207288295028
           ]
          },
          {
           "hovertemplate": "Type=REACHSOL<br>step_n=2<br>f_1=%{x}<br>f_2=%{y}<br>f_3=%{z}<extra></extra>",
           "legendgroup": "REACHSOL",
           "marker": {
            "color": "#FFA15A",
            "symbol": "circle"
           },
           "mode": "markers",
           "name": "REACHSOL",
           "scene": "scene",
           "showlegend": true,
           "type": "scatter3d",
           "x": [
            0.6094129331953962
           ],
           "y": [
            0.6094921639589597
           ],
           "z": [
            0.6063810932442545
           ]
          },
          {
           "hovertemplate": "Type=GID<br>step_n=2<br>f_1=%{x}<br>f_2=%{y}<br>f_3=%{z}<extra></extra>",
           "legendgroup": "GID",
           "marker": {
            "color": "#19d3f3",
            "symbol": "circle"
           },
           "mode": "markers",
           "name": "GID",
           "scene": "scene",
           "showlegend": true,
           "type": "scatter3d",
           "x": [
            1.9999999919929925
           ],
           "y": [
            1.9999999919926168
           ],
           "z": [
            1.9999999919925402
           ]
          }
         ],
         "name": "2"
        },
        {
         "data": [
          {
           "hovertemplate": "Type=DM1<br>step_n=3<br>f_1=%{x}<br>f_2=%{y}<br>f_3=%{z}<extra></extra>",
           "legendgroup": "DM1",
           "marker": {
            "color": "#636efa",
            "symbol": "circle"
           },
           "mode": "markers",
           "name": "DM1",
           "scene": "scene",
           "showlegend": true,
           "type": "scatter3d",
           "x": [
            0.8
           ],
           "y": [
            0.7
           ],
           "z": [
            0.6
           ]
          },
          {
           "hovertemplate": "Type=DM2<br>step_n=3<br>f_1=%{x}<br>f_2=%{y}<br>f_3=%{z}<extra></extra>",
           "legendgroup": "DM2",
           "marker": {
            "color": "#EF553B",
            "symbol": "circle"
           },
           "mode": "markers",
           "name": "DM2",
           "scene": "scene",
           "showlegend": true,
           "type": "scatter3d",
           "x": [
            0.7
           ],
           "y": [
            0.8
           ],
           "z": [
            0.5
           ]
          },
          {
           "hovertemplate": "Type=DM3<br>step_n=3<br>f_1=%{x}<br>f_2=%{y}<br>f_3=%{z}<extra></extra>",
           "legendgroup": "DM3",
           "marker": {
            "color": "#00cc96",
            "symbol": "circle"
           },
           "mode": "markers",
           "name": "DM3",
           "scene": "scene",
           "showlegend": true,
           "type": "scatter3d",
           "x": [
            0.5
           ],
           "y": [
            0.6
           ],
           "z": [
            0.8
           ]
          },
          {
           "hovertemplate": "Type=NAVPOINT<br>step_n=3<br>f_1=%{x}<br>f_2=%{y}<br>f_3=%{z}<extra></extra>",
           "legendgroup": "NAVPOINT",
           "marker": {
            "color": "#ab63fa",
            "symbol": "circle"
           },
           "mode": "markers",
           "name": "NAVPOINT",
           "scene": "scene",
           "showlegend": true,
           "type": "scatter3d",
           "x": [
            0.6094129331953962
           ],
           "y": [
            0.6094921639589597
           ],
           "z": [
            0.6063810932442545
           ]
          },
          {
           "hovertemplate": "Type=REACHSOL<br>step_n=3<br>f_1=%{x}<br>f_2=%{y}<br>f_3=%{z}<extra></extra>",
           "legendgroup": "REACHSOL",
           "marker": {
            "color": "#FFA15A",
            "symbol": "circle"
           },
           "mode": "markers",
           "name": "REACHSOL",
           "scene": "scene",
           "showlegend": true,
           "type": "scatter3d",
           "x": [
            0.6094129331953962
           ],
           "y": [
            0.6094921639589597
           ],
           "z": [
            0.6063810932442545
           ]
          },
          {
           "hovertemplate": "Type=GID<br>step_n=3<br>f_1=%{x}<br>f_2=%{y}<br>f_3=%{z}<extra></extra>",
           "legendgroup": "GID",
           "marker": {
            "color": "#19d3f3",
            "symbol": "circle"
           },
           "mode": "markers",
           "name": "GID",
           "scene": "scene",
           "showlegend": true,
           "type": "scatter3d",
           "x": [
            1.9999999919929925
           ],
           "y": [
            1.9999999919926168
           ],
           "z": [
            1.9999999919925402
           ]
          }
         ],
         "name": "3"
        }
       ],
       "layout": {
        "legend": {
         "title": {
          "text": "Type"
         },
         "tracegroupgap": 0
        },
        "margin": {
         "t": 60
        },
        "scene": {
         "domain": {
          "x": [
           0,
           1
          ],
          "y": [
           0,
           1
          ]
         },
         "xaxis": {
          "title": {
           "text": "f_1"
          }
         },
         "yaxis": {
          "title": {
           "text": "f_2"
          }
         },
         "zaxis": {
          "title": {
           "text": "f_3"
          }
         }
        },
        "sliders": [
         {
          "active": 0,
          "currentvalue": {
           "prefix": "step_n="
          },
          "len": 0.9,
          "pad": {
           "b": 10,
           "t": 60
          },
          "steps": [
           {
            "args": [
             [
              "1"
             ],
             {
              "frame": {
               "duration": 0,
               "redraw": true
              },
              "fromcurrent": true,
              "mode": "immediate",
              "transition": {
               "duration": 0,
               "easing": "linear"
              }
             }
            ],
            "label": "1",
            "method": "animate"
           },
           {
            "args": [
             [
              "2"
             ],
             {
              "frame": {
               "duration": 0,
               "redraw": true
              },
              "fromcurrent": true,
              "mode": "immediate",
              "transition": {
               "duration": 0,
               "easing": "linear"
              }
             }
            ],
            "label": "2",
            "method": "animate"
           },
           {
            "args": [
             [
              "3"
             ],
             {
              "frame": {
               "duration": 0,
               "redraw": true
              },
              "fromcurrent": true,
              "mode": "immediate",
              "transition": {
               "duration": 0,
               "easing": "linear"
              }
             }
            ],
            "label": "3",
            "method": "animate"
           }
          ],
          "x": 0.1,
          "xanchor": "left",
          "y": 0,
          "yanchor": "top"
         }
        ],
        "template": {
         "data": {
          "bar": [
           {
            "error_x": {
             "color": "#2a3f5f"
            },
            "error_y": {
             "color": "#2a3f5f"
            },
            "marker": {
             "line": {
              "color": "#E5ECF6",
              "width": 0.5
             },
             "pattern": {
              "fillmode": "overlay",
              "size": 10,
              "solidity": 0.2
             }
            },
            "type": "bar"
           }
          ],
          "barpolar": [
           {
            "marker": {
             "line": {
              "color": "#E5ECF6",
              "width": 0.5
             },
             "pattern": {
              "fillmode": "overlay",
              "size": 10,
              "solidity": 0.2
             }
            },
            "type": "barpolar"
           }
          ],
          "carpet": [
           {
            "aaxis": {
             "endlinecolor": "#2a3f5f",
             "gridcolor": "white",
             "linecolor": "white",
             "minorgridcolor": "white",
             "startlinecolor": "#2a3f5f"
            },
            "baxis": {
             "endlinecolor": "#2a3f5f",
             "gridcolor": "white",
             "linecolor": "white",
             "minorgridcolor": "white",
             "startlinecolor": "#2a3f5f"
            },
            "type": "carpet"
           }
          ],
          "choropleth": [
           {
            "colorbar": {
             "outlinewidth": 0,
             "ticks": ""
            },
            "type": "choropleth"
           }
          ],
          "contour": [
           {
            "colorbar": {
             "outlinewidth": 0,
             "ticks": ""
            },
            "colorscale": [
             [
              0,
              "#0d0887"
             ],
             [
              0.1111111111111111,
              "#46039f"
             ],
             [
              0.2222222222222222,
              "#7201a8"
             ],
             [
              0.3333333333333333,
              "#9c179e"
             ],
             [
              0.4444444444444444,
              "#bd3786"
             ],
             [
              0.5555555555555556,
              "#d8576b"
             ],
             [
              0.6666666666666666,
              "#ed7953"
             ],
             [
              0.7777777777777778,
              "#fb9f3a"
             ],
             [
              0.8888888888888888,
              "#fdca26"
             ],
             [
              1,
              "#f0f921"
             ]
            ],
            "type": "contour"
           }
          ],
          "contourcarpet": [
           {
            "colorbar": {
             "outlinewidth": 0,
             "ticks": ""
            },
            "type": "contourcarpet"
           }
          ],
          "heatmap": [
           {
            "colorbar": {
             "outlinewidth": 0,
             "ticks": ""
            },
            "colorscale": [
             [
              0,
              "#0d0887"
             ],
             [
              0.1111111111111111,
              "#46039f"
             ],
             [
              0.2222222222222222,
              "#7201a8"
             ],
             [
              0.3333333333333333,
              "#9c179e"
             ],
             [
              0.4444444444444444,
              "#bd3786"
             ],
             [
              0.5555555555555556,
              "#d8576b"
             ],
             [
              0.6666666666666666,
              "#ed7953"
             ],
             [
              0.7777777777777778,
              "#fb9f3a"
             ],
             [
              0.8888888888888888,
              "#fdca26"
             ],
             [
              1,
              "#f0f921"
             ]
            ],
            "type": "heatmap"
           }
          ],
          "heatmapgl": [
           {
            "colorbar": {
             "outlinewidth": 0,
             "ticks": ""
            },
            "colorscale": [
             [
              0,
              "#0d0887"
             ],
             [
              0.1111111111111111,
              "#46039f"
             ],
             [
              0.2222222222222222,
              "#7201a8"
             ],
             [
              0.3333333333333333,
              "#9c179e"
             ],
             [
              0.4444444444444444,
              "#bd3786"
             ],
             [
              0.5555555555555556,
              "#d8576b"
             ],
             [
              0.6666666666666666,
              "#ed7953"
             ],
             [
              0.7777777777777778,
              "#fb9f3a"
             ],
             [
              0.8888888888888888,
              "#fdca26"
             ],
             [
              1,
              "#f0f921"
             ]
            ],
            "type": "heatmapgl"
           }
          ],
          "histogram": [
           {
            "marker": {
             "pattern": {
              "fillmode": "overlay",
              "size": 10,
              "solidity": 0.2
             }
            },
            "type": "histogram"
           }
          ],
          "histogram2d": [
           {
            "colorbar": {
             "outlinewidth": 0,
             "ticks": ""
            },
            "colorscale": [
             [
              0,
              "#0d0887"
             ],
             [
              0.1111111111111111,
              "#46039f"
             ],
             [
              0.2222222222222222,
              "#7201a8"
             ],
             [
              0.3333333333333333,
              "#9c179e"
             ],
             [
              0.4444444444444444,
              "#bd3786"
             ],
             [
              0.5555555555555556,
              "#d8576b"
             ],
             [
              0.6666666666666666,
              "#ed7953"
             ],
             [
              0.7777777777777778,
              "#fb9f3a"
             ],
             [
              0.8888888888888888,
              "#fdca26"
             ],
             [
              1,
              "#f0f921"
             ]
            ],
            "type": "histogram2d"
           }
          ],
          "histogram2dcontour": [
           {
            "colorbar": {
             "outlinewidth": 0,
             "ticks": ""
            },
            "colorscale": [
             [
              0,
              "#0d0887"
             ],
             [
              0.1111111111111111,
              "#46039f"
             ],
             [
              0.2222222222222222,
              "#7201a8"
             ],
             [
              0.3333333333333333,
              "#9c179e"
             ],
             [
              0.4444444444444444,
              "#bd3786"
             ],
             [
              0.5555555555555556,
              "#d8576b"
             ],
             [
              0.6666666666666666,
              "#ed7953"
             ],
             [
              0.7777777777777778,
              "#fb9f3a"
             ],
             [
              0.8888888888888888,
              "#fdca26"
             ],
             [
              1,
              "#f0f921"
             ]
            ],
            "type": "histogram2dcontour"
           }
          ],
          "mesh3d": [
           {
            "colorbar": {
             "outlinewidth": 0,
             "ticks": ""
            },
            "type": "mesh3d"
           }
          ],
          "parcoords": [
           {
            "line": {
             "colorbar": {
              "outlinewidth": 0,
              "ticks": ""
             }
            },
            "type": "parcoords"
           }
          ],
          "pie": [
           {
            "automargin": true,
            "type": "pie"
           }
          ],
          "scatter": [
           {
            "fillpattern": {
             "fillmode": "overlay",
             "size": 10,
             "solidity": 0.2
            },
            "type": "scatter"
           }
          ],
          "scatter3d": [
           {
            "line": {
             "colorbar": {
              "outlinewidth": 0,
              "ticks": ""
             }
            },
            "marker": {
             "colorbar": {
              "outlinewidth": 0,
              "ticks": ""
             }
            },
            "type": "scatter3d"
           }
          ],
          "scattercarpet": [
           {
            "marker": {
             "colorbar": {
              "outlinewidth": 0,
              "ticks": ""
             }
            },
            "type": "scattercarpet"
           }
          ],
          "scattergeo": [
           {
            "marker": {
             "colorbar": {
              "outlinewidth": 0,
              "ticks": ""
             }
            },
            "type": "scattergeo"
           }
          ],
          "scattergl": [
           {
            "marker": {
             "colorbar": {
              "outlinewidth": 0,
              "ticks": ""
             }
            },
            "type": "scattergl"
           }
          ],
          "scattermapbox": [
           {
            "marker": {
             "colorbar": {
              "outlinewidth": 0,
              "ticks": ""
             }
            },
            "type": "scattermapbox"
           }
          ],
          "scatterpolar": [
           {
            "marker": {
             "colorbar": {
              "outlinewidth": 0,
              "ticks": ""
             }
            },
            "type": "scatterpolar"
           }
          ],
          "scatterpolargl": [
           {
            "marker": {
             "colorbar": {
              "outlinewidth": 0,
              "ticks": ""
             }
            },
            "type": "scatterpolargl"
           }
          ],
          "scatterternary": [
           {
            "marker": {
             "colorbar": {
              "outlinewidth": 0,
              "ticks": ""
             }
            },
            "type": "scatterternary"
           }
          ],
          "surface": [
           {
            "colorbar": {
             "outlinewidth": 0,
             "ticks": ""
            },
            "colorscale": [
             [
              0,
              "#0d0887"
             ],
             [
              0.1111111111111111,
              "#46039f"
             ],
             [
              0.2222222222222222,
              "#7201a8"
             ],
             [
              0.3333333333333333,
              "#9c179e"
             ],
             [
              0.4444444444444444,
              "#bd3786"
             ],
             [
              0.5555555555555556,
              "#d8576b"
             ],
             [
              0.6666666666666666,
              "#ed7953"
             ],
             [
              0.7777777777777778,
              "#fb9f3a"
             ],
             [
              0.8888888888888888,
              "#fdca26"
             ],
             [
              1,
              "#f0f921"
             ]
            ],
            "type": "surface"
           }
          ],
          "table": [
           {
            "cells": {
             "fill": {
              "color": "#EBF0F8"
             },
             "line": {
              "color": "white"
             }
            },
            "header": {
             "fill": {
              "color": "#C8D4E3"
             },
             "line": {
              "color": "white"
             }
            },
            "type": "table"
           }
          ]
         },
         "layout": {
          "annotationdefaults": {
           "arrowcolor": "#2a3f5f",
           "arrowhead": 0,
           "arrowwidth": 1
          },
          "autotypenumbers": "strict",
          "coloraxis": {
           "colorbar": {
            "outlinewidth": 0,
            "ticks": ""
           }
          },
          "colorscale": {
           "diverging": [
            [
             0,
             "#8e0152"
            ],
            [
             0.1,
             "#c51b7d"
            ],
            [
             0.2,
             "#de77ae"
            ],
            [
             0.3,
             "#f1b6da"
            ],
            [
             0.4,
             "#fde0ef"
            ],
            [
             0.5,
             "#f7f7f7"
            ],
            [
             0.6,
             "#e6f5d0"
            ],
            [
             0.7,
             "#b8e186"
            ],
            [
             0.8,
             "#7fbc41"
            ],
            [
             0.9,
             "#4d9221"
            ],
            [
             1,
             "#276419"
            ]
           ],
           "sequential": [
            [
             0,
             "#0d0887"
            ],
            [
             0.1111111111111111,
             "#46039f"
            ],
            [
             0.2222222222222222,
             "#7201a8"
            ],
            [
             0.3333333333333333,
             "#9c179e"
            ],
            [
             0.4444444444444444,
             "#bd3786"
            ],
            [
             0.5555555555555556,
             "#d8576b"
            ],
            [
             0.6666666666666666,
             "#ed7953"
            ],
            [
             0.7777777777777778,
             "#fb9f3a"
            ],
            [
             0.8888888888888888,
             "#fdca26"
            ],
            [
             1,
             "#f0f921"
            ]
           ],
           "sequentialminus": [
            [
             0,
             "#0d0887"
            ],
            [
             0.1111111111111111,
             "#46039f"
            ],
            [
             0.2222222222222222,
             "#7201a8"
            ],
            [
             0.3333333333333333,
             "#9c179e"
            ],
            [
             0.4444444444444444,
             "#bd3786"
            ],
            [
             0.5555555555555556,
             "#d8576b"
            ],
            [
             0.6666666666666666,
             "#ed7953"
            ],
            [
             0.7777777777777778,
             "#fb9f3a"
            ],
            [
             0.8888888888888888,
             "#fdca26"
            ],
            [
             1,
             "#f0f921"
            ]
           ]
          },
          "colorway": [
           "#636efa",
           "#EF553B",
           "#00cc96",
           "#ab63fa",
           "#FFA15A",
           "#19d3f3",
           "#FF6692",
           "#B6E880",
           "#FF97FF",
           "#FECB52"
          ],
          "font": {
           "color": "#2a3f5f"
          },
          "geo": {
           "bgcolor": "white",
           "lakecolor": "white",
           "landcolor": "#E5ECF6",
           "showlakes": true,
           "showland": true,
           "subunitcolor": "white"
          },
          "hoverlabel": {
           "align": "left"
          },
          "hovermode": "closest",
          "mapbox": {
           "style": "light"
          },
          "paper_bgcolor": "white",
          "plot_bgcolor": "#E5ECF6",
          "polar": {
           "angularaxis": {
            "gridcolor": "white",
            "linecolor": "white",
            "ticks": ""
           },
           "bgcolor": "#E5ECF6",
           "radialaxis": {
            "gridcolor": "white",
            "linecolor": "white",
            "ticks": ""
           }
          },
          "scene": {
           "xaxis": {
            "backgroundcolor": "#E5ECF6",
            "gridcolor": "white",
            "gridwidth": 2,
            "linecolor": "white",
            "showbackground": true,
            "ticks": "",
            "zerolinecolor": "white"
           },
           "yaxis": {
            "backgroundcolor": "#E5ECF6",
            "gridcolor": "white",
            "gridwidth": 2,
            "linecolor": "white",
            "showbackground": true,
            "ticks": "",
            "zerolinecolor": "white"
           },
           "zaxis": {
            "backgroundcolor": "#E5ECF6",
            "gridcolor": "white",
            "gridwidth": 2,
            "linecolor": "white",
            "showbackground": true,
            "ticks": "",
            "zerolinecolor": "white"
           }
          },
          "shapedefaults": {
           "line": {
            "color": "#2a3f5f"
           }
          },
          "ternary": {
           "aaxis": {
            "gridcolor": "white",
            "linecolor": "white",
            "ticks": ""
           },
           "baxis": {
            "gridcolor": "white",
            "linecolor": "white",
            "ticks": ""
           },
           "bgcolor": "#E5ECF6",
           "caxis": {
            "gridcolor": "white",
            "linecolor": "white",
            "ticks": ""
           }
          },
          "title": {
           "x": 0.05
          },
          "xaxis": {
           "automargin": true,
           "gridcolor": "white",
           "linecolor": "white",
           "ticks": "",
           "title": {
            "standoff": 15
           },
           "zerolinecolor": "white",
           "zerolinewidth": 2
          },
          "yaxis": {
           "automargin": true,
           "gridcolor": "white",
           "linecolor": "white",
           "ticks": "",
           "title": {
            "standoff": 15
           },
           "zerolinecolor": "white",
           "zerolinewidth": 2
          }
         }
        },
        "updatemenus": [
         {
          "buttons": [
           {
            "args": [
             null,
             {
              "frame": {
               "duration": 500,
               "redraw": true
              },
              "fromcurrent": true,
              "mode": "immediate",
              "transition": {
               "duration": 500,
               "easing": "linear"
              }
             }
            ],
            "label": "&#9654;",
            "method": "animate"
           },
           {
            "args": [
             [
              null
             ],
             {
              "frame": {
               "duration": 0,
               "redraw": true
              },
              "fromcurrent": true,
              "mode": "immediate",
              "transition": {
               "duration": 0,
               "easing": "linear"
              }
             }
            ],
            "label": "&#9724;",
            "method": "animate"
           }
          ],
          "direction": "left",
          "pad": {
           "r": 10,
           "t": 70
          },
          "showactive": false,
          "type": "buttons",
          "x": 0.1,
          "xanchor": "right",
          "y": 0,
          "yanchor": "top"
         }
        ]
       }
      }
     },
     "metadata": {},
     "output_type": "display_data"
    }
   ],
   "source": [
    "import plotly.express as ex\n",
    "\n",
    "# näin helppoa se on kun sen vaan saa oikein !!!\n",
    "fig3 = ex.scatter_3d(ttt.sort_values(\"step_n\"),\n",
    "x=\"f_1\", y=\"f_2\", z=\"f_3\",\n",
    "color=\"Type\",\n",
    "#range_x=[ideal[0] - 0.5, nadir[0] + 0.5],\n",
    "#range_y=[ideal[1] - 0.5, nadir[1] + 0.5],\n",
    "#range_z=[ideal[2] - 0.5, nadir[2] + 0.5],\n",
    "animation_frame=f\"step_n\")\n"
   ]
  },
  {
   "cell_type": "code",
   "execution_count": null,
   "metadata": {},
   "outputs": [],
   "source": []
  },
  {
   "cell_type": "code",
   "execution_count": null,
   "metadata": {},
   "outputs": [],
   "source": [
    "def visu(problem, all_resp):\n",
    "    lower_bounds = pl.DataFrame(\n",
    "        [response.reachable_bounds[\"lower_bounds\"] for response in all_resp]\n",
    "    )\n",
    "    upper_bounds = pl.DataFrame(\n",
    "        [response.reachable_bounds[\"upper_bounds\"] for response in all_resp]\n",
    "    )\n",
    "    reference_points = pl.DataFrame(\n",
    "        [response.reference_points for response in all_resp[1:]]\n",
    "    )\n",
    "    navigation_points = pl.DataFrame(\n",
    "        [response.navigation_point for response in all_resp]\n",
    "    )\n",
    "    reachable_sols = pl.DataFrame(\n",
    "        [response.reachable_solution for response in all_resp]\n",
    "    )\n",
    "    group_dirs = pl.DataFrame(\n",
    "        [all_resp[0].group_improvement_direction]\n",
    "    )\n",
    "\n",
    "    \"\"\"\n",
    "    rps = [] \n",
    "    for dm in reference_points:\n",
    "        max_multiplier = [-1 if obj.maximize else 1 for obj in problem.objectives]\n",
    "        rp = (\n",
    "            np.array([reference_points[dm][obj.symbol] for obj in problem.objectives]) * max_multiplier\n",
    "        )\n",
    "        rps.append(rp)\n",
    "    #rps\n",
    "    \"\"\"\n",
    "\n",
    "    import plotly.express as ex\n",
    "\n",
    "    #iteration_points = pd.DataFrame(\n",
    "    #    navigation_points,\n",
    "    #    columns=[\"f1\", \"f2\", \"f3\"]\n",
    "    #)\n",
    "    fig2 = ex.scatter_3d(\n",
    "        x=navigation_points[navigation_points.columns[0]],\n",
    "        y=navigation_points[navigation_points.columns[1]],\n",
    "        z=navigation_points[navigation_points.columns[2]],\n",
    "    )\n",
    "    # TODO: use brain to do this\n",
    "    # TODO: add RPs\n",
    "    # TODO: add PF?\n",
    "    # TODO: add the reachable solutions solution\n",
    "\n",
    "    #prefs = np.array(\n",
    "    #    [pref[1] for pref in rps.items()]\n",
    "    #)\n",
    "    #prefs = np.vstack((prefs, prefs[0]))\n",
    "    fig2.add_scatter3d(\n",
    "        x=[0.8, 0.7, 0.6], \n",
    "        y= [0.7, 0.8, 0.5],\n",
    "        z =[0.5, 0.6, 0.8],)\n",
    "    #prefs = [\n",
    "    #    [0.8, 0.7, 0.6],\n",
    "    #    [0.7, 0.8, 0.5],\n",
    "    #    [0.5, 0.6, 0.8],\n",
    "    #]\n",
    "\n",
    "    #fig2.add_scatter3d(\n",
    "    #    x=prefs[:, 0],\n",
    "    #    y=prefs[:, 1],\n",
    "    #    z=prefs[:, 2],\n",
    "    #)\n",
    "\n",
    "    fig2.add_scatter3d(\n",
    "        x=[group_dirs[0]],\n",
    "        y=[group_dirs[1]],\n",
    "        z=[group_dirs[2]],\n",
    "    )\n",
    "    fig2.show()\n",
    "\n"
   ]
  },
  {
   "cell_type": "code",
   "execution_count": 6,
   "metadata": {},
   "outputs": [
    {
     "name": "stdout",
     "output_type": "stream",
     "text": [
      "maxmin_cones\n",
      "`xtol` termination condition is satisfied.\n",
      "Number of iterations: 336, function evaluations: 1680, CG iterations: 0, optimality: 1.96e-01, constraint violation: 1.00e+00, execution time: 0.27 s.\n",
      "[8.00700745e-09 8.00738320e-09 8.00745991e-09]\n"
     ]
    },
    {
     "data": {
      "application/vnd.plotly.v1+json": {
       "config": {
        "plotlyServerURL": "https://plot.ly"
       },
       "data": [
        {
         "hovertemplate": "x=%{x}<br>y=%{y}<br>z=%{z}<extra></extra>",
         "legendgroup": "",
         "marker": {
          "color": "#636efa",
          "symbol": "circle"
         },
         "mode": "markers",
         "name": "",
         "scene": "scene",
         "showlegend": false,
         "type": "scatter3d",
         "x": [
          1.7218825866390794,
          1.4437651732781587,
          1.165647759917238,
          0.8875303465563171,
          0.6094129331953962
         ],
         "y": [
          1.721898432791792,
          1.443796865583584,
          1.1656952983753759,
          0.8875937311671678,
          0.6094921639589597
         ],
         "z": [
          1.721276218648851,
          1.4425524372977019,
          1.1638286559465527,
          0.8851048745954035,
          0.6063810932442545
         ]
        },
        {
         "type": "scatter3d",
         "x": [
          0.8,
          0.7,
          0.6
         ],
         "y": [
          0.7,
          0.8,
          0.5
         ],
         "z": [
          0.5,
          0.6,
          0.8
         ]
        },
        {
         "type": "scatter3d",
         "x": [
          [
           [
            1.9999999919929925,
            1.9999999919926168,
            1.9999999919925402
           ]
          ]
         ],
         "y": [
          []
         ],
         "z": [
          []
         ]
        }
       ],
       "layout": {
        "legend": {
         "tracegroupgap": 0
        },
        "margin": {
         "t": 60
        },
        "scene": {
         "domain": {
          "x": [
           0,
           1
          ],
          "y": [
           0,
           1
          ]
         },
         "xaxis": {
          "title": {
           "text": "x"
          }
         },
         "yaxis": {
          "title": {
           "text": "y"
          }
         },
         "zaxis": {
          "title": {
           "text": "z"
          }
         }
        },
        "template": {
         "data": {
          "bar": [
           {
            "error_x": {
             "color": "#2a3f5f"
            },
            "error_y": {
             "color": "#2a3f5f"
            },
            "marker": {
             "line": {
              "color": "#E5ECF6",
              "width": 0.5
             },
             "pattern": {
              "fillmode": "overlay",
              "size": 10,
              "solidity": 0.2
             }
            },
            "type": "bar"
           }
          ],
          "barpolar": [
           {
            "marker": {
             "line": {
              "color": "#E5ECF6",
              "width": 0.5
             },
             "pattern": {
              "fillmode": "overlay",
              "size": 10,
              "solidity": 0.2
             }
            },
            "type": "barpolar"
           }
          ],
          "carpet": [
           {
            "aaxis": {
             "endlinecolor": "#2a3f5f",
             "gridcolor": "white",
             "linecolor": "white",
             "minorgridcolor": "white",
             "startlinecolor": "#2a3f5f"
            },
            "baxis": {
             "endlinecolor": "#2a3f5f",
             "gridcolor": "white",
             "linecolor": "white",
             "minorgridcolor": "white",
             "startlinecolor": "#2a3f5f"
            },
            "type": "carpet"
           }
          ],
          "choropleth": [
           {
            "colorbar": {
             "outlinewidth": 0,
             "ticks": ""
            },
            "type": "choropleth"
           }
          ],
          "contour": [
           {
            "colorbar": {
             "outlinewidth": 0,
             "ticks": ""
            },
            "colorscale": [
             [
              0,
              "#0d0887"
             ],
             [
              0.1111111111111111,
              "#46039f"
             ],
             [
              0.2222222222222222,
              "#7201a8"
             ],
             [
              0.3333333333333333,
              "#9c179e"
             ],
             [
              0.4444444444444444,
              "#bd3786"
             ],
             [
              0.5555555555555556,
              "#d8576b"
             ],
             [
              0.6666666666666666,
              "#ed7953"
             ],
             [
              0.7777777777777778,
              "#fb9f3a"
             ],
             [
              0.8888888888888888,
              "#fdca26"
             ],
             [
              1,
              "#f0f921"
             ]
            ],
            "type": "contour"
           }
          ],
          "contourcarpet": [
           {
            "colorbar": {
             "outlinewidth": 0,
             "ticks": ""
            },
            "type": "contourcarpet"
           }
          ],
          "heatmap": [
           {
            "colorbar": {
             "outlinewidth": 0,
             "ticks": ""
            },
            "colorscale": [
             [
              0,
              "#0d0887"
             ],
             [
              0.1111111111111111,
              "#46039f"
             ],
             [
              0.2222222222222222,
              "#7201a8"
             ],
             [
              0.3333333333333333,
              "#9c179e"
             ],
             [
              0.4444444444444444,
              "#bd3786"
             ],
             [
              0.5555555555555556,
              "#d8576b"
             ],
             [
              0.6666666666666666,
              "#ed7953"
             ],
             [
              0.7777777777777778,
              "#fb9f3a"
             ],
             [
              0.8888888888888888,
              "#fdca26"
             ],
             [
              1,
              "#f0f921"
             ]
            ],
            "type": "heatmap"
           }
          ],
          "heatmapgl": [
           {
            "colorbar": {
             "outlinewidth": 0,
             "ticks": ""
            },
            "colorscale": [
             [
              0,
              "#0d0887"
             ],
             [
              0.1111111111111111,
              "#46039f"
             ],
             [
              0.2222222222222222,
              "#7201a8"
             ],
             [
              0.3333333333333333,
              "#9c179e"
             ],
             [
              0.4444444444444444,
              "#bd3786"
             ],
             [
              0.5555555555555556,
              "#d8576b"
             ],
             [
              0.6666666666666666,
              "#ed7953"
             ],
             [
              0.7777777777777778,
              "#fb9f3a"
             ],
             [
              0.8888888888888888,
              "#fdca26"
             ],
             [
              1,
              "#f0f921"
             ]
            ],
            "type": "heatmapgl"
           }
          ],
          "histogram": [
           {
            "marker": {
             "pattern": {
              "fillmode": "overlay",
              "size": 10,
              "solidity": 0.2
             }
            },
            "type": "histogram"
           }
          ],
          "histogram2d": [
           {
            "colorbar": {
             "outlinewidth": 0,
             "ticks": ""
            },
            "colorscale": [
             [
              0,
              "#0d0887"
             ],
             [
              0.1111111111111111,
              "#46039f"
             ],
             [
              0.2222222222222222,
              "#7201a8"
             ],
             [
              0.3333333333333333,
              "#9c179e"
             ],
             [
              0.4444444444444444,
              "#bd3786"
             ],
             [
              0.5555555555555556,
              "#d8576b"
             ],
             [
              0.6666666666666666,
              "#ed7953"
             ],
             [
              0.7777777777777778,
              "#fb9f3a"
             ],
             [
              0.8888888888888888,
              "#fdca26"
             ],
             [
              1,
              "#f0f921"
             ]
            ],
            "type": "histogram2d"
           }
          ],
          "histogram2dcontour": [
           {
            "colorbar": {
             "outlinewidth": 0,
             "ticks": ""
            },
            "colorscale": [
             [
              0,
              "#0d0887"
             ],
             [
              0.1111111111111111,
              "#46039f"
             ],
             [
              0.2222222222222222,
              "#7201a8"
             ],
             [
              0.3333333333333333,
              "#9c179e"
             ],
             [
              0.4444444444444444,
              "#bd3786"
             ],
             [
              0.5555555555555556,
              "#d8576b"
             ],
             [
              0.6666666666666666,
              "#ed7953"
             ],
             [
              0.7777777777777778,
              "#fb9f3a"
             ],
             [
              0.8888888888888888,
              "#fdca26"
             ],
             [
              1,
              "#f0f921"
             ]
            ],
            "type": "histogram2dcontour"
           }
          ],
          "mesh3d": [
           {
            "colorbar": {
             "outlinewidth": 0,
             "ticks": ""
            },
            "type": "mesh3d"
           }
          ],
          "parcoords": [
           {
            "line": {
             "colorbar": {
              "outlinewidth": 0,
              "ticks": ""
             }
            },
            "type": "parcoords"
           }
          ],
          "pie": [
           {
            "automargin": true,
            "type": "pie"
           }
          ],
          "scatter": [
           {
            "fillpattern": {
             "fillmode": "overlay",
             "size": 10,
             "solidity": 0.2
            },
            "type": "scatter"
           }
          ],
          "scatter3d": [
           {
            "line": {
             "colorbar": {
              "outlinewidth": 0,
              "ticks": ""
             }
            },
            "marker": {
             "colorbar": {
              "outlinewidth": 0,
              "ticks": ""
             }
            },
            "type": "scatter3d"
           }
          ],
          "scattercarpet": [
           {
            "marker": {
             "colorbar": {
              "outlinewidth": 0,
              "ticks": ""
             }
            },
            "type": "scattercarpet"
           }
          ],
          "scattergeo": [
           {
            "marker": {
             "colorbar": {
              "outlinewidth": 0,
              "ticks": ""
             }
            },
            "type": "scattergeo"
           }
          ],
          "scattergl": [
           {
            "marker": {
             "colorbar": {
              "outlinewidth": 0,
              "ticks": ""
             }
            },
            "type": "scattergl"
           }
          ],
          "scattermapbox": [
           {
            "marker": {
             "colorbar": {
              "outlinewidth": 0,
              "ticks": ""
             }
            },
            "type": "scattermapbox"
           }
          ],
          "scatterpolar": [
           {
            "marker": {
             "colorbar": {
              "outlinewidth": 0,
              "ticks": ""
             }
            },
            "type": "scatterpolar"
           }
          ],
          "scatterpolargl": [
           {
            "marker": {
             "colorbar": {
              "outlinewidth": 0,
              "ticks": ""
             }
            },
            "type": "scatterpolargl"
           }
          ],
          "scatterternary": [
           {
            "marker": {
             "colorbar": {
              "outlinewidth": 0,
              "ticks": ""
             }
            },
            "type": "scatterternary"
           }
          ],
          "surface": [
           {
            "colorbar": {
             "outlinewidth": 0,
             "ticks": ""
            },
            "colorscale": [
             [
              0,
              "#0d0887"
             ],
             [
              0.1111111111111111,
              "#46039f"
             ],
             [
              0.2222222222222222,
              "#7201a8"
             ],
             [
              0.3333333333333333,
              "#9c179e"
             ],
             [
              0.4444444444444444,
              "#bd3786"
             ],
             [
              0.5555555555555556,
              "#d8576b"
             ],
             [
              0.6666666666666666,
              "#ed7953"
             ],
             [
              0.7777777777777778,
              "#fb9f3a"
             ],
             [
              0.8888888888888888,
              "#fdca26"
             ],
             [
              1,
              "#f0f921"
             ]
            ],
            "type": "surface"
           }
          ],
          "table": [
           {
            "cells": {
             "fill": {
              "color": "#EBF0F8"
             },
             "line": {
              "color": "white"
             }
            },
            "header": {
             "fill": {
              "color": "#C8D4E3"
             },
             "line": {
              "color": "white"
             }
            },
            "type": "table"
           }
          ]
         },
         "layout": {
          "annotationdefaults": {
           "arrowcolor": "#2a3f5f",
           "arrowhead": 0,
           "arrowwidth": 1
          },
          "autotypenumbers": "strict",
          "coloraxis": {
           "colorbar": {
            "outlinewidth": 0,
            "ticks": ""
           }
          },
          "colorscale": {
           "diverging": [
            [
             0,
             "#8e0152"
            ],
            [
             0.1,
             "#c51b7d"
            ],
            [
             0.2,
             "#de77ae"
            ],
            [
             0.3,
             "#f1b6da"
            ],
            [
             0.4,
             "#fde0ef"
            ],
            [
             0.5,
             "#f7f7f7"
            ],
            [
             0.6,
             "#e6f5d0"
            ],
            [
             0.7,
             "#b8e186"
            ],
            [
             0.8,
             "#7fbc41"
            ],
            [
             0.9,
             "#4d9221"
            ],
            [
             1,
             "#276419"
            ]
           ],
           "sequential": [
            [
             0,
             "#0d0887"
            ],
            [
             0.1111111111111111,
             "#46039f"
            ],
            [
             0.2222222222222222,
             "#7201a8"
            ],
            [
             0.3333333333333333,
             "#9c179e"
            ],
            [
             0.4444444444444444,
             "#bd3786"
            ],
            [
             0.5555555555555556,
             "#d8576b"
            ],
            [
             0.6666666666666666,
             "#ed7953"
            ],
            [
             0.7777777777777778,
             "#fb9f3a"
            ],
            [
             0.8888888888888888,
             "#fdca26"
            ],
            [
             1,
             "#f0f921"
            ]
           ],
           "sequentialminus": [
            [
             0,
             "#0d0887"
            ],
            [
             0.1111111111111111,
             "#46039f"
            ],
            [
             0.2222222222222222,
             "#7201a8"
            ],
            [
             0.3333333333333333,
             "#9c179e"
            ],
            [
             0.4444444444444444,
             "#bd3786"
            ],
            [
             0.5555555555555556,
             "#d8576b"
            ],
            [
             0.6666666666666666,
             "#ed7953"
            ],
            [
             0.7777777777777778,
             "#fb9f3a"
            ],
            [
             0.8888888888888888,
             "#fdca26"
            ],
            [
             1,
             "#f0f921"
            ]
           ]
          },
          "colorway": [
           "#636efa",
           "#EF553B",
           "#00cc96",
           "#ab63fa",
           "#FFA15A",
           "#19d3f3",
           "#FF6692",
           "#B6E880",
           "#FF97FF",
           "#FECB52"
          ],
          "font": {
           "color": "#2a3f5f"
          },
          "geo": {
           "bgcolor": "white",
           "lakecolor": "white",
           "landcolor": "#E5ECF6",
           "showlakes": true,
           "showland": true,
           "subunitcolor": "white"
          },
          "hoverlabel": {
           "align": "left"
          },
          "hovermode": "closest",
          "mapbox": {
           "style": "light"
          },
          "paper_bgcolor": "white",
          "plot_bgcolor": "#E5ECF6",
          "polar": {
           "angularaxis": {
            "gridcolor": "white",
            "linecolor": "white",
            "ticks": ""
           },
           "bgcolor": "#E5ECF6",
           "radialaxis": {
            "gridcolor": "white",
            "linecolor": "white",
            "ticks": ""
           }
          },
          "scene": {
           "xaxis": {
            "backgroundcolor": "#E5ECF6",
            "gridcolor": "white",
            "gridwidth": 2,
            "linecolor": "white",
            "showbackground": true,
            "ticks": "",
            "zerolinecolor": "white"
           },
           "yaxis": {
            "backgroundcolor": "#E5ECF6",
            "gridcolor": "white",
            "gridwidth": 2,
            "linecolor": "white",
            "showbackground": true,
            "ticks": "",
            "zerolinecolor": "white"
           },
           "zaxis": {
            "backgroundcolor": "#E5ECF6",
            "gridcolor": "white",
            "gridwidth": 2,
            "linecolor": "white",
            "showbackground": true,
            "ticks": "",
            "zerolinecolor": "white"
           }
          },
          "shapedefaults": {
           "line": {
            "color": "#2a3f5f"
           }
          },
          "ternary": {
           "aaxis": {
            "gridcolor": "white",
            "linecolor": "white",
            "ticks": ""
           },
           "baxis": {
            "gridcolor": "white",
            "linecolor": "white",
            "ticks": ""
           },
           "bgcolor": "#E5ECF6",
           "caxis": {
            "gridcolor": "white",
            "linecolor": "white",
            "ticks": ""
           }
          },
          "title": {
           "x": 0.05
          },
          "xaxis": {
           "automargin": true,
           "gridcolor": "white",
           "linecolor": "white",
           "ticks": "",
           "title": {
            "standoff": 15
           },
           "zerolinecolor": "white",
           "zerolinewidth": 2
          },
          "yaxis": {
           "automargin": true,
           "gridcolor": "white",
           "linecolor": "white",
           "ticks": "",
           "title": {
            "standoff": 15
           },
           "zerolinecolor": "white",
           "zerolinewidth": 2
          }
         }
        }
       }
      }
     },
     "metadata": {},
     "output_type": "display_data"
    }
   ],
   "source": [
    "#test_dtzl2(\"mean\")\n",
    "#test_dtzl2(\"maxmin\")\n",
    "#test_dtzl2(\"maxmin_cones\")\n",
    "problem = dtlz2(10,3)\n",
    "all_resp = solve_prob(problem, \"maxmin\")\n",
    "visu(problem, all_resp)"
   ]
  },
  {
   "cell_type": "code",
   "execution_count": 4,
   "metadata": {},
   "outputs": [
    {
     "data": {
      "text/plain": [
       "3"
      ]
     },
     "execution_count": 4,
     "metadata": {},
     "output_type": "execute_result"
    }
   ],
   "source": [
    "ideal = get_ideal_dict(problem)\n",
    "len(ideal)"
   ]
  },
  {
   "cell_type": "code",
   "execution_count": null,
   "metadata": {},
   "outputs": [],
   "source": []
  },
  {
   "cell_type": "code",
   "execution_count": null,
   "metadata": {},
   "outputs": [],
   "source": []
  }
 ],
 "metadata": {
  "kernelspec": {
   "display_name": ".venv",
   "language": "python",
   "name": "python3"
  },
  "language_info": {
   "codemirror_mode": {
    "name": "ipython",
    "version": 3
   },
   "file_extension": ".py",
   "mimetype": "text/x-python",
   "name": "python",
   "nbconvert_exporter": "python",
   "pygments_lexer": "ipython3",
   "version": "3.12.3"
  }
 },
 "nbformat": 4,
 "nbformat_minor": 2
}
