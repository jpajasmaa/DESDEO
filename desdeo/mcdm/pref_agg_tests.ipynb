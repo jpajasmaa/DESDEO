{
 "cells": [
  {
   "cell_type": "code",
<<<<<<< HEAD
   "execution_count": 15,
=======
   "execution_count": 1,
>>>>>>> 89f545f (work on getting some visualizations out)
   "metadata": {},
   "outputs": [],
   "source": [
    "import numpy as np\n",
    "import numpy.testing as npt\n",
    "#from fixtures import dtlz2_5x_3f_data_based  # noqa: F401\n",
    "\n",
    "import polars as pl\n",
    "\n",
    "import pandas as pd\n",
    "\n",
    "from pydantic import BaseModel, Field\n",
    "\n",
    "from desdeo.mcdm.nautiliv2 import (\n",
    "    calculate_distance_to_front,\n",
    "    calculate_navigation_point,\n",
    "    solve_reachable_bounds,\n",
    "    solve_reachable_solution,\n",
    "    agg_maxmin, \n",
    "    agg_maxmin_cones,\n",
    "    nautili_all_steps,\n",
    "    NAUTILI_Response, \n",
    "    aggregate,\n",
    "    nautili_all_steps,\n",
    "    nautili_init\n",
    ")\n",
    "\n",
    "from desdeo.problem import (\n",
    "    binh_and_korn,\n",
    "    objective_dict_to_numpy_array,\n",
    "    river_pollution_problem,\n",
    "    get_nadir_dict,\n",
    "    get_ideal_dict,\n",
    "    dtlz2,\n",
<<<<<<< HEAD
    "    #momip_ti7,\n",
    "    #variable_dict_to_numpy_array, #does not exist yet in this version\n",
    "    objective_dict_to_numpy_array\n",
    ")\n",
    "\n",
    "from desdeo.problem.schema import (\n",
    "    Constant,\n",
    "    Constraint,\n",
    "    ConstraintTypeEnum,\n",
    "    DiscreteRepresentation,\n",
    "    ExtraFunction,\n",
    "    Objective,\n",
    "    ObjectiveTypeEnum,\n",
    "    Problem,\n",
    "    Variable,\n",
    "    VariableTypeEnum,\n",
    ")"
=======
    "    #variable_dict_to_numpy_array, #does not exist yet in this version\n",
    "    objective_dict_to_numpy_array\n",
    ")\n"
>>>>>>> 89f545f (work on getting some visualizations out)
   ]
  },
  {
   "cell_type": "code",
<<<<<<< HEAD
   "execution_count": 16,
=======
   "execution_count": 2,
>>>>>>> 89f545f (work on getting some visualizations out)
   "metadata": {},
   "outputs": [],
   "source": [
    "class test_Response(BaseModel):\n",
    "    \"\"\"The response of the NAUTILI method.\"\"\"\n",
    "    step_number: int = Field(description=\"The step number associted with this response.\")\n",
    "    reference_points: dict | None = Field(description=\"The reference point used in the step.\") # one point per iteration per DM * n of objs\n",
    "    navigation_point: dict = Field(description=\"The navigation point used in the step.\") # one point per iteration * n of objs\n",
    "    group_improvement_direction: dict | None = Field(description=\"The group improvement direction.\") # can be sometimes none\n",
    "    #pref_agg_method: str | None = Field(description=\"The preference aggregation method used.\")\n",
    "\n"
   ]
  },
  {
   "cell_type": "code",
   "execution_count": 3,
   "metadata": {},
   "outputs": [
    {
     "data": {
      "text/plain": [
       "test_Response(step_number=1, reference_points={'d1': {'f_1': 1, 'f_2': 2, 'f_3': 2}, 'd2': {'f_1': 2, 'f_2': 4}}, navigation_point={'f_1': 0, 'f_2': 0, 'f_3': 0}, group_improvement_direction={'f_1': 3, 'f_2': 6, 'f_3': 2})"
      ]
     },
     "execution_count": 3,
     "metadata": {},
     "output_type": "execute_result"
    }
   ],
   "source": [
    "rps = {\n",
    "    \"d1\": {\"f_1\": 1, \"f_2\": 2, \"f_3\": 2},\n",
    "    \"d2\": {\"f_1\": 2, \"f_2\": 4}\n",
    "}\n",
    "navs = {\"f_1\": 0, \"f_2\": 0,\"f_3\": 0}\n",
    "gid = {\"f_1\": 3, \"f_2\": 6, \"f_3\": 2}\n",
    "\n",
    "tr = test_Response(step_number=1, reference_points=rps, navigation_point=navs, group_improvement_direction=gid)\n",
    "tr"
   ]
  },
  {
   "cell_type": "code",
   "execution_count": 4,
   "metadata": {},
   "outputs": [
    {
     "data": {
      "text/html": [
       "<div>\n",
       "<style scoped>\n",
       "    .dataframe tbody tr th:only-of-type {\n",
       "        vertical-align: middle;\n",
       "    }\n",
       "\n",
       "    .dataframe tbody tr th {\n",
       "        vertical-align: top;\n",
       "    }\n",
       "\n",
       "    .dataframe thead th {\n",
       "        text-align: right;\n",
       "    }\n",
       "</style>\n",
       "<table border=\"1\" class=\"dataframe\">\n",
       "  <thead>\n",
       "    <tr style=\"text-align: right;\">\n",
       "      <th></th>\n",
       "      <th>0</th>\n",
       "      <th>1</th>\n",
       "    </tr>\n",
       "  </thead>\n",
       "  <tbody>\n",
       "    <tr>\n",
       "      <th>0</th>\n",
       "      <td>step_number</td>\n",
       "      <td>1</td>\n",
       "    </tr>\n",
       "    <tr>\n",
       "      <th>1</th>\n",
       "      <td>reference_points</td>\n",
       "      <td>{'d1': {'f_1': 1, 'f_2': 2, 'f_3': 2}, 'd2': {...</td>\n",
       "    </tr>\n",
       "    <tr>\n",
       "      <th>2</th>\n",
       "      <td>navigation_point</td>\n",
       "      <td>{'f_1': 0, 'f_2': 0, 'f_3': 0}</td>\n",
       "    </tr>\n",
       "    <tr>\n",
       "      <th>3</th>\n",
       "      <td>group_improvement_direction</td>\n",
       "      <td>{'f_1': 3, 'f_2': 6, 'f_3': 2}</td>\n",
       "    </tr>\n",
       "  </tbody>\n",
       "</table>\n",
       "</div>"
      ],
      "text/plain": [
       "                             0  \\\n",
       "0                  step_number   \n",
       "1             reference_points   \n",
       "2             navigation_point   \n",
       "3  group_improvement_direction   \n",
       "\n",
       "                                                   1  \n",
       "0                                                  1  \n",
       "1  {'d1': {'f_1': 1, 'f_2': 2, 'f_3': 2}, 'd2': {...  \n",
       "2                     {'f_1': 0, 'f_2': 0, 'f_3': 0}  \n",
       "3                     {'f_1': 3, 'f_2': 6, 'f_3': 2}  "
      ]
     },
     "execution_count": 4,
     "metadata": {},
     "output_type": "execute_result"
    }
   ],
   "source": [
    "tpd = pd.DataFrame(tr)\n",
    "tpd"
   ]
  },
  {
   "cell_type": "code",
   "execution_count": 5,
   "metadata": {},
   "outputs": [],
   "source": [
    "reference_points = pd.DataFrame(\n",
    "    [response.reference_points for response in [tr]]\n",
    ")\n",
    "navigation_points = pd.DataFrame(\n",
    "    [response.navigation_point for response in [tr]]\n",
    ")\n",
    "\n",
    "group_dirs = pd.DataFrame(\n",
    "    [response.group_improvement_direction for response in [tr][:1]]\n",
    ")"
   ]
  },
  {
   "cell_type": "code",
   "execution_count": 6,
   "metadata": {},
   "outputs": [
    {
     "data": {
      "text/html": [
       "<div>\n",
       "<style scoped>\n",
       "    .dataframe tbody tr th:only-of-type {\n",
       "        vertical-align: middle;\n",
       "    }\n",
       "\n",
       "    .dataframe tbody tr th {\n",
       "        vertical-align: top;\n",
       "    }\n",
       "\n",
       "    .dataframe thead th {\n",
       "        text-align: right;\n",
       "    }\n",
       "</style>\n",
       "<table border=\"1\" class=\"dataframe\">\n",
       "  <thead>\n",
       "    <tr style=\"text-align: right;\">\n",
       "      <th></th>\n",
       "      <th>f_1</th>\n",
       "      <th>f_2</th>\n",
       "      <th>f_3</th>\n",
       "    </tr>\n",
       "  </thead>\n",
       "  <tbody>\n",
       "    <tr>\n",
       "      <th>0</th>\n",
       "      <td>3</td>\n",
       "      <td>6</td>\n",
       "      <td>2</td>\n",
       "    </tr>\n",
       "  </tbody>\n",
       "</table>\n",
       "</div>"
      ],
      "text/plain": [
       "   f_1  f_2  f_3\n",
       "0    3    6    2"
      ]
     },
     "execution_count": 6,
     "metadata": {},
     "output_type": "execute_result"
    }
   ],
   "source": [
    "group_dirs"
   ]
  },
  {
   "cell_type": "code",
   "execution_count": 7,
   "metadata": {},
   "outputs": [
    {
     "data": {
      "text/html": [
       "<div>\n",
       "<style scoped>\n",
       "    .dataframe tbody tr th:only-of-type {\n",
       "        vertical-align: middle;\n",
       "    }\n",
       "\n",
       "    .dataframe tbody tr th {\n",
       "        vertical-align: top;\n",
       "    }\n",
       "\n",
       "    .dataframe thead th {\n",
       "        text-align: right;\n",
       "    }\n",
       "</style>\n",
       "<table border=\"1\" class=\"dataframe\">\n",
       "  <thead>\n",
       "    <tr style=\"text-align: right;\">\n",
       "      <th></th>\n",
       "      <th>f_1</th>\n",
       "      <th>f_2</th>\n",
       "      <th>f_3</th>\n",
       "    </tr>\n",
       "  </thead>\n",
       "  <tbody>\n",
       "    <tr>\n",
       "      <th>0</th>\n",
       "      <td>0</td>\n",
       "      <td>0</td>\n",
       "      <td>0</td>\n",
       "    </tr>\n",
       "  </tbody>\n",
       "</table>\n",
       "</div>"
      ],
      "text/plain": [
       "   f_1  f_2  f_3\n",
       "0    0    0    0"
      ]
     },
     "execution_count": 7,
     "metadata": {},
     "output_type": "execute_result"
    }
   ],
   "source": [
    "navigation_points"
   ]
  },
  {
   "cell_type": "code",
   "execution_count": 8,
   "metadata": {},
   "outputs": [
    {
     "data": {
      "text/html": [
       "<div>\n",
       "<style scoped>\n",
       "    .dataframe tbody tr th:only-of-type {\n",
       "        vertical-align: middle;\n",
       "    }\n",
       "\n",
       "    .dataframe tbody tr th {\n",
       "        vertical-align: top;\n",
       "    }\n",
       "\n",
       "    .dataframe thead th {\n",
       "        text-align: right;\n",
       "    }\n",
       "</style>\n",
       "<table border=\"1\" class=\"dataframe\">\n",
       "  <thead>\n",
       "    <tr style=\"text-align: right;\">\n",
       "      <th></th>\n",
       "      <th>d1</th>\n",
       "      <th>d2</th>\n",
       "    </tr>\n",
       "  </thead>\n",
       "  <tbody>\n",
       "    <tr>\n",
       "      <th>0</th>\n",
       "      <td>{'f_1': 1, 'f_2': 2, 'f_3': 2}</td>\n",
       "      <td>{'f_1': 2, 'f_2': 4}</td>\n",
       "    </tr>\n",
       "  </tbody>\n",
       "</table>\n",
       "</div>"
      ],
      "text/plain": [
       "                               d1                    d2\n",
       "0  {'f_1': 1, 'f_2': 2, 'f_3': 2}  {'f_1': 2, 'f_2': 4}"
      ]
     },
     "execution_count": 8,
     "metadata": {},
     "output_type": "execute_result"
    }
   ],
   "source": [
    "reference_points"
   ]
  },
  {
   "cell_type": "code",
   "execution_count": 9,
   "metadata": {},
   "outputs": [
    {
     "data": {
      "text/html": [
       "<div>\n",
       "<style scoped>\n",
       "    .dataframe tbody tr th:only-of-type {\n",
       "        vertical-align: middle;\n",
       "    }\n",
       "\n",
       "    .dataframe tbody tr th {\n",
       "        vertical-align: top;\n",
       "    }\n",
       "\n",
       "    .dataframe thead th {\n",
       "        text-align: right;\n",
       "    }\n",
       "</style>\n",
       "<table border=\"1\" class=\"dataframe\">\n",
       "  <thead>\n",
       "    <tr style=\"text-align: right;\">\n",
       "      <th></th>\n",
       "      <th>step_number</th>\n",
       "    </tr>\n",
       "  </thead>\n",
       "  <tbody>\n",
       "    <tr>\n",
       "      <th>0</th>\n",
       "      <td>1</td>\n",
       "    </tr>\n",
       "    <tr>\n",
       "      <th>1</th>\n",
       "      <td>2</td>\n",
       "    </tr>\n",
       "  </tbody>\n",
       "</table>\n",
       "</div>"
      ],
      "text/plain": [
       "   step_number\n",
       "0            1\n",
       "1            2"
      ]
     },
     "execution_count": 9,
     "metadata": {},
     "output_type": "execute_result"
    }
   ],
   "source": [
    "tt = {\"step_number\": [1,2]}\n",
    "tt = pd.DataFrame(tt)\n",
    "tt"
   ]
  },
  {
   "cell_type": "code",
   "execution_count": 10,
   "metadata": {},
   "outputs": [
    {
     "data": {
      "text/html": [
       "<div>\n",
       "<style scoped>\n",
       "    .dataframe tbody tr th:only-of-type {\n",
       "        vertical-align: middle;\n",
       "    }\n",
       "\n",
       "    .dataframe tbody tr th {\n",
       "        vertical-align: top;\n",
       "    }\n",
       "\n",
       "    .dataframe thead th {\n",
       "        text-align: right;\n",
       "    }\n",
       "</style>\n",
       "<table border=\"1\" class=\"dataframe\">\n",
       "  <thead>\n",
       "    <tr style=\"text-align: right;\">\n",
       "      <th></th>\n",
       "      <th></th>\n",
       "      <th>step_number</th>\n",
       "      <th>f_1</th>\n",
       "      <th>f_2</th>\n",
       "      <th>f_3</th>\n",
       "    </tr>\n",
       "  </thead>\n",
       "  <tbody>\n",
       "    <tr>\n",
       "      <th rowspan=\"2\" valign=\"top\">tt</th>\n",
       "      <th>0</th>\n",
       "      <td>1.0</td>\n",
       "      <td>NaN</td>\n",
       "      <td>NaN</td>\n",
       "      <td>NaN</td>\n",
       "    </tr>\n",
       "    <tr>\n",
       "      <th>1</th>\n",
       "      <td>2.0</td>\n",
       "      <td>NaN</td>\n",
       "      <td>NaN</td>\n",
       "      <td>NaN</td>\n",
       "    </tr>\n",
       "    <tr>\n",
       "      <th>dir</th>\n",
       "      <th>0</th>\n",
       "      <td>NaN</td>\n",
       "      <td>3.0</td>\n",
       "      <td>6.0</td>\n",
       "      <td>2.0</td>\n",
       "    </tr>\n",
       "    <tr>\n",
       "      <th>nav</th>\n",
       "      <th>0</th>\n",
       "      <td>NaN</td>\n",
       "      <td>0.0</td>\n",
       "      <td>0.0</td>\n",
       "      <td>0.0</td>\n",
       "    </tr>\n",
       "  </tbody>\n",
       "</table>\n",
       "</div>"
      ],
      "text/plain": [
       "       step_number  f_1  f_2  f_3\n",
       "tt  0          1.0  NaN  NaN  NaN\n",
       "    1          2.0  NaN  NaN  NaN\n",
       "dir 0          NaN  3.0  6.0  2.0\n",
       "nav 0          NaN  0.0  0.0  0.0"
      ]
     },
     "execution_count": 10,
     "metadata": {},
     "output_type": "execute_result"
    }
   ],
   "source": [
    "new_df = pd.DataFrame()\n",
    "frames = [tt, group_dirs, navigation_points]\n",
    "#new_df=pd.concat([new_df, tt, group_dirs, navigation_points], axis=0, join=\"inner\")\n",
    "new_df = pd.concat(frames, keys=[\"tt\", \"dir\", \"nav\"])\n",
    "#new_df=pd.concat([new_df, group_dirs])\n",
    "#new_df[\"nav\"] = [navigation_points, \n",
    "#new_df=pd.concat([new_df, navigation_points])\n",
    "#new_df=pd.concat([new_df, reference_points])\n",
    "new_df"
   ]
  },
  {
   "cell_type": "code",
   "execution_count": 11,
   "metadata": {},
   "outputs": [
    {
     "ename": "NameError",
     "evalue": "name 'gens_iter' is not defined",
     "output_type": "error",
     "traceback": [
      "\u001b[0;31m---------------------------------------------------------------------------\u001b[0m",
      "\u001b[0;31mNameError\u001b[0m                                 Traceback (most recent call last)",
      "\u001b[1;32m/home/jp/tyot/mop/desdeo/DESDEO/desdeo/mcdm/pref_agg_tests.ipynb Cell 11\u001b[0m line \u001b[0;36m1\n\u001b[0;32m----> <a href='vscode-notebook-cell:/home/jp/tyot/mop/desdeo/DESDEO/desdeo/mcdm/pref_agg_tests.ipynb#X10sZmlsZQ%3D%3D?line=0'>1</a>\u001b[0m \u001b[39mfor\u001b[39;00m i \u001b[39min\u001b[39;00m \u001b[39mrange\u001b[39m(\u001b[39m0\u001b[39m, gens_iter \u001b[39m*\u001b[39m \u001b[39mlen\u001b[39m(preferences)):\n\u001b[1;32m      <a href='vscode-notebook-cell:/home/jp/tyot/mop/desdeo/DESDEO/desdeo/mcdm/pref_agg_tests.ipynb#X10sZmlsZQ%3D%3D?line=1'>2</a>\u001b[0m     mask \u001b[39m=\u001b[39m pref_data[\u001b[39m\"\u001b[39m\u001b[39mn_gen\u001b[39m\u001b[39m\"\u001b[39m] \u001b[39m==\u001b[39m i\n\u001b[1;32m      <a href='vscode-notebook-cell:/home/jp/tyot/mop/desdeo/DESDEO/desdeo/mcdm/pref_agg_tests.ipynb#X10sZmlsZQ%3D%3D?line=2'>3</a>\u001b[0m     index \u001b[39m=\u001b[39m np\u001b[39m.\u001b[39mfloor(i \u001b[39m/\u001b[39m gens_iter)\u001b[39m.\u001b[39mastype(\u001b[39mint\u001b[39m)\n",
      "\u001b[0;31mNameError\u001b[0m: name 'gens_iter' is not defined"
     ]
    }
   ],
   "source": [
    "\n",
    "for i in range(0, gens_iter * len(preferences)):\n",
    "    mask = pref_data[\"n_gen\"] == i\n",
    "    index = np.floor(i / gens_iter).astype(int)\n",
    "    pref_data[\"f0\"].iloc[mask] = preferences[index][0]\n",
    "    pref_data[\"f1\"].iloc[mask] = preferences[index][1]\n",
    "    pref_data[\"f2\"].iloc[mask] = preferences[index][2]\n",
    "    pref_data[\"method\"].iloc[mask] = f\"Preference\""
   ]
  },
  {
   "cell_type": "code",
<<<<<<< HEAD
   "execution_count": 40,
=======
   "execution_count": null,
>>>>>>> 89f545f (work on getting some visualizations out)
   "metadata": {},
   "outputs": [
    {
     "data": {
      "text/plain": [
       "{'step_number': 1,\n",
       " 'navp': {'f_1': 0, 'f_2': 0},\n",
       " 'reference_points': {'d1': {'f_1': 1, 'f_2': 2}, 'd2': {'f_1': 2, 'f_2': 4}}}"
      ]
     },
<<<<<<< HEAD
     "execution_count": 40,
=======
     "execution_count": 28,
>>>>>>> 89f545f (work on getting some visualizations out)
     "metadata": {},
     "output_type": "execute_result"
    }
   ],
   "source": [
    "ideal_dict2 = {\"step_number\": 1, \"navp\": {\"f_1\": 0, \"f_2\":0}, \"reference_points\": { \"d1\": {\"f_1\": 1, \"f_2\":2}, \"d2\":{\"f_1\": 2, \"f_2\":4}}}\n",
    "ideal_dict2"
   ]
  },
  {
   "cell_type": "code",
   "execution_count": 12,
   "metadata": {},
   "outputs": [
    {
     "data": {
      "text/plain": [
       "{'step_number': 1,\n",
       " 'navp': [0, 0],\n",
       " 'reference_points': {'d1': [1, 2], 'd2': [2, 4]}}"
      ]
     },
     "execution_count": 12,
     "metadata": {},
     "output_type": "execute_result"
    }
   ],
   "source": [
    "ideal_dict = {\"step_number\": 1, \"navp\": [0, 0], \"reference_points\": { \"d1\": [1,2], \"d2\":[2,4]}}\n",
    "ideal_dict"
   ]
  },
  {
   "cell_type": "code",
<<<<<<< HEAD
   "execution_count": 41,
   "metadata": {},
   "outputs": [
    {
     "data": {
      "text/html": [
       "<div>\n",
       "<style scoped>\n",
       "    .dataframe tbody tr th:only-of-type {\n",
       "        vertical-align: middle;\n",
       "    }\n",
       "\n",
       "    .dataframe tbody tr th {\n",
       "        vertical-align: top;\n",
       "    }\n",
       "\n",
       "    .dataframe thead th {\n",
       "        text-align: right;\n",
       "    }\n",
       "</style>\n",
       "<table border=\"1\" class=\"dataframe\">\n",
       "  <thead>\n",
       "    <tr style=\"text-align: right;\">\n",
       "      <th></th>\n",
       "      <th>step_number</th>\n",
       "      <th>navp</th>\n",
       "      <th>reference_points</th>\n",
       "    </tr>\n",
       "  </thead>\n",
       "  <tbody>\n",
       "    <tr>\n",
       "      <th>f_1</th>\n",
       "      <td>1</td>\n",
       "      <td>0.0</td>\n",
       "      <td>NaN</td>\n",
       "    </tr>\n",
       "    <tr>\n",
       "      <th>f_2</th>\n",
       "      <td>1</td>\n",
       "      <td>0.0</td>\n",
       "      <td>NaN</td>\n",
       "    </tr>\n",
       "    <tr>\n",
       "      <th>d1</th>\n",
       "      <td>1</td>\n",
       "      <td>NaN</td>\n",
       "      <td>{'f_1': 1, 'f_2': 2}</td>\n",
       "    </tr>\n",
       "    <tr>\n",
       "      <th>d2</th>\n",
       "      <td>1</td>\n",
       "      <td>NaN</td>\n",
       "      <td>{'f_1': 2, 'f_2': 4}</td>\n",
       "    </tr>\n",
       "  </tbody>\n",
       "</table>\n",
       "</div>"
      ],
      "text/plain": [
       "     step_number  navp      reference_points\n",
       "f_1            1   0.0                   NaN\n",
       "f_2            1   0.0                   NaN\n",
       "d1             1   NaN  {'f_1': 1, 'f_2': 2}\n",
       "d2             1   NaN  {'f_1': 2, 'f_2': 4}"
      ]
     },
     "execution_count": 41,
     "metadata": {},
     "output_type": "execute_result"
=======
   "execution_count": 13,
   "metadata": {},
   "outputs": [
    {
     "ename": "NameError",
     "evalue": "name 'ideal_dict2' is not defined",
     "output_type": "error",
     "traceback": [
      "\u001b[0;31m---------------------------------------------------------------------------\u001b[0m",
      "\u001b[0;31mNameError\u001b[0m                                 Traceback (most recent call last)",
      "\u001b[1;32m/home/jp/tyot/mop/desdeo/DESDEO/desdeo/mcdm/pref_agg_tests.ipynb Cell 14\u001b[0m line \u001b[0;36m2\n\u001b[1;32m      <a href='vscode-notebook-cell:/home/jp/tyot/mop/desdeo/DESDEO/desdeo/mcdm/pref_agg_tests.ipynb#X13sZmlsZQ%3D%3D?line=0'>1</a>\u001b[0m ideal_Dataframe \u001b[39m=\u001b[39m pd\u001b[39m.\u001b[39mDataFrame(\n\u001b[0;32m----> <a href='vscode-notebook-cell:/home/jp/tyot/mop/desdeo/DESDEO/desdeo/mcdm/pref_agg_tests.ipynb#X13sZmlsZQ%3D%3D?line=1'>2</a>\u001b[0m     ideal_dict2\n\u001b[1;32m      <a href='vscode-notebook-cell:/home/jp/tyot/mop/desdeo/DESDEO/desdeo/mcdm/pref_agg_tests.ipynb#X13sZmlsZQ%3D%3D?line=2'>3</a>\u001b[0m )\n\u001b[1;32m      <a href='vscode-notebook-cell:/home/jp/tyot/mop/desdeo/DESDEO/desdeo/mcdm/pref_agg_tests.ipynb#X13sZmlsZQ%3D%3D?line=3'>4</a>\u001b[0m ideal_Dataframe\n",
      "\u001b[0;31mNameError\u001b[0m: name 'ideal_dict2' is not defined"
     ]
>>>>>>> 89f545f (work on getting some visualizations out)
    }
   ],
   "source": [
    "\n",
    "\n",
    "ideal_Dataframe = pd.DataFrame(\n",
    "    ideal_dict2\n",
    ")\n",
    "ideal_Dataframe\n"
   ]
  },
  {
   "cell_type": "code",
   "execution_count": 14,
   "metadata": {},
   "outputs": [
    {
     "data": {
      "text/html": [
       "<div>\n",
       "<style scoped>\n",
       "    .dataframe tbody tr th:only-of-type {\n",
       "        vertical-align: middle;\n",
       "    }\n",
       "\n",
       "    .dataframe tbody tr th {\n",
       "        vertical-align: top;\n",
       "    }\n",
       "\n",
       "    .dataframe thead th {\n",
       "        text-align: right;\n",
       "    }\n",
       "</style>\n",
       "<table border=\"1\" class=\"dataframe\">\n",
       "  <thead>\n",
       "    <tr style=\"text-align: right;\">\n",
       "      <th></th>\n",
       "      <th>d1</th>\n",
       "      <th>d2</th>\n",
       "    </tr>\n",
       "  </thead>\n",
       "  <tbody>\n",
       "    <tr>\n",
       "      <th>0</th>\n",
       "      <td>{'f_1': 1, 'f_2': 2, 'f_3': 2}</td>\n",
       "      <td>{'f_1': 2, 'f_2': 4}</td>\n",
       "    </tr>\n",
       "  </tbody>\n",
       "</table>\n",
       "</div>"
      ],
      "text/plain": [
       "                               d1                    d2\n",
       "0  {'f_1': 1, 'f_2': 2, 'f_3': 2}  {'f_1': 2, 'f_2': 4}"
      ]
     },
     "execution_count": 14,
     "metadata": {},
     "output_type": "execute_result"
    }
   ],
   "source": [
    "reference_points"
   ]
  },
  {
   "cell_type": "code",
   "execution_count": 15,
   "metadata": {},
   "outputs": [
    {
     "data": {
      "text/html": [
       "<div>\n",
       "<style scoped>\n",
       "    .dataframe tbody tr th:only-of-type {\n",
       "        vertical-align: middle;\n",
       "    }\n",
       "\n",
       "    .dataframe tbody tr th {\n",
       "        vertical-align: top;\n",
       "    }\n",
       "\n",
       "    .dataframe thead th {\n",
       "        text-align: right;\n",
       "    }\n",
       "</style>\n",
       "<table border=\"1\" class=\"dataframe\">\n",
       "  <thead>\n",
       "    <tr style=\"text-align: right;\">\n",
       "      <th></th>\n",
       "      <th>f_1</th>\n",
       "      <th>f_2</th>\n",
       "      <th>f_3</th>\n",
       "    </tr>\n",
       "  </thead>\n",
       "  <tbody>\n",
       "    <tr>\n",
       "      <th>0</th>\n",
       "      <td>0</td>\n",
       "      <td>0</td>\n",
       "      <td>0</td>\n",
       "    </tr>\n",
       "  </tbody>\n",
       "</table>\n",
       "</div>"
      ],
      "text/plain": [
       "   f_1  f_2  f_3\n",
       "0    0    0    0"
      ]
     },
     "execution_count": 15,
     "metadata": {},
     "output_type": "execute_result"
    }
   ],
   "source": [
    "navigation_points"
   ]
  },
  {
   "cell_type": "code",
   "execution_count": 16,
   "metadata": {},
   "outputs": [
    {
     "data": {
      "text/html": [
       "<div>\n",
       "<style scoped>\n",
       "    .dataframe tbody tr th:only-of-type {\n",
       "        vertical-align: middle;\n",
       "    }\n",
       "\n",
       "    .dataframe tbody tr th {\n",
       "        vertical-align: top;\n",
       "    }\n",
       "\n",
       "    .dataframe thead th {\n",
       "        text-align: right;\n",
       "    }\n",
       "</style>\n",
       "<table border=\"1\" class=\"dataframe\">\n",
       "  <thead>\n",
       "    <tr style=\"text-align: right;\">\n",
       "      <th></th>\n",
       "      <th>f_1</th>\n",
       "      <th>f_2</th>\n",
       "      <th>f_3</th>\n",
       "    </tr>\n",
       "  </thead>\n",
       "  <tbody>\n",
       "    <tr>\n",
       "      <th>0</th>\n",
       "      <td>3</td>\n",
       "      <td>6</td>\n",
       "      <td>2</td>\n",
       "    </tr>\n",
       "  </tbody>\n",
       "</table>\n",
       "</div>"
      ],
      "text/plain": [
       "   f_1  f_2  f_3\n",
       "0    3    6    2"
      ]
     },
     "execution_count": 16,
     "metadata": {},
     "output_type": "execute_result"
    }
   ],
   "source": [
    "group_dirs"
   ]
  },
  {
   "cell_type": "code",
   "execution_count": 17,
   "metadata": {},
   "outputs": [
    {
     "ename": "ValueError",
     "evalue": "Value of 'animation_frame' is not the name of a column in 'data_frame'. Expected one of ['step_number', 'f_1', 'f_2', 'f_3'] but received: n_gen",
     "output_type": "error",
     "traceback": [
      "\u001b[0;31m---------------------------------------------------------------------------\u001b[0m",
      "\u001b[0;31mValueError\u001b[0m                                Traceback (most recent call last)",
      "\u001b[1;32m/home/jp/tyot/mop/desdeo/DESDEO/desdeo/mcdm/pref_agg_tests.ipynb Cell 18\u001b[0m line \u001b[0;36m4\n\u001b[1;32m      <a href='vscode-notebook-cell:/home/jp/tyot/mop/desdeo/DESDEO/desdeo/mcdm/pref_agg_tests.ipynb#X20sZmlsZQ%3D%3D?line=0'>1</a>\u001b[0m \u001b[39mimport\u001b[39;00m \u001b[39mplotly\u001b[39;00m\u001b[39m.\u001b[39;00m\u001b[39mexpress\u001b[39;00m \u001b[39mas\u001b[39;00m \u001b[39mex\u001b[39;00m\n\u001b[0;32m----> <a href='vscode-notebook-cell:/home/jp/tyot/mop/desdeo/DESDEO/desdeo/mcdm/pref_agg_tests.ipynb#X20sZmlsZQ%3D%3D?line=3'>4</a>\u001b[0m figure \u001b[39m=\u001b[39m ex\u001b[39m.\u001b[39;49mscatter_3d(\n\u001b[1;32m      <a href='vscode-notebook-cell:/home/jp/tyot/mop/desdeo/DESDEO/desdeo/mcdm/pref_agg_tests.ipynb#X20sZmlsZQ%3D%3D?line=4'>5</a>\u001b[0m    \u001b[39m#test_Response.sort_values(\"step_number\"),\u001b[39;49;00m\n\u001b[1;32m      <a href='vscode-notebook-cell:/home/jp/tyot/mop/desdeo/DESDEO/desdeo/mcdm/pref_agg_tests.ipynb#X20sZmlsZQ%3D%3D?line=5'>6</a>\u001b[0m    new_df,\n\u001b[1;32m      <a href='vscode-notebook-cell:/home/jp/tyot/mop/desdeo/DESDEO/desdeo/mcdm/pref_agg_tests.ipynb#X20sZmlsZQ%3D%3D?line=6'>7</a>\u001b[0m     x\u001b[39m=\u001b[39;49m\u001b[39m\"\u001b[39;49m\u001b[39mf_1\u001b[39;49m\u001b[39m\"\u001b[39;49m,\n\u001b[1;32m      <a href='vscode-notebook-cell:/home/jp/tyot/mop/desdeo/DESDEO/desdeo/mcdm/pref_agg_tests.ipynb#X20sZmlsZQ%3D%3D?line=7'>8</a>\u001b[0m     y\u001b[39m=\u001b[39;49m\u001b[39m\"\u001b[39;49m\u001b[39mf_2\u001b[39;49m\u001b[39m\"\u001b[39;49m,\n\u001b[1;32m      <a href='vscode-notebook-cell:/home/jp/tyot/mop/desdeo/DESDEO/desdeo/mcdm/pref_agg_tests.ipynb#X20sZmlsZQ%3D%3D?line=8'>9</a>\u001b[0m     z\u001b[39m=\u001b[39;49m\u001b[39m\"\u001b[39;49m\u001b[39mf_3\u001b[39;49m\u001b[39m\"\u001b[39;49m,\n\u001b[1;32m     <a href='vscode-notebook-cell:/home/jp/tyot/mop/desdeo/DESDEO/desdeo/mcdm/pref_agg_tests.ipynb#X20sZmlsZQ%3D%3D?line=9'>10</a>\u001b[0m     animation_frame\u001b[39m=\u001b[39;49m\u001b[39m\"\u001b[39;49m\u001b[39mn_gen\u001b[39;49m\u001b[39m\"\u001b[39;49m,\n\u001b[1;32m     <a href='vscode-notebook-cell:/home/jp/tyot/mop/desdeo/DESDEO/desdeo/mcdm/pref_agg_tests.ipynb#X20sZmlsZQ%3D%3D?line=10'>11</a>\u001b[0m     range_x\u001b[39m=\u001b[39;49m[\u001b[39m0\u001b[39;49m,\u001b[39m1\u001b[39;49m],\n\u001b[1;32m     <a href='vscode-notebook-cell:/home/jp/tyot/mop/desdeo/DESDEO/desdeo/mcdm/pref_agg_tests.ipynb#X20sZmlsZQ%3D%3D?line=11'>12</a>\u001b[0m     range_y\u001b[39m=\u001b[39;49m[\u001b[39m0\u001b[39;49m,\u001b[39m1\u001b[39;49m],\n\u001b[1;32m     <a href='vscode-notebook-cell:/home/jp/tyot/mop/desdeo/DESDEO/desdeo/mcdm/pref_agg_tests.ipynb#X20sZmlsZQ%3D%3D?line=12'>13</a>\u001b[0m     range_z\u001b[39m=\u001b[39;49m[\u001b[39m0\u001b[39;49m,\u001b[39m1\u001b[39;49m],\n\u001b[1;32m     <a href='vscode-notebook-cell:/home/jp/tyot/mop/desdeo/DESDEO/desdeo/mcdm/pref_agg_tests.ipynb#X20sZmlsZQ%3D%3D?line=13'>14</a>\u001b[0m     color\u001b[39m=\u001b[39;49m\u001b[39m\"\u001b[39;49m\u001b[39mtype\u001b[39;49m\u001b[39m\"\u001b[39;49m,\n\u001b[1;32m     <a href='vscode-notebook-cell:/home/jp/tyot/mop/desdeo/DESDEO/desdeo/mcdm/pref_agg_tests.ipynb#X20sZmlsZQ%3D%3D?line=14'>15</a>\u001b[0m )\n\u001b[1;32m     <a href='vscode-notebook-cell:/home/jp/tyot/mop/desdeo/DESDEO/desdeo/mcdm/pref_agg_tests.ipynb#X20sZmlsZQ%3D%3D?line=16'>17</a>\u001b[0m figure\u001b[39m.\u001b[39mupdate_scenes(aspectmode\u001b[39m=\u001b[39m\u001b[39m\"\u001b[39m\u001b[39mcube\u001b[39m\u001b[39m\"\u001b[39m)\n",
      "File \u001b[0;32m~/tyot/mop/desdeo/DESDEO/.venv/lib/python3.12/site-packages/plotly/express/_chart_types.py:776\u001b[0m, in \u001b[0;36mscatter_3d\u001b[0;34m(data_frame, x, y, z, color, symbol, size, text, hover_name, hover_data, custom_data, error_x, error_x_minus, error_y, error_y_minus, error_z, error_z_minus, animation_frame, animation_group, category_orders, labels, size_max, color_discrete_sequence, color_discrete_map, color_continuous_scale, range_color, color_continuous_midpoint, symbol_sequence, symbol_map, opacity, log_x, log_y, log_z, range_x, range_y, range_z, title, template, width, height)\u001b[0m\n\u001b[1;32m    730\u001b[0m \u001b[39mdef\u001b[39;00m \u001b[39mscatter_3d\u001b[39m(\n\u001b[1;32m    731\u001b[0m     data_frame\u001b[39m=\u001b[39m\u001b[39mNone\u001b[39;00m,\n\u001b[1;32m    732\u001b[0m     x\u001b[39m=\u001b[39m\u001b[39mNone\u001b[39;00m,\n\u001b[0;32m   (...)\u001b[0m\n\u001b[1;32m    770\u001b[0m     height\u001b[39m=\u001b[39m\u001b[39mNone\u001b[39;00m,\n\u001b[1;32m    771\u001b[0m ) \u001b[39m-\u001b[39m\u001b[39m>\u001b[39m go\u001b[39m.\u001b[39mFigure:\n\u001b[1;32m    772\u001b[0m \u001b[39m    \u001b[39m\u001b[39m\"\"\"\u001b[39;00m\n\u001b[1;32m    773\u001b[0m \u001b[39m    In a 3D scatter plot, each row of `data_frame` is represented by a\u001b[39;00m\n\u001b[1;32m    774\u001b[0m \u001b[39m    symbol mark in 3D space.\u001b[39;00m\n\u001b[1;32m    775\u001b[0m \u001b[39m    \"\"\"\u001b[39;00m\n\u001b[0;32m--> 776\u001b[0m     \u001b[39mreturn\u001b[39;00m make_figure(args\u001b[39m=\u001b[39;49m\u001b[39mlocals\u001b[39;49m(), constructor\u001b[39m=\u001b[39;49mgo\u001b[39m.\u001b[39;49mScatter3d)\n",
      "File \u001b[0;32m~/tyot/mop/desdeo/DESDEO/.venv/lib/python3.12/site-packages/plotly/express/_core.py:2090\u001b[0m, in \u001b[0;36mmake_figure\u001b[0;34m(args, constructor, trace_patch, layout_patch)\u001b[0m\n\u001b[1;32m   2087\u001b[0m layout_patch \u001b[39m=\u001b[39m layout_patch \u001b[39mor\u001b[39;00m {}\n\u001b[1;32m   2088\u001b[0m apply_default_cascade(args)\n\u001b[0;32m-> 2090\u001b[0m args \u001b[39m=\u001b[39m build_dataframe(args, constructor)\n\u001b[1;32m   2091\u001b[0m \u001b[39mif\u001b[39;00m constructor \u001b[39min\u001b[39;00m [go\u001b[39m.\u001b[39mTreemap, go\u001b[39m.\u001b[39mSunburst, go\u001b[39m.\u001b[39mIcicle] \u001b[39mand\u001b[39;00m args[\u001b[39m\"\u001b[39m\u001b[39mpath\u001b[39m\u001b[39m\"\u001b[39m] \u001b[39mis\u001b[39;00m \u001b[39mnot\u001b[39;00m \u001b[39mNone\u001b[39;00m:\n\u001b[1;32m   2092\u001b[0m     args \u001b[39m=\u001b[39m process_dataframe_hierarchy(args)\n",
      "File \u001b[0;32m~/tyot/mop/desdeo/DESDEO/.venv/lib/python3.12/site-packages/plotly/express/_core.py:1492\u001b[0m, in \u001b[0;36mbuild_dataframe\u001b[0;34m(args, constructor)\u001b[0m\n\u001b[1;32m   1489\u001b[0m     args[\u001b[39m\"\u001b[39m\u001b[39mcolor\u001b[39m\u001b[39m\"\u001b[39m] \u001b[39m=\u001b[39m \u001b[39mNone\u001b[39;00m\n\u001b[1;32m   1490\u001b[0m \u001b[39m# now that things have been prepped, we do the systematic rewriting of `args`\u001b[39;00m\n\u001b[0;32m-> 1492\u001b[0m df_output, wide_id_vars \u001b[39m=\u001b[39m process_args_into_dataframe(\n\u001b[1;32m   1493\u001b[0m     args, wide_mode, var_name, value_name\n\u001b[1;32m   1494\u001b[0m )\n\u001b[1;32m   1496\u001b[0m \u001b[39m# now that `df_output` exists and `args` contains only references, we complete\u001b[39;00m\n\u001b[1;32m   1497\u001b[0m \u001b[39m# the special-case and wide-mode handling by further rewriting args and/or mutating\u001b[39;00m\n\u001b[1;32m   1498\u001b[0m \u001b[39m# df_output\u001b[39;00m\n\u001b[1;32m   1500\u001b[0m count_name \u001b[39m=\u001b[39m _escape_col_name(df_output, \u001b[39m\"\u001b[39m\u001b[39mcount\u001b[39m\u001b[39m\"\u001b[39m, [var_name, value_name])\n",
      "File \u001b[0;32m~/tyot/mop/desdeo/DESDEO/.venv/lib/python3.12/site-packages/plotly/express/_core.py:1213\u001b[0m, in \u001b[0;36mprocess_args_into_dataframe\u001b[0;34m(args, wide_mode, var_name, value_name)\u001b[0m\n\u001b[1;32m   1211\u001b[0m         \u001b[39mif\u001b[39;00m argument \u001b[39m==\u001b[39m \u001b[39m\"\u001b[39m\u001b[39mindex\u001b[39m\u001b[39m\"\u001b[39m:\n\u001b[1;32m   1212\u001b[0m             err_msg \u001b[39m+\u001b[39m\u001b[39m=\u001b[39m \u001b[39m\"\u001b[39m\u001b[39m\\n\u001b[39;00m\u001b[39m To use the index, pass it in directly as `df.index`.\u001b[39m\u001b[39m\"\u001b[39m\n\u001b[0;32m-> 1213\u001b[0m         \u001b[39mraise\u001b[39;00m \u001b[39mValueError\u001b[39;00m(err_msg)\n\u001b[1;32m   1214\u001b[0m \u001b[39melif\u001b[39;00m length \u001b[39mand\u001b[39;00m \u001b[39mlen\u001b[39m(df_input[argument]) \u001b[39m!=\u001b[39m length:\n\u001b[1;32m   1215\u001b[0m     \u001b[39mraise\u001b[39;00m \u001b[39mValueError\u001b[39;00m(\n\u001b[1;32m   1216\u001b[0m         \u001b[39m\"\u001b[39m\u001b[39mAll arguments should have the same length. \u001b[39m\u001b[39m\"\u001b[39m\n\u001b[1;32m   1217\u001b[0m         \u001b[39m\"\u001b[39m\u001b[39mThe length of column argument `df[\u001b[39m\u001b[39m%s\u001b[39;00m\u001b[39m]` is \u001b[39m\u001b[39m%d\u001b[39;00m\u001b[39m, whereas the \u001b[39m\u001b[39m\"\u001b[39m\n\u001b[0;32m   (...)\u001b[0m\n\u001b[1;32m   1224\u001b[0m         )\n\u001b[1;32m   1225\u001b[0m     )\n",
      "\u001b[0;31mValueError\u001b[0m: Value of 'animation_frame' is not the name of a column in 'data_frame'. Expected one of ['step_number', 'f_1', 'f_2', 'f_3'] but received: n_gen"
     ]
    }
   ],
   "source": [
    "import plotly.express as ex\n",
    "\n",
    "\n",
    "figure = ex.scatter_3d(\n",
    "   #test_Response.sort_values(\"step_number\"),\n",
    "   new_df,\n",
    "    x=\"f_1\",\n",
    "    y=\"f_2\",\n",
    "    z=\"f_3\",\n",
    "    animation_frame=\"n_gen\",\n",
    "    range_x=[0,1],\n",
    "    range_y=[0,1],\n",
    "    range_z=[0,1],\n",
    "    color=\"type\",\n",
    ")\n",
    "\n",
    "figure.update_scenes(aspectmode=\"cube\")"
   ]
  },
  {
   "cell_type": "code",
   "execution_count": null,
   "metadata": {},
   "outputs": [],
   "source": []
  },
  {
   "cell_type": "code",
   "execution_count": 18,
   "metadata": {},
   "outputs": [
    {
     "ename": "ValidationError",
     "evalue": "4 validation errors for NAUTILI_Response\ndistance_to_front\n  Field required [type=missing, input_value={'step_number': 1, 'refer...3': 0.8446643014772331}}, input_type=dict]\n    For further information visit https://errors.pydantic.dev/2.6/v/missing\nimprovement_directions\n  Field required [type=missing, input_value={'step_number': 1, 'refer...3': 0.8446643014772331}}, input_type=dict]\n    For further information visit https://errors.pydantic.dev/2.6/v/missing\nreachable_solution\n  Field required [type=missing, input_value={'step_number': 1, 'refer...3': 0.8446643014772331}}, input_type=dict]\n    For further information visit https://errors.pydantic.dev/2.6/v/missing\nreachable_bounds\n  Field required [type=missing, input_value={'step_number': 1, 'refer...3': 0.8446643014772331}}, input_type=dict]\n    For further information visit https://errors.pydantic.dev/2.6/v/missing",
     "output_type": "error",
     "traceback": [
      "\u001b[0;31m---------------------------------------------------------------------------\u001b[0m",
      "\u001b[0;31mValidationError\u001b[0m                           Traceback (most recent call last)",
      "\u001b[1;32m/home/jp/tyot/mop/desdeo/DESDEO/desdeo/mcdm/pref_agg_tests.ipynb Cell 20\u001b[0m line \u001b[0;36m1\n\u001b[0;32m----> <a href='vscode-notebook-cell:/home/jp/tyot/mop/desdeo/DESDEO/desdeo/mcdm/pref_agg_tests.ipynb#X22sZmlsZQ%3D%3D?line=0'>1</a>\u001b[0m NAUTILI_Response(step_number\u001b[39m=\u001b[39;49m\u001b[39m1\u001b[39;49m, \n\u001b[1;32m      <a href='vscode-notebook-cell:/home/jp/tyot/mop/desdeo/DESDEO/desdeo/mcdm/pref_agg_tests.ipynb#X22sZmlsZQ%3D%3D?line=1'>2</a>\u001b[0m reference_points\u001b[39m=\u001b[39;49m{\u001b[39m'\u001b[39;49m\u001b[39mDM1\u001b[39;49m\u001b[39m'\u001b[39;49m: {\u001b[39m'\u001b[39;49m\u001b[39mf_1\u001b[39;49m\u001b[39m'\u001b[39;49m: \u001b[39m0.8\u001b[39;49m, \u001b[39m'\u001b[39;49m\u001b[39mf_2\u001b[39;49m\u001b[39m'\u001b[39;49m: \u001b[39m0.7\u001b[39;49m, \u001b[39m'\u001b[39;49m\u001b[39mf_3\u001b[39;49m\u001b[39m'\u001b[39;49m: \u001b[39m0.6\u001b[39;49m}, \u001b[39m'\u001b[39;49m\u001b[39mDM2\u001b[39;49m\u001b[39m'\u001b[39;49m: {\u001b[39m'\u001b[39;49m\u001b[39mf_1\u001b[39;49m\u001b[39m'\u001b[39;49m: \u001b[39m0.7\u001b[39;49m, \u001b[39m'\u001b[39;49m\u001b[39mf_2\u001b[39;49m\u001b[39m'\u001b[39;49m: \u001b[39m0.8\u001b[39;49m, \u001b[39m'\u001b[39;49m\u001b[39mf_3\u001b[39;49m\u001b[39m'\u001b[39;49m: \u001b[39m0.5\u001b[39;49m}, \u001b[39m'\u001b[39;49m\u001b[39mDM3\u001b[39;49m\u001b[39m'\u001b[39;49m: {\u001b[39m'\u001b[39;49m\u001b[39mf_1\u001b[39;49m\u001b[39m'\u001b[39;49m: \u001b[39m0.5\u001b[39;49m, \u001b[39m'\u001b[39;49m\u001b[39mf_2\u001b[39;49m\u001b[39m'\u001b[39;49m: \u001b[39m0.6\u001b[39;49m, \u001b[39m'\u001b[39;49m\u001b[39mf_3\u001b[39;49m\u001b[39m'\u001b[39;49m: \u001b[39m0.8\u001b[39;49m}}, \n\u001b[1;32m      <a href='vscode-notebook-cell:/home/jp/tyot/mop/desdeo/DESDEO/desdeo/mcdm/pref_agg_tests.ipynb#X22sZmlsZQ%3D%3D?line=2'>3</a>\u001b[0m group_improvement_direction\u001b[39m=\u001b[39;49m{\u001b[39m'\u001b[39;49m\u001b[39mf_1\u001b[39;49m\u001b[39m'\u001b[39;49m: \u001b[39m0.3333333333333333\u001b[39;49m, \u001b[39m'\u001b[39;49m\u001b[39mf_2\u001b[39;49m\u001b[39m'\u001b[39;49m: \u001b[39m0.3\u001b[39;49m, \u001b[39m'\u001b[39;49m\u001b[39mf_3\u001b[39;49m\u001b[39m'\u001b[39;49m: \u001b[39m0.3666666666666667\u001b[39;49m}, \n\u001b[1;32m      <a href='vscode-notebook-cell:/home/jp/tyot/mop/desdeo/DESDEO/desdeo/mcdm/pref_agg_tests.ipynb#X22sZmlsZQ%3D%3D?line=3'>4</a>\u001b[0m navigation_point\u001b[39m=\u001b[39;49m{\u001b[39m'\u001b[39;49m\u001b[39mf_1\u001b[39;49m\u001b[39m'\u001b[39;49m: \u001b[39m0.8587857297541919\u001b[39;49m, \u001b[39m'\u001b[39;49m\u001b[39mf_2\u001b[39;49m\u001b[39m'\u001b[39;49m: \u001b[39m0.8729071572266982\u001b[39;49m, \u001b[39m'\u001b[39;49m\u001b[39mf_3\u001b[39;49m\u001b[39m'\u001b[39;49m: \u001b[39m0.8446643014772331\u001b[39;49m})\n",
      "File \u001b[0;32m~/tyot/mop/desdeo/DESDEO/.venv/lib/python3.12/site-packages/pydantic/main.py:171\u001b[0m, in \u001b[0;36mBaseModel.__init__\u001b[0;34m(self, **data)\u001b[0m\n\u001b[1;32m    169\u001b[0m \u001b[39m# `__tracebackhide__` tells pytest and some other tools to omit this function from tracebacks\u001b[39;00m\n\u001b[1;32m    170\u001b[0m __tracebackhide__ \u001b[39m=\u001b[39m \u001b[39mTrue\u001b[39;00m\n\u001b[0;32m--> 171\u001b[0m \u001b[39mself\u001b[39;49m\u001b[39m.\u001b[39;49m__pydantic_validator__\u001b[39m.\u001b[39;49mvalidate_python(data, self_instance\u001b[39m=\u001b[39;49m\u001b[39mself\u001b[39;49m)\n",
      "\u001b[0;31mValidationError\u001b[0m: 4 validation errors for NAUTILI_Response\ndistance_to_front\n  Field required [type=missing, input_value={'step_number': 1, 'refer...3': 0.8446643014772331}}, input_type=dict]\n    For further information visit https://errors.pydantic.dev/2.6/v/missing\nimprovement_directions\n  Field required [type=missing, input_value={'step_number': 1, 'refer...3': 0.8446643014772331}}, input_type=dict]\n    For further information visit https://errors.pydantic.dev/2.6/v/missing\nreachable_solution\n  Field required [type=missing, input_value={'step_number': 1, 'refer...3': 0.8446643014772331}}, input_type=dict]\n    For further information visit https://errors.pydantic.dev/2.6/v/missing\nreachable_bounds\n  Field required [type=missing, input_value={'step_number': 1, 'refer...3': 0.8446643014772331}}, input_type=dict]\n    For further information visit https://errors.pydantic.dev/2.6/v/missing"
     ]
    }
   ],
   "source": [
    "NAUTILI_Response(step_number=1, \n",
    "reference_points={'DM1': {'f_1': 0.8, 'f_2': 0.7, 'f_3': 0.6}, 'DM2': {'f_1': 0.7, 'f_2': 0.8, 'f_3': 0.5}, 'DM3': {'f_1': 0.5, 'f_2': 0.6, 'f_3': 0.8}}, \n",
    "group_improvement_direction={'f_1': 0.3333333333333333, 'f_2': 0.3, 'f_3': 0.3666666666666667}, \n",
    "navigation_point={'f_1': 0.8587857297541919, 'f_2': 0.8729071572266982, 'f_3': 0.8446643014772331})"
   ]
  },
  {
   "cell_type": "code",
<<<<<<< HEAD
   "execution_count": 74,
=======
   "execution_count": 22,
>>>>>>> 89f545f (work on getting some visualizations out)
   "metadata": {},
   "outputs": [
    {
     "data": {
      "text/plain": [
       "{'f_1': 1.0, 'f_2': 1.0, 'f_3': 1.0}"
      ]
     },
<<<<<<< HEAD
     "execution_count": 74,
=======
     "execution_count": 22,
>>>>>>> 89f545f (work on getting some visualizations out)
     "metadata": {},
     "output_type": "execute_result"
    }
   ],
   "source": [
    "problem = dtlz2(10,3)\n",
    "nadir = get_nadir_dict(problem)\n",
    "ideal = get_ideal_dict(problem)\n",
    "nadir"
   ]
  },
  {
   "cell_type": "code",
<<<<<<< HEAD
   "execution_count": 75,
=======
   "execution_count": 23,
>>>>>>> 89f545f (work on getting some visualizations out)
   "metadata": {},
   "outputs": [],
   "source": [
    "rps = {\n",
    "        \"DM1\": {\"f_1\": 0.8, \"f_2\": 0.7, \"f_3\": 0.6},\n",
    "        \"DM2\": {\"f_1\": 0.7, \"f_2\": 0.8, \"f_3\": 0.5},\n",
    "        \"DM3\": {\"f_1\": 0.5, \"f_2\": 0.6, \"f_3\": 0.8},\n",
    "}"
   ]
  },
  {
   "cell_type": "code",
<<<<<<< HEAD
   "execution_count": 80,
   "metadata": {},
   "outputs": [],
   "source": [
    "# changed rps\n",
    "rps = {\n",
    "        \"DM1\": {\"f_1\": 0.48, \"f_2\": 0.47, \"f_3\": 0.5},\n",
    "        \"DM2\": {\"f_1\": 0.47, \"f_2\": 0.58, \"f_3\": 0.5},\n",
    "        \"DM3\": {\"f_1\": 0.5, \"f_2\": 0.58, \"f_3\": 0.5},\n",
    "}"
   ]
  },
  {
   "cell_type": "code",
   "execution_count": null,
   "metadata": {},
   "outputs": [],
   "source": [
    "Navigation point: {'f_1': 0.5763751031936241, 'f_2': 0.6187375904899274, 'f_3': 0.534012605160548}"
   ]
  },
  {
   "cell_type": "code",
   "execution_count": 76,
=======
   "execution_count": 24,
>>>>>>> 89f545f (work on getting some visualizations out)
   "metadata": {},
   "outputs": [
    {
     "data": {
      "text/plain": [
       "NAUTILI_Response(step_number=0, distance_to_front=0.0, reference_points=None, improvement_directions=None, group_improvement_direction=None, navigation_point={'f_1': 1.0, 'f_2': 1.0, 'f_3': 1.0}, reachable_solution=None, reachable_bounds={'lower_bounds': {'f_1': 3.749399456654644e-33, 'f_2': 0.0, 'f_3': 0.0}, 'upper_bounds': {'f_1': 1.0, 'f_2': 1.0, 'f_3': 1.0}})"
      ]
     },
<<<<<<< HEAD
     "execution_count": 76,
=======
     "execution_count": 24,
>>>>>>> 89f545f (work on getting some visualizations out)
     "metadata": {},
     "output_type": "execute_result"
    }
   ],
   "source": [
    "initial_response = nautili_init(problem)\n",
    "initial_response"
   ]
  },
  {
<<<<<<< HEAD
   "cell_type": "code",
   "execution_count": 77,
   "metadata": {},
   "outputs": [
    {
     "name": "stdout",
     "output_type": "stream",
     "text": [
      "mean\n"
     ]
    },
    {
     "name": "stderr",
     "output_type": "stream",
     "text": [
      "/home/jp/tyot/mop/desdeo/DESDEO/.venv/lib/python3.12/site-packages/scipy/optimize/_differentiable_functions.py:231: UserWarning:\n",
      "\n",
      "delta_grad == 0.0. Check if the approximated function is linear. If the function is linear better results can be obtained by defining the Hessian as zero instead of using quasi-Newton approximations.\n",
      "\n",
      "/home/jp/tyot/mop/desdeo/DESDEO/.venv/lib/python3.12/site-packages/scipy/optimize/_differentiable_functions.py:504: UserWarning:\n",
      "\n",
      "delta_grad == 0.0. Check if the approximated function is linear. If the function is linear better results can be obtained by defining the Hessian as zero instead of using quasi-Newton approximations.\n",
      "\n"
     ]
    },
    {
     "data": {
      "text/plain": [
       "[NAUTILI_Response(step_number=1, distance_to_front=33.33333333333335, reference_points={'DM1': {'f_1': 0.8, 'f_2': 0.7, 'f_3': 0.6}, 'DM2': {'f_1': 0.7, 'f_2': 0.8, 'f_3': 0.5}, 'DM3': {'f_1': 0.5, 'f_2': 0.6, 'f_3': 0.8}}, improvement_directions={'DM1': array([0.2, 0.3, 0.4]), 'DM2': array([0.3, 0.2, 0.5]), 'DM3': array([0.5, 0.4, 0.2])}, group_improvement_direction={'f_1': 0.3333333333333333, 'f_2': 0.3, 'f_3': 0.3666666666666667}, navigation_point={'f_1': 0.8587917010645413, 'f_2': 0.872912530163309, 'f_3': 0.8446708683868493}, reachable_solution={'f_1': 0.5763751031936241, 'f_2': 0.6187375904899274, 'f_3': 0.534012605160548}, reachable_bounds={'lower_bounds': {'f_1': 3.2847892802852635e-17, 'f_2': 0.0, 'f_3': 0.0}, 'upper_bounds': {'f_1': 0.8587917010645413, 'f_2': 0.872912530163309, 'f_3': 0.8446708683868493}}),\n",
       " NAUTILI_Response(step_number=2, distance_to_front=66.66666666666669, reference_points={'DM1': {'f_1': 0.8, 'f_2': 0.7, 'f_3': 0.6}, 'DM2': {'f_1': 0.7, 'f_2': 0.8, 'f_3': 0.5}, 'DM3': {'f_1': 0.5, 'f_2': 0.6, 'f_3': 0.8}}, improvement_directions={'DM1': array([0.2, 0.3, 0.4]), 'DM2': array([0.3, 0.2, 0.5]), 'DM3': array([0.5, 0.4, 0.2])}, group_improvement_direction=None, navigation_point={'f_1': 0.7175834021290827, 'f_2': 0.7458250603266182, 'f_3': 0.6893417367736987}, reachable_solution={'f_1': 0.5763751031936241, 'f_2': 0.6187375904899274, 'f_3': 0.534012605160548}, reachable_bounds={'lower_bounds': {'f_1': 4.4382672724306995e-17, 'f_2': 0.0996767249169848, 'f_3': 0.0}, 'upper_bounds': {'f_1': 0.7175834021290827, 'f_2': 0.7458250603266182, 'f_3': 0.6893417367736987}}),\n",
       " NAUTILI_Response(step_number=3, distance_to_front=100.0, reference_points={'DM1': {'f_1': 0.8, 'f_2': 0.7, 'f_3': 0.6}, 'DM2': {'f_1': 0.7, 'f_2': 0.8, 'f_3': 0.5}, 'DM3': {'f_1': 0.5, 'f_2': 0.6, 'f_3': 0.8}}, improvement_directions={'DM1': array([0.2, 0.3, 0.4]), 'DM2': array([0.3, 0.2, 0.5]), 'DM3': array([0.5, 0.4, 0.2])}, group_improvement_direction=None, navigation_point={'f_1': 0.5763751031936241, 'f_2': 0.6187375904899274, 'f_3': 0.534012605160548}, reachable_solution={'f_1': 0.5763751031936241, 'f_2': 0.6187375904899274, 'f_3': 0.534012605160548}, reachable_bounds={'lower_bounds': {'f_1': 0.5761895197198036, 'f_2': 0.6185652038157777, 'f_3': 0.5338148923861006}, 'upper_bounds': {'f_1': 0.5763751031936241, 'f_2': 0.6187375904899274, 'f_3': 0.534012605160548}})]"
      ]
     },
     "execution_count": 77,
     "metadata": {},
     "output_type": "execute_result"
    }
   ],
   "source": [
    "all_resp = nautili_all_steps(problem, 3, rps, [initial_response], pref_agg_method=\"mean\")\n",
    "all_resp"
   ]
  },
  {
=======
>>>>>>> 89f545f (work on getting some visualizations out)
   "cell_type": "markdown",
   "metadata": {},
   "source": [
    "# Alla olevat toimiii !"
   ]
  },
  {
   "cell_type": "code",
<<<<<<< HEAD
   "execution_count": 23,
=======
   "execution_count": 25,
   "metadata": {},
   "outputs": [
    {
     "name": "stdout",
     "output_type": "stream",
     "text": [
      "maxmin_cones\n",
      "`gtol` termination condition is satisfied.\n",
      "Number of iterations: 32, function evaluations: 144, CG iterations: 39, optimality: 3.48e-13, constraint violation: 1.11e-16, execution time: 0.071 s.\n",
      "[0.63097492 0.67504782 0.6734465 ]\n"
     ]
    },
    {
     "name": "stderr",
     "output_type": "stream",
     "text": [
      "/home/jp/tyot/mop/desdeo/DESDEO/.venv/lib/python3.12/site-packages/scipy/optimize/_differentiable_functions.py:231: UserWarning: delta_grad == 0.0. Check if the approximated function is linear. If the function is linear better results can be obtained by defining the Hessian as zero instead of using quasi-Newton approximations.\n",
      "  self.H.update(self.x - self.x_prev, self.g - self.g_prev)\n",
      "/home/jp/tyot/mop/desdeo/DESDEO/.venv/lib/python3.12/site-packages/scipy/optimize/_differentiable_functions.py:504: UserWarning: delta_grad == 0.0. Check if the approximated function is linear. If the function is linear better results can be obtained by defining the Hessian as zero instead of using quasi-Newton approximations.\n",
      "  self.H.update(delta_x, delta_g)\n"
     ]
    },
    {
     "data": {
      "text/plain": [
       "[NAUTILI_Response(step_number=1, distance_to_front=33.33333333333334, reference_points={'DM1': {'f_1': 0.8, 'f_2': 0.7, 'f_3': 0.6}, 'DM2': {'f_1': 0.7, 'f_2': 0.8, 'f_3': 0.5}, 'DM3': {'f_1': 0.5, 'f_2': 0.6, 'f_3': 0.8}}, improvement_directions={'DM1': array([0.2, 0.3, 0.4]), 'DM2': array([0.3, 0.2, 0.5]), 'DM3': array([0.5, 0.4, 0.2])}, group_improvement_direction={'f_1': 0.36902507536606777, 'f_2': 0.32495218156555195, 'f_3': 0.32655350420154317}, navigation_point={'f_1': 0.8470397991456248, 'f_2': 0.8653079306222506, 'f_3': 0.864644178012869}, reachable_solution={'f_1': 0.5411193974368745, 'f_2': 0.595923791866752, 'f_3': 0.5939325340386069}, reachable_bounds={'lower_bounds': {'f_1': 3.086269092226354e-17, 'f_2': 0.0, 'f_3': 0.0}, 'upper_bounds': {'f_1': 0.8470397991456248, 'f_2': 0.8653079306222506, 'f_3': 0.864644178012869}}),\n",
       " NAUTILI_Response(step_number=2, distance_to_front=66.66666666666667, reference_points={'DM1': {'f_1': 0.8, 'f_2': 0.7, 'f_3': 0.6}, 'DM2': {'f_1': 0.7, 'f_2': 0.8, 'f_3': 0.5}, 'DM3': {'f_1': 0.5, 'f_2': 0.6, 'f_3': 0.8}}, improvement_directions={'DM1': array([0.2, 0.3, 0.4]), 'DM2': array([0.3, 0.2, 0.5]), 'DM3': array([0.5, 0.4, 0.2])}, group_improvement_direction=None, navigation_point={'f_1': 0.6940795982912497, 'f_2': 0.7306158612445013, 'f_3': 0.7292883560257379}, reachable_solution={'f_1': 0.5411193974368745, 'f_2': 0.595923791866752, 'f_3': 0.5939325340386069}, reachable_bounds={'lower_bounds': {'f_1': 4.192123161672925e-17, 'f_2': 0.0, 'f_3': 0.0}, 'upper_bounds': {'f_1': 0.6940795982912497, 'f_2': 0.7306158612445013, 'f_3': 0.7292883560257379}}),\n",
       " NAUTILI_Response(step_number=3, distance_to_front=100.0, reference_points={'DM1': {'f_1': 0.8, 'f_2': 0.7, 'f_3': 0.6}, 'DM2': {'f_1': 0.7, 'f_2': 0.8, 'f_3': 0.5}, 'DM3': {'f_1': 0.5, 'f_2': 0.6, 'f_3': 0.8}}, improvement_directions={'DM1': array([0.2, 0.3, 0.4]), 'DM2': array([0.3, 0.2, 0.5]), 'DM3': array([0.5, 0.4, 0.2])}, group_improvement_direction=None, navigation_point={'f_1': 0.5411193974368745, 'f_2': 0.595923791866752, 'f_3': 0.5939325340386069}, reachable_solution={'f_1': 0.5411193974368745, 'f_2': 0.595923791866752, 'f_3': 0.5939325340386069}, reachable_bounds={'lower_bounds': {'f_1': 0.5404804141088667, 'f_2': 0.5953436845387152, 'f_3': 0.5933530879742348}, 'upper_bounds': {'f_1': 0.5411193974368745, 'f_2': 0.595923791866752, 'f_3': 0.5939325340386069}})]"
      ]
     },
     "execution_count": 25,
     "metadata": {},
     "output_type": "execute_result"
    }
   ],
   "source": [
    "all_resp = nautili_all_steps(problem, 3, rps, [initial_response], pref_agg_method=\"maxmin_cones\")\n",
    "all_resp"
   ]
  },
  {
   "cell_type": "code",
   "execution_count": 26,
   "metadata": {},
   "outputs": [],
   "source": [
    "# muuta all respistä ottaan oleelliset\n",
    "        #obj_names = [f\"f{i}\" for i in range(len(obj[0]))]\n",
    "obj_names = [\"f_1\", \"f_2\", \"f_3\"]\n",
    "\n",
    "df = pd.DataFrame(all_resp)#p[0]\n",
    "#df.to_csv(\"results/dtlz2_maxmin.csv\", index=False)"
   ]
  },
  {
   "cell_type": "code",
   "execution_count": 27,
>>>>>>> 89f545f (work on getting some visualizations out)
   "metadata": {},
   "outputs": [
    {
     "data": {
      "text/plain": [
<<<<<<< HEAD
       "[NAUTILI_Response(step_number=1, distance_to_front=33.333333333333336, reference_points={'DM1': {'f_1': 0.8, 'f_2': 0.7, 'f_3': 0.6}, 'DM2': {'f_1': 0.7, 'f_2': 0.8, 'f_3': 0.5}, 'DM3': {'f_1': 0.5, 'f_2': 0.6, 'f_3': 0.8}}, improvement_directions={'DM1': array([0.2, 0.3, 0.4]), 'DM2': array([0.3, 0.2, 0.5]), 'DM3': array([0.5, 0.4, 0.2])}, group_improvement_direction={'f_1': 0.36902507536606777, 'f_2': 0.32495218156555195, 'f_3': 0.32655350420154317}, navigation_point={'f_1': 0.8469759693775608, 'f_2': 0.8652517193444319, 'f_3': 0.8645876993541382}, reachable_solution={'f_1': 0.5409279081326824, 'f_2': 0.5957551580332957, 'f_3': 0.5937630980624147}, reachable_bounds={'lower_bounds': {'f_1': 3.0805190947317576e-17, 'f_2': 0.0, 'f_3': 0.0}, 'upper_bounds': {'f_1': 0.8469759693775608, 'f_2': 0.8652517193444319, 'f_3': 0.8645876993541382}}),\n",
       " NAUTILI_Response(step_number=2, distance_to_front=66.66666666666667, reference_points={'DM1': {'f_1': 0.8, 'f_2': 0.7, 'f_3': 0.6}, 'DM2': {'f_1': 0.7, 'f_2': 0.8, 'f_3': 0.5}, 'DM3': {'f_1': 0.5, 'f_2': 0.6, 'f_3': 0.8}}, improvement_directions={'DM1': array([0.2, 0.3, 0.4]), 'DM2': array([0.3, 0.2, 0.5]), 'DM3': array([0.5, 0.4, 0.2])}, group_improvement_direction=None, navigation_point={'f_1': 0.6939519387551216, 'f_2': 0.7305034386888638, 'f_3': 0.7291753987082764}, reachable_solution={'f_1': 0.5409279081326824, 'f_2': 0.5957551580332957, 'f_3': 0.5937630980624147}, reachable_bounds={'lower_bounds': {'f_1': 4.200101533001604e-17, 'f_2': 0.0, 'f_3': 0.0}, 'upper_bounds': {'f_1': 0.6939519387551216, 'f_2': 0.7305034386888638, 'f_3': 0.7291753987082764}}),\n",
       " NAUTILI_Response(step_number=3, distance_to_front=100.0, reference_points={'DM1': {'f_1': 0.8, 'f_2': 0.7, 'f_3': 0.6}, 'DM2': {'f_1': 0.7, 'f_2': 0.8, 'f_3': 0.5}, 'DM3': {'f_1': 0.5, 'f_2': 0.6, 'f_3': 0.8}}, improvement_directions={'DM1': array([0.2, 0.3, 0.4]), 'DM2': array([0.3, 0.2, 0.5]), 'DM3': array([0.5, 0.4, 0.2])}, group_improvement_direction=None, navigation_point={'f_1': 0.5409279081326824, 'f_2': 0.5957551580332957, 'f_3': 0.5937630980624147}, reachable_solution={'f_1': 0.5409279081326824, 'f_2': 0.5957551580332957, 'f_3': 0.5937630980624147}, reachable_bounds={'lower_bounds': {'f_1': 0.5408524020822848, 'f_2': 0.5956866121412085, 'f_3': 0.5936947327528928}, 'upper_bounds': {'f_1': 0.5409279081326824, 'f_2': 0.5957551580332957, 'f_3': 0.5937630980624147}})]"
      ]
     },
     "execution_count": 23,
=======
       "[NAUTILI_Response(step_number=1, distance_to_front=33.33333333333334, reference_points={'DM1': {'f_1': 0.8, 'f_2': 0.7, 'f_3': 0.6}, 'DM2': {'f_1': 0.7, 'f_2': 0.8, 'f_3': 0.5}, 'DM3': {'f_1': 0.5, 'f_2': 0.6, 'f_3': 0.8}}, improvement_directions={'DM1': array([0.2, 0.3, 0.4]), 'DM2': array([0.3, 0.2, 0.5]), 'DM3': array([0.5, 0.4, 0.2])}, group_improvement_direction={'f_1': 0.36902507536606777, 'f_2': 0.32495218156555195, 'f_3': 0.32655350420154317}, navigation_point={'f_1': 0.8470397991456248, 'f_2': 0.8653079306222506, 'f_3': 0.864644178012869}, reachable_solution={'f_1': 0.5411193974368745, 'f_2': 0.595923791866752, 'f_3': 0.5939325340386069}, reachable_bounds={'lower_bounds': {'f_1': 3.086269092226354e-17, 'f_2': 0.0, 'f_3': 0.0}, 'upper_bounds': {'f_1': 0.8470397991456248, 'f_2': 0.8653079306222506, 'f_3': 0.864644178012869}}),\n",
       " NAUTILI_Response(step_number=2, distance_to_front=66.66666666666667, reference_points={'DM1': {'f_1': 0.8, 'f_2': 0.7, 'f_3': 0.6}, 'DM2': {'f_1': 0.7, 'f_2': 0.8, 'f_3': 0.5}, 'DM3': {'f_1': 0.5, 'f_2': 0.6, 'f_3': 0.8}}, improvement_directions={'DM1': array([0.2, 0.3, 0.4]), 'DM2': array([0.3, 0.2, 0.5]), 'DM3': array([0.5, 0.4, 0.2])}, group_improvement_direction=None, navigation_point={'f_1': 0.6940795982912497, 'f_2': 0.7306158612445013, 'f_3': 0.7292883560257379}, reachable_solution={'f_1': 0.5411193974368745, 'f_2': 0.595923791866752, 'f_3': 0.5939325340386069}, reachable_bounds={'lower_bounds': {'f_1': 4.192123161672925e-17, 'f_2': 0.0, 'f_3': 0.0}, 'upper_bounds': {'f_1': 0.6940795982912497, 'f_2': 0.7306158612445013, 'f_3': 0.7292883560257379}}),\n",
       " NAUTILI_Response(step_number=3, distance_to_front=100.0, reference_points={'DM1': {'f_1': 0.8, 'f_2': 0.7, 'f_3': 0.6}, 'DM2': {'f_1': 0.7, 'f_2': 0.8, 'f_3': 0.5}, 'DM3': {'f_1': 0.5, 'f_2': 0.6, 'f_3': 0.8}}, improvement_directions={'DM1': array([0.2, 0.3, 0.4]), 'DM2': array([0.3, 0.2, 0.5]), 'DM3': array([0.5, 0.4, 0.2])}, group_improvement_direction=None, navigation_point={'f_1': 0.5411193974368745, 'f_2': 0.595923791866752, 'f_3': 0.5939325340386069}, reachable_solution={'f_1': 0.5411193974368745, 'f_2': 0.595923791866752, 'f_3': 0.5939325340386069}, reachable_bounds={'lower_bounds': {'f_1': 0.5404804141088667, 'f_2': 0.5953436845387152, 'f_3': 0.5933530879742348}, 'upper_bounds': {'f_1': 0.5411193974368745, 'f_2': 0.595923791866752, 'f_3': 0.5939325340386069}})]"
      ]
     },
     "execution_count": 27,
>>>>>>> 89f545f (work on getting some visualizations out)
     "metadata": {},
     "output_type": "execute_result"
    }
   ],
   "source": [
    "all_resp"
   ]
  },
  {
   "cell_type": "code",
<<<<<<< HEAD
   "execution_count": 81,
   "metadata": {},
   "outputs": [
    {
     "name": "stdout",
     "output_type": "stream",
     "text": [
      "mean\n"
     ]
    },
    {
     "data": {
      "text/plain": [
       "[NAUTILI_Response(step_number=4, distance_to_front=100.0, reference_points={'DM1': {'f_1': 0.48, 'f_2': 0.47, 'f_3': 0.5}, 'DM2': {'f_1': 0.47, 'f_2': 0.58, 'f_3': 0.5}, 'DM3': {'f_1': 0.5, 'f_2': 0.58, 'f_3': 0.5}}, improvement_directions={'DM1': array([0.0963751 , 0.14873759, 0.03401261]), 'DM2': array([0.1063751 , 0.03873759, 0.03401261]), 'DM3': array([0.0763751 , 0.03873759, 0.03401261])}, group_improvement_direction={'f_1': 0.09304176986029074, 'f_2': 0.07540425715659409, 'f_3': 0.03401260516054805}, navigation_point={'f_1': 0.5762912880612275, 'f_2': 0.6186696576835299, 'f_3': 0.5339814659494789}, reachable_solution={'f_1': 0.5762912880612275, 'f_2': 0.6186696576835299, 'f_3': 0.5339814659494789}, reachable_bounds={'lower_bounds': {'f_1': 0.5762918077432057, 'f_2': 0.6186701696849638, 'f_3': 0.5339814864191537}, 'upper_bounds': {'f_1': 0.5762912880612275, 'f_2': 0.6186696576835299, 'f_3': 0.5339814659494789}})]"
      ]
     },
     "execution_count": 81,
     "metadata": {},
     "output_type": "execute_result"
    }
   ],
   "source": [
    "all_resp2 = nautili_all_steps(problem, 1, rps, all_resp, pref_agg_method=\"mean\")\n",
    "all_resp2"
   ]
  },
  {
   "cell_type": "code",
   "execution_count": 82,
   "metadata": {},
   "outputs": [
    {
     "data": {
      "text/plain": [
       "[NAUTILI_Response(step_number=1, distance_to_front=33.33333333333335, reference_points={'DM1': {'f_1': 0.8, 'f_2': 0.7, 'f_3': 0.6}, 'DM2': {'f_1': 0.7, 'f_2': 0.8, 'f_3': 0.5}, 'DM3': {'f_1': 0.5, 'f_2': 0.6, 'f_3': 0.8}}, improvement_directions={'DM1': array([0.2, 0.3, 0.4]), 'DM2': array([0.3, 0.2, 0.5]), 'DM3': array([0.5, 0.4, 0.2])}, group_improvement_direction={'f_1': 0.3333333333333333, 'f_2': 0.3, 'f_3': 0.3666666666666667}, navigation_point={'f_1': 0.8587917010645413, 'f_2': 0.872912530163309, 'f_3': 0.8446708683868493}, reachable_solution={'f_1': 0.5763751031936241, 'f_2': 0.6187375904899274, 'f_3': 0.534012605160548}, reachable_bounds={'lower_bounds': {'f_1': 3.2847892802852635e-17, 'f_2': 0.0, 'f_3': 0.0}, 'upper_bounds': {'f_1': 0.8587917010645413, 'f_2': 0.872912530163309, 'f_3': 0.8446708683868493}}),\n",
       " NAUTILI_Response(step_number=2, distance_to_front=66.66666666666669, reference_points={'DM1': {'f_1': 0.8, 'f_2': 0.7, 'f_3': 0.6}, 'DM2': {'f_1': 0.7, 'f_2': 0.8, 'f_3': 0.5}, 'DM3': {'f_1': 0.5, 'f_2': 0.6, 'f_3': 0.8}}, improvement_directions={'DM1': array([0.2, 0.3, 0.4]), 'DM2': array([0.3, 0.2, 0.5]), 'DM3': array([0.5, 0.4, 0.2])}, group_improvement_direction=None, navigation_point={'f_1': 0.7175834021290827, 'f_2': 0.7458250603266182, 'f_3': 0.6893417367736987}, reachable_solution={'f_1': 0.5763751031936241, 'f_2': 0.6187375904899274, 'f_3': 0.534012605160548}, reachable_bounds={'lower_bounds': {'f_1': 4.4382672724306995e-17, 'f_2': 0.0996767249169848, 'f_3': 0.0}, 'upper_bounds': {'f_1': 0.7175834021290827, 'f_2': 0.7458250603266182, 'f_3': 0.6893417367736987}}),\n",
       " NAUTILI_Response(step_number=3, distance_to_front=100.0, reference_points={'DM1': {'f_1': 0.8, 'f_2': 0.7, 'f_3': 0.6}, 'DM2': {'f_1': 0.7, 'f_2': 0.8, 'f_3': 0.5}, 'DM3': {'f_1': 0.5, 'f_2': 0.6, 'f_3': 0.8}}, improvement_directions={'DM1': array([0.2, 0.3, 0.4]), 'DM2': array([0.3, 0.2, 0.5]), 'DM3': array([0.5, 0.4, 0.2])}, group_improvement_direction=None, navigation_point={'f_1': 0.5763751031936241, 'f_2': 0.6187375904899274, 'f_3': 0.534012605160548}, reachable_solution={'f_1': 0.5763751031936241, 'f_2': 0.6187375904899274, 'f_3': 0.534012605160548}, reachable_bounds={'lower_bounds': {'f_1': 0.5761895197198036, 'f_2': 0.6185652038157777, 'f_3': 0.5338148923861006}, 'upper_bounds': {'f_1': 0.5763751031936241, 'f_2': 0.6187375904899274, 'f_3': 0.534012605160548}}),\n",
       " NAUTILI_Response(step_number=4, distance_to_front=100.0, reference_points={'DM1': {'f_1': 0.48, 'f_2': 0.47, 'f_3': 0.5}, 'DM2': {'f_1': 0.47, 'f_2': 0.58, 'f_3': 0.5}, 'DM3': {'f_1': 0.5, 'f_2': 0.58, 'f_3': 0.5}}, improvement_directions={'DM1': array([0.0963751 , 0.14873759, 0.03401261]), 'DM2': array([0.1063751 , 0.03873759, 0.03401261]), 'DM3': array([0.0763751 , 0.03873759, 0.03401261])}, group_improvement_direction={'f_1': 0.09304176986029074, 'f_2': 0.07540425715659409, 'f_3': 0.03401260516054805}, navigation_point={'f_1': 0.5762912880612275, 'f_2': 0.6186696576835299, 'f_3': 0.5339814659494789}, reachable_solution={'f_1': 0.5762912880612275, 'f_2': 0.6186696576835299, 'f_3': 0.5339814659494789}, reachable_bounds={'lower_bounds': {'f_1': 0.5762918077432057, 'f_2': 0.6186701696849638, 'f_3': 0.5339814864191537}, 'upper_bounds': {'f_1': 0.5762912880612275, 'f_2': 0.6186696576835299, 'f_3': 0.5339814659494789}})]"
      ]
     },
     "execution_count": 82,
     "metadata": {},
     "output_type": "execute_result"
    }
   ],
   "source": [
    "all_resp3 = all_resp + all_resp2\n",
    "all_resp3"
   ]
  },
  {
   "cell_type": "code",
   "execution_count": 83,
   "metadata": {},
   "outputs": [],
   "source": [
    "# muuta all respistä ottaan oleelliset\n",
    "        #obj_names = [f\"f{i}\" for i in range(len(obj[0]))]\n",
    "obj_names = [\"f_1\", \"f_2\", \"f_3\"]\n",
    "\n",
    "df = pd.DataFrame(all_resp3)#p[0]\n",
    "df.to_csv(\"results/dtlz2_mean_stepback.csv\", index=False)"
   ]
  },
  {
   "cell_type": "code",
   "execution_count": 84,
   "metadata": {},
   "outputs": [],
   "source": [
    "all_resp = all_resp3"
   ]
  },
  {
   "cell_type": "code",
   "execution_count": 85,
=======
   "execution_count": 28,
>>>>>>> 89f545f (work on getting some visualizations out)
   "metadata": {},
   "outputs": [],
   "source": [
    "lower_bounds = pd.DataFrame(\n",
    "    [response.reachable_bounds[\"lower_bounds\"] for response in all_resp]\n",
    ")\n",
    "upper_bounds = pd.DataFrame(\n",
    "    [response.reachable_bounds[\"upper_bounds\"] for response in all_resp]\n",
    ")\n",
    "reference_points = pd.DataFrame(\n",
    "    [response.reference_points for response in all_resp]\n",
    ")\n",
    "improvement_directions = pd.DataFrame(\n",
    "    [response.improvement_directions for response in all_resp]\n",
    ")\n",
    "navigation_points = pd.DataFrame(\n",
    "    [response.navigation_point for response in all_resp]\n",
    ")\n",
    "reachable_sols = pd.DataFrame(\n",
    "    [response.reachable_solution for response in all_resp]\n",
    ")\n",
    "group_dirs = pd.DataFrame(\n",
    "    [response.group_improvement_direction for response in all_resp[:1]]\n",
<<<<<<< HEAD
    ")\n",
    "gp = objective_dict_to_numpy_array(problem, initial_response.navigation_point) - group_dirs.to_numpy()\n",
    "gr = group_dirs.to_numpy()"
=======
    ")"
>>>>>>> 89f545f (work on getting some visualizations out)
   ]
  },
  {
   "cell_type": "code",
<<<<<<< HEAD
   "execution_count": 86,
=======
   "execution_count": 29,
>>>>>>> 89f545f (work on getting some visualizations out)
   "metadata": {},
   "outputs": [
    {
     "data": {
      "text/html": [
       "<div>\n",
       "<style scoped>\n",
       "    .dataframe tbody tr th:only-of-type {\n",
       "        vertical-align: middle;\n",
       "    }\n",
       "\n",
       "    .dataframe tbody tr th {\n",
       "        vertical-align: top;\n",
       "    }\n",
       "\n",
       "    .dataframe thead th {\n",
       "        text-align: right;\n",
       "    }\n",
       "</style>\n",
       "<table border=\"1\" class=\"dataframe\">\n",
       "  <thead>\n",
       "    <tr style=\"text-align: right;\">\n",
       "      <th></th>\n",
       "      <th>f_1</th>\n",
       "      <th>f_2</th>\n",
       "      <th>f_3</th>\n",
       "    </tr>\n",
       "  </thead>\n",
       "  <tbody>\n",
       "    <tr>\n",
       "      <th>0</th>\n",
<<<<<<< HEAD
       "      <td>0.093042</td>\n",
       "      <td>0.075404</td>\n",
       "      <td>0.034013</td>\n",
       "    </tr>\n",
       "  </tbody>\n",
       "</table>\n",
       "</div>"
      ],
      "text/plain": [
       "        f_1       f_2       f_3\n",
       "0  0.093042  0.075404  0.034013"
      ]
     },
     "execution_count": 86,
     "metadata": {},
     "output_type": "execute_result"
    }
   ],
   "source": [
    "group_dirs = pd.DataFrame(\n",
    "    [response.group_improvement_direction for response in all_resp[3:]]\n",
    ")\n",
    "group_dirs"
   ]
  },
  {
   "cell_type": "code",
   "execution_count": 87,
   "metadata": {},
   "outputs": [
    {
     "data": {
      "text/html": [
       "<div>\n",
       "<style scoped>\n",
       "    .dataframe tbody tr th:only-of-type {\n",
       "        vertical-align: middle;\n",
       "    }\n",
       "\n",
       "    .dataframe tbody tr th {\n",
       "        vertical-align: top;\n",
       "    }\n",
       "\n",
       "    .dataframe thead th {\n",
       "        text-align: right;\n",
       "    }\n",
       "</style>\n",
       "<table border=\"1\" class=\"dataframe\">\n",
       "  <thead>\n",
       "    <tr style=\"text-align: right;\">\n",
       "      <th></th>\n",
       "      <th>f_1</th>\n",
       "      <th>f_2</th>\n",
       "      <th>f_3</th>\n",
       "    </tr>\n",
       "  </thead>\n",
       "  <tbody>\n",
       "    <tr>\n",
       "      <th>0</th>\n",
       "      <td>0.858792</td>\n",
       "      <td>0.872913</td>\n",
       "      <td>0.844671</td>\n",
       "    </tr>\n",
       "    <tr>\n",
       "      <th>1</th>\n",
       "      <td>0.717583</td>\n",
       "      <td>0.745825</td>\n",
       "      <td>0.689342</td>\n",
       "    </tr>\n",
       "    <tr>\n",
       "      <th>2</th>\n",
       "      <td>0.576375</td>\n",
       "      <td>0.618738</td>\n",
       "      <td>0.534013</td>\n",
       "    </tr>\n",
       "    <tr>\n",
       "      <th>3</th>\n",
       "      <td>0.576291</td>\n",
       "      <td>0.618670</td>\n",
       "      <td>0.533981</td>\n",
=======
       "      <td>0.847040</td>\n",
       "      <td>0.865308</td>\n",
       "      <td>0.864644</td>\n",
       "    </tr>\n",
       "    <tr>\n",
       "      <th>1</th>\n",
       "      <td>0.694080</td>\n",
       "      <td>0.730616</td>\n",
       "      <td>0.729288</td>\n",
       "    </tr>\n",
       "    <tr>\n",
       "      <th>2</th>\n",
       "      <td>0.541119</td>\n",
       "      <td>0.595924</td>\n",
       "      <td>0.593933</td>\n",
>>>>>>> 89f545f (work on getting some visualizations out)
       "    </tr>\n",
       "  </tbody>\n",
       "</table>\n",
       "</div>"
      ],
      "text/plain": [
       "        f_1       f_2       f_3\n",
<<<<<<< HEAD
       "0  0.858792  0.872913  0.844671\n",
       "1  0.717583  0.745825  0.689342\n",
       "2  0.576375  0.618738  0.534013\n",
       "3  0.576291  0.618670  0.533981"
      ]
     },
     "execution_count": 87,
=======
       "0  0.847040  0.865308  0.864644\n",
       "1  0.694080  0.730616  0.729288\n",
       "2  0.541119  0.595924  0.593933"
      ]
     },
     "execution_count": 29,
>>>>>>> 89f545f (work on getting some visualizations out)
     "metadata": {},
     "output_type": "execute_result"
    }
   ],
   "source": [
    "navigation_points"
   ]
  },
  {
   "cell_type": "code",
<<<<<<< HEAD
   "execution_count": 88,
=======
   "execution_count": 30,
>>>>>>> 89f545f (work on getting some visualizations out)
   "metadata": {},
   "outputs": [
    {
     "data": {
      "text/plain": [
<<<<<<< HEAD
       "[array([0.8587917 , 0.87291253, 0.84467087]),\n",
       " array([0.7175834 , 0.74582506, 0.68934174]),\n",
       " array([0.5763751 , 0.61873759, 0.53401261])]"
      ]
     },
     "execution_count": 88,
=======
       "[array([0.8470398 , 0.86530793, 0.86464418]),\n",
       " array([0.6940796 , 0.73061586, 0.72928836]),\n",
       " array([0.5411194 , 0.59592379, 0.59393253])]"
      ]
     },
     "execution_count": 30,
>>>>>>> 89f545f (work on getting some visualizations out)
     "metadata": {},
     "output_type": "execute_result"
    }
   ],
   "source": [
    "nav_points = []\n",
    "for i in range(3):\n",
    "    nav_points.append(navigation_points.iloc[i].to_numpy())\n",
    "nav_points"
   ]
  },
  {
   "cell_type": "code",
<<<<<<< HEAD
   "execution_count": 89,
=======
   "execution_count": 31,
>>>>>>> 89f545f (work on getting some visualizations out)
   "metadata": {},
   "outputs": [
    {
     "data": {
      "text/plain": [
       "[('DM1',\n",
<<<<<<< HEAD
       "  0      {'f_1': 0.8, 'f_2': 0.7, 'f_3': 0.6}\n",
       "  1      {'f_1': 0.8, 'f_2': 0.7, 'f_3': 0.6}\n",
       "  2      {'f_1': 0.8, 'f_2': 0.7, 'f_3': 0.6}\n",
       "  3    {'f_1': 0.48, 'f_2': 0.47, 'f_3': 0.5}\n",
       "  Name: DM1, dtype: object),\n",
       " ('DM2',\n",
       "  0      {'f_1': 0.7, 'f_2': 0.8, 'f_3': 0.5}\n",
       "  1      {'f_1': 0.7, 'f_2': 0.8, 'f_3': 0.5}\n",
       "  2      {'f_1': 0.7, 'f_2': 0.8, 'f_3': 0.5}\n",
       "  3    {'f_1': 0.47, 'f_2': 0.58, 'f_3': 0.5}\n",
       "  Name: DM2, dtype: object),\n",
       " ('DM3',\n",
       "  0     {'f_1': 0.5, 'f_2': 0.6, 'f_3': 0.8}\n",
       "  1     {'f_1': 0.5, 'f_2': 0.6, 'f_3': 0.8}\n",
       "  2     {'f_1': 0.5, 'f_2': 0.6, 'f_3': 0.8}\n",
       "  3    {'f_1': 0.5, 'f_2': 0.58, 'f_3': 0.5}\n",
       "  Name: DM3, dtype: object)]"
      ]
     },
     "execution_count": 89,
=======
       "  0    {'f_1': 0.8, 'f_2': 0.7, 'f_3': 0.6}\n",
       "  1    {'f_1': 0.8, 'f_2': 0.7, 'f_3': 0.6}\n",
       "  2    {'f_1': 0.8, 'f_2': 0.7, 'f_3': 0.6}\n",
       "  Name: DM1, dtype: object),\n",
       " ('DM2',\n",
       "  0    {'f_1': 0.7, 'f_2': 0.8, 'f_3': 0.5}\n",
       "  1    {'f_1': 0.7, 'f_2': 0.8, 'f_3': 0.5}\n",
       "  2    {'f_1': 0.7, 'f_2': 0.8, 'f_3': 0.5}\n",
       "  Name: DM2, dtype: object),\n",
       " ('DM3',\n",
       "  0    {'f_1': 0.5, 'f_2': 0.6, 'f_3': 0.8}\n",
       "  1    {'f_1': 0.5, 'f_2': 0.6, 'f_3': 0.8}\n",
       "  2    {'f_1': 0.5, 'f_2': 0.6, 'f_3': 0.8}\n",
       "  Name: DM3, dtype: object)]"
      ]
     },
     "execution_count": 31,
>>>>>>> 89f545f (work on getting some visualizations out)
     "metadata": {},
     "output_type": "execute_result"
    }
   ],
   "source": [
    "rps = []\n",
    "for key, p in reference_points.items():\n",
    "    rps.append((key, p))\n",
    "rps"
   ]
  },
  {
   "cell_type": "code",
<<<<<<< HEAD
   "execution_count": 90,
=======
   "execution_count": 32,
>>>>>>> 89f545f (work on getting some visualizations out)
   "metadata": {},
   "outputs": [
    {
     "data": {
      "text/html": [
       "<div>\n",
       "<style scoped>\n",
       "    .dataframe tbody tr th:only-of-type {\n",
       "        vertical-align: middle;\n",
       "    }\n",
       "\n",
       "    .dataframe tbody tr th {\n",
       "        vertical-align: top;\n",
       "    }\n",
       "\n",
       "    .dataframe thead th {\n",
       "        text-align: right;\n",
       "    }\n",
       "</style>\n",
       "<table border=\"1\" class=\"dataframe\">\n",
       "  <thead>\n",
       "    <tr style=\"text-align: right;\">\n",
       "      <th></th>\n",
       "      <th>0</th>\n",
       "      <th>1</th>\n",
       "    </tr>\n",
       "  </thead>\n",
       "  <tbody>\n",
       "    <tr>\n",
       "      <th>0</th>\n",
       "      <td>DM1</td>\n",
<<<<<<< HEAD
       "      <td>0      {'f_1': 0.8, 'f_2': 0.7, 'f_3': 0.6}\n",
       "1 ...</td>\n",
=======
       "      <td>0    {'f_1': 0.8, 'f_2': 0.7, 'f_3': 0.6}\n",
       "1   ...</td>\n",
>>>>>>> 89f545f (work on getting some visualizations out)
       "    </tr>\n",
       "    <tr>\n",
       "      <th>1</th>\n",
       "      <td>DM2</td>\n",
<<<<<<< HEAD
       "      <td>0      {'f_1': 0.7, 'f_2': 0.8, 'f_3': 0.5}\n",
       "1 ...</td>\n",
=======
       "      <td>0    {'f_1': 0.7, 'f_2': 0.8, 'f_3': 0.5}\n",
       "1   ...</td>\n",
>>>>>>> 89f545f (work on getting some visualizations out)
       "    </tr>\n",
       "    <tr>\n",
       "      <th>2</th>\n",
       "      <td>DM3</td>\n",
<<<<<<< HEAD
       "      <td>0     {'f_1': 0.5, 'f_2': 0.6, 'f_3': 0.8}\n",
       "1  ...</td>\n",
=======
       "      <td>0    {'f_1': 0.5, 'f_2': 0.6, 'f_3': 0.8}\n",
       "1   ...</td>\n",
>>>>>>> 89f545f (work on getting some visualizations out)
       "    </tr>\n",
       "  </tbody>\n",
       "</table>\n",
       "</div>"
      ],
      "text/plain": [
       "     0                                                  1\n",
<<<<<<< HEAD
       "0  DM1  0      {'f_1': 0.8, 'f_2': 0.7, 'f_3': 0.6}\n",
       "1 ...\n",
       "1  DM2  0      {'f_1': 0.7, 'f_2': 0.8, 'f_3': 0.5}\n",
       "1 ...\n",
       "2  DM3  0     {'f_1': 0.5, 'f_2': 0.6, 'f_3': 0.8}\n",
       "1  ..."
      ]
     },
     "execution_count": 90,
=======
       "0  DM1  0    {'f_1': 0.8, 'f_2': 0.7, 'f_3': 0.6}\n",
       "1   ...\n",
       "1  DM2  0    {'f_1': 0.7, 'f_2': 0.8, 'f_3': 0.5}\n",
       "1   ...\n",
       "2  DM3  0    {'f_1': 0.5, 'f_2': 0.6, 'f_3': 0.8}\n",
       "1   ..."
      ]
     },
     "execution_count": 32,
>>>>>>> 89f545f (work on getting some visualizations out)
     "metadata": {},
     "output_type": "execute_result"
    }
   ],
   "source": [
    "rp_df = pd.DataFrame(rps)\n",
    "rp_df"
   ]
  },
  {
   "cell_type": "code",
<<<<<<< HEAD
   "execution_count": 105,
   "metadata": {},
   "outputs": [
    {
     "data": {
      "text/plain": [
       "{'DM1': {'f_1': 0.48, 'f_2': 0.47, 'f_3': 0.5},\n",
       " 'DM2': {'f_1': 0.47, 'f_2': 0.58, 'f_3': 0.5},\n",
       " 'DM3': {'f_1': 0.5, 'f_2': 0.58, 'f_3': 0.5}}"
      ]
     },
     "execution_count": 105,
     "metadata": {},
     "output_type": "execute_result"
    }
   ],
   "source": [
    "rr = all_resp[-1].reference_points\n",
    "rr"
   ]
  },
  {
   "cell_type": "code",
   "execution_count": 100,
   "metadata": {},
   "outputs": [
    {
     "data": {
      "text/html": [
       "<div>\n",
       "<style scoped>\n",
       "    .dataframe tbody tr th:only-of-type {\n",
       "        vertical-align: middle;\n",
       "    }\n",
       "\n",
       "    .dataframe tbody tr th {\n",
       "        vertical-align: top;\n",
       "    }\n",
       "\n",
       "    .dataframe thead th {\n",
       "        text-align: right;\n",
       "    }\n",
       "</style>\n",
       "<table border=\"1\" class=\"dataframe\">\n",
       "  <thead>\n",
       "    <tr style=\"text-align: right;\">\n",
       "      <th></th>\n",
       "      <th>DM1</th>\n",
       "      <th>DM2</th>\n",
       "      <th>DM3</th>\n",
       "    </tr>\n",
       "  </thead>\n",
       "  <tbody>\n",
       "    <tr>\n",
       "      <th>0</th>\n",
       "      <td>{'f_1': 0.8, 'f_2': 0.7, 'f_3': 0.6}</td>\n",
       "      <td>{'f_1': 0.7, 'f_2': 0.8, 'f_3': 0.5}</td>\n",
       "      <td>{'f_1': 0.5, 'f_2': 0.6, 'f_3': 0.8}</td>\n",
       "    </tr>\n",
       "    <tr>\n",
       "      <th>1</th>\n",
       "      <td>{'f_1': 0.8, 'f_2': 0.7, 'f_3': 0.6}</td>\n",
       "      <td>{'f_1': 0.7, 'f_2': 0.8, 'f_3': 0.5}</td>\n",
       "      <td>{'f_1': 0.5, 'f_2': 0.6, 'f_3': 0.8}</td>\n",
       "    </tr>\n",
       "    <tr>\n",
       "      <th>2</th>\n",
       "      <td>{'f_1': 0.8, 'f_2': 0.7, 'f_3': 0.6}</td>\n",
       "      <td>{'f_1': 0.7, 'f_2': 0.8, 'f_3': 0.5}</td>\n",
       "      <td>{'f_1': 0.5, 'f_2': 0.6, 'f_3': 0.8}</td>\n",
       "    </tr>\n",
       "    <tr>\n",
       "      <th>3</th>\n",
       "      <td>{'f_1': 0.48, 'f_2': 0.47, 'f_3': 0.5}</td>\n",
       "      <td>{'f_1': 0.47, 'f_2': 0.58, 'f_3': 0.5}</td>\n",
       "      <td>{'f_1': 0.5, 'f_2': 0.58, 'f_3': 0.5}</td>\n",
       "    </tr>\n",
       "  </tbody>\n",
       "</table>\n",
       "</div>"
      ],
      "text/plain": [
       "                                      DM1  \\\n",
       "0    {'f_1': 0.8, 'f_2': 0.7, 'f_3': 0.6}   \n",
       "1    {'f_1': 0.8, 'f_2': 0.7, 'f_3': 0.6}   \n",
       "2    {'f_1': 0.8, 'f_2': 0.7, 'f_3': 0.6}   \n",
       "3  {'f_1': 0.48, 'f_2': 0.47, 'f_3': 0.5}   \n",
       "\n",
       "                                      DM2  \\\n",
       "0    {'f_1': 0.7, 'f_2': 0.8, 'f_3': 0.5}   \n",
       "1    {'f_1': 0.7, 'f_2': 0.8, 'f_3': 0.5}   \n",
       "2    {'f_1': 0.7, 'f_2': 0.8, 'f_3': 0.5}   \n",
       "3  {'f_1': 0.47, 'f_2': 0.58, 'f_3': 0.5}   \n",
       "\n",
       "                                     DM3  \n",
       "0   {'f_1': 0.5, 'f_2': 0.6, 'f_3': 0.8}  \n",
       "1   {'f_1': 0.5, 'f_2': 0.6, 'f_3': 0.8}  \n",
       "2   {'f_1': 0.5, 'f_2': 0.6, 'f_3': 0.8}  \n",
       "3  {'f_1': 0.5, 'f_2': 0.58, 'f_3': 0.5}  "
      ]
     },
     "execution_count": 100,
     "metadata": {},
     "output_type": "execute_result"
    }
   ],
   "source": [
    "reference_points"
   ]
  },
  {
   "cell_type": "code",
   "execution_count": 111,
   "metadata": {},
   "outputs": [
    {
     "data": {
      "text/plain": [
       "{'f_1': [0.48, 0.47, 0.5], 'f_2': [0.47, 0.58, 0.58], 'f_3': [0.5, 0.5, 0.5]}"
      ]
     },
     "execution_count": 111,
     "metadata": {},
     "output_type": "execute_result"
    }
   ],
   "source": [
    "## !! how to convert Dict to more normal stuff\n",
    "new_d = {}\n",
    "for sub in rr.values():              # Python 3: use d.values()\n",
    "    for key, value in sub.items():  # Python 3: use d.items()\n",
    "        new_d.setdefault(key, []).append(value)\n",
    "new_d"
   ]
  },
  {
   "cell_type": "code",
   "execution_count": 110,
   "metadata": {},
   "outputs": [
    {
     "data": {
      "text/html": [
       "<div>\n",
       "<style scoped>\n",
       "    .dataframe tbody tr th:only-of-type {\n",
       "        vertical-align: middle;\n",
       "    }\n",
       "\n",
       "    .dataframe tbody tr th {\n",
       "        vertical-align: top;\n",
       "    }\n",
       "\n",
       "    .dataframe thead th {\n",
       "        text-align: right;\n",
       "    }\n",
       "</style>\n",
       "<table border=\"1\" class=\"dataframe\">\n",
       "  <thead>\n",
       "    <tr style=\"text-align: right;\">\n",
       "      <th></th>\n",
       "      <th>f_1</th>\n",
       "      <th>f_2</th>\n",
       "      <th>f_3</th>\n",
       "    </tr>\n",
       "  </thead>\n",
       "  <tbody>\n",
       "    <tr>\n",
       "      <th>0</th>\n",
       "      <td>0.48</td>\n",
       "      <td>0.47</td>\n",
       "      <td>0.5</td>\n",
       "    </tr>\n",
       "    <tr>\n",
       "      <th>1</th>\n",
       "      <td>0.47</td>\n",
       "      <td>0.58</td>\n",
       "      <td>0.5</td>\n",
       "    </tr>\n",
       "    <tr>\n",
       "      <th>2</th>\n",
       "      <td>0.50</td>\n",
       "      <td>0.58</td>\n",
       "      <td>0.5</td>\n",
       "    </tr>\n",
       "  </tbody>\n",
       "</table>\n",
       "</div>"
      ],
      "text/plain": [
       "    f_1   f_2  f_3\n",
       "0  0.48  0.47  0.5\n",
       "1  0.47  0.58  0.5\n",
       "2  0.50  0.58  0.5"
      ]
     },
     "execution_count": 110,
     "metadata": {},
     "output_type": "execute_result"
    }
   ],
   "source": [
    "rr2 = pd.DataFrame(new_d)\n",
    "rr2"
   ]
  },
  {
   "cell_type": "code",
   "execution_count": 99,
   "metadata": {},
   "outputs": [
    {
     "data": {
      "text/html": [
       "<div>\n",
       "<style scoped>\n",
       "    .dataframe tbody tr th:only-of-type {\n",
       "        vertical-align: middle;\n",
       "    }\n",
       "\n",
       "    .dataframe tbody tr th {\n",
       "        vertical-align: top;\n",
       "    }\n",
       "\n",
       "    .dataframe thead th {\n",
       "        text-align: right;\n",
       "    }\n",
       "</style>\n",
       "<table border=\"1\" class=\"dataframe\">\n",
       "  <thead>\n",
       "    <tr style=\"text-align: right;\">\n",
       "      <th></th>\n",
       "      <th>DM1</th>\n",
       "      <th>DM2</th>\n",
       "      <th>DM3</th>\n",
       "    </tr>\n",
       "  </thead>\n",
       "  <tbody>\n",
       "    <tr>\n",
       "      <th>0</th>\n",
       "      <td>[0.19999999999999996, 0.30000000000000004, 0.4]</td>\n",
       "      <td>[0.30000000000000004, 0.19999999999999996, 0.5]</td>\n",
       "      <td>[0.5, 0.4, 0.19999999999999996]</td>\n",
       "    </tr>\n",
       "    <tr>\n",
       "      <th>1</th>\n",
       "      <td>[0.19999999999999996, 0.30000000000000004, 0.4]</td>\n",
       "      <td>[0.30000000000000004, 0.19999999999999996, 0.5]</td>\n",
       "      <td>[0.5, 0.4, 0.19999999999999996]</td>\n",
       "    </tr>\n",
       "    <tr>\n",
       "      <th>2</th>\n",
       "      <td>[0.19999999999999996, 0.30000000000000004, 0.4]</td>\n",
       "      <td>[0.30000000000000004, 0.19999999999999996, 0.5]</td>\n",
       "      <td>[0.5, 0.4, 0.19999999999999996]</td>\n",
       "    </tr>\n",
       "    <tr>\n",
       "      <th>3</th>\n",
       "      <td>[0.09637510319362408, 0.1487375904899274, 0.03...</td>\n",
       "      <td>[0.10637510319362409, 0.03873759048992742, 0.0...</td>\n",
       "      <td>[0.07637510319362406, 0.03873759048992742, 0.0...</td>\n",
       "    </tr>\n",
       "  </tbody>\n",
       "</table>\n",
       "</div>"
      ],
      "text/plain": [
       "                                                 DM1  \\\n",
       "0    [0.19999999999999996, 0.30000000000000004, 0.4]   \n",
       "1    [0.19999999999999996, 0.30000000000000004, 0.4]   \n",
       "2    [0.19999999999999996, 0.30000000000000004, 0.4]   \n",
       "3  [0.09637510319362408, 0.1487375904899274, 0.03...   \n",
       "\n",
       "                                                 DM2  \\\n",
       "0    [0.30000000000000004, 0.19999999999999996, 0.5]   \n",
       "1    [0.30000000000000004, 0.19999999999999996, 0.5]   \n",
       "2    [0.30000000000000004, 0.19999999999999996, 0.5]   \n",
       "3  [0.10637510319362409, 0.03873759048992742, 0.0...   \n",
       "\n",
       "                                                 DM3  \n",
       "0                    [0.5, 0.4, 0.19999999999999996]  \n",
       "1                    [0.5, 0.4, 0.19999999999999996]  \n",
       "2                    [0.5, 0.4, 0.19999999999999996]  \n",
       "3  [0.07637510319362406, 0.03873759048992742, 0.0...  "
      ]
     },
     "execution_count": 99,
     "metadata": {},
     "output_type": "execute_result"
    }
   ],
   "source": [
    "improvement_directions"
   ]
  },
  {
   "cell_type": "code",
   "execution_count": 112,
   "metadata": {},
   "outputs": [
    {
     "data": {
      "text/plain": [
       "[('f_1', [0.48, 0.47, 0.5]),\n",
       " ('f_2', [0.47, 0.58, 0.58]),\n",
       " ('f_3', [0.5, 0.5, 0.5])]"
      ]
     },
     "execution_count": 112,
     "metadata": {},
     "output_type": "execute_result"
    }
   ],
   "source": [
    "referps = []\n",
    "for key, p in new_d.items():\n",
    "    referps.append((key, p))\n",
    "referps"
   ]
  },
  {
   "cell_type": "code",
   "execution_count": 115,
   "metadata": {},
   "outputs": [
    {
     "data": {
      "text/plain": [
       "[0.47, 0.58, 0.58]"
      ]
     },
     "execution_count": 115,
     "metadata": {},
     "output_type": "execute_result"
    }
   ],
   "source": [
    "referps[1][1] # for f2 for all DMs"
   ]
  },
  {
   "cell_type": "code",
   "execution_count": 118,
   "metadata": {},
   "outputs": [
    {
     "data": {
      "text/plain": [
       "[0.48, 0.47, 0.5]"
      ]
     },
     "execution_count": 118,
     "metadata": {},
     "output_type": "execute_result"
    }
   ],
   "source": [
    "referps[0][1] # for f2 for all DMs"
   ]
  },
  {
   "cell_type": "code",
   "execution_count": 91,
=======
   "execution_count": 33,
>>>>>>> 89f545f (work on getting some visualizations out)
   "metadata": {},
   "outputs": [
    {
     "data": {
      "text/plain": [
       "[('DM1',\n",
<<<<<<< HEAD
       "  0      [0.19999999999999996, 0.30000000000000004, 0.4]\n",
       "  1      [0.19999999999999996, 0.30000000000000004, 0.4]\n",
       "  2      [0.19999999999999996, 0.30000000000000004, 0.4]\n",
       "  3    [0.09637510319362408, 0.1487375904899274, 0.03...\n",
       "  Name: DM1, dtype: object),\n",
       " ('DM2',\n",
       "  0      [0.30000000000000004, 0.19999999999999996, 0.5]\n",
       "  1      [0.30000000000000004, 0.19999999999999996, 0.5]\n",
       "  2      [0.30000000000000004, 0.19999999999999996, 0.5]\n",
       "  3    [0.10637510319362409, 0.03873759048992742, 0.0...\n",
       "  Name: DM2, dtype: object),\n",
       " ('DM3',\n",
       "  0                      [0.5, 0.4, 0.19999999999999996]\n",
       "  1                      [0.5, 0.4, 0.19999999999999996]\n",
       "  2                      [0.5, 0.4, 0.19999999999999996]\n",
       "  3    [0.07637510319362406, 0.03873759048992742, 0.0...\n",
       "  Name: DM3, dtype: object)]"
      ]
     },
     "execution_count": 91,
=======
       "  0    [0.19999999999999996, 0.30000000000000004, 0.4]\n",
       "  1    [0.19999999999999996, 0.30000000000000004, 0.4]\n",
       "  2    [0.19999999999999996, 0.30000000000000004, 0.4]\n",
       "  Name: DM1, dtype: object),\n",
       " ('DM2',\n",
       "  0    [0.30000000000000004, 0.19999999999999996, 0.5]\n",
       "  1    [0.30000000000000004, 0.19999999999999996, 0.5]\n",
       "  2    [0.30000000000000004, 0.19999999999999996, 0.5]\n",
       "  Name: DM2, dtype: object),\n",
       " ('DM3',\n",
       "  0    [0.5, 0.4, 0.19999999999999996]\n",
       "  1    [0.5, 0.4, 0.19999999999999996]\n",
       "  2    [0.5, 0.4, 0.19999999999999996]\n",
       "  Name: DM3, dtype: object)]"
      ]
     },
     "execution_count": 33,
>>>>>>> 89f545f (work on getting some visualizations out)
     "metadata": {},
     "output_type": "execute_result"
    }
   ],
   "source": [
    "impr_dirs = []\n",
    "for key, p in improvement_directions.items():\n",
    "    impr_dirs.append((key, p))\n",
    "impr_dirs"
   ]
  },
  {
   "cell_type": "code",
<<<<<<< HEAD
   "execution_count": 92,
=======
   "execution_count": 34,
>>>>>>> 89f545f (work on getting some visualizations out)
   "metadata": {},
   "outputs": [
    {
     "data": {
      "text/plain": [
       "array([0.3, 0.2, 0.5])"
      ]
     },
<<<<<<< HEAD
     "execution_count": 92,
=======
     "execution_count": 34,
>>>>>>> 89f545f (work on getting some visualizations out)
     "metadata": {},
     "output_type": "execute_result"
    }
   ],
   "source": [
    "impr_dirs[1][1][0]"
   ]
  },
  {
   "cell_type": "code",
<<<<<<< HEAD
   "execution_count": 93,
=======
   "execution_count": 35,
>>>>>>> 89f545f (work on getting some visualizations out)
   "metadata": {},
   "outputs": [],
   "source": [
    "# sama juttu\n",
    "#objective_dict_to_numpy_array(problem, navigation_points.iloc[0])\n",
    "#navigation_points.iloc[0].to_numpy()"
   ]
  },
  {
   "cell_type": "code",
<<<<<<< HEAD
   "execution_count": 94,
=======
   "execution_count": 36,
>>>>>>> 89f545f (work on getting some visualizations out)
   "metadata": {},
   "outputs": [
    {
     "data": {
      "text/html": [
       "<div>\n",
       "<style scoped>\n",
       "    .dataframe tbody tr th:only-of-type {\n",
       "        vertical-align: middle;\n",
       "    }\n",
       "\n",
       "    .dataframe tbody tr th {\n",
       "        vertical-align: top;\n",
       "    }\n",
       "\n",
       "    .dataframe thead th {\n",
       "        text-align: right;\n",
       "    }\n",
       "</style>\n",
       "<table border=\"1\" class=\"dataframe\">\n",
       "  <thead>\n",
       "    <tr style=\"text-align: right;\">\n",
       "      <th></th>\n",
       "      <th>f_1</th>\n",
       "      <th>f_2</th>\n",
       "      <th>f_3</th>\n",
       "    </tr>\n",
       "  </thead>\n",
       "  <tbody>\n",
       "    <tr>\n",
       "      <th>0</th>\n",
<<<<<<< HEAD
       "      <td>0.858792</td>\n",
       "      <td>0.872913</td>\n",
       "      <td>0.844671</td>\n",
       "    </tr>\n",
       "    <tr>\n",
       "      <th>1</th>\n",
       "      <td>0.717583</td>\n",
       "      <td>0.745825</td>\n",
       "      <td>0.689342</td>\n",
       "    </tr>\n",
       "    <tr>\n",
       "      <th>2</th>\n",
       "      <td>0.576375</td>\n",
       "      <td>0.618738</td>\n",
       "      <td>0.534013</td>\n",
       "    </tr>\n",
       "    <tr>\n",
       "      <th>3</th>\n",
       "      <td>0.576291</td>\n",
       "      <td>0.618670</td>\n",
       "      <td>0.533981</td>\n",
=======
       "      <td>0.847040</td>\n",
       "      <td>0.865308</td>\n",
       "      <td>0.864644</td>\n",
       "    </tr>\n",
       "    <tr>\n",
       "      <th>1</th>\n",
       "      <td>0.694080</td>\n",
       "      <td>0.730616</td>\n",
       "      <td>0.729288</td>\n",
       "    </tr>\n",
       "    <tr>\n",
       "      <th>2</th>\n",
       "      <td>0.541119</td>\n",
       "      <td>0.595924</td>\n",
       "      <td>0.593933</td>\n",
>>>>>>> 89f545f (work on getting some visualizations out)
       "    </tr>\n",
       "  </tbody>\n",
       "</table>\n",
       "</div>"
      ],
      "text/plain": [
       "        f_1       f_2       f_3\n",
<<<<<<< HEAD
       "0  0.858792  0.872913  0.844671\n",
       "1  0.717583  0.745825  0.689342\n",
       "2  0.576375  0.618738  0.534013\n",
       "3  0.576291  0.618670  0.533981"
      ]
     },
     "execution_count": 94,
=======
       "0  0.847040  0.865308  0.864644\n",
       "1  0.694080  0.730616  0.729288\n",
       "2  0.541119  0.595924  0.593933"
      ]
     },
     "execution_count": 36,
>>>>>>> 89f545f (work on getting some visualizations out)
     "metadata": {},
     "output_type": "execute_result"
    }
   ],
   "source": [
    "navigation_points"
   ]
  },
  {
   "cell_type": "code",
<<<<<<< HEAD
   "execution_count": 95,
=======
   "execution_count": 37,
>>>>>>> 89f545f (work on getting some visualizations out)
   "metadata": {},
   "outputs": [
    {
     "data": {
      "text/plain": [
<<<<<<< HEAD
       "array([[0.90695823, 0.92459574, 0.96598739]])"
      ]
     },
     "execution_count": 95,
=======
       "array([[0.63097492, 0.67504782, 0.6734465 ]])"
      ]
     },
     "execution_count": 37,
>>>>>>> 89f545f (work on getting some visualizations out)
     "metadata": {},
     "output_type": "execute_result"
    }
   ],
   "source": [
    "#g_improvement_direction = nav_point_arr - group_pref\n",
    "#- gp = gip -nav \n",
    "#gp = nav - gip\n",
    "\n",
    "# group preference point from nav point x\n",
    "#gp = navigation_points.iloc[0].to_numpy() - group_dirs.to_numpy() # this group dir is at iter 0 !,so makes sense only when iter 0 ?\n",
    "gp = objective_dict_to_numpy_array(problem, initial_response.navigation_point) - group_dirs.to_numpy()\n",
<<<<<<< HEAD
    "gr = group_dirs.to_numpy()\n",
=======
>>>>>>> 89f545f (work on getting some visualizations out)
    "gp"
   ]
  },
  {
   "cell_type": "code",
<<<<<<< HEAD
   "execution_count": 71,
=======
   "execution_count": 38,
>>>>>>> 89f545f (work on getting some visualizations out)
   "metadata": {},
   "outputs": [
    {
     "data": {
      "text/plain": [
<<<<<<< HEAD
       "array([[0.05718987, 0.03276857, 0.04616003]])"
      ]
     },
     "execution_count": 71,
=======
       "array([[0.36902508, 0.32495218, 0.3265535 ]])"
      ]
     },
     "execution_count": 38,
>>>>>>> 89f545f (work on getting some visualizations out)
     "metadata": {},
     "output_type": "execute_result"
    }
   ],
   "source": [
    "# group improvement direction\n",
    "gr = group_dirs.to_numpy()\n",
    "gr"
   ]
  },
  {
   "cell_type": "code",
<<<<<<< HEAD
   "execution_count": 120,
=======
   "execution_count": 39,
>>>>>>> 89f545f (work on getting some visualizations out)
   "metadata": {},
   "outputs": [
    {
     "data": {
      "application/vnd.plotly.v1+json": {
       "config": {
        "plotlyServerURL": "https://plot.ly"
       },
       "data": [
        {
         "hovertemplate": "f1=%{x}<br>f2=%{y}<br>f3=%{z}<extra></extra>",
         "legendgroup": "",
         "marker": {
          "color": "#636efa",
          "symbol": "circle"
         },
         "mode": "markers",
         "name": "",
         "scene": "scene",
         "showlegend": false,
         "type": "scatter3d",
         "x": [
          6.124982193376796e-17,
          1.0001313105606844,
          0.0238829168263542,
          0.998298702859701,
          0.0784303569934882,
          5.31435610601301e-17,
          0.2198686602633185,
          0.1395120108910924,
          0.0324077900117613,
          0.059670230255821,
          0.1136997957292239,
          0.1098313700695408,
          0.9982461629125102,
          0.2378092364909668,
          0.4551734615585643,
          0.98240619406131,
          0.0310319015145195,
          0.1374727180169611,
          0.7527390366883622,
          0.1819103691765633,
          0.3688851061645668,
          6.244313982363093e-18,
          0.1048357192673455,
          0.2993877800622819,
          0.2656786245667105,
          0.9021563925599296,
          0.4474310124160464,
          0.1589891733589709,
          0.9932471671688536,
          0.4710982423546753,
          0.7590974231311728,
          5.866769835425107e-17,
          0.8591417335228025,
          0.3753554858682981,
          0.2338694081615292,
          0.8036385526424953,
          0.6521919991419222,
          0.2182202961182683,
          0.9495982720374792,
          0.0337834052411428,
          0.2617415115122928,
          0.2275214634910885,
          5.711457659181688e-17,
          0.2614988692356484,
          0.2920502043669461,
          0.8070069941060617,
          0.9004531242953777,
          0.7500274166065988,
          0.9569062534283406,
          0.0011280378236222,
          0.0647663150774955,
          0.8275505108795623,
          0.1052313282625098,
          0.8119292749190234,
          0.3925986266172279,
          0.2668533216053096,
          0.000029374745103516986,
          0.0315755008797381,
          0.9064189524973127,
          0.5173239995596759,
          0.2191357269128423,
          0.054827169378367,
          0.2481548797674789,
          0.9135689206650176,
          0.7070530031421174,
          0.0574150367242203,
          0.5379759185330251,
          0.2675723346237068,
          0.1037951149740302,
          0.9824607359465732,
          0.254976340729225,
          0.0586759868919763,
          0.9735872249282268,
          0.5214685769584771,
          0.532892955792404,
          0.5454019348551111,
          0.7982786817363,
          0.986398933491944,
          0.2534435846673434,
          0.1871114334379072,
          0.264168230044417,
          0.7372247672025968,
          0.0343347456390773,
          0.1527502890848099,
          0.296627330176465,
          0.1955592671947277,
          0.9751012029538916,
          0.1074095116595623,
          0.95072946815536,
          0.0324569939453705,
          0.9782639610384486,
          0.8818585643464422,
          0.8149446716262438,
          0.4456904011821581,
          0.3595891271334164,
          0.2940743666028012,
          0.4877909589505387,
          0.1005266464467969,
          0.985431252982239,
          0.2574461132325155,
          0.4466663122494489,
          0.0292145736932566,
          0.4568551604442364,
          0.2345812873022232,
          0.387594210261945,
          1.7597510286327882e-17,
          0.9796626506275556,
          0.9431212175120012,
          0.1767903253847433,
          0.8352541226054886,
          0.1368224048630303,
          0.3492889205709291,
          0.1701919423325723,
          0.1266253675795362,
          0.2846805317104527,
          0.929494922760519,
          0.6736613923272874,
          0.3679077843509287,
          0.2942801346769755,
          0.7815928020673062,
          0.1790408985531631,
          0.6001569644970964,
          0.9622659421088244,
          0.6416378571367756,
          0.4778275965087316,
          0.8879850074051717,
          0.6834117622690341,
          0.0293676276125183,
          0.9345130034879268,
          0.9818000184385938,
          0.7000574605544191,
          0.732991507862942,
          0.952273600429844,
          0.674177837138611,
          0.9755254872827624,
          0.6557705785971389,
          0.4243314983211017,
          0.3416609296135738,
          3.0914852633823616e-17,
          0.5360184273292482,
          0.3060004436238747,
          0.1819662963779032,
          0.5985125838134099,
          0.9635570434504628,
          0.9812217519416292,
          0.5906058003162526,
          0.34921614456758,
          0.2058532419367847,
          0.992282431419928,
          0.6084941717915695,
          0.996450166047074,
          0.0271885830121712,
          0.2848972843015933,
          5.2667629118057387e-17,
          1.9582343135870102e-17,
          0.9837979094988712,
          0.0881235072160916,
          0.5736156981842339,
          0.7411454850746213,
          0.102247983584446,
          0.8567462626248488,
          0.2140577879381567,
          0.4003308450832831,
          0.4696283188403441,
          0.0751531981332229,
          0.933118908355541,
          0.6156902832715812,
          0.1812769261185059,
          0.6756042710498942,
          0.2257969375578041,
          0.0333720721303333,
          0.0254223788364795,
          0.0661493872194975,
          0.956564606288517,
          0.2794514069696359,
          2.6456652124272883e-17,
          0.9126037477515256,
          0.4324167164789358,
          0.1171004153566544,
          4.969047307705046e-17,
          0.0653831972257109,
          0.0712570326261343,
          0.3883687107233065,
          0.3717768811834284,
          0.3483633012113833,
          0.4219720974052711,
          0.9852763071117911,
          0.7509467256448696,
          0.5497855513073308,
          0.725559587098539,
          0.6663663281404075,
          0.2015430622481801,
          0.9153974229568568,
          0.2474257348926912,
          0.089650164537048,
          0.350307876100633,
          0.0271339119967431,
          0.873233785010824,
          0.507105907238181,
          0.7540873775352711,
          0.6527542369842435,
          0.9088459086425156,
          0.1856375179902735,
          0.5722044797576268,
          5.68573879972301e-17,
          0.142533345123128,
          0.573208864940495,
          0.533535831815379,
          0.4404886407076698,
          0.0663133525477726,
          0.7251796840114694,
          0.0315570263893234,
          0.6980516320776995,
          0.8228090639547693,
          0.3081418460517362,
          0.919591929087566,
          0.7494614313946685,
          0.2667562333200275,
          0.1947161067351164,
          0.9399817722499884,
          0.9284277279717432,
          0.227940566913734,
          0.503450939796119,
          0.8996009877144057,
          0.8414282230516589,
          0.4450486455353898,
          0.1806704092435725,
          0.235272802635214,
          0.3225427608030196,
          0.943056003739706,
          0.3075052427381378,
          4.644150508817863e-17,
          0.0314640956814179,
          0.0842653676305207,
          0.4736417206575135,
          0.1084047042179882,
          0.6391565282951018,
          0.1771309893706208,
          0.5060875033086308,
          0.9815218870205464,
          0.3471880301964342,
          0.7112884842408448,
          0.893789008200261,
          0.1452968190594901,
          0.8658282157970738,
          0.1387617840592461,
          0.2722467630920193,
          0.5219315846124216,
          0.2768506511332475,
          0.6530521053024827,
          0.6088848257847896,
          0.762641171700743,
          0.6368015916289985,
          0.6796362251631034,
          0.8803347093452555,
          0.3166656314967717,
          0.9018620152075594,
          0.7753082115953652,
          0.2134080382872918,
          1.147113924992733e-17,
          0.7990614149443125,
          0.1994154673137886,
          0.1005454039267871,
          0.1428106814824709,
          0.1974070491499475,
          0.4908757034240165,
          0.8644043052603599,
          5.536236763271762e-17,
          0.5652911193342175,
          0.430442361220069,
          0.4124916629353046,
          0.1311444432526451,
          0.3300690576345314,
          0.4101070210617559,
          0.3387352695265264,
          0.2610454274718443,
          0.0364856246783437,
          0.1668897235792852,
          0.8656942922336271,
          0.4927346602333672,
          0.219287213919757,
          0.8360361009308832,
          0.6793358787425284,
          0.6014792320544108,
          0.4530970933663723,
          0.9590979650889476,
          0.0621085167454137,
          0.2639049375692815,
          0.9519133013333074,
          0.9974190426796626,
          0.4696604371328957,
          0.9445045363114638,
          0.8455762214012417,
          0.105938649763676,
          0.2456383060034063,
          0.1471191016985383,
          0.9225401295474452,
          0.7383260201196176,
          0.9153004634177764,
          0.1871913768037204,
          0.7012609828848315,
          0.027122432407866,
          0.4378774448156694,
          0.0626931982439483,
          0.1400914086371457,
          0.1631575076604527,
          0.3995066775132833,
          0.5905268689285883,
          0.6297805594854384,
          0.2709515734047487,
          0.5556358260548568,
          0.8662466975963213,
          0.6121511465671882,
          0.4089249412748195,
          0.7620538363753836,
          0.6318695861248332,
          0.6332518671082414,
          0.8938194347964826,
          0.2248642472458544,
          0.5246769997777423,
          0.8622629009988183,
          0.7559275045042838,
          0.3732455179581523,
          0.0333242980640565,
          0.2675956579083,
          0.6010892968086253,
          0.4840873577413252,
          0.3968432398279091,
          0.1902202886951428,
          0.85602294893351,
          0.648213549731196,
          0.7536384041786868,
          0.8729780360397568,
          0.1441968074587817,
          0.4811141955671726,
          0.4791563834027297,
          2.1849129059441672e-17,
          2.8606394586090094e-17,
          0.7471806537143227,
          0.981551731115072,
          0.4416204340631932,
          0.6401495624654664,
          0.4320044164034331,
          0.3613667602862959,
          0.2237770557731993,
          0.0248356145873483,
          0.1901760770114904,
          0.4833457781410336,
          0.5647728484538248,
          0.5580751053346586,
          0.7516390299085226,
          0.0323388129663554,
          0.764706318564838,
          0.6235344453322984,
          0.7062821480922951,
          0.6237130466766676,
          0.6485539086028329,
          0.313603164783663,
          0.7747844602284525,
          0.0998435261849555,
          0.3126852344820252,
          0.5477518926143858,
          0.5208861368527269,
          0.7856937518083644,
          0.3858233127842764,
          0.5031483387928429,
          0.4496084169903075,
          4.8358413953830873e-17,
          0.6323997659849881,
          4.179122169781722e-17,
          0.4358836654988045,
          0.3589286138675754,
          0.7211514493606468,
          0.2841372641590421,
          0.9717499211644496,
          0.6476480495701783,
          0.310279708003371,
          0.0335497341291037,
          0.9513454946616966,
          0.7759816881702205,
          0.9152831797558912,
          3.837969981295514e-17,
          0.8120431945216238,
          0.8155871386085916,
          0.2001437576590999,
          0.8551623137574527,
          0.7163152031442908,
          6.065752683607797e-17,
          0.6956493430707273,
          0.391183225396062,
          0.1289718530862907,
          0.672920607746818,
          0.9605860578131592,
          0.0336655938215194,
          0.7936693232658545,
          0.0844932245909305,
          0.5480675097702263,
          0.9649213024782112,
          0.2069011263953265,
          0.3384194003216446,
          0.8490610307703382,
          5.175820846511562e-17,
          0.9869687600235189,
          0.2219224567409525,
          0.3508535000094637,
          0.8986519891342387,
          0.3814316980529818,
          0.4347309165681667,
          0.093401123906076,
          0.7383482373113669,
          0.7226522912120794,
          0.3882183063798843,
          0.9925126756965208,
          0.8900372243792635,
          0.1918775942569919,
          0.9319764961835248,
          0.7683658794778865,
          0.7886735147652022,
          0.8985068521200805,
          0.0796471163014271,
          0.3348509563791433,
          0.534584608484029,
          0.1445463468193013,
          0.713919134514739,
          2.3935503797496375e-17,
          0.3319296839489187,
          0.5916537709443372,
          0.7812987469826599,
          0.3045050562591057,
          0.4760944436138535,
          0.3992000603211914,
          0.9850631485279656,
          0.524763770576891,
          0.8169503458675801,
          0.1667778876901555,
          0.6975369867666829,
          0.8278023585668436,
          4.3816031442021874e-17,
          0.8341295643740706,
          0.9329104019659348,
          0.927088257733708,
          0.4957949575325523,
          0.3084459574517212,
          0.7802594535582469,
          0.2247845553182334,
          0.6305430661936244,
          0.8141832350420682,
          0.355645287459264,
          0.486646158683542,
          0.60843096037221,
          0.2977266696329697,
          0.2601910622289956,
          0.3991039481133522,
          0.8659288774354382,
          0.2573811038882906,
          0.0952269494910155,
          0.9812378433799096,
          0.8039369232189458,
          0.8705060462549266,
          0.6608558230685149,
          0.5468515201456271,
          0.8571469671735972,
          0.546417713845598,
          0.0676961073778124,
          0.0667855385739074,
          0.7187543508331609,
          0.2278807075128568,
          0.8752018647461663,
          0.5626984436174167,
          4.1511296939929504e-17,
          0.3128403605299679,
          0.4813696265967959,
          0.5150034633694683,
          0.6250356942943911,
          0.5596100839794905,
          0.3430876029679597,
          0.5938465526978443,
          0.65655880848219,
          0.105529928464657,
          0.0284510300868753,
          0.7102461524794519,
          0.657810460532136,
          0.4085167764597667,
          0.5117244994627108,
          0.6290896268009499,
          0.9054136519503028,
          0.0836613646498665,
          0.3348813485008998,
          1.3367542716706373e-17,
          0.7349043056882071,
          0.7995897302289303,
          0.5610498999049256,
          0.9946126884791652,
          0.4834630530886398,
          0.2669209114655604,
          0.456325032934374,
          0.6006199680913487,
          0.5747065964473849,
          0.529042519932963,
          0.9990383699922104,
          0.3198256417230242,
          0.8279525028331666,
          0.4041456013681526,
          0.4855384383152024,
          0.7752034617714907,
          0.3129861189734996,
          0.9127046104204612,
          0.289065421648987,
          0.2252866607680192,
          0.5683318432799106,
          0.5232282551281053,
          0.7110607186372349,
          0.9918994839012524,
          0.5831914517322225,
          0.7815615436307142,
          0.6000044175060947,
          0.1564823934543223,
          0.7730670390387345,
          0.3639581793132444,
          0.4229603618146416,
          0.98634684268453,
          0.2712505023879739,
          0.5227967054026819,
          0.8504144985875566,
          0.9084382096050476,
          0.705576619302588,
          0.4587348291039014,
          0.4773334605833865,
          0.8287494021539853,
          0.3886693671756316,
          0.6403043865359102,
          0.4543240480379589,
          0.1282403927604748,
          0.4807975321407641,
          0.8667538235882463,
          0.8235946464173822,
          0.9001008442414207,
          0.7105351289175361,
          0.1306554229044795,
          0.0292422336712113,
          0.2603697298621485,
          0.1812658155565601,
          0.6901338591894226,
          0.9118752729483256,
          0.3597737266325242,
          0.4394559880301969,
          0.8412321353077916,
          0.7212746533141816,
          0.5702201408498796,
          0.8339613453813813,
          0.8944822423251162,
          0.7321782729376576,
          0.958108065474104,
          0.5357374769690922,
          0.870249645964018,
          0.7136004642307336,
          0.7943127354857453,
          0.8923392663497547,
          0.8193943059843601,
          0.3546806727676208,
          0.5392832180661358,
          0.1674813376448504,
          0.9198129920895972,
          0.9032505049174092,
          0.6250345458211525,
          0.9737251360635888,
          0.5383852310787501,
          0.5034971154219376,
          0.4397414072653938,
          0.322254761471339,
          0.4849562898632646,
          0.2327336144596884,
          0.4180051083783336,
          0.1730116467955032,
          0.917428523725394,
          0.5938017431779357,
          0.6006888104748981,
          0.79811066349454,
          0.0634852178137989,
          0.3652168834803271,
          0.4382057229329705,
          0.9355628552243676,
          0.4064942530644572,
          0.8816326230905227,
          0.803435282830913,
          0.6215406246533646,
          0.9355949388308096,
          0.993513701598424,
          0.4443709259556266,
          0.5641202509657268,
          0.3495771877110435,
          0.1035018287650777,
          0.9548680798038104,
          0.514195998165531,
          0.1487125477664209,
          0.849417684243415,
          0.2672588873715718,
          0.0659329246954064,
          0.9406657412070776,
          0.5727427196996264,
          0.1423642346035692,
          0.2236191108069151,
          0.8921993033245587,
          0.9491611647179892,
          0.3827517522220255,
          0.173500263041521,
          0.9802755653119046,
          0.9885142263646456,
          0.1007860433628364,
          0.139896989324086,
          0.5826500089561516,
          0.8298584902191815,
          0.9107454130088464,
          0.5436974054466427,
          0.8350720396914354,
          0.5405957542952738,
          0.2180350170181002,
          5.94324193661424e-17,
          0.7547163916631199,
          0.5327706090281841,
          0.4984528083811522,
          0.6388023062888624,
          0.7861555830463398,
          0.6126305763952591,
          0.567214128442967,
          0.5733659323727301,
          0.7155760217710119,
          0.6144380613881505,
          0.3608767714157215,
          0.3191738562931241,
          0.3026348167934669,
          3.5296034166921044e-17,
          0.3965835581832484,
          0.8386994511599439,
          0.1055933848164206,
          0.0683272675140908,
          0.2394250687967971,
          0.8859035710491399,
          0.1454408111065106,
          1.544635598792365e-17,
          0.665731831915837,
          0.2146152538397853,
          0.0696537698492963,
          0.5603200782380163,
          0.3711948675127614,
          0.9134379960150428,
          0.1625669867198806,
          0.7241583333184051,
          0.7924392518119865,
          0.4704455191139553,
          0.172080022440118,
          0.4256635108051456,
          0.967230835586504,
          0.6910363824679903,
          0.4317079635034878,
          0.4840061921295273,
          0.4645149782313226,
          0.961920279510386,
          0.8395167266539547,
          0.7180567157057546,
          0.6282964319517457,
          0.928468552269492,
          0.4810568597953459,
          0.3815469573081988,
          0.6713542360104857,
          0.2069092001908669,
          0.4147922043114168,
          0.0886853310686285,
          0.7212139390336659,
          0.6553308668261975,
          0.0634664526105035,
          0.123213819844563,
          0.2911032320037289,
          0.9939675245246252,
          0.7836458702391115,
          0.3886410010133714,
          0.1640907185049379,
          0.6283847113106051,
          0.4158579538636363,
          0.366378269476018,
          0.3308368982049928,
          0.5542483367329443,
          0.3377290216133474,
          0.3410408896448129,
          0.0290591879998557,
          0.823489408833094,
          0.6481419831721448,
          0.6495526580019768,
          0.308954457307148,
          0.6852615712672909,
          0.6783712120939245,
          0.7891881961423722,
          5.988892723524432e-17,
          0.8282688817624014,
          0.6964039819483857,
          0.8769659092505456,
          0.9699981068646338,
          0.3793087073793758,
          0.7519671819087034,
          0.8340249495908071,
          0.3505473817641961,
          0.9237564384357988,
          0.7470000209165714,
          0.541960074534439,
          0.5924912495408693,
          0.3913442073200486,
          0.2713353938527218,
          0.3485672817422741,
          0.2251319044146293,
          0.5991303942800418,
          0.915537267901704,
          0.1414426644049409,
          0.9099738720646934,
          0.7906481017127962,
          0.7183331705049505,
          0.9257731699822408,
          0.8973758737039849
         ],
         "y": [
          1.0002855023409605,
          0,
          0,
          0.1040149454376587,
          0.9984706663620744,
          3.043066011649604e-17,
          0.9720704894687694,
          0.9905195140165352,
          0.913813110282512,
          0.9736897416133684,
          0.9899413863511904,
          0.995718402469083,
          0.0256972282413138,
          0.3029334041667241,
          0.9003789662482563,
          0.0868246764177505,
          0.4389644270340267,
          0.998857698570097,
          0.3936973311036614,
          0.9869770067781712,
          0.1658768194037794,
          0.1019773862424762,
          0.8553190528691679,
          0.8497602533796546,
          0.9553674800836236,
          0.4624055278134348,
          0.8474656280208764,
          0.00008212850114653143,
          0.0840535644275762,
          0.8958309793159741,
          0.5996592261368109,
          0.9581162241243404,
          0.4421396668211583,
          0.4076345524543128,
          0.2641655552628684,
          0.375577499889503,
          0.3035453782483155,
          0.4623386890904705,
          0.289949799745212,
          0.5975171693556309,
          0.2307992446054422,
          0.2245523986692243,
          0.9327518208773709,
          0.8454496521961198,
          0.9553600084885788,
          0.303204909602105,
          0.4758547167888047,
          0.6665717543414034,
          0.3054265762310251,
          0.5374345935398765,
          0.9473889235377352,
          0.5684906247708661,
          0.6345699602588484,
          0.5345697532740682,
          0.5826591876316628,
          0.6018324864716282,
          0.8786680849661396,
          0.4819960970473119,
          0.0326339817879301,
          0.4688881009822945,
          0.8645169202578478,
          0.985832206362856,
          0.9125454201326152,
          0.4499959370610321,
          0.6986294414865459,
          0.967071594953026,
          0.8040157229719943,
          0.8246735543171971,
          0.5072181550711861,
          0.084162063595311,
          0.1572465138823505,
          0.2310172689903422,
          0.2455139197133469,
          0.5111448692165327,
          0.8537757229105576,
          0.7654264068651889,
          0.1780868829435241,
          0.0256710082822301,
          0.900133996427378,
          0.7622863548871939,
          0.9882105097548668,
          0.6147034868548298,
          0.6388310014837476,
          0.1811827293106853,
          0.9641248476734589,
          0.2568959770113962,
          0,
          0.6661251040859292,
          0,
          0.8466539518481083,
          0.2423911840077297,
          0.3258483042731569,
          0.4995648288809235,
          0.0389340630029681,
          0.9371538961931084,
          0.435975742032905,
          0.2990688524066746,
          0.3863835981038233,
          0.0616661983833924,
          0.8726461487631643,
          0.2930196063827437,
          0.2597537718496284,
          0.8254794377962572,
          0.9613868707652984,
          0.4567736855811026,
          0.2873891525063382,
          0.2942143215098874,
          0.4042147055939295,
          0.530214918653124,
          0.505978291869118,
          0.4394219478412892,
          0.7656162537709086,
          0.920606128571046,
          0.2818218995727532,
          0.3925384575577809,
          0.1310968706695972,
          0.7370554370499585,
          0.0290570716309945,
          0.0293084930287235,
          0.6395320182884432,
          0.4518827847872518,
          0.7763884369318725,
          0.3382171201657862,
          0.0341904387799469,
          0.7469166380765191,
          0.0321602684312957,
          0.5944935523842378,
          0.9930530160418766,
          0.3705589632546621,
          0.1464006754931765,
          0.6901930715645621,
          0.6861002716761524,
          0.2257701941808415,
          0.6626317782272534,
          0.0899177730713284,
          0.7218564607651093,
          0.8430866335697758,
          0.4872602798687755,
          0.5048778579317359,
          0.0340793782674397,
          0.7577554913040334,
          0.5773188738893725,
          0.8019510912051178,
          0.1242853931672601,
          0.1820493979909605,
          0.3897628939378918,
          0.5729535131460971,
          0.9876056379662922,
          0.0272829452378664,
          0.560731183043333,
          0.0527732620684801,
          0.9984543679145762,
          0.8913725178862377,
          0.8601276572923171,
          0.319803932848297,
          0.2271249558606674,
          0.9791198473659222,
          0.3036480384111298,
          0.220040039993997,
          0.8976734421889864,
          0.3661826104835198,
          0.9095758856041528,
          0.6718754173661661,
          0.7765108718364215,
          0.6807718529079565,
          0.3306479245521798,
          0.0670808990254917,
          0.828052959068492,
          0.6287713215894662,
          0.7058857061386532,
          0.8985111135440876,
          0.1313168009325969,
          0.8845844030171529,
          0.1884357882497778,
          0.0916116909775339,
          0.432069918325725,
          0.4174250288563839,
          0.7767986925842433,
          0.9856830532424052,
          0.8115070093948215,
          0.9267991681676508,
          0.7538219941295494,
          0.7708550907042819,
          0.3662658509346384,
          0.9425949923743072,
          0.9038348084476336,
          0.2013701973896248,
          0.6297657702219196,
          0.7420182399549314,
          0.642347934277964,
          0.3520780068571981,
          0.3332031663376826,
          0.4371971433931004,
          0.3812260296576261,
          0.2023060444940765,
          0.2799937251564293,
          0.2244379451221902,
          0.1367578025386787,
          0.8719700315108034,
          0.6771143590501819,
          0.7816713349019787,
          0.0659393388268393,
          0.6188309725107107,
          0.0686108865474154,
          0.9285516123802622,
          0.5227080188062462,
          0.7601389220862159,
          0.6066817723285074,
          0,
          0.7193598057637449,
          0.4418382457029604,
          0.7116682949820862,
          0,
          0.0327387807512855,
          0.7953812109073229,
          0.2797726854524365,
          0.6743876194392018,
          0.6425552677228197,
          0.9887381614138115,
          0.3548645927350077,
          0.3757872587386888,
          0.9670905486533368,
          0.067175962110124,
          0.2102835539650159,
          0.0687605543370071,
          0.8824706683479656,
          0.1479144605172903,
          0.9420345970296036,
          0.9111781030544586,
          0.2647980464594035,
          0.6494988857213242,
          0.7584473355176857,
          0.8717639002111636,
          0.1678479048819746,
          0.4661876733092299,
          0.696144422892695,
          0.4350821095779629,
          0.4887669165927817,
          0.2147469604872489,
          0.2341594906185707,
          0.5364073882443108,
          0.3930034946669589,
          0.3685571263600979,
          0.7138255785330456,
          0.4975329194130062,
          0.9133371273176678,
          0.271173699348917,
          0.8618056991325559,
          0.3101782105474277,
          0.5624816601734317,
          0.8066025687547144,
          0.6464112260921357,
          0.6713119431420953,
          0.7426381558210138,
          0.4868509472095211,
          0.9352347895776684,
          0.3912358805188377,
          0.341693659642311,
          0.4185003901242182,
          0.1873379207443972,
          0.0309372493474047,
          0.9521123988665912,
          0.9243496827859982,
          0.8224070523683558,
          0.058138016850393,
          0.8639893590132353,
          0.4057088779402942,
          0.9041360769695076,
          0.4351185347256218,
          0.8082710477903088,
          0.8547530665705367,
          0.3565343034347633,
          0.0308698831963997,
          0.9104839932827208,
          0.8911511389654603,
          0.9664769764432424,
          0.7740173654157161,
          0.9522188249703216,
          0.5312255949459789,
          0.8239236488774192,
          0.7763242297155358,
          0.00001081246972445818,
          0.4303499504893071,
          0.670908924422241,
          0.894138220891503,
          0.1566737271575121,
          0.3396773984167746,
          0.5194174377979898,
          0.1620113570476749,
          0,
          0.0982285942900044,
          0.3608701111099657,
          0.4529503208436364,
          0.8253183989519896,
          0.9405545621712968,
          0.7905687383212197,
          0.2020942145653831,
          0.1021133664784721,
          0.4018100987166982,
          0.8015946487782252,
          0.1810531077449049,
          0.9535207152215542,
          0.5934355501447962,
          0.415530666752197,
          0.8359594402005142,
          0.027562335429381,
          0.5511569592358098,
          0.8031557608568324,
          0.7647278590962154,
          0.7627581335090476,
          0.2570815020050414,
          0.1777498200771287,
          0.1420539324157478,
          0.0324553897918351,
          0.6520524301847533,
          0.3903401170745658,
          0.5437837444283931,
          0.4226667885204735,
          0.6640249011909377,
          0.8694548029178887,
          0.1009298840264534,
          0.0694364445206122,
          0.8800716922632067,
          0.9284804108414244,
          0.9744493075108536,
          0.4763849521220275,
          0.7129270940427946,
          0.2856221792550594,
          0.2201941427877489,
          0.527116628732209,
          0.7512929127410308,
          0.3515287599229599,
          0.2504655420090166,
          0.5693482785810392,
          0.8811588002256352,
          0.8852859101451894,
          0.3568233563285983,
          0.4671778770173895,
          0.4288812580862269,
          0.0003726146345983,
          0.7513090826130976,
          0.1414665198983203,
          0.4583985256928459,
          0.1302475443780132,
          0,
          0.0743052024205673,
          0,
          0.6346031614611617,
          0.395493457663467,
          0.8264623464237493,
          0.1428377308937202,
          0.5179504436713399,
          0.6555285968783856,
          0.1813615853269803,
          0.7320792858853902,
          0.4519379608118431,
          0.0681765706874788,
          0.9623210800586172,
          0.0002636437770989,
          0.4260822361845605,
          0.6946993089439123,
          0.2156727764547413,
          0.716581224174809,
          0.0362291581625149,
          0.8284099268472576,
          0.8520708652461184,
          0.9161379594285984,
          0.7897528330209149,
          0.1010042600087744,
          0.6825024444095049,
          0.5463546253877476,
          0.7035472993281703,
          0,
          0.1258498950499624,
          0.3301227799221342,
          0.5194905340556868,
          0.2363265796136483,
          0.6665303320968097,
          0.3148555000567327,
          0.6258361420908393,
          0.4832345412587886,
          0.6267880639491581,
          0.594992141303631,
          0.4561403920839387,
          0.2963208165563133,
          0.4772277310941527,
          0.6663676793824079,
          0.9906125893328608,
          0.7248365019001183,
          0.922443792490474,
          0,
          0.7611037490483473,
          0,
          0.8289364089930247,
          0.2593563550035141,
          0.992554562527161,
          0.3487369242636071,
          0.0917761301846754,
          0.948307665799551,
          0.1976356836004011,
          0.293859397112156,
          0.8452756909363858,
          0.1439152677189659,
          0.1863068506691196,
          0.6141355717883276,
          0.3537810067938877,
          0.0621543622631951,
          0.8921545675517265,
          0.9642462772669342,
          0.0360630143374657,
          0.0653572619332854,
          0.5018594612036642,
          0.1905524563337083,
          0.0002609023744687,
          0.9716218500072624,
          0.0645072472457025,
          0.264519089573161,
          0.5568800419266257,
          0.0671089357807826,
          0.0782614374465143,
          0.9595712662147312,
          0.5663098993268604,
          0.6029384318133184,
          0.2231505847406258,
          0.39089644155623,
          0,
          0,
          0.1017902328120516,
          0.5228526767513129,
          0,
          0.8970476673579308,
          0.2062962411283025,
          0.2585654358612994,
          0.2197170438781823,
          0.3272916556771843,
          0.48519311512435,
          0.4828609353788216,
          0.7155700969867933,
          0,
          0.1626879827173618,
          0.001307843045761,
          0.173912949516804,
          0.6072108614601961,
          0.5728640869837254,
          0.8475329211659935,
          0.7842110550189214,
          0.5440729981781112,
          0.8161907526054478,
          0.5997287289208412,
          0.8315996484224171,
          0.1977489491609362,
          0.4704271684794555,
          0.6285831821640351,
          0.5045061039863403,
          0.0007950409803717,
          0.3125748483103389,
          0.1563532569813591,
          0.5779281317885947,
          0.2878546301657244,
          0.7534935847926115,
          0.0680583747484343,
          0.2097553447786376,
          0.8247057070966987,
          0.8465095233510002,
          0.5734731485270002,
          0.2594594177667476,
          0.634267158897706,
          0,
          0,
          0.6779309261875551,
          0.0931102717197345,
          0.516450421378726,
          0,
          0.3466371560709285,
          0.4778548488388845,
          0.0619900972372104,
          0.82522860873929,
          0,
          0.7332508186798836,
          0.9797313426969412,
          0.4110542571087111,
          0.2679697498681518,
          0.3286775503169088,
          0.773224020659056,
          0.6624122301968963,
          0.444989242473869,
          0.9907061683826625,
          0.9493976780743352,
          0.2183085396705952,
          0.6912067308458641,
          0.6088937733210033,
          0.0332687471369636,
          0.1594999688736468,
          0.678540644432273,
          0.5696304750051261,
          0.0636462247792145,
          0.7107374536945712,
          0.8322223513169924,
          0.8248561986109967,
          0,
          0.7476937534785636,
          0.5795679999391928,
          0.7188869021908367,
          0.8458286757842528,
          0.1812452676876142,
          0.5779384322140432,
          0.1340217330449626,
          0.0003526440794291,
          0.7427075285780329,
          0.8201300508400554,
          0.6738836135981586,
          0.6268735016126327,
          0.1409018944057675,
          0.5325793284352367,
          0.2200499402450663,
          0.105514322382549,
          0.2143437393945507,
          0.5223454607028053,
          0.8983112209280705,
          0.4103461534481927,
          0.056527152975262,
          0.937081609727133,
          0.4330024658495747,
          0.0356790767812444,
          0.2387973058313432,
          0.5727372279064474,
          0.3774747321683791,
          0.4274853241854162,
          0.2933603965103746,
          0.8060020806369923,
          0.7118728161290201,
          0.1705950169546026,
          0.9377426254618512,
          0.2612749547333141,
          0.4663151187822614,
          0.6079627156847345,
          0.1371632932058914,
          0.3515622625476798,
          0.318402580807176,
          0.2954015790580995,
          0.1917816281504969,
          0.6543118461892142,
          0.7446669298161708,
          0.382603691898315,
          0,
          0.5113763122124629,
          0.5450940792896196,
          0.4745521803188832,
          0.6823305214725719,
          0.4109161631107332,
          0.2852626778002369,
          0.6881416006476414,
          0.2240161568056471,
          0.7709995387283081,
          0.4930928050044714,
          0.7032415669714758,
          0.1427406481527954,
          0.4012564137007113,
          0.0005801115996697,
          0.7329951350915229,
          0.305805386120818,
          0.0548051123472441,
          0.1660294490750247,
          0.2057411776742422,
          0.7881770877593633,
          0.1862903193541672,
          0.178388249345699,
          0.3821627891753374,
          0.6749248391385817,
          0.356862064094942,
          0.8779018555993691,
          0.0574553111141446,
          0.918397093542355,
          0.8933963549087156,
          0.3126151141694322,
          0.2174847215290617,
          0.0329882504601618,
          0.510517752731985,
          0.9127456855676852,
          0.3230240664371088,
          0.90596955693751,
          0.2309027025848907,
          0.8747274706115908,
          0.4519628610226613,
          0.6241307947576221,
          0.3054521666378058,
          0.0969299803787095,
          0.1116944500570044,
          0.6339458947070044,
          0.8532090307482559,
          0.83241977598914,
          0.5834444855819585,
          0.0914893512128707,
          0.8187334489252783,
          0.9818334987207586,
          0.1401045399398449,
          0.7881433085940889,
          0.494485352536383,
          0.1280820190773354,
          0.5612506495259921,
          0.8603025044378071,
          0.5562834783664914,
          0.2441490712540032,
          0.0296220564179949,
          0.940321957032562,
          0.4140006299058054,
          0.2550017413104182,
          0.2223800108541498,
          0.4630629186729308,
          0.0828480407650085,
          0.8062486274025381,
          0.4295161630979161,
          0.4128912990257635,
          0.8389318439197442,
          0.5206392194531454,
          0.850665609147039,
          0.4992307683806903,
          0.9706050660079556,
          0.4705376054024195,
          0.1390538821449511,
          0.3392833266434075,
          0.7703127041950212,
          0.4243317641226629,
          0.7607306460235926,
          0.6379235039302176,
          0.6059071443460311,
          0.7387762599621693,
          0.6063542901068265,
          0.9271738302746678,
          0.1267486456453753,
          0.484308511580113,
          0.5764279821985494,
          0.7430064972053277,
          0.3751072746604432,
          0.5477192577015897,
          0.6081472345260568,
          0.9718134442632352,
          0.4844701489536567,
          0.6385404336865657,
          0.2522581367734436,
          0.1045133054128173,
          0.9749062717633076,
          0.6601820697996743,
          0.7116464362597728,
          0.9488395492855656,
          0.0334492529778193,
          0.2875671682152524,
          0.6718036584212906,
          0.3904641005070123,
          0.8060130422865958,
          0.0849637726675019,
          0.2101764291951386,
          0.2972596294220532,
          0.1434229425104961,
          0.1014205282364931,
          0.0304979515672879,
          0.8820748409767859,
          0.125010057311335,
          0.5370230898259282,
          0.5153540917811298,
          0.7323410021965322,
          0.3031555477391814,
          0.5550201577527215,
          0.9266321291478852,
          0.0328840527236096,
          0.3767850531510383,
          0.9425842662100102,
          0.2370278615474416,
          0.5495147858400101,
          0.5986634680832867,
          0.3810892960041366,
          0.9752985837341044,
          0.9323194854764776,
          0.1329824094909202,
          0.0653756164745404,
          0.8783044937227231,
          0.9928934403585986,
          0.0002148693695891,
          0.37227507107057,
          0.6833357454182473,
          0.1629092572238844,
          0.1018327235927212,
          0.4050897607786594,
          0.8552132642483657,
          0.9533937955884524,
          0.1774424070300009,
          0.4814148585752852,
          0.6386114395706852,
          0.8368338251171441,
          0.2602967743019719,
          0.223934931509367,
          0.5457060938737461,
          0.978060405284876,
          0.5876251599852078,
          0.5261089235604657,
          0.1701151084634841,
          0.2147480394576575,
          0.205144458132205,
          0.5476154024384235,
          0.2140983934093785,
          0.9361104800973176,
          0.3350270466497597,
          0.3118222775305386,
          0.661695650141541,
          0.7388391660616727,
          0.9096439666617616,
          0.6899014388922535,
          0.2422938910854733,
          0.5932298850544663,
          0.3553314317539189,
          0,
          0.9872962989761608,
          0.4295663947053402,
          0.4655600901603337,
          0.5919236941536755,
          0.2351778382717526,
          0.3175165453063611
         ],
         "z": [
          0,
          0,
          1.002334046250131,
          0.0262578077914945,
          0.053190111910801,
          1.0001151718960148,
          0.1612886374248875,
          0.0572358912257837,
          0.4205924745693056,
          0.2430911167928687,
          0.1157704635314625,
          0.0852818558245858,
          0.0774055888775706,
          0.9337404590624152,
          0.0339073394653556,
          0.2103820794253812,
          0.903090911180738,
          0.0272319446051435,
          0.5669304471677339,
          0.1230458628030269,
          0.9180172335904556,
          1.007409668786052,
          0.5253047333857322,
          0.4567209655440858,
          0.202322980216851,
          0.0687720475751254,
          0.2995618747341923,
          0.9945570060997472,
          0.146523048668877,
          0.0673390345623431,
          0.2679473076486341,
          0.2977477205200652,
          0.3033228513980741,
          0.8362675304082758,
          0.952079258109509,
          0.4662831890840344,
          0.7018664262850652,
          0.8779511947468718,
          0.1655450704873369,
          0.8165308075442899,
          0.9386438214475537,
          0.9586822320926974,
          0.3713246856618233,
          0.4923402883059384,
          0.1304552979359546,
          0.5436343308083008,
          0.1052463989836132,
          0.1888109742745314,
          0.0612650196293654,
          0.8465378480394441,
          0.3558937467341838,
          0.1457134685092654,
          0.7977583586918772,
          0.3112248211433486,
          0.717406979699841,
          0.7713790151146102,
          0.4845065282773073,
          0.8893605048170459,
          0.4608058386542442,
          0.7219669276367295,
          0.4815508028027566,
          0.1734042417186399,
          0.3600059847864945,
          0.0328485494028757,
          0.1882785116584621,
          0.2769520416275797,
          0.3148320524049448,
          0.537468429034823,
          0.8666637358354982,
          0.175445964057401,
          0.971285476163471,
          0.9760713659669972,
          0.1266261999208116,
          0.688941526080255,
          0.0329461517299694,
          0.3564129284597819,
          0.5891887211619347,
          0.1982929396489416,
          0.4068355327766465,
          0.6341187429831294,
          0,
          0.3131589982514382,
          0.7954813121771104,
          0.988431608011632,
          0,
          0.9596148873214272,
          0.2610384127438866,
          0.7583732391165654,
          0.374839010262452,
          0.5374391696195467,
          0.0920260777895193,
          0.3749445622090968,
          0.3539930598779001,
          0.9047670346829432,
          0.0995983807118978,
          0.8593048078669567,
          0.8414869320330971,
          0.9280610052707544,
          0.210595640625692,
          0.4482799378900296,
          0.866412553399023,
          0.979922143295914,
          0.3484860150353786,
          0.2382895609411272,
          0.8199863937177276,
          0.9759224394038348,
          0,
          0,
          0.8378093164173696,
          0.2211997343669988,
          0.8972428819935269,
          0.5518227734151454,
          0.3869310930050063,
          0.967327491150046,
          0.8797008471692368,
          0.3717401033123115,
          0.1896722167281208,
          0.9342108883183046,
          0.9586708168670972,
          0.0324317029126507,
          0.8963435006236076,
          0.2282613104257414,
          0.0318229233459546,
          0.7898543581360737,
          0.4846105232256281,
          0.501568274981025,
          0.449717289968129,
          0.1691227747152912,
          0.0302338437806599,
          0.1499125027996533,
          0.2749618118244697,
          0.1500230719980292,
          0.2322856948449259,
          0.3645155488895065,
          0.250200371652225,
          0.2746855072019901,
          0.3939484313508827,
          0.8089147975467295,
          0.8750885081595087,
          0.8785318262882538,
          0.5843743281788456,
          0.8157119218463389,
          0.1054405194225289,
          0.2535850925003955,
          0.1518174248641948,
          0.7226400383891979,
          0.7450919472690454,
          0.0586813195133799,
          0.1695603844643612,
          0.5800752645184598,
          0.0773543372053336,
          0.1083743651940596,
          0.3689989044550152,
          0.5241495789008118,
          0.9568680478102604,
          0.029124763231416,
          0.2119964760227487,
          0.7775223851372635,
          0.6427499709401067,
          0.4452662242163328,
          0.379133380821152,
          0.3976824195910959,
          0.6479808587506493,
          0.4380818742898067,
          0.7365553790560733,
          0.1698671151916159,
          0.8022284089879393,
          0.5570158734943522,
          0.4048928144669041,
          0.6919361644989,
          0.4599815575282112,
          0.9975067927126312,
          0.4724151435066613,
          0.2274952631881574,
          0.968601713844202,
          0.9162318984356744,
          0.0678757012770036,
          0.4792549329407124,
          0.149186212654931,
          0.6025755545330544,
          0.3940286282189461,
          0.6697008905282524,
          0.5139145841336984,
          0.8677219212691379,
          0.0654099925175977,
          0.1790407290110637,
          0.0596486591998448,
          0.2270238762553021,
          0.3986818574737451,
          0.2668634765989427,
          0.6821998718397115,
          0.9277531574611236,
          0,
          0.8941217440396324,
          0.9894644284946016,
          0.9008429245449702,
          0.98326378075439,
          0.4955915291295201,
          0.0681993569845195,
          0.033502851621002,
          0.0331634008081381,
          0.4254934413154225,
          0.7855960330500265,
          0.8250028611152157,
          0.4141667916860492,
          0.8605657685503911,
          0.311755167212922,
          0.6241621490391085,
          0.928160096492896,
          0.7026302004731565,
          0.5695027131837758,
          0.7313991476252492,
          0.7435550833360246,
          0.5692318890978644,
          0.54667812687535,
          0.3243082141951999,
          0.1098008753216201,
          0.7395838672711391,
          0,
          0.0996671394379776,
          0.1758265613119662,
          0.2001902040994911,
          0.8848568123618584,
          0.4401819934434712,
          0.5528382695742592,
          0.2643165633232481,
          0.9776932071075752,
          0.2746709641785722,
          0.2874497502853653,
          0.2414161085614859,
          0.705675711366145,
          0.6786689360691711,
          0.4996873510767904,
          0.9904076453515388,
          0.7656424126808468,
          0.717360959886289,
          0.6525538410187737,
          0.8628177337970556,
          0.8443405477377889,
          0.0611907598020404,
          0.7890372580069345,
          0.6108349870962434,
          0.3393563034093969,
          0.6968433868369187,
          0.1820137927158877,
          0.4170009029437374,
          0.9353972315205736,
          0.1065419095897891,
          0.9185164022294292,
          0.5396431338220145,
          0.0375882923698224,
          0.1468481088100302,
          0.4062470559450806,
          0.1101219698204186,
          0.1419238026153716,
          0.2524407827382865,
          0.2564417135356123,
          0.5494471800570428,
          0.8955911956091231,
          0.9932567463581804,
          0.6099057721687297,
          0.2707421701123174,
          0.407148007005936,
          0.5887733430621087,
          0.9802155057568072,
          0.1422075690897144,
          0.3449025708251964,
          0.4482304460474597,
          0.735041767344955,
          0.4328033925967028,
          0.3441645962010037,
          0.9322329680539992,
          0.945441005636948,
          0.1392453853661954,
          0.380811556659737,
          0.1672085957507102,
          0.6544454849974841,
          0.3044812957120085,
          0.0329445830983005,
          0.3070934390741839,
          0.6088808453968022,
          0.5537535869951992,
          0.6058689506742361,
          0.4469035951451462,
          0.140255743350028,
          0.2592839598035267,
          0.9522138516108362,
          0.8416863518771868,
          0.2997643349979898,
          0.1959016615965803,
          0.8824940254359647,
          0,
          0.3527413634475032,
          0.5642359289168404,
          0.3219612845147793,
          0.6281821821832024,
          0.3470897872243123,
          0.677104224718909,
          0.1369410283490575,
          0.6015660126832958,
          0.7141701602264298,
          0.3070390081952229,
          0.687960584118551,
          0.9191661115481538,
          0.5374247792300213,
          0.9939871156137472,
          0.7690652328214267,
          0.1883681898776951,
          0.1885953164966688,
          0.6275129148601951,
          0.7928335076640413,
          0.5113435695790564,
          0.8019441751492297,
          0.9223577735033204,
          0.0703203947071181,
          0.6816687070410404,
          0.6459112733408855,
          0.2182655318062984,
          0.720276254193992,
          0,
          0.5253117062781393,
          0.6646162660142081,
          0.3399648632091078,
          0.3806458901311109,
          0.0310390529621731,
          0.6492414535680823,
          0.531703174630406,
          0.8780262879948998,
          0.9701543588732724,
          0.1478639192840985,
          0.228916418731127,
          0.604518905025998,
          0.4414188647190495,
          0.8424605759120595,
          0.1049847533941311,
          0,
          0.9471571775246236,
          0.8969567631051364,
          0.522416460085985,
          0.2273227647354309,
          0.5300527270273413,
          0.7610379893909613,
          0.7919665809244388,
          0.9383161834563322,
          0.9894958250590692,
          0.9983902354836556,
          0.9898289951001502,
          0.6105155845904462,
          0.7715031748929826,
          0.106176990389325,
          0.658599660675339,
          0.8654547451401146,
          0,
          0.7824343514890512,
          0.0690465294067923,
          0.7176913238924892,
          0.7664031847407559,
          0.0622840013773294,
          0.6841467088425833,
          0.9095778481343088,
          0.6762079356693877,
          0.8137692062256358,
          0.4901404343809711,
          0.6595822425987512,
          0.4286803244639027,
          0.1851893926080045,
          0.0012592797076918,
          0.6423752125943994,
          0.7836435633810056,
          0.7356466974888318,
          0.7202410712680786,
          0.6430063260809972,
          0.701045735388105,
          0.9615942720179028,
          0,
          0.575584915678536,
          0.9343247891060648,
          0.7569278527511079,
          0.0963347503126426,
          0.1084356080345139,
          0,
          0.8144352832418785,
          0.1073887962394706,
          0.3974404825659262,
          0.9472056034190556,
          0.2660333433629239,
          0.3216721357602294,
          0.1981066092355166,
          0.1486143740145762,
          0.0652635660867839,
          0.995941188824942,
          0,
          0.2952734008167763,
          0.5781918636629585,
          0.5740744378359239,
          0.1135416356077628,
          0.7980020079303657,
          0.2828903529713887,
          0.3140485986902033,
          0.9222522420753037,
          0.4522749741301123,
          0.5677403492615392,
          0.1182696469017333,
          0.9674603026546134,
          0.7167595795035485,
          0.288822694907739,
          0.9333171789067456,
          0.220589371450419,
          0.2884567702964787,
          0.6847687185923628,
          0.6981823436956871,
          0.7890617195148244,
          0,
          0.4828529966703476,
          0.1954252039171554,
          0.3929262588208346,
          0.6239240734965048,
          0.2656599954565056,
          0.4709672331007925,
          0.9975841552479916,
          0,
          0.666066379876043,
          0.8015019982000393,
          0.686034207587659,
          0.9289261556885696,
          0.9780090242481632,
          0.833816391899263,
          0.6440450697815807,
          0.8119051810893045,
          0.9002530096733092,
          0.2596145200881561,
          0.0914294077406547,
          0.8383921357604418,
          0.5621268394817124,
          0.9406287460280252,
          0.5777450935814848,
          0.3025636344200681,
          0.7031296889882623,
          0.6083847187574535,
          0.3365795933073621,
          0.4065568501282477,
          0.85489165377279,
          0.7394407811464564,
          0.3166901374935088,
          0.5302110504259475,
          0,
          0.2233450727354778,
          0.5199189275170017,
          0.6581517732142479,
          0,
          0.939235943950332,
          0.8594146038107293,
          0.685233837329102,
          0,
          0.9841534990387992,
          0.960737067969788,
          0.2245872275631502,
          0.1844072056196085,
          0.4034123425302224,
          0.0704201227699084,
          0.8612685414173992,
          0.476966899515049,
          0.1847049638560596,
          0.5575964597267503,
          0.8330221469068396,
          0.6502113412199381,
          0.766756231497432,
          0.5249664958676366,
          0.8714871858767909,
          0.8015722020705559,
          0.9519789046419486,
          0.7326933181248403,
          0.8827697593615664,
          0.7142675483457522,
          0.693445630116485,
          0.9452664426419456,
          0.0702859150737246,
          0.7649636328368384,
          0.6828361016178108,
          0.202243944163637,
          0.6798644886813283,
          0.7472733220846276,
          0.8664999021483349,
          0.3971135946739692,
          0.5138233234706705,
          0.1416969300519165,
          0.1446450978092203,
          0.1353769940937386,
          0.9880953234479168,
          0.0003652375020753,
          0.1502109775574521,
          0.8404796718223592,
          0,
          0.5767027835837776,
          0.8219473712001846,
          0.8917543994424298,
          0.4027131596365821,
          0.0339201975808293,
          0.2692444445440718,
          0.0767914261161535,
          0.6469732372400318,
          0.0704965346694832,
          0.6147077500873421,
          0.267202998216878,
          0.6347863204558513,
          0.7924219161709695,
          0.4089075418767578,
          0.9670495815381178,
          0.6505760200114141,
          0.2324771902217183,
          0.5290728876051563,
          0.363154292047448,
          0.0848393971699342,
          0.6740423684096534,
          0.5998311050481019,
          0.8236737740559364,
          0.9771475196738136,
          0.4544961459229772,
          0.2939334174603618,
          0.8123483953207856,
          0.1689696006867611,
          0.2412742449428647,
          0.7722744371525432,
          0.5323188237215023,
          0.3495903908570955,
          0.5049140212020519,
          0.8140017344316102,
          0.8007834985550935,
          0.4961075620090057,
          0.4730162673547138,
          0.367981586703981,
          0.8850280656484397,
          0.3351989822379048,
          0.8671162879481578,
          0.2208774800872685,
          0.0314366434514347,
          0.4576205252436411,
          0.6416441809688183,
          0.9513921644095356,
          0.96831140731394,
          0.9550570551812778,
          0.7448059063387901,
          0.0362607664478873,
          0.2142043763554276,
          0.9414566342776316,
          0.7694584530710702,
          0,
          0.5275095762552352,
          0.4957587017696636,
          0.3839197684647759,
          0.3629022778722472,
          0.0717391744191692,
          0.1938383229932569,
          0.4584215071993861,
          0.069876440489512,
          0.1075676521298879,
          0.618649926554314,
          0.2988785484945073,
          0.6579748373141139,
          0.5978427157496323,
          0.8267973651367553,
          0.9913173066488984,
          0.3792943683965946,
          0.3893322883002358,
          0.0689032885441694,
          0.1885186436822584,
          0.8354141681107135,
          0.7860883588170524,
          0.6130312432301457,
          0.8795550219322047,
          0.2261967092283826,
          0.9773404490296036,
          0.0341588402648494,
          0.4226718066874184,
          0.2854421424268635,
          0.792330720188546,
          0.8085863114116202,
          0.403921475561061,
          0.4385630584574777,
          0.8881390120536735,
          0.1022173386470957,
          0.2713328207490816,
          0.2990717392904941,
          0.1801210684940763,
          0.0677712923811819,
          0.7463407931696108,
          0.3586575722106429,
          0.1143328180789145,
          0.6550369336980928,
          0.0005306387100049,
          0.468931261376764,
          0.8128551837178806,
          0.3237172577064461,
          0.3591955398669987,
          0.1525324321779305,
          0.5389828047360966,
          0.5785813566547716,
          0.8811951353041587,
          0.3288709647427909,
          0.6197627030394626,
          0.4940410285700297,
          0.8364564880172392,
          0.3997420412115086,
          0.3402667930317649,
          0.0337442491870549,
          0.923062372498338,
          0,
          0,
          0.8836882942339144,
          0.9955683567419954,
          0.2776196855010079,
          0.4419541577424321,
          0.1807540735289183,
          0.0664978947764062,
          0.266000382600487,
          0.1464565172182542,
          0.8437923665051299,
          0.2642619897713695,
          0.4833979004623996,
          0.8604047550186293,
          0.8145777307074655,
          0.1088797245113595,
          0.4776000482306273,
          0.2714955060897908,
          0.5330317263687944,
          0.5800426663214134,
          0,
          0.5390582600706376,
          0.2551006741729005,
          0.9403965502189112,
          0.8436464800124468,
          0.8238144022515682,
          0.5592692176000132,
          0.4233650868694966,
          0.8440655008581309,
          0.8006875373458137,
          0.0606029444601248,
          0.032128032034306,
          0.7656626491229203,
          0.9800663390402456,
          0.746003666878931,
          0.1278235207409522,
          0.7885900542305176,
          0.4495829723757912,
          0,
          0.4147295220444441,
          0.9501422081010434,
          0.2303125801039756,
          0.5230874425900518,
          0.3945909791478458,
          0.9886442485264378,
          0.8986755829924913,
          0.0289099790972715,
          0.735771298498288,
          0.9086909363708666,
          0.885939880939283,
          0.1817134180110554,
          0.2934652342139517,
          0.1837978849677448,
          0.485931010480129,
          0.3172219489533593,
          0.2426725735344278,
          0.6930792517638281,
          0.1781752967863523,
          0.7502087736822037,
          0.9120896215250954,
          0,
          0.9727721380658396,
          0.4465326694280724,
          0.4969207832708183,
          0.943866817927595,
          0.2215540300744827,
          0.3322245268185299,
          0.0259335420959731,
          0.6242019840651201,
          0.3921607097515115,
          0,
          0.8053750679893341,
          0.8432446935411821,
          0.6989611200912502,
          0.9402793889974134,
          0.8425364387089097,
          0.8735204243259904,
          0.4227280926533672,
          0.3489182832378824,
          0.5459943172422944,
          0.6224816169844187,
          0.4522963430374362,
          0.5113453723659033,
          0.6930311504679894,
          0.727634747676561,
          0.3603189638668487,
          0.2302488689652123,
          0,
          0.535372542524919,
          0.4587688473058354,
          0.1601670363250837,
          0.9092991674190856,
          0.4013368322731457,
          0.5126234650349566,
          0.2145776288281812,
          0.209678646788388,
          0.6398293192802169,
          0.5939563004854,
          0.3605243593467779,
          0.2162180188063047,
          0.7120260305109014,
          0.9180470154989449,
          0.8023696048215493,
          0.7666785824197185,
          0.4483350982769632,
          0.08698760449416,
          0.1029529808205196,
          0.439272087470007,
          0.4077798291121757,
          0.3135164426648598,
          0.3214945267195462
         ]
        },
        {
         "type": "scatter3d",
         "x": [
<<<<<<< HEAD
          0.8587917010645413,
          0.7175834021290827,
          0.5763751031936241,
          0.5762912880612275
         ],
         "y": [
          0.872912530163309,
          0.7458250603266182,
          0.6187375904899274,
          0.6186696576835299
         ],
         "z": [
          0.8446708683868493,
          0.6893417367736987,
          0.534012605160548,
          0.5339814659494789
=======
          0.8470397991456248,
          0.6940795982912497,
          0.5411193974368745
         ],
         "y": [
          0.8653079306222506,
          0.7306158612445013,
          0.595923791866752
         ],
         "z": [
          0.864644178012869,
          0.7292883560257379,
          0.5939325340386069
>>>>>>> 89f545f (work on getting some visualizations out)
         ]
        },
        {
         "marker": {
          "color": "blue"
         },
         "mode": "markers",
         "type": "scatter3d",
         "x": [
<<<<<<< HEAD
          0.09304176986029074
         ],
         "y": [
          0.07540425715659409
         ],
         "z": [
          0.03401260516054805
=======
          0.36902507536606777
         ],
         "y": [
          0.32495218156555195
         ],
         "z": [
          0.32655350420154317
>>>>>>> 89f545f (work on getting some visualizations out)
         ]
        },
        {
         "marker": {
          "color": "red"
         },
         "mode": "markers",
         "type": "scatter3d",
         "x": [
<<<<<<< HEAD
          0.9069582301397092
         ],
         "y": [
          0.924595742843406
         ],
         "z": [
          0.965987394839452
=======
          0.6309749246339322
         ],
         "y": [
          0.675047818434448
         ],
         "z": [
          0.6734464957984568
>>>>>>> 89f545f (work on getting some visualizations out)
         ]
        },
        {
         "type": "scatter3d",
         "x": [
<<<<<<< HEAD
          0.48,
          0.47,
          0.5
         ],
         "y": [
          0.47,
          0.58,
          0.58
         ],
         "z": [
          0.5,
          0.5,
          0.5
=======
          0.8,
          0.7,
          0.6
         ],
         "y": [
          0.7,
          0.8,
          0.5
         ],
         "z": [
          0.5,
          0.6,
          0.8
         ]
        },
        {
         "type": "scatter3d",
         "x": [
          0.19999999999999996,
          0.30000000000000004,
          0.4
         ],
         "y": [
          0.30000000000000004,
          0.19999999999999996,
          0.5
         ],
         "z": [
          0.5,
          0.4,
          0.19999999999999996
>>>>>>> 89f545f (work on getting some visualizations out)
         ]
        }
       ],
       "layout": {
        "height": 1000,
        "legend": {
         "tracegroupgap": 0
        },
        "margin": {
         "t": 60
        },
        "scene": {
         "domain": {
          "x": [
           0,
           1
          ],
          "y": [
           0,
           1
          ]
         },
         "xaxis": {
          "range": [
           -0.2,
           1.2
          ],
          "title": {
           "text": "f1"
          }
         },
         "yaxis": {
          "range": [
           -0.2,
           1.2
          ],
          "title": {
           "text": "f2"
          }
         },
         "zaxis": {
          "range": [
           -0.2,
           1.2
          ],
          "title": {
           "text": "f3"
          }
         }
        },
        "template": {
         "data": {
          "bar": [
           {
            "error_x": {
             "color": "#2a3f5f"
            },
            "error_y": {
             "color": "#2a3f5f"
            },
            "marker": {
             "line": {
              "color": "#E5ECF6",
              "width": 0.5
             },
             "pattern": {
              "fillmode": "overlay",
              "size": 10,
              "solidity": 0.2
             }
            },
            "type": "bar"
           }
          ],
          "barpolar": [
           {
            "marker": {
             "line": {
              "color": "#E5ECF6",
              "width": 0.5
             },
             "pattern": {
              "fillmode": "overlay",
              "size": 10,
              "solidity": 0.2
             }
            },
            "type": "barpolar"
           }
          ],
          "carpet": [
           {
            "aaxis": {
             "endlinecolor": "#2a3f5f",
             "gridcolor": "white",
             "linecolor": "white",
             "minorgridcolor": "white",
             "startlinecolor": "#2a3f5f"
            },
            "baxis": {
             "endlinecolor": "#2a3f5f",
             "gridcolor": "white",
             "linecolor": "white",
             "minorgridcolor": "white",
             "startlinecolor": "#2a3f5f"
            },
            "type": "carpet"
           }
          ],
          "choropleth": [
           {
            "colorbar": {
             "outlinewidth": 0,
             "ticks": ""
            },
            "type": "choropleth"
           }
          ],
          "contour": [
           {
            "colorbar": {
             "outlinewidth": 0,
             "ticks": ""
            },
            "colorscale": [
             [
              0,
              "#0d0887"
             ],
             [
              0.1111111111111111,
              "#46039f"
             ],
             [
              0.2222222222222222,
              "#7201a8"
             ],
             [
              0.3333333333333333,
              "#9c179e"
             ],
             [
              0.4444444444444444,
              "#bd3786"
             ],
             [
              0.5555555555555556,
              "#d8576b"
             ],
             [
              0.6666666666666666,
              "#ed7953"
             ],
             [
              0.7777777777777778,
              "#fb9f3a"
             ],
             [
              0.8888888888888888,
              "#fdca26"
             ],
             [
              1,
              "#f0f921"
             ]
            ],
            "type": "contour"
           }
          ],
          "contourcarpet": [
           {
            "colorbar": {
             "outlinewidth": 0,
             "ticks": ""
            },
            "type": "contourcarpet"
           }
          ],
          "heatmap": [
           {
            "colorbar": {
             "outlinewidth": 0,
             "ticks": ""
            },
            "colorscale": [
             [
              0,
              "#0d0887"
             ],
             [
              0.1111111111111111,
              "#46039f"
             ],
             [
              0.2222222222222222,
              "#7201a8"
             ],
             [
              0.3333333333333333,
              "#9c179e"
             ],
             [
              0.4444444444444444,
              "#bd3786"
             ],
             [
              0.5555555555555556,
              "#d8576b"
             ],
             [
              0.6666666666666666,
              "#ed7953"
             ],
             [
              0.7777777777777778,
              "#fb9f3a"
             ],
             [
              0.8888888888888888,
              "#fdca26"
             ],
             [
              1,
              "#f0f921"
             ]
            ],
            "type": "heatmap"
           }
          ],
          "heatmapgl": [
           {
            "colorbar": {
             "outlinewidth": 0,
             "ticks": ""
            },
            "colorscale": [
             [
              0,
              "#0d0887"
             ],
             [
              0.1111111111111111,
              "#46039f"
             ],
             [
              0.2222222222222222,
              "#7201a8"
             ],
             [
              0.3333333333333333,
              "#9c179e"
             ],
             [
              0.4444444444444444,
              "#bd3786"
             ],
             [
              0.5555555555555556,
              "#d8576b"
             ],
             [
              0.6666666666666666,
              "#ed7953"
             ],
             [
              0.7777777777777778,
              "#fb9f3a"
             ],
             [
              0.8888888888888888,
              "#fdca26"
             ],
             [
              1,
              "#f0f921"
             ]
            ],
            "type": "heatmapgl"
           }
          ],
          "histogram": [
           {
            "marker": {
             "pattern": {
              "fillmode": "overlay",
              "size": 10,
              "solidity": 0.2
             }
            },
            "type": "histogram"
           }
          ],
          "histogram2d": [
           {
            "colorbar": {
             "outlinewidth": 0,
             "ticks": ""
            },
            "colorscale": [
             [
              0,
              "#0d0887"
             ],
             [
              0.1111111111111111,
              "#46039f"
             ],
             [
              0.2222222222222222,
              "#7201a8"
             ],
             [
              0.3333333333333333,
              "#9c179e"
             ],
             [
              0.4444444444444444,
              "#bd3786"
             ],
             [
              0.5555555555555556,
              "#d8576b"
             ],
             [
              0.6666666666666666,
              "#ed7953"
             ],
             [
              0.7777777777777778,
              "#fb9f3a"
             ],
             [
              0.8888888888888888,
              "#fdca26"
             ],
             [
              1,
              "#f0f921"
             ]
            ],
            "type": "histogram2d"
           }
          ],
          "histogram2dcontour": [
           {
            "colorbar": {
             "outlinewidth": 0,
             "ticks": ""
            },
            "colorscale": [
             [
              0,
              "#0d0887"
             ],
             [
              0.1111111111111111,
              "#46039f"
             ],
             [
              0.2222222222222222,
              "#7201a8"
             ],
             [
              0.3333333333333333,
              "#9c179e"
             ],
             [
              0.4444444444444444,
              "#bd3786"
             ],
             [
              0.5555555555555556,
              "#d8576b"
             ],
             [
              0.6666666666666666,
              "#ed7953"
             ],
             [
              0.7777777777777778,
              "#fb9f3a"
             ],
             [
              0.8888888888888888,
              "#fdca26"
             ],
             [
              1,
              "#f0f921"
             ]
            ],
            "type": "histogram2dcontour"
           }
          ],
          "mesh3d": [
           {
            "colorbar": {
             "outlinewidth": 0,
             "ticks": ""
            },
            "type": "mesh3d"
           }
          ],
          "parcoords": [
           {
            "line": {
             "colorbar": {
              "outlinewidth": 0,
              "ticks": ""
             }
            },
            "type": "parcoords"
           }
          ],
          "pie": [
           {
            "automargin": true,
            "type": "pie"
           }
          ],
          "scatter": [
           {
            "fillpattern": {
             "fillmode": "overlay",
             "size": 10,
             "solidity": 0.2
            },
            "type": "scatter"
           }
          ],
          "scatter3d": [
           {
            "line": {
             "colorbar": {
              "outlinewidth": 0,
              "ticks": ""
             }
            },
            "marker": {
             "colorbar": {
              "outlinewidth": 0,
              "ticks": ""
             }
            },
            "type": "scatter3d"
           }
          ],
          "scattercarpet": [
           {
            "marker": {
             "colorbar": {
              "outlinewidth": 0,
              "ticks": ""
             }
            },
            "type": "scattercarpet"
           }
          ],
          "scattergeo": [
           {
            "marker": {
             "colorbar": {
              "outlinewidth": 0,
              "ticks": ""
             }
            },
            "type": "scattergeo"
           }
          ],
          "scattergl": [
           {
            "marker": {
             "colorbar": {
              "outlinewidth": 0,
              "ticks": ""
             }
            },
            "type": "scattergl"
           }
          ],
          "scattermapbox": [
           {
            "marker": {
             "colorbar": {
              "outlinewidth": 0,
              "ticks": ""
             }
            },
            "type": "scattermapbox"
           }
          ],
          "scatterpolar": [
           {
            "marker": {
             "colorbar": {
              "outlinewidth": 0,
              "ticks": ""
             }
            },
            "type": "scatterpolar"
           }
          ],
          "scatterpolargl": [
           {
            "marker": {
             "colorbar": {
              "outlinewidth": 0,
              "ticks": ""
             }
            },
            "type": "scatterpolargl"
           }
          ],
          "scatterternary": [
           {
            "marker": {
             "colorbar": {
              "outlinewidth": 0,
              "ticks": ""
             }
            },
            "type": "scatterternary"
           }
          ],
          "surface": [
           {
            "colorbar": {
             "outlinewidth": 0,
             "ticks": ""
            },
            "colorscale": [
             [
              0,
              "#0d0887"
             ],
             [
              0.1111111111111111,
              "#46039f"
             ],
             [
              0.2222222222222222,
              "#7201a8"
             ],
             [
              0.3333333333333333,
              "#9c179e"
             ],
             [
              0.4444444444444444,
              "#bd3786"
             ],
             [
              0.5555555555555556,
              "#d8576b"
             ],
             [
              0.6666666666666666,
              "#ed7953"
             ],
             [
              0.7777777777777778,
              "#fb9f3a"
             ],
             [
              0.8888888888888888,
              "#fdca26"
             ],
             [
              1,
              "#f0f921"
             ]
            ],
            "type": "surface"
           }
          ],
          "table": [
           {
            "cells": {
             "fill": {
              "color": "#EBF0F8"
             },
             "line": {
              "color": "white"
             }
            },
            "header": {
             "fill": {
              "color": "#C8D4E3"
             },
             "line": {
              "color": "white"
             }
            },
            "type": "table"
           }
          ]
         },
         "layout": {
          "annotationdefaults": {
           "arrowcolor": "#2a3f5f",
           "arrowhead": 0,
           "arrowwidth": 1
          },
          "autotypenumbers": "strict",
          "coloraxis": {
           "colorbar": {
            "outlinewidth": 0,
            "ticks": ""
           }
          },
          "colorscale": {
           "diverging": [
            [
             0,
             "#8e0152"
            ],
            [
             0.1,
             "#c51b7d"
            ],
            [
             0.2,
             "#de77ae"
            ],
            [
             0.3,
             "#f1b6da"
            ],
            [
             0.4,
             "#fde0ef"
            ],
            [
             0.5,
             "#f7f7f7"
            ],
            [
             0.6,
             "#e6f5d0"
            ],
            [
             0.7,
             "#b8e186"
            ],
            [
             0.8,
             "#7fbc41"
            ],
            [
             0.9,
             "#4d9221"
            ],
            [
             1,
             "#276419"
            ]
           ],
           "sequential": [
            [
             0,
             "#0d0887"
            ],
            [
             0.1111111111111111,
             "#46039f"
            ],
            [
             0.2222222222222222,
             "#7201a8"
            ],
            [
             0.3333333333333333,
             "#9c179e"
            ],
            [
             0.4444444444444444,
             "#bd3786"
            ],
            [
             0.5555555555555556,
             "#d8576b"
            ],
            [
             0.6666666666666666,
             "#ed7953"
            ],
            [
             0.7777777777777778,
             "#fb9f3a"
            ],
            [
             0.8888888888888888,
             "#fdca26"
            ],
            [
             1,
             "#f0f921"
            ]
           ],
           "sequentialminus": [
            [
             0,
             "#0d0887"
            ],
            [
             0.1111111111111111,
             "#46039f"
            ],
            [
             0.2222222222222222,
             "#7201a8"
            ],
            [
             0.3333333333333333,
             "#9c179e"
            ],
            [
             0.4444444444444444,
             "#bd3786"
            ],
            [
             0.5555555555555556,
             "#d8576b"
            ],
            [
             0.6666666666666666,
             "#ed7953"
            ],
            [
             0.7777777777777778,
             "#fb9f3a"
            ],
            [
             0.8888888888888888,
             "#fdca26"
            ],
            [
             1,
             "#f0f921"
            ]
           ]
          },
          "colorway": [
           "#636efa",
           "#EF553B",
           "#00cc96",
           "#ab63fa",
           "#FFA15A",
           "#19d3f3",
           "#FF6692",
           "#B6E880",
           "#FF97FF",
           "#FECB52"
          ],
          "font": {
           "color": "#2a3f5f"
          },
          "geo": {
           "bgcolor": "white",
           "lakecolor": "white",
           "landcolor": "#E5ECF6",
           "showlakes": true,
           "showland": true,
           "subunitcolor": "white"
          },
          "hoverlabel": {
           "align": "left"
          },
          "hovermode": "closest",
          "mapbox": {
           "style": "light"
          },
          "paper_bgcolor": "white",
          "plot_bgcolor": "#E5ECF6",
          "polar": {
           "angularaxis": {
            "gridcolor": "white",
            "linecolor": "white",
            "ticks": ""
           },
           "bgcolor": "#E5ECF6",
           "radialaxis": {
            "gridcolor": "white",
            "linecolor": "white",
            "ticks": ""
           }
          },
          "scene": {
           "xaxis": {
            "backgroundcolor": "#E5ECF6",
            "gridcolor": "white",
            "gridwidth": 2,
            "linecolor": "white",
            "showbackground": true,
            "ticks": "",
            "zerolinecolor": "white"
           },
           "yaxis": {
            "backgroundcolor": "#E5ECF6",
            "gridcolor": "white",
            "gridwidth": 2,
            "linecolor": "white",
            "showbackground": true,
            "ticks": "",
            "zerolinecolor": "white"
           },
           "zaxis": {
            "backgroundcolor": "#E5ECF6",
            "gridcolor": "white",
            "gridwidth": 2,
            "linecolor": "white",
            "showbackground": true,
            "ticks": "",
            "zerolinecolor": "white"
           }
          },
          "shapedefaults": {
           "line": {
            "color": "#2a3f5f"
           }
          },
          "ternary": {
           "aaxis": {
            "gridcolor": "white",
            "linecolor": "white",
            "ticks": ""
           },
           "baxis": {
            "gridcolor": "white",
            "linecolor": "white",
            "ticks": ""
           },
           "bgcolor": "#E5ECF6",
           "caxis": {
            "gridcolor": "white",
            "linecolor": "white",
            "ticks": ""
           }
          },
          "title": {
           "x": 0.05
          },
          "xaxis": {
           "automargin": true,
           "gridcolor": "white",
           "linecolor": "white",
           "ticks": "",
           "title": {
            "standoff": 15
           },
           "zerolinecolor": "white",
           "zerolinewidth": 2
          },
          "yaxis": {
           "automargin": true,
           "gridcolor": "white",
           "linecolor": "white",
           "ticks": "",
           "title": {
            "standoff": 15
           },
           "zerolinecolor": "white",
           "zerolinewidth": 2
          }
         }
        },
        "width": 1000
       }
      }
     },
     "metadata": {},
     "output_type": "display_data"
    }
   ],
   "source": [
    "import plotly.express as ex\n",
    "\"\"\"\n",
    "iteration_points = pd.DataFrame(\n",
    "    navigation_points,\n",
    "    columns=[\"f1\", \"f2\", \"f3\"]\n",
    ")\n",
    "\"\"\"\n",
    "data = pd.read_csv(\"DTLZ2.csv\")\n",
    "fig2 = ex.scatter_3d(\n",
    "    data, # pregen front just to show where it approx is. NOT used in the OPTIMIZATION\n",
    "    x=data.columns[0],\n",
    "    y=data.columns[1],\n",
    "    z=data.columns[2],\n",
    "    range_x=[-0.2,1.2],\n",
    "    range_y=[-0.2,1.2],\n",
    "    range_z=[-0.2,1.2],\n",
    "    width=1000,\n",
    "    height=1000,\n",
    ")\n",
    "fig2.add_scatter3d(\n",
    "        x=navigation_points[navigation_points.columns[0]],\n",
    "        y=navigation_points[navigation_points.columns[1]],\n",
    "        z=navigation_points[navigation_points.columns[2]],\n",
    "        #animation_frame=[1,2,3,4,5],\n",
    "        #range_x=[0,1],\n",
    "        #range_y=[0,1],\n",
    "        #range_z=[0,1],\n",
    "        #width=1000,\n",
    "        #height=1000,\n",
    ")\n",
    "# TODO: use brain to do this\n",
    "# TODO: add RPs; RPs per iter in animation\n",
    "# TODO: add the reachable solutions solution; per iter in animation\n",
    "# TODO: add PF?\n",
    "\n",
    "# group improvement direction: BLUE for group IMP dir\n",
<<<<<<< HEAD
    "\n",
=======
>>>>>>> 89f545f (work on getting some visualizations out)
    "fig2.add_scatter3d(\n",
    "    x=[gr[0][0]],\n",
    "    y=[gr[0][1]],\n",
    "    z=[gr[0][2]], \n",
    "    mode='markers',marker=dict(color='blue')\n",
    ")\n",
    "# group preference point: RED for group RP\n",
    "fig2.add_scatter3d(\n",
    "    x=[gp[0][0]],\n",
    "    y=[gp[0][1]],\n",
    "    z=[gp[0][2]], \n",
    "    mode='markers',marker=dict(color='red')\n",
    ")\n",
<<<<<<< HEAD
    "\n",
    "fig2.add_scatter3d(\n",
    "    x=referps[0][1],\n",
    "    y=referps[1][1], # for f2 for all DMs\n",
    "    z=referps[2][1]\n",
    ")\n",
    "\"\"\"\n",
    "# let's just take the first iter stuff here, as we are not changing prefs.\n",
    "fig2.add_scatter3d(\n",
    "    x= 1 - impr_dirs[0][1][3], # vikat toisto ekasta, että tulee kolmio\n",
    "    y= 1 - impr_dirs[1][1][3], # TODO: viksummin\n",
    "    z =1 - impr_dirs[2][1][3],\n",
    ")\n",
    "fig2.add_scatter3d(\n",
    "    x= impr_dirs[0][1][3], # TODO: viksummin ja lisää vikat toisto ekasta, että tulee kolmio\n",
    "    y= impr_dirs[1][1][3], \n",
    "    z =impr_dirs[2][1][3],\n",
    ")\n",
    "\"\"\"\n",
    "\n",
    "fig2.show()\n",
    "fig2.write_html(\"results/dtlz2mean_stepback.html\")"
=======
    "#fig2.add_scatter3d(\n",
    "#    x=prefs[:, 0],\n",
    "#    y=prefs[:, 1],\n",
    "#    z=prefs[:, 2],\n",
    "#)\n",
    "\n",
    "# let's just take the first iter stuff here, as we are not changing prefs.\n",
    "fig2.add_scatter3d(\n",
    "    x= 1 - impr_dirs[0][1][0], # vikat toisto ekasta, että tulee kolmio\n",
    "    y= 1 - impr_dirs[1][1][0], # TODO: viksummin\n",
    "    z =1 - impr_dirs[2][1][0],\n",
    ")\n",
    "fig2.add_scatter3d(\n",
    "    x= impr_dirs[0][1][0], # TODO: viksummin ja lisää vikat toisto ekasta, että tulee kolmio\n",
    "    y= impr_dirs[1][1][0], \n",
    "    z =impr_dirs[2][1][0],\n",
    ")\n",
    "\n",
    "fig2.show()\n",
    "#fig2.write_html(\"results/dtlz2maxmin.html\")"
>>>>>>> 89f545f (work on getting some visualizations out)
   ]
  },
  {
   "cell_type": "code",
   "execution_count": null,
   "metadata": {},
   "outputs": [],
   "source": [
    "[0.63097492 0.67504782 0.6734465 ]"
   ]
  },
  {
   "cell_type": "code",
   "execution_count": 58,
   "metadata": {},
   "outputs": [
    {
     "data": {
      "text/plain": [
       "array([[0.66666667, 0.7       , 0.63333333]])"
      ]
     },
     "execution_count": 58,
     "metadata": {},
     "output_type": "execute_result"
    }
   ],
   "source": [
    "gp"
   ]
  },
  {
   "cell_type": "code",
   "execution_count": null,
   "metadata": {},
   "outputs": [],
   "source": []
  },
  {
   "cell_type": "code",
   "execution_count": null,
   "metadata": {},
   "outputs": [],
   "source": [
    "figure = ex.scatter_3d(\n",
    "    all_data.sort_values(\"n_gen\"),\n",
    "    x=\"f0\",\n",
    "    y=\"f1\",\n",
    "    z=\"f2\",\n",
    "    animation_frame=\"n_gen\",\n",
    "    range_x=[ideal[0] - 0.5, nadir[0] + 0.5],\n",
    "    range_y=[ideal[1] - 0.5, nadir[1] + 0.5],\n",
    "    range_z=[ideal[2] - 0.5, nadir[2] + 0.5],\n",
    "    color=\"method\",\n",
    ")\n",
    "\n",
    "figure.update_scenes(aspectmode=\"cube\")\n",
    "\n",
    "#prefs = np.array(\n",
    "#    [pref[1] for pref in rps.items()]\n",
    "#)\n",
    "#prefs = np.vstack((prefs, prefs[0]))\n",
    "# first RP dumbly\n",
    "#fig2.add_scatter3d(\n",
    "#    x= impr_dirs[0][1][0], # vikat toisto ekasta, että tulee kolmio\n",
    "#    y= impr_dirs[0][1][1], # TODO: viksummin\n",
    "#    z =impr_dirs[0][1][2],\n",
    "#)\n",
    "\n",
    "## add improvement dirs\n",
    "#fig2.add_scatter3d(\n",
    "#    x=[0.2, 0.3, 0.4, 0.2], # vikat toisto ekasta, että tulee kolmio\n",
    "#    y= [0.3, 0.2, 0.5, 0.3],\n",
    "#    z =[0.5, 0.4, 0.2, 0.5],\n",
    "#    )\n",
    "\n",
    "# add reachable solutions\n",
    "#fig2.add_scatter3d(\n",
    "#    x=reachable_sols[reachable_sols.columns[0]],\n",
    "#    y=reachable_sols[reachable_sols.columns[1]],\n",
    "#    z=reachable_sols[reachable_sols.columns[2]], \n",
    "#)\n",
    "\n",
    "# can see lower and upper bounds\n",
    "\"\"\"\n",
    "fig2.add_scatter3d(\n",
    "    x=lower_bounds[lower_bounds.columns[0]],\n",
    "    y=lower_bounds[lower_bounds.columns[1]],\n",
    "    z=lower_bounds[lower_bounds.columns[2]], \n",
    ")\n",
    "fig2.add_scatter3d(\n",
    "    x=upper_bounds[upper_bounds.columns[0]],\n",
    "    y=upper_bounds[upper_bounds.columns[1]],\n",
    "    z=upper_bounds[upper_bounds.columns[2]], \n",
    ")\n",
    "\"\"\""
   ]
  },
  {
   "cell_type": "code",
   "execution_count": null,
   "metadata": {},
   "outputs": [
    {
     "name": "stdout",
     "output_type": "stream",
     "text": [
      "boiunds (0.0, 2.0)\n",
      "boiunds (0.0, 2.0)\n",
      "boiunds (0.0, 2.0)\n",
      "boiunds (0.0, 2.0)\n",
      "boiunds (0.0, 2.0)\n",
      "boiunds (0.0, 2.0)\n",
      "boiunds (0.0, 2.0)\n",
      "`gtol` termination condition is satisfied.\n",
      "Number of iterations: 27, function evaluations: 120, CG iterations: 25, optimality: 5.94e-13, constraint violation: 1.11e-16, execution time: 0.047 s.\n",
      "[0.66868926 0.70023863 0.6325294 ]\n"
     ]
    },
    {
     "name": "stderr",
     "output_type": "stream",
     "text": [
      "/home/jp/tyot/mop/desdeo/DESDEO/.venv/lib/python3.12/site-packages/scipy/optimize/_differentiable_functions.py:231: UserWarning:\n",
      "\n",
      "delta_grad == 0.0. Check if the approximated function is linear. If the function is linear better results can be obtained by defining the Hessian as zero instead of using quasi-Newton approximations.\n",
      "\n",
      "/home/jp/tyot/mop/desdeo/DESDEO/.venv/lib/python3.12/site-packages/scipy/optimize/_differentiable_functions.py:504: UserWarning:\n",
      "\n",
      "delta_grad == 0.0. Check if the approximated function is linear. If the function is linear better results can be obtained by defining the Hessian as zero instead of using quasi-Newton approximations.\n",
      "\n"
     ]
    }
   ],
   "source": [
    "nav_point_arr = np.array([0.9, 0.9, 0.9])\n",
    "g_improvement_direction = aggregate(\"maxmin\", rps, nav_point_arr, 3, 3, ideal, nadir)\n",
    "assert g_improvement_direction is not None"
   ]
  },
  {
   "cell_type": "code",
   "execution_count": 17,
   "metadata": {},
   "outputs": [
    {
     "name": "stdout",
     "output_type": "stream",
     "text": [
      "`gtol` termination condition is satisfied.\n",
      "Number of iterations: 34, function evaluations: 152, CG iterations: 44, optimality: 4.91e-13, constraint violation: 2.22e-16, execution time: 0.071 s.\n",
      "[0.60943985 0.66361765 0.69311797]\n"
     ]
    }
   ],
   "source": [
    "g_improvement_direction2 = aggregate(\"maxmin_cones\", rps, nav_point_arr, 3, 3, ideal, nadir)\n",
    "assert g_improvement_direction2 is not None"
   ]
  },
  {
   "cell_type": "code",
<<<<<<< HEAD
   "execution_count": 9,
   "metadata": {},
   "outputs": [],
   "source": [
    "def momip_ti7_min_all() -> Problem:\n",
    "    r\"\"\"Defines the mixed-integer multiobjective optimization problem test instance 7 (T7).\n",
    "\n",
    "    The problem is defined as follows:\n",
    "\n",
    "    \\begin{align}\n",
    "        &\\min_{\\mathbf{x}} & f_1(\\mathbf{x}) & = x_1 + x_4 \\\\\n",
    "        &\\max_{\\mathbf{x}} & f_2(\\mathbf{x}) & = -(x_2 + x_5) \\\\\n",
    "        &\\min_{\\mathbf{x}} & f_3(\\mathbf{x}) & = x_3 + x_6 \\\\\n",
    "        &\\text{s.t.,}   & x_1^2 +x_2^2 + x_3^2 & \\leq 1,\\\\\n",
    "        &               & x_4^2 + x_5^2 + x_6^2 & \\leq 1,\\\\\n",
    "        &               & -1 \\leq x_i \\leq 1&\\;\\text{for}\\;i=\\{1,2,3\\},\\\\\n",
    "        &               & x_i \\in \\{-1, 0, 1\\}&\\;\\text{for}\\;i=\\{4, 5, 6\\}.\n",
    "    \\end{align}\n",
    "\n",
    "    In the problem, $x_1, x_2, x_3$ are real-valued and $x_4, x_5, x_6$ are integer-valued. The problem\n",
    "    is convex and differentiable.\n",
    "\n",
    "    The Pareto optimal integer assignments are $(x_4, x_5, x_6) \\in {(0,0,-1), (0, -1, 0), (-1,0,0)}$,\n",
    "    and the real-valued assignments are $\\{x_1, x_2, x_3 \\in \\mathbb{R}^3 |\n",
    "    x_1^2 + x_2^2 + x_3^2 = 1, x_1 \\leq 0, x_2 \\leq 0, x_3 \\leq 0\\}$. Unlike in the original definition,\n",
    "    $f_2$ is formulated to be maximized instead of minimized.\n",
    "\n",
    "    References:\n",
    "        Eichfelder, G., Gerlach, T., & Warnow, L. (n.d.). Test Instances for\n",
    "            Multiobjective Mixed-Integer Nonlinear Optimization.\n",
    "    \"\"\"\n",
    "    x_1 = Variable(name=\"x_1\", symbol=\"x_1\", variable_type=VariableTypeEnum.real)\n",
    "    x_2 = Variable(name=\"x_2\", symbol=\"x_2\", variable_type=VariableTypeEnum.real)\n",
    "    x_3 = Variable(name=\"x_3\", symbol=\"x_3\", variable_type=VariableTypeEnum.real)\n",
    "    x_4 = Variable(name=\"x_4\", symbol=\"x_4\", variable_type=VariableTypeEnum.integer, lowerbound=-1, upperbound=1)\n",
    "    x_5 = Variable(name=\"x_5\", symbol=\"x_5\", variable_type=VariableTypeEnum.integer, lowerbound=-1, upperbound=1)\n",
    "    x_6 = Variable(name=\"x_6\", symbol=\"x_6\", variable_type=VariableTypeEnum.integer, lowerbound=-1, upperbound=1)\n",
    "\n",
    "    f_1 = Objective(\n",
    "        name=\"f_1\",\n",
    "        symbol=\"f_1\",\n",
    "        func=\"x_1 + x_4\",\n",
    "        objective_type=ObjectiveTypeEnum.analytical,\n",
    "        ideal=-3,\n",
    "        nadir=3,\n",
    "        maximize=False,\n",
    "    )\n",
    "    f_2 = Objective(\n",
    "        name=\"f_2\",\n",
    "        symbol=\"f_2\",\n",
    "        func=\"-(x_2 + x_5)\",\n",
    "        objective_type=ObjectiveTypeEnum.analytical,\n",
    "        ideal=-3,\n",
    "        nadir=3,\n",
    "        maximize=False,\n",
    "    )\n",
    "    f_3 = Objective(\n",
    "        name=\"f_3\",\n",
    "        symbol=\"f_3\",\n",
    "        func=\"x_3 + x_6\",\n",
    "        objective_type=ObjectiveTypeEnum.analytical,\n",
    "        ideal=-3,\n",
    "        nadir=3,\n",
    "        maximize=False,\n",
    "    )\n",
    "\n",
    "    con_1 = Constraint(name=\"g_1\", symbol=\"g_1\", cons_type=ConstraintTypeEnum.LTE, func=\"x_1**2 + x_2**2 + x_3**2 - 1\")\n",
    "    con_2 = Constraint(name=\"g_2\", symbol=\"g_2\", cons_type=ConstraintTypeEnum.LTE, func=\"x_4**2 + x_5**2 + x_6**2 - 1\")\n",
    "\n",
    "    return Problem(\n",
    "        name=\"MOMIP Test Instance 7\",\n",
    "        description=\"Test instance 17\",\n",
    "        variables=[x_1, x_2, x_3, x_4, x_5, x_6],\n",
    "        constraints=[con_1, con_2],\n",
    "        objectives=[f_1, f_2, f_3],\n",
    "    )"
   ]
  },
  {
   "cell_type": "code",
   "execution_count": 12,
   "metadata": {},
   "outputs": [
    {
     "data": {
      "text/plain": [
       "{'f_1': 3.0, 'f_2': 3.0, 'f_3': 3.0}"
      ]
     },
     "execution_count": 12,
     "metadata": {},
     "output_type": "execute_result"
    }
   ],
   "source": [
    "problem2 = momip_ti7_min_all()\n",
    "nadir = get_nadir_dict(problem2)\n",
    "ideal = get_ideal_dict(problem2)\n",
    "nadir"
   ]
  },
  {
   "cell_type": "code",
   "execution_count": 14,
   "metadata": {},
   "outputs": [
    {
     "ename": "TypeError",
     "evalue": "unsupported operand type(s) for -: 'NoneType' and 'NoneType'",
     "output_type": "error",
     "traceback": [
      "\u001b[0;31m---------------------------------------------------------------------------\u001b[0m",
      "\u001b[0;31mTypeError\u001b[0m                                 Traceback (most recent call last)",
      "\u001b[1;32m/home/jp/tyot/mop/desdeo/DESDEO/desdeo/mcdm/pref_agg_tests.ipynb Cell 48\u001b[0m line \u001b[0;36m6\n\u001b[1;32m      <a href='vscode-notebook-cell:/home/jp/tyot/mop/desdeo/DESDEO/desdeo/mcdm/pref_agg_tests.ipynb#X65sZmlsZQ%3D%3D?line=0'>1</a>\u001b[0m rps \u001b[39m=\u001b[39m {\n\u001b[1;32m      <a href='vscode-notebook-cell:/home/jp/tyot/mop/desdeo/DESDEO/desdeo/mcdm/pref_agg_tests.ipynb#X65sZmlsZQ%3D%3D?line=1'>2</a>\u001b[0m         \u001b[39m\"\u001b[39m\u001b[39mDM1\u001b[39m\u001b[39m\"\u001b[39m: {\u001b[39m\"\u001b[39m\u001b[39mf_1\u001b[39m\u001b[39m\"\u001b[39m: \u001b[39m1\u001b[39m, \u001b[39m\"\u001b[39m\u001b[39mf_2\u001b[39m\u001b[39m\"\u001b[39m: \u001b[39m-\u001b[39m\u001b[39m2\u001b[39m, \u001b[39m\"\u001b[39m\u001b[39mf_3\u001b[39m\u001b[39m\"\u001b[39m: \u001b[39m1\u001b[39m},\n\u001b[1;32m      <a href='vscode-notebook-cell:/home/jp/tyot/mop/desdeo/DESDEO/desdeo/mcdm/pref_agg_tests.ipynb#X65sZmlsZQ%3D%3D?line=2'>3</a>\u001b[0m         \u001b[39m\"\u001b[39m\u001b[39mDM2\u001b[39m\u001b[39m\"\u001b[39m: {\u001b[39m\"\u001b[39m\u001b[39mf_1\u001b[39m\u001b[39m\"\u001b[39m: \u001b[39m2\u001b[39m, \u001b[39m\"\u001b[39m\u001b[39mf_2\u001b[39m\u001b[39m\"\u001b[39m: \u001b[39m1\u001b[39m, \u001b[39m\"\u001b[39m\u001b[39mf_3\u001b[39m\u001b[39m\"\u001b[39m: \u001b[39m0\u001b[39m},\n\u001b[1;32m      <a href='vscode-notebook-cell:/home/jp/tyot/mop/desdeo/DESDEO/desdeo/mcdm/pref_agg_tests.ipynb#X65sZmlsZQ%3D%3D?line=3'>4</a>\u001b[0m         \u001b[39m\"\u001b[39m\u001b[39mDM3\u001b[39m\u001b[39m\"\u001b[39m: {\u001b[39m\"\u001b[39m\u001b[39mf_1\u001b[39m\u001b[39m\"\u001b[39m: \u001b[39m0\u001b[39m, \u001b[39m\"\u001b[39m\u001b[39mf_2\u001b[39m\u001b[39m\"\u001b[39m: \u001b[39m0\u001b[39m, \u001b[39m\"\u001b[39m\u001b[39mf_3\u001b[39m\u001b[39m\"\u001b[39m: \u001b[39m2.8\u001b[39m},\n\u001b[1;32m      <a href='vscode-notebook-cell:/home/jp/tyot/mop/desdeo/DESDEO/desdeo/mcdm/pref_agg_tests.ipynb#X65sZmlsZQ%3D%3D?line=4'>5</a>\u001b[0m }\n\u001b[0;32m----> <a href='vscode-notebook-cell:/home/jp/tyot/mop/desdeo/DESDEO/desdeo/mcdm/pref_agg_tests.ipynb#X65sZmlsZQ%3D%3D?line=5'>6</a>\u001b[0m initial_response \u001b[39m=\u001b[39m nautili_init(problem2)\n",
      "File \u001b[0;32m~/tyot/mop/desdeo/DESDEO/desdeo/mcdm/nautiliv2.py:197\u001b[0m, in \u001b[0;36mnautili_init\u001b[0;34m(problem, create_solver)\u001b[0m\n\u001b[1;32m    184\u001b[0m \u001b[39m\u001b[39m\u001b[39m\"\"\"Initializes the NAUTILI method.\u001b[39;00m\n\u001b[1;32m    185\u001b[0m \n\u001b[1;32m    186\u001b[0m \u001b[39mCreates the initial response of the method, which sets the navigation point to the nadir point\u001b[39;00m\n\u001b[0;32m   (...)\u001b[0m\n\u001b[1;32m    194\u001b[0m \u001b[39m    NAUTILUS_Response: The initial response of the method.\u001b[39;00m\n\u001b[1;32m    195\u001b[0m \u001b[39m\"\"\"\u001b[39;00m\n\u001b[1;32m    196\u001b[0m nav_point \u001b[39m=\u001b[39m get_nadir_dict(problem)\n\u001b[0;32m--> 197\u001b[0m lower_bounds, upper_bounds \u001b[39m=\u001b[39m solve_reachable_bounds(problem, nav_point, create_solver\u001b[39m=\u001b[39;49mcreate_solver)\n\u001b[1;32m    200\u001b[0m \u001b[39mreturn\u001b[39;00m NAUTILI_Response(\n\u001b[1;32m    201\u001b[0m     distance_to_front\u001b[39m=\u001b[39m\u001b[39m0\u001b[39m,\n\u001b[1;32m    202\u001b[0m     navigation_point\u001b[39m=\u001b[39mnav_point,\n\u001b[0;32m   (...)\u001b[0m\n\u001b[1;32m    209\u001b[0m     pref_agg_method\u001b[39m=\u001b[39m\u001b[39mNone\u001b[39;00m,\n\u001b[1;32m    210\u001b[0m )\n",
      "File \u001b[0;32m~/tyot/mop/desdeo/DESDEO/desdeo/mcdm/nautiliv2.py:99\u001b[0m, in \u001b[0;36msolve_reachable_bounds\u001b[0;34m(problem, navigation_point, create_solver)\u001b[0m\n\u001b[1;32m     90\u001b[0m eps_problem, target, _ \u001b[39m=\u001b[39m add_epsilon_constraints(\n\u001b[1;32m     91\u001b[0m     problem,\n\u001b[1;32m     92\u001b[0m     \u001b[39m\"\u001b[39m\u001b[39mtarget\u001b[39m\u001b[39m\"\u001b[39m,\n\u001b[0;32m   (...)\u001b[0m\n\u001b[1;32m     95\u001b[0m     const_bounds,\n\u001b[1;32m     96\u001b[0m )\n\u001b[1;32m     98\u001b[0m \u001b[39m# solve\u001b[39;00m\n\u001b[0;32m---> 99\u001b[0m solver \u001b[39m=\u001b[39m _create_solver(eps_problem)\n\u001b[1;32m    100\u001b[0m res \u001b[39m=\u001b[39m solver(target)\n\u001b[1;32m    102\u001b[0m \u001b[39mif\u001b[39;00m \u001b[39mnot\u001b[39;00m res\u001b[39m.\u001b[39msuccess:\n\u001b[1;32m    103\u001b[0m     \u001b[39m# could not optimize eps problem\u001b[39;00m\n",
      "File \u001b[0;32m~/tyot/mop/desdeo/DESDEO/desdeo/tools/scipy_solver_interfaces.py:338\u001b[0m, in \u001b[0;36mcreate_scipy_de_solver\u001b[0;34m(problem, initial_guess, de_kwargs, subscriber)\u001b[0m\n\u001b[1;32m    334\u001b[0m bounds \u001b[39m=\u001b[39m get_variable_bounds_pairs(problem)\n\u001b[1;32m    336\u001b[0m \u001b[39m# initial guess. If no guess is present for a variable, said variable's mid point of its\u001b[39;00m\n\u001b[1;32m    337\u001b[0m \u001b[39m# lower abd upper bound is used instead\u001b[39;00m\n\u001b[0;32m--> 338\u001b[0m x0 \u001b[39m=\u001b[39m set_initial_guess(problem)\n\u001b[1;32m    340\u001b[0m evaluator \u001b[39m=\u001b[39m GenericEvaluator(problem)\n\u001b[1;32m    342\u001b[0m \u001b[39mdef\u001b[39;00m \u001b[39msolver\u001b[39m(target: \u001b[39mstr\u001b[39m) \u001b[39m-\u001b[39m\u001b[39m>\u001b[39m SolverResults:\n\u001b[1;32m    343\u001b[0m     \u001b[39m# add constraints if there are any\u001b[39;00m\n",
      "File \u001b[0;32m~/tyot/mop/desdeo/DESDEO/desdeo/tools/scipy_solver_interfaces.py:59\u001b[0m, in \u001b[0;36mset_initial_guess\u001b[0;34m(problem)\u001b[0m\n\u001b[1;32m     44\u001b[0m \u001b[39mdef\u001b[39;00m \u001b[39mset_initial_guess\u001b[39m(problem: Problem) \u001b[39m-\u001b[39m\u001b[39m>\u001b[39m \u001b[39mlist\u001b[39m[\u001b[39mfloat\u001b[39m \u001b[39m|\u001b[39m \u001b[39mint\u001b[39m]:\n\u001b[1;32m     45\u001b[0m \u001b[39m    \u001b[39m\u001b[39m\"\"\"Sets or gets the initial guess for each variable defined in a Problem.\u001b[39;00m\n\u001b[1;32m     46\u001b[0m \n\u001b[1;32m     47\u001b[0m \u001b[39m    For variables without initial guess, the initial guess is set to be the middle point of said\u001b[39;00m\n\u001b[0;32m   (...)\u001b[0m\n\u001b[1;32m     54\u001b[0m \u001b[39m        list[float | int]: a list of numbers, each number represents the initial guess of each variable in the problem.\u001b[39;00m\n\u001b[1;32m     55\u001b[0m \u001b[39m    \"\"\"\u001b[39;00m\n\u001b[1;32m     56\u001b[0m     \u001b[39mreturn\u001b[39;00m [\n\u001b[1;32m     57\u001b[0m         variable\u001b[39m.\u001b[39minitial_value\n\u001b[1;32m     58\u001b[0m         \u001b[39mif\u001b[39;00m variable\u001b[39m.\u001b[39minitial_value \u001b[39mis\u001b[39;00m \u001b[39mnot\u001b[39;00m \u001b[39mNone\u001b[39;00m\n\u001b[0;32m---> 59\u001b[0m         \u001b[39melse\u001b[39;00m ((variable\u001b[39m.\u001b[39;49mupperbound \u001b[39m-\u001b[39;49m variable\u001b[39m.\u001b[39;49mlowerbound) \u001b[39m/\u001b[39m \u001b[39m2\u001b[39m \u001b[39m+\u001b[39m variable\u001b[39m.\u001b[39mlowerbound)\n\u001b[1;32m     60\u001b[0m         \u001b[39mfor\u001b[39;00m variable \u001b[39min\u001b[39;00m problem\u001b[39m.\u001b[39mvariables\n\u001b[1;32m     61\u001b[0m     ]\n",
      "\u001b[0;31mTypeError\u001b[0m: unsupported operand type(s) for -: 'NoneType' and 'NoneType'"
     ]
    }
   ],
   "source": [
    "rps = {\n",
    "        \"DM1\": {\"f_1\": 1, \"f_2\": -2, \"f_3\": 1},\n",
    "        \"DM2\": {\"f_1\": 2, \"f_2\": 1, \"f_3\": 0},\n",
    "        \"DM3\": {\"f_1\": 0, \"f_2\": 0, \"f_3\": 2.8},\n",
    "}\n",
    "initial_response = nautili_init(problem2)"
   ]
  },
  {
   "cell_type": "code",
   "execution_count": null,
   "metadata": {},
   "outputs": [],
   "source": [
    "all_resp = nautili_all_steps(problem2, 3, rps, [initial_response], pref_agg_method=\"mean\")\n",
    "all_resp"
   ]
  },
  {
   "cell_type": "code",
   "execution_count": null,
   "metadata": {},
   "outputs": [],
   "source": [
    "lower_bounds = pd.DataFrame(\n",
    "    [response.reachable_bounds[\"lower_bounds\"] for response in all_resp]\n",
    ")\n",
    "upper_bounds = pd.DataFrame(\n",
    "    [response.reachable_bounds[\"upper_bounds\"] for response in all_resp]\n",
    ")\n",
    "reference_points = pd.DataFrame(\n",
    "    [response.reference_points for response in all_resp]\n",
    ")\n",
    "improvement_directions = pd.DataFrame(\n",
    "    [response.improvement_directions for response in all_resp]\n",
    ")\n",
    "navigation_points = pd.DataFrame(\n",
    "    [response.navigation_point for response in all_resp]\n",
    ")\n",
    "reachable_sols = pd.DataFrame(\n",
    "    [response.reachable_solution for response in all_resp]\n",
    ")\n",
    "group_dirs = pd.DataFrame(\n",
    "    [response.group_improvement_direction for response in all_resp[:1]]\n",
    ")\n",
    "gp = objective_dict_to_numpy_array(problem, initial_response.navigation_point) - group_dirs.to_numpy()\n",
    "gr = group_dirs.to_numpy()"
   ]
  },
  {
   "cell_type": "code",
   "execution_count": null,
   "metadata": {},
   "outputs": [],
   "source": [
    "import plotly.express as ex\n",
    "\"\"\"\n",
    "iteration_points = pd.DataFrame(\n",
    "    navigation_points,\n",
    "    columns=[\"f1\", \"f2\", \"f3\"]\n",
    ")\n",
    "\"\"\"\n",
    "data = pd.read_csv(\"DTLZ2.csv\")\n",
    "fig2 = ex.scatter_3d(\n",
    "    data, # pregen front just to show where it approx is. NOT used in the OPTIMIZATION\n",
    "    x=data.columns[0],\n",
    "    y=data.columns[1],\n",
    "    z=data.columns[2],\n",
    "    range_x=[-0.2,1.2],\n",
    "    range_y=[-0.2,1.2],\n",
    "    range_z=[-0.2,1.2],\n",
    "    width=1000,\n",
    "    height=1000,\n",
    ")\n",
    "fig2.add_scatter3d(\n",
    "        x=navigation_points[navigation_points.columns[0]],\n",
    "        y=navigation_points[navigation_points.columns[1]],\n",
    "        z=navigation_points[navigation_points.columns[2]],\n",
    "        #animation_frame=[1,2,3,4,5],\n",
    "        #range_x=[0,1],\n",
    "        #range_y=[0,1],\n",
    "        #range_z=[0,1],\n",
    "        #width=1000,\n",
    "        #height=1000,\n",
    ")\n",
    "# TODO: use brain to do this\n",
    "# TODO: add RPs; RPs per iter in animation\n",
    "# TODO: add the reachable solutions solution; per iter in animation\n",
    "# TODO: add PF?\n",
    "\n",
    "# group improvement direction: BLUE for group IMP dir\n",
    "fig2.add_scatter3d(\n",
    "    x=[gr[0][0]],\n",
    "    y=[gr[0][1]],\n",
    "    z=[gr[0][2]], \n",
    "    mode='markers',marker=dict(color='blue')\n",
    ")\n",
    "# group preference point: RED for group RP\n",
    "fig2.add_scatter3d(\n",
    "    x=[gp[0][0]],\n",
    "    y=[gp[0][1]],\n",
    "    z=[gp[0][2]], \n",
    "    mode='markers',marker=dict(color='red')\n",
    ")\n",
    "#fig2.add_scatter3d(\n",
    "#    x=prefs[:, 0],\n",
    "#    y=prefs[:, 1],\n",
    "#    z=prefs[:, 2],\n",
    "#)\n",
    "\n",
    "# let's just take the first iter stuff here, as we are not changing prefs.\n",
    "fig2.add_scatter3d(\n",
    "    x= 1 - impr_dirs[0][1][0], # vikat toisto ekasta, että tulee kolmio\n",
    "    y= 1 - impr_dirs[1][1][0], # TODO: viksummin\n",
    "    z =1 - impr_dirs[2][1][0],\n",
    ")\n",
    "fig2.add_scatter3d(\n",
    "    x= impr_dirs[0][1][0], # TODO: viksummin ja lisää vikat toisto ekasta, että tulee kolmio\n",
    "    y= impr_dirs[1][1][0], \n",
    "    z =impr_dirs[2][1][0],\n",
    ")\n",
    "\n",
    "fig2.show()\n",
    "#fig2.write_html(\"results/dtlz2maxmin.html\")"
   ]
=======
   "execution_count": null,
   "metadata": {},
   "outputs": [],
   "source": []
>>>>>>> 89f545f (work on getting some visualizations out)
  }
 ],
 "metadata": {
  "kernelspec": {
   "display_name": ".venv",
   "language": "python",
   "name": "python3"
  },
  "language_info": {
   "codemirror_mode": {
    "name": "ipython",
    "version": 3
   },
   "file_extension": ".py",
   "mimetype": "text/x-python",
   "name": "python",
   "nbconvert_exporter": "python",
   "pygments_lexer": "ipython3",
   "version": "3.12.2"
  }
 },
 "nbformat": 4,
 "nbformat_minor": 2
}
