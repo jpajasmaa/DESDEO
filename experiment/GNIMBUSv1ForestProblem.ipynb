{
 "cells": [
  {
   "cell_type": "code",
   "execution_count": 4,
   "id": "64333413-123f-4e97-ad6e-c2dcb3521dae",
   "metadata": {},
   "outputs": [],
   "source": [
    "import desdeo"
   ]
  },
  {
   "cell_type": "markdown",
   "id": "faf864df-bdd7-4411-bea0-f45004fc00d2",
   "metadata": {},
   "source": [
    "# UTOPIA problem and imports"
   ]
  },
  {
   "cell_type": "code",
   "execution_count": 5,
   "id": "953adf9c-578a-4dc2-bdd4-aa5ec6e64cfe",
   "metadata": {
    "jupyter": {
     "source_hidden": true
    }
   },
   "outputs": [],
   "source": [
    "import numpy as np\n",
    "\n",
    "from desdeo.problem import (PolarsEvaluator, Problem, VariableType,\n",
    "                            variable_dict_to_numpy_array, Constraint,\n",
    "                            ConstraintTypeEnum, Variable, VariableTypeEnum, ScalarizationFunction\n",
    "                            )\n",
    "from desdeo.tools.utils import (\n",
    "    get_corrected_ideal_and_nadir,\n",
    "    get_corrected_reference_point,\n",
    ")\n",
    "from desdeo.tools.scalarization import objective_dict_has_all_symbols\n",
    "\n",
    "from desdeo.problem.testproblems import dtlz2, nimbus_test_problem\n",
    "\n",
    "# from desdeo.mcdm.gnimbus import infer_classifications, solve_intermediate_solutions, solve_sub_problems\n",
    "from gnimbus import (explain, voting_procedure, infer_classifications, agg_cardinal, infer_ordinal_classifications,\n",
    "                     solve_intermediate_solutions, solve_sub_problems, convert_to_nimbus_classification, add_group_nimbusv2_sf_diff,\n",
    "                     list_of_rps_to_dict_of_rps, dict_of_rps_to_list_of_rps)\n",
    "\n",
    "from desdeo.problem import dtlz2, nimbus_test_problem, zdt1, zdt2, forest_problem, forest_problem_discrete\n",
    "from desdeo.tools import IpoptOptions, PyomoIpoptSolver, add_asf_diff\n",
    "\n",
    "from aggregate_classifications import aggregate_classifications\n",
    "\n",
    "from gnimbus import *\n",
    "\n",
    "from desdeo.tools import (\n",
    "    BaseSolver,\n",
    "    SolverOptions,\n",
    "    SolverResults,\n",
    "    add_group_asf_diff,\n",
    "    add_group_asf,\n",
    "    add_group_guess_sf_diff,\n",
    "    add_group_guess_sf,\n",
    "    add_group_nimbus_sf_diff,\n",
    "    add_group_nimbus_sf,\n",
    "    add_group_stom_sf_diff,\n",
    "    add_group_stom_sf,\n",
    "    guess_best_solver,\n",
    "    add_asf_diff,\n",
    "    ScalarizationError,\n",
    "    add_nimbus_sf_diff, add_nimbus_sf_nondiff\n",
    ")\n",
    "from desdeo.mcdm.nimbus import (\n",
    "    generate_starting_point,\n",
    "    infer_classifications,\n",
    "    NimbusError\n",
    ")\n",
    "\n",
    "from desdeo.tools.scalarization import add_asf_diff\n",
    "from desdeo.tools import guess_best_solver\n",
    "\n",
    "from desdeo.mcdm.nimbus import generate_starting_point\n",
    "\n",
    "from aggregate_classifications import aggregate_classifications\n",
    "import math\n",
    "import numpy as np\n",
    "from pathlib import Path\n",
    "import polars as pl\n",
    "\n",
    "from desdeo.problem.schema import (\n",
    "    Constant,\n",
    "    Constraint,\n",
    "    ConstraintTypeEnum,\n",
    "    DiscreteRepresentation,\n",
    "    ExtraFunction,\n",
    "    Objective,\n",
    "    ObjectiveTypeEnum,\n",
    "    Problem,\n",
    "    TensorConstant,\n",
    "    TensorVariable,\n",
    "    Variable,\n",
    "    VariableTypeEnum,\n",
    ")\n",
    "from desdeo.tools.utils import available_solvers, payoff_table_method\n",
    "\n",
    "\n",
    "def utopia_problem_old2(problem_name: str = \"Forest problem\", holding: int = 1) -> tuple[Problem, dict]:\n",
    "    r\"\"\"Defines a test forest problem that has TensorConstants and TensorVariables.\n",
    "\n",
    "    The problem has TensorConstants V, W and P as vectors taking values from a data file and\n",
    "    TensorVariables X_n, where n is the number of units in the data, as vectors matching the constants in shape.\n",
    "    The variables are binary and each variable vector X_i has one variable with the value 1 while others have value 0.\n",
    "    The variable with the value 1 for each vector X_i represents the optimal plan for the corresponding unit i.\n",
    "    The three objective functions f_1, f_2, f_3 represent the net present value, wood volume at the end of\n",
    "    the planning period, and the profit from harvesting.\n",
    "    All of the objective functions are to be maximized.\n",
    "    The problem is defined as follows:\n",
    "\n",
    "    \\begin{align}\n",
    "        \\mbox{maximize~} & \\sum_{j=1}^N\\sum_{i \\in I_j} v_{ij} x_{ij} & \\\\\n",
    "        \\mbox{maximize~} & \\sum_{j=1}^N\\sum_{i \\in I_j} w_{ij} x_{ij} & \\\\\n",
    "        \\mbox{maximize~} & \\sum_{j=1}^N\\sum_{i \\in I_j} p_{ij} x_{ij} & \\\\\n",
    "        \\nonumber\\\\\n",
    "        \\mbox{subject to~} &  \\sum\\limits_{i \\in I_j} x_{ij} = 1, & \\forall j = 1 \\ldots N \\\\\n",
    "        & x_{ij}\\in \\{0,1\\}& \\forall j = 1 \\ldots N, ~\\forall i\\in I_j,\n",
    "    \\end{align}\n",
    "\n",
    "    where $x_{ij}$ are decision variables representing the choice of implementing management plan $i$ in stand $j$,\n",
    "    and $I_j$ is the set of available management plans for stand $j$. For each plan $i$ in stand $j$\n",
    "    the net present value, wood volume at the end of the planning period, and the profit from harvesting\n",
    "    are represented by $v_{ij}$, $w_{ij}$, and $p_{ij}$ respectively.\n",
    "\n",
    "    Args:\n",
    "        holding (int, optional): The number of the holding to be optimized. Defaults to 1.\n",
    "        comparing (bool, optional): Determines if solutions are to be compared to those from the rahti app.\n",
    "            Defaults to None.\n",
    "\n",
    "    Returns:\n",
    "        Problem: An instance of the test forest problem.\n",
    "    \"\"\"\n",
    "    # TODO: remove this at some point\n",
    "    comparing = False\n",
    "\n",
    "    schedule_dict = {}\n",
    "\n",
    "    discounting_factor = 3  # This can be 1, 2, 3, 4 or 5. It represents %\n",
    "    discounting = [\n",
    "        (1 - 0.01 * discounting_factor) ** 3,\n",
    "        (1 - 0.01 * discounting_factor) ** 8,\n",
    "        (1 - 0.01 * discounting_factor) ** 13,\n",
    "    ]\n",
    "\n",
    "    df = pl.read_csv(\"alternatives_290124.csv\", dtypes={\"unit\": pl.Float64})\n",
    "    df_key = pl.read_csv(\"alternatives_key_290124.csv\", dtypes={\"unit\": pl.Float64})\n",
    "\n",
    "    selected_df_v = df.filter(pl.col(\"holding\") == holding).select(\n",
    "        [\"unit\", \"schedule\", f\"npv_{discounting_factor}_percent\"]\n",
    "    )\n",
    "    unique_units = selected_df_v.unique([\"unit\"], maintain_order=True).get_column(\"unit\")\n",
    "    selected_df_v.group_by([\"unit\", \"schedule\"])\n",
    "    rows_by_key = selected_df_v.rows_by_key(key=[\"unit\", \"schedule\"])\n",
    "    v_array = np.zeros((selected_df_v[\"unit\"].n_unique(), selected_df_v[\"schedule\"].n_unique()))\n",
    "    for i in range(np.shape(v_array)[0]):\n",
    "        for j in range(np.shape(v_array)[1]):\n",
    "            if (unique_units[i], j) in rows_by_key:\n",
    "                v_array[i][j] = rows_by_key[(unique_units[i], j)][0]\n",
    "\n",
    "    # determine whether the results are to be compared to those from the rahti app (for testing purposes)\n",
    "    # if compared, the stock values are calculated by substacting the value after 2025 period from\n",
    "    # the value after the 2035 period (in other words, last value - first value)\n",
    "    if comparing:\n",
    "        selected_df_w = df.filter(pl.col(\"holding\") == holding).select([\"unit\", \"schedule\", \"stock_2025\", \"stock_2035\"])\n",
    "        selected_df_w.group_by([\"unit\", \"schedule\"])\n",
    "        rows_by_key = selected_df_w.rows_by_key(key=[\"unit\", \"schedule\"])\n",
    "        selected_df_key_w = df_key.select([\"unit\", \"schedule\", \"treatment\"])\n",
    "        selected_df_key_w.group_by([\"unit\", \"schedule\"])\n",
    "        rows_by_key_df_key = selected_df_key_w.rows_by_key(key=[\"unit\", \"schedule\"])\n",
    "        w_array = np.zeros((selected_df_w[\"unit\"].n_unique(), selected_df_w[\"schedule\"].n_unique()))\n",
    "        for i in range(np.shape(w_array)[0]):\n",
    "            for j in range(np.shape(w_array)[1]):\n",
    "                if len(rows_by_key_df_key[(unique_units[i], j)]) == 0:\n",
    "                    continue\n",
    "                if (unique_units[i], j) in rows_by_key:\n",
    "                    w_array[i][j] = rows_by_key[(unique_units[i], j)][0][1] - rows_by_key[(unique_units[i], j)][0][0]\n",
    "    else:\n",
    "        selected_df_w = df.filter(pl.col(\"holding\") == holding).select([\"unit\", \"schedule\", \"stock_2035\"])\n",
    "        selected_df_w.group_by([\"unit\", \"schedule\"])\n",
    "        rows_by_key = selected_df_w.rows_by_key(key=[\"unit\", \"schedule\"])\n",
    "        selected_df_key_w = df_key.select([\"unit\", \"schedule\", \"treatment\"])\n",
    "        selected_df_key_w.group_by([\"unit\", \"schedule\"])\n",
    "        rows_by_key_df_key = selected_df_key_w.rows_by_key(key=[\"unit\", \"schedule\"])\n",
    "        w_array = np.zeros((selected_df_w[\"unit\"].n_unique(), selected_df_w[\"schedule\"].n_unique()))\n",
    "        for i in range(np.shape(w_array)[0]):\n",
    "            for j in range(np.shape(w_array)[1]):\n",
    "                if len(rows_by_key_df_key[(unique_units[i], j)]) == 0:\n",
    "                    continue\n",
    "                if (unique_units[i], j) in rows_by_key:\n",
    "                    w_array[i][j] = rows_by_key[(unique_units[i], j)][0]\n",
    "\n",
    "    \"\"\"\n",
    "    selected_df_p = df.filter(pl.col(\"holding\") == holding).select(\n",
    "        [\"unit\", \"schedule\", \"harvest_value_period_2025\", \"harvest_value_period_2030\", \"harvest_value_period_2035\"]\n",
    "    )\n",
    "    selected_df_p.group_by([\"unit\", \"schedule\"])\n",
    "    rows_by_key = selected_df_p.rows_by_key(key=[\"unit\", \"schedule\"])\n",
    "    p_array = np.zeros((selected_df_p[\"unit\"].n_unique(), selected_df_p[\"schedule\"].n_unique()))\n",
    "    discounting = [0.95**5, 0.95**10, 0.95**15]\n",
    "    for i in range(np.shape(p_array)[0]):\n",
    "        for j in range(np.shape(p_array)[1]):\n",
    "            if (unique_units[i], j) in rows_by_key:\n",
    "                p_array[i][j] = (\n",
    "                    sum(x * y for x, y in zip(rows_by_key[(unique_units[i], j)][0], discounting, strict=True)) + 1e-6\n",
    "                )  # the 1E-6 is to deal with an annoying corner case, don't worry about it\n",
    "                v_array[i][j] += p_array[i][j]\n",
    "    \"\"\"\n",
    "\n",
    "    selected_df_p1 = df.filter(pl.col(\"holding\") == holding).select([\"unit\", \"schedule\", \"harvest_value_period_2025\"])\n",
    "    selected_df_p1.group_by([\"unit\", \"schedule\"])\n",
    "    rows_by_key = selected_df_p1.rows_by_key(key=[\"unit\", \"schedule\"])\n",
    "    p1_array = np.zeros((selected_df_p1[\"unit\"].n_unique(), selected_df_p1[\"schedule\"].n_unique()))\n",
    "    for i in range(np.shape(p1_array)[0]):\n",
    "        for j in range(np.shape(p1_array)[1]):\n",
    "            if (unique_units[i], j) in rows_by_key:\n",
    "                p1_array[i][j] = rows_by_key[(unique_units[i], j)][0] + 1e-6\n",
    "\n",
    "    selected_df_p2 = df.filter(pl.col(\"holding\") == holding).select([\"unit\", \"schedule\", \"harvest_value_period_2030\"])\n",
    "    selected_df_p2.group_by([\"unit\", \"schedule\"])\n",
    "    rows_by_key = selected_df_p2.rows_by_key(key=[\"unit\", \"schedule\"])\n",
    "    p2_array = np.zeros((selected_df_p2[\"unit\"].n_unique(), selected_df_p2[\"schedule\"].n_unique()))\n",
    "    for i in range(np.shape(p2_array)[0]):\n",
    "        for j in range(np.shape(p2_array)[1]):\n",
    "            if (unique_units[i], j) in rows_by_key:\n",
    "                p2_array[i][j] = rows_by_key[(unique_units[i], j)][0] + 1e-6\n",
    "\n",
    "    selected_df_p3 = df.filter(pl.col(\"holding\") == holding).select([\"unit\", \"schedule\", \"harvest_value_period_2035\"])\n",
    "    selected_df_p3.group_by([\"unit\", \"schedule\"])\n",
    "    rows_by_key = selected_df_p3.rows_by_key(key=[\"unit\", \"schedule\"])\n",
    "    p3_array = np.zeros((selected_df_p3[\"unit\"].n_unique(), selected_df_p3[\"schedule\"].n_unique()))\n",
    "    for i in range(np.shape(p3_array)[0]):\n",
    "        for j in range(np.shape(p3_array)[1]):\n",
    "            if (unique_units[i], j) in rows_by_key:\n",
    "                p3_array[i][j] = rows_by_key[(unique_units[i], j)][0] + 1e-6\n",
    "\n",
    "    constants = []\n",
    "    variables = []\n",
    "    constraints = []\n",
    "    f_1_func = []\n",
    "    f_2_func = []\n",
    "    p1_func = []\n",
    "    p2_func = []\n",
    "    p3_func = []\n",
    "    # define the constants V, W and P, decision variable X, constraints, and objective function expressions in one loop\n",
    "    for i in range(np.shape(v_array)[0]):\n",
    "        # Constants V, W and P\n",
    "        v = TensorConstant(\n",
    "            name=f\"V_{i+1}\",\n",
    "            symbol=f\"V_{i+1}\",\n",
    "            shape=[np.shape(v_array)[1]],  # NOTE: vectors have to be of form [2] instead of [2,1] or [1,2]\n",
    "            values=v_array[i].tolist(),\n",
    "        )\n",
    "        constants.append(v)\n",
    "        w = TensorConstant(\n",
    "            name=f\"W_{i+1}\",\n",
    "            symbol=f\"W_{i+1}\",\n",
    "            shape=[np.shape(w_array)[1]],  # NOTE: vectors have to be of form [2] instead of [2,1] or [1,2]\n",
    "            values=w_array[i].tolist(),\n",
    "        )\n",
    "        constants.append(w)\n",
    "        p1 = TensorConstant(\n",
    "            name=f\"P1_{i+1}\",\n",
    "            symbol=f\"P1_{i+1}\",\n",
    "            shape=[np.shape(p1_array)[1]],  # NOTE: vectors have to be of form [2] instead of [2,1] or [1,2]\n",
    "            values=p1_array[i].tolist(),\n",
    "        )\n",
    "        constants.append(p1)\n",
    "\n",
    "        p2 = TensorConstant(\n",
    "            name=f\"P2_{i+1}\",\n",
    "            symbol=f\"P2_{i+1}\",\n",
    "            shape=[np.shape(p2_array)[1]],  # NOTE: vectors have to be of form [2] instead of [2,1] or [1,2]\n",
    "            values=p2_array[i].tolist(),\n",
    "        )\n",
    "        constants.append(p2)\n",
    "\n",
    "        p3 = TensorConstant(\n",
    "            name=f\"P3_{i+1}\",\n",
    "            symbol=f\"P3_{i+1}\",\n",
    "            shape=[np.shape(p3_array)[1]],  # NOTE: vectors have to be of form [2] instead of [2,1] or [1,2]\n",
    "            values=p3_array[i].tolist(),\n",
    "        )\n",
    "        constants.append(p3)\n",
    "\n",
    "        # Decision variable X\n",
    "        x = TensorVariable(\n",
    "            name=f\"X_{i+1}\",\n",
    "            symbol=f\"X_{i+1}\",\n",
    "            variable_type=VariableTypeEnum.binary,\n",
    "            shape=[np.shape(v_array)[1]],  # NOTE: vectors have to be of form [2] instead of [2,1] or [1,2]\n",
    "            lowerbounds=np.shape(v_array)[1] * [0],\n",
    "            upperbounds=np.shape(v_array)[1] * [1],\n",
    "            initial_values=np.shape(v_array)[1] * [0],\n",
    "        )\n",
    "        variables.append(x)\n",
    "\n",
    "        # Fill out the dict with information about treatments associated with X_{i+1}\n",
    "        treatment_list = (\n",
    "            df_key.filter((pl.col(\"holding\") == holding) & (pl.col(\"unit\") == unique_units[i]))\n",
    "            .get_column(\"treatment\")\n",
    "            .to_list()\n",
    "        )\n",
    "        schedule_dict[f\"X_{i+1}\"] = dict(zip(range(len(treatment_list)), treatment_list, strict=True))\n",
    "        schedule_dict[f\"X_{i+1}\"][\"unit\"] = unique_units[i]\n",
    "\n",
    "        # Constraints\n",
    "        con = Constraint(\n",
    "            name=f\"x_con_{i+1}\",\n",
    "            symbol=f\"x_con_{i+1}\",\n",
    "            cons_type=ConstraintTypeEnum.EQ,\n",
    "            func=f\"Sum(X_{i+1}) - 1\",\n",
    "            is_twice_differentiable=True,\n",
    "        )\n",
    "        constraints.append(con)\n",
    "\n",
    "        # Objective function expressions\n",
    "        exprs = f\"V_{i+1}@X_{i+1}\"\n",
    "        f_1_func.append(exprs)\n",
    "\n",
    "        exprs = f\"W_{i+1}@X_{i+1}\"\n",
    "        f_2_func.append(exprs)\n",
    "\n",
    "        exprs = f\"P1_{i+1}@X_{i+1}\"\n",
    "        p1_func.append(exprs)\n",
    "\n",
    "        exprs = f\"P2_{i+1}@X_{i+1}\"\n",
    "        p2_func.append(exprs)\n",
    "\n",
    "        exprs = f\"P3_{i+1}@X_{i+1}\"\n",
    "        p3_func.append(exprs)\n",
    "\n",
    "    for i in range(1, 4):\n",
    "        pvar = Variable(name=f\"P_{i}\", symbol=f\"P_{i}\", variable_type=VariableTypeEnum.real, lowerbound=0)\n",
    "        variables.append(pvar)\n",
    "\n",
    "    vvar = Variable(name=\"V_end\", symbol=\"V_end\", variable_type=VariableTypeEnum.real, lowerbound=0)\n",
    "    variables.append(vvar)\n",
    "\n",
    "    # get the remainder value of the forest into decision variable V_end\n",
    "    v_func = \"V_end - \" + \" - \".join(f_1_func)\n",
    "    con = Constraint(\n",
    "        name=\"v_con\",\n",
    "        symbol=\"v_con\",\n",
    "        cons_type=ConstraintTypeEnum.EQ,\n",
    "        func=v_func,\n",
    "        is_twice_differentiable=True,\n",
    "    )\n",
    "    constraints.append(con)\n",
    "\n",
    "    # These are here, so that we can get the harvesting incomes into decision variables P_i\n",
    "    p1_func = \"P_1 - \" + \" - \".join(p1_func)\n",
    "    con = Constraint(\n",
    "        name=\"p1_con\",\n",
    "        symbol=\"p1_con\",\n",
    "        cons_type=ConstraintTypeEnum.EQ,\n",
    "        func=p1_func,\n",
    "        is_twice_differentiable=True,\n",
    "    )\n",
    "    constraints.append(con)\n",
    "\n",
    "    p2_func = \"P_2 - \" + \" - \".join(p2_func)\n",
    "    con = Constraint(\n",
    "        name=\"p2_con\",\n",
    "        symbol=\"p2_con\",\n",
    "        cons_type=ConstraintTypeEnum.EQ,\n",
    "        func=p2_func,\n",
    "        is_twice_differentiable=True,\n",
    "    )\n",
    "    constraints.append(con)\n",
    "\n",
    "    p3_func = \"P_3 - \" + \" - \".join(p3_func)\n",
    "    con = Constraint(\n",
    "        name=\"p3_con\",\n",
    "        symbol=\"p3_con\",\n",
    "        cons_type=ConstraintTypeEnum.EQ,\n",
    "        func=p3_func,\n",
    "        is_twice_differentiable=True,\n",
    "    )\n",
    "    constraints.append(con)\n",
    "\n",
    "    # print(v_func)\n",
    "    # print(p1_func)\n",
    "    # print(p2_func)\n",
    "    # print(p3_func)\n",
    "\n",
    "    # form the objective function sums\n",
    "    f_2_func = \" + \".join(f_2_func)\n",
    "    f_3_func = f\"{discounting[0]} * P_1 + {discounting[1]} * P_2 + {discounting[2]} * P_3\"\n",
    "    f_1_func = \"V_end + \" + f_3_func\n",
    "\n",
    "    # print(f_1_func)\n",
    "    # print(f_2_func)\n",
    "    # print(f_3_func)\n",
    "\n",
    "    f_1 = Objective(\n",
    "        name=\"Net present value\",\n",
    "        symbol=\"f_1\",\n",
    "        func=f_1_func,\n",
    "        maximize=True,\n",
    "        objective_type=ObjectiveTypeEnum.analytical,\n",
    "        is_linear=True,\n",
    "        is_convex=False,  # not checked\n",
    "        is_twice_differentiable=True,\n",
    "    )\n",
    "\n",
    "    f_2 = Objective(\n",
    "        name=\"Wood stock volume\",\n",
    "        symbol=\"f_2\",\n",
    "        func=f_2_func,\n",
    "        maximize=True,\n",
    "        objective_type=ObjectiveTypeEnum.analytical,\n",
    "        is_linear=True,\n",
    "        is_convex=False,  # not checked\n",
    "        is_twice_differentiable=True,\n",
    "    )\n",
    "\n",
    "    f_3 = Objective(\n",
    "        name=\"Harvest value\",\n",
    "        symbol=\"f_3\",\n",
    "        func=f_3_func,\n",
    "        maximize=True,\n",
    "        objective_type=ObjectiveTypeEnum.analytical,\n",
    "        is_linear=True,\n",
    "        is_convex=False,  # not checked\n",
    "        is_twice_differentiable=True,\n",
    "    )\n",
    "\n",
    "    # This is so bad, but we currently don't have a better way\n",
    "    ideals, nadirs = payoff_table_method(\n",
    "        problem=Problem(\n",
    "            name=problem_name,\n",
    "            description=\"A test forest problem.\",\n",
    "            constants=constants,\n",
    "            variables=variables,\n",
    "            objectives=[f_1, f_2, f_3],\n",
    "            constraints=constraints,\n",
    "        ),\n",
    "        solver=available_solvers[\"gurobipy\"],\n",
    "    )\n",
    "\n",
    "    print(ideals)\n",
    "    print(nadirs)\n",
    "\n",
    "    f_1 = Objective(\n",
    "        name=\"Net present value / €\",\n",
    "        symbol=\"f_1\",\n",
    "        func=f_1_func,\n",
    "        maximize=True,\n",
    "        ideal=math.ceil(ideals[\"f_1\"]),\n",
    "        nadir=math.floor(nadirs[\"f_1\"]),\n",
    "        objective_type=ObjectiveTypeEnum.analytical,\n",
    "        is_linear=True,\n",
    "        is_convex=False,  # not checked\n",
    "        is_twice_differentiable=True,\n",
    "    )\n",
    "\n",
    "    f_2 = Objective(\n",
    "        name=\"Wood stock volume / m^3\",\n",
    "        symbol=\"f_2\",\n",
    "        func=f_2_func,\n",
    "        maximize=True,\n",
    "        ideal=math.ceil(ideals[\"f_2\"]),\n",
    "        nadir=math.floor(nadirs[\"f_2\"]),\n",
    "        objective_type=ObjectiveTypeEnum.analytical,\n",
    "        is_linear=True,\n",
    "        is_convex=False,  # not checked\n",
    "        is_twice_differentiable=True,\n",
    "    )\n",
    "\n",
    "    f_3 = Objective(\n",
    "        name=\"Harvest value / €\",\n",
    "        symbol=\"f_3\",\n",
    "        func=f_3_func,\n",
    "        maximize=True,\n",
    "        ideal=math.ceil(ideals[\"f_3\"]),\n",
    "        nadir=math.floor(nadirs[\"f_3\"]),\n",
    "        objective_type=ObjectiveTypeEnum.analytical,\n",
    "        is_linear=True,\n",
    "        is_convex=False,  # not checked\n",
    "        is_twice_differentiable=True,\n",
    "    )\n",
    "\n",
    "    return Problem(\n",
    "        name=problem_name,\n",
    "        description=\"A test forest problem.\",\n",
    "        constants=constants,\n",
    "        variables=variables,\n",
    "        objectives=[f_1, f_2, f_3],\n",
    "        constraints=constraints,\n",
    "        is_twice_differentiable=True,\n",
    "    ), schedule_dict\n"
   ]
  },
  {
   "cell_type": "code",
   "execution_count": 6,
   "id": "5c4919bc-9b6c-45dc-b279-2839061bb63a",
   "metadata": {},
   "outputs": [],
   "source": [
    "import warnings\n",
    "warnings.filterwarnings('ignore')"
   ]
  },
  {
   "cell_type": "markdown",
   "id": "bd04b90e-da1d-4917-aaeb-2705477bda14",
   "metadata": {},
   "source": [
    "# Iterative Pareto Representer"
   ]
  },
  {
   "cell_type": "code",
   "execution_count": 7,
   "id": "acf4e9bf-579d-4314-b19b-f378390657be",
   "metadata": {
    "scrolled": true
   },
   "outputs": [
    {
     "name": "stdout",
     "output_type": "stream",
     "text": [
      "Run 100/100\n"
     ]
    }
   ],
   "source": [
    "import numpy as np\n",
    "import plotly.express as ex\n",
    "import polars as pl\n",
    "from IPython.display import clear_output\n",
    "\n",
    "from desdeo.problem.testproblems import forest_problem\n",
    "from desdeo.tools import GurobipySolver, payoff_table_method\n",
    "from desdeo.tools.GenerateReferencePoints import generate_points\n",
    "from desdeo.tools.iterative_pareto_representer import _EvaluatedPoint, choose_reference_point\n",
    "from desdeo.tools.scalarization import add_asf_diff\n",
    "\n",
    "class ProblemWrapper():\n",
    "    def __init__(self, holding:int = 5):\n",
    "        \"\"\"Initialize the problem wrapper for a UTOPIA problem.\n",
    "\n",
    "        Args:\n",
    "            holding (int, optional): The holding to use for the problem.md. Defaults to 5.\n",
    "        \"\"\"\n",
    "        problem, _ = utopia_problem_old2(\n",
    "            #simulation_results=\"alternatives_290124.csv\",\n",
    "            #treatment_key=\"alternatives_key_290124.csv\",\n",
    "            holding=holding,  #Holdings 3, 5, 6 seems to have a decent spread\n",
    "        )\n",
    "            \n",
    "            #comparing=True,)\n",
    "\n",
    "        self.ideal, self.nadir = payoff_table_method(problem=problem)\n",
    "        clear_output()\n",
    "        self.problem = problem.update_ideal_and_nadir(new_ideal=self.ideal, new_nadir=self.nadir)\n",
    "        self.evaluated_points:list[_EvaluatedPoint] = []\n",
    "\n",
    "    def solve(self, scaled_refp:np.ndarray)-> list[_EvaluatedPoint]:\n",
    "        refp = {obj: val * (self.nadir[obj] - self.ideal[obj]) + self.ideal[obj]  for obj, val in zip(self.ideal.keys(), scaled_refp)}\n",
    "        scaled_problem, target = add_asf_diff(self.problem, \"asf\", refp)\n",
    "        solver = GurobipySolver(scaled_problem, options={\"OutputFlag\": 0})\n",
    "        results = solver.solve(target)\n",
    "        objs = results.optimal_objectives\n",
    "        scaled_objs = {obj : (objs[obj] - self.ideal[obj]) / (self.nadir[obj] - self.ideal[obj]) for obj in objs.keys()}\n",
    "        self.evaluated_points.append(_EvaluatedPoint(\n",
    "            reference_point=dict(zip(self.ideal.keys(), scaled_refp)),\n",
    "            targets=scaled_objs,\n",
    "            objectives=objs)\n",
    "        )\n",
    "        return self.evaluated_points\n",
    "\n",
    "    \n",
    "\n",
    "_, refp = generate_points(num_points=10000, num_dims=3)\n",
    "\n",
    "num_runs = 100\n",
    "evaluated_points = None\n",
    "problem = ProblemWrapper(holding=5)\n",
    "for i in range(num_runs):\n",
    "    if (i+1) % 10 == 0 or i == 0:\n",
    "        clear_output()\n",
    "        print(f\"Run {i+1}/{num_runs}\")\n",
    "    reference_point, _ = choose_reference_point(refp, evaluated_points)\n",
    "    evaluated_points = problem.solve(reference_point)\n"
   ]
  },
  {
   "cell_type": "code",
   "execution_count": null,
   "id": "0333f826-b518-4990-bcd3-3b369fffbbb7",
   "metadata": {},
   "outputs": [],
   "source": [
    "# check if dominated\n",
    "# check if augmentation term different\n",
    "# check if bug in gguess (if that is the culprit)"
   ]
  },
  {
   "cell_type": "markdown",
   "id": "4a9ae587-7886-4128-9a12-7233ede239b6",
   "metadata": {},
   "source": [
    "# Visualization"
   ]
  },
  {
   "cell_type": "code",
   "execution_count": 8,
   "id": "0a38cb89-142f-45ce-afb6-3bde7cb9d547",
   "metadata": {},
   "outputs": [
    {
     "name": "stdout",
     "output_type": "stream",
     "text": [
      "autograd only supports numpy < 2.0.0 versions.\n"
     ]
    }
   ],
   "source": [
    "from pymoo.problems import get_problem\n",
    "import plotly.express as px\n",
    "import plotly.graph_objects as go\n",
    "\n",
    "import pandas as pd\n",
    "from pymoo.util.plotting import plot\n",
    "from pymoo.util.ref_dirs import get_reference_directions\n",
    "from pymoo.visualization.scatter import Scatter\n",
    "\n",
    "\n",
    "def visu_3d(solutions, rp_arr, keys, names, ideal, nadir, saved_sols=None, eval_points=None):\n",
    "    all_solutions = {\n",
    "        \"f_1\": [s[keys[0]] for s in solutions],\n",
    "        \"f_2\": [s[keys[1]] for s in solutions],\n",
    "        \"f_3\": [s[keys[2]] for s in solutions],\n",
    "        \"names\": names,\n",
    "    }\n",
    "    all_solutions = pd.DataFrame(all_solutions, columns=[keys[0],keys[1],keys[2], \"names\"])\n",
    "    # Add front\n",
    "    front = pl.DataFrame([point.objectives for point in evaluated_points])\n",
    "\n",
    "    fig = ex.scatter_3d(width=1000, height=1000)\n",
    "\n",
    "    if len(saved_sols) > 0:\n",
    "        found_sols = pl.DataFrame(saved_sols)\n",
    "        fig = fig.add_scatter3d(\n",
    "            x=found_sols[\"f_1\"].to_numpy(),\n",
    "            y=found_sols[\"f_2\"].to_numpy(),\n",
    "            z=found_sols[\"f_3\"].to_numpy(),\n",
    "            mode=\"markers\", name=\"Saved solutions\", marker_symbol=\"circle\", opacity = 0.8)\n",
    "    if eval_points is not None:\n",
    "        fig = fig.add_scatter3d(\n",
    "            x=front[\"f_1\"].to_numpy(),\n",
    "            y=front[\"f_2\"].to_numpy(),\n",
    "            z=front[\"f_3\"].to_numpy(),\n",
    "            mode=\"markers\", name=\"Front\", marker_symbol=\"circle\", opacity = 0.8)\n",
    "        \n",
    "    for i in range(len(rp_arr)):\n",
    "        fig.add_scatter3d(x=[rp_arr[i][0]], y=[rp_arr[i][1]], z=[rp_arr[i][2]],  mode=\"markers\", name=f\"DM{i+1}_RP\", showlegend=True, marker=dict(size=5, symbol=\"x\"))\n",
    "\n",
    "    fig.add_scatter3d(x=[ideal[0]], y=[ideal[1]], z=[ideal[2]], mode=\"markers\", name=\"ideal\", showlegend=True, marker=dict(size=10, symbol=\"square\"))\n",
    "    fig.add_scatter3d(x=[nadir[0]], y=[nadir[1]], z=[nadir[2]], mode=\"markers\", name=\"nadir\", showlegend=True, marker=dict(size=10, symbol=\"square\"))\n",
    "\n",
    "    for i in range(len(names)):\n",
    "        fig.add_trace(go.Scatter3d(x=[all_solutions[\"f_1\"][i]], y=[all_solutions[\"f_2\"][i]], z=[all_solutions[\"f_3\"][i]],mode=\"markers\",\n",
    "                        name=all_solutions.names[i], showlegend=True, marker=dict(size=10, symbol=\"circle\")))\n",
    "\n",
    "    fig.update_layout(\n",
    "        scene={\n",
    "            \"xaxis_title\":\"X: \" + problem.problem.objectives[0].name,\n",
    "            \"yaxis_title\":\"Y: \" + problem.problem.objectives[1].name,\n",
    "            \"zaxis_title\":\"Z: \" +problem.problem.objectives[2].name,\n",
    "            })\n",
    "    \n",
    "    fig.show()"
   ]
  },
  {
   "cell_type": "code",
   "execution_count": 18,
   "id": "ea25b6d1-9fbd-4b8a-8368-975916ab92fc",
   "metadata": {
    "scrolled": true
   },
   "outputs": [
    {
     "name": "stdout",
     "output_type": "stream",
     "text": [
      "Gurobi Optimizer version 11.0.3 build v11.0.3rc0 (linux64 - \"Arch Linux\")\n",
      "\n",
      "CPU model: AMD Ryzen 9 5900X 12-Core Processor, instruction set [SSE2|AVX|AVX2]\n",
      "Thread count: 12 physical cores, 24 logical processors, using up to 24 threads\n",
      "\n",
      "Optimize a model with 17 rows, 290 columns and 1006 nonzeros\n",
      "Model fingerprint: 0x477088ae\n",
      "Variable types: 4 continuous, 286 integer (286 binary)\n",
      "Coefficient statistics:\n",
      "  Matrix range     [1e-06, 6e+04]\n",
      "  Objective range  [7e-01, 1e+00]\n",
      "  Bounds range     [1e+00, 1e+00]\n",
      "  RHS range        [1e+00, 1e+00]\n",
      "\n",
      "User MIP start did not produce a new incumbent solution\n",
      "User MIP start violates constraint x_con_1 by 1.000000000\n",
      "\n",
      "Presolve removed 17 rows and 290 columns\n",
      "Presolve time: 0.00s\n",
      "Presolve: All rows and columns removed\n",
      "\n",
      "Explored 0 nodes (0 simplex iterations) in 0.00 seconds (0.00 work units)\n",
      "Thread count was 1 (of 24 available processors)\n",
      "\n",
      "Solution count 2: -153888 -153888 \n",
      "No other solutions better than -153888\n",
      "\n",
      "Optimal solution found (tolerance 1.00e-04)\n",
      "Best objective -1.538875522359e+05, best bound -1.538875522359e+05, gap 0.0000%\n",
      "Gurobi Optimizer version 11.0.3 build v11.0.3rc0 (linux64 - \"Arch Linux\")\n",
      "\n",
      "CPU model: AMD Ryzen 9 5900X 12-Core Processor, instruction set [SSE2|AVX|AVX2]\n",
      "Thread count: 12 physical cores, 24 logical processors, using up to 24 threads\n",
      "\n",
      "Optimize a model with 17 rows, 290 columns and 1006 nonzeros\n",
      "Model fingerprint: 0xb09c531e\n",
      "Variable types: 4 continuous, 286 integer (286 binary)\n",
      "Coefficient statistics:\n",
      "  Matrix range     [1e-06, 6e+04]\n",
      "  Objective range  [1e-02, 1e+03]\n",
      "  Bounds range     [1e+00, 1e+00]\n",
      "  RHS range        [1e+00, 1e+00]\n",
      "\n",
      "User MIP start did not produce a new incumbent solution\n",
      "User MIP start violates constraint x_con_1 by 1.000000000\n",
      "MIP start from previous solve produced solution with objective -1111.05 (0.00s)\n",
      "Loaded MIP start from previous solve with objective -1111.05\n",
      "\n",
      "Presolve removed 17 rows and 290 columns\n",
      "Presolve time: 0.00s\n",
      "Presolve: All rows and columns removed\n",
      "\n",
      "Explored 0 nodes (0 simplex iterations) in 0.01 seconds (0.00 work units)\n",
      "Thread count was 1 (of 24 available processors)\n",
      "\n",
      "Solution count 2: -3703.6 -1111.05 \n",
      "No other solutions better than -3703.6\n",
      "\n",
      "Optimal solution found (tolerance 1.00e-04)\n",
      "Best objective -3.703603276124e+03, best bound -3.703603276124e+03, gap 0.0000%\n",
      "Gurobi Optimizer version 11.0.3 build v11.0.3rc0 (linux64 - \"Arch Linux\")\n",
      "\n",
      "CPU model: AMD Ryzen 9 5900X 12-Core Processor, instruction set [SSE2|AVX|AVX2]\n",
      "Thread count: 12 physical cores, 24 logical processors, using up to 24 threads\n",
      "\n",
      "Optimize a model with 17 rows, 290 columns and 1006 nonzeros\n",
      "Model fingerprint: 0x7c27279e\n",
      "Variable types: 4 continuous, 286 integer (286 binary)\n",
      "Coefficient statistics:\n",
      "  Matrix range     [1e-06, 6e+04]\n",
      "  Objective range  [7e-01, 9e-01]\n",
      "  Bounds range     [1e+00, 1e+00]\n",
      "  RHS range        [1e+00, 1e+00]\n",
      "\n",
      "User MIP start did not produce a new incumbent solution\n",
      "User MIP start violates constraint x_con_1 by 1.000000000\n",
      "MIP start from previous solve produced solution with objective -3.08028e-05 (0.00s)\n",
      "Loaded MIP start from previous solve with objective -3.08028e-05\n",
      "\n",
      "Presolve removed 17 rows and 290 columns\n",
      "Presolve time: 0.00s\n",
      "Presolve: All rows and columns removed\n",
      "\n",
      "Explored 0 nodes (0 simplex iterations) in 0.00 seconds (0.00 work units)\n",
      "Thread count was 1 (of 24 available processors)\n",
      "\n",
      "Solution count 3: -111894 -111894 -3.08028e-05 \n",
      "No other solutions better than -111894\n",
      "\n",
      "Optimal solution found (tolerance 1.00e-04)\n",
      "Best objective -1.118935763639e+05, best bound -1.118935763639e+05, gap 0.0000%\n",
      "{'f_1': 153887.55223588506, 'f_2': 3703.6032761236183, 'f_3': 111893.57636390437}\n",
      "{'f_1': 132036.37627771657, 'f_2': 620.9427522664698, 'f_3': 3.080276484484251e-05}\n",
      "objective name: Net present value / €\n",
      "ideal for f_1: 153888.0\n",
      "nadir for f_1: 132036.0\n",
      "objective name: Wood stock volume / m^3\n",
      "ideal for f_2: 3704.0\n",
      "nadir for f_2: 620.0\n",
      "objective name: Harvest value / €\n",
      "ideal for f_3: 111894.0\n",
      "nadir for f_3: 0.0\n"
     ]
    }
   ],
   "source": [
    "from desdeo.problem.testproblems import forest_problem_discrete, forest_problem\n",
    "import polars as pl\n",
    "\n",
    "# TODO: update this\n",
    "#forest_problem = forest_problem(simulation_results=\"alternatives_290124.csv\",\n",
    "#                                treatment_key=\"alternatives_key_290124.csv\", holding=4)\n",
    "forest_problem, schedule = utopia_problem_old2(problem_name=\"Forest problem\",\n",
    "                                holding=5)\n",
    "ideals = []\n",
    "nadirs = []\n",
    "for i in range(3):\n",
    "    print(f\"objective name: {forest_problem.objectives[i].name}\") \n",
    "    print(f\"ideal for f_{i+1}: {forest_problem.objectives[i].ideal}\")\n",
    "    print(f\"nadir for f_{i+1}: {forest_problem.objectives[i].nadir}\")\n",
    "    ideals.append(forest_problem.objectives[i].ideal)\n",
    "    nadirs.append(forest_problem.objectives[i].nadir)\n",
    "\n",
    "saved_solutions = []\n",
    "# get some initial solution\n",
    "initial_rp = {\n",
    "    \"f_1\": (ideals[0]-nadirs[0])/2, \"f_2\": (ideals[1]-nadirs[1])/2, \"f_3\": (ideals[2]-nadirs[2])/2 }"
   ]
  },
  {
   "cell_type": "code",
   "execution_count": 19,
   "id": "735535f2-2127-4325-a9b7-f37f531c54df",
   "metadata": {},
   "outputs": [
    {
     "name": "stdout",
     "output_type": "stream",
     "text": [
      "ideal:  [153888.0, 3704.0, 111894.0]\n",
      "nadir:  [132036.0, 620.0, 0.0]\n"
     ]
    }
   ],
   "source": [
    "# TODO make nicer\n",
    "print(\"ideal: \", ideals)\n",
    "print(\"nadir: \", nadirs)"
   ]
  },
  {
   "cell_type": "code",
   "execution_count": 22,
   "id": "0ebc6baf-661b-499f-8d5e-f5d9d1e2ceb4",
   "metadata": {
    "scrolled": true
   },
   "outputs": [
    {
     "name": "stdout",
     "output_type": "stream",
     "text": [
      "Gurobi Optimizer version 11.0.3 build v11.0.3rc0 (linux64 - \"Arch Linux\")\n",
      "\n",
      "CPU model: AMD Ryzen 9 5900X 12-Core Processor, instruction set [SSE2|AVX|AVX2]\n",
      "Thread count: 12 physical cores, 24 logical processors, using up to 24 threads\n",
      "\n",
      "Optimize a model with 20 rows, 291 columns and 1195 nonzeros\n",
      "Model fingerprint: 0x6c9db1bf\n",
      "Variable types: 5 continuous, 286 integer (286 binary)\n",
      "Coefficient statistics:\n",
      "  Matrix range     [1e-06, 6e+04]\n",
      "  Objective range  [4e-12, 1e+00]\n",
      "  Bounds range     [1e+00, 1e+00]\n",
      "  RHS range        [5e-01, 1e+00]\n",
      "\n",
      "User MIP start did not produce a new incumbent solution\n",
      "User MIP start violates constraint x_con_1 by 1.000000000\n",
      "\n",
      "Presolve removed 1 rows and 107 columns\n",
      "Presolve time: 0.00s\n",
      "Presolved: 19 rows, 184 columns, 1083 nonzeros\n",
      "Variable types: 5 continuous, 179 integer (179 binary)\n",
      "Found heuristic solution: objective 0.4737945\n",
      "Found heuristic solution: objective 0.3356752\n",
      "Found heuristic solution: objective 0.2680101\n",
      "\n",
      "Root relaxation: objective -1.497207e-01, 73 iterations, 0.00 seconds (0.00 work units)\n",
      "Another try with MIP start\n",
      "\n",
      "    Nodes    |    Current Node    |     Objective Bounds      |     Work\n",
      " Expl Unexpl |  Obj  Depth IntInf | Incumbent    BestBd   Gap | It/Node Time\n",
      "\n",
      "H    0     0                      -0.1367260   -0.14972  9.50%     -    0s\n",
      "     0     0   -0.14972    0    2   -0.13673   -0.14972  9.50%     -    0s\n",
      "H    0     0                      -0.1459323   -0.14972  2.60%     -    0s\n",
      "     0     0   -0.14972    0    2   -0.14593   -0.14972  2.60%     -    0s\n",
      "H    0     0                      -0.1459405   -0.14972  2.59%     -    0s\n",
      "H    0     0                      -0.1459425   -0.14972  2.59%     -    0s\n",
      "H    0     0                      -0.1459446   -0.14972  2.59%     -    0s\n",
      "     0     0   -0.14972    0    2   -0.14594   -0.14972  2.59%     -    0s\n",
      "H    0     0                      -0.1472811   -0.14972  1.66%     -    0s\n",
      "     0     0   -0.14956    0    6   -0.14728   -0.14956  1.55%     -    0s\n",
      "H    0     0                      -0.1473561   -0.14937  1.36%     -    0s\n",
      "H    0     0                      -0.1474234   -0.14918  1.19%     -    0s\n",
      "H    0     0                      -0.1480924   -0.14918  0.74%     -    0s\n",
      "     0     0   -0.14917    0    6   -0.14809   -0.14917  0.73%     -    0s\n",
      "     0     0   -0.14910    0    4   -0.14809   -0.14910  0.68%     -    0s\n",
      "     0     0   -0.14910    0    2   -0.14809   -0.14910  0.68%     -    0s\n",
      "     0     0   -0.14910    0    2   -0.14809   -0.14910  0.68%     -    0s\n",
      "     0     0   -0.14910    0    2   -0.14809   -0.14910  0.68%     -    0s\n",
      "     0     0   -0.14910    0    2   -0.14809   -0.14910  0.68%     -    0s\n",
      "H    0     0                      -0.1483944   -0.14910  0.48%     -    0s\n",
      "H    0     0                      -0.1485316   -0.14910  0.39%     -    0s\n",
      "     0     0   -0.14910    0   10   -0.14853   -0.14910  0.39%     -    0s\n",
      "     0     0   -0.14910    0    2   -0.14853   -0.14910  0.39%     -    0s\n",
      "     0     0   -0.14910    0    4   -0.14853   -0.14910  0.39%     -    0s\n",
      "     0     0   -0.14910    0    2   -0.14853   -0.14910  0.39%     -    0s\n",
      "     0     0   -0.14910    0    6   -0.14853   -0.14910  0.39%     -    0s\n",
      "     0     0   -0.14876    0    4   -0.14853   -0.14876  0.15%     -    0s\n",
      "     0     0   -0.14853    0    6   -0.14853   -0.14853  0.00%     -    0s\n",
      "\n",
      "Cutting planes:\n",
      "  Cover: 2\n",
      "  GUB cover: 5\n",
      "\n",
      "Explored 1 nodes (301 simplex iterations) in 0.06 seconds (0.03 work units)\n",
      "Thread count was 24 (of 24 available processors)\n",
      "\n",
      "Solution count 10: -0.148532 -0.148394 -0.148092 ... 0.26801\n",
      "\n",
      "Optimal solution found (tolerance 1.00e-04)\n",
      "Best objective -1.485288723577e-01, best bound -1.485315994402e-01, gap 0.0018%\n"
     ]
    }
   ],
   "source": [
    "initial_result = generate_starting_point(forest_problem, initial_rp)\n",
    "#print(initial_result)"
   ]
  },
  {
   "cell_type": "markdown",
   "id": "b0eecb86-0bbe-4f12-b75d-49cd1f86bd55",
   "metadata": {},
   "source": [
    "## Learning phase"
   ]
  },
  {
   "cell_type": "markdown",
   "id": "257ef1b0-c724-45a5-87d1-23b927d4d865",
   "metadata": {},
   "source": [
    "### 1. DMs give prefs "
   ]
  },
  {
   "cell_type": "code",
   "execution_count": 23,
   "id": "01171c8f-582c-46ed-894e-f631006755f7",
   "metadata": {},
   "outputs": [
    {
     "name": "stdout",
     "output_type": "stream",
     "text": [
      "initial solution: {'f_1': 148520.88358665464, 'f_2': 2002.2071930260186, 'f_3': 72565.58392702561}\n"
     ]
    }
   ],
   "source": [
    "# for first iteration\n",
    "next_current_solution = initial_result.optimal_objectives\n",
    "print(f\"initial solution: {next_current_solution}\")"
   ]
  },
  {
   "cell_type": "code",
   "execution_count": 45,
   "id": "6c74f912-7d56-4ef0-8797-51f449d9885f",
   "metadata": {},
   "outputs": [
    {
     "name": "stdout",
     "output_type": "stream",
     "text": [
      "initial solution: {'f_1': 132036.37628334865, 'f_2': 3703.6032761236183, 'f_3': 3.63657694356011e-05}\n"
     ]
    }
   ],
   "source": [
    "print(f\"initial solution: {next_current_solution}\")"
   ]
  },
  {
   "cell_type": "code",
   "execution_count": 39,
   "id": "4b78ab86-ff41-4034-8d6c-2540fd27027d",
   "metadata": {},
   "outputs": [],
   "source": [
    "# ITERATION LOOP FOR LEARNING PHASE\n",
    "reference_points = {\n",
    "    \"DM1\": { # Bhupinder\n",
    "        \"f_1\": 120000, #NPV\n",
    "        \"f_2\": 3600, # WOOD stock\n",
    "        \"f_3\": 30000, # Harvest value\n",
    "    },\n",
    "    \"DM2\": { # Curro\n",
    "        \"f_1\": 130000,\n",
    "        \"f_2\": 1500,\n",
    "        \"f_3\": 70000,\n",
    "    },\n",
    "    \"DM3\": { # Babooshka\n",
    "        \"f_1\": 100000,\n",
    "        \"f_2\": 3703,\n",
    "        \"f_3\": 70000,\n",
    "    },\n",
    "    \"DM4\": { # Rudolf\n",
    "        \"f_1\": 100000,\n",
    "        \"f_2\": 2500,\n",
    "        \"f_3\": 100000,\n",
    "    },\n",
    "}"
   ]
  },
  {
   "cell_type": "code",
   "execution_count": 40,
   "id": "2da0e70e-c628-4309-b7c3-d50656809d7a",
   "metadata": {
    "scrolled": true
   },
   "outputs": [
    {
     "name": "stdout",
     "output_type": "stream",
     "text": [
      "Gurobi Optimizer version 11.0.3 build v11.0.3rc0 (linux64 - \"Arch Linux\")\n",
      "\n",
      "CPU model: AMD Ryzen 9 5900X 12-Core Processor, instruction set [SSE2|AVX|AVX2]\n",
      "Thread count: 12 physical cores, 24 logical processors, using up to 24 threads\n",
      "\n",
      "Optimize a model with 35 rows, 291 columns and 2302 nonzeros\n",
      "Model fingerprint: 0x9de3f9b3\n",
      "Variable types: 5 continuous, 286 integer (286 binary)\n",
      "Coefficient statistics:\n",
      "  Matrix range     [1e-06, 6e+04]\n",
      "  Objective range  [1e-11, 1e+00]\n",
      "  Bounds range     [1e+00, 1e+00]\n",
      "  RHS range        [6e-01, 1e+05]\n",
      "\n",
      "User MIP start did not produce a new incumbent solution\n",
      "User MIP start violates constraint x_con_1 by 1.000000000\n",
      "\n",
      "Presolve removed 13 rows and 107 columns\n",
      "Presolve time: 0.00s\n",
      "Presolved: 22 rows, 184 columns, 1241 nonzeros\n",
      "Variable types: 5 continuous, 179 integer (179 binary)\n",
      "\n",
      "Root relaxation: objective 4.014203e-01, 113 iterations, 0.00 seconds (0.00 work units)\n",
      "Another try with MIP start\n",
      "\n",
      "    Nodes    |    Current Node    |     Objective Bounds      |     Work\n",
      " Expl Unexpl |  Obj  Depth IntInf | Incumbent    BestBd   Gap | It/Node Time\n",
      "\n",
      "H    0     0                       0.4316571    0.40142  7.00%     -    0s\n",
      "     0     0    0.40142    0    2    0.43166    0.40142  7.00%     -    0s\n",
      "H    0     0                       0.4164435    0.40142  3.61%     -    0s\n",
      "H    0     0                       0.4033098    0.40142  0.47%     -    0s\n",
      "     0     0    0.40203    0    4    0.40331    0.40203  0.32%     -    0s\n",
      "     0     0    0.40203    0    2    0.40331    0.40203  0.32%     -    0s\n",
      "     0     0    0.40233    0    2    0.40331    0.40233  0.24%     -    0s\n",
      "H    0     0                       0.4030896    0.40233  0.19%     -    0s\n",
      "     0     0    0.40242    0    6    0.40309    0.40242  0.17%     -    0s\n",
      "     0     0    0.40259    0    2    0.40309    0.40259  0.12%     -    0s\n",
      "     0     0    0.40259    0    1    0.40309    0.40259  0.12%     -    0s\n",
      "     0     0    0.40259    0    2    0.40309    0.40259  0.12%     -    0s\n",
      "     0     0    0.40259    0    6    0.40309    0.40259  0.12%     -    0s\n",
      "     0     0    0.40259    0    6    0.40309    0.40259  0.12%     -    0s\n",
      "     0     2    0.40259    0    6    0.40309    0.40259  0.12%     -    0s\n",
      "\n",
      "Cutting planes:\n",
      "  Cover: 5\n",
      "  GUB cover: 2\n",
      "  Inf proof: 2\n",
      "\n",
      "Explored 83 nodes (455 simplex iterations) in 0.04 seconds (0.01 work units)\n",
      "Thread count was 24 (of 24 available processors)\n",
      "\n",
      "Solution count 4: 0.40309 0.40331 0.416443 0.431657 \n",
      "\n",
      "Optimal solution found (tolerance 1.00e-04)\n",
      "Warning: max constraint violation (6.0002e-06) exceeds tolerance\n",
      "Best objective 4.030895698894e-01, best bound 4.030895698894e-01, gap 0.0000%\n",
      "Gurobi Optimizer version 11.0.3 build v11.0.3rc0 (linux64 - \"Arch Linux\")\n",
      "\n",
      "CPU model: AMD Ryzen 9 5900X 12-Core Processor, instruction set [SSE2|AVX|AVX2]\n",
      "Thread count: 12 physical cores, 24 logical processors, using up to 24 threads\n",
      "\n",
      "Optimize a model with 29 rows, 291 columns and 1762 nonzeros\n",
      "Model fingerprint: 0xd750b68c\n",
      "Variable types: 5 continuous, 286 integer (286 binary)\n",
      "Coefficient statistics:\n",
      "  Matrix range     [1e-06, 6e+04]\n",
      "  Objective range  [1e-10, 1e+00]\n",
      "  Bounds range     [1e+00, 1e+00]\n",
      "  RHS range        [1e+00, 4e+03]\n",
      "\n",
      "User MIP start did not produce a new incumbent solution\n",
      "User MIP start violates constraint x_con_1 by 1.000000000\n",
      "\n",
      "Presolve removed 9 rows and 107 columns\n",
      "Presolve time: 0.00s\n",
      "Presolved: 20 rows, 184 columns, 1060 nonzeros\n",
      "Variable types: 5 continuous, 179 integer (179 binary)\n",
      "Found heuristic solution: objective 2153.9134483\n",
      "Found heuristic solution: objective 2017.2926017\n",
      "Found heuristic solution: objective 9.4038422\n",
      "\n",
      "Root relaxation: objective 9.369610e+00, 65 iterations, 0.00 seconds (0.00 work units)\n",
      "\n",
      "    Nodes    |    Current Node    |     Objective Bounds      |     Work\n",
      " Expl Unexpl |  Obj  Depth IntInf | Incumbent    BestBd   Gap | It/Node Time\n",
      "\n",
      "     0     0    9.36961    0    2    9.40384    9.36961  0.36%     -    0s\n",
      "Another try with MIP start\n",
      "     0     0    9.37212    0    2    9.40384    9.37212  0.34%     -    0s\n",
      "\n",
      "Explored 1 nodes (67 simplex iterations) in 0.01 seconds (0.00 work units)\n",
      "Thread count was 24 (of 24 available processors)\n",
      "\n",
      "Solution count 3: 9.40384 2017.29 2153.91 \n",
      "\n",
      "Optimal solution found (tolerance 1.00e-04)\n",
      "Warning: max constraint violation (6.0211e-06) exceeds tolerance\n",
      "Best objective 9.403842175456e+00, best bound 9.403842175456e+00, gap 0.0000%\n",
      "Gurobi Optimizer version 11.0.3 build v11.0.3rc0 (linux64 - \"Arch Linux\")\n",
      "\n",
      "CPU model: AMD Ryzen 9 5900X 12-Core Processor, instruction set [SSE2|AVX|AVX2]\n",
      "Thread count: 12 physical cores, 24 logical processors, using up to 24 threads\n",
      "\n",
      "Optimize a model with 29 rows, 291 columns and 1762 nonzeros\n",
      "Model fingerprint: 0x3649431a\n",
      "Variable types: 5 continuous, 286 integer (286 binary)\n",
      "Coefficient statistics:\n",
      "  Matrix range     [1e-06, 6e+04]\n",
      "  Objective range  [1e-11, 1e+00]\n",
      "  Bounds range     [1e+00, 1e+00]\n",
      "  RHS range        [3e-01, 6e+00]\n",
      "\n",
      "User MIP start did not produce a new incumbent solution\n",
      "User MIP start violates constraint x_con_1 by 1.000000000\n",
      "\n",
      "Presolve removed 9 rows and 107 columns\n",
      "Presolve time: 0.00s\n",
      "Presolved: 20 rows, 184 columns, 1088 nonzeros\n",
      "Variable types: 5 continuous, 179 integer (179 binary)\n",
      "Found heuristic solution: objective 0.8674759\n",
      "Found heuristic solution: objective 0.7847908\n",
      "Found heuristic solution: objective 0.7245844\n",
      "\n",
      "Root relaxation: objective 4.014203e-01, 67 iterations, 0.00 seconds (0.00 work units)\n",
      "Another try with MIP start\n",
      "\n",
      "    Nodes    |    Current Node    |     Objective Bounds      |     Work\n",
      " Expl Unexpl |  Obj  Depth IntInf | Incumbent    BestBd   Gap | It/Node Time\n",
      "\n",
      "H    0     0                       0.4316571    0.40142  7.00%     -    0s\n",
      "     0     0    0.40142    0    2    0.43166    0.40142  7.00%     -    0s\n",
      "H    0     0                       0.4165096    0.40142  3.62%     -    0s\n",
      "H    0     0                       0.4108002    0.40142  2.28%     -    0s\n",
      "H    0     0                       0.4053315    0.40142  0.96%     -    0s\n",
      "H    0     0                       0.4033098    0.40142  0.47%     -    0s\n",
      "     0     0    0.40217    0    4    0.40331    0.40217  0.28%     -    0s\n",
      "     0     0    0.40217    0    2    0.40331    0.40217  0.28%     -    0s\n",
      "H    0     0                       0.4032759    0.40217  0.27%     -    0s\n",
      "     0     0    0.40232    0    2    0.40328    0.40232  0.24%     -    0s\n",
      "     0     0    0.40257    0    6    0.40328    0.40257  0.17%     -    0s\n",
      "H    0     0                       0.4030896    0.40257  0.13%     -    0s\n",
      "     0     0    0.40285    0    2    0.40309    0.40285  0.06%     -    0s\n",
      "     0     0    0.40285    0    2    0.40309    0.40285  0.06%     -    0s\n",
      "     0     0    0.40285    0    1    0.40309    0.40285  0.06%     -    0s\n",
      "     0     0    0.40285    0    2    0.40309    0.40285  0.06%     -    0s\n",
      "     0     0    0.40285    0    6    0.40309    0.40285  0.06%     -    0s\n",
      "     0     0    0.40285    0    6    0.40309    0.40285  0.06%     -    0s\n",
      "     0     2    0.40285    0    6    0.40309    0.40285  0.06%     -    0s\n",
      "\n",
      "Cutting planes:\n",
      "  Cover: 6\n",
      "  GUB cover: 1\n",
      "  Inf proof: 1\n",
      "\n",
      "Explored 55 nodes (323 simplex iterations) in 0.05 seconds (0.02 work units)\n",
      "Thread count was 24 (of 24 available processors)\n",
      "\n",
      "Solution count 10: 0.40309 0.403276 0.40331 ... 0.867476\n",
      "\n",
      "Optimal solution found (tolerance 1.00e-04)\n",
      "Best objective 4.030895699605e-01, best bound 4.030895699605e-01, gap 0.0000%\n",
      "Gurobi Optimizer version 11.0.3 build v11.0.3rc0 (linux64 - \"Arch Linux\")\n",
      "\n",
      "CPU model: AMD Ryzen 9 5900X 12-Core Processor, instruction set [SSE2|AVX|AVX2]\n",
      "Thread count: 12 physical cores, 24 logical processors, using up to 24 threads\n",
      "\n",
      "Optimize a model with 29 rows, 291 columns and 1762 nonzeros\n",
      "Model fingerprint: 0x0a6f6353\n",
      "Variable types: 5 continuous, 286 integer (286 binary)\n",
      "Coefficient statistics:\n",
      "  Matrix range     [1e-06, 6e+04]\n",
      "  Objective range  [3e-11, 1e+00]\n",
      "  Bounds range     [1e+00, 1e+00]\n",
      "  RHS range        [2e-01, 6e+01]\n",
      "\n",
      "User MIP start did not produce a new incumbent solution\n",
      "User MIP start violates constraint x_con_1 by 1.000000000\n",
      "\n",
      "Presolve removed 4 rows and 107 columns\n",
      "Presolve time: 0.00s\n",
      "Presolved: 25 rows, 184 columns, 1638 nonzeros\n",
      "Variable types: 5 continuous, 179 integer (179 binary)\n",
      "Found heuristic solution: objective -0.0115110\n",
      "Found heuristic solution: objective -0.0153135\n",
      "\n",
      "Root relaxation: objective -4.849382e-01, 88 iterations, 0.00 seconds (0.00 work units)\n",
      "Another try with MIP start\n",
      "\n",
      "    Nodes    |    Current Node    |     Objective Bounds      |     Work\n",
      " Expl Unexpl |  Obj  Depth IntInf | Incumbent    BestBd   Gap | It/Node Time\n",
      "\n",
      "H    0     0                      -0.4397310   -0.48494  10.3%     -    0s\n",
      "     0     0   -0.48494    0    3   -0.43973   -0.48494  10.3%     -    0s\n",
      "H    0     0                      -0.4453112   -0.48494  8.90%     -    0s\n",
      "     0     0   -0.47937    0    4   -0.44531   -0.47937  7.65%     -    0s\n",
      "H    0     0                      -0.4571059   -0.47907  4.81%     -    0s\n",
      "H    0     0                      -0.4708083   -0.47907  1.76%     -    0s\n",
      "     0     0   -0.47880    0    7   -0.47081   -0.47880  1.70%     -    0s\n",
      "H    0     0                      -0.4724298   -0.47876  1.34%     -    0s\n",
      "     0     0   -0.47876    0    8   -0.47243   -0.47876  1.34%     -    0s\n",
      "     0     0   -0.47876    0    9   -0.47243   -0.47876  1.34%     -    0s\n",
      "H    0     0                      -0.4739274   -0.47876  1.02%     -    0s\n",
      "     0     0   -0.47859    0   10   -0.47393   -0.47859  0.98%     -    0s\n",
      "     0     0   -0.47832    0   10   -0.47393   -0.47832  0.93%     -    0s\n",
      "     0     0   -0.47832    0    3   -0.47393   -0.47832  0.93%     -    0s\n",
      "     0     0   -0.47832    0    4   -0.47393   -0.47832  0.93%     -    0s\n",
      "     0     0   -0.47832    0    7   -0.47393   -0.47832  0.93%     -    0s\n",
      "     0     0   -0.47832    0    6   -0.47393   -0.47832  0.93%     -    0s\n",
      "     0     0   -0.47832    0    6   -0.47393   -0.47832  0.93%     -    0s\n",
      "     0     0   -0.47832    0    4   -0.47393   -0.47832  0.93%     -    0s\n",
      "     0     0   -0.47832    0    6   -0.47393   -0.47832  0.93%     -    0s\n",
      "H    0     0                      -0.4764361   -0.47832  0.40%     -    0s\n",
      "     0     0   -0.47832    0    8   -0.47644   -0.47832  0.40%     -    0s\n",
      "     0     0   -0.47832    0    8   -0.47644   -0.47832  0.40%     -    0s\n",
      "     0     2   -0.47830    0    8   -0.47644   -0.47830  0.39%     -    0s\n",
      "H   30    12                      -0.4764362   -0.47787  0.30%   4.8    0s\n",
      "H   32    12                      -0.4765027   -0.47787  0.29%   4.6    0s\n",
      "\n",
      "Cutting planes:\n",
      "  Gomory: 1\n",
      "  Cover: 3\n",
      "  MIR: 4\n",
      "  GUB cover: 3\n",
      "  RLT: 1\n",
      "\n",
      "Explored 100 nodes (594 simplex iterations) in 0.11 seconds (0.07 work units)\n",
      "Thread count was 24 (of 24 available processors)\n",
      "\n",
      "Solution count 10: -0.476503 -0.476436 -0.476436 ... -0.0153135\n",
      "\n",
      "Optimal solution found (tolerance 1.00e-04)\n",
      "Best objective -4.765026528875e-01, best bound -4.765026528875e-01, gap 0.0000%\n"
     ]
    }
   ],
   "source": [
    "num_desired = 4 \n",
    "solutions = solve_sub_problems(\n",
    "    forest_problem, next_current_solution, reference_points, num_desired, decision_phase=False,\n",
    ")\n",
    "\n",
    "gnimbus = solutions[0].optimal_objectives\n",
    "gstom = solutions[1].optimal_objectives\n",
    "gasf = solutions[2].optimal_objectives\n",
    "gguess = solutions[3].optimal_objectives"
   ]
  },
  {
   "cell_type": "code",
   "execution_count": 41,
   "id": "477e0c5c-3dbd-47f3-8c3c-652eb7fbce0d",
   "metadata": {},
   "outputs": [
    {
     "name": "stdout",
     "output_type": "stream",
     "text": [
      " Index 0, Solution : {'f_1': 145589.86969776027, 'f_2': 2463.0244644684767, 'f_3': 54893.136645098806}\n",
      " Index 1, Solution : {'f_1': 132036.37628334865, 'f_2': 3703.6032761236183, 'f_3': 3.63657694356011e-05}\n",
      " Index 2, Solution : {'f_1': 145589.86968980072, 'f_2': 2463.0244644684767, 'f_3': 54893.136637141}\n",
      " Index 3, Solution : {'f_1': 116764.61327351695, 'f_2': 2094.920290330019, 'f_3': 47656.868960012915}\n"
     ]
    }
   ],
   "source": [
    "for idx, s in enumerate(solutions):\n",
    "    print(f\" Index {idx}, Solution : {s.optimal_objectives}\")"
   ]
  },
  {
   "cell_type": "code",
   "execution_count": 46,
   "id": "605ff39a-3905-4ccb-a7c7-70fabd291727",
   "metadata": {},
   "outputs": [
    {
     "data": {
      "application/vnd.plotly.v1+json": {
       "config": {
        "plotlyServerURL": "https://plot.ly"
       },
       "data": [
        {
         "hovertemplate": "<extra></extra>",
         "legendgroup": "",
         "marker": {
          "color": "#636efa",
          "symbol": "circle"
         },
         "mode": "markers",
         "name": "",
         "scene": "scene",
         "showlegend": false,
         "type": "scatter3d"
        },
        {
         "marker": {
          "symbol": "circle"
         },
         "mode": "markers",
         "name": "Saved solutions",
         "opacity": 0.8,
         "type": "scatter3d",
         "x": [
          148520.88358665464,
          148520.88358665467,
          149991.67030213407,
          146620.26331247814,
          132035.99024589354,
          149991.67030213407,
          149991.67030213462,
          149991.67030213407,
          146620.26331704238,
          132036,
          132036,
          145589.86969776027,
          132036.37628334865,
          145589.86968980072,
          116764.61327351695
         ],
         "y": [
          2002.2071930260186,
          2002.2071930260186,
          840.8590751749173,
          2308.032817946801,
          3179.2659825315427,
          840.8590751749173,
          840.8590751749173,
          840.8590751749173,
          2308.032817946801,
          2110.1977090501528,
          2110.1977090501528,
          2463.0244644684767,
          3703.6032761236183,
          2463.0244644684767,
          2094.920290330019
         ],
         "z": [
          72565.58392702561,
          72565.58392702564,
          109044.46369677768,
          61218.42216202674,
          11186.634906499894,
          109044.46369677768,
          109044.4636967782,
          109044.46369677768,
          61218.422166590455,
          49411.053882778804,
          49411.053882778804,
          54893.136645098806,
          3.63657694356011e-05,
          54893.136637141,
          47656.868960012915
         ]
        },
        {
         "marker": {
          "symbol": "circle"
         },
         "mode": "markers",
         "name": "Front",
         "opacity": 0.8,
         "type": "scatter3d",
         "x": [
          144824.7178224353,
          153641.07796333326,
          153887.55223588506,
          151215.4264046575,
          146888.2134485984,
          135639.48657258434,
          149578.2220833502,
          137819.07288697522,
          151843.61032753042,
          140920.22950832816,
          147478.61288157204,
          150214.3682514308,
          144673.22771517126,
          143224.7168917169,
          140206.76478313483,
          149913.6608523539,
          153047.55725101504,
          153254.11728074946,
          133877.4311733874,
          149052.79237924333,
          137790.23646607262,
          150002.2379490932,
          144643.0981944813,
          146310.82972412623,
          144530.83508835165,
          141802.42230913707,
          153498.1268173773,
          150788.65380998203,
          148621.35094735658,
          152308.6913910053,
          152695.82322547803,
          148427.82810742152,
          148518.53978972146,
          142461.33049716958,
          149879.9396998777,
          153329.22511935158,
          138282.44510578085,
          148562.35796609914,
          150990.05250183915,
          152664.75928911482,
          139415.7149660094,
          132236.9127410863,
          142161.94257575882,
          153808.91065268285,
          149521.7947772721,
          149852.2064686216,
          138950.96132621984,
          135096.2465028968,
          143945.9560546102,
          148297.87898934569,
          141787.60100667254,
          138760.45952595532,
          139239.1177461435,
          137069.27644036486,
          152213.13330123236,
          148621.35094186076,
          149213.1995404802,
          153601.2073025865,
          153539.60119341678,
          149717.58646075238,
          149259.00301259954,
          136705.268577858,
          149717.58646075238,
          146888.21344868958,
          153539.6011934168,
          153019.2449663437,
          145486.51005855598,
          143814.97867455552,
          146946.36574073273,
          141223.57712379133,
          134926.02183755534,
          153553.20722362213,
          145343.92648495358,
          149192.97997478693,
          143320.24245130416,
          150095.61732599992,
          153629.32972027524,
          146987.8401202132,
          143454.9058244253,
          146987.84012023255,
          147701.3048452915,
          143595.46440814302,
          140927.72480336545,
          143442.23483246172,
          151666.74549896797,
          140978.38180032538,
          150127.31028214088,
          147968.38879705715,
          153879.08464256057,
          153399.54867080343,
          150098.86569174431,
          137590.29532633076,
          147701.3048452915,
          147953.99546384063,
          143121.63640313552,
          149383.78534150272,
          138675.5436007012,
          136411.10358785465,
          143945.6769119466,
          149663.97793299868
         ],
         "y": [
          2584.471536289063,
          798.2998337081754,
          1111.0490195987384,
          647.1373085150356,
          2679.019105462974,
          3650.2910792579924,
          1596.098212658164,
          3228.672182542013,
          1990.0966185198918,
          3248.551561954024,
          2160.446351960003,
          1107.5008504924467,
          2587.1950334837375,
          3006.3622186289235,
          2940.0074644167676,
          2354.3585040500693,
          1657.5897552853585,
          1583.8449794545013,
          3509.0698122694653,
          1863.2020427798816,
          3438.2160640866587,
          1307.4815439240451,
          2768.2455487170987,
          2380.5532064756335,
          2804.224009558299,
          2744.950620277314,
          1333.3888996664227,
          2149.027104374415,
          2506.902842279224,
          895.5496410766991,
          1762.1147357782556,
          2531.159339423437,
          2514.8237225285407,
          3094.5388301859803,
          869.5788141644648,
          1470.2560901933948,
          3362.862906034057,
          2008.0713257134512,
          2178.7921294481725,
          1813.0438634779325,
          3083.0798360068625,
          3669.0116504626358,
          3122.6663435053706,
          1156.3611694255524,
          1442.7648420866003,
          2282.7916051970633,
          3103.864150277013,
          3354.5251452769453,
          2896.773466196019,
          1994.6854470583626,
          3146.8292536599324,
          3310.435947835707,
          3096.906843588558,
          3520.6873220795023,
          1916.76644889313,
          2506.902842279224,
          1755.5828499031504,
          1317.9043594034265,
          1339.2530323538554,
          1457.3968700276728,
          1727.060393680733,
          3531.171448042282,
          1457.3968700276728,
          2679.0191053680132,
          1339.2530323538554,
          1637.204993760337,
          2505.6264991715348,
          2656.394089309895,
          2273.3739619471426,
          3206.0390560437245,
          3341.746981720736,
          781.4212172388579,
          2712.987096362117,
          2409.7122676028507,
          2991.1676885245824,
          1008.0248228155516,
          1234.2256358903458,
          2279.238094634575,
          2661.447934077785,
          2279.238094634575,
          2587.7821921718314,
          2679.4836678065703,
          2857.536206423925,
          2695.788099178869,
          2030.012643326802,
          2842.9064185331536,
          1200.9044195191345,
          2071.4018758567076,
          1032.839980676392,
          699.339822209661,
          994.1428252007732,
          3441.5960915920814,
          2587.7821921718314,
          2559.8994741523034,
          3021.8467588919198,
          2430.2957169738133,
          3269.1837345538615,
          3553.1900333743774,
          2923.8909606360803,
          2379.4257157303355
         ],
         "z": [
          50063.64237945177,
          108165.36729448449,
          101202.14050335031,
          111517.6494949699,
          44071.62076105985,
          91.98206712297012,
          86744.60244056126,
          20963.10731106013,
          70965.11143523012,
          18318.59336548849,
          66833.55385237877,
          102688.23647098865,
          49842.35741795158,
          28220.888649104687,
          33091.323875214955,
          57121.468440343044,
          83060.3140064279,
          85743.16197166817,
          7851.970389457045,
          77621.55871814574,
          8661.730858218782,
          96277.0677484142,
          37811.83103787842,
          58040.68904389381,
          36330.85829431715,
          40718.97514865719,
          93474.93396023443,
          65480.37075681094,
          51109.375124734186,
          106312.05358792128,
          79360.54672472301,
          50155.62440589039,
          50705.072972411246,
          24611.716395776562,
          108087.16071776846,
          89327.10143061748,
          11582.258621744351,
          72417.15767159392,
          64301.76142309517,
          77614.25524623357,
          27154.835843496592,
          1211.255836313205,
          23430.56800667567,
          99564.12879152953,
          91694.51011485716,
          59966.03424540314,
          26136.718181474516,
          13815.341169434003,
          32379.64365766835,
          72871.51176897866,
          22216.8897914629,
          13692.999120851387,
          26569.335510889243,
          5514.178460078882,
          73837.63944527149,
          51109.37511923902,
          81401.16492703097,
          94044.70259019775,
          93326.50770240993,
          91389.57352749465,
          82418.27805958177,
          4706.666146797989,
          91389.57352749465,
          44071.62076406332,
          93326.50770240994,
          83779.62436113847,
          53312.165388899164,
          46992.60592151143,
          62754.681522226805,
          19934.151317826694,
          14864.712566967866,
          109195.63852845649,
          40092.762287307996,
          54985.11866357962,
          28772.058036434908,
          105156.18015901341,
          97089.23385247267,
          62606.25526678063,
          46523.25225117999,
          62606.2552668001,
          47833.52475705417,
          45852.70178212472,
          36238.876267878535,
          45249.00301274284,
          69897.287424592,
          37001.65412365197,
          99840.79420179356,
          70265.33862672323,
          103498.41338218968,
          110718.47272855895,
          105384.30917966456,
          8626.431142316305,
          47833.52475705417,
          48686.30485361893,
          27651.12001676312,
          54108.50125645642,
          15707.438626717332,
          4002.3123136369495,
          31368.441041768216,
          56093.051790904916
         ]
        },
        {
         "marker": {
          "size": 5,
          "symbol": "x"
         },
         "mode": "markers",
         "name": "DM1_RP",
         "showlegend": true,
         "type": "scatter3d",
         "x": [
          120000
         ],
         "y": [
          3600
         ],
         "z": [
          30000
         ]
        },
        {
         "marker": {
          "size": 5,
          "symbol": "x"
         },
         "mode": "markers",
         "name": "DM2_RP",
         "showlegend": true,
         "type": "scatter3d",
         "x": [
          130000
         ],
         "y": [
          1500
         ],
         "z": [
          70000
         ]
        },
        {
         "marker": {
          "size": 5,
          "symbol": "x"
         },
         "mode": "markers",
         "name": "DM3_RP",
         "showlegend": true,
         "type": "scatter3d",
         "x": [
          100000
         ],
         "y": [
          3703
         ],
         "z": [
          70000
         ]
        },
        {
         "marker": {
          "size": 5,
          "symbol": "x"
         },
         "mode": "markers",
         "name": "DM4_RP",
         "showlegend": true,
         "type": "scatter3d",
         "x": [
          100000
         ],
         "y": [
          2500
         ],
         "z": [
          100000
         ]
        },
        {
         "marker": {
          "size": 10,
          "symbol": "square"
         },
         "mode": "markers",
         "name": "ideal",
         "showlegend": true,
         "type": "scatter3d",
         "x": [
          153888
         ],
         "y": [
          3704
         ],
         "z": [
          111894
         ]
        },
        {
         "marker": {
          "size": 10,
          "symbol": "square"
         },
         "mode": "markers",
         "name": "nadir",
         "showlegend": true,
         "type": "scatter3d",
         "x": [
          132036
         ],
         "y": [
          620
         ],
         "z": [
          0
         ]
        },
        {
         "marker": {
          "size": 10,
          "symbol": "circle"
         },
         "mode": "markers",
         "name": "current solution",
         "showlegend": true,
         "type": "scatter3d",
         "x": [
          132036.37628334865
         ],
         "y": [
          3703.6032761236183
         ],
         "z": [
          3.63657694356011e-05
         ]
        },
        {
         "marker": {
          "size": 10,
          "symbol": "circle"
         },
         "mode": "markers",
         "name": "group_nimbus",
         "showlegend": true,
         "type": "scatter3d",
         "x": [
          145589.86969776027
         ],
         "y": [
          2463.0244644684767
         ],
         "z": [
          54893.136645098806
         ]
        },
        {
         "marker": {
          "size": 10,
          "symbol": "circle"
         },
         "mode": "markers",
         "name": "gstom",
         "showlegend": true,
         "type": "scatter3d",
         "x": [
          132036.37628334865
         ],
         "y": [
          3703.6032761236183
         ],
         "z": [
          3.63657694356011e-05
         ]
        },
        {
         "marker": {
          "size": 10,
          "symbol": "circle"
         },
         "mode": "markers",
         "name": "gasf",
         "showlegend": true,
         "type": "scatter3d",
         "x": [
          145589.86968980072
         ],
         "y": [
          2463.0244644684767
         ],
         "z": [
          54893.136637141
         ]
        },
        {
         "marker": {
          "size": 10,
          "symbol": "circle"
         },
         "mode": "markers",
         "name": "gguess",
         "showlegend": true,
         "type": "scatter3d",
         "x": [
          116764.61327351695
         ],
         "y": [
          2094.920290330019
         ],
         "z": [
          47656.868960012915
         ]
        }
       ],
       "layout": {
        "height": 1000,
        "legend": {
         "tracegroupgap": 0
        },
        "margin": {
         "t": 60
        },
        "scene": {
         "domain": {
          "x": [
           0,
           1
          ],
          "y": [
           0,
           1
          ]
         },
         "xaxis": {
          "title": {
           "text": "X: Net present value / €"
          }
         },
         "yaxis": {
          "title": {
           "text": "Y: Wood stock volume / m^3"
          }
         },
         "zaxis": {
          "title": {
           "text": "Z: Harvest value / €"
          }
         }
        },
        "template": {
         "data": {
          "bar": [
           {
            "error_x": {
             "color": "#2a3f5f"
            },
            "error_y": {
             "color": "#2a3f5f"
            },
            "marker": {
             "line": {
              "color": "#E5ECF6",
              "width": 0.5
             },
             "pattern": {
              "fillmode": "overlay",
              "size": 10,
              "solidity": 0.2
             }
            },
            "type": "bar"
           }
          ],
          "barpolar": [
           {
            "marker": {
             "line": {
              "color": "#E5ECF6",
              "width": 0.5
             },
             "pattern": {
              "fillmode": "overlay",
              "size": 10,
              "solidity": 0.2
             }
            },
            "type": "barpolar"
           }
          ],
          "carpet": [
           {
            "aaxis": {
             "endlinecolor": "#2a3f5f",
             "gridcolor": "white",
             "linecolor": "white",
             "minorgridcolor": "white",
             "startlinecolor": "#2a3f5f"
            },
            "baxis": {
             "endlinecolor": "#2a3f5f",
             "gridcolor": "white",
             "linecolor": "white",
             "minorgridcolor": "white",
             "startlinecolor": "#2a3f5f"
            },
            "type": "carpet"
           }
          ],
          "choropleth": [
           {
            "colorbar": {
             "outlinewidth": 0,
             "ticks": ""
            },
            "type": "choropleth"
           }
          ],
          "contour": [
           {
            "colorbar": {
             "outlinewidth": 0,
             "ticks": ""
            },
            "colorscale": [
             [
              0,
              "#0d0887"
             ],
             [
              0.1111111111111111,
              "#46039f"
             ],
             [
              0.2222222222222222,
              "#7201a8"
             ],
             [
              0.3333333333333333,
              "#9c179e"
             ],
             [
              0.4444444444444444,
              "#bd3786"
             ],
             [
              0.5555555555555556,
              "#d8576b"
             ],
             [
              0.6666666666666666,
              "#ed7953"
             ],
             [
              0.7777777777777778,
              "#fb9f3a"
             ],
             [
              0.8888888888888888,
              "#fdca26"
             ],
             [
              1,
              "#f0f921"
             ]
            ],
            "type": "contour"
           }
          ],
          "contourcarpet": [
           {
            "colorbar": {
             "outlinewidth": 0,
             "ticks": ""
            },
            "type": "contourcarpet"
           }
          ],
          "heatmap": [
           {
            "colorbar": {
             "outlinewidth": 0,
             "ticks": ""
            },
            "colorscale": [
             [
              0,
              "#0d0887"
             ],
             [
              0.1111111111111111,
              "#46039f"
             ],
             [
              0.2222222222222222,
              "#7201a8"
             ],
             [
              0.3333333333333333,
              "#9c179e"
             ],
             [
              0.4444444444444444,
              "#bd3786"
             ],
             [
              0.5555555555555556,
              "#d8576b"
             ],
             [
              0.6666666666666666,
              "#ed7953"
             ],
             [
              0.7777777777777778,
              "#fb9f3a"
             ],
             [
              0.8888888888888888,
              "#fdca26"
             ],
             [
              1,
              "#f0f921"
             ]
            ],
            "type": "heatmap"
           }
          ],
          "heatmapgl": [
           {
            "colorbar": {
             "outlinewidth": 0,
             "ticks": ""
            },
            "colorscale": [
             [
              0,
              "#0d0887"
             ],
             [
              0.1111111111111111,
              "#46039f"
             ],
             [
              0.2222222222222222,
              "#7201a8"
             ],
             [
              0.3333333333333333,
              "#9c179e"
             ],
             [
              0.4444444444444444,
              "#bd3786"
             ],
             [
              0.5555555555555556,
              "#d8576b"
             ],
             [
              0.6666666666666666,
              "#ed7953"
             ],
             [
              0.7777777777777778,
              "#fb9f3a"
             ],
             [
              0.8888888888888888,
              "#fdca26"
             ],
             [
              1,
              "#f0f921"
             ]
            ],
            "type": "heatmapgl"
           }
          ],
          "histogram": [
           {
            "marker": {
             "pattern": {
              "fillmode": "overlay",
              "size": 10,
              "solidity": 0.2
             }
            },
            "type": "histogram"
           }
          ],
          "histogram2d": [
           {
            "colorbar": {
             "outlinewidth": 0,
             "ticks": ""
            },
            "colorscale": [
             [
              0,
              "#0d0887"
             ],
             [
              0.1111111111111111,
              "#46039f"
             ],
             [
              0.2222222222222222,
              "#7201a8"
             ],
             [
              0.3333333333333333,
              "#9c179e"
             ],
             [
              0.4444444444444444,
              "#bd3786"
             ],
             [
              0.5555555555555556,
              "#d8576b"
             ],
             [
              0.6666666666666666,
              "#ed7953"
             ],
             [
              0.7777777777777778,
              "#fb9f3a"
             ],
             [
              0.8888888888888888,
              "#fdca26"
             ],
             [
              1,
              "#f0f921"
             ]
            ],
            "type": "histogram2d"
           }
          ],
          "histogram2dcontour": [
           {
            "colorbar": {
             "outlinewidth": 0,
             "ticks": ""
            },
            "colorscale": [
             [
              0,
              "#0d0887"
             ],
             [
              0.1111111111111111,
              "#46039f"
             ],
             [
              0.2222222222222222,
              "#7201a8"
             ],
             [
              0.3333333333333333,
              "#9c179e"
             ],
             [
              0.4444444444444444,
              "#bd3786"
             ],
             [
              0.5555555555555556,
              "#d8576b"
             ],
             [
              0.6666666666666666,
              "#ed7953"
             ],
             [
              0.7777777777777778,
              "#fb9f3a"
             ],
             [
              0.8888888888888888,
              "#fdca26"
             ],
             [
              1,
              "#f0f921"
             ]
            ],
            "type": "histogram2dcontour"
           }
          ],
          "mesh3d": [
           {
            "colorbar": {
             "outlinewidth": 0,
             "ticks": ""
            },
            "type": "mesh3d"
           }
          ],
          "parcoords": [
           {
            "line": {
             "colorbar": {
              "outlinewidth": 0,
              "ticks": ""
             }
            },
            "type": "parcoords"
           }
          ],
          "pie": [
           {
            "automargin": true,
            "type": "pie"
           }
          ],
          "scatter": [
           {
            "fillpattern": {
             "fillmode": "overlay",
             "size": 10,
             "solidity": 0.2
            },
            "type": "scatter"
           }
          ],
          "scatter3d": [
           {
            "line": {
             "colorbar": {
              "outlinewidth": 0,
              "ticks": ""
             }
            },
            "marker": {
             "colorbar": {
              "outlinewidth": 0,
              "ticks": ""
             }
            },
            "type": "scatter3d"
           }
          ],
          "scattercarpet": [
           {
            "marker": {
             "colorbar": {
              "outlinewidth": 0,
              "ticks": ""
             }
            },
            "type": "scattercarpet"
           }
          ],
          "scattergeo": [
           {
            "marker": {
             "colorbar": {
              "outlinewidth": 0,
              "ticks": ""
             }
            },
            "type": "scattergeo"
           }
          ],
          "scattergl": [
           {
            "marker": {
             "colorbar": {
              "outlinewidth": 0,
              "ticks": ""
             }
            },
            "type": "scattergl"
           }
          ],
          "scattermapbox": [
           {
            "marker": {
             "colorbar": {
              "outlinewidth": 0,
              "ticks": ""
             }
            },
            "type": "scattermapbox"
           }
          ],
          "scatterpolar": [
           {
            "marker": {
             "colorbar": {
              "outlinewidth": 0,
              "ticks": ""
             }
            },
            "type": "scatterpolar"
           }
          ],
          "scatterpolargl": [
           {
            "marker": {
             "colorbar": {
              "outlinewidth": 0,
              "ticks": ""
             }
            },
            "type": "scatterpolargl"
           }
          ],
          "scatterternary": [
           {
            "marker": {
             "colorbar": {
              "outlinewidth": 0,
              "ticks": ""
             }
            },
            "type": "scatterternary"
           }
          ],
          "surface": [
           {
            "colorbar": {
             "outlinewidth": 0,
             "ticks": ""
            },
            "colorscale": [
             [
              0,
              "#0d0887"
             ],
             [
              0.1111111111111111,
              "#46039f"
             ],
             [
              0.2222222222222222,
              "#7201a8"
             ],
             [
              0.3333333333333333,
              "#9c179e"
             ],
             [
              0.4444444444444444,
              "#bd3786"
             ],
             [
              0.5555555555555556,
              "#d8576b"
             ],
             [
              0.6666666666666666,
              "#ed7953"
             ],
             [
              0.7777777777777778,
              "#fb9f3a"
             ],
             [
              0.8888888888888888,
              "#fdca26"
             ],
             [
              1,
              "#f0f921"
             ]
            ],
            "type": "surface"
           }
          ],
          "table": [
           {
            "cells": {
             "fill": {
              "color": "#EBF0F8"
             },
             "line": {
              "color": "white"
             }
            },
            "header": {
             "fill": {
              "color": "#C8D4E3"
             },
             "line": {
              "color": "white"
             }
            },
            "type": "table"
           }
          ]
         },
         "layout": {
          "annotationdefaults": {
           "arrowcolor": "#2a3f5f",
           "arrowhead": 0,
           "arrowwidth": 1
          },
          "autotypenumbers": "strict",
          "coloraxis": {
           "colorbar": {
            "outlinewidth": 0,
            "ticks": ""
           }
          },
          "colorscale": {
           "diverging": [
            [
             0,
             "#8e0152"
            ],
            [
             0.1,
             "#c51b7d"
            ],
            [
             0.2,
             "#de77ae"
            ],
            [
             0.3,
             "#f1b6da"
            ],
            [
             0.4,
             "#fde0ef"
            ],
            [
             0.5,
             "#f7f7f7"
            ],
            [
             0.6,
             "#e6f5d0"
            ],
            [
             0.7,
             "#b8e186"
            ],
            [
             0.8,
             "#7fbc41"
            ],
            [
             0.9,
             "#4d9221"
            ],
            [
             1,
             "#276419"
            ]
           ],
           "sequential": [
            [
             0,
             "#0d0887"
            ],
            [
             0.1111111111111111,
             "#46039f"
            ],
            [
             0.2222222222222222,
             "#7201a8"
            ],
            [
             0.3333333333333333,
             "#9c179e"
            ],
            [
             0.4444444444444444,
             "#bd3786"
            ],
            [
             0.5555555555555556,
             "#d8576b"
            ],
            [
             0.6666666666666666,
             "#ed7953"
            ],
            [
             0.7777777777777778,
             "#fb9f3a"
            ],
            [
             0.8888888888888888,
             "#fdca26"
            ],
            [
             1,
             "#f0f921"
            ]
           ],
           "sequentialminus": [
            [
             0,
             "#0d0887"
            ],
            [
             0.1111111111111111,
             "#46039f"
            ],
            [
             0.2222222222222222,
             "#7201a8"
            ],
            [
             0.3333333333333333,
             "#9c179e"
            ],
            [
             0.4444444444444444,
             "#bd3786"
            ],
            [
             0.5555555555555556,
             "#d8576b"
            ],
            [
             0.6666666666666666,
             "#ed7953"
            ],
            [
             0.7777777777777778,
             "#fb9f3a"
            ],
            [
             0.8888888888888888,
             "#fdca26"
            ],
            [
             1,
             "#f0f921"
            ]
           ]
          },
          "colorway": [
           "#636efa",
           "#EF553B",
           "#00cc96",
           "#ab63fa",
           "#FFA15A",
           "#19d3f3",
           "#FF6692",
           "#B6E880",
           "#FF97FF",
           "#FECB52"
          ],
          "font": {
           "color": "#2a3f5f"
          },
          "geo": {
           "bgcolor": "white",
           "lakecolor": "white",
           "landcolor": "#E5ECF6",
           "showlakes": true,
           "showland": true,
           "subunitcolor": "white"
          },
          "hoverlabel": {
           "align": "left"
          },
          "hovermode": "closest",
          "mapbox": {
           "style": "light"
          },
          "paper_bgcolor": "white",
          "plot_bgcolor": "#E5ECF6",
          "polar": {
           "angularaxis": {
            "gridcolor": "white",
            "linecolor": "white",
            "ticks": ""
           },
           "bgcolor": "#E5ECF6",
           "radialaxis": {
            "gridcolor": "white",
            "linecolor": "white",
            "ticks": ""
           }
          },
          "scene": {
           "xaxis": {
            "backgroundcolor": "#E5ECF6",
            "gridcolor": "white",
            "gridwidth": 2,
            "linecolor": "white",
            "showbackground": true,
            "ticks": "",
            "zerolinecolor": "white"
           },
           "yaxis": {
            "backgroundcolor": "#E5ECF6",
            "gridcolor": "white",
            "gridwidth": 2,
            "linecolor": "white",
            "showbackground": true,
            "ticks": "",
            "zerolinecolor": "white"
           },
           "zaxis": {
            "backgroundcolor": "#E5ECF6",
            "gridcolor": "white",
            "gridwidth": 2,
            "linecolor": "white",
            "showbackground": true,
            "ticks": "",
            "zerolinecolor": "white"
           }
          },
          "shapedefaults": {
           "line": {
            "color": "#2a3f5f"
           }
          },
          "ternary": {
           "aaxis": {
            "gridcolor": "white",
            "linecolor": "white",
            "ticks": ""
           },
           "baxis": {
            "gridcolor": "white",
            "linecolor": "white",
            "ticks": ""
           },
           "bgcolor": "#E5ECF6",
           "caxis": {
            "gridcolor": "white",
            "linecolor": "white",
            "ticks": ""
           }
          },
          "title": {
           "x": 0.05
          },
          "xaxis": {
           "automargin": true,
           "gridcolor": "white",
           "linecolor": "white",
           "ticks": "",
           "title": {
            "standoff": 15
           },
           "zerolinecolor": "white",
           "zerolinewidth": 2
          },
          "yaxis": {
           "automargin": true,
           "gridcolor": "white",
           "linecolor": "white",
           "ticks": "",
           "title": {
            "standoff": 15
           },
           "zerolinecolor": "white",
           "zerolinewidth": 2
          }
         }
        },
        "width": 1000
       }
      },
      "image/png": "[encoded data removed]",
      "text/html": [
       "<div>                            <div id=\"33736782-e6d9-4843-af06-1ec1d4d6459c\" class=\"plotly-graph-div\" style=\"height:1000px; width:1000px;\"></div>            <script type=\"text/javascript\">                require([\"plotly\"], function(Plotly) {                    window.PLOTLYENV=window.PLOTLYENV || {};                                    if (document.getElementById(\"33736782-e6d9-4843-af06-1ec1d4d6459c\")) {                    Plotly.newPlot(                        \"33736782-e6d9-4843-af06-1ec1d4d6459c\",                        [{\"hovertemplate\":\"\\u003cextra\\u003e\\u003c\\u002fextra\\u003e\",\"legendgroup\":\"\",\"marker\":{\"color\":\"#636efa\",\"symbol\":\"circle\"},\"mode\":\"markers\",\"name\":\"\",\"scene\":\"scene\",\"showlegend\":false,\"type\":\"scatter3d\"},{\"marker\":{\"symbol\":\"circle\"},\"mode\":\"markers\",\"name\":\"Saved solutions\",\"opacity\":0.8,\"x\":[148520.88358665464,148520.88358665467,149991.67030213407,146620.26331247814,132035.99024589354,149991.67030213407,149991.67030213462,149991.67030213407,146620.26331704238,132036.0,132036.0,145589.86969776027,132036.37628334865,145589.86968980072,116764.61327351695],\"y\":[2002.2071930260186,2002.2071930260186,840.8590751749173,2308.032817946801,3179.2659825315427,840.8590751749173,840.8590751749173,840.8590751749173,2308.032817946801,2110.1977090501528,2110.1977090501528,2463.0244644684767,3703.6032761236183,2463.0244644684767,2094.920290330019],\"z\":[72565.58392702561,72565.58392702564,109044.46369677768,61218.42216202674,11186.634906499894,109044.46369677768,109044.4636967782,109044.46369677768,61218.422166590455,49411.053882778804,49411.053882778804,54893.136645098806,3.63657694356011e-05,54893.136637141,47656.868960012915],\"type\":\"scatter3d\"},{\"marker\":{\"symbol\":\"circle\"},\"mode\":\"markers\",\"name\":\"Front\",\"opacity\":0.8,\"x\":[144824.7178224353,153641.07796333326,153887.55223588506,151215.4264046575,146888.2134485984,135639.48657258434,149578.2220833502,137819.07288697522,151843.61032753042,140920.22950832816,147478.61288157204,150214.3682514308,144673.22771517126,143224.7168917169,140206.76478313483,149913.6608523539,153047.55725101504,153254.11728074946,133877.4311733874,149052.79237924333,137790.23646607262,150002.2379490932,144643.0981944813,146310.82972412623,144530.83508835165,141802.42230913707,153498.1268173773,150788.65380998203,148621.35094735658,152308.6913910053,152695.82322547803,148427.82810742152,148518.53978972146,142461.33049716958,149879.9396998777,153329.22511935158,138282.44510578085,148562.35796609914,150990.05250183915,152664.75928911482,139415.7149660094,132236.9127410863,142161.94257575882,153808.91065268285,149521.7947772721,149852.2064686216,138950.96132621984,135096.2465028968,143945.9560546102,148297.87898934569,141787.60100667254,138760.45952595532,139239.1177461435,137069.27644036486,152213.13330123236,148621.35094186076,149213.1995404802,153601.2073025865,153539.60119341678,149717.58646075238,149259.00301259954,136705.268577858,149717.58646075238,146888.21344868958,153539.6011934168,153019.2449663437,145486.51005855598,143814.97867455552,146946.36574073273,141223.57712379133,134926.02183755534,153553.20722362213,145343.92648495358,149192.97997478693,143320.24245130416,150095.61732599992,153629.32972027524,146987.8401202132,143454.9058244253,146987.84012023255,147701.3048452915,143595.46440814302,140927.72480336545,143442.23483246172,151666.74549896797,140978.38180032538,150127.31028214088,147968.38879705715,153879.08464256057,153399.54867080343,150098.86569174431,137590.29532633076,147701.3048452915,147953.99546384063,143121.63640313552,149383.78534150272,138675.5436007012,136411.10358785465,143945.6769119466,149663.97793299868],\"y\":[2584.471536289063,798.2998337081754,1111.0490195987384,647.1373085150356,2679.019105462974,3650.2910792579924,1596.098212658164,3228.672182542013,1990.0966185198918,3248.551561954024,2160.446351960003,1107.5008504924467,2587.1950334837375,3006.3622186289235,2940.0074644167676,2354.3585040500693,1657.5897552853585,1583.8449794545013,3509.0698122694653,1863.2020427798816,3438.2160640866587,1307.4815439240451,2768.2455487170987,2380.5532064756335,2804.224009558299,2744.950620277314,1333.3888996664227,2149.027104374415,2506.902842279224,895.5496410766991,1762.1147357782556,2531.159339423437,2514.8237225285407,3094.5388301859803,869.5788141644648,1470.2560901933948,3362.862906034057,2008.0713257134512,2178.7921294481725,1813.0438634779325,3083.0798360068625,3669.0116504626358,3122.6663435053706,1156.3611694255524,1442.7648420866003,2282.7916051970633,3103.864150277013,3354.5251452769453,2896.773466196019,1994.6854470583626,3146.8292536599324,3310.435947835707,3096.906843588558,3520.6873220795023,1916.76644889313,2506.902842279224,1755.5828499031504,1317.9043594034265,1339.2530323538554,1457.3968700276728,1727.060393680733,3531.171448042282,1457.3968700276728,2679.0191053680132,1339.2530323538554,1637.204993760337,2505.6264991715348,2656.394089309895,2273.3739619471426,3206.0390560437245,3341.746981720736,781.4212172388579,2712.987096362117,2409.7122676028507,2991.1676885245824,1008.0248228155516,1234.2256358903458,2279.238094634575,2661.447934077785,2279.238094634575,2587.7821921718314,2679.4836678065703,2857.536206423925,2695.788099178869,2030.012643326802,2842.9064185331536,1200.9044195191345,2071.4018758567076,1032.839980676392,699.339822209661,994.1428252007732,3441.5960915920814,2587.7821921718314,2559.8994741523034,3021.8467588919198,2430.2957169738133,3269.1837345538615,3553.1900333743774,2923.8909606360803,2379.4257157303355],\"z\":[50063.64237945177,108165.36729448449,101202.14050335031,111517.6494949699,44071.62076105985,91.98206712297012,86744.60244056126,20963.10731106013,70965.11143523012,18318.59336548849,66833.55385237877,102688.23647098865,49842.35741795158,28220.888649104687,33091.323875214955,57121.468440343044,83060.3140064279,85743.16197166817,7851.970389457045,77621.55871814574,8661.730858218782,96277.0677484142,37811.83103787842,58040.68904389381,36330.85829431715,40718.97514865719,93474.93396023443,65480.37075681094,51109.375124734186,106312.05358792128,79360.54672472301,50155.62440589039,50705.072972411246,24611.716395776562,108087.16071776846,89327.10143061748,11582.258621744351,72417.15767159392,64301.76142309517,77614.25524623357,27154.835843496592,1211.255836313205,23430.56800667567,99564.12879152953,91694.51011485716,59966.03424540314,26136.718181474516,13815.341169434003,32379.64365766835,72871.51176897866,22216.8897914629,13692.999120851387,26569.335510889243,5514.178460078882,73837.63944527149,51109.37511923902,81401.16492703097,94044.70259019775,93326.50770240993,91389.57352749465,82418.27805958177,4706.666146797989,91389.57352749465,44071.62076406332,93326.50770240994,83779.62436113847,53312.165388899164,46992.60592151143,62754.681522226805,19934.151317826694,14864.712566967866,109195.63852845649,40092.762287307996,54985.11866357962,28772.058036434908,105156.18015901341,97089.23385247267,62606.25526678063,46523.25225117999,62606.2552668001,47833.52475705417,45852.70178212472,36238.876267878535,45249.00301274284,69897.287424592,37001.65412365197,99840.79420179356,70265.33862672323,103498.41338218968,110718.47272855895,105384.30917966456,8626.431142316305,47833.52475705417,48686.30485361893,27651.12001676312,54108.50125645642,15707.438626717332,4002.3123136369495,31368.441041768216,56093.051790904916],\"type\":\"scatter3d\"},{\"marker\":{\"size\":5,\"symbol\":\"x\"},\"mode\":\"markers\",\"name\":\"DM1_RP\",\"showlegend\":true,\"x\":[120000],\"y\":[3600],\"z\":[30000],\"type\":\"scatter3d\"},{\"marker\":{\"size\":5,\"symbol\":\"x\"},\"mode\":\"markers\",\"name\":\"DM2_RP\",\"showlegend\":true,\"x\":[130000],\"y\":[1500],\"z\":[70000],\"type\":\"scatter3d\"},{\"marker\":{\"size\":5,\"symbol\":\"x\"},\"mode\":\"markers\",\"name\":\"DM3_RP\",\"showlegend\":true,\"x\":[100000],\"y\":[3703],\"z\":[70000],\"type\":\"scatter3d\"},{\"marker\":{\"size\":5,\"symbol\":\"x\"},\"mode\":\"markers\",\"name\":\"DM4_RP\",\"showlegend\":true,\"x\":[100000],\"y\":[2500],\"z\":[100000],\"type\":\"scatter3d\"},{\"marker\":{\"size\":10,\"symbol\":\"square\"},\"mode\":\"markers\",\"name\":\"ideal\",\"showlegend\":true,\"x\":[153888.0],\"y\":[3704.0],\"z\":[111894.0],\"type\":\"scatter3d\"},{\"marker\":{\"size\":10,\"symbol\":\"square\"},\"mode\":\"markers\",\"name\":\"nadir\",\"showlegend\":true,\"x\":[132036.0],\"y\":[620.0],\"z\":[0.0],\"type\":\"scatter3d\"},{\"marker\":{\"size\":10,\"symbol\":\"circle\"},\"mode\":\"markers\",\"name\":\"current solution\",\"showlegend\":true,\"x\":[132036.37628334865],\"y\":[3703.6032761236183],\"z\":[3.63657694356011e-05],\"type\":\"scatter3d\"},{\"marker\":{\"size\":10,\"symbol\":\"circle\"},\"mode\":\"markers\",\"name\":\"group_nimbus\",\"showlegend\":true,\"x\":[145589.86969776027],\"y\":[2463.0244644684767],\"z\":[54893.136645098806],\"type\":\"scatter3d\"},{\"marker\":{\"size\":10,\"symbol\":\"circle\"},\"mode\":\"markers\",\"name\":\"gstom\",\"showlegend\":true,\"x\":[132036.37628334865],\"y\":[3703.6032761236183],\"z\":[3.63657694356011e-05],\"type\":\"scatter3d\"},{\"marker\":{\"size\":10,\"symbol\":\"circle\"},\"mode\":\"markers\",\"name\":\"gasf\",\"showlegend\":true,\"x\":[145589.86968980072],\"y\":[2463.0244644684767],\"z\":[54893.136637141],\"type\":\"scatter3d\"},{\"marker\":{\"size\":10,\"symbol\":\"circle\"},\"mode\":\"markers\",\"name\":\"gguess\",\"showlegend\":true,\"x\":[116764.61327351695],\"y\":[2094.920290330019],\"z\":[47656.868960012915],\"type\":\"scatter3d\"}],                        {\"template\":{\"data\":{\"histogram2dcontour\":[{\"type\":\"histogram2dcontour\",\"colorbar\":{\"outlinewidth\":0,\"ticks\":\"\"},\"colorscale\":[[0.0,\"#0d0887\"],[0.1111111111111111,\"#46039f\"],[0.2222222222222222,\"#7201a8\"],[0.3333333333333333,\"#9c179e\"],[0.4444444444444444,\"#bd3786\"],[0.5555555555555556,\"#d8576b\"],[0.6666666666666666,\"#ed7953\"],[0.7777777777777778,\"#fb9f3a\"],[0.8888888888888888,\"#fdca26\"],[1.0,\"#f0f921\"]]}],\"choropleth\":[{\"type\":\"choropleth\",\"colorbar\":{\"outlinewidth\":0,\"ticks\":\"\"}}],\"histogram2d\":[{\"type\":\"histogram2d\",\"colorbar\":{\"outlinewidth\":0,\"ticks\":\"\"},\"colorscale\":[[0.0,\"#0d0887\"],[0.1111111111111111,\"#46039f\"],[0.2222222222222222,\"#7201a8\"],[0.3333333333333333,\"#9c179e\"],[0.4444444444444444,\"#bd3786\"],[0.5555555555555556,\"#d8576b\"],[0.6666666666666666,\"#ed7953\"],[0.7777777777777778,\"#fb9f3a\"],[0.8888888888888888,\"#fdca26\"],[1.0,\"#f0f921\"]]}],\"heatmap\":[{\"type\":\"heatmap\",\"colorbar\":{\"outlinewidth\":0,\"ticks\":\"\"},\"colorscale\":[[0.0,\"#0d0887\"],[0.1111111111111111,\"#46039f\"],[0.2222222222222222,\"#7201a8\"],[0.3333333333333333,\"#9c179e\"],[0.4444444444444444,\"#bd3786\"],[0.5555555555555556,\"#d8576b\"],[0.6666666666666666,\"#ed7953\"],[0.7777777777777778,\"#fb9f3a\"],[0.8888888888888888,\"#fdca26\"],[1.0,\"#f0f921\"]]}],\"heatmapgl\":[{\"type\":\"heatmapgl\",\"colorbar\":{\"outlinewidth\":0,\"ticks\":\"\"},\"colorscale\":[[0.0,\"#0d0887\"],[0.1111111111111111,\"#46039f\"],[0.2222222222222222,\"#7201a8\"],[0.3333333333333333,\"#9c179e\"],[0.4444444444444444,\"#bd3786\"],[0.5555555555555556,\"#d8576b\"],[0.6666666666666666,\"#ed7953\"],[0.7777777777777778,\"#fb9f3a\"],[0.8888888888888888,\"#fdca26\"],[1.0,\"#f0f921\"]]}],\"contourcarpet\":[{\"type\":\"contourcarpet\",\"colorbar\":{\"outlinewidth\":0,\"ticks\":\"\"}}],\"contour\":[{\"type\":\"contour\",\"colorbar\":{\"outlinewidth\":0,\"ticks\":\"\"},\"colorscale\":[[0.0,\"#0d0887\"],[0.1111111111111111,\"#46039f\"],[0.2222222222222222,\"#7201a8\"],[0.3333333333333333,\"#9c179e\"],[0.4444444444444444,\"#bd3786\"],[0.5555555555555556,\"#d8576b\"],[0.6666666666666666,\"#ed7953\"],[0.7777777777777778,\"#fb9f3a\"],[0.8888888888888888,\"#fdca26\"],[1.0,\"#f0f921\"]]}],\"surface\":[{\"type\":\"surface\",\"colorbar\":{\"outlinewidth\":0,\"ticks\":\"\"},\"colorscale\":[[0.0,\"#0d0887\"],[0.1111111111111111,\"#46039f\"],[0.2222222222222222,\"#7201a8\"],[0.3333333333333333,\"#9c179e\"],[0.4444444444444444,\"#bd3786\"],[0.5555555555555556,\"#d8576b\"],[0.6666666666666666,\"#ed7953\"],[0.7777777777777778,\"#fb9f3a\"],[0.8888888888888888,\"#fdca26\"],[1.0,\"#f0f921\"]]}],\"mesh3d\":[{\"type\":\"mesh3d\",\"colorbar\":{\"outlinewidth\":0,\"ticks\":\"\"}}],\"scatter\":[{\"fillpattern\":{\"fillmode\":\"overlay\",\"size\":10,\"solidity\":0.2},\"type\":\"scatter\"}],\"parcoords\":[{\"type\":\"parcoords\",\"line\":{\"colorbar\":{\"outlinewidth\":0,\"ticks\":\"\"}}}],\"scatterpolargl\":[{\"type\":\"scatterpolargl\",\"marker\":{\"colorbar\":{\"outlinewidth\":0,\"ticks\":\"\"}}}],\"bar\":[{\"error_x\":{\"color\":\"#2a3f5f\"},\"error_y\":{\"color\":\"#2a3f5f\"},\"marker\":{\"line\":{\"color\":\"#E5ECF6\",\"width\":0.5},\"pattern\":{\"fillmode\":\"overlay\",\"size\":10,\"solidity\":0.2}},\"type\":\"bar\"}],\"scattergeo\":[{\"type\":\"scattergeo\",\"marker\":{\"colorbar\":{\"outlinewidth\":0,\"ticks\":\"\"}}}],\"scatterpolar\":[{\"type\":\"scatterpolar\",\"marker\":{\"colorbar\":{\"outlinewidth\":0,\"ticks\":\"\"}}}],\"histogram\":[{\"marker\":{\"pattern\":{\"fillmode\":\"overlay\",\"size\":10,\"solidity\":0.2}},\"type\":\"histogram\"}],\"scattergl\":[{\"type\":\"scattergl\",\"marker\":{\"colorbar\":{\"outlinewidth\":0,\"ticks\":\"\"}}}],\"scatter3d\":[{\"type\":\"scatter3d\",\"line\":{\"colorbar\":{\"outlinewidth\":0,\"ticks\":\"\"}},\"marker\":{\"colorbar\":{\"outlinewidth\":0,\"ticks\":\"\"}}}],\"scattermapbox\":[{\"type\":\"scattermapbox\",\"marker\":{\"colorbar\":{\"outlinewidth\":0,\"ticks\":\"\"}}}],\"scatterternary\":[{\"type\":\"scatterternary\",\"marker\":{\"colorbar\":{\"outlinewidth\":0,\"ticks\":\"\"}}}],\"scattercarpet\":[{\"type\":\"scattercarpet\",\"marker\":{\"colorbar\":{\"outlinewidth\":0,\"ticks\":\"\"}}}],\"carpet\":[{\"aaxis\":{\"endlinecolor\":\"#2a3f5f\",\"gridcolor\":\"white\",\"linecolor\":\"white\",\"minorgridcolor\":\"white\",\"startlinecolor\":\"#2a3f5f\"},\"baxis\":{\"endlinecolor\":\"#2a3f5f\",\"gridcolor\":\"white\",\"linecolor\":\"white\",\"minorgridcolor\":\"white\",\"startlinecolor\":\"#2a3f5f\"},\"type\":\"carpet\"}],\"table\":[{\"cells\":{\"fill\":{\"color\":\"#EBF0F8\"},\"line\":{\"color\":\"white\"}},\"header\":{\"fill\":{\"color\":\"#C8D4E3\"},\"line\":{\"color\":\"white\"}},\"type\":\"table\"}],\"barpolar\":[{\"marker\":{\"line\":{\"color\":\"#E5ECF6\",\"width\":0.5},\"pattern\":{\"fillmode\":\"overlay\",\"size\":10,\"solidity\":0.2}},\"type\":\"barpolar\"}],\"pie\":[{\"automargin\":true,\"type\":\"pie\"}]},\"layout\":{\"autotypenumbers\":\"strict\",\"colorway\":[\"#636efa\",\"#EF553B\",\"#00cc96\",\"#ab63fa\",\"#FFA15A\",\"#19d3f3\",\"#FF6692\",\"#B6E880\",\"#FF97FF\",\"#FECB52\"],\"font\":{\"color\":\"#2a3f5f\"},\"hovermode\":\"closest\",\"hoverlabel\":{\"align\":\"left\"},\"paper_bgcolor\":\"white\",\"plot_bgcolor\":\"#E5ECF6\",\"polar\":{\"bgcolor\":\"#E5ECF6\",\"angularaxis\":{\"gridcolor\":\"white\",\"linecolor\":\"white\",\"ticks\":\"\"},\"radialaxis\":{\"gridcolor\":\"white\",\"linecolor\":\"white\",\"ticks\":\"\"}},\"ternary\":{\"bgcolor\":\"#E5ECF6\",\"aaxis\":{\"gridcolor\":\"white\",\"linecolor\":\"white\",\"ticks\":\"\"},\"baxis\":{\"gridcolor\":\"white\",\"linecolor\":\"white\",\"ticks\":\"\"},\"caxis\":{\"gridcolor\":\"white\",\"linecolor\":\"white\",\"ticks\":\"\"}},\"coloraxis\":{\"colorbar\":{\"outlinewidth\":0,\"ticks\":\"\"}},\"colorscale\":{\"sequential\":[[0.0,\"#0d0887\"],[0.1111111111111111,\"#46039f\"],[0.2222222222222222,\"#7201a8\"],[0.3333333333333333,\"#9c179e\"],[0.4444444444444444,\"#bd3786\"],[0.5555555555555556,\"#d8576b\"],[0.6666666666666666,\"#ed7953\"],[0.7777777777777778,\"#fb9f3a\"],[0.8888888888888888,\"#fdca26\"],[1.0,\"#f0f921\"]],\"sequentialminus\":[[0.0,\"#0d0887\"],[0.1111111111111111,\"#46039f\"],[0.2222222222222222,\"#7201a8\"],[0.3333333333333333,\"#9c179e\"],[0.4444444444444444,\"#bd3786\"],[0.5555555555555556,\"#d8576b\"],[0.6666666666666666,\"#ed7953\"],[0.7777777777777778,\"#fb9f3a\"],[0.8888888888888888,\"#fdca26\"],[1.0,\"#f0f921\"]],\"diverging\":[[0,\"#8e0152\"],[0.1,\"#c51b7d\"],[0.2,\"#de77ae\"],[0.3,\"#f1b6da\"],[0.4,\"#fde0ef\"],[0.5,\"#f7f7f7\"],[0.6,\"#e6f5d0\"],[0.7,\"#b8e186\"],[0.8,\"#7fbc41\"],[0.9,\"#4d9221\"],[1,\"#276419\"]]},\"xaxis\":{\"gridcolor\":\"white\",\"linecolor\":\"white\",\"ticks\":\"\",\"title\":{\"standoff\":15},\"zerolinecolor\":\"white\",\"automargin\":true,\"zerolinewidth\":2},\"yaxis\":{\"gridcolor\":\"white\",\"linecolor\":\"white\",\"ticks\":\"\",\"title\":{\"standoff\":15},\"zerolinecolor\":\"white\",\"automargin\":true,\"zerolinewidth\":2},\"scene\":{\"xaxis\":{\"backgroundcolor\":\"#E5ECF6\",\"gridcolor\":\"white\",\"linecolor\":\"white\",\"showbackground\":true,\"ticks\":\"\",\"zerolinecolor\":\"white\",\"gridwidth\":2},\"yaxis\":{\"backgroundcolor\":\"#E5ECF6\",\"gridcolor\":\"white\",\"linecolor\":\"white\",\"showbackground\":true,\"ticks\":\"\",\"zerolinecolor\":\"white\",\"gridwidth\":2},\"zaxis\":{\"backgroundcolor\":\"#E5ECF6\",\"gridcolor\":\"white\",\"linecolor\":\"white\",\"showbackground\":true,\"ticks\":\"\",\"zerolinecolor\":\"white\",\"gridwidth\":2}},\"shapedefaults\":{\"line\":{\"color\":\"#2a3f5f\"}},\"annotationdefaults\":{\"arrowcolor\":\"#2a3f5f\",\"arrowhead\":0,\"arrowwidth\":1},\"geo\":{\"bgcolor\":\"white\",\"landcolor\":\"#E5ECF6\",\"subunitcolor\":\"white\",\"showland\":true,\"showlakes\":true,\"lakecolor\":\"white\"},\"title\":{\"x\":0.05},\"mapbox\":{\"style\":\"light\"}}},\"scene\":{\"domain\":{\"x\":[0.0,1.0],\"y\":[0.0,1.0]},\"xaxis\":{\"title\":{\"text\":\"X: Net present value \\u002f \\u20ac\"}},\"yaxis\":{\"title\":{\"text\":\"Y: Wood stock volume \\u002f m^3\"}},\"zaxis\":{\"title\":{\"text\":\"Z: Harvest value \\u002f \\u20ac\"}}},\"legend\":{\"tracegroupgap\":0},\"margin\":{\"t\":60},\"height\":1000,\"width\":1000},                        {\"responsive\": true}                    ).then(function(){\n",
       "                            \n",
       "var gd = document.getElementById('33736782-e6d9-4843-af06-1ec1d4d6459c');\n",
       "var x = new MutationObserver(function (mutations, observer) {{\n",
       "        var display = window.getComputedStyle(gd).display;\n",
       "        if (!display || display === 'none') {{\n",
       "            console.log([gd, 'removed!']);\n",
       "            Plotly.purge(gd);\n",
       "            observer.disconnect();\n",
       "        }}\n",
       "}});\n",
       "\n",
       "// Listen for the removal of the full notebook cells\n",
       "var notebookContainer = gd.closest('#notebook-container');\n",
       "if (notebookContainer) {{\n",
       "    x.observe(notebookContainer, {childList: true});\n",
       "}}\n",
       "\n",
       "// Listen for the clearing of the current output cell\n",
       "var outputEl = gd.closest('.output');\n",
       "if (outputEl) {{\n",
       "    x.observe(outputEl, {childList: true});\n",
       "}}\n",
       "\n",
       "                        })                };                });            </script>        </div>"
      ]
     },
     "metadata": {},
     "output_type": "display_data"
    }
   ],
   "source": [
    "rps = dict_of_rps_to_list_of_rps(reference_points)\n",
    "rp_arr = np.array([[col[\"f_1\"], col[\"f_2\"],col[\"f_3\"]] for col in rps])\n",
    "\n",
    "plot_solutions = [next_current_solution, gnimbus, gstom, gasf, gguess]\n",
    "keys = [\"f_1\", \"f_2\", \"f_3\"]\n",
    "namelist = [\"current solution\", \"group_nimbus\", \"gstom\", \"gasf\", \"gguess\"]\n",
    "\n",
    "#visu_3d(plot_solutions, rp_arr, keys, namelist, ideals, nadirs, saved_solutions, None)\n",
    "# See PF\n",
    "visu_3d(plot_solutions, rp_arr, keys, namelist, ideals, nadirs, saved_solutions, evaluated_points)"
   ]
  },
  {
   "cell_type": "markdown",
   "id": "2707661c-a987-467a-a885-649372f7b4f2",
   "metadata": {},
   "source": [
    "### 3. select the next current iteration point by voting procedure"
   ]
  },
  {
   "cell_type": "code",
   "execution_count": 43,
   "id": "3ed2de0f-41c1-45c9-ba0d-77ec808060ab",
   "metadata": {},
   "outputs": [
    {
     "name": "stdout",
     "output_type": "stream",
     "text": [
      "Plurality winner 1\n",
      "next current solution: {'f_1': 132036.37628334865, 'f_2': 3703.6032761236183, 'f_3': 3.63657694356011e-05}\n"
     ]
    }
   ],
   "source": [
    "votes_idx = {\n",
    "    \"DM1\": 1,\n",
    "    \"DM2\": 0,\n",
    "    \"DM3\": 1,\n",
    "    \"DM4\": 3,\n",
    "}\n",
    "## 0 gnimbus puprle\n",
    "# gstom = solutions[1].optimal_objectives 1 stom yellow\n",
    "#gasf = solutions[2].optimal_objectives 2 gasf blue\n",
    "#gguess = solutions[3].optimal_objectives 3 gguess red\n",
    "res = voting_procedure(forest_problem, solutions, votes_idx)\n",
    "next_current_solution = res.optimal_objectives\n",
    "print(\"next current solution:\", next_current_solution)"
   ]
  },
  {
   "cell_type": "markdown",
   "id": "19da112e-d3c7-4487-9f84-f7d8cb1c7975",
   "metadata": {},
   "source": [
    "### 2. Save found solutions"
   ]
  },
  {
   "cell_type": "code",
   "execution_count": 44,
   "id": "6c20352f-91f9-4d91-b09e-1a778c942390",
   "metadata": {},
   "outputs": [],
   "source": [
    "for i in range(len(plot_solutions)):\n",
    "    saved_solutions.append(plot_solutions[i])"
   ]
  },
  {
   "cell_type": "markdown",
   "id": "ee7c86f9-a9f4-4dde-a4b5-360860ff3917",
   "metadata": {},
   "source": [
    "### Go back to step 1 or move to decision phase"
   ]
  },
  {
   "cell_type": "code",
   "execution_count": 47,
   "id": "3ea2d383-1100-488c-94e9-000221b5b715",
   "metadata": {},
   "outputs": [
    {
     "name": "stdout",
     "output_type": "stream",
     "text": [
      "next current solution: {'f_1': 132036.37628334865, 'f_2': 3703.6032761236183, 'f_3': 3.63657694356011e-05}\n"
     ]
    }
   ],
   "source": [
    "print(\"next current solution:\", next_current_solution)"
   ]
  },
  {
   "cell_type": "markdown",
   "id": "19f5d5a8-9b60-4ee8-b85e-cf07b8e7dcb8",
   "metadata": {},
   "source": [
    "# \"Decision phase\""
   ]
  },
  {
   "cell_type": "code",
   "execution_count": 48,
   "id": "42526abf-9ee3-4226-a6dd-59157544cb08",
   "metadata": {},
   "outputs": [],
   "source": [
    "reference_points = {\n",
    "    \"DM1\": { # Bhupinder\n",
    "        \"f_1\": 133000, \n",
    "        \"f_2\": 3200,\n",
    "        \"f_3\": 50000,\n",
    "    },\n",
    "    \"DM2\": { # Curro\n",
    "        \"f_1\": 130000,\n",
    "        \"f_2\": 2000,\n",
    "        \"f_3\": 70000,\n",
    "    },\n",
    "    \"DM3\": { # Babooshka\n",
    "        \"f_1\": 100000,\n",
    "        \"f_2\": 3000,\n",
    "        \"f_3\": 70000,\n",
    "    },\n",
    "    \"DM4\": { # Rudolf\n",
    "        \"f_1\": 100000,\n",
    "        \"f_2\": 1500,\n",
    "        \"f_3\": 100000,\n",
    "    },\n",
    "}"
   ]
  },
  {
   "cell_type": "markdown",
   "id": "bcf45d21-4b8a-4b70-ac26-2bfa85ff57e6",
   "metadata": {},
   "source": [
    "### let us only propose one solution found by group nimbus which respects each DMs bounds."
   ]
  },
  {
   "cell_type": "code",
   "execution_count": 49,
   "id": "7d0ee714-7345-4f7b-ba9e-8fb5fe603568",
   "metadata": {},
   "outputs": [
    {
     "name": "stdout",
     "output_type": "stream",
     "text": [
      "RPS {'f_1': 133000, 'f_2': 3200, 'f_3': 50000}\n",
      "RPS {'f_1': 130000, 'f_2': 2000, 'f_3': 70000}\n",
      "RPS {'f_1': 100000, 'f_2': 3000, 'f_3': 70000}\n",
      "RPS {'f_1': 100000, 'f_2': 1500, 'f_3': 100000}\n",
      "Gurobi Optimizer version 11.0.3 build v11.0.3rc0 (linux64 - \"Arch Linux\")\n",
      "\n",
      "CPU model: AMD Ryzen 9 5900X 12-Core Processor, instruction set [SSE2|AVX|AVX2]\n",
      "Thread count: 12 physical cores, 24 logical processors, using up to 24 threads\n",
      "\n",
      "Optimize a model with 34 rows, 291 columns and 1771 nonzeros\n",
      "Model fingerprint: 0x45fe678e\n",
      "Variable types: 5 continuous, 286 integer (286 binary)\n",
      "Coefficient statistics:\n",
      "  Matrix range     [1e-06, 6e+04]\n",
      "  Objective range  [1e-11, 1e+00]\n",
      "  Bounds range     [1e+00, 1e+00]\n",
      "  RHS range        [4e-05, 1e+05]\n",
      "\n",
      "User MIP start did not produce a new incumbent solution\n",
      "User MIP start violates constraint x_con_1 by 1.000000000\n",
      "\n",
      "Presolve removed 12 rows and 119 columns\n",
      "Presolve time: 0.00s\n",
      "Presolved: 22 rows, 172 columns, 994 nonzeros\n",
      "Variable types: 5 continuous, 167 integer (167 binary)\n",
      "Found heuristic solution: objective 0.8936740\n",
      "\n",
      "Root relaxation: objective 6.925965e-01, 95 iterations, 0.00 seconds (0.00 work units)\n",
      "Another try with MIP start\n",
      "\n",
      "    Nodes    |    Current Node    |     Objective Bounds      |     Work\n",
      " Expl Unexpl |  Obj  Depth IntInf | Incumbent    BestBd   Gap | It/Node Time\n",
      "\n",
      "H    0     0                       0.7307819    0.69260  5.23%     -    0s\n",
      "     0     0    0.69260    0    2    0.73078    0.69260  5.23%     -    0s\n",
      "H    0     0                       0.7102726    0.69260  2.49%     -    0s\n",
      "H    0     0                       0.7037031    0.69260  1.58%     -    0s\n",
      "     0     0    0.69278    0    4    0.70370    0.69278  1.55%     -    0s\n",
      "     0     0    0.69354    0    2    0.70370    0.69354  1.44%     -    0s\n",
      "H    0     0                       0.6971607    0.69354  0.52%     -    0s\n",
      "H    0     0                       0.6968490    0.69399  0.41%     -    0s\n",
      "     0     0    0.69475    0    4    0.69685    0.69475  0.30%     -    0s\n",
      "     0     0    0.69475    0    2    0.69685    0.69475  0.30%     -    0s\n",
      "H    0     0                       0.6959715    0.69475  0.18%     -    0s\n",
      "     0     0    0.69527    0    5    0.69597    0.69527  0.10%     -    0s\n",
      "     0     0    0.69537    0    6    0.69597    0.69537  0.09%     -    0s\n",
      "     0     0    0.69564    0    6    0.69597    0.69564  0.05%     -    0s\n",
      "     0     0    0.69575    0    6    0.69597    0.69575  0.03%     -    0s\n",
      "     0     0    0.69576    0    6    0.69597    0.69576  0.03%     -    0s\n",
      "*    0     0               0       0.6958342    0.69583  0.00%     -    0s\n",
      "\n",
      "Cutting planes:\n",
      "  Gomory: 2\n",
      "\n",
      "Explored 1 nodes (203 simplex iterations) in 0.03 seconds (0.01 work units)\n",
      "Thread count was 24 (of 24 available processors)\n",
      "\n",
      "Solution count 9: 0.695834 0.695971 0.696849 ... 0.893674\n",
      "\n",
      "Optimal solution found (tolerance 1.00e-04)\n",
      "Best objective 6.958342396136e-01, best bound 6.958342396136e-01, gap 0.0000%\n",
      "Final solution candidate: {'f_1': 138088.7362402052, 'f_2': 3204.7627129066345, 'f_3': 22136.941587539346}\n"
     ]
    }
   ],
   "source": [
    "num_desired = 1 \n",
    "solutions = solve_sub_problems(\n",
    "    forest_problem, next_current_solution, reference_points, num_desired, True,\n",
    ")\n",
    "gnimbus_solution = solutions[0].optimal_objectives\n",
    "print(\"Final solution candidate:\", gnimbus_solution)"
   ]
  },
  {
   "cell_type": "code",
   "execution_count": 111,
   "id": "2b45857a-44eb-4f4f-9e53-89063158c80c",
   "metadata": {},
   "outputs": [
    {
     "data": {
      "text/plain": [
       "{'f_1': 149978.39547189817,\n",
       " 'f_2': 2282.5711853041485,\n",
       " 'f_3': 60147.58910573886}"
      ]
     },
     "execution_count": 111,
     "metadata": {},
     "output_type": "execute_result"
    }
   ],
   "source": [
    "next_current_solution"
   ]
  },
  {
   "cell_type": "markdown",
   "id": "03406033-6fa7-4710-8aca-a3761d801097",
   "metadata": {},
   "source": [
    "# Ask if the DMs agree upon the final solution. Otherwise go to group discussion."
   ]
  },
  {
   "cell_type": "code",
   "execution_count": 50,
   "id": "84d54148-39c1-4fc3-bdc9-bb5b55cedbc1",
   "metadata": {},
   "outputs": [
    {
     "data": {
      "application/vnd.plotly.v1+json": {
       "config": {
        "plotlyServerURL": "https://plot.ly"
       },
       "data": [
        {
         "hovertemplate": "<extra></extra>",
         "legendgroup": "",
         "marker": {
          "color": "#636efa",
          "symbol": "circle"
         },
         "mode": "markers",
         "name": "",
         "scene": "scene",
         "showlegend": false,
         "type": "scatter3d"
        },
        {
         "marker": {
          "symbol": "circle"
         },
         "mode": "markers",
         "name": "Saved solutions",
         "opacity": 0.8,
         "type": "scatter3d",
         "x": [
          148520.88358665464,
          148520.88358665467,
          149991.67030213407,
          146620.26331247814,
          132035.99024589354,
          149991.67030213407,
          149991.67030213462,
          149991.67030213407,
          146620.26331704238,
          132036,
          132036,
          145589.86969776027,
          132036.37628334865,
          145589.86968980072,
          116764.61327351695
         ],
         "y": [
          2002.2071930260186,
          2002.2071930260186,
          840.8590751749173,
          2308.032817946801,
          3179.2659825315427,
          840.8590751749173,
          840.8590751749173,
          840.8590751749173,
          2308.032817946801,
          2110.1977090501528,
          2110.1977090501528,
          2463.0244644684767,
          3703.6032761236183,
          2463.0244644684767,
          2094.920290330019
         ],
         "z": [
          72565.58392702561,
          72565.58392702564,
          109044.46369677768,
          61218.42216202674,
          11186.634906499894,
          109044.46369677768,
          109044.4636967782,
          109044.46369677768,
          61218.422166590455,
          49411.053882778804,
          49411.053882778804,
          54893.136645098806,
          3.63657694356011e-05,
          54893.136637141,
          47656.868960012915
         ]
        },
        {
         "marker": {
          "symbol": "circle"
         },
         "mode": "markers",
         "name": "Front",
         "opacity": 0.8,
         "type": "scatter3d",
         "x": [
          144824.7178224353,
          153641.07796333326,
          153887.55223588506,
          151215.4264046575,
          146888.2134485984,
          135639.48657258434,
          149578.2220833502,
          137819.07288697522,
          151843.61032753042,
          140920.22950832816,
          147478.61288157204,
          150214.3682514308,
          144673.22771517126,
          143224.7168917169,
          140206.76478313483,
          149913.6608523539,
          153047.55725101504,
          153254.11728074946,
          133877.4311733874,
          149052.79237924333,
          137790.23646607262,
          150002.2379490932,
          144643.0981944813,
          146310.82972412623,
          144530.83508835165,
          141802.42230913707,
          153498.1268173773,
          150788.65380998203,
          148621.35094735658,
          152308.6913910053,
          152695.82322547803,
          148427.82810742152,
          148518.53978972146,
          142461.33049716958,
          149879.9396998777,
          153329.22511935158,
          138282.44510578085,
          148562.35796609914,
          150990.05250183915,
          152664.75928911482,
          139415.7149660094,
          132236.9127410863,
          142161.94257575882,
          153808.91065268285,
          149521.7947772721,
          149852.2064686216,
          138950.96132621984,
          135096.2465028968,
          143945.9560546102,
          148297.87898934569,
          141787.60100667254,
          138760.45952595532,
          139239.1177461435,
          137069.27644036486,
          152213.13330123236,
          148621.35094186076,
          149213.1995404802,
          153601.2073025865,
          153539.60119341678,
          149717.58646075238,
          149259.00301259954,
          136705.268577858,
          149717.58646075238,
          146888.21344868958,
          153539.6011934168,
          153019.2449663437,
          145486.51005855598,
          143814.97867455552,
          146946.36574073273,
          141223.57712379133,
          134926.02183755534,
          153553.20722362213,
          145343.92648495358,
          149192.97997478693,
          143320.24245130416,
          150095.61732599992,
          153629.32972027524,
          146987.8401202132,
          143454.9058244253,
          146987.84012023255,
          147701.3048452915,
          143595.46440814302,
          140927.72480336545,
          143442.23483246172,
          151666.74549896797,
          140978.38180032538,
          150127.31028214088,
          147968.38879705715,
          153879.08464256057,
          153399.54867080343,
          150098.86569174431,
          137590.29532633076,
          147701.3048452915,
          147953.99546384063,
          143121.63640313552,
          149383.78534150272,
          138675.5436007012,
          136411.10358785465,
          143945.6769119466,
          149663.97793299868
         ],
         "y": [
          2584.471536289063,
          798.2998337081754,
          1111.0490195987384,
          647.1373085150356,
          2679.019105462974,
          3650.2910792579924,
          1596.098212658164,
          3228.672182542013,
          1990.0966185198918,
          3248.551561954024,
          2160.446351960003,
          1107.5008504924467,
          2587.1950334837375,
          3006.3622186289235,
          2940.0074644167676,
          2354.3585040500693,
          1657.5897552853585,
          1583.8449794545013,
          3509.0698122694653,
          1863.2020427798816,
          3438.2160640866587,
          1307.4815439240451,
          2768.2455487170987,
          2380.5532064756335,
          2804.224009558299,
          2744.950620277314,
          1333.3888996664227,
          2149.027104374415,
          2506.902842279224,
          895.5496410766991,
          1762.1147357782556,
          2531.159339423437,
          2514.8237225285407,
          3094.5388301859803,
          869.5788141644648,
          1470.2560901933948,
          3362.862906034057,
          2008.0713257134512,
          2178.7921294481725,
          1813.0438634779325,
          3083.0798360068625,
          3669.0116504626358,
          3122.6663435053706,
          1156.3611694255524,
          1442.7648420866003,
          2282.7916051970633,
          3103.864150277013,
          3354.5251452769453,
          2896.773466196019,
          1994.6854470583626,
          3146.8292536599324,
          3310.435947835707,
          3096.906843588558,
          3520.6873220795023,
          1916.76644889313,
          2506.902842279224,
          1755.5828499031504,
          1317.9043594034265,
          1339.2530323538554,
          1457.3968700276728,
          1727.060393680733,
          3531.171448042282,
          1457.3968700276728,
          2679.0191053680132,
          1339.2530323538554,
          1637.204993760337,
          2505.6264991715348,
          2656.394089309895,
          2273.3739619471426,
          3206.0390560437245,
          3341.746981720736,
          781.4212172388579,
          2712.987096362117,
          2409.7122676028507,
          2991.1676885245824,
          1008.0248228155516,
          1234.2256358903458,
          2279.238094634575,
          2661.447934077785,
          2279.238094634575,
          2587.7821921718314,
          2679.4836678065703,
          2857.536206423925,
          2695.788099178869,
          2030.012643326802,
          2842.9064185331536,
          1200.9044195191345,
          2071.4018758567076,
          1032.839980676392,
          699.339822209661,
          994.1428252007732,
          3441.5960915920814,
          2587.7821921718314,
          2559.8994741523034,
          3021.8467588919198,
          2430.2957169738133,
          3269.1837345538615,
          3553.1900333743774,
          2923.8909606360803,
          2379.4257157303355
         ],
         "z": [
          50063.64237945177,
          108165.36729448449,
          101202.14050335031,
          111517.6494949699,
          44071.62076105985,
          91.98206712297012,
          86744.60244056126,
          20963.10731106013,
          70965.11143523012,
          18318.59336548849,
          66833.55385237877,
          102688.23647098865,
          49842.35741795158,
          28220.888649104687,
          33091.323875214955,
          57121.468440343044,
          83060.3140064279,
          85743.16197166817,
          7851.970389457045,
          77621.55871814574,
          8661.730858218782,
          96277.0677484142,
          37811.83103787842,
          58040.68904389381,
          36330.85829431715,
          40718.97514865719,
          93474.93396023443,
          65480.37075681094,
          51109.375124734186,
          106312.05358792128,
          79360.54672472301,
          50155.62440589039,
          50705.072972411246,
          24611.716395776562,
          108087.16071776846,
          89327.10143061748,
          11582.258621744351,
          72417.15767159392,
          64301.76142309517,
          77614.25524623357,
          27154.835843496592,
          1211.255836313205,
          23430.56800667567,
          99564.12879152953,
          91694.51011485716,
          59966.03424540314,
          26136.718181474516,
          13815.341169434003,
          32379.64365766835,
          72871.51176897866,
          22216.8897914629,
          13692.999120851387,
          26569.335510889243,
          5514.178460078882,
          73837.63944527149,
          51109.37511923902,
          81401.16492703097,
          94044.70259019775,
          93326.50770240993,
          91389.57352749465,
          82418.27805958177,
          4706.666146797989,
          91389.57352749465,
          44071.62076406332,
          93326.50770240994,
          83779.62436113847,
          53312.165388899164,
          46992.60592151143,
          62754.681522226805,
          19934.151317826694,
          14864.712566967866,
          109195.63852845649,
          40092.762287307996,
          54985.11866357962,
          28772.058036434908,
          105156.18015901341,
          97089.23385247267,
          62606.25526678063,
          46523.25225117999,
          62606.2552668001,
          47833.52475705417,
          45852.70178212472,
          36238.876267878535,
          45249.00301274284,
          69897.287424592,
          37001.65412365197,
          99840.79420179356,
          70265.33862672323,
          103498.41338218968,
          110718.47272855895,
          105384.30917966456,
          8626.431142316305,
          47833.52475705417,
          48686.30485361893,
          27651.12001676312,
          54108.50125645642,
          15707.438626717332,
          4002.3123136369495,
          31368.441041768216,
          56093.051790904916
         ]
        },
        {
         "marker": {
          "size": 5,
          "symbol": "x"
         },
         "mode": "markers",
         "name": "DM1_RP",
         "showlegend": true,
         "type": "scatter3d",
         "x": [
          133000
         ],
         "y": [
          3200
         ],
         "z": [
          50000
         ]
        },
        {
         "marker": {
          "size": 5,
          "symbol": "x"
         },
         "mode": "markers",
         "name": "DM2_RP",
         "showlegend": true,
         "type": "scatter3d",
         "x": [
          130000
         ],
         "y": [
          2000
         ],
         "z": [
          70000
         ]
        },
        {
         "marker": {
          "size": 5,
          "symbol": "x"
         },
         "mode": "markers",
         "name": "DM3_RP",
         "showlegend": true,
         "type": "scatter3d",
         "x": [
          100000
         ],
         "y": [
          3000
         ],
         "z": [
          70000
         ]
        },
        {
         "marker": {
          "size": 5,
          "symbol": "x"
         },
         "mode": "markers",
         "name": "DM4_RP",
         "showlegend": true,
         "type": "scatter3d",
         "x": [
          100000
         ],
         "y": [
          1500
         ],
         "z": [
          100000
         ]
        },
        {
         "marker": {
          "size": 10,
          "symbol": "square"
         },
         "mode": "markers",
         "name": "ideal",
         "showlegend": true,
         "type": "scatter3d",
         "x": [
          153888
         ],
         "y": [
          3704
         ],
         "z": [
          111894
         ]
        },
        {
         "marker": {
          "size": 10,
          "symbol": "square"
         },
         "mode": "markers",
         "name": "nadir",
         "showlegend": true,
         "type": "scatter3d",
         "x": [
          132036
         ],
         "y": [
          620
         ],
         "z": [
          0
         ]
        },
        {
         "marker": {
          "size": 10,
          "symbol": "circle"
         },
         "mode": "markers",
         "name": "current solution",
         "showlegend": true,
         "type": "scatter3d",
         "x": [
          132036.37628334865
         ],
         "y": [
          3703.6032761236183
         ],
         "z": [
          3.63657694356011e-05
         ]
        },
        {
         "marker": {
          "size": 10,
          "symbol": "circle"
         },
         "mode": "markers",
         "name": "group_nimbus",
         "showlegend": true,
         "type": "scatter3d",
         "x": [
          145589.86969776027
         ],
         "y": [
          2463.0244644684767
         ],
         "z": [
          54893.136645098806
         ]
        }
       ],
       "layout": {
        "height": 1000,
        "legend": {
         "tracegroupgap": 0
        },
        "margin": {
         "t": 60
        },
        "scene": {
         "domain": {
          "x": [
           0,
           1
          ],
          "y": [
           0,
           1
          ]
         },
         "xaxis": {
          "title": {
           "text": "X: Net present value / €"
          }
         },
         "yaxis": {
          "title": {
           "text": "Y: Wood stock volume / m^3"
          }
         },
         "zaxis": {
          "title": {
           "text": "Z: Harvest value / €"
          }
         }
        },
        "template": {
         "data": {
          "bar": [
           {
            "error_x": {
             "color": "#2a3f5f"
            },
            "error_y": {
             "color": "#2a3f5f"
            },
            "marker": {
             "line": {
              "color": "#E5ECF6",
              "width": 0.5
             },
             "pattern": {
              "fillmode": "overlay",
              "size": 10,
              "solidity": 0.2
             }
            },
            "type": "bar"
           }
          ],
          "barpolar": [
           {
            "marker": {
             "line": {
              "color": "#E5ECF6",
              "width": 0.5
             },
             "pattern": {
              "fillmode": "overlay",
              "size": 10,
              "solidity": 0.2
             }
            },
            "type": "barpolar"
           }
          ],
          "carpet": [
           {
            "aaxis": {
             "endlinecolor": "#2a3f5f",
             "gridcolor": "white",
             "linecolor": "white",
             "minorgridcolor": "white",
             "startlinecolor": "#2a3f5f"
            },
            "baxis": {
             "endlinecolor": "#2a3f5f",
             "gridcolor": "white",
             "linecolor": "white",
             "minorgridcolor": "white",
             "startlinecolor": "#2a3f5f"
            },
            "type": "carpet"
           }
          ],
          "choropleth": [
           {
            "colorbar": {
             "outlinewidth": 0,
             "ticks": ""
            },
            "type": "choropleth"
           }
          ],
          "contour": [
           {
            "colorbar": {
             "outlinewidth": 0,
             "ticks": ""
            },
            "colorscale": [
             [
              0,
              "#0d0887"
             ],
             [
              0.1111111111111111,
              "#46039f"
             ],
             [
              0.2222222222222222,
              "#7201a8"
             ],
             [
              0.3333333333333333,
              "#9c179e"
             ],
             [
              0.4444444444444444,
              "#bd3786"
             ],
             [
              0.5555555555555556,
              "#d8576b"
             ],
             [
              0.6666666666666666,
              "#ed7953"
             ],
             [
              0.7777777777777778,
              "#fb9f3a"
             ],
             [
              0.8888888888888888,
              "#fdca26"
             ],
             [
              1,
              "#f0f921"
             ]
            ],
            "type": "contour"
           }
          ],
          "contourcarpet": [
           {
            "colorbar": {
             "outlinewidth": 0,
             "ticks": ""
            },
            "type": "contourcarpet"
           }
          ],
          "heatmap": [
           {
            "colorbar": {
             "outlinewidth": 0,
             "ticks": ""
            },
            "colorscale": [
             [
              0,
              "#0d0887"
             ],
             [
              0.1111111111111111,
              "#46039f"
             ],
             [
              0.2222222222222222,
              "#7201a8"
             ],
             [
              0.3333333333333333,
              "#9c179e"
             ],
             [
              0.4444444444444444,
              "#bd3786"
             ],
             [
              0.5555555555555556,
              "#d8576b"
             ],
             [
              0.6666666666666666,
              "#ed7953"
             ],
             [
              0.7777777777777778,
              "#fb9f3a"
             ],
             [
              0.8888888888888888,
              "#fdca26"
             ],
             [
              1,
              "#f0f921"
             ]
            ],
            "type": "heatmap"
           }
          ],
          "heatmapgl": [
           {
            "colorbar": {
             "outlinewidth": 0,
             "ticks": ""
            },
            "colorscale": [
             [
              0,
              "#0d0887"
             ],
             [
              0.1111111111111111,
              "#46039f"
             ],
             [
              0.2222222222222222,
              "#7201a8"
             ],
             [
              0.3333333333333333,
              "#9c179e"
             ],
             [
              0.4444444444444444,
              "#bd3786"
             ],
             [
              0.5555555555555556,
              "#d8576b"
             ],
             [
              0.6666666666666666,
              "#ed7953"
             ],
             [
              0.7777777777777778,
              "#fb9f3a"
             ],
             [
              0.8888888888888888,
              "#fdca26"
             ],
             [
              1,
              "#f0f921"
             ]
            ],
            "type": "heatmapgl"
           }
          ],
          "histogram": [
           {
            "marker": {
             "pattern": {
              "fillmode": "overlay",
              "size": 10,
              "solidity": 0.2
             }
            },
            "type": "histogram"
           }
          ],
          "histogram2d": [
           {
            "colorbar": {
             "outlinewidth": 0,
             "ticks": ""
            },
            "colorscale": [
             [
              0,
              "#0d0887"
             ],
             [
              0.1111111111111111,
              "#46039f"
             ],
             [
              0.2222222222222222,
              "#7201a8"
             ],
             [
              0.3333333333333333,
              "#9c179e"
             ],
             [
              0.4444444444444444,
              "#bd3786"
             ],
             [
              0.5555555555555556,
              "#d8576b"
             ],
             [
              0.6666666666666666,
              "#ed7953"
             ],
             [
              0.7777777777777778,
              "#fb9f3a"
             ],
             [
              0.8888888888888888,
              "#fdca26"
             ],
             [
              1,
              "#f0f921"
             ]
            ],
            "type": "histogram2d"
           }
          ],
          "histogram2dcontour": [
           {
            "colorbar": {
             "outlinewidth": 0,
             "ticks": ""
            },
            "colorscale": [
             [
              0,
              "#0d0887"
             ],
             [
              0.1111111111111111,
              "#46039f"
             ],
             [
              0.2222222222222222,
              "#7201a8"
             ],
             [
              0.3333333333333333,
              "#9c179e"
             ],
             [
              0.4444444444444444,
              "#bd3786"
             ],
             [
              0.5555555555555556,
              "#d8576b"
             ],
             [
              0.6666666666666666,
              "#ed7953"
             ],
             [
              0.7777777777777778,
              "#fb9f3a"
             ],
             [
              0.8888888888888888,
              "#fdca26"
             ],
             [
              1,
              "#f0f921"
             ]
            ],
            "type": "histogram2dcontour"
           }
          ],
          "mesh3d": [
           {
            "colorbar": {
             "outlinewidth": 0,
             "ticks": ""
            },
            "type": "mesh3d"
           }
          ],
          "parcoords": [
           {
            "line": {
             "colorbar": {
              "outlinewidth": 0,
              "ticks": ""
             }
            },
            "type": "parcoords"
           }
          ],
          "pie": [
           {
            "automargin": true,
            "type": "pie"
           }
          ],
          "scatter": [
           {
            "fillpattern": {
             "fillmode": "overlay",
             "size": 10,
             "solidity": 0.2
            },
            "type": "scatter"
           }
          ],
          "scatter3d": [
           {
            "line": {
             "colorbar": {
              "outlinewidth": 0,
              "ticks": ""
             }
            },
            "marker": {
             "colorbar": {
              "outlinewidth": 0,
              "ticks": ""
             }
            },
            "type": "scatter3d"
           }
          ],
          "scattercarpet": [
           {
            "marker": {
             "colorbar": {
              "outlinewidth": 0,
              "ticks": ""
             }
            },
            "type": "scattercarpet"
           }
          ],
          "scattergeo": [
           {
            "marker": {
             "colorbar": {
              "outlinewidth": 0,
              "ticks": ""
             }
            },
            "type": "scattergeo"
           }
          ],
          "scattergl": [
           {
            "marker": {
             "colorbar": {
              "outlinewidth": 0,
              "ticks": ""
             }
            },
            "type": "scattergl"
           }
          ],
          "scattermapbox": [
           {
            "marker": {
             "colorbar": {
              "outlinewidth": 0,
              "ticks": ""
             }
            },
            "type": "scattermapbox"
           }
          ],
          "scatterpolar": [
           {
            "marker": {
             "colorbar": {
              "outlinewidth": 0,
              "ticks": ""
             }
            },
            "type": "scatterpolar"
           }
          ],
          "scatterpolargl": [
           {
            "marker": {
             "colorbar": {
              "outlinewidth": 0,
              "ticks": ""
             }
            },
            "type": "scatterpolargl"
           }
          ],
          "scatterternary": [
           {
            "marker": {
             "colorbar": {
              "outlinewidth": 0,
              "ticks": ""
             }
            },
            "type": "scatterternary"
           }
          ],
          "surface": [
           {
            "colorbar": {
             "outlinewidth": 0,
             "ticks": ""
            },
            "colorscale": [
             [
              0,
              "#0d0887"
             ],
             [
              0.1111111111111111,
              "#46039f"
             ],
             [
              0.2222222222222222,
              "#7201a8"
             ],
             [
              0.3333333333333333,
              "#9c179e"
             ],
             [
              0.4444444444444444,
              "#bd3786"
             ],
             [
              0.5555555555555556,
              "#d8576b"
             ],
             [
              0.6666666666666666,
              "#ed7953"
             ],
             [
              0.7777777777777778,
              "#fb9f3a"
             ],
             [
              0.8888888888888888,
              "#fdca26"
             ],
             [
              1,
              "#f0f921"
             ]
            ],
            "type": "surface"
           }
          ],
          "table": [
           {
            "cells": {
             "fill": {
              "color": "#EBF0F8"
             },
             "line": {
              "color": "white"
             }
            },
            "header": {
             "fill": {
              "color": "#C8D4E3"
             },
             "line": {
              "color": "white"
             }
            },
            "type": "table"
           }
          ]
         },
         "layout": {
          "annotationdefaults": {
           "arrowcolor": "#2a3f5f",
           "arrowhead": 0,
           "arrowwidth": 1
          },
          "autotypenumbers": "strict",
          "coloraxis": {
           "colorbar": {
            "outlinewidth": 0,
            "ticks": ""
           }
          },
          "colorscale": {
           "diverging": [
            [
             0,
             "#8e0152"
            ],
            [
             0.1,
             "#c51b7d"
            ],
            [
             0.2,
             "#de77ae"
            ],
            [
             0.3,
             "#f1b6da"
            ],
            [
             0.4,
             "#fde0ef"
            ],
            [
             0.5,
             "#f7f7f7"
            ],
            [
             0.6,
             "#e6f5d0"
            ],
            [
             0.7,
             "#b8e186"
            ],
            [
             0.8,
             "#7fbc41"
            ],
            [
             0.9,
             "#4d9221"
            ],
            [
             1,
             "#276419"
            ]
           ],
           "sequential": [
            [
             0,
             "#0d0887"
            ],
            [
             0.1111111111111111,
             "#46039f"
            ],
            [
             0.2222222222222222,
             "#7201a8"
            ],
            [
             0.3333333333333333,
             "#9c179e"
            ],
            [
             0.4444444444444444,
             "#bd3786"
            ],
            [
             0.5555555555555556,
             "#d8576b"
            ],
            [
             0.6666666666666666,
             "#ed7953"
            ],
            [
             0.7777777777777778,
             "#fb9f3a"
            ],
            [
             0.8888888888888888,
             "#fdca26"
            ],
            [
             1,
             "#f0f921"
            ]
           ],
           "sequentialminus": [
            [
             0,
             "#0d0887"
            ],
            [
             0.1111111111111111,
             "#46039f"
            ],
            [
             0.2222222222222222,
             "#7201a8"
            ],
            [
             0.3333333333333333,
             "#9c179e"
            ],
            [
             0.4444444444444444,
             "#bd3786"
            ],
            [
             0.5555555555555556,
             "#d8576b"
            ],
            [
             0.6666666666666666,
             "#ed7953"
            ],
            [
             0.7777777777777778,
             "#fb9f3a"
            ],
            [
             0.8888888888888888,
             "#fdca26"
            ],
            [
             1,
             "#f0f921"
            ]
           ]
          },
          "colorway": [
           "#636efa",
           "#EF553B",
           "#00cc96",
           "#ab63fa",
           "#FFA15A",
           "#19d3f3",
           "#FF6692",
           "#B6E880",
           "#FF97FF",
           "#FECB52"
          ],
          "font": {
           "color": "#2a3f5f"
          },
          "geo": {
           "bgcolor": "white",
           "lakecolor": "white",
           "landcolor": "#E5ECF6",
           "showlakes": true,
           "showland": true,
           "subunitcolor": "white"
          },
          "hoverlabel": {
           "align": "left"
          },
          "hovermode": "closest",
          "mapbox": {
           "style": "light"
          },
          "paper_bgcolor": "white",
          "plot_bgcolor": "#E5ECF6",
          "polar": {
           "angularaxis": {
            "gridcolor": "white",
            "linecolor": "white",
            "ticks": ""
           },
           "bgcolor": "#E5ECF6",
           "radialaxis": {
            "gridcolor": "white",
            "linecolor": "white",
            "ticks": ""
           }
          },
          "scene": {
           "xaxis": {
            "backgroundcolor": "#E5ECF6",
            "gridcolor": "white",
            "gridwidth": 2,
            "linecolor": "white",
            "showbackground": true,
            "ticks": "",
            "zerolinecolor": "white"
           },
           "yaxis": {
            "backgroundcolor": "#E5ECF6",
            "gridcolor": "white",
            "gridwidth": 2,
            "linecolor": "white",
            "showbackground": true,
            "ticks": "",
            "zerolinecolor": "white"
           },
           "zaxis": {
            "backgroundcolor": "#E5ECF6",
            "gridcolor": "white",
            "gridwidth": 2,
            "linecolor": "white",
            "showbackground": true,
            "ticks": "",
            "zerolinecolor": "white"
           }
          },
          "shapedefaults": {
           "line": {
            "color": "#2a3f5f"
           }
          },
          "ternary": {
           "aaxis": {
            "gridcolor": "white",
            "linecolor": "white",
            "ticks": ""
           },
           "baxis": {
            "gridcolor": "white",
            "linecolor": "white",
            "ticks": ""
           },
           "bgcolor": "#E5ECF6",
           "caxis": {
            "gridcolor": "white",
            "linecolor": "white",
            "ticks": ""
           }
          },
          "title": {
           "x": 0.05
          },
          "xaxis": {
           "automargin": true,
           "gridcolor": "white",
           "linecolor": "white",
           "ticks": "",
           "title": {
            "standoff": 15
           },
           "zerolinecolor": "white",
           "zerolinewidth": 2
          },
          "yaxis": {
           "automargin": true,
           "gridcolor": "white",
           "linecolor": "white",
           "ticks": "",
           "title": {
            "standoff": 15
           },
           "zerolinecolor": "white",
           "zerolinewidth": 2
          }
         }
        },
        "width": 1000
       }
      },
      "image/png": "[encoded data removed]",
      "text/html": [
       "<div>                            <div id=\"94b01818-b2ba-44e4-81cd-e68e5cade8db\" class=\"plotly-graph-div\" style=\"height:1000px; width:1000px;\"></div>            <script type=\"text/javascript\">                require([\"plotly\"], function(Plotly) {                    window.PLOTLYENV=window.PLOTLYENV || {};                                    if (document.getElementById(\"94b01818-b2ba-44e4-81cd-e68e5cade8db\")) {                    Plotly.newPlot(                        \"94b01818-b2ba-44e4-81cd-e68e5cade8db\",                        [{\"hovertemplate\":\"\\u003cextra\\u003e\\u003c\\u002fextra\\u003e\",\"legendgroup\":\"\",\"marker\":{\"color\":\"#636efa\",\"symbol\":\"circle\"},\"mode\":\"markers\",\"name\":\"\",\"scene\":\"scene\",\"showlegend\":false,\"type\":\"scatter3d\"},{\"marker\":{\"symbol\":\"circle\"},\"mode\":\"markers\",\"name\":\"Saved solutions\",\"opacity\":0.8,\"x\":[148520.88358665464,148520.88358665467,149991.67030213407,146620.26331247814,132035.99024589354,149991.67030213407,149991.67030213462,149991.67030213407,146620.26331704238,132036.0,132036.0,145589.86969776027,132036.37628334865,145589.86968980072,116764.61327351695],\"y\":[2002.2071930260186,2002.2071930260186,840.8590751749173,2308.032817946801,3179.2659825315427,840.8590751749173,840.8590751749173,840.8590751749173,2308.032817946801,2110.1977090501528,2110.1977090501528,2463.0244644684767,3703.6032761236183,2463.0244644684767,2094.920290330019],\"z\":[72565.58392702561,72565.58392702564,109044.46369677768,61218.42216202674,11186.634906499894,109044.46369677768,109044.4636967782,109044.46369677768,61218.422166590455,49411.053882778804,49411.053882778804,54893.136645098806,3.63657694356011e-05,54893.136637141,47656.868960012915],\"type\":\"scatter3d\"},{\"marker\":{\"symbol\":\"circle\"},\"mode\":\"markers\",\"name\":\"Front\",\"opacity\":0.8,\"x\":[144824.7178224353,153641.07796333326,153887.55223588506,151215.4264046575,146888.2134485984,135639.48657258434,149578.2220833502,137819.07288697522,151843.61032753042,140920.22950832816,147478.61288157204,150214.3682514308,144673.22771517126,143224.7168917169,140206.76478313483,149913.6608523539,153047.55725101504,153254.11728074946,133877.4311733874,149052.79237924333,137790.23646607262,150002.2379490932,144643.0981944813,146310.82972412623,144530.83508835165,141802.42230913707,153498.1268173773,150788.65380998203,148621.35094735658,152308.6913910053,152695.82322547803,148427.82810742152,148518.53978972146,142461.33049716958,149879.9396998777,153329.22511935158,138282.44510578085,148562.35796609914,150990.05250183915,152664.75928911482,139415.7149660094,132236.9127410863,142161.94257575882,153808.91065268285,149521.7947772721,149852.2064686216,138950.96132621984,135096.2465028968,143945.9560546102,148297.87898934569,141787.60100667254,138760.45952595532,139239.1177461435,137069.27644036486,152213.13330123236,148621.35094186076,149213.1995404802,153601.2073025865,153539.60119341678,149717.58646075238,149259.00301259954,136705.268577858,149717.58646075238,146888.21344868958,153539.6011934168,153019.2449663437,145486.51005855598,143814.97867455552,146946.36574073273,141223.57712379133,134926.02183755534,153553.20722362213,145343.92648495358,149192.97997478693,143320.24245130416,150095.61732599992,153629.32972027524,146987.8401202132,143454.9058244253,146987.84012023255,147701.3048452915,143595.46440814302,140927.72480336545,143442.23483246172,151666.74549896797,140978.38180032538,150127.31028214088,147968.38879705715,153879.08464256057,153399.54867080343,150098.86569174431,137590.29532633076,147701.3048452915,147953.99546384063,143121.63640313552,149383.78534150272,138675.5436007012,136411.10358785465,143945.6769119466,149663.97793299868],\"y\":[2584.471536289063,798.2998337081754,1111.0490195987384,647.1373085150356,2679.019105462974,3650.2910792579924,1596.098212658164,3228.672182542013,1990.0966185198918,3248.551561954024,2160.446351960003,1107.5008504924467,2587.1950334837375,3006.3622186289235,2940.0074644167676,2354.3585040500693,1657.5897552853585,1583.8449794545013,3509.0698122694653,1863.2020427798816,3438.2160640866587,1307.4815439240451,2768.2455487170987,2380.5532064756335,2804.224009558299,2744.950620277314,1333.3888996664227,2149.027104374415,2506.902842279224,895.5496410766991,1762.1147357782556,2531.159339423437,2514.8237225285407,3094.5388301859803,869.5788141644648,1470.2560901933948,3362.862906034057,2008.0713257134512,2178.7921294481725,1813.0438634779325,3083.0798360068625,3669.0116504626358,3122.6663435053706,1156.3611694255524,1442.7648420866003,2282.7916051970633,3103.864150277013,3354.5251452769453,2896.773466196019,1994.6854470583626,3146.8292536599324,3310.435947835707,3096.906843588558,3520.6873220795023,1916.76644889313,2506.902842279224,1755.5828499031504,1317.9043594034265,1339.2530323538554,1457.3968700276728,1727.060393680733,3531.171448042282,1457.3968700276728,2679.0191053680132,1339.2530323538554,1637.204993760337,2505.6264991715348,2656.394089309895,2273.3739619471426,3206.0390560437245,3341.746981720736,781.4212172388579,2712.987096362117,2409.7122676028507,2991.1676885245824,1008.0248228155516,1234.2256358903458,2279.238094634575,2661.447934077785,2279.238094634575,2587.7821921718314,2679.4836678065703,2857.536206423925,2695.788099178869,2030.012643326802,2842.9064185331536,1200.9044195191345,2071.4018758567076,1032.839980676392,699.339822209661,994.1428252007732,3441.5960915920814,2587.7821921718314,2559.8994741523034,3021.8467588919198,2430.2957169738133,3269.1837345538615,3553.1900333743774,2923.8909606360803,2379.4257157303355],\"z\":[50063.64237945177,108165.36729448449,101202.14050335031,111517.6494949699,44071.62076105985,91.98206712297012,86744.60244056126,20963.10731106013,70965.11143523012,18318.59336548849,66833.55385237877,102688.23647098865,49842.35741795158,28220.888649104687,33091.323875214955,57121.468440343044,83060.3140064279,85743.16197166817,7851.970389457045,77621.55871814574,8661.730858218782,96277.0677484142,37811.83103787842,58040.68904389381,36330.85829431715,40718.97514865719,93474.93396023443,65480.37075681094,51109.375124734186,106312.05358792128,79360.54672472301,50155.62440589039,50705.072972411246,24611.716395776562,108087.16071776846,89327.10143061748,11582.258621744351,72417.15767159392,64301.76142309517,77614.25524623357,27154.835843496592,1211.255836313205,23430.56800667567,99564.12879152953,91694.51011485716,59966.03424540314,26136.718181474516,13815.341169434003,32379.64365766835,72871.51176897866,22216.8897914629,13692.999120851387,26569.335510889243,5514.178460078882,73837.63944527149,51109.37511923902,81401.16492703097,94044.70259019775,93326.50770240993,91389.57352749465,82418.27805958177,4706.666146797989,91389.57352749465,44071.62076406332,93326.50770240994,83779.62436113847,53312.165388899164,46992.60592151143,62754.681522226805,19934.151317826694,14864.712566967866,109195.63852845649,40092.762287307996,54985.11866357962,28772.058036434908,105156.18015901341,97089.23385247267,62606.25526678063,46523.25225117999,62606.2552668001,47833.52475705417,45852.70178212472,36238.876267878535,45249.00301274284,69897.287424592,37001.65412365197,99840.79420179356,70265.33862672323,103498.41338218968,110718.47272855895,105384.30917966456,8626.431142316305,47833.52475705417,48686.30485361893,27651.12001676312,54108.50125645642,15707.438626717332,4002.3123136369495,31368.441041768216,56093.051790904916],\"type\":\"scatter3d\"},{\"marker\":{\"size\":5,\"symbol\":\"x\"},\"mode\":\"markers\",\"name\":\"DM1_RP\",\"showlegend\":true,\"x\":[133000],\"y\":[3200],\"z\":[50000],\"type\":\"scatter3d\"},{\"marker\":{\"size\":5,\"symbol\":\"x\"},\"mode\":\"markers\",\"name\":\"DM2_RP\",\"showlegend\":true,\"x\":[130000],\"y\":[2000],\"z\":[70000],\"type\":\"scatter3d\"},{\"marker\":{\"size\":5,\"symbol\":\"x\"},\"mode\":\"markers\",\"name\":\"DM3_RP\",\"showlegend\":true,\"x\":[100000],\"y\":[3000],\"z\":[70000],\"type\":\"scatter3d\"},{\"marker\":{\"size\":5,\"symbol\":\"x\"},\"mode\":\"markers\",\"name\":\"DM4_RP\",\"showlegend\":true,\"x\":[100000],\"y\":[1500],\"z\":[100000],\"type\":\"scatter3d\"},{\"marker\":{\"size\":10,\"symbol\":\"square\"},\"mode\":\"markers\",\"name\":\"ideal\",\"showlegend\":true,\"x\":[153888.0],\"y\":[3704.0],\"z\":[111894.0],\"type\":\"scatter3d\"},{\"marker\":{\"size\":10,\"symbol\":\"square\"},\"mode\":\"markers\",\"name\":\"nadir\",\"showlegend\":true,\"x\":[132036.0],\"y\":[620.0],\"z\":[0.0],\"type\":\"scatter3d\"},{\"marker\":{\"size\":10,\"symbol\":\"circle\"},\"mode\":\"markers\",\"name\":\"current solution\",\"showlegend\":true,\"x\":[132036.37628334865],\"y\":[3703.6032761236183],\"z\":[3.63657694356011e-05],\"type\":\"scatter3d\"},{\"marker\":{\"size\":10,\"symbol\":\"circle\"},\"mode\":\"markers\",\"name\":\"group_nimbus\",\"showlegend\":true,\"x\":[145589.86969776027],\"y\":[2463.0244644684767],\"z\":[54893.136645098806],\"type\":\"scatter3d\"}],                        {\"template\":{\"data\":{\"histogram2dcontour\":[{\"type\":\"histogram2dcontour\",\"colorbar\":{\"outlinewidth\":0,\"ticks\":\"\"},\"colorscale\":[[0.0,\"#0d0887\"],[0.1111111111111111,\"#46039f\"],[0.2222222222222222,\"#7201a8\"],[0.3333333333333333,\"#9c179e\"],[0.4444444444444444,\"#bd3786\"],[0.5555555555555556,\"#d8576b\"],[0.6666666666666666,\"#ed7953\"],[0.7777777777777778,\"#fb9f3a\"],[0.8888888888888888,\"#fdca26\"],[1.0,\"#f0f921\"]]}],\"choropleth\":[{\"type\":\"choropleth\",\"colorbar\":{\"outlinewidth\":0,\"ticks\":\"\"}}],\"histogram2d\":[{\"type\":\"histogram2d\",\"colorbar\":{\"outlinewidth\":0,\"ticks\":\"\"},\"colorscale\":[[0.0,\"#0d0887\"],[0.1111111111111111,\"#46039f\"],[0.2222222222222222,\"#7201a8\"],[0.3333333333333333,\"#9c179e\"],[0.4444444444444444,\"#bd3786\"],[0.5555555555555556,\"#d8576b\"],[0.6666666666666666,\"#ed7953\"],[0.7777777777777778,\"#fb9f3a\"],[0.8888888888888888,\"#fdca26\"],[1.0,\"#f0f921\"]]}],\"heatmap\":[{\"type\":\"heatmap\",\"colorbar\":{\"outlinewidth\":0,\"ticks\":\"\"},\"colorscale\":[[0.0,\"#0d0887\"],[0.1111111111111111,\"#46039f\"],[0.2222222222222222,\"#7201a8\"],[0.3333333333333333,\"#9c179e\"],[0.4444444444444444,\"#bd3786\"],[0.5555555555555556,\"#d8576b\"],[0.6666666666666666,\"#ed7953\"],[0.7777777777777778,\"#fb9f3a\"],[0.8888888888888888,\"#fdca26\"],[1.0,\"#f0f921\"]]}],\"heatmapgl\":[{\"type\":\"heatmapgl\",\"colorbar\":{\"outlinewidth\":0,\"ticks\":\"\"},\"colorscale\":[[0.0,\"#0d0887\"],[0.1111111111111111,\"#46039f\"],[0.2222222222222222,\"#7201a8\"],[0.3333333333333333,\"#9c179e\"],[0.4444444444444444,\"#bd3786\"],[0.5555555555555556,\"#d8576b\"],[0.6666666666666666,\"#ed7953\"],[0.7777777777777778,\"#fb9f3a\"],[0.8888888888888888,\"#fdca26\"],[1.0,\"#f0f921\"]]}],\"contourcarpet\":[{\"type\":\"contourcarpet\",\"colorbar\":{\"outlinewidth\":0,\"ticks\":\"\"}}],\"contour\":[{\"type\":\"contour\",\"colorbar\":{\"outlinewidth\":0,\"ticks\":\"\"},\"colorscale\":[[0.0,\"#0d0887\"],[0.1111111111111111,\"#46039f\"],[0.2222222222222222,\"#7201a8\"],[0.3333333333333333,\"#9c179e\"],[0.4444444444444444,\"#bd3786\"],[0.5555555555555556,\"#d8576b\"],[0.6666666666666666,\"#ed7953\"],[0.7777777777777778,\"#fb9f3a\"],[0.8888888888888888,\"#fdca26\"],[1.0,\"#f0f921\"]]}],\"surface\":[{\"type\":\"surface\",\"colorbar\":{\"outlinewidth\":0,\"ticks\":\"\"},\"colorscale\":[[0.0,\"#0d0887\"],[0.1111111111111111,\"#46039f\"],[0.2222222222222222,\"#7201a8\"],[0.3333333333333333,\"#9c179e\"],[0.4444444444444444,\"#bd3786\"],[0.5555555555555556,\"#d8576b\"],[0.6666666666666666,\"#ed7953\"],[0.7777777777777778,\"#fb9f3a\"],[0.8888888888888888,\"#fdca26\"],[1.0,\"#f0f921\"]]}],\"mesh3d\":[{\"type\":\"mesh3d\",\"colorbar\":{\"outlinewidth\":0,\"ticks\":\"\"}}],\"scatter\":[{\"fillpattern\":{\"fillmode\":\"overlay\",\"size\":10,\"solidity\":0.2},\"type\":\"scatter\"}],\"parcoords\":[{\"type\":\"parcoords\",\"line\":{\"colorbar\":{\"outlinewidth\":0,\"ticks\":\"\"}}}],\"scatterpolargl\":[{\"type\":\"scatterpolargl\",\"marker\":{\"colorbar\":{\"outlinewidth\":0,\"ticks\":\"\"}}}],\"bar\":[{\"error_x\":{\"color\":\"#2a3f5f\"},\"error_y\":{\"color\":\"#2a3f5f\"},\"marker\":{\"line\":{\"color\":\"#E5ECF6\",\"width\":0.5},\"pattern\":{\"fillmode\":\"overlay\",\"size\":10,\"solidity\":0.2}},\"type\":\"bar\"}],\"scattergeo\":[{\"type\":\"scattergeo\",\"marker\":{\"colorbar\":{\"outlinewidth\":0,\"ticks\":\"\"}}}],\"scatterpolar\":[{\"type\":\"scatterpolar\",\"marker\":{\"colorbar\":{\"outlinewidth\":0,\"ticks\":\"\"}}}],\"histogram\":[{\"marker\":{\"pattern\":{\"fillmode\":\"overlay\",\"size\":10,\"solidity\":0.2}},\"type\":\"histogram\"}],\"scattergl\":[{\"type\":\"scattergl\",\"marker\":{\"colorbar\":{\"outlinewidth\":0,\"ticks\":\"\"}}}],\"scatter3d\":[{\"type\":\"scatter3d\",\"line\":{\"colorbar\":{\"outlinewidth\":0,\"ticks\":\"\"}},\"marker\":{\"colorbar\":{\"outlinewidth\":0,\"ticks\":\"\"}}}],\"scattermapbox\":[{\"type\":\"scattermapbox\",\"marker\":{\"colorbar\":{\"outlinewidth\":0,\"ticks\":\"\"}}}],\"scatterternary\":[{\"type\":\"scatterternary\",\"marker\":{\"colorbar\":{\"outlinewidth\":0,\"ticks\":\"\"}}}],\"scattercarpet\":[{\"type\":\"scattercarpet\",\"marker\":{\"colorbar\":{\"outlinewidth\":0,\"ticks\":\"\"}}}],\"carpet\":[{\"aaxis\":{\"endlinecolor\":\"#2a3f5f\",\"gridcolor\":\"white\",\"linecolor\":\"white\",\"minorgridcolor\":\"white\",\"startlinecolor\":\"#2a3f5f\"},\"baxis\":{\"endlinecolor\":\"#2a3f5f\",\"gridcolor\":\"white\",\"linecolor\":\"white\",\"minorgridcolor\":\"white\",\"startlinecolor\":\"#2a3f5f\"},\"type\":\"carpet\"}],\"table\":[{\"cells\":{\"fill\":{\"color\":\"#EBF0F8\"},\"line\":{\"color\":\"white\"}},\"header\":{\"fill\":{\"color\":\"#C8D4E3\"},\"line\":{\"color\":\"white\"}},\"type\":\"table\"}],\"barpolar\":[{\"marker\":{\"line\":{\"color\":\"#E5ECF6\",\"width\":0.5},\"pattern\":{\"fillmode\":\"overlay\",\"size\":10,\"solidity\":0.2}},\"type\":\"barpolar\"}],\"pie\":[{\"automargin\":true,\"type\":\"pie\"}]},\"layout\":{\"autotypenumbers\":\"strict\",\"colorway\":[\"#636efa\",\"#EF553B\",\"#00cc96\",\"#ab63fa\",\"#FFA15A\",\"#19d3f3\",\"#FF6692\",\"#B6E880\",\"#FF97FF\",\"#FECB52\"],\"font\":{\"color\":\"#2a3f5f\"},\"hovermode\":\"closest\",\"hoverlabel\":{\"align\":\"left\"},\"paper_bgcolor\":\"white\",\"plot_bgcolor\":\"#E5ECF6\",\"polar\":{\"bgcolor\":\"#E5ECF6\",\"angularaxis\":{\"gridcolor\":\"white\",\"linecolor\":\"white\",\"ticks\":\"\"},\"radialaxis\":{\"gridcolor\":\"white\",\"linecolor\":\"white\",\"ticks\":\"\"}},\"ternary\":{\"bgcolor\":\"#E5ECF6\",\"aaxis\":{\"gridcolor\":\"white\",\"linecolor\":\"white\",\"ticks\":\"\"},\"baxis\":{\"gridcolor\":\"white\",\"linecolor\":\"white\",\"ticks\":\"\"},\"caxis\":{\"gridcolor\":\"white\",\"linecolor\":\"white\",\"ticks\":\"\"}},\"coloraxis\":{\"colorbar\":{\"outlinewidth\":0,\"ticks\":\"\"}},\"colorscale\":{\"sequential\":[[0.0,\"#0d0887\"],[0.1111111111111111,\"#46039f\"],[0.2222222222222222,\"#7201a8\"],[0.3333333333333333,\"#9c179e\"],[0.4444444444444444,\"#bd3786\"],[0.5555555555555556,\"#d8576b\"],[0.6666666666666666,\"#ed7953\"],[0.7777777777777778,\"#fb9f3a\"],[0.8888888888888888,\"#fdca26\"],[1.0,\"#f0f921\"]],\"sequentialminus\":[[0.0,\"#0d0887\"],[0.1111111111111111,\"#46039f\"],[0.2222222222222222,\"#7201a8\"],[0.3333333333333333,\"#9c179e\"],[0.4444444444444444,\"#bd3786\"],[0.5555555555555556,\"#d8576b\"],[0.6666666666666666,\"#ed7953\"],[0.7777777777777778,\"#fb9f3a\"],[0.8888888888888888,\"#fdca26\"],[1.0,\"#f0f921\"]],\"diverging\":[[0,\"#8e0152\"],[0.1,\"#c51b7d\"],[0.2,\"#de77ae\"],[0.3,\"#f1b6da\"],[0.4,\"#fde0ef\"],[0.5,\"#f7f7f7\"],[0.6,\"#e6f5d0\"],[0.7,\"#b8e186\"],[0.8,\"#7fbc41\"],[0.9,\"#4d9221\"],[1,\"#276419\"]]},\"xaxis\":{\"gridcolor\":\"white\",\"linecolor\":\"white\",\"ticks\":\"\",\"title\":{\"standoff\":15},\"zerolinecolor\":\"white\",\"automargin\":true,\"zerolinewidth\":2},\"yaxis\":{\"gridcolor\":\"white\",\"linecolor\":\"white\",\"ticks\":\"\",\"title\":{\"standoff\":15},\"zerolinecolor\":\"white\",\"automargin\":true,\"zerolinewidth\":2},\"scene\":{\"xaxis\":{\"backgroundcolor\":\"#E5ECF6\",\"gridcolor\":\"white\",\"linecolor\":\"white\",\"showbackground\":true,\"ticks\":\"\",\"zerolinecolor\":\"white\",\"gridwidth\":2},\"yaxis\":{\"backgroundcolor\":\"#E5ECF6\",\"gridcolor\":\"white\",\"linecolor\":\"white\",\"showbackground\":true,\"ticks\":\"\",\"zerolinecolor\":\"white\",\"gridwidth\":2},\"zaxis\":{\"backgroundcolor\":\"#E5ECF6\",\"gridcolor\":\"white\",\"linecolor\":\"white\",\"showbackground\":true,\"ticks\":\"\",\"zerolinecolor\":\"white\",\"gridwidth\":2}},\"shapedefaults\":{\"line\":{\"color\":\"#2a3f5f\"}},\"annotationdefaults\":{\"arrowcolor\":\"#2a3f5f\",\"arrowhead\":0,\"arrowwidth\":1},\"geo\":{\"bgcolor\":\"white\",\"landcolor\":\"#E5ECF6\",\"subunitcolor\":\"white\",\"showland\":true,\"showlakes\":true,\"lakecolor\":\"white\"},\"title\":{\"x\":0.05},\"mapbox\":{\"style\":\"light\"}}},\"scene\":{\"domain\":{\"x\":[0.0,1.0],\"y\":[0.0,1.0]},\"xaxis\":{\"title\":{\"text\":\"X: Net present value \\u002f \\u20ac\"}},\"yaxis\":{\"title\":{\"text\":\"Y: Wood stock volume \\u002f m^3\"}},\"zaxis\":{\"title\":{\"text\":\"Z: Harvest value \\u002f \\u20ac\"}}},\"legend\":{\"tracegroupgap\":0},\"margin\":{\"t\":60},\"height\":1000,\"width\":1000},                        {\"responsive\": true}                    ).then(function(){\n",
       "                            \n",
       "var gd = document.getElementById('94b01818-b2ba-44e4-81cd-e68e5cade8db');\n",
       "var x = new MutationObserver(function (mutations, observer) {{\n",
       "        var display = window.getComputedStyle(gd).display;\n",
       "        if (!display || display === 'none') {{\n",
       "            console.log([gd, 'removed!']);\n",
       "            Plotly.purge(gd);\n",
       "            observer.disconnect();\n",
       "        }}\n",
       "}});\n",
       "\n",
       "// Listen for the removal of the full notebook cells\n",
       "var notebookContainer = gd.closest('#notebook-container');\n",
       "if (notebookContainer) {{\n",
       "    x.observe(notebookContainer, {childList: true});\n",
       "}}\n",
       "\n",
       "// Listen for the clearing of the current output cell\n",
       "var outputEl = gd.closest('.output');\n",
       "if (outputEl) {{\n",
       "    x.observe(outputEl, {childList: true});\n",
       "}}\n",
       "\n",
       "                        })                };                });            </script>        </div>"
      ]
     },
     "metadata": {},
     "output_type": "display_data"
    }
   ],
   "source": [
    "rps = dict_of_rps_to_list_of_rps(reference_points)\n",
    "rp_arr = np.array([[col[\"f_1\"], col[\"f_2\"],col[\"f_3\"]] for col in rps])\n",
    "\n",
    "plot_solutions = [next_current_solution, gnimbus]\n",
    "keys = [\"f_1\", \"f_2\", \"f_3\"]\n",
    "namelist = [\"current solution\", \"group_nimbus\"]\n",
    "\n",
    "#visu_3d(plot_solutions, rp_arr, keys, namelist, ideals, nadirs, saved_solutions, None)\n",
    "# See PF\n",
    "visu_3d(plot_solutions, rp_arr, keys, namelist, ideals, nadirs, saved_solutions, evaluated_points)"
   ]
  },
  {
   "cell_type": "markdown",
   "id": "c25afa7c-35b8-4408-b841-ff8b50d32bbd",
   "metadata": {},
   "source": [
    "# Group discussion:\n",
    "- give DMs information about the state; what is achievable and what is not, unless preferences are changed. explain why not moving etc.\n",
    "- Nudge or ask DMs to adjust their preferences to find better suiting solutions for the group.\n",
    "- Finally, set next_current_solution to gnimbus_solution and go back to DMs giving preferences for the next iteration"
   ]
  },
  {
   "cell_type": "code",
   "execution_count": 52,
   "id": "2b94c256-7ad9-4ea4-9d98-b59d8a5322c1",
   "metadata": {},
   "outputs": [
    {
     "ename": "NameError",
     "evalue": "name 'gnimbus_solution' is not defined",
     "output_type": "error",
     "traceback": [
      "\u001b[0;31m---------------------------------------------------------------------------\u001b[0m",
      "\u001b[0;31mNameError\u001b[0m                                 Traceback (most recent call last)",
      "Cell \u001b[0;32mIn[52], line 1\u001b[0m\n\u001b[0;32m----> 1\u001b[0m next_current_solution \u001b[38;5;241m=\u001b[39m \u001b[43mgnimbus_solution\u001b[49m\n",
      "\u001b[0;31mNameError\u001b[0m: name 'gnimbus_solution' is not defined"
     ]
    }
   ],
   "source": [
    "next_current_solution = gnimbus_solution"
   ]
  },
  {
   "cell_type": "code",
   "execution_count": null,
   "id": "2364becb-6b6d-4ffe-bfdb-8453fe828e60",
   "metadata": {},
   "outputs": [],
   "source": []
  }
 ],
 "metadata": {
  "kernelspec": {
   "display_name": "desdeo2",
   "language": "python",
   "name": "desdeo2"
  },
  "language_info": {
   "codemirror_mode": {
    "name": "ipython",
    "version": 3
   },
   "file_extension": ".py",
   "mimetype": "text/x-python",
   "name": "python",
   "nbconvert_exporter": "python",
   "pygments_lexer": "ipython3",
   "version": "3.12.9"
  }
 },
 "nbformat": 4,
 "nbformat_minor": 5
}
