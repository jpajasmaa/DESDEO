{
 "cells": [
  {
   "cell_type": "code",
   "execution_count": 1,
   "id": "64333413-123f-4e97-ad6e-c2dcb3521dae",
   "metadata": {},
   "outputs": [],
   "source": [
    "import desdeo"
   ]
  },
  {
   "cell_type": "code",
   "execution_count": 2,
   "id": "953adf9c-578a-4dc2-bdd4-aa5ec6e64cfe",
   "metadata": {},
   "outputs": [],
   "source": [
    "import numpy as np\n",
    "\n",
    "from desdeo.problem import (PolarsEvaluator, Problem, VariableType,\n",
    "                            variable_dict_to_numpy_array, Constraint,\n",
    "                            ConstraintTypeEnum, Variable, VariableTypeEnum, ScalarizationFunction\n",
    "                            )\n",
    "from desdeo.tools.utils import (\n",
    "    get_corrected_ideal_and_nadir,\n",
    "    get_corrected_reference_point,\n",
    ")\n",
    "from desdeo.tools.scalarization import objective_dict_has_all_symbols\n",
    "\n",
    "from desdeo.problem.testproblems import dtlz2, nimbus_test_problem\n",
    "\n",
    "# from desdeo.mcdm.gnimbus import infer_classifications, solve_intermediate_solutions, solve_sub_problems\n",
    "from gnimbus import (explain, voting_procedure, infer_classifications, agg_cardinal, infer_ordinal_classifications,\n",
    "                     solve_intermediate_solutions, solve_sub_problems, convert_to_nimbus_classification, add_group_nimbusv2_sf_diff,\n",
    "                     list_of_rps_to_dict_of_rps, dict_of_rps_to_list_of_rps)\n",
    "\n",
    "from desdeo.problem import dtlz2, nimbus_test_problem, zdt1, zdt2\n",
    "from desdeo.tools import IpoptOptions, PyomoIpoptSolver, add_asf_diff\n",
    "\n",
    "from aggregate_classifications import aggregate_classifications\n",
    "\n",
    "\n",
    "from desdeo.tools import (\n",
    "    BaseSolver,\n",
    "    SolverOptions,\n",
    "    SolverResults,\n",
    "    add_group_asf_diff,\n",
    "    add_group_asf,\n",
    "    add_group_guess_sf_diff,\n",
    "    add_group_guess_sf,\n",
    "    add_group_nimbus_sf_diff,\n",
    "    add_group_nimbus_sf,\n",
    "    add_group_stom_sf_diff,\n",
    "    add_group_stom_sf,\n",
    "    guess_best_solver,\n",
    "    add_asf_diff,\n",
    "    ScalarizationError,\n",
    "    add_nimbus_sf_diff, add_nimbus_sf_nondiff\n",
    ")\n",
    "from desdeo.mcdm.nimbus import (\n",
    "    generate_starting_point,\n",
    "    infer_classifications,\n",
    "    NimbusError\n",
    ")\n",
    "\n",
    "from aggregate_classifications import aggregate_classifications"
   ]
  },
  {
   "cell_type": "code",
   "execution_count": 3,
   "id": "5c4919bc-9b6c-45dc-b279-2839061bb63a",
   "metadata": {},
   "outputs": [],
   "source": [
    "import warnings\n",
    "warnings.filterwarnings('ignore')"
   ]
  },
  {
   "cell_type": "code",
   "execution_count": 34,
   "id": "ea25b6d1-9fbd-4b8a-8368-975916ab92fc",
   "metadata": {},
   "outputs": [
    {
     "data": {
      "text/plain": [
       "{'f_1': 0.38509817535988233,\n",
       " 'f_2': 0.48509817753491596,\n",
       " 'f_3': 0.7850981807944739}"
      ]
     },
     "execution_count": 34,
     "metadata": {},
     "output_type": "execute_result"
    }
   ],
   "source": [
    "\"\"\"Test that the scalarization problems in GNIMBUS are solved as expected.\"\"\"\n",
    "n_variables = 8\n",
    "n_objectives = 3\n",
    "\n",
    "problem = dtlz2(n_variables, n_objectives)\n",
    "\n",
    "solver_options = IpoptOptions()\n",
    "\n",
    "# get some initial solution\n",
    "initial_rp = {\n",
    "    \"f_1\": 0.4, \"f_2\": 0.5, \"f_3\": 0.8\n",
    "}\n",
    "initial_result = generate_starting_point(problem, initial_rp)\n",
    "\n",
    "# f1: 0.385, f2: 0.485, f3: 0.776\n",
    "initial_fs = initial_result.optimal_objectives\n",
    "initial_fs\n"
   ]
  },
  {
   "cell_type": "markdown",
   "id": "b0eecb86-0bbe-4f12-b75d-49cd1f86bd55",
   "metadata": {},
   "source": [
    "## Learning phase"
   ]
  },
  {
   "cell_type": "markdown",
   "id": "257ef1b0-c724-45a5-87d1-23b927d4d865",
   "metadata": {},
   "source": [
    "### 1. DMs give prefs ( example where DMs preferences conflict heavily.)"
   ]
  },
  {
   "cell_type": "code",
   "execution_count": 16,
   "id": "01171c8f-582c-46ed-894e-f631006755f7",
   "metadata": {},
   "outputs": [
    {
     "name": "stdout",
     "output_type": "stream",
     "text": [
      "initial solution: {'f_1': 0.38509817535988233, 'f_2': 0.48509817753491596, 'f_3': 0.7850981807944739}\n"
     ]
    }
   ],
   "source": [
    "# for first iteration\n",
    "next_current_solution = initial_result.optimal_objectives\n",
    "print(f\"initial solution: {next_current_solution}\")"
   ]
  },
  {
   "cell_type": "code",
   "execution_count": 19,
   "id": "4b78ab86-ff41-4034-8d6c-2540fd27027d",
   "metadata": {},
   "outputs": [],
   "source": [
    "dms_rps = {\n",
    "    \"DM1\": {\"f_1\": 0.0, \"f_2\": next_current_solution[\"f_2\"], \"f_3\": 1},  # improve f_1, keep f_2 same, impair f_3\n",
    "    \"DM2\": {\"f_1\": 0.3, \"f_2\": 1, \"f_3\": 0.5},  # improve f_1 to 0.3, impair f_2, improve f_3 to 0.5\n",
    "    \"DM3\": {\"f_1\": 0.5, \"f_2\": 0.6, \"f_3\": 0.0},  # impair f_1 to 0.5, impair f_2 to 0.6, improve f_3\n",
    "}"
   ]
  },
  {
   "cell_type": "markdown",
   "id": "19da112e-d3c7-4487-9f84-f7d8cb1c7975",
   "metadata": {},
   "source": [
    "### 2. Run first iteration"
   ]
  },
  {
   "cell_type": "code",
   "execution_count": 20,
   "id": "c414c13b-6fdb-4cf2-b258-5de381dc14fb",
   "metadata": {
    "scrolled": true
   },
   "outputs": [
    {
     "name": "stdout",
     "output_type": "stream",
     "text": [
      "RPS {'f_1': 0.0, 'f_2': 0.8535307961578433, 'f_3': 1}\n",
      "RPS {'f_1': 0.3, 'f_2': 1, 'f_3': 0.5}\n",
      "RPS {'f_1': 0.5, 'f_2': 0.6, 'f_3': 0.0}\n",
      "Solution: {'f_1': 0.3684326025012598, 'f_2': 0.8535308048014998, 'f_3': 0.3684326026141725}\n",
      "Solution: {'f_1': -1.3214398403123894e-08, 'f_2': 0.9999999999999998, 'f_3': -1.3234075331643097e-08}\n",
      "Solution: {'f_1': 0.30332229109326425, 'f_2': 0.9033222989233354, 'f_3': 0.3033222906312579}\n",
      "Solution: {'f_1': 0.9999999999999998, 'f_2': -1.3202083146926173e-08, 'f_3': -1.3202067291775593e-08}\n"
     ]
    }
   ],
   "source": [
    "num_desired = 4\n",
    "solutions = solve_sub_problems(\n",
    "    problem, next_current_solution, dms_rps, num_desired, False, create_solver=PyomoIpoptSolver, solver_options=solver_options\n",
    ")\n",
    "for s in solutions:\n",
    "    print(f\"Solution: {s.optimal_objectives}\")\n",
    "\n",
    "gnimbus = solutions[0].optimal_objectives\n",
    "gstom = solutions[1].optimal_objectives\n",
    "gasf = solutions[2].optimal_objectives\n",
    "gguess = solutions[3].optimal_objectives"
   ]
  },
  {
   "cell_type": "markdown",
   "id": "d55c3e34-5b1a-4945-bc4e-b919a13f0744",
   "metadata": {},
   "source": [
    "### Plot the solutions"
   ]
  },
  {
   "cell_type": "code",
   "execution_count": 68,
   "id": "103e160e-3a6c-4309-9bff-5feb0c96bca6",
   "metadata": {},
   "outputs": [
    {
     "data": {
      "application/vnd.plotly.v1+json": {
       "config": {
        "plotlyServerURL": "https://plot.ly"
       },
       "data": [
        {
         "hovertemplate": "f_1=%{x}<br>f_2=%{y}<br>f_3=%{z}<extra></extra>",
         "legendgroup": "",
         "marker": {
          "color": "#636efa",
          "symbol": "circle"
         },
         "mode": "markers",
         "name": "",
         "scene": "scene",
         "showlegend": false,
         "type": "scatter3d",
         "x": [
          0,
          0,
          0,
          0,
          0,
          0,
          0,
          0,
          0,
          0,
          0,
          0,
          0,
          0.09053574604251853,
          0.09901475429766741,
          0.10783277320343841,
          0.11624763874381927,
          0.12309149097933271,
          0.1270001270001905,
          0.1270001270001905,
          0.12309149097933271,
          0.11624763874381927,
          0.10783277320343841,
          0.09901475429766741,
          0.09053574604251853,
          0.19611613513818402,
          0.21566554640687682,
          0.2357022603955158,
          0.25400025400038095,
          0.2672612419124244,
          0.2721655269759087,
          0.2672612419124244,
          0.25400025400038095,
          0.2357022603955158,
          0.21566554640687682,
          0.19611613513818402,
          0.31622776601683794,
          0.34874291623145787,
          0.38100038100057143,
          0.4082482904638631,
          0.4242640687119285,
          0.4242640687119285,
          0.4082482904638631,
          0.38100038100057143,
          0.34874291623145787,
          0.31622776601683794,
          0.4472135954999579,
          0.49236596391733084,
          0.5345224838248488,
          0.565685424949238,
          0.5773502691896257,
          0.565685424949238,
          0.5345224838248488,
          0.49236596391733084,
          0.4472135954999579,
          0.5812381937190965,
          0.6350006350009526,
          0.6804138174397718,
          0.7071067811865476,
          0.7071067811865476,
          0.6804138174397717,
          0.6350006350009526,
          0.5812381937190965,
          0.7071067811865475,
          0.7620007620011431,
          0.8017837257372732,
          0.8164965809277261,
          0.8017837257372732,
          0.7620007620011431,
          0.7071067811865475,
          0.813733471206735,
          0.8616404368553291,
          0.8890008890013334,
          0.8890008890013334,
          0.8616404368553291,
          0.813733471206735,
          0.8944271909999159,
          0.9299811099505542,
          0.9428090415820632,
          0.9299811099505542,
          0.8944271909999159,
          0.9486832980505138,
          0.9704949588309457,
          0.9704949588309457,
          0.9486832980505138,
          0.9805806756909202,
          0.9901475429766743,
          0.9805806756909202,
          0.995893206467704,
          0.995893206467704,
          1
         ],
         "y": [
          0,
          0.09053574604251853,
          0.19611613513818402,
          0.31622776601683794,
          0.4472135954999579,
          0.5812381937190965,
          0.7071067811865475,
          0.813733471206735,
          0.8944271909999159,
          0.9486832980505138,
          0.9805806756909202,
          0.995893206467704,
          1,
          0,
          0.09901475429766741,
          0.21566554640687682,
          0.34874291623145787,
          0.49236596391733084,
          0.6350006350009526,
          0.7620007620011431,
          0.8616404368553291,
          0.9299811099505542,
          0.9704949588309457,
          0.9901475429766743,
          0.995893206467704,
          0,
          0.10783277320343841,
          0.2357022603955158,
          0.38100038100057143,
          0.5345224838248488,
          0.6804138174397718,
          0.8017837257372732,
          0.8890008890013334,
          0.9428090415820632,
          0.9704949588309457,
          0.9805806756909202,
          0,
          0.11624763874381927,
          0.25400025400038095,
          0.4082482904638631,
          0.565685424949238,
          0.7071067811865476,
          0.8164965809277261,
          0.8890008890013334,
          0.9299811099505542,
          0.9486832980505138,
          0,
          0.12309149097933271,
          0.2672612419124244,
          0.4242640687119285,
          0.5773502691896257,
          0.7071067811865476,
          0.8017837257372732,
          0.8616404368553291,
          0.8944271909999159,
          0,
          0.1270001270001905,
          0.2721655269759087,
          0.4242640687119285,
          0.565685424949238,
          0.6804138174397717,
          0.7620007620011431,
          0.813733471206735,
          0,
          0.1270001270001905,
          0.2672612419124244,
          0.4082482904638631,
          0.5345224838248488,
          0.6350006350009526,
          0.7071067811865475,
          0,
          0.12309149097933271,
          0.25400025400038095,
          0.38100038100057143,
          0.49236596391733084,
          0.5812381937190965,
          0,
          0.11624763874381927,
          0.2357022603955158,
          0.34874291623145787,
          0.4472135954999579,
          0,
          0.10783277320343841,
          0.21566554640687682,
          0.31622776601683794,
          0,
          0.09901475429766741,
          0.19611613513818402,
          0,
          0.09053574604251853,
          0
         ],
         "z": [
          1,
          0.995893206467704,
          0.9805806756909202,
          0.9486832980505138,
          0.8944271909999159,
          0.813733471206735,
          0.7071067811865475,
          0.5812381937190965,
          0.4472135954999579,
          0.31622776601683794,
          0.19611613513818402,
          0.09053574604251853,
          0,
          0.995893206467704,
          0.9901475429766743,
          0.9704949588309457,
          0.9299811099505542,
          0.8616404368553291,
          0.7620007620011431,
          0.6350006350009526,
          0.49236596391733084,
          0.34874291623145787,
          0.21566554640687682,
          0.09901475429766741,
          0,
          0.9805806756909202,
          0.9704949588309457,
          0.9428090415820632,
          0.8890008890013334,
          0.8017837257372732,
          0.6804138174397718,
          0.5345224838248488,
          0.38100038100057143,
          0.2357022603955158,
          0.10783277320343841,
          0,
          0.9486832980505138,
          0.9299811099505542,
          0.8890008890013334,
          0.8164965809277261,
          0.7071067811865476,
          0.565685424949238,
          0.4082482904638631,
          0.25400025400038095,
          0.11624763874381927,
          0,
          0.8944271909999159,
          0.8616404368553291,
          0.8017837257372732,
          0.7071067811865476,
          0.5773502691896257,
          0.4242640687119285,
          0.2672612419124244,
          0.12309149097933271,
          0,
          0.813733471206735,
          0.7620007620011431,
          0.6804138174397718,
          0.565685424949238,
          0.4242640687119285,
          0.2721655269759086,
          0.1270001270001905,
          0,
          0.7071067811865475,
          0.6350006350009526,
          0.5345224838248488,
          0.4082482904638631,
          0.2672612419124244,
          0.1270001270001905,
          0,
          0.5812381937190965,
          0.49236596391733084,
          0.38100038100057143,
          0.25400025400038095,
          0.12309149097933271,
          0,
          0.4472135954999579,
          0.34874291623145787,
          0.2357022603955158,
          0.11624763874381927,
          0,
          0.31622776601683794,
          0.21566554640687682,
          0.10783277320343841,
          0,
          0.19611613513818402,
          0.09901475429766741,
          0,
          0.09053574604251853,
          0,
          0
         ]
        },
        {
         "marker": {
          "size": 5,
          "symbol": "x"
         },
         "mode": "markers",
         "name": "group_nimbus",
         "showlegend": true,
         "type": "scatter3d",
         "x": [
          0.3684326025012598
         ],
         "y": [
          0.8535308048014998
         ],
         "z": [
          0.3684326026141725
         ]
        },
        {
         "marker": {
          "size": 5,
          "symbol": "x"
         },
         "mode": "markers",
         "name": "gstom",
         "showlegend": true,
         "type": "scatter3d",
         "x": [
          -1.3214398403123894e-08
         ],
         "y": [
          0.9999999999999998
         ],
         "z": [
          -1.3234075331643097e-08
         ]
        },
        {
         "marker": {
          "size": 5,
          "symbol": "x"
         },
         "mode": "markers",
         "name": "gasf",
         "showlegend": true,
         "type": "scatter3d",
         "x": [
          0.30332229109326425
         ],
         "y": [
          0.9033222989233354
         ],
         "z": [
          0.3033222906312579
         ]
        },
        {
         "marker": {
          "size": 5,
          "symbol": "x"
         },
         "mode": "markers",
         "name": "gguess",
         "showlegend": true,
         "type": "scatter3d",
         "x": [
          0.9999999999999998
         ],
         "y": [
          -1.3202083146926173e-08
         ],
         "z": [
          -1.3202067291775593e-08
         ]
        }
       ],
       "layout": {
        "legend": {
         "tracegroupgap": 0
        },
        "margin": {
         "t": 60
        },
        "scene": {
         "domain": {
          "x": [
           0,
           1
          ],
          "y": [
           0,
           1
          ]
         },
         "xaxis": {
          "title": {
           "text": "f_1"
          }
         },
         "yaxis": {
          "title": {
           "text": "f_2"
          }
         },
         "zaxis": {
          "title": {
           "text": "f_3"
          }
         }
        },
        "template": {
         "data": {
          "bar": [
           {
            "error_x": {
             "color": "#2a3f5f"
            },
            "error_y": {
             "color": "#2a3f5f"
            },
            "marker": {
             "line": {
              "color": "#E5ECF6",
              "width": 0.5
             },
             "pattern": {
              "fillmode": "overlay",
              "size": 10,
              "solidity": 0.2
             }
            },
            "type": "bar"
           }
          ],
          "barpolar": [
           {
            "marker": {
             "line": {
              "color": "#E5ECF6",
              "width": 0.5
             },
             "pattern": {
              "fillmode": "overlay",
              "size": 10,
              "solidity": 0.2
             }
            },
            "type": "barpolar"
           }
          ],
          "carpet": [
           {
            "aaxis": {
             "endlinecolor": "#2a3f5f",
             "gridcolor": "white",
             "linecolor": "white",
             "minorgridcolor": "white",
             "startlinecolor": "#2a3f5f"
            },
            "baxis": {
             "endlinecolor": "#2a3f5f",
             "gridcolor": "white",
             "linecolor": "white",
             "minorgridcolor": "white",
             "startlinecolor": "#2a3f5f"
            },
            "type": "carpet"
           }
          ],
          "choropleth": [
           {
            "colorbar": {
             "outlinewidth": 0,
             "ticks": ""
            },
            "type": "choropleth"
           }
          ],
          "contour": [
           {
            "colorbar": {
             "outlinewidth": 0,
             "ticks": ""
            },
            "colorscale": [
             [
              0,
              "#0d0887"
             ],
             [
              0.1111111111111111,
              "#46039f"
             ],
             [
              0.2222222222222222,
              "#7201a8"
             ],
             [
              0.3333333333333333,
              "#9c179e"
             ],
             [
              0.4444444444444444,
              "#bd3786"
             ],
             [
              0.5555555555555556,
              "#d8576b"
             ],
             [
              0.6666666666666666,
              "#ed7953"
             ],
             [
              0.7777777777777778,
              "#fb9f3a"
             ],
             [
              0.8888888888888888,
              "#fdca26"
             ],
             [
              1,
              "#f0f921"
             ]
            ],
            "type": "contour"
           }
          ],
          "contourcarpet": [
           {
            "colorbar": {
             "outlinewidth": 0,
             "ticks": ""
            },
            "type": "contourcarpet"
           }
          ],
          "heatmap": [
           {
            "colorbar": {
             "outlinewidth": 0,
             "ticks": ""
            },
            "colorscale": [
             [
              0,
              "#0d0887"
             ],
             [
              0.1111111111111111,
              "#46039f"
             ],
             [
              0.2222222222222222,
              "#7201a8"
             ],
             [
              0.3333333333333333,
              "#9c179e"
             ],
             [
              0.4444444444444444,
              "#bd3786"
             ],
             [
              0.5555555555555556,
              "#d8576b"
             ],
             [
              0.6666666666666666,
              "#ed7953"
             ],
             [
              0.7777777777777778,
              "#fb9f3a"
             ],
             [
              0.8888888888888888,
              "#fdca26"
             ],
             [
              1,
              "#f0f921"
             ]
            ],
            "type": "heatmap"
           }
          ],
          "heatmapgl": [
           {
            "colorbar": {
             "outlinewidth": 0,
             "ticks": ""
            },
            "colorscale": [
             [
              0,
              "#0d0887"
             ],
             [
              0.1111111111111111,
              "#46039f"
             ],
             [
              0.2222222222222222,
              "#7201a8"
             ],
             [
              0.3333333333333333,
              "#9c179e"
             ],
             [
              0.4444444444444444,
              "#bd3786"
             ],
             [
              0.5555555555555556,
              "#d8576b"
             ],
             [
              0.6666666666666666,
              "#ed7953"
             ],
             [
              0.7777777777777778,
              "#fb9f3a"
             ],
             [
              0.8888888888888888,
              "#fdca26"
             ],
             [
              1,
              "#f0f921"
             ]
            ],
            "type": "heatmapgl"
           }
          ],
          "histogram": [
           {
            "marker": {
             "pattern": {
              "fillmode": "overlay",
              "size": 10,
              "solidity": 0.2
             }
            },
            "type": "histogram"
           }
          ],
          "histogram2d": [
           {
            "colorbar": {
             "outlinewidth": 0,
             "ticks": ""
            },
            "colorscale": [
             [
              0,
              "#0d0887"
             ],
             [
              0.1111111111111111,
              "#46039f"
             ],
             [
              0.2222222222222222,
              "#7201a8"
             ],
             [
              0.3333333333333333,
              "#9c179e"
             ],
             [
              0.4444444444444444,
              "#bd3786"
             ],
             [
              0.5555555555555556,
              "#d8576b"
             ],
             [
              0.6666666666666666,
              "#ed7953"
             ],
             [
              0.7777777777777778,
              "#fb9f3a"
             ],
             [
              0.8888888888888888,
              "#fdca26"
             ],
             [
              1,
              "#f0f921"
             ]
            ],
            "type": "histogram2d"
           }
          ],
          "histogram2dcontour": [
           {
            "colorbar": {
             "outlinewidth": 0,
             "ticks": ""
            },
            "colorscale": [
             [
              0,
              "#0d0887"
             ],
             [
              0.1111111111111111,
              "#46039f"
             ],
             [
              0.2222222222222222,
              "#7201a8"
             ],
             [
              0.3333333333333333,
              "#9c179e"
             ],
             [
              0.4444444444444444,
              "#bd3786"
             ],
             [
              0.5555555555555556,
              "#d8576b"
             ],
             [
              0.6666666666666666,
              "#ed7953"
             ],
             [
              0.7777777777777778,
              "#fb9f3a"
             ],
             [
              0.8888888888888888,
              "#fdca26"
             ],
             [
              1,
              "#f0f921"
             ]
            ],
            "type": "histogram2dcontour"
           }
          ],
          "mesh3d": [
           {
            "colorbar": {
             "outlinewidth": 0,
             "ticks": ""
            },
            "type": "mesh3d"
           }
          ],
          "parcoords": [
           {
            "line": {
             "colorbar": {
              "outlinewidth": 0,
              "ticks": ""
             }
            },
            "type": "parcoords"
           }
          ],
          "pie": [
           {
            "automargin": true,
            "type": "pie"
           }
          ],
          "scatter": [
           {
            "fillpattern": {
             "fillmode": "overlay",
             "size": 10,
             "solidity": 0.2
            },
            "type": "scatter"
           }
          ],
          "scatter3d": [
           {
            "line": {
             "colorbar": {
              "outlinewidth": 0,
              "ticks": ""
             }
            },
            "marker": {
             "colorbar": {
              "outlinewidth": 0,
              "ticks": ""
             }
            },
            "type": "scatter3d"
           }
          ],
          "scattercarpet": [
           {
            "marker": {
             "colorbar": {
              "outlinewidth": 0,
              "ticks": ""
             }
            },
            "type": "scattercarpet"
           }
          ],
          "scattergeo": [
           {
            "marker": {
             "colorbar": {
              "outlinewidth": 0,
              "ticks": ""
             }
            },
            "type": "scattergeo"
           }
          ],
          "scattergl": [
           {
            "marker": {
             "colorbar": {
              "outlinewidth": 0,
              "ticks": ""
             }
            },
            "type": "scattergl"
           }
          ],
          "scattermapbox": [
           {
            "marker": {
             "colorbar": {
              "outlinewidth": 0,
              "ticks": ""
             }
            },
            "type": "scattermapbox"
           }
          ],
          "scatterpolar": [
           {
            "marker": {
             "colorbar": {
              "outlinewidth": 0,
              "ticks": ""
             }
            },
            "type": "scatterpolar"
           }
          ],
          "scatterpolargl": [
           {
            "marker": {
             "colorbar": {
              "outlinewidth": 0,
              "ticks": ""
             }
            },
            "type": "scatterpolargl"
           }
          ],
          "scatterternary": [
           {
            "marker": {
             "colorbar": {
              "outlinewidth": 0,
              "ticks": ""
             }
            },
            "type": "scatterternary"
           }
          ],
          "surface": [
           {
            "colorbar": {
             "outlinewidth": 0,
             "ticks": ""
            },
            "colorscale": [
             [
              0,
              "#0d0887"
             ],
             [
              0.1111111111111111,
              "#46039f"
             ],
             [
              0.2222222222222222,
              "#7201a8"
             ],
             [
              0.3333333333333333,
              "#9c179e"
             ],
             [
              0.4444444444444444,
              "#bd3786"
             ],
             [
              0.5555555555555556,
              "#d8576b"
             ],
             [
              0.6666666666666666,
              "#ed7953"
             ],
             [
              0.7777777777777778,
              "#fb9f3a"
             ],
             [
              0.8888888888888888,
              "#fdca26"
             ],
             [
              1,
              "#f0f921"
             ]
            ],
            "type": "surface"
           }
          ],
          "table": [
           {
            "cells": {
             "fill": {
              "color": "#EBF0F8"
             },
             "line": {
              "color": "white"
             }
            },
            "header": {
             "fill": {
              "color": "#C8D4E3"
             },
             "line": {
              "color": "white"
             }
            },
            "type": "table"
           }
          ]
         },
         "layout": {
          "annotationdefaults": {
           "arrowcolor": "#2a3f5f",
           "arrowhead": 0,
           "arrowwidth": 1
          },
          "autotypenumbers": "strict",
          "coloraxis": {
           "colorbar": {
            "outlinewidth": 0,
            "ticks": ""
           }
          },
          "colorscale": {
           "diverging": [
            [
             0,
             "#8e0152"
            ],
            [
             0.1,
             "#c51b7d"
            ],
            [
             0.2,
             "#de77ae"
            ],
            [
             0.3,
             "#f1b6da"
            ],
            [
             0.4,
             "#fde0ef"
            ],
            [
             0.5,
             "#f7f7f7"
            ],
            [
             0.6,
             "#e6f5d0"
            ],
            [
             0.7,
             "#b8e186"
            ],
            [
             0.8,
             "#7fbc41"
            ],
            [
             0.9,
             "#4d9221"
            ],
            [
             1,
             "#276419"
            ]
           ],
           "sequential": [
            [
             0,
             "#0d0887"
            ],
            [
             0.1111111111111111,
             "#46039f"
            ],
            [
             0.2222222222222222,
             "#7201a8"
            ],
            [
             0.3333333333333333,
             "#9c179e"
            ],
            [
             0.4444444444444444,
             "#bd3786"
            ],
            [
             0.5555555555555556,
             "#d8576b"
            ],
            [
             0.6666666666666666,
             "#ed7953"
            ],
            [
             0.7777777777777778,
             "#fb9f3a"
            ],
            [
             0.8888888888888888,
             "#fdca26"
            ],
            [
             1,
             "#f0f921"
            ]
           ],
           "sequentialminus": [
            [
             0,
             "#0d0887"
            ],
            [
             0.1111111111111111,
             "#46039f"
            ],
            [
             0.2222222222222222,
             "#7201a8"
            ],
            [
             0.3333333333333333,
             "#9c179e"
            ],
            [
             0.4444444444444444,
             "#bd3786"
            ],
            [
             0.5555555555555556,
             "#d8576b"
            ],
            [
             0.6666666666666666,
             "#ed7953"
            ],
            [
             0.7777777777777778,
             "#fb9f3a"
            ],
            [
             0.8888888888888888,
             "#fdca26"
            ],
            [
             1,
             "#f0f921"
            ]
           ]
          },
          "colorway": [
           "#636efa",
           "#EF553B",
           "#00cc96",
           "#ab63fa",
           "#FFA15A",
           "#19d3f3",
           "#FF6692",
           "#B6E880",
           "#FF97FF",
           "#FECB52"
          ],
          "font": {
           "color": "#2a3f5f"
          },
          "geo": {
           "bgcolor": "white",
           "lakecolor": "white",
           "landcolor": "#E5ECF6",
           "showlakes": true,
           "showland": true,
           "subunitcolor": "white"
          },
          "hoverlabel": {
           "align": "left"
          },
          "hovermode": "closest",
          "mapbox": {
           "style": "light"
          },
          "paper_bgcolor": "white",
          "plot_bgcolor": "#E5ECF6",
          "polar": {
           "angularaxis": {
            "gridcolor": "white",
            "linecolor": "white",
            "ticks": ""
           },
           "bgcolor": "#E5ECF6",
           "radialaxis": {
            "gridcolor": "white",
            "linecolor": "white",
            "ticks": ""
           }
          },
          "scene": {
           "xaxis": {
            "backgroundcolor": "#E5ECF6",
            "gridcolor": "white",
            "gridwidth": 2,
            "linecolor": "white",
            "showbackground": true,
            "ticks": "",
            "zerolinecolor": "white"
           },
           "yaxis": {
            "backgroundcolor": "#E5ECF6",
            "gridcolor": "white",
            "gridwidth": 2,
            "linecolor": "white",
            "showbackground": true,
            "ticks": "",
            "zerolinecolor": "white"
           },
           "zaxis": {
            "backgroundcolor": "#E5ECF6",
            "gridcolor": "white",
            "gridwidth": 2,
            "linecolor": "white",
            "showbackground": true,
            "ticks": "",
            "zerolinecolor": "white"
           }
          },
          "shapedefaults": {
           "line": {
            "color": "#2a3f5f"
           }
          },
          "ternary": {
           "aaxis": {
            "gridcolor": "white",
            "linecolor": "white",
            "ticks": ""
           },
           "baxis": {
            "gridcolor": "white",
            "linecolor": "white",
            "ticks": ""
           },
           "bgcolor": "#E5ECF6",
           "caxis": {
            "gridcolor": "white",
            "linecolor": "white",
            "ticks": ""
           }
          },
          "title": {
           "x": 0.05
          },
          "xaxis": {
           "automargin": true,
           "gridcolor": "white",
           "linecolor": "white",
           "ticks": "",
           "title": {
            "standoff": 15
           },
           "zerolinecolor": "white",
           "zerolinewidth": 2
          },
          "yaxis": {
           "automargin": true,
           "gridcolor": "white",
           "linecolor": "white",
           "ticks": "",
           "title": {
            "standoff": 15
           },
           "zerolinecolor": "white",
           "zerolinewidth": 2
          }
         }
        }
       }
      },
      "image/png": "[encoded data removed]",
      "text/html": [
       "<div>                            <div id=\"3446c304-8276-496b-a05a-976f004d8df7\" class=\"plotly-graph-div\" style=\"height:525px; width:100%;\"></div>            <script type=\"text/javascript\">                require([\"plotly\"], function(Plotly) {                    window.PLOTLYENV=window.PLOTLYENV || {};                                    if (document.getElementById(\"3446c304-8276-496b-a05a-976f004d8df7\")) {                    Plotly.newPlot(                        \"3446c304-8276-496b-a05a-976f004d8df7\",                        [{\"hovertemplate\":\"f_1=%{x}\\u003cbr\\u003ef_2=%{y}\\u003cbr\\u003ef_3=%{z}\\u003cextra\\u003e\\u003c\\u002fextra\\u003e\",\"legendgroup\":\"\",\"marker\":{\"color\":\"#636efa\",\"symbol\":\"circle\"},\"mode\":\"markers\",\"name\":\"\",\"scene\":\"scene\",\"showlegend\":false,\"x\":[0.0,0.0,0.0,0.0,0.0,0.0,0.0,0.0,0.0,0.0,0.0,0.0,0.0,0.09053574604251853,0.09901475429766741,0.10783277320343841,0.11624763874381927,0.12309149097933271,0.1270001270001905,0.1270001270001905,0.12309149097933271,0.11624763874381927,0.10783277320343841,0.09901475429766741,0.09053574604251853,0.19611613513818402,0.21566554640687682,0.2357022603955158,0.25400025400038095,0.2672612419124244,0.2721655269759087,0.2672612419124244,0.25400025400038095,0.2357022603955158,0.21566554640687682,0.19611613513818402,0.31622776601683794,0.34874291623145787,0.38100038100057143,0.4082482904638631,0.4242640687119285,0.4242640687119285,0.4082482904638631,0.38100038100057143,0.34874291623145787,0.31622776601683794,0.4472135954999579,0.49236596391733084,0.5345224838248488,0.565685424949238,0.5773502691896257,0.565685424949238,0.5345224838248488,0.49236596391733084,0.4472135954999579,0.5812381937190965,0.6350006350009526,0.6804138174397718,0.7071067811865476,0.7071067811865476,0.6804138174397717,0.6350006350009526,0.5812381937190965,0.7071067811865475,0.7620007620011431,0.8017837257372732,0.8164965809277261,0.8017837257372732,0.7620007620011431,0.7071067811865475,0.813733471206735,0.8616404368553291,0.8890008890013334,0.8890008890013334,0.8616404368553291,0.813733471206735,0.8944271909999159,0.9299811099505542,0.9428090415820632,0.9299811099505542,0.8944271909999159,0.9486832980505138,0.9704949588309457,0.9704949588309457,0.9486832980505138,0.9805806756909202,0.9901475429766743,0.9805806756909202,0.995893206467704,0.995893206467704,1.0],\"y\":[0.0,0.09053574604251853,0.19611613513818402,0.31622776601683794,0.4472135954999579,0.5812381937190965,0.7071067811865475,0.813733471206735,0.8944271909999159,0.9486832980505138,0.9805806756909202,0.995893206467704,1.0,0.0,0.09901475429766741,0.21566554640687682,0.34874291623145787,0.49236596391733084,0.6350006350009526,0.7620007620011431,0.8616404368553291,0.9299811099505542,0.9704949588309457,0.9901475429766743,0.995893206467704,0.0,0.10783277320343841,0.2357022603955158,0.38100038100057143,0.5345224838248488,0.6804138174397718,0.8017837257372732,0.8890008890013334,0.9428090415820632,0.9704949588309457,0.9805806756909202,0.0,0.11624763874381927,0.25400025400038095,0.4082482904638631,0.565685424949238,0.7071067811865476,0.8164965809277261,0.8890008890013334,0.9299811099505542,0.9486832980505138,0.0,0.12309149097933271,0.2672612419124244,0.4242640687119285,0.5773502691896257,0.7071067811865476,0.8017837257372732,0.8616404368553291,0.8944271909999159,0.0,0.1270001270001905,0.2721655269759087,0.4242640687119285,0.565685424949238,0.6804138174397717,0.7620007620011431,0.813733471206735,0.0,0.1270001270001905,0.2672612419124244,0.4082482904638631,0.5345224838248488,0.6350006350009526,0.7071067811865475,0.0,0.12309149097933271,0.25400025400038095,0.38100038100057143,0.49236596391733084,0.5812381937190965,0.0,0.11624763874381927,0.2357022603955158,0.34874291623145787,0.4472135954999579,0.0,0.10783277320343841,0.21566554640687682,0.31622776601683794,0.0,0.09901475429766741,0.19611613513818402,0.0,0.09053574604251853,0.0],\"z\":[1.0,0.995893206467704,0.9805806756909202,0.9486832980505138,0.8944271909999159,0.813733471206735,0.7071067811865475,0.5812381937190965,0.4472135954999579,0.31622776601683794,0.19611613513818402,0.09053574604251853,0.0,0.995893206467704,0.9901475429766743,0.9704949588309457,0.9299811099505542,0.8616404368553291,0.7620007620011431,0.6350006350009526,0.49236596391733084,0.34874291623145787,0.21566554640687682,0.09901475429766741,0.0,0.9805806756909202,0.9704949588309457,0.9428090415820632,0.8890008890013334,0.8017837257372732,0.6804138174397718,0.5345224838248488,0.38100038100057143,0.2357022603955158,0.10783277320343841,0.0,0.9486832980505138,0.9299811099505542,0.8890008890013334,0.8164965809277261,0.7071067811865476,0.565685424949238,0.4082482904638631,0.25400025400038095,0.11624763874381927,0.0,0.8944271909999159,0.8616404368553291,0.8017837257372732,0.7071067811865476,0.5773502691896257,0.4242640687119285,0.2672612419124244,0.12309149097933271,0.0,0.813733471206735,0.7620007620011431,0.6804138174397718,0.565685424949238,0.4242640687119285,0.2721655269759086,0.1270001270001905,0.0,0.7071067811865475,0.6350006350009526,0.5345224838248488,0.4082482904638631,0.2672612419124244,0.1270001270001905,0.0,0.5812381937190965,0.49236596391733084,0.38100038100057143,0.25400025400038095,0.12309149097933271,0.0,0.4472135954999579,0.34874291623145787,0.2357022603955158,0.11624763874381927,0.0,0.31622776601683794,0.21566554640687682,0.10783277320343841,0.0,0.19611613513818402,0.09901475429766741,0.0,0.09053574604251853,0.0,0.0],\"type\":\"scatter3d\"},{\"marker\":{\"size\":5,\"symbol\":\"x\"},\"mode\":\"markers\",\"name\":\"group_nimbus\",\"showlegend\":true,\"x\":[0.3684326025012598],\"y\":[0.8535308048014998],\"z\":[0.3684326026141725],\"type\":\"scatter3d\"},{\"marker\":{\"size\":5,\"symbol\":\"x\"},\"mode\":\"markers\",\"name\":\"gstom\",\"showlegend\":true,\"x\":[-1.3214398403123894e-08],\"y\":[0.9999999999999998],\"z\":[-1.3234075331643097e-08],\"type\":\"scatter3d\"},{\"marker\":{\"size\":5,\"symbol\":\"x\"},\"mode\":\"markers\",\"name\":\"gasf\",\"showlegend\":true,\"x\":[0.30332229109326425],\"y\":[0.9033222989233354],\"z\":[0.3033222906312579],\"type\":\"scatter3d\"},{\"marker\":{\"size\":5,\"symbol\":\"x\"},\"mode\":\"markers\",\"name\":\"gguess\",\"showlegend\":true,\"x\":[0.9999999999999998],\"y\":[-1.3202083146926173e-08],\"z\":[-1.3202067291775593e-08],\"type\":\"scatter3d\"}],                        {\"template\":{\"data\":{\"histogram2dcontour\":[{\"type\":\"histogram2dcontour\",\"colorbar\":{\"outlinewidth\":0,\"ticks\":\"\"},\"colorscale\":[[0.0,\"#0d0887\"],[0.1111111111111111,\"#46039f\"],[0.2222222222222222,\"#7201a8\"],[0.3333333333333333,\"#9c179e\"],[0.4444444444444444,\"#bd3786\"],[0.5555555555555556,\"#d8576b\"],[0.6666666666666666,\"#ed7953\"],[0.7777777777777778,\"#fb9f3a\"],[0.8888888888888888,\"#fdca26\"],[1.0,\"#f0f921\"]]}],\"choropleth\":[{\"type\":\"choropleth\",\"colorbar\":{\"outlinewidth\":0,\"ticks\":\"\"}}],\"histogram2d\":[{\"type\":\"histogram2d\",\"colorbar\":{\"outlinewidth\":0,\"ticks\":\"\"},\"colorscale\":[[0.0,\"#0d0887\"],[0.1111111111111111,\"#46039f\"],[0.2222222222222222,\"#7201a8\"],[0.3333333333333333,\"#9c179e\"],[0.4444444444444444,\"#bd3786\"],[0.5555555555555556,\"#d8576b\"],[0.6666666666666666,\"#ed7953\"],[0.7777777777777778,\"#fb9f3a\"],[0.8888888888888888,\"#fdca26\"],[1.0,\"#f0f921\"]]}],\"heatmap\":[{\"type\":\"heatmap\",\"colorbar\":{\"outlinewidth\":0,\"ticks\":\"\"},\"colorscale\":[[0.0,\"#0d0887\"],[0.1111111111111111,\"#46039f\"],[0.2222222222222222,\"#7201a8\"],[0.3333333333333333,\"#9c179e\"],[0.4444444444444444,\"#bd3786\"],[0.5555555555555556,\"#d8576b\"],[0.6666666666666666,\"#ed7953\"],[0.7777777777777778,\"#fb9f3a\"],[0.8888888888888888,\"#fdca26\"],[1.0,\"#f0f921\"]]}],\"heatmapgl\":[{\"type\":\"heatmapgl\",\"colorbar\":{\"outlinewidth\":0,\"ticks\":\"\"},\"colorscale\":[[0.0,\"#0d0887\"],[0.1111111111111111,\"#46039f\"],[0.2222222222222222,\"#7201a8\"],[0.3333333333333333,\"#9c179e\"],[0.4444444444444444,\"#bd3786\"],[0.5555555555555556,\"#d8576b\"],[0.6666666666666666,\"#ed7953\"],[0.7777777777777778,\"#fb9f3a\"],[0.8888888888888888,\"#fdca26\"],[1.0,\"#f0f921\"]]}],\"contourcarpet\":[{\"type\":\"contourcarpet\",\"colorbar\":{\"outlinewidth\":0,\"ticks\":\"\"}}],\"contour\":[{\"type\":\"contour\",\"colorbar\":{\"outlinewidth\":0,\"ticks\":\"\"},\"colorscale\":[[0.0,\"#0d0887\"],[0.1111111111111111,\"#46039f\"],[0.2222222222222222,\"#7201a8\"],[0.3333333333333333,\"#9c179e\"],[0.4444444444444444,\"#bd3786\"],[0.5555555555555556,\"#d8576b\"],[0.6666666666666666,\"#ed7953\"],[0.7777777777777778,\"#fb9f3a\"],[0.8888888888888888,\"#fdca26\"],[1.0,\"#f0f921\"]]}],\"surface\":[{\"type\":\"surface\",\"colorbar\":{\"outlinewidth\":0,\"ticks\":\"\"},\"colorscale\":[[0.0,\"#0d0887\"],[0.1111111111111111,\"#46039f\"],[0.2222222222222222,\"#7201a8\"],[0.3333333333333333,\"#9c179e\"],[0.4444444444444444,\"#bd3786\"],[0.5555555555555556,\"#d8576b\"],[0.6666666666666666,\"#ed7953\"],[0.7777777777777778,\"#fb9f3a\"],[0.8888888888888888,\"#fdca26\"],[1.0,\"#f0f921\"]]}],\"mesh3d\":[{\"type\":\"mesh3d\",\"colorbar\":{\"outlinewidth\":0,\"ticks\":\"\"}}],\"scatter\":[{\"fillpattern\":{\"fillmode\":\"overlay\",\"size\":10,\"solidity\":0.2},\"type\":\"scatter\"}],\"parcoords\":[{\"type\":\"parcoords\",\"line\":{\"colorbar\":{\"outlinewidth\":0,\"ticks\":\"\"}}}],\"scatterpolargl\":[{\"type\":\"scatterpolargl\",\"marker\":{\"colorbar\":{\"outlinewidth\":0,\"ticks\":\"\"}}}],\"bar\":[{\"error_x\":{\"color\":\"#2a3f5f\"},\"error_y\":{\"color\":\"#2a3f5f\"},\"marker\":{\"line\":{\"color\":\"#E5ECF6\",\"width\":0.5},\"pattern\":{\"fillmode\":\"overlay\",\"size\":10,\"solidity\":0.2}},\"type\":\"bar\"}],\"scattergeo\":[{\"type\":\"scattergeo\",\"marker\":{\"colorbar\":{\"outlinewidth\":0,\"ticks\":\"\"}}}],\"scatterpolar\":[{\"type\":\"scatterpolar\",\"marker\":{\"colorbar\":{\"outlinewidth\":0,\"ticks\":\"\"}}}],\"histogram\":[{\"marker\":{\"pattern\":{\"fillmode\":\"overlay\",\"size\":10,\"solidity\":0.2}},\"type\":\"histogram\"}],\"scattergl\":[{\"type\":\"scattergl\",\"marker\":{\"colorbar\":{\"outlinewidth\":0,\"ticks\":\"\"}}}],\"scatter3d\":[{\"type\":\"scatter3d\",\"line\":{\"colorbar\":{\"outlinewidth\":0,\"ticks\":\"\"}},\"marker\":{\"colorbar\":{\"outlinewidth\":0,\"ticks\":\"\"}}}],\"scattermapbox\":[{\"type\":\"scattermapbox\",\"marker\":{\"colorbar\":{\"outlinewidth\":0,\"ticks\":\"\"}}}],\"scatterternary\":[{\"type\":\"scatterternary\",\"marker\":{\"colorbar\":{\"outlinewidth\":0,\"ticks\":\"\"}}}],\"scattercarpet\":[{\"type\":\"scattercarpet\",\"marker\":{\"colorbar\":{\"outlinewidth\":0,\"ticks\":\"\"}}}],\"carpet\":[{\"aaxis\":{\"endlinecolor\":\"#2a3f5f\",\"gridcolor\":\"white\",\"linecolor\":\"white\",\"minorgridcolor\":\"white\",\"startlinecolor\":\"#2a3f5f\"},\"baxis\":{\"endlinecolor\":\"#2a3f5f\",\"gridcolor\":\"white\",\"linecolor\":\"white\",\"minorgridcolor\":\"white\",\"startlinecolor\":\"#2a3f5f\"},\"type\":\"carpet\"}],\"table\":[{\"cells\":{\"fill\":{\"color\":\"#EBF0F8\"},\"line\":{\"color\":\"white\"}},\"header\":{\"fill\":{\"color\":\"#C8D4E3\"},\"line\":{\"color\":\"white\"}},\"type\":\"table\"}],\"barpolar\":[{\"marker\":{\"line\":{\"color\":\"#E5ECF6\",\"width\":0.5},\"pattern\":{\"fillmode\":\"overlay\",\"size\":10,\"solidity\":0.2}},\"type\":\"barpolar\"}],\"pie\":[{\"automargin\":true,\"type\":\"pie\"}]},\"layout\":{\"autotypenumbers\":\"strict\",\"colorway\":[\"#636efa\",\"#EF553B\",\"#00cc96\",\"#ab63fa\",\"#FFA15A\",\"#19d3f3\",\"#FF6692\",\"#B6E880\",\"#FF97FF\",\"#FECB52\"],\"font\":{\"color\":\"#2a3f5f\"},\"hovermode\":\"closest\",\"hoverlabel\":{\"align\":\"left\"},\"paper_bgcolor\":\"white\",\"plot_bgcolor\":\"#E5ECF6\",\"polar\":{\"bgcolor\":\"#E5ECF6\",\"angularaxis\":{\"gridcolor\":\"white\",\"linecolor\":\"white\",\"ticks\":\"\"},\"radialaxis\":{\"gridcolor\":\"white\",\"linecolor\":\"white\",\"ticks\":\"\"}},\"ternary\":{\"bgcolor\":\"#E5ECF6\",\"aaxis\":{\"gridcolor\":\"white\",\"linecolor\":\"white\",\"ticks\":\"\"},\"baxis\":{\"gridcolor\":\"white\",\"linecolor\":\"white\",\"ticks\":\"\"},\"caxis\":{\"gridcolor\":\"white\",\"linecolor\":\"white\",\"ticks\":\"\"}},\"coloraxis\":{\"colorbar\":{\"outlinewidth\":0,\"ticks\":\"\"}},\"colorscale\":{\"sequential\":[[0.0,\"#0d0887\"],[0.1111111111111111,\"#46039f\"],[0.2222222222222222,\"#7201a8\"],[0.3333333333333333,\"#9c179e\"],[0.4444444444444444,\"#bd3786\"],[0.5555555555555556,\"#d8576b\"],[0.6666666666666666,\"#ed7953\"],[0.7777777777777778,\"#fb9f3a\"],[0.8888888888888888,\"#fdca26\"],[1.0,\"#f0f921\"]],\"sequentialminus\":[[0.0,\"#0d0887\"],[0.1111111111111111,\"#46039f\"],[0.2222222222222222,\"#7201a8\"],[0.3333333333333333,\"#9c179e\"],[0.4444444444444444,\"#bd3786\"],[0.5555555555555556,\"#d8576b\"],[0.6666666666666666,\"#ed7953\"],[0.7777777777777778,\"#fb9f3a\"],[0.8888888888888888,\"#fdca26\"],[1.0,\"#f0f921\"]],\"diverging\":[[0,\"#8e0152\"],[0.1,\"#c51b7d\"],[0.2,\"#de77ae\"],[0.3,\"#f1b6da\"],[0.4,\"#fde0ef\"],[0.5,\"#f7f7f7\"],[0.6,\"#e6f5d0\"],[0.7,\"#b8e186\"],[0.8,\"#7fbc41\"],[0.9,\"#4d9221\"],[1,\"#276419\"]]},\"xaxis\":{\"gridcolor\":\"white\",\"linecolor\":\"white\",\"ticks\":\"\",\"title\":{\"standoff\":15},\"zerolinecolor\":\"white\",\"automargin\":true,\"zerolinewidth\":2},\"yaxis\":{\"gridcolor\":\"white\",\"linecolor\":\"white\",\"ticks\":\"\",\"title\":{\"standoff\":15},\"zerolinecolor\":\"white\",\"automargin\":true,\"zerolinewidth\":2},\"scene\":{\"xaxis\":{\"backgroundcolor\":\"#E5ECF6\",\"gridcolor\":\"white\",\"linecolor\":\"white\",\"showbackground\":true,\"ticks\":\"\",\"zerolinecolor\":\"white\",\"gridwidth\":2},\"yaxis\":{\"backgroundcolor\":\"#E5ECF6\",\"gridcolor\":\"white\",\"linecolor\":\"white\",\"showbackground\":true,\"ticks\":\"\",\"zerolinecolor\":\"white\",\"gridwidth\":2},\"zaxis\":{\"backgroundcolor\":\"#E5ECF6\",\"gridcolor\":\"white\",\"linecolor\":\"white\",\"showbackground\":true,\"ticks\":\"\",\"zerolinecolor\":\"white\",\"gridwidth\":2}},\"shapedefaults\":{\"line\":{\"color\":\"#2a3f5f\"}},\"annotationdefaults\":{\"arrowcolor\":\"#2a3f5f\",\"arrowhead\":0,\"arrowwidth\":1},\"geo\":{\"bgcolor\":\"white\",\"landcolor\":\"#E5ECF6\",\"subunitcolor\":\"white\",\"showland\":true,\"showlakes\":true,\"lakecolor\":\"white\"},\"title\":{\"x\":0.05},\"mapbox\":{\"style\":\"light\"}}},\"scene\":{\"domain\":{\"x\":[0.0,1.0],\"y\":[0.0,1.0]},\"xaxis\":{\"title\":{\"text\":\"f_1\"}},\"yaxis\":{\"title\":{\"text\":\"f_2\"}},\"zaxis\":{\"title\":{\"text\":\"f_3\"}}},\"legend\":{\"tracegroupgap\":0},\"margin\":{\"t\":60}},                        {\"responsive\": true}                    ).then(function(){\n",
       "                            \n",
       "var gd = document.getElementById('3446c304-8276-496b-a05a-976f004d8df7');\n",
       "var x = new MutationObserver(function (mutations, observer) {{\n",
       "        var display = window.getComputedStyle(gd).display;\n",
       "        if (!display || display === 'none') {{\n",
       "            console.log([gd, 'removed!']);\n",
       "            Plotly.purge(gd);\n",
       "            observer.disconnect();\n",
       "        }}\n",
       "}});\n",
       "\n",
       "// Listen for the removal of the full notebook cells\n",
       "var notebookContainer = gd.closest('#notebook-container');\n",
       "if (notebookContainer) {{\n",
       "    x.observe(notebookContainer, {childList: true});\n",
       "}}\n",
       "\n",
       "// Listen for the clearing of the current output cell\n",
       "var outputEl = gd.closest('.output');\n",
       "if (outputEl) {{\n",
       "    x.observe(outputEl, {childList: true});\n",
       "}}\n",
       "\n",
       "                        })                };                });            </script>        </div>"
      ]
     },
     "metadata": {},
     "output_type": "display_data"
    }
   ],
   "source": [
    "from pymoo.problems import get_problem\n",
    "import plotly.express as px\n",
    "import plotly.graph_objects as go\n",
    "\n",
    "import pandas as pd\n",
    "from pymoo.util.plotting import plot\n",
    "from pymoo.util.ref_dirs import get_reference_directions\n",
    "from pymoo.visualization.scatter import Scatter\n",
    "\n",
    "ref_dirs = get_reference_directions(\"das-dennis\", 3, n_partitions=12)\n",
    "\n",
    "pf = get_problem(\"dtlz2\").pareto_front(ref_dirs)\n",
    "#PF = [dict(zip(keys, row)) for row in pf]\n",
    "\n",
    "solutions = [gnimbus, gstom, gasf, gguess]\n",
    "\n",
    "keys = [\"f_1\", \"f_2\", \"f_3\"]\n",
    "namelist = [\"group_nimbus\", \"gstom\", \"gasf\", \"gguess\"]\n",
    "\n",
    "visu_3d(pf, solutions, keys, namelist)"
   ]
  },
  {
   "cell_type": "code",
   "execution_count": 67,
   "id": "0a38cb89-142f-45ce-afb6-3bde7cb9d547",
   "metadata": {},
   "outputs": [],
   "source": [
    "def visu_3d(pymoo_problem_pf, solutions, keys, names):\n",
    "    all_solutions = {\n",
    "        \"f_1\": [s[keys[0]] for s in solutions],\n",
    "        \"f_2\": [s[keys[1]] for s in solutions],\n",
    "        \"f_3\": [s[keys[2]] for s in solutions],\n",
    "        \"names\": namelist,\n",
    "    }\n",
    "    all_solutions = pd.DataFrame(all_solutions, columns=[keys[0],keys[1],keys[2], \"names\"])\n",
    "    PF = [dict(zip(keys, row)) for row in pymoo_problem_pf]\n",
    "    fig = px.scatter_3d(PF, x=keys[0], y=keys[1],z=keys[2])\n",
    "    # TODO: figure out the marker styles better\n",
    "    #fig.add_scatter(x=[cip[0]], y=[cip[1]], mode=\"markers\", name=\"CIP\", showlegend=True, marker=dict(size=15, symbol=\"star\"))\n",
    "    #fig.add_scatter(x=[ideal[0]], y=[ideal[1]], mode=\"markers\", name=\"ideal\", showlegend=True, marker=dict(size=15, symbol=\"star\"))\n",
    "    # fig.update_traces(marker=dict(size=15, symbol=\"star\"))\n",
    "    # plot RPs\n",
    "    #for i in range(len(rp_arr)):\n",
    "    #    fig.add_scatter(x=[rp_arr[i][0]], y=[rp_arr[i][1]], mode=\"markers\", name=f\"DM{i+1}_RP\", showlegend=True, marker=dict(size=15, symbol=\"x\"))\n",
    "\n",
    "    # PLOT GRP\n",
    "    #fig.add_scatter(x=[meanGRP_arr[0]], y=[meanGRP_arr[1]], mode=\"markers\", name=\"GRP_mean\", showlegend=True, marker=dict(size=15, symbol=\"diamond\"))\n",
    "    #fig.add_scatter(x=[grpmm_ext[0]], y=[grpmm_ext[1]], mode=\"markers\", name=\"GRP_mm_ext\", showlegend=True, marker=dict(size=15, symbol=\"cross\"))\n",
    "    #fig.add_scatter(x=[grpmm[0]], y=[grpmm[1]], mode=\"markers\", name=\"GRP_mm\", showlegend=True, marker=dict(size=15, symbol=\"diamond-tall\"))\n",
    "    #fig.add_scatter(x=[grpcones[0]], y=[grpcones[1]], mode=\"markers\", name=\"GRP-cones\", showlegend=True, marker=dict(size=15, symbol=\"diamond-wide\"))\n",
    "    # fig.update_traces(marker=dict(size=15, symbol=\"x\"))\n",
    "    # fig.update_traces(marker=dict(size=15, symbol=\"star\"))\n",
    "    # fig.update_traces(marker=dict(size=15))\n",
    "    # PLOT results\n",
    "    # fig.add_scatter(all_solutions,  x=all_solutions.f_1, y=all_solutions.f_2, mode=\"markers\", name=all_solutions.names ,showlegend=True)\n",
    "    for i in range(len(namelist)):\n",
    "        fig.add_trace(go.Scatter3d(x=[all_solutions[\"f_1\"][i]], y=[all_solutions[\"f_2\"][i]], z=[all_solutions[\"f_3\"][i]],mode=\"markers\",\n",
    "                        name=all_solutions.names[i], showlegend=True, marker=dict(size=5, symbol=\"x\")))\n",
    "\n",
    "    # fig.add_scatter(all_solutions, x=\"f_1\", y=\"f_2\", mode=\"markers\", name=\"ASF\",showlegend=True)\n",
    "    # fig.add_scatter(all_solutions, x=\"f_1\", y=\"f_2\", mode=\"markers\", name=\"ASF\",showlegend=True)\n",
    "    # fig.add_traces(all_solutions)\n",
    "    # fig.update_traces(marker=dict(size=15))\n",
    "    # fig.update_traces(marker=dict(size=15, symbol=\"x\"))\n",
    "\n",
    "\n",
    "    fig.show()"
   ]
  },
  {
   "cell_type": "markdown",
   "id": "2707661c-a987-467a-a885-649372f7b4f2",
   "metadata": {},
   "source": [
    "### 3. select the next current iteration point by voting procedure"
   ]
  },
  {
   "cell_type": "code",
   "execution_count": 21,
   "id": "79ee90c3-102e-4bb7-805a-7e036775ef91",
   "metadata": {},
   "outputs": [
    {
     "name": "stdout",
     "output_type": "stream",
     "text": [
      "Majority winner 2\n",
      "next current solution: {'f_1': 0.30332229109326425, 'f_2': 0.9033222989233354, 'f_3': 0.3033222906312579}\n"
     ]
    }
   ],
   "source": [
    "votes_idxs = {\n",
    "        \"DM1\": 1,\n",
    "        \"DM2\": 2,\n",
    "        \"DM3\": 2,\n",
    "}\n",
    "res = voting_procedure(problem, solutions, votes_idxs)\n",
    "next_current_solution = res.optimal_objectives\n",
    "print(\"next current solution:\", next_current_solution)"
   ]
  },
  {
   "cell_type": "code",
   "execution_count": 12,
   "id": "fb740351-9cad-49a7-8e12-9e33e4f72066",
   "metadata": {},
   "outputs": [
    {
     "name": "stdout",
     "output_type": "stream",
     "text": [
      "current solution: {'f_1': 0.3850981799798765, 'f_2': 0.6000000070543984, 'f_3': 0.701212794600119}\n"
     ]
    }
   ],
   "source": [
    "# select the next current iteration point\n",
    "#current_it = gnimbus\n",
    "#print(f\"current solution: {current_it}\")"
   ]
  },
  {
   "cell_type": "code",
   "execution_count": 12,
   "id": "20cd0dc6-afa5-4b0e-b486-870be53dc4de",
   "metadata": {},
   "outputs": [],
   "source": [
    "# for other iterations\n",
    "dms_rps = {\n",
    "    \"DM1\": {\"f_1\": 0.3, \"f_2\": 0.6, \"f_3\": 1},\n",
    "    \"DM2\": {\"f_1\": 0.3, \"f_2\": 0.9, \"f_3\": 0.5},\n",
    "    \"DM3\": {\"f_1\": 0.4, \"f_2\": 0.7, \"f_3\": 0.4},\n",
    "}"
   ]
  },
  {
   "cell_type": "markdown",
   "id": "ee7c86f9-a9f4-4dde-a4b5-360860ff3917",
   "metadata": {},
   "source": [
    "### Go back to step 4 or move to decision phase"
   ]
  },
  {
   "cell_type": "markdown",
   "id": "19f5d5a8-9b60-4ee8-b85e-cf07b8e7dcb8",
   "metadata": {},
   "source": [
    "# \"Decision phase\""
   ]
  },
  {
   "cell_type": "code",
   "execution_count": 26,
   "id": "42526abf-9ee3-4226-a6dd-59157544cb08",
   "metadata": {},
   "outputs": [],
   "source": [
    "# for other iterations\n",
    "dms_rps = {\n",
    "    \"DM1\": {\"f_1\": 0.3, \"f_2\": 0.6, \"f_3\": 1},\n",
    "    \"DM2\": {\"f_1\": 0.3, \"f_2\": 0.2, \"f_3\": 0.5},\n",
    "    \"DM3\": {\"f_1\": 0.4, \"f_2\": 0.1, \"f_3\": 0.4},\n",
    "}"
   ]
  },
  {
   "cell_type": "markdown",
   "id": "bcf45d21-4b8a-4b70-ac26-2bfa85ff57e6",
   "metadata": {},
   "source": [
    "### let us only propose one solution found by group nimbus which respects each DMs bounds."
   ]
  },
  {
   "cell_type": "code",
   "execution_count": 27,
   "id": "7d0ee714-7345-4f7b-ba9e-8fb5fe603568",
   "metadata": {},
   "outputs": [
    {
     "name": "stdout",
     "output_type": "stream",
     "text": [
      "RPS {'f_1': 0.3, 'f_2': 0.6, 'f_3': 1}\n",
      "RPS {'f_1': 0.3, 'f_2': 0.2, 'f_3': 0.5}\n",
      "RPS {'f_1': 0.4, 'f_2': 0.1, 'f_3': 0.4}\n",
      "Final solution candidate: {'f_1': 0.3033222916409733, 'f_2': 0.8648673756862045, 'f_3': 0.400000012334157}\n"
     ]
    }
   ],
   "source": [
    "num_desired = 1 \n",
    "solutions = solve_sub_problems(\n",
    "    problem, next_current_solution, dms_rps, num_desired, False, create_solver=PyomoIpoptSolver, solver_options=solver_options\n",
    ")\n",
    "gnimbus_solution = solutions[0].optimal_objectives\n",
    "print(\"Final solution candidate:\", gnimbus_solution)"
   ]
  },
  {
   "cell_type": "markdown",
   "id": "03406033-6fa7-4710-8aca-a3761d801097",
   "metadata": {},
   "source": [
    "# Ask if the DMs agree upon the final solution. Otherwise go to group discussion."
   ]
  },
  {
   "cell_type": "markdown",
   "id": "c25afa7c-35b8-4408-b841-ff8b50d32bbd",
   "metadata": {},
   "source": [
    "# Group discussion:\n",
    "- give DMs information about the state; what is achievable and what is not, unless preferences are changed. explain why not moving etc.\n",
    "- Nudge or ask DMs to adjust their preferences to find better suiting solutions for the group.\n",
    "- Finally, set next_current_solution to gnimbus_solution and go back to DMs giving preferences for the next iteration"
   ]
  },
  {
   "cell_type": "code",
   "execution_count": 25,
   "id": "2b94c256-7ad9-4ea4-9d98-b59d8a5322c1",
   "metadata": {},
   "outputs": [],
   "source": [
    "next_current_solution = gnimbus_solution"
   ]
  },
  {
   "cell_type": "code",
   "execution_count": 33,
   "id": "38b611c2-2b12-440e-b6f5-51992f8343dc",
   "metadata": {},
   "outputs": [
    {
     "name": "stdout",
     "output_type": "stream",
     "text": [
      "3422.75801\n",
      "834.9086809\n",
      "74114.92657\n",
      "0.0\n",
      "91494.0437\n",
      "70547.89613\n"
     ]
    },
    {
     "ename": "ColumnNotFoundError",
     "evalue": "_alpha\n\nResolved plan until failure:\n\n\t---> FAILED HERE RESOLVING 'select' <---\nDF [\"index\", \"stock\", \"harvest_value\", \"npv\"]; PROJECT */7 COLUMNS; SELECTION: None",
     "output_type": "error",
     "traceback": [
      "\u001b[0;31m---------------------------------------------------------------------------\u001b[0m",
      "\u001b[0;31mColumnNotFoundError\u001b[0m                       Traceback (most recent call last)",
      "Cell \u001b[0;32mIn[33], line 16\u001b[0m\n\u001b[1;32m     10\u001b[0m initial_rp \u001b[38;5;241m=\u001b[39m {\n\u001b[1;32m     11\u001b[0m     \u001b[38;5;124m\"\u001b[39m\u001b[38;5;124mstock\u001b[39m\u001b[38;5;124m\"\u001b[39m: \u001b[38;5;241m1000\u001b[39m,\n\u001b[1;32m     12\u001b[0m     \u001b[38;5;124m\"\u001b[39m\u001b[38;5;124mharvest_value\u001b[39m\u001b[38;5;124m\"\u001b[39m: \u001b[38;5;241m1000\u001b[39m,\n\u001b[1;32m     13\u001b[0m     \u001b[38;5;124m\"\u001b[39m\u001b[38;5;124mnpv\u001b[39m\u001b[38;5;124m\"\u001b[39m: \u001b[38;5;241m80000\u001b[39m,\n\u001b[1;32m     14\u001b[0m }\n\u001b[1;32m     15\u001b[0m \u001b[38;5;66;03m# get some initial solution\u001b[39;00m\n\u001b[0;32m---> 16\u001b[0m initial_result \u001b[38;5;241m=\u001b[39m \u001b[43mgenerate_starting_point\u001b[49m\u001b[43m(\u001b[49m\u001b[43mforest_problem\u001b[49m\u001b[43m,\u001b[49m\u001b[43m \u001b[49m\u001b[43minitial_rp\u001b[49m\u001b[43m)\u001b[49m\n\u001b[1;32m     18\u001b[0m next_current_solution \u001b[38;5;241m=\u001b[39m initial_result\u001b[38;5;241m.\u001b[39moptimal_objectives\n\u001b[1;32m     19\u001b[0m \u001b[38;5;66;03m# ITERATION LOOP FOR LEARNING PHASE\u001b[39;00m\n",
      "File \u001b[0;32m~/tyot/mop/desdeo/DESDEO/desdeo/mcdm/nimbus.py:409\u001b[0m, in \u001b[0;36mgenerate_starting_point\u001b[0;34m(problem, reference_point, scalarization_options, solver, solver_options)\u001b[0m\n\u001b[1;32m    406\u001b[0m \u001b[38;5;28;01melse\u001b[39;00m:\n\u001b[1;32m    407\u001b[0m     asf_solver \u001b[38;5;241m=\u001b[39m init_solver(problem_w_asf)\n\u001b[0;32m--> 409\u001b[0m \u001b[38;5;28;01mreturn\u001b[39;00m \u001b[43masf_solver\u001b[49m\u001b[38;5;241;43m.\u001b[39;49m\u001b[43msolve\u001b[49m\u001b[43m(\u001b[49m\u001b[43masf_target\u001b[49m\u001b[43m)\u001b[49m\n",
      "File \u001b[0;32m~/tyot/mop/desdeo/DESDEO/desdeo/tools/proximal_solver.py:56\u001b[0m, in \u001b[0;36mProximalSolver.solve\u001b[0;34m(self, target)\u001b[0m\n\u001b[1;32m     47\u001b[0m \u001b[38;5;28;01mdef\u001b[39;00m \u001b[38;5;21msolve\u001b[39m(\u001b[38;5;28mself\u001b[39m, target: \u001b[38;5;28mstr\u001b[39m) \u001b[38;5;241m-\u001b[39m\u001b[38;5;241m>\u001b[39m SolverResults:\n\u001b[1;32m     48\u001b[0m \u001b[38;5;250m    \u001b[39m\u001b[38;5;124;03m\"\"\"Solve the problem for the given target.\u001b[39;00m\n\u001b[1;32m     49\u001b[0m \n\u001b[1;32m     50\u001b[0m \u001b[38;5;124;03m    Args:\u001b[39;00m\n\u001b[0;32m   (...)\u001b[0m\n\u001b[1;32m     54\u001b[0m \u001b[38;5;124;03m        SolverResults: the results fo the optimization.\u001b[39;00m\n\u001b[1;32m     55\u001b[0m \u001b[38;5;124;03m    \"\"\"\u001b[39;00m\n\u001b[0;32m---> 56\u001b[0m     results_df \u001b[38;5;241m=\u001b[39m \u001b[38;5;28;43mself\u001b[39;49m\u001b[38;5;241;43m.\u001b[39;49m\u001b[43mevaluator\u001b[49m\u001b[38;5;241;43m.\u001b[39;49m\u001b[43mevaluate\u001b[49m\u001b[43m(\u001b[49m\u001b[43m)\u001b[49m\n\u001b[1;32m     58\u001b[0m     \u001b[38;5;66;03m# check constraint values if problem has constraints\u001b[39;00m\n\u001b[1;32m     59\u001b[0m     \u001b[38;5;28;01mif\u001b[39;00m \u001b[38;5;28mself\u001b[39m\u001b[38;5;241m.\u001b[39mproblem\u001b[38;5;241m.\u001b[39mconstraints \u001b[38;5;129;01mis\u001b[39;00m \u001b[38;5;129;01mnot\u001b[39;00m \u001b[38;5;28;01mNone\u001b[39;00m:\n",
      "File \u001b[0;32m~/tyot/mop/desdeo/DESDEO/desdeo/problem/evaluator.py:502\u001b[0m, in \u001b[0;36mPolarsEvaluator._from_discrete_data\u001b[0;34m(self)\u001b[0m\n\u001b[1;32m    500\u001b[0m \u001b[38;5;66;03m# Evaluate any constraints and put the results in the aggregate dataframe\u001b[39;00m\n\u001b[1;32m    501\u001b[0m \u001b[38;5;28;01mif\u001b[39;00m \u001b[38;5;28mself\u001b[39m\u001b[38;5;241m.\u001b[39mconstraint_expressions \u001b[38;5;129;01mis\u001b[39;00m \u001b[38;5;129;01mnot\u001b[39;00m \u001b[38;5;28;01mNone\u001b[39;00m:\n\u001b[0;32m--> 502\u001b[0m     cons_columns \u001b[38;5;241m=\u001b[39m \u001b[43magg_df\u001b[49m\u001b[38;5;241;43m.\u001b[39;49m\u001b[43mselect\u001b[49m\u001b[43m(\u001b[49m\u001b[38;5;241;43m*\u001b[39;49m\u001b[43m[\u001b[49m\u001b[43mexpr\u001b[49m\u001b[38;5;241;43m.\u001b[39;49m\u001b[43malias\u001b[49m\u001b[43m(\u001b[49m\u001b[43msymbol\u001b[49m\u001b[43m)\u001b[49m\u001b[43m \u001b[49m\u001b[38;5;28;43;01mfor\u001b[39;49;00m\u001b[43m \u001b[49m\u001b[43msymbol\u001b[49m\u001b[43m,\u001b[49m\u001b[43m \u001b[49m\u001b[43mexpr\u001b[49m\u001b[43m \u001b[49m\u001b[38;5;129;43;01min\u001b[39;49;00m\u001b[43m \u001b[49m\u001b[38;5;28;43mself\u001b[39;49m\u001b[38;5;241;43m.\u001b[39;49m\u001b[43mconstraint_expressions\u001b[49m\u001b[43m]\u001b[49m\u001b[43m)\u001b[49m\n\u001b[1;32m    503\u001b[0m     agg_df \u001b[38;5;241m=\u001b[39m agg_df\u001b[38;5;241m.\u001b[39mhstack(cons_columns)\n\u001b[1;32m    505\u001b[0m \u001b[38;5;66;03m# Evaluate any scalarization functions and put the result in the aggregate dataframe\u001b[39;00m\n",
      "File \u001b[0;32m~/tyot/mop/desdeo/DESDEO/.venv/lib/python3.12/site-packages/polars/dataframe/frame.py:9029\u001b[0m, in \u001b[0;36mDataFrame.select\u001b[0;34m(self, *exprs, **named_exprs)\u001b[0m\n\u001b[1;32m   8929\u001b[0m \u001b[38;5;28;01mdef\u001b[39;00m \u001b[38;5;21mselect\u001b[39m(\n\u001b[1;32m   8930\u001b[0m     \u001b[38;5;28mself\u001b[39m, \u001b[38;5;241m*\u001b[39mexprs: IntoExpr \u001b[38;5;241m|\u001b[39m Iterable[IntoExpr], \u001b[38;5;241m*\u001b[39m\u001b[38;5;241m*\u001b[39mnamed_exprs: IntoExpr\n\u001b[1;32m   8931\u001b[0m ) \u001b[38;5;241m-\u001b[39m\u001b[38;5;241m>\u001b[39m DataFrame:\n\u001b[1;32m   8932\u001b[0m \u001b[38;5;250m    \u001b[39m\u001b[38;5;124;03m\"\"\"\u001b[39;00m\n\u001b[1;32m   8933\u001b[0m \u001b[38;5;124;03m    Select columns from this DataFrame.\u001b[39;00m\n\u001b[1;32m   8934\u001b[0m \n\u001b[0;32m   (...)\u001b[0m\n\u001b[1;32m   9027\u001b[0m \u001b[38;5;124;03m    └──────────────┘\u001b[39;00m\n\u001b[1;32m   9028\u001b[0m \u001b[38;5;124;03m    \"\"\"\u001b[39;00m\n\u001b[0;32m-> 9029\u001b[0m     \u001b[38;5;28;01mreturn\u001b[39;00m \u001b[38;5;28;43mself\u001b[39;49m\u001b[38;5;241;43m.\u001b[39;49m\u001b[43mlazy\u001b[49m\u001b[43m(\u001b[49m\u001b[43m)\u001b[49m\u001b[38;5;241;43m.\u001b[39;49m\u001b[43mselect\u001b[49m\u001b[43m(\u001b[49m\u001b[38;5;241;43m*\u001b[39;49m\u001b[43mexprs\u001b[49m\u001b[43m,\u001b[49m\u001b[43m \u001b[49m\u001b[38;5;241;43m*\u001b[39;49m\u001b[38;5;241;43m*\u001b[39;49m\u001b[43mnamed_exprs\u001b[49m\u001b[43m)\u001b[49m\u001b[38;5;241;43m.\u001b[39;49m\u001b[43mcollect\u001b[49m\u001b[43m(\u001b[49m\u001b[43m_eager\u001b[49m\u001b[38;5;241;43m=\u001b[39;49m\u001b[38;5;28;43;01mTrue\u001b[39;49;00m\u001b[43m)\u001b[49m\n",
      "File \u001b[0;32m~/tyot/mop/desdeo/DESDEO/.venv/lib/python3.12/site-packages/polars/lazyframe/frame.py:2029\u001b[0m, in \u001b[0;36mLazyFrame.collect\u001b[0;34m(self, type_coercion, predicate_pushdown, projection_pushdown, simplify_expression, slice_pushdown, comm_subplan_elim, comm_subexpr_elim, cluster_with_columns, collapse_joins, no_optimization, streaming, engine, background, _eager, **_kwargs)\u001b[0m\n\u001b[1;32m   2027\u001b[0m \u001b[38;5;66;03m# Only for testing purposes\u001b[39;00m\n\u001b[1;32m   2028\u001b[0m callback \u001b[38;5;241m=\u001b[39m _kwargs\u001b[38;5;241m.\u001b[39mget(\u001b[38;5;124m\"\u001b[39m\u001b[38;5;124mpost_opt_callback\u001b[39m\u001b[38;5;124m\"\u001b[39m, callback)\n\u001b[0;32m-> 2029\u001b[0m \u001b[38;5;28;01mreturn\u001b[39;00m wrap_df(\u001b[43mldf\u001b[49m\u001b[38;5;241;43m.\u001b[39;49m\u001b[43mcollect\u001b[49m\u001b[43m(\u001b[49m\u001b[43mcallback\u001b[49m\u001b[43m)\u001b[49m)\n",
      "\u001b[0;31mColumnNotFoundError\u001b[0m: _alpha\n\nResolved plan until failure:\n\n\t---> FAILED HERE RESOLVING 'select' <---\nDF [\"index\", \"stock\", \"harvest_value\", \"npv\"]; PROJECT */7 COLUMNS; SELECTION: None"
     ]
    }
   ],
   "source": [
    "from desdeo.problem.testproblems import forest_problem_discrete\n",
    "import polars as pl\n",
    "# TODO: update this\n",
    "forest_problem = forest_problem_discrete()  # or use forest_problem()\n",
    "total_steps = 5\n",
    "for i in range(3):\n",
    "    print(forest_problem.objectives[i].ideal)\n",
    "    print(forest_problem.objectives[i].nadir)\n",
    "\n",
    "initial_rp = {\n",
    "    \"stock\": 1000,\n",
    "    \"harvest_value\": 1000,\n",
    "    \"npv\": 80000,\n",
    "}\n",
    "# get some initial solution\n",
    "initial_result = generate_starting_point(forest_problem, initial_rp)\n",
    "\n",
    "next_current_solution = initial_result.optimal_objectives\n",
    "# ITERATION LOOP FOR LEARNING PHASE\n",
    "reference_points = {\n",
    "    \"DM1\": {\n",
    "        \"stock\": 1000,\n",
    "            \"harvest_value\": 1000,\n",
    "            \"npv\": 80000,\n",
    "        },\n",
    "        \"DM2\": {\n",
    "            \"stock\": 3000,\n",
    "            \"harvest_value\": 22200.5,\n",
    "            \"npv\": 72000,\n",
    "        },\n",
    "        \"DM3\": {\n",
    "            \"stock\": 2000,\n",
    "            \"harvest_value\": 50005,\n",
    "            \"npv\": 80000,\n",
    "        },\n",
    "        \"DM4\": {\n",
    "            \"stock\": 1500,\n",
    "            \"harvest_value\": 100,\n",
    "            \"npv\": 90000,\n",
    "        },\n",
    "        \"DM5\": {\n",
    "            \"stock\": 3200,\n",
    "            \"harvest_value\": 900,\n",
    "            \"npv\": 75000,\n",
    "        },\n",
    "}\n",
    "# TODO: learning phase\n",
    "num_desired = 5  # TODO: add more scalarization to get atleast 5 solutions.\n",
    "solutions = solve_sub_problems(\n",
    "    problem, next_current_solution, reference_points, num_desired, decision_phase=False,\n",
    ")\n",
    "for i in solutions:\n",
    "    print(solutions[i].optimal_objectives)\n",
    "votes_idx = {\n",
    "    \"DM1\": 1,\n",
    "    \"DM1\": 0,\n",
    "    \"DM1\": 3,\n",
    "    \"DM1\": 2,\n",
    "    \"DM1\": 3,\n",
    "}\n",
    "voted_sol = voting_procedure(votes_idx)\n",
    "next_current_solution = voted_sol\n",
    "print(next_current_solution)\n",
    "# ITERATION LOOP FOR DECISION PHASE\n",
    "reference_points = {\n",
    "\"DM1\": {\n",
    "    \"stock\": 1000,\n",
    "    \"harvest_value\": 1000,\n",
    "    \"npv\": 80000,\n",
    "},\n",
    "\"DM2\": {\n",
    "    \"stock\": 3000,\n",
    "    \"harvest_value\": 22200.5,\n",
    "    \"npv\": 72000,\n",
    "},\n",
    "\"DM3\": {\n",
    "    \"stock\": 2000,\n",
    "    \"harvest_value\": 50005,\n",
    "    \"npv\": 80000,\n",
    "},\n",
    "\"DM4\": {\n",
    "    \"stock\": 1500,\n",
    "        \"harvest_value\": 100,\n",
    "        \"npv\": 90000,\n",
    "    },\n",
    "\"DM5\": { \n",
    "        \"stock\": 3200,\n",
    "        \"harvest_value\": 900,\n",
    "        \"npv\": 75000,\n",
    "    },\n",
    "}\n",
    "# TODO: learning phase\n",
    "num_desired = 1\n",
    "solutions = solve_sub_problems(\n",
    "    problem, next_current_solution, reference_points, num_desired, decision_phase=True,\n",
    ")\n",
    "for i in solutions:\n",
    "    print(solutions[i].optimal_objectives)\n",
    "votes_idx = {\n",
    "    \"DM1\": 1,\n",
    "    \"DM1\": 0,\n",
    "    \"DM1\": 3,\n",
    "    \"DM1\": 2,\n",
    "    \"DM1\": 3,\n",
    "}\n",
    "voted_sol = voting_procedure(votes_idx)\n",
    "next_current_solution = voted_sol\n",
    "print(next_current_solution)"
   ]
  },
  {
   "cell_type": "code",
   "execution_count": null,
   "id": "0ddbda52-92ff-44c0-8d9b-1ecc01930e2d",
   "metadata": {},
   "outputs": [],
   "source": []
  },
  {
   "cell_type": "code",
   "execution_count": null,
   "id": "7670afce-c175-4dfd-891c-88bf6a420575",
   "metadata": {},
   "outputs": [],
   "source": []
  }
 ],
 "metadata": {
  "kernelspec": {
   "display_name": "desdeo2",
   "language": "python",
   "name": "desdeo2"
  },
  "language_info": {
   "codemirror_mode": {
    "name": "ipython",
    "version": 3
   },
   "file_extension": ".py",
   "mimetype": "text/x-python",
   "name": "python",
   "nbconvert_exporter": "python",
   "pygments_lexer": "ipython3",
   "version": "3.12.8"
  }
 },
 "nbformat": 4,
 "nbformat_minor": 5
}
