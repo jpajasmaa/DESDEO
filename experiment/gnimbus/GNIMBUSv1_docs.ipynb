{
 "cells": [
  {
   "cell_type": "markdown",
   "id": "1e10e68e-7fe9-42a9-ba8e-4b0309f4566d",
   "metadata": {},
   "source": [
    "# DOCUMENTATION FOR GNIMBUS v1"
   ]
  },
  {
   "cell_type": "code",
   "execution_count": 1,
   "id": "953adf9c-578a-4dc2-bdd4-aa5ec6e64cfe",
   "metadata": {
    "jupyter": {
     "source_hidden": true
    }
   },
   "outputs": [],
   "source": [
    "# TODO: sort imports\n",
    "\n",
    "import numpy as np\n",
    "import desdeo\n",
    "from desdeo.problem import (PolarsEvaluator, Problem, VariableType,\n",
    "                            variable_dict_to_numpy_array, Constraint,\n",
    "                            ConstraintTypeEnum, Variable, VariableTypeEnum, ScalarizationFunction\n",
    "                            )\n",
    "from desdeo.tools.utils import (\n",
    "    get_corrected_ideal_and_nadir,\n",
    "    get_corrected_reference_point,\n",
    ")\n",
    "from desdeo.tools.scalarization import objective_dict_has_all_symbols\n",
    "\n",
    "from desdeo.problem.testproblems import dtlz2, nimbus_test_problem\n",
    "\n",
    "from gnimbus import (explain, voting_procedure, infer_classifications, agg_cardinal, infer_ordinal_classifications,\n",
    "                     solve_intermediate_solutions, solve_sub_problems, convert_to_nimbus_classification, add_group_nimbusv2_sf_diff,\n",
    "                     list_of_rps_to_dict_of_rps, dict_of_rps_to_list_of_rps)\n",
    "\n",
    "from desdeo.problem import dtlz2, nimbus_test_problem, zdt1, zdt2\n",
    "from desdeo.tools import IpoptOptions, PyomoIpoptSolver, add_asf_diff\n",
    "\n",
    "from aggregate_classifications import aggregate_classifications\n",
    "\n",
    "\n",
    "from desdeo.tools import (\n",
    "    BaseSolver,\n",
    "    SolverOptions,\n",
    "    SolverResults,\n",
    "    add_group_asf_diff,\n",
    "    add_group_asf,\n",
    "    add_group_guess_sf_diff,\n",
    "    add_group_guess_sf,\n",
    "    add_group_nimbus_sf_diff,\n",
    "    add_group_nimbus_sf,\n",
    "    add_group_stom_sf_diff,\n",
    "    add_group_stom_sf,\n",
    "    guess_best_solver,\n",
    "    add_asf_diff,\n",
    "    ScalarizationError,\n",
    "    add_nimbus_sf_diff, add_nimbus_sf_nondiff\n",
    ")\n",
    "from desdeo.mcdm.nimbus import (\n",
    "    generate_starting_point,\n",
    "    infer_classifications,\n",
    "    NimbusError\n",
    ")\n",
    "\n",
    "from aggregate_classifications import aggregate_classifications"
   ]
  },
  {
   "cell_type": "markdown",
   "id": "3a3f264c-a04b-47d9-a6da-8c6fd9698609",
   "metadata": {},
   "source": [
    "## Setting up the problem\n",
    "\n",
    "Set up the problem normally and use nimbus generate_starting_point."
   ]
  },
  {
   "cell_type": "code",
   "execution_count": 2,
   "id": "ea25b6d1-9fbd-4b8a-8368-975916ab92fc",
   "metadata": {},
   "outputs": [
    {
     "name": "stderr",
     "output_type": "stream",
     "text": [
      "/home/jp/tyot/mop/desdeo/DESDEO/.venv/lib/python3.12/site-packages/pydantic/main.py:421: UserWarning: Pydantic serializer warnings:\n",
      "  Expected `str` but got `int` with value `5` - serialized value may not be as expected\n",
      "  return self.__pydantic_serializer__.to_python(\n"
     ]
    },
    {
     "data": {
      "text/plain": [
       "{'f_1': 0.38509817535988233,\n",
       " 'f_2': 0.48509817753491596,\n",
       " 'f_3': 0.7850981807944739}"
      ]
     },
     "execution_count": 2,
     "metadata": {},
     "output_type": "execute_result"
    }
   ],
   "source": [
    "n_variables = 8\n",
    "n_objectives = 3\n",
    "problem = dtlz2(n_variables, n_objectives)\n",
    "solver_options = IpoptOptions()\n",
    "# get some initial solution\n",
    "initial_rp = {\n",
    "    \"f_1\": 0.4, \"f_2\": 0.5, \"f_3\": 0.8\n",
    "}\n",
    "initial_result = generate_starting_point(problem, initial_rp)\n",
    "initial_fs = initial_result.optimal_objectives\n",
    "initial_fs"
   ]
  },
  {
   "cell_type": "markdown",
   "id": "b0eecb86-0bbe-4f12-b75d-49cd1f86bd55",
   "metadata": {},
   "source": [
    "## Learning phase"
   ]
  },
  {
   "cell_type": "markdown",
   "id": "257ef1b0-c724-45a5-87d1-23b927d4d865",
   "metadata": {},
   "source": [
    "### The solution process starts with the learning phase. \n",
    "\n",
    "We iterate until the DMs wish to go to the decision phase or based on a \"stopping\" criterion. For example, let us run 3 iterations."
   ]
  },
  {
   "cell_type": "code",
   "execution_count": 3,
   "id": "01171c8f-582c-46ed-894e-f631006755f7",
   "metadata": {},
   "outputs": [
    {
     "name": "stdout",
     "output_type": "stream",
     "text": [
      "initial solution: {'f_1': 0.38509817535988233, 'f_2': 0.48509817753491596, 'f_3': 0.7850981807944739}\n"
     ]
    }
   ],
   "source": [
    "# for first iteration\n",
    "next_current_solution = initial_result.optimal_objectives\n",
    "print(f\"initial solution: {next_current_solution}\")"
   ]
  },
  {
   "cell_type": "markdown",
   "id": "7a5e7bd5-d291-4baa-a4c1-9ffacc79e2d7",
   "metadata": {},
   "source": [
    "## ITERATION STARTS HERE"
   ]
  },
  {
   "cell_type": "markdown",
   "id": "e106cb3f-38bd-4e3d-b345-9317bb79d354",
   "metadata": {},
   "source": [
    "#### PREFERENCES"
   ]
  },
  {
   "cell_type": "code",
   "execution_count": 4,
   "id": "4b78ab86-ff41-4034-8d6c-2540fd27027d",
   "metadata": {},
   "outputs": [],
   "source": [
    "dms_rps = {\n",
    "    \"DM1\": {\"f_1\": 0.0, \"f_2\": next_current_solution[\"f_2\"], \"f_3\": 1},  # improve f_1, keep f_2 same, impair f_3\n",
    "    \"DM2\": {\"f_1\": 0.3, \"f_2\": 1, \"f_3\": 0.5},  # improve f_1 to 0.3, impair f_2, improve f_3 to 0.5\n",
    "    \"DM3\": {\"f_1\": 0.5, \"f_2\": 0.6, \"f_3\": 0.0},  # impair f_1 to 0.5, impair f_2 to 0.6, improve f_3\n",
    "}"
   ]
  },
  {
   "cell_type": "markdown",
   "id": "19da112e-d3c7-4487-9f84-f7d8cb1c7975",
   "metadata": {},
   "source": [
    "### Run iteration\n",
    "\n",
    "GNIMBUS solve_sub_problems solves the MOP by using different scalarization functions. Currently, the list involves group_nimbus, group_stom, group_asf and group_guess. Adding more scalarization functions to this can be done easily."
   ]
  },
  {
   "cell_type": "code",
   "execution_count": 5,
   "id": "c414c13b-6fdb-4cf2-b258-5de381dc14fb",
   "metadata": {
    "scrolled": true
   },
   "outputs": [
    {
     "name": "stdout",
     "output_type": "stream",
     "text": [
      "RPS {'f_1': 0.0, 'f_2': 0.48509817753491596, 'f_3': 1}\n",
      "RPS {'f_1': 0.3, 'f_2': 1, 'f_3': 0.5}\n",
      "RPS {'f_1': 0.5, 'f_2': 0.6, 'f_3': 0.0}\n"
     ]
    },
    {
     "name": "stderr",
     "output_type": "stream",
     "text": [
      "/home/jp/tyot/mop/desdeo/DESDEO/.venv/lib/python3.12/site-packages/pydantic/main.py:421: UserWarning: Pydantic serializer warnings:\n",
      "  Expected `str` but got `int` with value `5` - serialized value may not be as expected\n",
      "  return self.__pydantic_serializer__.to_python(\n"
     ]
    },
    {
     "name": "stdout",
     "output_type": "stream",
     "text": [
      "Solution: {'f_1': 0.3850981774079426, 'f_2': 0.4850981843785722, 'f_3': 0.7850981755613075}\n",
      "Solution: {'f_1': -1.505131080309009e-08, 'f_2': 0.9999999999999998, 'f_3': -1.161604257791914e-08}\n",
      "Solution: {'f_1': 0.36843261262452104, 'f_2': 0.8535307961578433, 'f_3': 0.3684326125152709}\n",
      "Solution: {'f_1': 0.9999999999999998, 'f_2': -1.3202070904492745e-08, 'f_3': -1.3202067299885665e-08}\n"
     ]
    }
   ],
   "source": [
    "num_desired = 4\n",
    "solutions = solve_sub_problems(\n",
    "    problem, next_current_solution, dms_rps, num_desired, decision_phase=False, create_solver=PyomoIpoptSolver, solver_options=solver_options\n",
    ")\n",
    "for s in solutions:\n",
    "    print(f\"Solution: {s.optimal_objectives}\")\n",
    "\n",
    "gnimbus = solutions[0].optimal_objectives\n",
    "gstom = solutions[1].optimal_objectives\n",
    "gasf = solutions[2].optimal_objectives\n",
    "gguess = solutions[3].optimal_objectives"
   ]
  },
  {
   "cell_type": "markdown",
   "id": "2707661c-a987-467a-a885-649372f7b4f2",
   "metadata": {},
   "source": [
    "### Select the next current iteration point by voting procedure"
   ]
  },
  {
   "cell_type": "markdown",
   "id": "3befefde-f214-44ab-b40c-1f90f068aab0",
   "metadata": {},
   "source": [
    "Voting procedure combines existing voting rules tried in the following order:\n",
    "- Majority rule\n",
    "- plurality rule\n",
    "- if two solutions with most votes: we find intermediate solution\n",
    "- if none above applies, we select the group_nimbus solution."
   ]
  },
  {
   "cell_type": "code",
   "execution_count": 6,
   "id": "79ee90c3-102e-4bb7-805a-7e036775ef91",
   "metadata": {},
   "outputs": [
    {
     "name": "stdout",
     "output_type": "stream",
     "text": [
      "Majority winner 2\n",
      "next current solution: {'f_1': 0.36843261262452104, 'f_2': 0.8535307961578433, 'f_3': 0.3684326125152709}\n"
     ]
    }
   ],
   "source": [
    "votes_idxs = {\n",
    "        \"DM1\": 1,\n",
    "        \"DM2\": 2,\n",
    "        \"DM3\": 2,\n",
    "}\n",
    "voting_res = voting_procedure(problem, solutions, votes_idxs)\n",
    "next_current_solution = voting_res.optimal_objectives\n",
    "print(\"next current solution:\", next_current_solution)"
   ]
  },
  {
   "cell_type": "markdown",
   "id": "ee7c86f9-a9f4-4dde-a4b5-360860ff3917",
   "metadata": {},
   "source": [
    "### Go to next iteration or move to decision phase"
   ]
  },
  {
   "cell_type": "markdown",
   "id": "19f5d5a8-9b60-4ee8-b85e-cf07b8e7dcb8",
   "metadata": {},
   "source": [
    "# \"Decision phase\""
   ]
  },
  {
   "cell_type": "code",
   "execution_count": 7,
   "id": "42526abf-9ee3-4226-a6dd-59157544cb08",
   "metadata": {},
   "outputs": [],
   "source": [
    "# for other iterations\n",
    "dms_rps = {\n",
    "    \"DM1\": {\"f_1\": 0.3, \"f_2\": 0.6, \"f_3\": 0.6},\n",
    "    \"DM2\": {\"f_1\": 0.3, \"f_2\": 0.2, \"f_3\": 0.5},\n",
    "    \"DM3\": {\"f_1\": 0.4, \"f_2\": 0.1, \"f_3\": 0.4},\n",
    "}"
   ]
  },
  {
   "cell_type": "markdown",
   "id": "bcf45d21-4b8a-4b70-ac26-2bfa85ff57e6",
   "metadata": {},
   "source": [
    "### Let us only propose one solution found by group nimbus which respects each DMs bounds.\n",
    "\n",
    "We set decision phase = True to only use group_nimbus. Currently the num desired does not matter, but later may be useful."
   ]
  },
  {
   "cell_type": "code",
   "execution_count": 8,
   "id": "7d0ee714-7345-4f7b-ba9e-8fb5fe603568",
   "metadata": {},
   "outputs": [
    {
     "name": "stdout",
     "output_type": "stream",
     "text": [
      "RPS {'f_1': 0.3, 'f_2': 0.6, 'f_3': 0.6}\n",
      "RPS {'f_1': 0.3, 'f_2': 0.2, 'f_3': 0.5}\n",
      "RPS {'f_1': 0.4, 'f_2': 0.1, 'f_3': 0.4}\n",
      "Final solution candidate: {'f_1': 0.36843260937649824, 'f_2': 0.8392004584885355, 'f_3': 0.4000000035258208}\n"
     ]
    }
   ],
   "source": [
    "num_desired = 1 \n",
    "solutions = solve_sub_problems(\n",
    "    problem, next_current_solution, dms_rps, num_desired, decision_phase=True, create_solver=PyomoIpoptSolver, solver_options=solver_options\n",
    ")\n",
    "gnimbus_solution = solutions[0].optimal_objectives\n",
    "print(\"Final solution candidate:\", gnimbus_solution)"
   ]
  },
  {
   "cell_type": "markdown",
   "id": "03406033-6fa7-4710-8aca-a3761d801097",
   "metadata": {},
   "source": [
    "# Ask if the DMs agree upon the final solution. Otherwise go to group discussion."
   ]
  },
  {
   "cell_type": "markdown",
   "id": "c25afa7c-35b8-4408-b841-ff8b50d32bbd",
   "metadata": {},
   "source": [
    "# Group discussion:\n",
    "Goal is to help the DMs understand what is going on and what can they do about it, for example, why the found solution does not differ too much from the current one and how they should adjust their preferences if they are not willing to stop with this solution but find something different.\n",
    "\n",
    "- give DMs information about the state; what is achievable and what is not, unless preferences are changed. explain why not moving etc.\n",
    "- Nudge or ask DMs to adjust their preferences to find better suiting solutions for the group.\n",
    "- Finally, set next_current_solution to gnimbus_solution and go back to DMs giving preferences for the next iteration"
   ]
  },
  {
   "cell_type": "code",
   "execution_count": 9,
   "id": "2b94c256-7ad9-4ea4-9d98-b59d8a5322c1",
   "metadata": {},
   "outputs": [],
   "source": [
    "next_current_solution = gnimbus_solution"
   ]
  }
 ],
 "metadata": {
  "kernelspec": {
   "display_name": "desdeo2",
   "language": "python",
   "name": "desdeo2"
  },
  "language_info": {
   "codemirror_mode": {
    "name": "ipython",
    "version": 3
   },
   "file_extension": ".py",
   "mimetype": "text/x-python",
   "name": "python",
   "nbconvert_exporter": "python",
   "pygments_lexer": "ipython3",
   "version": "3.12.8"
  }
 },
 "nbformat": 4,
 "nbformat_minor": 5
}
